{
 "cells": [
  {
   "cell_type": "markdown",
   "metadata": {},
   "source": [
    "# analysis of the gaming products market"
   ]
  },
  {
   "cell_type": "markdown",
   "metadata": {},
   "source": [
    "<h1>содержание<span class=\"tocSkip\"></span></h1>\n",
    "<div class=\"toc\"><ul class=\"toc-item\"><li><span><a href=\"#Изучение-данных-из-файла\" data-toc-modified-id=\"Изучение-данных-из-файла-1\"><span class=\"toc-item-num\">1&nbsp;&nbsp;</span>Изучение данных из файла</a></span><ul class=\"toc-item\"><li><span><a href=\"#Вывод\" data-toc-modified-id=\"Вывод-1.1\"><span class=\"toc-item-num\">1.1&nbsp;&nbsp;</span>Вывод</a></span></li></ul></li><li><span><a href=\"#Предобработка-данных\" data-toc-modified-id=\"Предобработка-данных-2\"><span class=\"toc-item-num\">2&nbsp;&nbsp;</span>Предобработка данных</a></span></li><li><span><a href=\"#Исследовательский-анализ-данных\" data-toc-modified-id=\"Исследовательский-анализ-данных-3\"><span class=\"toc-item-num\">3&nbsp;&nbsp;</span>Исследовательский анализ данных</a></span></li><li><span><a href=\"#Портрет-пользователя\" data-toc-modified-id=\"Портрет-пользователя-4\"><span class=\"toc-item-num\">4&nbsp;&nbsp;</span>Портрет пользователя</a></span></li><li><span><a href=\"#Проверка-гипотез\" data-toc-modified-id=\"Проверка-гипотез-5\"><span class=\"toc-item-num\">5&nbsp;&nbsp;</span>Проверка гипотез</a></span></li><li><span><a href=\"#Общий-вывод\" data-toc-modified-id=\"Общий-вывод-5\"><span class=\"toc-item-num\">6&nbsp;&nbsp;</span>Общий вывод</a></span></li><li><span><a href=\"#Чек-лист-готовности-проекта\" data-toc-modified-id=\"Чек-лист-готовности-проекта-6\"><span class=\"toc-item-num\">7&nbsp;&nbsp;</span>Чек-лист готовности проекта</a></span></li></ul></div>"
   ]
  },
  {
   "cell_type": "markdown",
   "metadata": {},
   "source": [
    "### Описание проекта \n",
    "\n",
    "Вы работаете в интернет-магазине «Стримчик», который продаёт по всему миру компьютерные игры. Из открытых источников доступны исторические данные о продажах игр, оценки пользователей и экспертов, жанры и платформы (например, Xbox или PlayStation). Вам нужно выявить определяющие успешность игры закономерности. Это позволит сделать ставку на потенциально популярный продукт и спланировать рекламные кампании. Перед вами данные до 2016 года. Представим, что сейчас декабрь 2016 г., и вы планируете кампанию на 2017-й. Нужно отработать принцип работы с данными. Неважно, прогнозируете ли вы продажи на 2017 год по данным 2016-го или же 2027-й — по данным 2026 года. В наборе данных попадается аббревиатура ESRB (Entertainment Software Rating Board) — это ассоциация, определяющая возрастной рейтинг компьютерных игр. ESRB оценивает игровой контент и присваивает ему подходящую возрастную категорию, например, «Для взрослых», «Для детей младшего возраста» или «Для подростков»."
   ]
  },
  {
   "cell_type": "markdown",
   "metadata": {},
   "source": [
    "## Изучение данных из файла"
   ]
  },
  {
   "cell_type": "code",
   "execution_count": 1,
   "metadata": {},
   "outputs": [],
   "source": [
    "# импортирую библиотеку pandas как главного инструмента для решения поставленных задач\n",
    "import pandas as pd\n",
    "# импортирую библиотеку seaborn как главного инструмента для визуализации\n",
    "import seaborn as sns\n",
    "# импортирую библиотеку matplotlib для визуализации\n",
    "import matplotlib.pyplot as plt\n",
    "# выберу стиль для plt инструментов\n",
    "plt.style.use('ggplot')\n",
    "# импортирую библиотеку scipy для выполнения научных и инженерных расчётов\n",
    "from scipy import stats as st\n",
    "# импортирую библиотеку для работы со временем\n",
    "from datetime import datetime\n",
    "# импортирую библиотеку для работы с массивами данных\n",
    "import numpy as np"
   ]
  },
  {
   "cell_type": "code",
   "execution_count": 4,
   "metadata": {},
   "outputs": [],
   "source": [
    "# открываем файл\n",
    "df = pd.read_csv('/datasets/games.csv')"
   ]
  },
  {
   "cell_type": "code",
   "execution_count": 5,
   "metadata": {},
   "outputs": [
    {
     "data": {
      "text/html": [
       "<div>\n",
       "<style scoped>\n",
       "    .dataframe tbody tr th:only-of-type {\n",
       "        vertical-align: middle;\n",
       "    }\n",
       "\n",
       "    .dataframe tbody tr th {\n",
       "        vertical-align: top;\n",
       "    }\n",
       "\n",
       "    .dataframe thead th {\n",
       "        text-align: right;\n",
       "    }\n",
       "</style>\n",
       "<table border=\"1\" class=\"dataframe\">\n",
       "  <thead>\n",
       "    <tr style=\"text-align: right;\">\n",
       "      <th></th>\n",
       "      <th>Name</th>\n",
       "      <th>Platform</th>\n",
       "      <th>Year_of_Release</th>\n",
       "      <th>Genre</th>\n",
       "      <th>NA_sales</th>\n",
       "      <th>EU_sales</th>\n",
       "      <th>JP_sales</th>\n",
       "      <th>Other_sales</th>\n",
       "      <th>Critic_Score</th>\n",
       "      <th>User_Score</th>\n",
       "      <th>Rating</th>\n",
       "    </tr>\n",
       "  </thead>\n",
       "  <tbody>\n",
       "    <tr>\n",
       "      <td>0</td>\n",
       "      <td>Wii Sports</td>\n",
       "      <td>Wii</td>\n",
       "      <td>2006.0</td>\n",
       "      <td>Sports</td>\n",
       "      <td>41.36</td>\n",
       "      <td>28.96</td>\n",
       "      <td>3.77</td>\n",
       "      <td>8.45</td>\n",
       "      <td>76.0</td>\n",
       "      <td>8</td>\n",
       "      <td>E</td>\n",
       "    </tr>\n",
       "    <tr>\n",
       "      <td>1</td>\n",
       "      <td>Super Mario Bros.</td>\n",
       "      <td>NES</td>\n",
       "      <td>1985.0</td>\n",
       "      <td>Platform</td>\n",
       "      <td>29.08</td>\n",
       "      <td>3.58</td>\n",
       "      <td>6.81</td>\n",
       "      <td>0.77</td>\n",
       "      <td>NaN</td>\n",
       "      <td>NaN</td>\n",
       "      <td>NaN</td>\n",
       "    </tr>\n",
       "    <tr>\n",
       "      <td>2</td>\n",
       "      <td>Mario Kart Wii</td>\n",
       "      <td>Wii</td>\n",
       "      <td>2008.0</td>\n",
       "      <td>Racing</td>\n",
       "      <td>15.68</td>\n",
       "      <td>12.76</td>\n",
       "      <td>3.79</td>\n",
       "      <td>3.29</td>\n",
       "      <td>82.0</td>\n",
       "      <td>8.3</td>\n",
       "      <td>E</td>\n",
       "    </tr>\n",
       "    <tr>\n",
       "      <td>3</td>\n",
       "      <td>Wii Sports Resort</td>\n",
       "      <td>Wii</td>\n",
       "      <td>2009.0</td>\n",
       "      <td>Sports</td>\n",
       "      <td>15.61</td>\n",
       "      <td>10.93</td>\n",
       "      <td>3.28</td>\n",
       "      <td>2.95</td>\n",
       "      <td>80.0</td>\n",
       "      <td>8</td>\n",
       "      <td>E</td>\n",
       "    </tr>\n",
       "    <tr>\n",
       "      <td>4</td>\n",
       "      <td>Pokemon Red/Pokemon Blue</td>\n",
       "      <td>GB</td>\n",
       "      <td>1996.0</td>\n",
       "      <td>Role-Playing</td>\n",
       "      <td>11.27</td>\n",
       "      <td>8.89</td>\n",
       "      <td>10.22</td>\n",
       "      <td>1.00</td>\n",
       "      <td>NaN</td>\n",
       "      <td>NaN</td>\n",
       "      <td>NaN</td>\n",
       "    </tr>\n",
       "    <tr>\n",
       "      <td>5</td>\n",
       "      <td>Tetris</td>\n",
       "      <td>GB</td>\n",
       "      <td>1989.0</td>\n",
       "      <td>Puzzle</td>\n",
       "      <td>23.20</td>\n",
       "      <td>2.26</td>\n",
       "      <td>4.22</td>\n",
       "      <td>0.58</td>\n",
       "      <td>NaN</td>\n",
       "      <td>NaN</td>\n",
       "      <td>NaN</td>\n",
       "    </tr>\n",
       "    <tr>\n",
       "      <td>6</td>\n",
       "      <td>New Super Mario Bros.</td>\n",
       "      <td>DS</td>\n",
       "      <td>2006.0</td>\n",
       "      <td>Platform</td>\n",
       "      <td>11.28</td>\n",
       "      <td>9.14</td>\n",
       "      <td>6.50</td>\n",
       "      <td>2.88</td>\n",
       "      <td>89.0</td>\n",
       "      <td>8.5</td>\n",
       "      <td>E</td>\n",
       "    </tr>\n",
       "    <tr>\n",
       "      <td>7</td>\n",
       "      <td>Wii Play</td>\n",
       "      <td>Wii</td>\n",
       "      <td>2006.0</td>\n",
       "      <td>Misc</td>\n",
       "      <td>13.96</td>\n",
       "      <td>9.18</td>\n",
       "      <td>2.93</td>\n",
       "      <td>2.84</td>\n",
       "      <td>58.0</td>\n",
       "      <td>6.6</td>\n",
       "      <td>E</td>\n",
       "    </tr>\n",
       "    <tr>\n",
       "      <td>8</td>\n",
       "      <td>New Super Mario Bros. Wii</td>\n",
       "      <td>Wii</td>\n",
       "      <td>2009.0</td>\n",
       "      <td>Platform</td>\n",
       "      <td>14.44</td>\n",
       "      <td>6.94</td>\n",
       "      <td>4.70</td>\n",
       "      <td>2.24</td>\n",
       "      <td>87.0</td>\n",
       "      <td>8.4</td>\n",
       "      <td>E</td>\n",
       "    </tr>\n",
       "    <tr>\n",
       "      <td>9</td>\n",
       "      <td>Duck Hunt</td>\n",
       "      <td>NES</td>\n",
       "      <td>1984.0</td>\n",
       "      <td>Shooter</td>\n",
       "      <td>26.93</td>\n",
       "      <td>0.63</td>\n",
       "      <td>0.28</td>\n",
       "      <td>0.47</td>\n",
       "      <td>NaN</td>\n",
       "      <td>NaN</td>\n",
       "      <td>NaN</td>\n",
       "    </tr>\n",
       "  </tbody>\n",
       "</table>\n",
       "</div>"
      ],
      "text/plain": [
       "                        Name Platform  Year_of_Release         Genre  \\\n",
       "0                 Wii Sports      Wii           2006.0        Sports   \n",
       "1          Super Mario Bros.      NES           1985.0      Platform   \n",
       "2             Mario Kart Wii      Wii           2008.0        Racing   \n",
       "3          Wii Sports Resort      Wii           2009.0        Sports   \n",
       "4   Pokemon Red/Pokemon Blue       GB           1996.0  Role-Playing   \n",
       "5                     Tetris       GB           1989.0        Puzzle   \n",
       "6      New Super Mario Bros.       DS           2006.0      Platform   \n",
       "7                   Wii Play      Wii           2006.0          Misc   \n",
       "8  New Super Mario Bros. Wii      Wii           2009.0      Platform   \n",
       "9                  Duck Hunt      NES           1984.0       Shooter   \n",
       "\n",
       "   NA_sales  EU_sales  JP_sales  Other_sales  Critic_Score User_Score Rating  \n",
       "0     41.36     28.96      3.77         8.45          76.0          8      E  \n",
       "1     29.08      3.58      6.81         0.77           NaN        NaN    NaN  \n",
       "2     15.68     12.76      3.79         3.29          82.0        8.3      E  \n",
       "3     15.61     10.93      3.28         2.95          80.0          8      E  \n",
       "4     11.27      8.89     10.22         1.00           NaN        NaN    NaN  \n",
       "5     23.20      2.26      4.22         0.58           NaN        NaN    NaN  \n",
       "6     11.28      9.14      6.50         2.88          89.0        8.5      E  \n",
       "7     13.96      9.18      2.93         2.84          58.0        6.6      E  \n",
       "8     14.44      6.94      4.70         2.24          87.0        8.4      E  \n",
       "9     26.93      0.63      0.28         0.47           NaN        NaN    NaN  "
      ]
     },
     "execution_count": 5,
     "metadata": {},
     "output_type": "execute_result"
    }
   ],
   "source": [
    "# начинаем изучать файл\n",
    "df.head(10)"
   ]
  },
  {
   "cell_type": "markdown",
   "metadata": {},
   "source": [
    "<div style=\"border:solid DarkCyan 3px; padding: 20px\"> Первичный осмотр показывает, что фрейм данных нуждается в серьезной предообработки.  </div> "
   ]
  },
  {
   "cell_type": "code",
   "execution_count": 6,
   "metadata": {},
   "outputs": [
    {
     "data": {
      "text/html": [
       "<div>\n",
       "<style scoped>\n",
       "    .dataframe tbody tr th:only-of-type {\n",
       "        vertical-align: middle;\n",
       "    }\n",
       "\n",
       "    .dataframe tbody tr th {\n",
       "        vertical-align: top;\n",
       "    }\n",
       "\n",
       "    .dataframe thead th {\n",
       "        text-align: right;\n",
       "    }\n",
       "</style>\n",
       "<table border=\"1\" class=\"dataframe\">\n",
       "  <thead>\n",
       "    <tr style=\"text-align: right;\">\n",
       "      <th></th>\n",
       "      <th>Name</th>\n",
       "      <th>Platform</th>\n",
       "      <th>Year_of_Release</th>\n",
       "      <th>Genre</th>\n",
       "      <th>NA_sales</th>\n",
       "      <th>EU_sales</th>\n",
       "      <th>JP_sales</th>\n",
       "      <th>Other_sales</th>\n",
       "      <th>Critic_Score</th>\n",
       "      <th>User_Score</th>\n",
       "      <th>Rating</th>\n",
       "    </tr>\n",
       "  </thead>\n",
       "  <tbody>\n",
       "    <tr>\n",
       "      <td>16700</td>\n",
       "      <td>Mezase!! Tsuri Master DS</td>\n",
       "      <td>DS</td>\n",
       "      <td>2009.0</td>\n",
       "      <td>Sports</td>\n",
       "      <td>0.00</td>\n",
       "      <td>0.00</td>\n",
       "      <td>0.01</td>\n",
       "      <td>0.0</td>\n",
       "      <td>NaN</td>\n",
       "      <td>NaN</td>\n",
       "      <td>NaN</td>\n",
       "    </tr>\n",
       "    <tr>\n",
       "      <td>16701</td>\n",
       "      <td>Eiyuu Densetsu: Sora no Kiseki Material Collec...</td>\n",
       "      <td>PSP</td>\n",
       "      <td>2007.0</td>\n",
       "      <td>Role-Playing</td>\n",
       "      <td>0.00</td>\n",
       "      <td>0.00</td>\n",
       "      <td>0.01</td>\n",
       "      <td>0.0</td>\n",
       "      <td>NaN</td>\n",
       "      <td>NaN</td>\n",
       "      <td>NaN</td>\n",
       "    </tr>\n",
       "    <tr>\n",
       "      <td>16702</td>\n",
       "      <td>STORM: Frontline Nation</td>\n",
       "      <td>PC</td>\n",
       "      <td>2011.0</td>\n",
       "      <td>Strategy</td>\n",
       "      <td>0.00</td>\n",
       "      <td>0.01</td>\n",
       "      <td>0.00</td>\n",
       "      <td>0.0</td>\n",
       "      <td>60.0</td>\n",
       "      <td>7.2</td>\n",
       "      <td>E10+</td>\n",
       "    </tr>\n",
       "    <tr>\n",
       "      <td>16703</td>\n",
       "      <td>Strawberry Nauts</td>\n",
       "      <td>PSV</td>\n",
       "      <td>2016.0</td>\n",
       "      <td>Adventure</td>\n",
       "      <td>0.00</td>\n",
       "      <td>0.00</td>\n",
       "      <td>0.01</td>\n",
       "      <td>0.0</td>\n",
       "      <td>NaN</td>\n",
       "      <td>NaN</td>\n",
       "      <td>NaN</td>\n",
       "    </tr>\n",
       "    <tr>\n",
       "      <td>16704</td>\n",
       "      <td>Plushees</td>\n",
       "      <td>DS</td>\n",
       "      <td>2008.0</td>\n",
       "      <td>Simulation</td>\n",
       "      <td>0.01</td>\n",
       "      <td>0.00</td>\n",
       "      <td>0.00</td>\n",
       "      <td>0.0</td>\n",
       "      <td>NaN</td>\n",
       "      <td>tbd</td>\n",
       "      <td>E</td>\n",
       "    </tr>\n",
       "    <tr>\n",
       "      <td>16705</td>\n",
       "      <td>15 Days</td>\n",
       "      <td>PC</td>\n",
       "      <td>2009.0</td>\n",
       "      <td>Adventure</td>\n",
       "      <td>0.00</td>\n",
       "      <td>0.01</td>\n",
       "      <td>0.00</td>\n",
       "      <td>0.0</td>\n",
       "      <td>63.0</td>\n",
       "      <td>5.8</td>\n",
       "      <td>NaN</td>\n",
       "    </tr>\n",
       "    <tr>\n",
       "      <td>16706</td>\n",
       "      <td>Men in Black II: Alien Escape</td>\n",
       "      <td>GC</td>\n",
       "      <td>2003.0</td>\n",
       "      <td>Shooter</td>\n",
       "      <td>0.01</td>\n",
       "      <td>0.00</td>\n",
       "      <td>0.00</td>\n",
       "      <td>0.0</td>\n",
       "      <td>NaN</td>\n",
       "      <td>tbd</td>\n",
       "      <td>T</td>\n",
       "    </tr>\n",
       "    <tr>\n",
       "      <td>16707</td>\n",
       "      <td>Aiyoku no Eustia</td>\n",
       "      <td>PSV</td>\n",
       "      <td>2014.0</td>\n",
       "      <td>Misc</td>\n",
       "      <td>0.00</td>\n",
       "      <td>0.00</td>\n",
       "      <td>0.01</td>\n",
       "      <td>0.0</td>\n",
       "      <td>NaN</td>\n",
       "      <td>NaN</td>\n",
       "      <td>NaN</td>\n",
       "    </tr>\n",
       "    <tr>\n",
       "      <td>16708</td>\n",
       "      <td>Woody Woodpecker in Crazy Castle 5</td>\n",
       "      <td>GBA</td>\n",
       "      <td>2002.0</td>\n",
       "      <td>Platform</td>\n",
       "      <td>0.01</td>\n",
       "      <td>0.00</td>\n",
       "      <td>0.00</td>\n",
       "      <td>0.0</td>\n",
       "      <td>NaN</td>\n",
       "      <td>NaN</td>\n",
       "      <td>NaN</td>\n",
       "    </tr>\n",
       "    <tr>\n",
       "      <td>16709</td>\n",
       "      <td>SCORE International Baja 1000: The Official Game</td>\n",
       "      <td>PS2</td>\n",
       "      <td>2008.0</td>\n",
       "      <td>Racing</td>\n",
       "      <td>0.00</td>\n",
       "      <td>0.00</td>\n",
       "      <td>0.00</td>\n",
       "      <td>0.0</td>\n",
       "      <td>NaN</td>\n",
       "      <td>NaN</td>\n",
       "      <td>NaN</td>\n",
       "    </tr>\n",
       "    <tr>\n",
       "      <td>16710</td>\n",
       "      <td>Samurai Warriors: Sanada Maru</td>\n",
       "      <td>PS3</td>\n",
       "      <td>2016.0</td>\n",
       "      <td>Action</td>\n",
       "      <td>0.00</td>\n",
       "      <td>0.00</td>\n",
       "      <td>0.01</td>\n",
       "      <td>0.0</td>\n",
       "      <td>NaN</td>\n",
       "      <td>NaN</td>\n",
       "      <td>NaN</td>\n",
       "    </tr>\n",
       "    <tr>\n",
       "      <td>16711</td>\n",
       "      <td>LMA Manager 2007</td>\n",
       "      <td>X360</td>\n",
       "      <td>2006.0</td>\n",
       "      <td>Sports</td>\n",
       "      <td>0.00</td>\n",
       "      <td>0.01</td>\n",
       "      <td>0.00</td>\n",
       "      <td>0.0</td>\n",
       "      <td>NaN</td>\n",
       "      <td>NaN</td>\n",
       "      <td>NaN</td>\n",
       "    </tr>\n",
       "    <tr>\n",
       "      <td>16712</td>\n",
       "      <td>Haitaka no Psychedelica</td>\n",
       "      <td>PSV</td>\n",
       "      <td>2016.0</td>\n",
       "      <td>Adventure</td>\n",
       "      <td>0.00</td>\n",
       "      <td>0.00</td>\n",
       "      <td>0.01</td>\n",
       "      <td>0.0</td>\n",
       "      <td>NaN</td>\n",
       "      <td>NaN</td>\n",
       "      <td>NaN</td>\n",
       "    </tr>\n",
       "    <tr>\n",
       "      <td>16713</td>\n",
       "      <td>Spirits &amp; Spells</td>\n",
       "      <td>GBA</td>\n",
       "      <td>2003.0</td>\n",
       "      <td>Platform</td>\n",
       "      <td>0.01</td>\n",
       "      <td>0.00</td>\n",
       "      <td>0.00</td>\n",
       "      <td>0.0</td>\n",
       "      <td>NaN</td>\n",
       "      <td>NaN</td>\n",
       "      <td>NaN</td>\n",
       "    </tr>\n",
       "    <tr>\n",
       "      <td>16714</td>\n",
       "      <td>Winning Post 8 2016</td>\n",
       "      <td>PSV</td>\n",
       "      <td>2016.0</td>\n",
       "      <td>Simulation</td>\n",
       "      <td>0.00</td>\n",
       "      <td>0.00</td>\n",
       "      <td>0.01</td>\n",
       "      <td>0.0</td>\n",
       "      <td>NaN</td>\n",
       "      <td>NaN</td>\n",
       "      <td>NaN</td>\n",
       "    </tr>\n",
       "  </tbody>\n",
       "</table>\n",
       "</div>"
      ],
      "text/plain": [
       "                                                    Name Platform  \\\n",
       "16700                           Mezase!! Tsuri Master DS       DS   \n",
       "16701  Eiyuu Densetsu: Sora no Kiseki Material Collec...      PSP   \n",
       "16702                            STORM: Frontline Nation       PC   \n",
       "16703                                   Strawberry Nauts      PSV   \n",
       "16704                                           Plushees       DS   \n",
       "16705                                            15 Days       PC   \n",
       "16706                      Men in Black II: Alien Escape       GC   \n",
       "16707                                   Aiyoku no Eustia      PSV   \n",
       "16708                 Woody Woodpecker in Crazy Castle 5      GBA   \n",
       "16709   SCORE International Baja 1000: The Official Game      PS2   \n",
       "16710                      Samurai Warriors: Sanada Maru      PS3   \n",
       "16711                                   LMA Manager 2007     X360   \n",
       "16712                            Haitaka no Psychedelica      PSV   \n",
       "16713                                   Spirits & Spells      GBA   \n",
       "16714                                Winning Post 8 2016      PSV   \n",
       "\n",
       "       Year_of_Release         Genre  NA_sales  EU_sales  JP_sales  \\\n",
       "16700           2009.0        Sports      0.00      0.00      0.01   \n",
       "16701           2007.0  Role-Playing      0.00      0.00      0.01   \n",
       "16702           2011.0      Strategy      0.00      0.01      0.00   \n",
       "16703           2016.0     Adventure      0.00      0.00      0.01   \n",
       "16704           2008.0    Simulation      0.01      0.00      0.00   \n",
       "16705           2009.0     Adventure      0.00      0.01      0.00   \n",
       "16706           2003.0       Shooter      0.01      0.00      0.00   \n",
       "16707           2014.0          Misc      0.00      0.00      0.01   \n",
       "16708           2002.0      Platform      0.01      0.00      0.00   \n",
       "16709           2008.0        Racing      0.00      0.00      0.00   \n",
       "16710           2016.0        Action      0.00      0.00      0.01   \n",
       "16711           2006.0        Sports      0.00      0.01      0.00   \n",
       "16712           2016.0     Adventure      0.00      0.00      0.01   \n",
       "16713           2003.0      Platform      0.01      0.00      0.00   \n",
       "16714           2016.0    Simulation      0.00      0.00      0.01   \n",
       "\n",
       "       Other_sales  Critic_Score User_Score Rating  \n",
       "16700          0.0           NaN        NaN    NaN  \n",
       "16701          0.0           NaN        NaN    NaN  \n",
       "16702          0.0          60.0        7.2   E10+  \n",
       "16703          0.0           NaN        NaN    NaN  \n",
       "16704          0.0           NaN        tbd      E  \n",
       "16705          0.0          63.0        5.8    NaN  \n",
       "16706          0.0           NaN        tbd      T  \n",
       "16707          0.0           NaN        NaN    NaN  \n",
       "16708          0.0           NaN        NaN    NaN  \n",
       "16709          0.0           NaN        NaN    NaN  \n",
       "16710          0.0           NaN        NaN    NaN  \n",
       "16711          0.0           NaN        NaN    NaN  \n",
       "16712          0.0           NaN        NaN    NaN  \n",
       "16713          0.0           NaN        NaN    NaN  \n",
       "16714          0.0           NaN        NaN    NaN  "
      ]
     },
     "execution_count": 6,
     "metadata": {},
     "output_type": "execute_result"
    }
   ],
   "source": [
    "# посмотрим, для более полного первичного представления о датафрейме, последние его 15 строк\n",
    "df.tail(15)"
   ]
  },
  {
   "cell_type": "markdown",
   "metadata": {},
   "source": [
    "<div class=\"alert alert-info\"> <b>Комментарий:</b> В ходе первичного осмотра датафрейма наблюдаются следующие его недостатки:\n",
    "\n",
    "\n",
    "*1.  Наименования атрибутов представлены в плохом стиле 'верблюжий регистр', необходимо переводить в 'змеинный регистр';*\n",
    "    \n",
    "*2. Во многих столбцах встречаются NaN (отсутствующее в ячейке число), что свидетельствует об отсутствии данных. Значения None (нечисловой тип 'NoneType')  пока не встречается, но полностью исключать этот фактор нельзя, требуется проверка.*\n",
    "    \n",
    "*3. Атрибуты, значения прописаны с заглавных букв, этот фактор может вызвать скрытое дублирование, требуется привести фрейм данных к прописным буквам.*  \n",
    "\n",
    "</div>"
   ]
  },
  {
   "cell_type": "code",
   "execution_count": 7,
   "metadata": {},
   "outputs": [
    {
     "name": "stdout",
     "output_type": "stream",
     "text": [
      "<class 'pandas.core.frame.DataFrame'>\n",
      "RangeIndex: 16715 entries, 0 to 16714\n",
      "Data columns (total 11 columns):\n",
      "Name               16713 non-null object\n",
      "Platform           16715 non-null object\n",
      "Year_of_Release    16446 non-null float64\n",
      "Genre              16713 non-null object\n",
      "NA_sales           16715 non-null float64\n",
      "EU_sales           16715 non-null float64\n",
      "JP_sales           16715 non-null float64\n",
      "Other_sales        16715 non-null float64\n",
      "Critic_Score       8137 non-null float64\n",
      "User_Score         10014 non-null object\n",
      "Rating             9949 non-null object\n",
      "dtypes: float64(6), object(5)\n",
      "memory usage: 1.4+ MB\n"
     ]
    }
   ],
   "source": [
    "# пришло время получить общую информацию о данных в таблице df\n",
    "df.info() "
   ]
  },
  {
   "cell_type": "markdown",
   "metadata": {},
   "source": [
    "**Описание данных:**\n",
    "- Name — название игры\n",
    "- Platform — платформа\n",
    "- Year_of_Release — год выпуска\n",
    "- Genre — жанр игры\n",
    "- NA_sales — продажи в Северной Америке (миллионы проданных копий)\n",
    "- EU_sales — продажи в Европе (миллионы проданных копий)\n",
    "- JP_sales — продажи в Японии (миллионы проданных копий)\n",
    "- Other_sales — продажи в других странах (миллионы проданных копий)\n",
    "- Critic_Score — оценка критиков (максимум 100)\n",
    "- User_Score — оценка пользователей (максимум 10)\n",
    "- Rating — рейтинг от организации ESRB (англ. Entertainment Software Rating Board). Эта ассоциация определяет рейтинг компьютерных игр и присваивает им подходящую возрастную категорию."
   ]
  },
  {
   "cell_type": "markdown",
   "metadata": {},
   "source": [
    "**Анализируя полученную информацию устанавливаем следующее описание датафрейма:**\n",
    "\n",
    "*Общая информация по фрейму данных: в нашем распоржении фрейм данных, состоящий из  11 столбцов и 16715 строк*\n",
    "\n",
    "*1. Name — название игры, категориальное значение, представлен в типе - object, что правильно, есть  16713 строк, отсутсвуют данные в двух строках, этот вопрос требует проработки*;  \n",
    "\n",
    "*2. Platform — платформа, категориальное значение, представлен в типе - object, что правильно, есть  16715 строк, отсутсвующих данных нет*;\n",
    "\n",
    "*3. Year_of_Release — год выпуска, значение даты и времени, представлен в типе - float, что не правильно, требуется перевод в тип datetime, есть  16446 строк, отсутсвуют 269 данных в  строках, этот вопрос требует проработки*;\n",
    "\n",
    "*4. Genre — жанр игры, категориальное значение, представлен в типе - object, что правильно, есть  16713 строк, отсутсвуют данные в двух строках, этот вопрос требует проработки;*\n",
    "\n",
    "*5. NA_sales — продажи в Северной Америке (миллионы проданных копий), представлен в типе - float, что не правильно, копии не могут быть в дробных значениях, более точный тип данных - integer, есть  16715 строк, отсутствующих данных нет*;\n",
    "\n",
    "*6. EU_sales — продажи в Европе (миллионы проданных копий), представлен в типе - float, что не правильно, копии не могут быть в дробных значениях, более точный тип данных - integer, есть  16715 строк, отсутствующих данных нет;*\n",
    "\n",
    "*7. JP_sales — продажи в Японии (миллионы проданных копий), представлен в типе - float, что не правильно, копии не могут быть в дробных значениях, более точный тип данных - integer, есть  16715 строк, отсутствующих данных нет;* \n",
    "\n",
    "*8. Other_sales — продажи в других странах (миллионы проданных копий), представлен в типе - float, что не правильно, копии не могут быть в дробных значениях, более точный тип данных - integer, есть  16715 строк, отсутствующих данных нет;*\n",
    "\n",
    "*9. Critic_Score — оценка критиков (максимум 100), представлен в типе - float, данный тип данных допускается, 8137 значений присутсвует  в столбце, остальные 8578 значений предстоит заполнить после более детального исследования*\n",
    "\n",
    "*10. User_Score — оценка пользователей (максимум 10), представлен в типе - object, что требует изменения на тип - float, есть значения в 10014  сроках, в остальных 6701 строках данные отсутствуют;*\n",
    "\n",
    "*11. Rating — рейтинг от организации ESRB - представлен в типе - object, что требует изменения на тип - float, присутсвуют в столбце 9949 значений, остальные 6766 отсутствуют,  их предстоит заполнить после более детального исследования.*\n"
   ]
  },
  {
   "cell_type": "markdown",
   "metadata": {},
   "source": [
    "### Вывод"
   ]
  },
  {
   "cell_type": "markdown",
   "metadata": {},
   "source": [
    "<div style=\"border:solid DarkCyan 3px; padding: 20px\"> \n",
    "    По результатам изучения данных можно спланировать действия для проведения операции в рамках предобработки данных, а именно:\n",
    "\n",
    "1) устранить плохой стиль 'верблюжий регистр' и перевести его в правильный 'змеинный регистр';\n",
    "\n",
    "2) убрать заглавные буквы и привести фрейм данных к прописным буквам;\n",
    "    \n",
    "3) поработать со значениями NaN в столбцах, найти решение отсутсвующих в ячейке чисел, проверить наличие значения None (нечисловой тип 'NoneType');\n",
    "\n",
    "4) приступить к приведенению типов данных во всех столбцах, которые рассмотрены в ходе их анализа согласно их назначению в целях более точного проведения исследования;\n",
    "\n",
    "5) проверить наличие дубликатов, в том числе скрытых дубликатов.\n",
    "</div> "
   ]
  },
  {
   "cell_type": "markdown",
   "metadata": {},
   "source": [
    "## Предобработка данных"
   ]
  },
  {
   "cell_type": "code",
   "execution_count": 8,
   "metadata": {},
   "outputs": [
    {
     "data": {
      "text/plain": [
       "Name                  2\n",
       "Platform              0\n",
       "Year_of_Release     269\n",
       "Genre                 2\n",
       "NA_sales              0\n",
       "EU_sales              0\n",
       "JP_sales              0\n",
       "Other_sales           0\n",
       "Critic_Score       8578\n",
       "User_Score         6701\n",
       "Rating             6766\n",
       "dtype: int64"
      ]
     },
     "execution_count": 8,
     "metadata": {},
     "output_type": "execute_result"
    }
   ],
   "source": [
    " # проведем подсчёт пропусков\n",
    "(df.isna().sum())"
   ]
  },
  {
   "cell_type": "code",
   "execution_count": 9,
   "metadata": {},
   "outputs": [
    {
     "name": "stdout",
     "output_type": "stream",
     "text": [
      "NaN occurrences in DataFrame: 22318\n"
     ]
    }
   ],
   "source": [
    "# расчитаем общее количество 'NaN'  в дата фрейме\n",
    "print('NaN occurrences in DataFrame:', df.isna().sum().sum())"
   ]
  },
  {
   "cell_type": "markdown",
   "metadata": {},
   "source": [
    "<div style=\"border:solid DarkCyan 3px; padding: 20px\"> Результаты изучения данных подверждаются в части отсутсвующих значений, их общее количество составляет: 22318. </div> "
   ]
  },
  {
   "cell_type": "markdown",
   "metadata": {},
   "source": [
    "**1. Начнем со столбца Name**"
   ]
  },
  {
   "cell_type": "code",
   "execution_count": 10,
   "metadata": {},
   "outputs": [
    {
     "data": {
      "text/plain": [
       "2"
      ]
     },
     "execution_count": 10,
     "metadata": {},
     "output_type": "execute_result"
    }
   ],
   "source": [
    "# убедимся, что 'NaN' содержится в столбце датафрейма\n",
    "df['Name'].isna().sum()"
   ]
  },
  {
   "cell_type": "code",
   "execution_count": 11,
   "metadata": {},
   "outputs": [
    {
     "data": {
      "text/html": [
       "<div>\n",
       "<style scoped>\n",
       "    .dataframe tbody tr th:only-of-type {\n",
       "        vertical-align: middle;\n",
       "    }\n",
       "\n",
       "    .dataframe tbody tr th {\n",
       "        vertical-align: top;\n",
       "    }\n",
       "\n",
       "    .dataframe thead th {\n",
       "        text-align: right;\n",
       "    }\n",
       "</style>\n",
       "<table border=\"1\" class=\"dataframe\">\n",
       "  <thead>\n",
       "    <tr style=\"text-align: right;\">\n",
       "      <th></th>\n",
       "      <th>Name</th>\n",
       "      <th>Platform</th>\n",
       "      <th>Year_of_Release</th>\n",
       "      <th>Genre</th>\n",
       "      <th>NA_sales</th>\n",
       "      <th>EU_sales</th>\n",
       "      <th>JP_sales</th>\n",
       "      <th>Other_sales</th>\n",
       "      <th>Critic_Score</th>\n",
       "      <th>User_Score</th>\n",
       "      <th>Rating</th>\n",
       "    </tr>\n",
       "  </thead>\n",
       "  <tbody>\n",
       "    <tr>\n",
       "      <td>659</td>\n",
       "      <td>NaN</td>\n",
       "      <td>GEN</td>\n",
       "      <td>1993.0</td>\n",
       "      <td>NaN</td>\n",
       "      <td>1.78</td>\n",
       "      <td>0.53</td>\n",
       "      <td>0.00</td>\n",
       "      <td>0.08</td>\n",
       "      <td>NaN</td>\n",
       "      <td>NaN</td>\n",
       "      <td>NaN</td>\n",
       "    </tr>\n",
       "    <tr>\n",
       "      <td>14244</td>\n",
       "      <td>NaN</td>\n",
       "      <td>GEN</td>\n",
       "      <td>1993.0</td>\n",
       "      <td>NaN</td>\n",
       "      <td>0.00</td>\n",
       "      <td>0.00</td>\n",
       "      <td>0.03</td>\n",
       "      <td>0.00</td>\n",
       "      <td>NaN</td>\n",
       "      <td>NaN</td>\n",
       "      <td>NaN</td>\n",
       "    </tr>\n",
       "  </tbody>\n",
       "</table>\n",
       "</div>"
      ],
      "text/plain": [
       "      Name Platform  Year_of_Release Genre  NA_sales  EU_sales  JP_sales  \\\n",
       "659    NaN      GEN           1993.0   NaN      1.78      0.53      0.00   \n",
       "14244  NaN      GEN           1993.0   NaN      0.00      0.00      0.03   \n",
       "\n",
       "       Other_sales  Critic_Score User_Score Rating  \n",
       "659           0.08           NaN        NaN    NaN  \n",
       "14244         0.00           NaN        NaN    NaN  "
      ]
     },
     "execution_count": 11,
     "metadata": {},
     "output_type": "execute_result"
    }
   ],
   "source": [
    "# посмотрим на строки где пропущены значения в столбце Name\n",
    "df[df['Name'].isna()].head()"
   ]
  },
  {
   "cell_type": "code",
   "execution_count": 12,
   "metadata": {},
   "outputs": [
    {
     "data": {
      "text/plain": [
       "2"
      ]
     },
     "execution_count": 12,
     "metadata": {},
     "output_type": "execute_result"
    }
   ],
   "source": [
    "# для соблюдения формы посчитаем с использованием функции Len\n",
    "(len(df[df['Name'].isna()]))"
   ]
  },
  {
   "cell_type": "markdown",
   "metadata": {},
   "source": [
    "<div style=\"border:solid DarkCyan 3px; padding: 20px\"> Проанализируем найденные две строки с NaN, о чем они говорят. Значение индекса дает нам понять, что проблемными строками в таблице Name являются 659, 14244, категориальные значения. Первая мысль возникает удалить их, но прежде чем это сделать неоходимо ответить на вопрос: случайно ли были потеряны данные, либо неслучайно.  Можно ли их восстановить, другими словами вылечить. Чтобы ответить на поставленный вопрос требуется понять о чем говорят другие столбцы.  Характеристику дают всего два столбца, которые косвено могут охарактеризовать потерянные значения в Name: Platform - GEN,  Year_of_Release - 1993.0, важное значение Genre также потеряно,  другие значения по количеству продаж в континентах нам ничего не говорят. Прихожу к заключению, что данные потеряны не случайно, в следствии какого-то негативного фактора: технического, человеческого... Необходимо две строки удалять, их меньше процента — это немного, и в большинстве задач удаление такой доли строк не повлияет на результаты.  </div> "
   ]
  },
  {
   "cell_type": "code",
   "execution_count": 13,
   "metadata": {},
   "outputs": [],
   "source": [
    "# указываем на значение TRUE, изменения сохраняются в новом объекте, который создается, и он не изменяет исходные данные\n",
    "# указываем axis = 0, чтобы работать с удалением строк! Критично важно!\n",
    "df.dropna(subset=['Name'],inplace=True, axis=0)\n",
    "# df['Name'] = df['Name'].dropna # использую переопределение переменных."
   ]
  },
  {
   "cell_type": "code",
   "execution_count": 14,
   "metadata": {},
   "outputs": [
    {
     "data": {
      "text/plain": [
       "0"
      ]
     },
     "execution_count": 14,
     "metadata": {},
     "output_type": "execute_result"
    }
   ],
   "source": [
    "# проверим, что операция по удалению строк осуществлена\n",
    "len(df[df['Name'].isna()])"
   ]
  },
  {
   "cell_type": "markdown",
   "metadata": {},
   "source": [
    "**2. Столбец Platform**"
   ]
  },
  {
   "cell_type": "code",
   "execution_count": 15,
   "metadata": {},
   "outputs": [
    {
     "data": {
      "text/plain": [
       "PS2     2161\n",
       "DS      2151\n",
       "PS3     1331\n",
       "Wii     1320\n",
       "X360    1262\n",
       "PSP     1209\n",
       "PS      1197\n",
       "PC       974\n",
       "XB       824\n",
       "GBA      822\n",
       "GC       556\n",
       "3DS      520\n",
       "PSV      430\n",
       "PS4      392\n",
       "N64      319\n",
       "XOne     247\n",
       "SNES     239\n",
       "SAT      173\n",
       "WiiU     147\n",
       "2600     133\n",
       "NES       98\n",
       "GB        98\n",
       "DC        52\n",
       "GEN       27\n",
       "NG        12\n",
       "WS         6\n",
       "SCD        6\n",
       "3DO        3\n",
       "TG16       2\n",
       "GG         1\n",
       "PCFX       1\n",
       "Name: Platform, dtype: int64"
      ]
     },
     "execution_count": 15,
     "metadata": {},
     "output_type": "execute_result"
    }
   ],
   "source": [
    "df['Platform'].value_counts()"
   ]
  },
  {
   "cell_type": "markdown",
   "metadata": {},
   "source": [
    "<div style=\"border:solid DarkCyan 3px; padding: 20px\"> Оставляем столбец  Platform в том виде какой есть.</div> "
   ]
  },
  {
   "cell_type": "markdown",
   "metadata": {},
   "source": [
    "**3. Столбец Year_of_Release**"
   ]
  },
  {
   "cell_type": "markdown",
   "metadata": {},
   "source": [
    "<div style=\"border:solid DarkCyan 3px; padding: 20px\"> На этапе изучения данных установлено, что значение даты и времени, представлен в типе - float, что не правильно, требуется перевод в тип datetime, есть 16446 строк, отсутсвуют 269 данных в строках, этот вопрос требует проработки. </div> "
   ]
  },
  {
   "cell_type": "code",
   "execution_count": 16,
   "metadata": {},
   "outputs": [],
   "source": [
    "# переведем значения столбца Year_of_Release из типа - float в тип -  datetime.\n",
    "df['Year_of_Release'] = pd.to_datetime(df['Year_of_Release'], format='%Y', errors='coerce')"
   ]
  },
  {
   "cell_type": "code",
   "execution_count": 17,
   "metadata": {
    "scrolled": true
   },
   "outputs": [
    {
     "data": {
      "text/plain": [
       "0   2006-01-01\n",
       "1   1985-01-01\n",
       "2   2008-01-01\n",
       "3   2009-01-01\n",
       "4   1996-01-01\n",
       "Name: Year_of_Release, dtype: datetime64[ns]"
      ]
     },
     "execution_count": 17,
     "metadata": {},
     "output_type": "execute_result"
    }
   ],
   "source": [
    "# посмотрим\n",
    "df['Year_of_Release'].head()"
   ]
  },
  {
   "cell_type": "markdown",
   "metadata": {},
   "source": [
    "<div style=\"border:solid DarkCyan 3px; padding: 20px\"> Стало лучше.  dtype: datetime64  </div> "
   ]
  },
  {
   "cell_type": "code",
   "execution_count": 18,
   "metadata": {},
   "outputs": [
    {
     "data": {
      "text/plain": [
       "269"
      ]
     },
     "execution_count": 18,
     "metadata": {},
     "output_type": "execute_result"
    }
   ],
   "source": [
    "# отсутсвуют 269 данных в столбце 'Year_of_Release', этот вопрос требует проработки\n",
    "# убедимся, что 'NaN' содержится в столбце датафрейма\n",
    "df['Year_of_Release'].isna().sum()"
   ]
  },
  {
   "cell_type": "markdown",
   "metadata": {},
   "source": [
    "<div style=\"border:solid DarkCyan 3px; padding: 20px\"> 269 от общего количества строк 16715 составляет - 1,6 %. Удаление такого количества строк нежелательно, замена на медианные значения и арифметические по отношению к датам не применима. Представляется, что наилучшим способом будет оставить все как есть. </div> "
   ]
  },
  {
   "cell_type": "code",
   "execution_count": 19,
   "metadata": {},
   "outputs": [
    {
     "data": {
      "text/plain": [
       "16444"
      ]
     },
     "execution_count": 19,
     "metadata": {},
     "output_type": "execute_result"
    }
   ],
   "source": [
    "df['Year_of_Release'].value_counts().sum()"
   ]
  },
  {
   "cell_type": "markdown",
   "metadata": {},
   "source": [
    "**4. Столбец Genre**"
   ]
  },
  {
   "cell_type": "markdown",
   "metadata": {},
   "source": [
    "<div style=\"border:solid DarkCyan 3px; padding: 20px\"> На этапе изучения данных из файла установлено, что это категориальное значение, представлен в типе - object, что правильно, есть 16713 строк, отсутсвуют данные в двух строках. После исследования стобца Name было принято взвешенное решение об удалении данных строк, где в том числе отсутсвовали значения в двух строках Genre, следовательно проблема данного столбца должна быть устранена, на всякий случай проверим ниже данную гипотезу.  </div> "
   ]
  },
  {
   "cell_type": "code",
   "execution_count": 20,
   "metadata": {},
   "outputs": [
    {
     "data": {
      "text/plain": [
       "0"
      ]
     },
     "execution_count": 20,
     "metadata": {},
     "output_type": "execute_result"
    }
   ],
   "source": [
    "df['Genre'].isna().sum()"
   ]
  },
  {
   "cell_type": "markdown",
   "metadata": {},
   "source": [
    "<div style=\"border:solid DarkCyan 3px; padding: 20px\">  получаем подтверждение, что предположение было правильным.</div> "
   ]
  },
  {
   "cell_type": "markdown",
   "metadata": {},
   "source": [
    "**5. Столбец NA_sales**"
   ]
  },
  {
   "cell_type": "markdown",
   "metadata": {},
   "source": [
    "<div style=\"border:solid DarkCyan 3px; padding: 20px\"> Ранее установлено, что столбец с продажами в Северной Америке (миллионы проданных копий), представлен в типе - float, что не правильно, копии не могут быть в дробных значениях, более точный тип данных - integer, есть 16715 строк, отсутствующих данных нет. </div>"
   ]
  },
  {
   "cell_type": "code",
   "execution_count": 21,
   "metadata": {},
   "outputs": [],
   "source": [
    "# меняем значение в столбце NA_sales тип данных с float на integer\n",
    "df['NA_sales'] = df['NA_sales'].astype(int)"
   ]
  },
  {
   "cell_type": "code",
   "execution_count": 22,
   "metadata": {},
   "outputs": [
    {
     "data": {
      "text/plain": [
       "dtype('int64')"
      ]
     },
     "execution_count": 22,
     "metadata": {},
     "output_type": "execute_result"
    }
   ],
   "source": [
    "# посмотрим на результат\n",
    "df['NA_sales'].dtypes"
   ]
  },
  {
   "cell_type": "code",
   "execution_count": 23,
   "metadata": {},
   "outputs": [
    {
     "data": {
      "text/plain": [
       "0"
      ]
     },
     "execution_count": 23,
     "metadata": {},
     "output_type": "execute_result"
    }
   ],
   "source": [
    "# убедимся в отсутсвтии NaN\n",
    "df['NA_sales'].isna().sum()"
   ]
  },
  {
   "cell_type": "markdown",
   "metadata": {},
   "source": [
    "**6. Столбец EU_sales**"
   ]
  },
  {
   "cell_type": "markdown",
   "metadata": {},
   "source": [
    "<div style=\"border:solid DarkCyan 3px; padding: 20px\"> Ранее установлено, что продажи в Европе (миллионы проданных копий), представлен в типе - float, что не правильно, копии не могут быть в дробных значениях, более точный тип данных - integer, есть 16715 строк, отсутствующих данных нет. Исправим этот недостаток.</div>"
   ]
  },
  {
   "cell_type": "code",
   "execution_count": 24,
   "metadata": {},
   "outputs": [],
   "source": [
    "# меняем значение в столбце EU_sales тип данных с float на integer\n",
    "df['EU_sales'] = df['EU_sales'].astype(int)"
   ]
  },
  {
   "cell_type": "code",
   "execution_count": 25,
   "metadata": {},
   "outputs": [
    {
     "data": {
      "text/plain": [
       "dtype('int64')"
      ]
     },
     "execution_count": 25,
     "metadata": {},
     "output_type": "execute_result"
    }
   ],
   "source": [
    "# посмотрим на результат\n",
    "df['EU_sales'].dtypes"
   ]
  },
  {
   "cell_type": "code",
   "execution_count": 26,
   "metadata": {},
   "outputs": [
    {
     "data": {
      "text/plain": [
       "0"
      ]
     },
     "execution_count": 26,
     "metadata": {},
     "output_type": "execute_result"
    }
   ],
   "source": [
    "# убедимся в отсутсвтии NaN\n",
    "df['EU_sales'].isna().sum()"
   ]
  },
  {
   "cell_type": "markdown",
   "metadata": {},
   "source": [
    "**7. Столбец JP_sales**"
   ]
  },
  {
   "cell_type": "markdown",
   "metadata": {},
   "source": [
    "<div style=\"border:solid DarkCyan 3px; padding: 20px\"> Ранее установлено, что продажи в Японии (миллионы проданных копий), представлен в типе - float и это не правильно, копии не могут быть в дробных значениях, более точный тип данных - integer, есть 16715 строк, отсутствующих данных нет. </div>"
   ]
  },
  {
   "cell_type": "code",
   "execution_count": 27,
   "metadata": {},
   "outputs": [],
   "source": [
    "# меняем значение в столбце JP_sales тип данных с float на integer\n",
    "df['JP_sales'] = df['JP_sales'].astype(int)"
   ]
  },
  {
   "cell_type": "code",
   "execution_count": 28,
   "metadata": {},
   "outputs": [
    {
     "data": {
      "text/plain": [
       "dtype('int64')"
      ]
     },
     "execution_count": 28,
     "metadata": {},
     "output_type": "execute_result"
    }
   ],
   "source": [
    "# посмотрим на результат\n",
    "df['JP_sales'].dtypes"
   ]
  },
  {
   "cell_type": "code",
   "execution_count": 29,
   "metadata": {},
   "outputs": [
    {
     "data": {
      "text/plain": [
       "0"
      ]
     },
     "execution_count": 29,
     "metadata": {},
     "output_type": "execute_result"
    }
   ],
   "source": [
    "# убедимся в отсутсвтии NaN\n",
    "df['JP_sales'].isna().sum()"
   ]
  },
  {
   "cell_type": "markdown",
   "metadata": {},
   "source": [
    "**8. Столбец Other_sales**"
   ]
  },
  {
   "cell_type": "markdown",
   "metadata": {},
   "source": [
    "<div style=\"border:solid DarkCyan 3px; padding: 20px\"> Ранее установлено, что продажи в других странах (миллионы проданных копий), представлен в типе - float, что не правильно, копии не могут быть в дробных значениях, более точный тип данных - integer, есть 16715 строк, отсутствующих данных нет. </div>"
   ]
  },
  {
   "cell_type": "code",
   "execution_count": 30,
   "metadata": {},
   "outputs": [],
   "source": [
    "# меняем значение в столбце Other_sales тип данных с float на integer\n",
    "df['Other_sales'] = df['Other_sales'].astype(int)"
   ]
  },
  {
   "cell_type": "code",
   "execution_count": 31,
   "metadata": {},
   "outputs": [
    {
     "data": {
      "text/plain": [
       "dtype('int64')"
      ]
     },
     "execution_count": 31,
     "metadata": {},
     "output_type": "execute_result"
    }
   ],
   "source": [
    "# посмотрим на результат\n",
    "df['Other_sales'].dtypes"
   ]
  },
  {
   "cell_type": "code",
   "execution_count": 32,
   "metadata": {},
   "outputs": [
    {
     "data": {
      "text/plain": [
       "0"
      ]
     },
     "execution_count": 32,
     "metadata": {},
     "output_type": "execute_result"
    }
   ],
   "source": [
    "# убедимся в отсутсвтии NaN\n",
    "df['Other_sales'].isna().sum()"
   ]
  },
  {
   "cell_type": "markdown",
   "metadata": {},
   "source": [
    "**9. Столбец Critic_Score**"
   ]
  },
  {
   "cell_type": "markdown",
   "metadata": {},
   "source": [
    "<div style=\"border:solid DarkCyan 3px; padding: 20px\"> Critic_Score — оценка критиков (максимум 100), представлен в типе - float, данный тип данных допускается, 8137 значений присутсвует в столбце, остальные 8578 значений предстоит заполнить после более детального исследования. \n",
    "    \n",
    "    Анализ и определение дальнейших действий: \n",
    "    \n",
    "отсутствуют  8578 значений данных, это более 50 % данных всех значений в столбце. Операция по удалению не допустима - уничтожим половину фрейма данных, полагаю, что в данном случае лучше заменить на нулевые значения, данные значения не ухудшат столбец, при этом столбец будет смотреться эстетичнее."
   ]
  },
  {
   "cell_type": "code",
   "execution_count": 33,
   "metadata": {},
   "outputs": [],
   "source": [
    "# методом fillna заменяем все пустые значения на '0'\n",
    "df['Critic_Score'] = df.Critic_Score.fillna(0)"
   ]
  },
  {
   "cell_type": "code",
   "execution_count": 34,
   "metadata": {},
   "outputs": [
    {
     "data": {
      "text/plain": [
       "0"
      ]
     },
     "execution_count": 34,
     "metadata": {},
     "output_type": "execute_result"
    }
   ],
   "source": [
    "# убедимся в отсутсвтии NaN\n",
    "df['Other_sales'].isna().sum()"
   ]
  },
  {
   "cell_type": "markdown",
   "metadata": {},
   "source": [
    "**10. Столбец User_Score**"
   ]
  },
  {
   "cell_type": "markdown",
   "metadata": {},
   "source": [
    "<div style=\"border:solid DarkCyan 3px; padding: 20px\"> User_Score — оценка пользователей (максимум 10), представлен в типе - object, что требует изменения на тип - float, есть значения в 10014 сроках, в остальных 6701 строках данные отсутствуют. </div>"
   ]
  },
  {
   "cell_type": "code",
   "execution_count": 35,
   "metadata": {},
   "outputs": [
    {
     "data": {
      "text/plain": [
       "tbd    2424\n",
       "7.8     324\n",
       "8       290\n",
       "8.2     282\n",
       "8.3     254\n",
       "8.5     253\n",
       "7.5     251\n",
       "7.9     249\n",
       "8.1     244\n",
       "7.7     240\n",
       "7.3     236\n",
       "8.4     223\n",
       "7       220\n",
       "7.6     220\n",
       "7.4     215\n",
       "Name: User_Score, dtype: int64"
      ]
     },
     "execution_count": 35,
     "metadata": {},
     "output_type": "execute_result"
    }
   ],
   "source": [
    "# посмотрим на первые 15 строк с методом уникальных значений value_counts\n",
    "df['User_Score'].value_counts().head(15)"
   ]
  },
  {
   "cell_type": "code",
   "execution_count": 36,
   "metadata": {},
   "outputs": [
    {
     "data": {
      "text/plain": [
       "1.5    2\n",
       "1.1    2\n",
       "0.6    2\n",
       "0.7    2\n",
       "0.2    2\n",
       "1      2\n",
       "9.6    2\n",
       "0.9    2\n",
       "9.7    1\n",
       "0      1\n",
       "Name: User_Score, dtype: int64"
      ]
     },
     "execution_count": 36,
     "metadata": {},
     "output_type": "execute_result"
    }
   ],
   "source": [
    "# посмотрим на последние 15 строк с методом уникальных значений value_counts\n",
    "df['User_Score'].value_counts().tail(10)"
   ]
  },
  {
   "cell_type": "markdown",
   "metadata": {},
   "source": [
    "<div style=\"border:solid DarkCyan 3px; padding: 20px\"> видим значение 'tbd' в 2424 строках, данное значение не соответствует логике атрибута User_Score. Справдливее всего заменить 'tbd' значение на медиану. </div>"
   ]
  },
  {
   "cell_type": "code",
   "execution_count": 37,
   "metadata": {},
   "outputs": [],
   "source": [
    "# переводим tbd в NaN\n",
    "df['User_Score'] = pd.to_numeric(df['User_Score'], errors='coerce')"
   ]
  },
  {
   "cell_type": "code",
   "execution_count": 38,
   "metadata": {},
   "outputs": [],
   "source": [
    "# далее создаем переменную с медианными значениями \n",
    "median_user_score = df['User_Score'].median(skipna=True)"
   ]
  },
  {
   "cell_type": "code",
   "execution_count": 39,
   "metadata": {},
   "outputs": [],
   "source": [
    "# заменяем NaN на медианные значения\n",
    "df['User_Score'] = df.User_Score.fillna(median_user_score)"
   ]
  },
  {
   "cell_type": "code",
   "execution_count": 40,
   "metadata": {},
   "outputs": [],
   "source": [
    "# заменяем тип данных int на float\n",
    "df[['User_Score']] = df[['User_Score']].astype(float)"
   ]
  },
  {
   "cell_type": "code",
   "execution_count": 41,
   "metadata": {
    "scrolled": true
   },
   "outputs": [
    {
     "data": {
      "text/plain": [
       "dtype('float64')"
      ]
     },
     "execution_count": 41,
     "metadata": {},
     "output_type": "execute_result"
    }
   ],
   "source": [
    "# смотрим, что удалось\n",
    "df['User_Score'].dtypes"
   ]
  },
  {
   "cell_type": "code",
   "execution_count": 42,
   "metadata": {},
   "outputs": [
    {
     "data": {
      "text/plain": [
       "7.5    9374\n",
       "7.8     324\n",
       "8.0     290\n",
       "8.2     282\n",
       "8.3     254\n",
       "8.5     253\n",
       "7.9     249\n",
       "8.1     244\n",
       "7.7     240\n",
       "7.3     236\n",
       "8.4     223\n",
       "7.0     220\n",
       "7.6     220\n",
       "7.4     215\n",
       "8.6     211\n",
       "Name: User_Score, dtype: int64"
      ]
     },
     "execution_count": 42,
     "metadata": {},
     "output_type": "execute_result"
    }
   ],
   "source": [
    "# смотрим на результат\n",
    "df['User_Score'].value_counts().head(15)"
   ]
  },
  {
   "cell_type": "markdown",
   "metadata": {},
   "source": [
    "**11. Столбец Rating**"
   ]
  },
  {
   "cell_type": "markdown",
   "metadata": {},
   "source": [
    "<div style=\"border:solid DarkCyan 3px; padding: 20px\">  Rating — рейтинг от организации ESRB - представлен в типе - object, что требует изменения на тип - float, присутсвуют в столбце 9949 значений, остальные 6766 отсутствуют, их предстоит заполнить после более детального исследования. </div>"
   ]
  },
  {
   "cell_type": "code",
   "execution_count": 43,
   "metadata": {},
   "outputs": [
    {
     "data": {
      "text/plain": [
       "E       3990\n",
       "T       2961\n",
       "M       1563\n",
       "E10+    1420\n",
       "EC         8\n",
       "RP         3\n",
       "K-A        3\n",
       "AO         1\n",
       "Name: Rating, dtype: int64"
      ]
     },
     "execution_count": 43,
     "metadata": {},
     "output_type": "execute_result"
    }
   ],
   "source": [
    "# посмотрим на первые 10 строк с методом уникальных значений value_counts\n",
    "df['Rating'].value_counts().head(10)"
   ]
  },
  {
   "cell_type": "markdown",
   "metadata": {},
   "source": [
    "- «E» («Everyone») — «Для всех»;\n",
    "- «T» («Teen») — «Подросткам 13—19 лет»;\n",
    "- «M» («Mature») — «От 17 лет»;\n",
    "- «E10+» («Everyone 10 and older») — «Для всех старше 10 лет»;\n",
    "- «EC» («Early childhood») — «Для детей младшего возраста»;\n",
    "- «RP» ( «Rating Pending»») — «Рейтинг ожидается»;\n",
    "- K-A: Для детей – для тех, кто уже научился говорить и держать джойстик, эти игры уже могут вызывать интерес [позже в 1998 году был переименован в Е – для всех возрастов, а также чуть позже был добавлен рейтинг Е10+, как промежуточный между Е и Т];\n",
    "- «AO» («Adults Only 18+») — «Только для взрослых»."
   ]
  },
  {
   "cell_type": "markdown",
   "metadata": {},
   "source": [
    "<div style=\"border:solid DarkCyan 3px; padding: 20px\">  Характеристика аббревиатур убеждает, что все они соответствуют действительности и устранения ошибок в данных аббревиатурах отсутсвует, они помогают сегментировать игры. Уже на данном этапе можно сделать вывод, что больше всего игр представлено в сегменте «E» («Everyone») — «Для всех». Отсутствующие значения нет смысла менять, так как это прерогатива специальной организации. </div>"
   ]
  },
  {
   "cell_type": "markdown",
   "metadata": {},
   "source": [
    "**Заключительный этап работы по предобработке фрейма данных**"
   ]
  },
  {
   "cell_type": "code",
   "execution_count": 44,
   "metadata": {},
   "outputs": [
    {
     "data": {
      "text/plain": [
       "Name                  0\n",
       "Platform              0\n",
       "Year_of_Release     269\n",
       "Genre                 0\n",
       "NA_sales              0\n",
       "EU_sales              0\n",
       "JP_sales              0\n",
       "Other_sales           0\n",
       "Critic_Score          0\n",
       "User_Score            0\n",
       "Rating             6764\n",
       "dtype: int64"
      ]
     },
     "execution_count": 44,
     "metadata": {},
     "output_type": "execute_result"
    }
   ],
   "source": [
    "# посмотрим на итоговую очистку фрейма данных (за искл. Year_of_Release, оставили без изменений)\n",
    "(df.isna().sum())"
   ]
  },
  {
   "cell_type": "code",
   "execution_count": 45,
   "metadata": {},
   "outputs": [
    {
     "name": "stdout",
     "output_type": "stream",
     "text": [
      "<class 'pandas.core.frame.DataFrame'>\n",
      "Int64Index: 16713 entries, 0 to 16714\n",
      "Data columns (total 11 columns):\n",
      "Name               16713 non-null object\n",
      "Platform           16713 non-null object\n",
      "Year_of_Release    16444 non-null datetime64[ns]\n",
      "Genre              16713 non-null object\n",
      "NA_sales           16713 non-null int64\n",
      "EU_sales           16713 non-null int64\n",
      "JP_sales           16713 non-null int64\n",
      "Other_sales        16713 non-null int64\n",
      "Critic_Score       16713 non-null float64\n",
      "User_Score         16713 non-null float64\n",
      "Rating             9949 non-null object\n",
      "dtypes: datetime64[ns](1), float64(2), int64(4), object(4)\n",
      "memory usage: 1.5+ MB\n"
     ]
    }
   ],
   "source": [
    "# посмотрим на типы данных, все ли в порядке\n",
    "df.info()"
   ]
  },
  {
   "cell_type": "markdown",
   "metadata": {},
   "source": [
    "<div style=\"border:solid DarkCyan 3px; padding: 20px\">  Можем работать дальше над проектом, приступаем к устранению плохого стиля, сменяем 'верблюжий регистр' на 'змеинный регистр, далее убираем заглавные буквы и приводим фрейм данных к прописным буквам. Проверим на наличе дубликатов, в том числе скрытых дубликатов.</div>"
   ]
  },
  {
   "cell_type": "code",
   "execution_count": 46,
   "metadata": {},
   "outputs": [],
   "source": [
    "# для предварительной подготовки к исследованию данных приведем все данные object в датасете к нижнему регистру\n",
    "df[['Name', 'Platform', 'Genre']] = df[['Name', 'Platform', 'Genre']].astype(str).apply(lambda x: x.str.lower())"
   ]
  },
  {
   "cell_type": "code",
   "execution_count": 47,
   "metadata": {},
   "outputs": [
    {
     "data": {
      "text/html": [
       "<div>\n",
       "<style scoped>\n",
       "    .dataframe tbody tr th:only-of-type {\n",
       "        vertical-align: middle;\n",
       "    }\n",
       "\n",
       "    .dataframe tbody tr th {\n",
       "        vertical-align: top;\n",
       "    }\n",
       "\n",
       "    .dataframe thead th {\n",
       "        text-align: right;\n",
       "    }\n",
       "</style>\n",
       "<table border=\"1\" class=\"dataframe\">\n",
       "  <thead>\n",
       "    <tr style=\"text-align: right;\">\n",
       "      <th></th>\n",
       "      <th>Name</th>\n",
       "      <th>Platform</th>\n",
       "      <th>Year_of_Release</th>\n",
       "      <th>Genre</th>\n",
       "      <th>NA_sales</th>\n",
       "      <th>EU_sales</th>\n",
       "      <th>JP_sales</th>\n",
       "      <th>Other_sales</th>\n",
       "      <th>Critic_Score</th>\n",
       "      <th>User_Score</th>\n",
       "      <th>Rating</th>\n",
       "    </tr>\n",
       "  </thead>\n",
       "  <tbody>\n",
       "    <tr>\n",
       "      <td>0</td>\n",
       "      <td>wii sports</td>\n",
       "      <td>wii</td>\n",
       "      <td>2006-01-01</td>\n",
       "      <td>sports</td>\n",
       "      <td>41</td>\n",
       "      <td>28</td>\n",
       "      <td>3</td>\n",
       "      <td>8</td>\n",
       "      <td>76.0</td>\n",
       "      <td>8.0</td>\n",
       "      <td>E</td>\n",
       "    </tr>\n",
       "    <tr>\n",
       "      <td>1</td>\n",
       "      <td>super mario bros.</td>\n",
       "      <td>nes</td>\n",
       "      <td>1985-01-01</td>\n",
       "      <td>platform</td>\n",
       "      <td>29</td>\n",
       "      <td>3</td>\n",
       "      <td>6</td>\n",
       "      <td>0</td>\n",
       "      <td>0.0</td>\n",
       "      <td>7.5</td>\n",
       "      <td>NaN</td>\n",
       "    </tr>\n",
       "    <tr>\n",
       "      <td>2</td>\n",
       "      <td>mario kart wii</td>\n",
       "      <td>wii</td>\n",
       "      <td>2008-01-01</td>\n",
       "      <td>racing</td>\n",
       "      <td>15</td>\n",
       "      <td>12</td>\n",
       "      <td>3</td>\n",
       "      <td>3</td>\n",
       "      <td>82.0</td>\n",
       "      <td>8.3</td>\n",
       "      <td>E</td>\n",
       "    </tr>\n",
       "    <tr>\n",
       "      <td>3</td>\n",
       "      <td>wii sports resort</td>\n",
       "      <td>wii</td>\n",
       "      <td>2009-01-01</td>\n",
       "      <td>sports</td>\n",
       "      <td>15</td>\n",
       "      <td>10</td>\n",
       "      <td>3</td>\n",
       "      <td>2</td>\n",
       "      <td>80.0</td>\n",
       "      <td>8.0</td>\n",
       "      <td>E</td>\n",
       "    </tr>\n",
       "    <tr>\n",
       "      <td>4</td>\n",
       "      <td>pokemon red/pokemon blue</td>\n",
       "      <td>gb</td>\n",
       "      <td>1996-01-01</td>\n",
       "      <td>role-playing</td>\n",
       "      <td>11</td>\n",
       "      <td>8</td>\n",
       "      <td>10</td>\n",
       "      <td>1</td>\n",
       "      <td>0.0</td>\n",
       "      <td>7.5</td>\n",
       "      <td>NaN</td>\n",
       "    </tr>\n",
       "  </tbody>\n",
       "</table>\n",
       "</div>"
      ],
      "text/plain": [
       "                       Name Platform Year_of_Release         Genre  NA_sales  \\\n",
       "0                wii sports      wii      2006-01-01        sports        41   \n",
       "1         super mario bros.      nes      1985-01-01      platform        29   \n",
       "2            mario kart wii      wii      2008-01-01        racing        15   \n",
       "3         wii sports resort      wii      2009-01-01        sports        15   \n",
       "4  pokemon red/pokemon blue       gb      1996-01-01  role-playing        11   \n",
       "\n",
       "   EU_sales  JP_sales  Other_sales  Critic_Score  User_Score Rating  \n",
       "0        28         3            8          76.0         8.0      E  \n",
       "1         3         6            0           0.0         7.5    NaN  \n",
       "2        12         3            3          82.0         8.3      E  \n",
       "3        10         3            2          80.0         8.0      E  \n",
       "4         8        10            1           0.0         7.5    NaN  "
      ]
     },
     "execution_count": 47,
     "metadata": {},
     "output_type": "execute_result"
    }
   ],
   "source": [
    "# посмотрим  все ли в порядке\n",
    "df.head()"
   ]
  },
  {
   "cell_type": "code",
   "execution_count": 48,
   "metadata": {},
   "outputs": [],
   "source": [
    "# устраняем верблюжий регистр\n",
    "df = df.rename(columns={'Name': 'name', 'Platform': 'platform', 'Year_of_Release': 'year_of_release',\\\n",
    "                        'Genre': 'genre', 'NA_sales': 'na_sales', 'EU_sales': 'eu_sales', 'JP_sales': 'jp_sales',\\\n",
    "                       'Other_sales': 'other_sales', 'Critic_Score': 'critic_score', 'User_Score': 'user_score',\\\n",
    "                        'Rating': 'rating'})"
   ]
  },
  {
   "cell_type": "code",
   "execution_count": 49,
   "metadata": {},
   "outputs": [
    {
     "data": {
      "text/html": [
       "<div>\n",
       "<style scoped>\n",
       "    .dataframe tbody tr th:only-of-type {\n",
       "        vertical-align: middle;\n",
       "    }\n",
       "\n",
       "    .dataframe tbody tr th {\n",
       "        vertical-align: top;\n",
       "    }\n",
       "\n",
       "    .dataframe thead th {\n",
       "        text-align: right;\n",
       "    }\n",
       "</style>\n",
       "<table border=\"1\" class=\"dataframe\">\n",
       "  <thead>\n",
       "    <tr style=\"text-align: right;\">\n",
       "      <th></th>\n",
       "      <th>name</th>\n",
       "      <th>platform</th>\n",
       "      <th>year_of_release</th>\n",
       "      <th>genre</th>\n",
       "      <th>na_sales</th>\n",
       "      <th>eu_sales</th>\n",
       "      <th>jp_sales</th>\n",
       "      <th>other_sales</th>\n",
       "      <th>critic_score</th>\n",
       "      <th>user_score</th>\n",
       "      <th>rating</th>\n",
       "    </tr>\n",
       "  </thead>\n",
       "  <tbody>\n",
       "    <tr>\n",
       "      <td>0</td>\n",
       "      <td>wii sports</td>\n",
       "      <td>wii</td>\n",
       "      <td>2006-01-01</td>\n",
       "      <td>sports</td>\n",
       "      <td>41</td>\n",
       "      <td>28</td>\n",
       "      <td>3</td>\n",
       "      <td>8</td>\n",
       "      <td>76.0</td>\n",
       "      <td>8.0</td>\n",
       "      <td>E</td>\n",
       "    </tr>\n",
       "    <tr>\n",
       "      <td>1</td>\n",
       "      <td>super mario bros.</td>\n",
       "      <td>nes</td>\n",
       "      <td>1985-01-01</td>\n",
       "      <td>platform</td>\n",
       "      <td>29</td>\n",
       "      <td>3</td>\n",
       "      <td>6</td>\n",
       "      <td>0</td>\n",
       "      <td>0.0</td>\n",
       "      <td>7.5</td>\n",
       "      <td>NaN</td>\n",
       "    </tr>\n",
       "    <tr>\n",
       "      <td>2</td>\n",
       "      <td>mario kart wii</td>\n",
       "      <td>wii</td>\n",
       "      <td>2008-01-01</td>\n",
       "      <td>racing</td>\n",
       "      <td>15</td>\n",
       "      <td>12</td>\n",
       "      <td>3</td>\n",
       "      <td>3</td>\n",
       "      <td>82.0</td>\n",
       "      <td>8.3</td>\n",
       "      <td>E</td>\n",
       "    </tr>\n",
       "    <tr>\n",
       "      <td>3</td>\n",
       "      <td>wii sports resort</td>\n",
       "      <td>wii</td>\n",
       "      <td>2009-01-01</td>\n",
       "      <td>sports</td>\n",
       "      <td>15</td>\n",
       "      <td>10</td>\n",
       "      <td>3</td>\n",
       "      <td>2</td>\n",
       "      <td>80.0</td>\n",
       "      <td>8.0</td>\n",
       "      <td>E</td>\n",
       "    </tr>\n",
       "    <tr>\n",
       "      <td>4</td>\n",
       "      <td>pokemon red/pokemon blue</td>\n",
       "      <td>gb</td>\n",
       "      <td>1996-01-01</td>\n",
       "      <td>role-playing</td>\n",
       "      <td>11</td>\n",
       "      <td>8</td>\n",
       "      <td>10</td>\n",
       "      <td>1</td>\n",
       "      <td>0.0</td>\n",
       "      <td>7.5</td>\n",
       "      <td>NaN</td>\n",
       "    </tr>\n",
       "  </tbody>\n",
       "</table>\n",
       "</div>"
      ],
      "text/plain": [
       "                       name platform year_of_release         genre  na_sales  \\\n",
       "0                wii sports      wii      2006-01-01        sports        41   \n",
       "1         super mario bros.      nes      1985-01-01      platform        29   \n",
       "2            mario kart wii      wii      2008-01-01        racing        15   \n",
       "3         wii sports resort      wii      2009-01-01        sports        15   \n",
       "4  pokemon red/pokemon blue       gb      1996-01-01  role-playing        11   \n",
       "\n",
       "   eu_sales  jp_sales  other_sales  critic_score  user_score rating  \n",
       "0        28         3            8          76.0         8.0      E  \n",
       "1         3         6            0           0.0         7.5    NaN  \n",
       "2        12         3            3          82.0         8.3      E  \n",
       "3        10         3            2          80.0         8.0      E  \n",
       "4         8        10            1           0.0         7.5    NaN  "
      ]
     },
     "execution_count": 49,
     "metadata": {},
     "output_type": "execute_result"
    }
   ],
   "source": [
    "# посмотрим  еще раз - стало лучше \n",
    "df.head()"
   ]
  },
  {
   "cell_type": "code",
   "execution_count": 50,
   "metadata": {},
   "outputs": [
    {
     "data": {
      "text/plain": [
       "0"
      ]
     },
     "execution_count": 50,
     "metadata": {},
     "output_type": "execute_result"
    }
   ],
   "source": [
    "# рассмотреим дата сет на предмет наличия явных дубликатов\n",
    "df.duplicated().sum()"
   ]
  },
  {
   "cell_type": "markdown",
   "metadata": {},
   "source": [
    "<div style=\"border:solid DarkCyan 3px; padding: 20px\"> Согласно условиям задачи в рамках проекта необходимо посчитать суммарные продажи во всех регионах и записать их в отдельный столбец. </div>"
   ]
  },
  {
   "cell_type": "code",
   "execution_count": 51,
   "metadata": {},
   "outputs": [],
   "source": [
    "# посчитаем суммарные продажи во всех регионах в отдельном столбце 'total_sales'\n",
    "df['total_sales'] = df[['na_sales','eu_sales','jp_sales', 'other_sales']].sum(axis=1)"
   ]
  },
  {
   "cell_type": "markdown",
   "metadata": {},
   "source": [
    "<div class=\"alert alert-info\"> <b> Комментарий студента:  </b> Благодарю 👍</div>"
   ]
  },
  {
   "cell_type": "code",
   "execution_count": 52,
   "metadata": {},
   "outputs": [],
   "source": [
    "df['id'] = df.reset_index().index"
   ]
  },
  {
   "cell_type": "code",
   "execution_count": 53,
   "metadata": {},
   "outputs": [
    {
     "data": {
      "text/html": [
       "<div>\n",
       "<style scoped>\n",
       "    .dataframe tbody tr th:only-of-type {\n",
       "        vertical-align: middle;\n",
       "    }\n",
       "\n",
       "    .dataframe tbody tr th {\n",
       "        vertical-align: top;\n",
       "    }\n",
       "\n",
       "    .dataframe thead th {\n",
       "        text-align: right;\n",
       "    }\n",
       "</style>\n",
       "<table border=\"1\" class=\"dataframe\">\n",
       "  <thead>\n",
       "    <tr style=\"text-align: right;\">\n",
       "      <th></th>\n",
       "      <th>name</th>\n",
       "      <th>platform</th>\n",
       "      <th>year_of_release</th>\n",
       "      <th>genre</th>\n",
       "      <th>na_sales</th>\n",
       "      <th>eu_sales</th>\n",
       "      <th>jp_sales</th>\n",
       "      <th>other_sales</th>\n",
       "      <th>critic_score</th>\n",
       "      <th>user_score</th>\n",
       "      <th>rating</th>\n",
       "      <th>total_sales</th>\n",
       "      <th>id</th>\n",
       "    </tr>\n",
       "  </thead>\n",
       "  <tbody>\n",
       "    <tr>\n",
       "      <td>0</td>\n",
       "      <td>wii sports</td>\n",
       "      <td>wii</td>\n",
       "      <td>2006-01-01</td>\n",
       "      <td>sports</td>\n",
       "      <td>41</td>\n",
       "      <td>28</td>\n",
       "      <td>3</td>\n",
       "      <td>8</td>\n",
       "      <td>76.0</td>\n",
       "      <td>8.0</td>\n",
       "      <td>E</td>\n",
       "      <td>80</td>\n",
       "      <td>0</td>\n",
       "    </tr>\n",
       "    <tr>\n",
       "      <td>1</td>\n",
       "      <td>super mario bros.</td>\n",
       "      <td>nes</td>\n",
       "      <td>1985-01-01</td>\n",
       "      <td>platform</td>\n",
       "      <td>29</td>\n",
       "      <td>3</td>\n",
       "      <td>6</td>\n",
       "      <td>0</td>\n",
       "      <td>0.0</td>\n",
       "      <td>7.5</td>\n",
       "      <td>NaN</td>\n",
       "      <td>38</td>\n",
       "      <td>1</td>\n",
       "    </tr>\n",
       "    <tr>\n",
       "      <td>2</td>\n",
       "      <td>mario kart wii</td>\n",
       "      <td>wii</td>\n",
       "      <td>2008-01-01</td>\n",
       "      <td>racing</td>\n",
       "      <td>15</td>\n",
       "      <td>12</td>\n",
       "      <td>3</td>\n",
       "      <td>3</td>\n",
       "      <td>82.0</td>\n",
       "      <td>8.3</td>\n",
       "      <td>E</td>\n",
       "      <td>33</td>\n",
       "      <td>2</td>\n",
       "    </tr>\n",
       "    <tr>\n",
       "      <td>3</td>\n",
       "      <td>wii sports resort</td>\n",
       "      <td>wii</td>\n",
       "      <td>2009-01-01</td>\n",
       "      <td>sports</td>\n",
       "      <td>15</td>\n",
       "      <td>10</td>\n",
       "      <td>3</td>\n",
       "      <td>2</td>\n",
       "      <td>80.0</td>\n",
       "      <td>8.0</td>\n",
       "      <td>E</td>\n",
       "      <td>30</td>\n",
       "      <td>3</td>\n",
       "    </tr>\n",
       "    <tr>\n",
       "      <td>4</td>\n",
       "      <td>pokemon red/pokemon blue</td>\n",
       "      <td>gb</td>\n",
       "      <td>1996-01-01</td>\n",
       "      <td>role-playing</td>\n",
       "      <td>11</td>\n",
       "      <td>8</td>\n",
       "      <td>10</td>\n",
       "      <td>1</td>\n",
       "      <td>0.0</td>\n",
       "      <td>7.5</td>\n",
       "      <td>NaN</td>\n",
       "      <td>30</td>\n",
       "      <td>4</td>\n",
       "    </tr>\n",
       "    <tr>\n",
       "      <td>5</td>\n",
       "      <td>tetris</td>\n",
       "      <td>gb</td>\n",
       "      <td>1989-01-01</td>\n",
       "      <td>puzzle</td>\n",
       "      <td>23</td>\n",
       "      <td>2</td>\n",
       "      <td>4</td>\n",
       "      <td>0</td>\n",
       "      <td>0.0</td>\n",
       "      <td>7.5</td>\n",
       "      <td>NaN</td>\n",
       "      <td>29</td>\n",
       "      <td>5</td>\n",
       "    </tr>\n",
       "    <tr>\n",
       "      <td>6</td>\n",
       "      <td>new super mario bros.</td>\n",
       "      <td>ds</td>\n",
       "      <td>2006-01-01</td>\n",
       "      <td>platform</td>\n",
       "      <td>11</td>\n",
       "      <td>9</td>\n",
       "      <td>6</td>\n",
       "      <td>2</td>\n",
       "      <td>89.0</td>\n",
       "      <td>8.5</td>\n",
       "      <td>E</td>\n",
       "      <td>28</td>\n",
       "      <td>6</td>\n",
       "    </tr>\n",
       "    <tr>\n",
       "      <td>7</td>\n",
       "      <td>wii play</td>\n",
       "      <td>wii</td>\n",
       "      <td>2006-01-01</td>\n",
       "      <td>misc</td>\n",
       "      <td>13</td>\n",
       "      <td>9</td>\n",
       "      <td>2</td>\n",
       "      <td>2</td>\n",
       "      <td>58.0</td>\n",
       "      <td>6.6</td>\n",
       "      <td>E</td>\n",
       "      <td>26</td>\n",
       "      <td>7</td>\n",
       "    </tr>\n",
       "    <tr>\n",
       "      <td>8</td>\n",
       "      <td>new super mario bros. wii</td>\n",
       "      <td>wii</td>\n",
       "      <td>2009-01-01</td>\n",
       "      <td>platform</td>\n",
       "      <td>14</td>\n",
       "      <td>6</td>\n",
       "      <td>4</td>\n",
       "      <td>2</td>\n",
       "      <td>87.0</td>\n",
       "      <td>8.4</td>\n",
       "      <td>E</td>\n",
       "      <td>26</td>\n",
       "      <td>8</td>\n",
       "    </tr>\n",
       "    <tr>\n",
       "      <td>9</td>\n",
       "      <td>duck hunt</td>\n",
       "      <td>nes</td>\n",
       "      <td>1984-01-01</td>\n",
       "      <td>shooter</td>\n",
       "      <td>26</td>\n",
       "      <td>0</td>\n",
       "      <td>0</td>\n",
       "      <td>0</td>\n",
       "      <td>0.0</td>\n",
       "      <td>7.5</td>\n",
       "      <td>NaN</td>\n",
       "      <td>26</td>\n",
       "      <td>9</td>\n",
       "    </tr>\n",
       "  </tbody>\n",
       "</table>\n",
       "</div>"
      ],
      "text/plain": [
       "                        name platform year_of_release         genre  na_sales  \\\n",
       "0                 wii sports      wii      2006-01-01        sports        41   \n",
       "1          super mario bros.      nes      1985-01-01      platform        29   \n",
       "2             mario kart wii      wii      2008-01-01        racing        15   \n",
       "3          wii sports resort      wii      2009-01-01        sports        15   \n",
       "4   pokemon red/pokemon blue       gb      1996-01-01  role-playing        11   \n",
       "5                     tetris       gb      1989-01-01        puzzle        23   \n",
       "6      new super mario bros.       ds      2006-01-01      platform        11   \n",
       "7                   wii play      wii      2006-01-01          misc        13   \n",
       "8  new super mario bros. wii      wii      2009-01-01      platform        14   \n",
       "9                  duck hunt      nes      1984-01-01       shooter        26   \n",
       "\n",
       "   eu_sales  jp_sales  other_sales  critic_score  user_score rating  \\\n",
       "0        28         3            8          76.0         8.0      E   \n",
       "1         3         6            0           0.0         7.5    NaN   \n",
       "2        12         3            3          82.0         8.3      E   \n",
       "3        10         3            2          80.0         8.0      E   \n",
       "4         8        10            1           0.0         7.5    NaN   \n",
       "5         2         4            0           0.0         7.5    NaN   \n",
       "6         9         6            2          89.0         8.5      E   \n",
       "7         9         2            2          58.0         6.6      E   \n",
       "8         6         4            2          87.0         8.4      E   \n",
       "9         0         0            0           0.0         7.5    NaN   \n",
       "\n",
       "   total_sales  id  \n",
       "0           80   0  \n",
       "1           38   1  \n",
       "2           33   2  \n",
       "3           30   3  \n",
       "4           30   4  \n",
       "5           29   5  \n",
       "6           28   6  \n",
       "7           26   7  \n",
       "8           26   8  \n",
       "9           26   9  "
      ]
     },
     "execution_count": 53,
     "metadata": {},
     "output_type": "execute_result"
    }
   ],
   "source": [
    "# посмотрим на результат в первых 10 строчках\n",
    "df.head(10)"
   ]
  },
  {
   "cell_type": "code",
   "execution_count": 54,
   "metadata": {},
   "outputs": [
    {
     "name": "stdout",
     "output_type": "stream",
     "text": [
      "<class 'pandas.core.frame.DataFrame'>\n",
      "Int64Index: 16713 entries, 0 to 16714\n",
      "Data columns (total 13 columns):\n",
      "name               16713 non-null object\n",
      "platform           16713 non-null object\n",
      "year_of_release    16444 non-null datetime64[ns]\n",
      "genre              16713 non-null object\n",
      "na_sales           16713 non-null int64\n",
      "eu_sales           16713 non-null int64\n",
      "jp_sales           16713 non-null int64\n",
      "other_sales        16713 non-null int64\n",
      "critic_score       16713 non-null float64\n",
      "user_score         16713 non-null float64\n",
      "rating             9949 non-null object\n",
      "total_sales        16713 non-null int64\n",
      "id                 16713 non-null int64\n",
      "dtypes: datetime64[ns](1), float64(2), int64(6), object(4)\n",
      "memory usage: 1.8+ MB\n"
     ]
    }
   ],
   "source": [
    "df.info()"
   ]
  },
  {
   "cell_type": "markdown",
   "metadata": {},
   "source": [
    "**Вывод:**\n",
    "\n",
    "Все выявленные недостатки на этапе изучения датафрейма и в процессе его предообработки выполнены, подготовлен столбец с расчетом суммарных значений продаж во всех регионах, датасет готов к следующему этапу работы для применения аналитических инструментов. В распоряжении датафрейм состоящий из 13 столбцов и 16713 строк."
   ]
  },
  {
   "cell_type": "markdown",
   "metadata": {},
   "source": [
    "##  Исследовательский анализ данных"
   ]
  },
  {
   "cell_type": "markdown",
   "metadata": {},
   "source": [
    "- посмотрите, сколько игр выпускалось в разные годы;\n",
    "- важны ли данные за все периоды? \n",
    "- посмотрите, как менялись продажи по платформам. \n",
    "- выберите платформы с наибольшими суммарными продажами и постройте распределение по годам. \n",
    "- за какой характерный срок появляются новые и исчезают старые платформы? \n",
    "- возьмите данные за соответствующий актуальный период. \n",
    "- актуальный период определите самостоятельно в результате исследования предыдущих вопросов. \n",
    "- основной фактор — эти данные помогут построить прогноз на 2017 год. \n",
    "- не учитывайте в работе данные за предыдущие годы. \n",
    "- какие платформы лидируют по продажам, растут или падают? Выберите несколько потенциально прибыльных платформ. \n",
    "- постройте график «ящик с усами» по глобальным продажам игр в разбивке по платформам. \n",
    "- опишите результат. \n",
    "- посмотрите, как влияют на продажи внутри одной популярной платформы отзывы пользователей и критиков. \n",
    "- постройте диаграмму рассеяния и посчитайте корреляцию между отзывами и продажами. \n",
    "- сформулируйте выводы. \n",
    "- соотнесите выводы с продажами игр на других платформах. \n",
    "- посмотрите на общее распределение игр по жанрам. \n",
    "- что можно сказать о самых прибыльных жанрах? \n",
    "- выделяются ли жанры с высокими и низкими продажами?"
   ]
  },
  {
   "cell_type": "code",
   "execution_count": 55,
   "metadata": {},
   "outputs": [],
   "source": [
    "# для  начала проведения анализа создам специально переменную-аналог фрейму данных df с которомы могу эксперементировать\n",
    "df_1 = df"
   ]
  },
  {
   "cell_type": "code",
   "execution_count": 56,
   "metadata": {},
   "outputs": [
    {
     "data": {
      "text/html": [
       "<div>\n",
       "<style scoped>\n",
       "    .dataframe tbody tr th:only-of-type {\n",
       "        vertical-align: middle;\n",
       "    }\n",
       "\n",
       "    .dataframe tbody tr th {\n",
       "        vertical-align: top;\n",
       "    }\n",
       "\n",
       "    .dataframe thead th {\n",
       "        text-align: right;\n",
       "    }\n",
       "</style>\n",
       "<table border=\"1\" class=\"dataframe\">\n",
       "  <thead>\n",
       "    <tr style=\"text-align: right;\">\n",
       "      <th></th>\n",
       "      <th>name</th>\n",
       "      <th>platform</th>\n",
       "      <th>year_of_release</th>\n",
       "      <th>genre</th>\n",
       "      <th>na_sales</th>\n",
       "      <th>eu_sales</th>\n",
       "      <th>jp_sales</th>\n",
       "      <th>other_sales</th>\n",
       "      <th>critic_score</th>\n",
       "      <th>user_score</th>\n",
       "      <th>rating</th>\n",
       "      <th>total_sales</th>\n",
       "      <th>id</th>\n",
       "    </tr>\n",
       "  </thead>\n",
       "  <tbody>\n",
       "    <tr>\n",
       "      <td>0</td>\n",
       "      <td>wii sports</td>\n",
       "      <td>wii</td>\n",
       "      <td>2006-01-01</td>\n",
       "      <td>sports</td>\n",
       "      <td>41</td>\n",
       "      <td>28</td>\n",
       "      <td>3</td>\n",
       "      <td>8</td>\n",
       "      <td>76.0</td>\n",
       "      <td>8.0</td>\n",
       "      <td>E</td>\n",
       "      <td>80</td>\n",
       "      <td>0</td>\n",
       "    </tr>\n",
       "    <tr>\n",
       "      <td>1</td>\n",
       "      <td>super mario bros.</td>\n",
       "      <td>nes</td>\n",
       "      <td>1985-01-01</td>\n",
       "      <td>platform</td>\n",
       "      <td>29</td>\n",
       "      <td>3</td>\n",
       "      <td>6</td>\n",
       "      <td>0</td>\n",
       "      <td>0.0</td>\n",
       "      <td>7.5</td>\n",
       "      <td>NaN</td>\n",
       "      <td>38</td>\n",
       "      <td>1</td>\n",
       "    </tr>\n",
       "  </tbody>\n",
       "</table>\n",
       "</div>"
      ],
      "text/plain": [
       "                name platform year_of_release     genre  na_sales  eu_sales  \\\n",
       "0         wii sports      wii      2006-01-01    sports        41        28   \n",
       "1  super mario bros.      nes      1985-01-01  platform        29         3   \n",
       "\n",
       "   jp_sales  other_sales  critic_score  user_score rating  total_sales  id  \n",
       "0         3            8          76.0         8.0      E           80   0  \n",
       "1         6            0           0.0         7.5    NaN           38   1  "
      ]
     },
     "execution_count": 56,
     "metadata": {},
     "output_type": "execute_result"
    }
   ],
   "source": [
    "df_1.head(2)"
   ]
  },
  {
   "cell_type": "markdown",
   "metadata": {},
   "source": [
    "<div style=\"border:solid DarkCyan 3px; padding: 20px\"> Задача: посмотрите, сколько игр выпускалось в разные годы. Процесс решения данной задачи вижу так: надо составить ранжирование по годам столбец 'year_of_release', к столбцу требуется  прицепить другой важный столбец, подсчитывающий количество игр.</div>"
   ]
  },
  {
   "cell_type": "code",
   "execution_count": 57,
   "metadata": {},
   "outputs": [],
   "source": [
    "# используем для решения данной задачи метод сводных таблиц, создам специальную  переменную  'how_games_years' в которой\n",
    "# отражаем стобец year_of_release и игры - по присвоенным им уникальным идентификаторам - id (количественное значение)\n",
    "#  чтобы функция summ  могла провести расчеты\n",
    "how_games_years = df_1.pivot_table(index = 'year_of_release', values = 'id', aggfunc = sum)"
   ]
  },
  {
   "cell_type": "code",
   "execution_count": 58,
   "metadata": {
    "scrolled": true
   },
   "outputs": [
    {
     "data": {
      "text/html": [
       "<div>\n",
       "<style scoped>\n",
       "    .dataframe tbody tr th:only-of-type {\n",
       "        vertical-align: middle;\n",
       "    }\n",
       "\n",
       "    .dataframe tbody tr th {\n",
       "        vertical-align: top;\n",
       "    }\n",
       "\n",
       "    .dataframe thead th {\n",
       "        text-align: right;\n",
       "    }\n",
       "</style>\n",
       "<table border=\"1\" class=\"dataframe\">\n",
       "  <thead>\n",
       "    <tr style=\"text-align: right;\">\n",
       "      <th></th>\n",
       "      <th>id</th>\n",
       "    </tr>\n",
       "    <tr>\n",
       "      <th>year_of_release</th>\n",
       "      <th></th>\n",
       "    </tr>\n",
       "  </thead>\n",
       "  <tbody>\n",
       "    <tr>\n",
       "      <td>1980-01-01</td>\n",
       "      <td>29737</td>\n",
       "    </tr>\n",
       "    <tr>\n",
       "      <td>1981-01-01</td>\n",
       "      <td>189829</td>\n",
       "    </tr>\n",
       "    <tr>\n",
       "      <td>1982-01-01</td>\n",
       "      <td>148728</td>\n",
       "    </tr>\n",
       "    <tr>\n",
       "      <td>1983-01-01</td>\n",
       "      <td>56552</td>\n",
       "    </tr>\n",
       "    <tr>\n",
       "      <td>1984-01-01</td>\n",
       "      <td>22857</td>\n",
       "    </tr>\n",
       "    <tr>\n",
       "      <td>1985-01-01</td>\n",
       "      <td>55606</td>\n",
       "    </tr>\n",
       "    <tr>\n",
       "      <td>1986-01-01</td>\n",
       "      <td>35890</td>\n",
       "    </tr>\n",
       "    <tr>\n",
       "      <td>1987-01-01</td>\n",
       "      <td>54609</td>\n",
       "    </tr>\n",
       "    <tr>\n",
       "      <td>1988-01-01</td>\n",
       "      <td>37236</td>\n",
       "    </tr>\n",
       "    <tr>\n",
       "      <td>1989-01-01</td>\n",
       "      <td>40116</td>\n",
       "    </tr>\n",
       "    <tr>\n",
       "      <td>1990-01-01</td>\n",
       "      <td>25052</td>\n",
       "    </tr>\n",
       "    <tr>\n",
       "      <td>1991-01-01</td>\n",
       "      <td>212416</td>\n",
       "    </tr>\n",
       "    <tr>\n",
       "      <td>1992-01-01</td>\n",
       "      <td>208521</td>\n",
       "    </tr>\n",
       "    <tr>\n",
       "      <td>1993-01-01</td>\n",
       "      <td>378803</td>\n",
       "    </tr>\n",
       "    <tr>\n",
       "      <td>1994-01-01</td>\n",
       "      <td>868774</td>\n",
       "    </tr>\n",
       "    <tr>\n",
       "      <td>1995-01-01</td>\n",
       "      <td>1880610</td>\n",
       "    </tr>\n",
       "    <tr>\n",
       "      <td>1996-01-01</td>\n",
       "      <td>1911710</td>\n",
       "    </tr>\n",
       "    <tr>\n",
       "      <td>1997-01-01</td>\n",
       "      <td>1896456</td>\n",
       "    </tr>\n",
       "    <tr>\n",
       "      <td>1998-01-01</td>\n",
       "      <td>2624773</td>\n",
       "    </tr>\n",
       "    <tr>\n",
       "      <td>1999-01-01</td>\n",
       "      <td>2186403</td>\n",
       "    </tr>\n",
       "    <tr>\n",
       "      <td>2000-01-01</td>\n",
       "      <td>2390998</td>\n",
       "    </tr>\n",
       "    <tr>\n",
       "      <td>2001-01-01</td>\n",
       "      <td>3388451</td>\n",
       "    </tr>\n",
       "    <tr>\n",
       "      <td>2002-01-01</td>\n",
       "      <td>6836770</td>\n",
       "    </tr>\n",
       "    <tr>\n",
       "      <td>2003-01-01</td>\n",
       "      <td>6117292</td>\n",
       "    </tr>\n",
       "    <tr>\n",
       "      <td>2004-01-01</td>\n",
       "      <td>5799443</td>\n",
       "    </tr>\n",
       "    <tr>\n",
       "      <td>2005-01-01</td>\n",
       "      <td>7714079</td>\n",
       "    </tr>\n",
       "    <tr>\n",
       "      <td>2006-01-01</td>\n",
       "      <td>9575617</td>\n",
       "    </tr>\n",
       "    <tr>\n",
       "      <td>2007-01-01</td>\n",
       "      <td>10331182</td>\n",
       "    </tr>\n",
       "    <tr>\n",
       "      <td>2008-01-01</td>\n",
       "      <td>12155449</td>\n",
       "    </tr>\n",
       "    <tr>\n",
       "      <td>2009-01-01</td>\n",
       "      <td>12435716</td>\n",
       "    </tr>\n",
       "    <tr>\n",
       "      <td>2010-01-01</td>\n",
       "      <td>11107432</td>\n",
       "    </tr>\n",
       "    <tr>\n",
       "      <td>2011-01-01</td>\n",
       "      <td>10089727</td>\n",
       "    </tr>\n",
       "    <tr>\n",
       "      <td>2012-01-01</td>\n",
       "      <td>5562178</td>\n",
       "    </tr>\n",
       "    <tr>\n",
       "      <td>2013-01-01</td>\n",
       "      <td>4452147</td>\n",
       "    </tr>\n",
       "    <tr>\n",
       "      <td>2014-01-01</td>\n",
       "      <td>4939119</td>\n",
       "    </tr>\n",
       "    <tr>\n",
       "      <td>2015-01-01</td>\n",
       "      <td>5917436</td>\n",
       "    </tr>\n",
       "    <tr>\n",
       "      <td>2016-01-01</td>\n",
       "      <td>5617411</td>\n",
       "    </tr>\n",
       "  </tbody>\n",
       "</table>\n",
       "</div>"
      ],
      "text/plain": [
       "                       id\n",
       "year_of_release          \n",
       "1980-01-01          29737\n",
       "1981-01-01         189829\n",
       "1982-01-01         148728\n",
       "1983-01-01          56552\n",
       "1984-01-01          22857\n",
       "1985-01-01          55606\n",
       "1986-01-01          35890\n",
       "1987-01-01          54609\n",
       "1988-01-01          37236\n",
       "1989-01-01          40116\n",
       "1990-01-01          25052\n",
       "1991-01-01         212416\n",
       "1992-01-01         208521\n",
       "1993-01-01         378803\n",
       "1994-01-01         868774\n",
       "1995-01-01        1880610\n",
       "1996-01-01        1911710\n",
       "1997-01-01        1896456\n",
       "1998-01-01        2624773\n",
       "1999-01-01        2186403\n",
       "2000-01-01        2390998\n",
       "2001-01-01        3388451\n",
       "2002-01-01        6836770\n",
       "2003-01-01        6117292\n",
       "2004-01-01        5799443\n",
       "2005-01-01        7714079\n",
       "2006-01-01        9575617\n",
       "2007-01-01       10331182\n",
       "2008-01-01       12155449\n",
       "2009-01-01       12435716\n",
       "2010-01-01       11107432\n",
       "2011-01-01       10089727\n",
       "2012-01-01        5562178\n",
       "2013-01-01        4452147\n",
       "2014-01-01        4939119\n",
       "2015-01-01        5917436\n",
       "2016-01-01        5617411"
      ]
     },
     "execution_count": 58,
     "metadata": {},
     "output_type": "execute_result"
    }
   ],
   "source": [
    "how_games_years"
   ]
  },
  {
   "cell_type": "markdown",
   "metadata": {},
   "source": [
    "<div style=\"border:solid DarkCyan 3px; padding: 20px\"> Смотрим на количество выпущенных игр в разные годы. Для наглядности можно их отобразить в виде линейного графика. </div>"
   ]
  },
  {
   "cell_type": "code",
   "execution_count": 59,
   "metadata": {},
   "outputs": [
    {
     "data": {
      "text/plain": [
       "Text(0, 0.5, 'Количество игр')"
      ]
     },
     "execution_count": 59,
     "metadata": {},
     "output_type": "execute_result"
    },
    {
     "data": {
      "image/png": "[encoded data removed]",
      "text/plain": [
       "<Figure size 1152x576 with 1 Axes>"
      ]
     },
     "metadata": {},
     "output_type": "display_data"
    }
   ],
   "source": [
    "how_games_years.plot(kind='line', figsize=(16,8))\n",
    "plt.xlabel(\"Год выпуска\", fontsize=14, fontweight=\"bold\")\n",
    "plt.ylabel(\"Количество игр\", fontsize=14, fontweight=\"bold\")"
   ]
  },
  {
   "cell_type": "markdown",
   "metadata": {},
   "source": [
    "<div style=\"border:solid DarkCyan 3px; padding: 20px\"> Важны ли данные за все периоды?\n",
    "Посмотрите, как менялись продажи по платформам?. Используя метод сводных таблиц и визуализации мы замечаем такую закономерность, что в период с 1980 по 1993 год, то есть в течение 13 лет количество выпущенных игр ежегодно не превышало отметку 400 тыс., далее с 1993 г. до 2009 г. наметился стабильный рост показателя количества выпущенных игр, то есть в течение 16 лет с 1990 года этот показатель вырос в 30 раз (составил - 12436 тыс.). Далее после 2009 г. наметился тренд падения показателя до уровня 2001 года и в 2013 (составил - 4452 тыс.). Затем тренд незначительно подрос и к  2016 г. составил  5617 тыс. выпускаемых игр во всем мире.  Рост количества игр после 1993 года можно связать с увеличением спроса со стороны потребителей к использованию игровых платформ и соответственно самих игр, падение спроса в 2008 году можно связать с появлением серьезного конкурента на рынке в виде компьютера, который стал более доступным по ценам для широкого потребителя и позволял загружать игровые симуляторы с наименьшими затратами.  </div>"
   ]
  },
  {
   "cell_type": "code",
   "execution_count": 60,
   "metadata": {},
   "outputs": [],
   "source": [
    "# построим распределение платформ с наибольшими продажами\n",
    "platform_group = df_1.pivot_table(index='platform', values='total_sales', aggfunc='sum').sort_values(\n",
    "    by='total_sales', ascending=False)"
   ]
  },
  {
   "cell_type": "code",
   "execution_count": 61,
   "metadata": {},
   "outputs": [
    {
     "data": {
      "text/html": [
       "<div>\n",
       "<style scoped>\n",
       "    .dataframe tbody tr th:only-of-type {\n",
       "        vertical-align: middle;\n",
       "    }\n",
       "\n",
       "    .dataframe tbody tr th {\n",
       "        vertical-align: top;\n",
       "    }\n",
       "\n",
       "    .dataframe thead th {\n",
       "        text-align: right;\n",
       "    }\n",
       "</style>\n",
       "<table border=\"1\" class=\"dataframe\">\n",
       "  <thead>\n",
       "    <tr style=\"text-align: right;\">\n",
       "      <th></th>\n",
       "      <th>total_sales</th>\n",
       "    </tr>\n",
       "    <tr>\n",
       "      <th>platform</th>\n",
       "      <th></th>\n",
       "    </tr>\n",
       "  </thead>\n",
       "  <tbody>\n",
       "    <tr>\n",
       "      <td>wii</td>\n",
       "      <td>416</td>\n",
       "    </tr>\n",
       "    <tr>\n",
       "      <td>ps2</td>\n",
       "      <td>400</td>\n",
       "    </tr>\n",
       "    <tr>\n",
       "      <td>x360</td>\n",
       "      <td>379</td>\n",
       "    </tr>\n",
       "    <tr>\n",
       "      <td>ds</td>\n",
       "      <td>282</td>\n",
       "    </tr>\n",
       "    <tr>\n",
       "      <td>ps3</td>\n",
       "      <td>282</td>\n",
       "    </tr>\n",
       "    <tr>\n",
       "      <td>ps</td>\n",
       "      <td>239</td>\n",
       "    </tr>\n",
       "    <tr>\n",
       "      <td>gb</td>\n",
       "      <td>169</td>\n",
       "    </tr>\n",
       "    <tr>\n",
       "      <td>nes</td>\n",
       "      <td>159</td>\n",
       "    </tr>\n",
       "    <tr>\n",
       "      <td>ps4</td>\n",
       "      <td>127</td>\n",
       "    </tr>\n",
       "    <tr>\n",
       "      <td>3ds</td>\n",
       "      <td>106</td>\n",
       "    </tr>\n",
       "  </tbody>\n",
       "</table>\n",
       "</div>"
      ],
      "text/plain": [
       "          total_sales\n",
       "platform             \n",
       "wii               416\n",
       "ps2               400\n",
       "x360              379\n",
       "ds                282\n",
       "ps3               282\n",
       "ps                239\n",
       "gb                169\n",
       "nes               159\n",
       "ps4               127\n",
       "3ds               106"
      ]
     },
     "execution_count": 61,
     "metadata": {},
     "output_type": "execute_result"
    }
   ],
   "source": [
    "# посмотрим, что получилось, выведем первые 10 платформ\n",
    "platform_group.head(10)"
   ]
  },
  {
   "cell_type": "code",
   "execution_count": 62,
   "metadata": {},
   "outputs": [],
   "source": [
    "# добавим индексацию \n",
    "platform_group = platform_group.head(10).reset_index()"
   ]
  },
  {
   "cell_type": "code",
   "execution_count": 63,
   "metadata": {},
   "outputs": [
    {
     "data": {
      "text/html": [
       "<div>\n",
       "<style scoped>\n",
       "    .dataframe tbody tr th:only-of-type {\n",
       "        vertical-align: middle;\n",
       "    }\n",
       "\n",
       "    .dataframe tbody tr th {\n",
       "        vertical-align: top;\n",
       "    }\n",
       "\n",
       "    .dataframe thead th {\n",
       "        text-align: right;\n",
       "    }\n",
       "</style>\n",
       "<table border=\"1\" class=\"dataframe\">\n",
       "  <thead>\n",
       "    <tr style=\"text-align: right;\">\n",
       "      <th></th>\n",
       "      <th>platform</th>\n",
       "      <th>total_sales</th>\n",
       "    </tr>\n",
       "  </thead>\n",
       "  <tbody>\n",
       "    <tr>\n",
       "      <td>0</td>\n",
       "      <td>wii</td>\n",
       "      <td>416</td>\n",
       "    </tr>\n",
       "    <tr>\n",
       "      <td>1</td>\n",
       "      <td>ps2</td>\n",
       "      <td>400</td>\n",
       "    </tr>\n",
       "    <tr>\n",
       "      <td>2</td>\n",
       "      <td>x360</td>\n",
       "      <td>379</td>\n",
       "    </tr>\n",
       "    <tr>\n",
       "      <td>3</td>\n",
       "      <td>ds</td>\n",
       "      <td>282</td>\n",
       "    </tr>\n",
       "    <tr>\n",
       "      <td>4</td>\n",
       "      <td>ps3</td>\n",
       "      <td>282</td>\n",
       "    </tr>\n",
       "    <tr>\n",
       "      <td>5</td>\n",
       "      <td>ps</td>\n",
       "      <td>239</td>\n",
       "    </tr>\n",
       "    <tr>\n",
       "      <td>6</td>\n",
       "      <td>gb</td>\n",
       "      <td>169</td>\n",
       "    </tr>\n",
       "    <tr>\n",
       "      <td>7</td>\n",
       "      <td>nes</td>\n",
       "      <td>159</td>\n",
       "    </tr>\n",
       "    <tr>\n",
       "      <td>8</td>\n",
       "      <td>ps4</td>\n",
       "      <td>127</td>\n",
       "    </tr>\n",
       "    <tr>\n",
       "      <td>9</td>\n",
       "      <td>3ds</td>\n",
       "      <td>106</td>\n",
       "    </tr>\n",
       "  </tbody>\n",
       "</table>\n",
       "</div>"
      ],
      "text/plain": [
       "  platform  total_sales\n",
       "0      wii          416\n",
       "1      ps2          400\n",
       "2     x360          379\n",
       "3       ds          282\n",
       "4      ps3          282\n",
       "5       ps          239\n",
       "6       gb          169\n",
       "7      nes          159\n",
       "8      ps4          127\n",
       "9      3ds          106"
      ]
     },
     "execution_count": 63,
     "metadata": {},
     "output_type": "execute_result"
    }
   ],
   "source": [
    "# посмотрим на полученное распределение \n",
    "platform_group.head(10)"
   ]
  },
  {
   "cell_type": "code",
   "execution_count": 64,
   "metadata": {},
   "outputs": [],
   "source": [
    "# отранжируем самые передовые платформы с наибольшими суммарными продажами\n",
    "largest_platform_group = platform_group['platform'].unique()"
   ]
  },
  {
   "cell_type": "code",
   "execution_count": 65,
   "metadata": {},
   "outputs": [
    {
     "data": {
      "text/plain": [
       "array(['wii', 'ps2', 'x360', 'ds', 'ps3', 'ps', 'gb', 'nes', 'ps4', '3ds'],\n",
       "      dtype=object)"
      ]
     },
     "execution_count": 65,
     "metadata": {},
     "output_type": "execute_result"
    }
   ],
   "source": [
    "# посмотрим на платформы - лидеры\n",
    "largest_platform_group"
   ]
  },
  {
   "cell_type": "code",
   "execution_count": 66,
   "metadata": {
    "scrolled": true
   },
   "outputs": [
    {
     "data": {
      "image/png": "[encoded data removed]",
      "text/plain": [
       "<Figure size 1152x576 with 1 Axes>"
      ]
     },
     "metadata": {},
     "output_type": "display_data"
    },
    {
     "data": {
      "image/png": "[encoded data removed]",
      "text/plain": [
       "<Figure size 1152x576 with 1 Axes>"
      ]
     },
     "metadata": {},
     "output_type": "display_data"
    },
    {
     "data": {
      "image/png": "[encoded data removed]",
      "text/plain": [
       "<Figure size 1152x576 with 1 Axes>"
      ]
     },
     "metadata": {},
     "output_type": "display_data"
    },
    {
     "data": {
      "image/png": "[encoded data removed]",
      "text/plain": [
       "<Figure size 1152x576 with 1 Axes>"
      ]
     },
     "metadata": {},
     "output_type": "display_data"
    },
    {
     "data": {
      "image/png": "[encoded data removed]",
      "text/plain": [
       "<Figure size 1152x576 with 1 Axes>"
      ]
     },
     "metadata": {},
     "output_type": "display_data"
    },
    {
     "data": {
      "image/png": "[encoded data removed]",
      "text/plain": [
       "<Figure size 1152x576 with 1 Axes>"
      ]
     },
     "metadata": {},
     "output_type": "display_data"
    },
    {
     "data": {
      "image/png": "[encoded data removed]",
      "text/plain": [
       "<Figure size 1152x576 with 1 Axes>"
      ]
     },
     "metadata": {},
     "output_type": "display_data"
    },
    {
     "data": {
      "image/png": "[encoded data removed]",
      "text/plain": [
       "<Figure size 1152x576 with 1 Axes>"
      ]
     },
     "metadata": {},
     "output_type": "display_data"
    },
    {
     "data": {
      "image/png": "[encoded data removed]",
      "text/plain": [
       "<Figure size 1152x576 with 1 Axes>"
      ]
     },
     "metadata": {},
     "output_type": "display_data"
    },
    {
     "data": {
      "image/png": "[encoded data removed]",
      "text/plain": [
       "<Figure size 1152x576 with 1 Axes>"
      ]
     },
     "metadata": {},
     "output_type": "display_data"
    }
   ],
   "source": [
    "# с использованием цикла построим сводную таблицу с распределением по годам в рамках столбчатой диаграммы \n",
    "for platform in largest_platform_group:\n",
    "    df_1[df_1['platform'] == platform].pivot_table(index='year_of_release', values='total_sales', aggfunc='sum').plot(kind='bar', figsize=(16,8))\n",
    "    plt.title(platform)"
   ]
  },
  {
   "cell_type": "markdown",
   "metadata": {},
   "source": [
    "<div style=\"border:solid DarkCyan 3px; padding: 20px\"> Визуализация в виде диаграммы показала, что лидером рынка является платформа Wii — игровая приставка 7-го поколения, 6-я домашняя консоль фирмы Nintendo и наследница Nintendo GameCube, в 2006 и в 2009 гг.  компания продала более 90 млн копий игр на платформу, что закрепило данную платформу в лидерах рынка игровой продукции в период с 2006 г. по 2009 г., далее пошел спад, на смену пришла другая платформа. На втором месте игровая платформа плейстайшин 2 поколения, лидерство ps2 по объемам продаж игр на приставку на рынке занимала с 2001 г. по 2004 г. На тертьем месте x360 - приставка компании Microsoft, которая с 2007 по 2013 гг. стабильно имела объем продаж игр на платформу более 38 млн, пик продаж пришелся на 2010 г. Следующим лидером продаж стала игровая платформа Ds (нинтендо), пиковые продажи игр для этой игровой консоли пришлись с 2005 по 2007 г.</div>"
   ]
  },
  {
   "cell_type": "markdown",
   "metadata": {},
   "source": [
    "**За какой характерный срок появляются новые и исчезают старые платформы?**\n",
    "\n",
    "Исследовательский анализ доказывает, что в среднем игровая платформа популярна на рынке и востребована в течение 3 - лет, далее происходит смена лидера рынка. Другими словами через каждые три года появляются новые и исчезают старые платформы."
   ]
  },
  {
   "cell_type": "markdown",
   "metadata": {},
   "source": [
    "**Возьмите данные за соответствующий актуальный период. Актуальный период определите самостоятельно в результате исследования предыдущих вопросов. Основной фактор — эти данные помогут построить прогноз на 2017 год.**"
   ]
  },
  {
   "cell_type": "markdown",
   "metadata": {},
   "source": [
    "<div style=\"border:solid DarkCyan 3px; padding: 20px\"> Предлагагаемое решение поставленной задачи: первое, с учетом того, что лидер рынка меняется в среднем в течение 3 - х лет, анализировать будем рынок объема продаж период с 2014 по 2016 гг. В результате исследования предыдущих вопросов установлено, что в данный период лиедром рынка является платформа - PS 4. </div>"
   ]
  },
  {
   "cell_type": "code",
   "execution_count": 67,
   "metadata": {},
   "outputs": [],
   "source": [
    "# сделаем срез данных начиная с 2014 г.\n",
    "df_2014_2016 = df_1.query('year_of_release > 2014')"
   ]
  },
  {
   "cell_type": "code",
   "execution_count": 68,
   "metadata": {},
   "outputs": [],
   "source": [
    "# выберем платформы - лидеры продаж в период 2014_2016 годов\n",
    "df_leader = df_2014_2016.pivot_table(index=['platform'], values='total_sales', aggfunc='sum').reset_index().\\\n",
    "sort_values(by='total_sales', ascending=False)"
   ]
  },
  {
   "cell_type": "code",
   "execution_count": 69,
   "metadata": {},
   "outputs": [
    {
     "data": {
      "text/plain": [
       "<matplotlib.axes._subplots.AxesSubplot at 0x7f02c1484bd0>"
      ]
     },
     "execution_count": 69,
     "metadata": {},
     "output_type": "execute_result"
    },
    {
     "data": {
      "image/png": "[encoded data removed]",
      "text/plain": [
       "<Figure size 1152x576 with 1 Axes>"
      ]
     },
     "metadata": {},
     "output_type": "display_data"
    }
   ],
   "source": [
    "# покажем в сеаборн столбчатую диаграмму результатов лидеров продаж в период с 2014 по 2016 гг. \n",
    "sns.set_style('whitegrid')\n",
    "plt.figure(figsize=(16, 8))\n",
    "sns.barplot(data = df_leader, x='platform', y='total_sales')"
   ]
  },
  {
   "cell_type": "markdown",
   "metadata": {},
   "source": [
    "<div style=\"border:solid DarkCyan 3px; padding: 20px\"> При прочих равных условиях на рынке игровых платформ в 2017 году сохранится динамика, которая представлена на вышеуказанном графике, лидерство рынка останется за ps4, xone, 3ds.  </div>"
   ]
  },
  {
   "cell_type": "markdown",
   "metadata": {},
   "source": [
    "<div class=\"alert alert-success\">\n",
    "<b>Комментарий ревьюера:</b>\n",
    "\n",
    "Кстати для того чтобы подписать график мы можем использовать метод `plt.title()` и в конце кода применить `plt.show()`\n",
    "</div>"
   ]
  },
  {
   "cell_type": "markdown",
   "metadata": {},
   "source": [
    "**Постройте график «ящик с усами» по глобальным продажам игр в разбивке по платформам.Опишите результат.**"
   ]
  },
  {
   "cell_type": "code",
   "execution_count": 70,
   "metadata": {},
   "outputs": [
    {
     "data": {
      "image/png": "[encoded data removed]",
      "text/plain": [
       "<Figure size 1152x576 with 1 Axes>"
      ]
     },
     "metadata": {},
     "output_type": "display_data"
    },
    {
     "data": {
      "image/png": "[encoded data removed]",
      "text/plain": [
       "<Figure size 1152x576 with 1 Axes>"
      ]
     },
     "metadata": {},
     "output_type": "display_data"
    },
    {
     "data": {
      "image/png": "[encoded data removed]",
      "text/plain": [
       "<Figure size 1152x576 with 1 Axes>"
      ]
     },
     "metadata": {},
     "output_type": "display_data"
    },
    {
     "data": {
      "image/png": "[encoded data removed]",
      "text/plain": [
       "<Figure size 1152x576 with 1 Axes>"
      ]
     },
     "metadata": {},
     "output_type": "display_data"
    },
    {
     "data": {
      "image/png": "[encoded data removed]",
      "text/plain": [
       "<Figure size 1152x576 with 1 Axes>"
      ]
     },
     "metadata": {},
     "output_type": "display_data"
    },
    {
     "data": {
      "image/png": "[encoded data removed]",
      "text/plain": [
       "<Figure size 1152x576 with 1 Axes>"
      ]
     },
     "metadata": {},
     "output_type": "display_data"
    },
    {
     "data": {
      "image/png": "[encoded data removed]",
      "text/plain": [
       "<Figure size 1152x576 with 1 Axes>"
      ]
     },
     "metadata": {},
     "output_type": "display_data"
    },
    {
     "data": {
      "image/png": "[encoded data removed]",
      "text/plain": [
       "<Figure size 1152x576 with 1 Axes>"
      ]
     },
     "metadata": {},
     "output_type": "display_data"
    },
    {
     "data": {
      "image/png": "[encoded data removed]",
      "text/plain": [
       "<Figure size 1152x576 with 1 Axes>"
      ]
     },
     "metadata": {},
     "output_type": "display_data"
    },
    {
     "data": {
      "image/png": "[encoded data removed]",
      "text/plain": [
       "<Figure size 1152x576 with 1 Axes>"
      ]
     },
     "metadata": {},
     "output_type": "display_data"
    }
   ],
   "source": [
    "for platform in largest_platform_group:\n",
    "    df_1[df_1['platform'] == platform].pivot_table(index='year_of_release', values='total_sales', aggfunc='sum').\\\n",
    "    plot(kind='box', figsize=(16,8))\n",
    "    plt.show()"
   ]
  },
  {
   "cell_type": "markdown",
   "metadata": {},
   "source": [
    "<div style=\"border:solid DarkCyan 3px; padding: 20px\"> Ящик с усами или диаграмма размаха  показывает распределение количественных данных таким образом, чтобы облегчить сравнение между переменными или по уровням категориальной переменной. Окно показывает квартили набора данных, а усы расширяются, чтобы показать остальную часть распределения. Чем полезны диагррамы размаха в нашем случае?, прежде всего тем, что мы можем сравнить показатели продаж по платформам по критерию их медиан. Медиана разбивает ряд данных на две части: половина значений меньше медианы и остальная половина – больше. Диаграмма размаха содержит дополнительную информацию о том, как данные распределены внутри ряда: нижняя граница прямоугольника (ящика) – это первый квартиль (величина, превосходящая 25% значений ряда), а верхняя граница – третий квартиль (величина, превосходящая 75% значений). А те самые «усы» — отрезки, отходящие вверх и вниз от середины прямоугольника – строятся на основе интерквартильного размаха и обозначают верхнюю и нижнюю границу значимой части наших данных, исключая выбросы. 1) Исходя из построенных диаграмм размаха выбросов практически в данных нет, отсутсвуют аномалии (шумы), которые свидетельствуют о том, что  данные могут дать нерелевантные результаты. Это очень хорошая новость для исследования в целом. 2)  Медианная стоимость продаж wii - около 20 млн. копий, медианная стоимость продаж ps около 25 млн копий, x360 c  медианной почти 40 млн копий игр продаж на игровую консоль, на ds стабильно продавалось менее 20 млн копий игр. Лидером стабильных продаж является x360 и по этому критерию эта игровая платформа занимает первое место. </div>"
   ]
  },
  {
   "cell_type": "markdown",
   "metadata": {},
   "source": [
    "**посмотрите, как влияют на продажи внутри одной популярной платформы отзывы пользователей и критиков. Постройте диаграмму рассеяния и посчитайте корреляцию между отзывами и продажами.Сформулируйте выводы.**"
   ]
  },
  {
   "cell_type": "code",
   "execution_count": 71,
   "metadata": {},
   "outputs": [],
   "source": [
    "# Critic_Score — оценка критиков (максимум 100)\n",
    "# User_Score — оценка пользователей (максимум 10)"
   ]
  },
  {
   "cell_type": "code",
   "execution_count": 72,
   "metadata": {},
   "outputs": [
    {
     "data": {
      "text/plain": [
       "0.020006409875614646"
      ]
     },
     "execution_count": 72,
     "metadata": {},
     "output_type": "execute_result"
    }
   ],
   "source": [
    "# построим корреляцию между оценками пользователей и продажами \n",
    "x360 = df_1[df_1['platform']=='x360']\n",
    "x360['user_score'].corr(x360['total_sales'])"
   ]
  },
  {
   "cell_type": "code",
   "execution_count": 73,
   "metadata": {},
   "outputs": [
    {
     "data": {
      "text/plain": [
       "0.20652635190213475"
      ]
     },
     "execution_count": 73,
     "metadata": {},
     "output_type": "execute_result"
    }
   ],
   "source": [
    "# построим корреляцию между оценками критиков и продажами \n",
    "x360 = df_1[df_1['platform']=='x360']\n",
    "x360['critic_score'].corr(x360['total_sales'])"
   ]
  },
  {
   "cell_type": "code",
   "execution_count": 74,
   "metadata": {
    "scrolled": true
   },
   "outputs": [
    {
     "data": {
      "text/plain": [
       "Text(0.5, 1.0, 'corr_x360')"
      ]
     },
     "execution_count": 74,
     "metadata": {},
     "output_type": "execute_result"
    },
    {
     "data": {
      "image/png": "[encoded data removed]",
      "text/plain": [
       "<Figure size 720x432 with 1 Axes>"
      ]
     },
     "metadata": {},
     "output_type": "display_data"
    }
   ],
   "source": [
    "# представим результаты корреляции между оценками пользователей и продажами в диаграмме рассеяния \n",
    "plt.figure(figsize=(10,6))\n",
    "sns.scatterplot(x='user_score', y='total_sales', data=x360)\n",
    "plt.title('corr_x360')"
   ]
  },
  {
   "cell_type": "markdown",
   "metadata": {},
   "source": [
    "<div style=\"border:solid DarkCyan 3px; padding: 20px\"> Корреляция по Пирсону в части зависимости взяьтых показателей общего количества продаж игр для игровой приставки x360 равна 0.02, что бизко к значению нуль, это свидетельствует об отсутствии зависимости между показателями. </div>"
   ]
  },
  {
   "cell_type": "code",
   "execution_count": 75,
   "metadata": {},
   "outputs": [
    {
     "data": {
      "text/plain": [
       "Text(0.5, 1.0, 'corr_x360_crit')"
      ]
     },
     "execution_count": 75,
     "metadata": {},
     "output_type": "execute_result"
    },
    {
     "data": {
      "image/png": "[encoded data removed]",
      "text/plain": [
       "<Figure size 720x432 with 1 Axes>"
      ]
     },
     "metadata": {},
     "output_type": "display_data"
    }
   ],
   "source": [
    "#  представим результаты корреляции между оценками критиков и продажами в диаграмме рассеяния \n",
    "plt.figure(figsize=(10,6))\n",
    "sns.scatterplot(x='critic_score', y='total_sales', data=x360)\n",
    "plt.title('corr_x360_crit')"
   ]
  },
  {
   "cell_type": "markdown",
   "metadata": {},
   "source": [
    "<div style=\"border:solid DarkCyan 3px; padding: 20px\"> Корреляция по Пирсону в части зависимости взятых показателей общего количества продаж игр для игровой приставки x360 равна 0.2, что свидетельствует о наличии совершенно незначительной (слабой) зависимости между показателями количества продаж и оценками критиков. </div>"
   ]
  },
  {
   "cell_type": "markdown",
   "metadata": {},
   "source": [
    "**Cоотнесите выводы с продажами игр на других платформах. Посмотрите на общее распределение игр по жанрам. что можно сказать о самых прибыльных жанрах? выделяются ли жанры с высокими и низкими продажами?**"
   ]
  },
  {
   "cell_type": "code",
   "execution_count": 76,
   "metadata": {},
   "outputs": [],
   "source": [
    "# по располагаемой информации в общей группе обучения наиболее правильным решением данной задачи является использование функции\n",
    "# функция должна позволить построить график рассеяния и показать корелляцию у дургих платформ-лидеров \n",
    "def platform_matrix(name_platform):\n",
    "    platform = df_1[df_1['platform']==name_platform]\n",
    "    fig, ax = plt.subplots(1 ,2, figsize=(12,5))\n",
    "    sns.scatterplot(x='user_score', y='total_sales', data=platform, ax=ax[0])\n",
    "    sns.scatterplot(x='critic_score', y='total_sales', data=platform, ax=ax[1])\n",
    "    fig.suptitle(name_platform, fontsize=12)\n",
    "    ax[0].set(xlabel='Оценка пользователей')\n",
    "    ax[1].set(xlabel='Оценка критиков')\n",
    "    ax[0].set(ylabel='Количество продаж')\n",
    "    ax[1].set(ylabel='Количество продаж')\n",
    "    plt.show()\n",
    "    \n",
    "    correl = platform['user_score'].corr(platform['total_sales'])\n",
    "    critic_correl = platform['critic_score'].corr(platform['total_sales'])\n",
    "    \n",
    "    \n",
    "    if 0.3 >= critic_correl >= 0.1:\n",
    "        print('Корреляция между отзывами критиков и игровой платформой ', name_platform.upper(), ': Слабая', critic_correl)\n",
    "    if 0.5 >= critic_correl >= 0.3:\n",
    "        print('Корреляция между отзывами критиков и игровой платформой ', name_platform.upper(), ': Умеренная', critic_correl)\n",
    "    if 0.7 >= critic_correl >= 0.5:\n",
    "        print('Корреляция между отзывами критиков и игровой платформой ', name_platform.upper(), ': Высокая', critic_correl)\n",
    "    if 0.9 >= critic_correl >= 0.7:\n",
    "        print('Корреляция между отзывами критиков и игровой платформой ', name_platform.upper(), ': Весьма высокая', critic_correl)\n",
    "    if 1 >= critic_correl >= 0.9:\n",
    "        print('Корреляция между отзывами критиков и игровой платформой ', name_platform.upper(), ': Сильная', critic_correl)\n",
    "    \n",
    "    if 0.3 >= correl >= 0.1:\n",
    "        print('Корреляция между отзывами пользователей и продажами ', name_platform.upper(), ': Слабая', correl)\n",
    "    if 0.5 >= correl >= 0.3:\n",
    "        print('Корреляция между отзывами пользователей и продажами ', name_platform.upper(), ': Умеренная', correl)\n",
    "    if 0.7 >= correl >= 0.5:\n",
    "        print('Корреляция между отзывами пользователей и продажами ', name_platform.upper(), ': Высокая', correl)\n",
    "    if 0.9 >= correl >= 0.7:\n",
    "        print('Корреляция между отзывами пользователей и продажами ', name_platform.upper(), ': Весьма высокая', correl)\n",
    "    if 1 >= correl >= 0.9:\n",
    "        print('Корреляция между отзывами пользователей и продажами ', name_platform.upper(), ': Сильная', correl)\n",
    "    print('\\n')\n",
    "    \n",
    "    if 0.1 >= correl >= -0.1:\n",
    "        print('Корреляция между отзывами пользователей и продажами ', name_platform.upper(), ': Корреляция не выявлена', correl)\n",
    "    if -0.1 >= correl >= -0.3:\n",
    "        print('Корреляция между отзывами пользователей и продажами ', name_platform.upper(), ': Слабая обратная', correl)\n",
    "    if -0.3 >= correl >= -0.5:\n",
    "        print('Корреляция между отзывами пользователей и продажами ', name_platform.upper(), ': Умеренная обратная', correl)\n",
    "    if -0.5 >= correl >= -0.7:\n",
    "        print('Корреляция между отзывами пользователей и продажами ', name_platform.upper(), ': Высокая обратная', correl)\n",
    "    if -0.7 >= correl >= -0.9:\n",
    "        print('Корреляция между отзывами пользователей и продажами ', name_platform.upper(), ': Весьма высокая обратная', correl)\n",
    "    if -0.9 >= correl >= -1:\n",
    "        print('Корреляция между отзывами пользователей и продажами ', name_platform.upper(), ': Сильная обратная', correl)\n",
    "    print('\\n')"
   ]
  },
  {
   "cell_type": "code",
   "execution_count": 77,
   "metadata": {},
   "outputs": [],
   "source": [
    "# возьмем за основу период после 2014 года\n",
    "df_2014 = df_1.query('year_of_release > 2014')"
   ]
  },
  {
   "cell_type": "code",
   "execution_count": 78,
   "metadata": {},
   "outputs": [],
   "source": [
    "# выберем 4 наиболее востребованных платформ на рынке и соотнесем с ранее полученными результатами \n",
    "leader_4 = ['ps4','xone','wii','3ds']\n",
    "games_leader_4 = df_2014[df_2014['platform'].isin(['ps4','xone','wii','3ds'])]\n",
    "games_leader_4 = games_leader_4 [games_leader_4['total_sales']<1.4]"
   ]
  },
  {
   "cell_type": "code",
   "execution_count": 79,
   "metadata": {},
   "outputs": [
    {
     "data": {
      "image/png": "[encoded data removed]",
      "text/plain": [
       "<Figure size 864x360 with 2 Axes>"
      ]
     },
     "metadata": {},
     "output_type": "display_data"
    },
    {
     "name": "stdout",
     "output_type": "stream",
     "text": [
      "Корреляция между отзывами критиков и игровой платформой  PS4 : Слабая 0.14849667148797643\n",
      "\n",
      "\n",
      "Корреляция между отзывами пользователей и продажами  PS4 : Корреляция не выявлена -0.060621567176144774\n",
      "\n",
      "\n"
     ]
    },
    {
     "data": {
      "image/png": "[encoded data removed]",
      "text/plain": [
       "<Figure size 864x360 with 2 Axes>"
      ]
     },
     "metadata": {},
     "output_type": "display_data"
    },
    {
     "name": "stdout",
     "output_type": "stream",
     "text": [
      "Корреляция между отзывами критиков и игровой платформой  XONE : Слабая 0.13355480995223118\n",
      "\n",
      "\n",
      "Корреляция между отзывами пользователей и продажами  XONE : Корреляция не выявлена -0.08766546788206606\n",
      "\n",
      "\n"
     ]
    },
    {
     "data": {
      "image/png": "[encoded data removed]",
      "text/plain": [
       "<Figure size 864x360 with 2 Axes>"
      ]
     },
     "metadata": {},
     "output_type": "display_data"
    },
    {
     "name": "stdout",
     "output_type": "stream",
     "text": [
      "Корреляция между отзывами критиков и игровой платформой  WII : Слабая 0.14289260567965023\n",
      "\n",
      "\n",
      "Корреляция между отзывами пользователей и продажами  WII : Корреляция не выявлена 0.05060675378843589\n",
      "\n",
      "\n"
     ]
    },
    {
     "data": {
      "image/png": "[encoded data removed]",
      "text/plain": [
       "<Figure size 864x360 with 2 Axes>"
      ]
     },
     "metadata": {},
     "output_type": "display_data"
    },
    {
     "name": "stdout",
     "output_type": "stream",
     "text": [
      "\n",
      "\n",
      "Корреляция между отзывами пользователей и продажами  3DS : Корреляция не выявлена 0.0985126763823749\n",
      "\n",
      "\n"
     ]
    }
   ],
   "source": [
    "for platform in leader_4:\n",
    "    platform_matrix(platform)"
   ]
  },
  {
   "cell_type": "markdown",
   "metadata": {},
   "source": [
    "<div style=\"border:solid DarkCyan 3px; padding: 20px\"> Другие платформы, такие как 'ps4','xone','wii','3ds' также показывают либо совершеное отсутсвие зависимости между отзывами критиков и игровой платформой, между отзывами пользователей и продажами, либо совершено слабую завимость в перечисленных показателях. </div>"
   ]
  },
  {
   "cell_type": "code",
   "execution_count": 80,
   "metadata": {},
   "outputs": [],
   "source": [
    "# Посмотриv на общее распределение игр по жанрам. \n",
    "# определим что можно сказать о самых прибыльных жанрах? \n",
    "# ответим на вопрос выделяются ли жанры с высокими и низкими продажами?\n",
    "distribution_genre = games_leader_4.pivot_table(index='genre', values='total_sales', aggfunc='sum').sort_values(\n",
    "    by='total_sales', ascending=False).reset_index().rename_axis(None, axis=1)"
   ]
  },
  {
   "cell_type": "code",
   "execution_count": 81,
   "metadata": {},
   "outputs": [
    {
     "data": {
      "text/html": [
       "<div>\n",
       "<style scoped>\n",
       "    .dataframe tbody tr th:only-of-type {\n",
       "        vertical-align: middle;\n",
       "    }\n",
       "\n",
       "    .dataframe tbody tr th {\n",
       "        vertical-align: top;\n",
       "    }\n",
       "\n",
       "    .dataframe thead th {\n",
       "        text-align: right;\n",
       "    }\n",
       "</style>\n",
       "<table border=\"1\" class=\"dataframe\">\n",
       "  <thead>\n",
       "    <tr style=\"text-align: right;\">\n",
       "      <th></th>\n",
       "      <th>genre</th>\n",
       "      <th>total_sales</th>\n",
       "    </tr>\n",
       "  </thead>\n",
       "  <tbody>\n",
       "    <tr>\n",
       "      <td>0</td>\n",
       "      <td>action</td>\n",
       "      <td>7</td>\n",
       "    </tr>\n",
       "    <tr>\n",
       "      <td>1</td>\n",
       "      <td>shooter</td>\n",
       "      <td>4</td>\n",
       "    </tr>\n",
       "    <tr>\n",
       "      <td>2</td>\n",
       "      <td>sports</td>\n",
       "      <td>4</td>\n",
       "    </tr>\n",
       "    <tr>\n",
       "      <td>3</td>\n",
       "      <td>fighting</td>\n",
       "      <td>2</td>\n",
       "    </tr>\n",
       "    <tr>\n",
       "      <td>4</td>\n",
       "      <td>racing</td>\n",
       "      <td>1</td>\n",
       "    </tr>\n",
       "    <tr>\n",
       "      <td>5</td>\n",
       "      <td>adventure</td>\n",
       "      <td>0</td>\n",
       "    </tr>\n",
       "    <tr>\n",
       "      <td>6</td>\n",
       "      <td>misc</td>\n",
       "      <td>0</td>\n",
       "    </tr>\n",
       "    <tr>\n",
       "      <td>7</td>\n",
       "      <td>platform</td>\n",
       "      <td>0</td>\n",
       "    </tr>\n",
       "    <tr>\n",
       "      <td>8</td>\n",
       "      <td>puzzle</td>\n",
       "      <td>0</td>\n",
       "    </tr>\n",
       "    <tr>\n",
       "      <td>9</td>\n",
       "      <td>role-playing</td>\n",
       "      <td>0</td>\n",
       "    </tr>\n",
       "    <tr>\n",
       "      <td>10</td>\n",
       "      <td>simulation</td>\n",
       "      <td>0</td>\n",
       "    </tr>\n",
       "    <tr>\n",
       "      <td>11</td>\n",
       "      <td>strategy</td>\n",
       "      <td>0</td>\n",
       "    </tr>\n",
       "  </tbody>\n",
       "</table>\n",
       "</div>"
      ],
      "text/plain": [
       "           genre  total_sales\n",
       "0         action            7\n",
       "1        shooter            4\n",
       "2         sports            4\n",
       "3       fighting            2\n",
       "4         racing            1\n",
       "5      adventure            0\n",
       "6           misc            0\n",
       "7       platform            0\n",
       "8         puzzle            0\n",
       "9   role-playing            0\n",
       "10    simulation            0\n",
       "11      strategy            0"
      ]
     },
     "execution_count": 81,
     "metadata": {},
     "output_type": "execute_result"
    }
   ],
   "source": [
    "# распечатаем результат\n",
    "distribution_genre"
   ]
  },
  {
   "cell_type": "code",
   "execution_count": 82,
   "metadata": {},
   "outputs": [],
   "source": [
    "distribution_genre_count = games_leader_4.pivot_table(index='genre', values='total_sales', aggfunc='count').sort_values(\n",
    "    by='total_sales', ascending=False).reset_index().rename_axis(None, axis=1)"
   ]
  },
  {
   "cell_type": "code",
   "execution_count": 113,
   "metadata": {},
   "outputs": [
    {
     "data": {
      "text/html": [
       "<div>\n",
       "<style scoped>\n",
       "    .dataframe tbody tr th:only-of-type {\n",
       "        vertical-align: middle;\n",
       "    }\n",
       "\n",
       "    .dataframe tbody tr th {\n",
       "        vertical-align: top;\n",
       "    }\n",
       "\n",
       "    .dataframe thead th {\n",
       "        text-align: right;\n",
       "    }\n",
       "</style>\n",
       "<table border=\"1\" class=\"dataframe\">\n",
       "  <thead>\n",
       "    <tr style=\"text-align: right;\">\n",
       "      <th></th>\n",
       "      <th>genre</th>\n",
       "      <th>total_sales</th>\n",
       "    </tr>\n",
       "  </thead>\n",
       "  <tbody>\n",
       "    <tr>\n",
       "      <td>0</td>\n",
       "      <td>action</td>\n",
       "      <td>230</td>\n",
       "    </tr>\n",
       "    <tr>\n",
       "      <td>1</td>\n",
       "      <td>role-playing</td>\n",
       "      <td>72</td>\n",
       "    </tr>\n",
       "    <tr>\n",
       "      <td>2</td>\n",
       "      <td>sports</td>\n",
       "      <td>49</td>\n",
       "    </tr>\n",
       "    <tr>\n",
       "      <td>3</td>\n",
       "      <td>shooter</td>\n",
       "      <td>47</td>\n",
       "    </tr>\n",
       "    <tr>\n",
       "      <td>4</td>\n",
       "      <td>adventure</td>\n",
       "      <td>42</td>\n",
       "    </tr>\n",
       "    <tr>\n",
       "      <td>5</td>\n",
       "      <td>misc</td>\n",
       "      <td>40</td>\n",
       "    </tr>\n",
       "    <tr>\n",
       "      <td>6</td>\n",
       "      <td>racing</td>\n",
       "      <td>29</td>\n",
       "    </tr>\n",
       "    <tr>\n",
       "      <td>7</td>\n",
       "      <td>fighting</td>\n",
       "      <td>24</td>\n",
       "    </tr>\n",
       "    <tr>\n",
       "      <td>8</td>\n",
       "      <td>platform</td>\n",
       "      <td>16</td>\n",
       "    </tr>\n",
       "    <tr>\n",
       "      <td>9</td>\n",
       "      <td>simulation</td>\n",
       "      <td>14</td>\n",
       "    </tr>\n",
       "    <tr>\n",
       "      <td>10</td>\n",
       "      <td>strategy</td>\n",
       "      <td>10</td>\n",
       "    </tr>\n",
       "    <tr>\n",
       "      <td>11</td>\n",
       "      <td>puzzle</td>\n",
       "      <td>5</td>\n",
       "    </tr>\n",
       "  </tbody>\n",
       "</table>\n",
       "</div>"
      ],
      "text/plain": [
       "           genre  total_sales\n",
       "0         action          230\n",
       "1   role-playing           72\n",
       "2         sports           49\n",
       "3        shooter           47\n",
       "4      adventure           42\n",
       "5           misc           40\n",
       "6         racing           29\n",
       "7       fighting           24\n",
       "8       platform           16\n",
       "9     simulation           14\n",
       "10      strategy           10\n",
       "11        puzzle            5"
      ]
     },
     "execution_count": 113,
     "metadata": {},
     "output_type": "execute_result"
    }
   ],
   "source": [
    "# распечатаем результат\n",
    "distribution_genre_count"
   ]
  },
  {
   "cell_type": "markdown",
   "metadata": {},
   "source": [
    "<div style=\"border:solid DarkCyan 3px; padding: 20px\"> Полученнные результаты говорят о том, что в пятерку лидеров по жанрам входят: action, Shooter, sports, fighting, racing, данные жанры являются лидерами по продажам. </div>"
   ]
  },
  {
   "cell_type": "code",
   "execution_count": 83,
   "metadata": {},
   "outputs": [
    {
     "data": {
      "text/plain": [
       "Text(0, 0.5, 'продажи')"
      ]
     },
     "execution_count": 83,
     "metadata": {},
     "output_type": "execute_result"
    },
    {
     "data": {
      "image/png": "[encoded data removed]",
      "text/plain": [
       "<Figure size 1008x432 with 1 Axes>"
      ]
     },
     "metadata": {},
     "output_type": "display_data"
    }
   ],
   "source": [
    "# покажем в сеаборн столбчатую диаграмму результатов распределения игр по жанрам\n",
    "plt.figure(figsize=(14,6))\n",
    "plt.title('Распределение игр по жанрам ',fontsize=12)\n",
    "sns.barplot(data= distribution_genre, x='genre', y='total_sales')\n",
    "plt.xlabel('жанры игр',fontsize=14)\n",
    "plt.ylabel('продажи',fontsize=14)"
   ]
  },
  {
   "cell_type": "code",
   "execution_count": 114,
   "metadata": {},
   "outputs": [
    {
     "data": {
      "text/plain": [
       "Text(0, 0.5, 'продажи')"
      ]
     },
     "execution_count": 114,
     "metadata": {},
     "output_type": "execute_result"
    },
    {
     "data": {
      "image/png": "[encoded data removed]",
      "text/plain": [
       "<Figure size 1008x432 with 1 Axes>"
      ]
     },
     "metadata": {},
     "output_type": "display_data"
    }
   ],
   "source": [
    "# покажем в сеаборн столбчатую диаграмму результатов распределения игр по жанрам\n",
    "plt.figure(figsize=(14,6))\n",
    "plt.title('Распределение игр по жанрам ',fontsize=12)\n",
    "sns.barplot(data= distribution_genre_count, x='genre', y='total_sales')\n",
    "plt.xlabel('жанры игр',fontsize=14)\n",
    "plt.ylabel('продажи',fontsize=14)"
   ]
  },
  {
   "cell_type": "markdown",
   "metadata": {},
   "source": [
    "<div style=\"border:solid DarkCyan 3px; padding: 20px\"> Очевидно, что жанры с высокими продажами сильно выделяются на фоне жанров с низкими продажами. </div>"
   ]
  },
  {
   "cell_type": "markdown",
   "metadata": {},
   "source": [
    "## Портрет пользователя"
   ]
  },
  {
   "cell_type": "markdown",
   "metadata": {},
   "source": [
    "**Определите для пользователя каждого региона (NA, EU, JP): Самые популярные платформы (топ-5). Опишите различия в долях продаж. Самые популярные жанры (топ-5). Поясните разницу. Влияет ли рейтинг ESRB на продажи в отдельном регионе?**"
   ]
  },
  {
   "cell_type": "markdown",
   "metadata": {},
   "source": [
    "### NA_sales — продажи в Северной Америке"
   ]
  },
  {
   "cell_type": "code",
   "execution_count": 84,
   "metadata": {},
   "outputs": [],
   "source": [
    "# определим топ_5 самых популярных платформ с помощью сводной таблицы\n",
    "na_top_platform = df_1.pivot_table(index='platform', values='na_sales', aggfunc='sum').sort_values(by='na_sales',\\\n",
    "            ascending=False).reset_index().rename_axis(None, axis=1).head(5)"
   ]
  },
  {
   "cell_type": "code",
   "execution_count": 85,
   "metadata": {},
   "outputs": [
    {
     "data": {
      "text/html": [
       "<div>\n",
       "<style scoped>\n",
       "    .dataframe tbody tr th:only-of-type {\n",
       "        vertical-align: middle;\n",
       "    }\n",
       "\n",
       "    .dataframe tbody tr th {\n",
       "        vertical-align: top;\n",
       "    }\n",
       "\n",
       "    .dataframe thead th {\n",
       "        text-align: right;\n",
       "    }\n",
       "</style>\n",
       "<table border=\"1\" class=\"dataframe\">\n",
       "  <thead>\n",
       "    <tr style=\"text-align: right;\">\n",
       "      <th></th>\n",
       "      <th>platform</th>\n",
       "      <th>na_sales</th>\n",
       "    </tr>\n",
       "  </thead>\n",
       "  <tbody>\n",
       "    <tr>\n",
       "      <td>0</td>\n",
       "      <td>x360</td>\n",
       "      <td>289</td>\n",
       "    </tr>\n",
       "    <tr>\n",
       "      <td>1</td>\n",
       "      <td>wii</td>\n",
       "      <td>233</td>\n",
       "    </tr>\n",
       "    <tr>\n",
       "      <td>2</td>\n",
       "      <td>ps2</td>\n",
       "      <td>225</td>\n",
       "    </tr>\n",
       "    <tr>\n",
       "      <td>3</td>\n",
       "      <td>ps3</td>\n",
       "      <td>136</td>\n",
       "    </tr>\n",
       "    <tr>\n",
       "      <td>4</td>\n",
       "      <td>ps</td>\n",
       "      <td>132</td>\n",
       "    </tr>\n",
       "  </tbody>\n",
       "</table>\n",
       "</div>"
      ],
      "text/plain": [
       "  platform  na_sales\n",
       "0     x360       289\n",
       "1      wii       233\n",
       "2      ps2       225\n",
       "3      ps3       136\n",
       "4       ps       132"
      ]
     },
     "metadata": {},
     "output_type": "display_data"
    }
   ],
   "source": [
    "# выведем на экран na_top_platform\n",
    "display(na_top_platform)"
   ]
  },
  {
   "cell_type": "code",
   "execution_count": 86,
   "metadata": {},
   "outputs": [],
   "source": [
    "# определим топ_5 самых популярных жанров с помощью сводной таблицы\n",
    "na_top_genre = df_1.pivot_table(index='genre', values='na_sales', aggfunc='sum').sort_values(by='na_sales',\\\n",
    "            ascending=False).reset_index().rename_axis(None, axis=1).head()"
   ]
  },
  {
   "cell_type": "code",
   "execution_count": 87,
   "metadata": {},
   "outputs": [
    {
     "data": {
      "text/html": [
       "<div>\n",
       "<style scoped>\n",
       "    .dataframe tbody tr th:only-of-type {\n",
       "        vertical-align: middle;\n",
       "    }\n",
       "\n",
       "    .dataframe tbody tr th {\n",
       "        vertical-align: top;\n",
       "    }\n",
       "\n",
       "    .dataframe thead th {\n",
       "        text-align: right;\n",
       "    }\n",
       "</style>\n",
       "<table border=\"1\" class=\"dataframe\">\n",
       "  <thead>\n",
       "    <tr style=\"text-align: right;\">\n",
       "      <th></th>\n",
       "      <th>genre</th>\n",
       "      <th>na_sales</th>\n",
       "    </tr>\n",
       "  </thead>\n",
       "  <tbody>\n",
       "    <tr>\n",
       "      <td>0</td>\n",
       "      <td>shooter</td>\n",
       "      <td>306</td>\n",
       "    </tr>\n",
       "    <tr>\n",
       "      <td>1</td>\n",
       "      <td>action</td>\n",
       "      <td>298</td>\n",
       "    </tr>\n",
       "    <tr>\n",
       "      <td>2</td>\n",
       "      <td>platform</td>\n",
       "      <td>250</td>\n",
       "    </tr>\n",
       "    <tr>\n",
       "      <td>3</td>\n",
       "      <td>sports</td>\n",
       "      <td>247</td>\n",
       "    </tr>\n",
       "    <tr>\n",
       "      <td>4</td>\n",
       "      <td>misc</td>\n",
       "      <td>156</td>\n",
       "    </tr>\n",
       "  </tbody>\n",
       "</table>\n",
       "</div>"
      ],
      "text/plain": [
       "      genre  na_sales\n",
       "0   shooter       306\n",
       "1    action       298\n",
       "2  platform       250\n",
       "3    sports       247\n",
       "4      misc       156"
      ]
     },
     "metadata": {},
     "output_type": "display_data"
    }
   ],
   "source": [
    "# выведем на экран na_top_genre\n",
    "display(na_top_genre)"
   ]
  },
  {
   "cell_type": "markdown",
   "metadata": {},
   "source": [
    "*Подведем итоги по продажам в Северной Америке, цифры говорят, что платформами - лидерами по продажам, являются: x360, wii,  ps2, ps3, ps и в Северной Америке предпочитают следующие игровые жанры: shooter, action, platform, sports, misc (аркада). Игоровая консоль x360, продукт компании Майкрасфот, которая дислоцируется в штате Вашингтон на северо-западе США, wii - это платформа японской компании, специализирующейся на создании видеоигр и игровых систем, со штаб-квартирой в Киото (Япония); ps - это игровая приставка, разработанная компанией Sony Computer Entertainment (японская транснациональная корпорация со штаб-квартирой в Токио). Можно сделать вывод, что в Северной Америке в лидерах продаж свой отечественный продукт из США и остальная часть рынка игровых продуктов занята производителями из Японии.*  "
   ]
  },
  {
   "cell_type": "markdown",
   "metadata": {},
   "source": [
    "### EU_sales — продажи в Европе"
   ]
  },
  {
   "cell_type": "code",
   "execution_count": 88,
   "metadata": {},
   "outputs": [],
   "source": [
    "# определим топ_5 самых популярных платформ с помощью сводной таблицы\n",
    "eu_top_platform = df_1.pivot_table(index='platform', values='eu_sales', aggfunc='sum').sort_values(by='eu_sales',\\\n",
    "            ascending=False).reset_index().rename_axis(None, axis=1).head()"
   ]
  },
  {
   "cell_type": "code",
   "execution_count": 89,
   "metadata": {},
   "outputs": [
    {
     "data": {
      "text/html": [
       "<div>\n",
       "<style scoped>\n",
       "    .dataframe tbody tr th:only-of-type {\n",
       "        vertical-align: middle;\n",
       "    }\n",
       "\n",
       "    .dataframe tbody tr th {\n",
       "        vertical-align: top;\n",
       "    }\n",
       "\n",
       "    .dataframe thead th {\n",
       "        text-align: right;\n",
       "    }\n",
       "</style>\n",
       "<table border=\"1\" class=\"dataframe\">\n",
       "  <thead>\n",
       "    <tr style=\"text-align: right;\">\n",
       "      <th></th>\n",
       "      <th>platform</th>\n",
       "      <th>eu_sales</th>\n",
       "    </tr>\n",
       "  </thead>\n",
       "  <tbody>\n",
       "    <tr>\n",
       "      <td>0</td>\n",
       "      <td>wii</td>\n",
       "      <td>132</td>\n",
       "    </tr>\n",
       "    <tr>\n",
       "      <td>1</td>\n",
       "      <td>ps3</td>\n",
       "      <td>123</td>\n",
       "    </tr>\n",
       "    <tr>\n",
       "      <td>2</td>\n",
       "      <td>ps2</td>\n",
       "      <td>108</td>\n",
       "    </tr>\n",
       "    <tr>\n",
       "      <td>3</td>\n",
       "      <td>ds</td>\n",
       "      <td>85</td>\n",
       "    </tr>\n",
       "    <tr>\n",
       "      <td>4</td>\n",
       "      <td>x360</td>\n",
       "      <td>82</td>\n",
       "    </tr>\n",
       "  </tbody>\n",
       "</table>\n",
       "</div>"
      ],
      "text/plain": [
       "  platform  eu_sales\n",
       "0      wii       132\n",
       "1      ps3       123\n",
       "2      ps2       108\n",
       "3       ds        85\n",
       "4     x360        82"
      ]
     },
     "metadata": {},
     "output_type": "display_data"
    }
   ],
   "source": [
    "# выведем на экран eu_top_platform\n",
    "display(eu_top_platform)"
   ]
  },
  {
   "cell_type": "code",
   "execution_count": 90,
   "metadata": {},
   "outputs": [],
   "source": [
    "# определим топ_5 самых популярных жанров в Европе с помощью сводной таблицы\n",
    "eu_top_genre = df_1.pivot_table(index='genre', values='eu_sales', aggfunc='sum').sort_values(by='eu_sales',\\\n",
    "            ascending=False).reset_index().rename_axis(None, axis=1).head()"
   ]
  },
  {
   "cell_type": "code",
   "execution_count": 91,
   "metadata": {},
   "outputs": [
    {
     "data": {
      "text/html": [
       "<div>\n",
       "<style scoped>\n",
       "    .dataframe tbody tr th:only-of-type {\n",
       "        vertical-align: middle;\n",
       "    }\n",
       "\n",
       "    .dataframe tbody tr th {\n",
       "        vertical-align: top;\n",
       "    }\n",
       "\n",
       "    .dataframe thead th {\n",
       "        text-align: right;\n",
       "    }\n",
       "</style>\n",
       "<table border=\"1\" class=\"dataframe\">\n",
       "  <thead>\n",
       "    <tr style=\"text-align: right;\">\n",
       "      <th></th>\n",
       "      <th>genre</th>\n",
       "      <th>eu_sales</th>\n",
       "    </tr>\n",
       "  </thead>\n",
       "  <tbody>\n",
       "    <tr>\n",
       "      <td>0</td>\n",
       "      <td>action</td>\n",
       "      <td>156</td>\n",
       "    </tr>\n",
       "    <tr>\n",
       "      <td>1</td>\n",
       "      <td>sports</td>\n",
       "      <td>152</td>\n",
       "    </tr>\n",
       "    <tr>\n",
       "      <td>2</td>\n",
       "      <td>shooter</td>\n",
       "      <td>122</td>\n",
       "    </tr>\n",
       "    <tr>\n",
       "      <td>3</td>\n",
       "      <td>role-playing</td>\n",
       "      <td>81</td>\n",
       "    </tr>\n",
       "    <tr>\n",
       "      <td>4</td>\n",
       "      <td>racing</td>\n",
       "      <td>80</td>\n",
       "    </tr>\n",
       "  </tbody>\n",
       "</table>\n",
       "</div>"
      ],
      "text/plain": [
       "          genre  eu_sales\n",
       "0        action       156\n",
       "1        sports       152\n",
       "2       shooter       122\n",
       "3  role-playing        81\n",
       "4        racing        80"
      ]
     },
     "metadata": {},
     "output_type": "display_data"
    }
   ],
   "source": [
    "# выведем на экран eu_top_genre\n",
    "display(eu_top_genre)"
   ]
  },
  {
   "cell_type": "markdown",
   "metadata": {},
   "source": [
    "*Подведем итоги по продажам в Европе, цифры говорят, что платформами - лидерами по продажам, являются: wii, ps3, ps2, ds, x360 в Европе предпочитают следующие игровые жанры:  action, sports, shooter, role-playning, racing. С учетом ранее представленной характеристики производителей игровых консолей в рамках рассмотрения вопроса в Северной Америке мы наблюдаем совершенно отличную картину, подавляющая часть европейского рынка реализует игровые консоли компаний-производителей из Японии, лишь незначительная доля рынка платформ x360 из США. Отметим, что в списке отсутствуют европейские производители игровых платформ, что говорит о том, что страны европы отнесены к потребителям товаров в виде игровых продуктов из Японии и США.*   "
   ]
  },
  {
   "cell_type": "markdown",
   "metadata": {},
   "source": [
    "### JP_sales — продажи в Японии"
   ]
  },
  {
   "cell_type": "code",
   "execution_count": 92,
   "metadata": {},
   "outputs": [],
   "source": [
    "# определим топ_5 самых популярных платформ в Японии с помощью сводной таблицы\n",
    "jp_top_platform = df_1.pivot_table(index='platform', values='jp_sales', aggfunc='sum').sort_values(by='jp_sales',\\\n",
    "            ascending=False).reset_index().rename_axis(None, axis=1).head()"
   ]
  },
  {
   "cell_type": "code",
   "execution_count": 93,
   "metadata": {},
   "outputs": [
    {
     "data": {
      "text/html": [
       "<div>\n",
       "<style scoped>\n",
       "    .dataframe tbody tr th:only-of-type {\n",
       "        vertical-align: middle;\n",
       "    }\n",
       "\n",
       "    .dataframe tbody tr th {\n",
       "        vertical-align: top;\n",
       "    }\n",
       "\n",
       "    .dataframe thead th {\n",
       "        text-align: right;\n",
       "    }\n",
       "</style>\n",
       "<table border=\"1\" class=\"dataframe\">\n",
       "  <thead>\n",
       "    <tr style=\"text-align: right;\">\n",
       "      <th></th>\n",
       "      <th>platform</th>\n",
       "      <th>jp_sales</th>\n",
       "    </tr>\n",
       "  </thead>\n",
       "  <tbody>\n",
       "    <tr>\n",
       "      <td>0</td>\n",
       "      <td>ds</td>\n",
       "      <td>76</td>\n",
       "    </tr>\n",
       "    <tr>\n",
       "      <td>1</td>\n",
       "      <td>nes</td>\n",
       "      <td>57</td>\n",
       "    </tr>\n",
       "    <tr>\n",
       "      <td>2</td>\n",
       "      <td>gb</td>\n",
       "      <td>51</td>\n",
       "    </tr>\n",
       "    <tr>\n",
       "      <td>3</td>\n",
       "      <td>snes</td>\n",
       "      <td>45</td>\n",
       "    </tr>\n",
       "    <tr>\n",
       "      <td>4</td>\n",
       "      <td>3ds</td>\n",
       "      <td>43</td>\n",
       "    </tr>\n",
       "  </tbody>\n",
       "</table>\n",
       "</div>"
      ],
      "text/plain": [
       "  platform  jp_sales\n",
       "0       ds        76\n",
       "1      nes        57\n",
       "2       gb        51\n",
       "3     snes        45\n",
       "4      3ds        43"
      ]
     },
     "metadata": {},
     "output_type": "display_data"
    }
   ],
   "source": [
    "# выведем на экран jp_top_platform\n",
    "display(jp_top_platform)"
   ]
  },
  {
   "cell_type": "code",
   "execution_count": 94,
   "metadata": {},
   "outputs": [],
   "source": [
    "# определим топ_5 самых популярных жанров в Японии с помощью сводной таблицы\n",
    "jp_top_genre = df_1.pivot_table(index='genre', values='jp_sales', aggfunc='sum').sort_values(by='jp_sales',\\\n",
    "            ascending=False).reset_index().rename_axis(None, axis=1).head()"
   ]
  },
  {
   "cell_type": "code",
   "execution_count": 95,
   "metadata": {},
   "outputs": [
    {
     "data": {
      "text/html": [
       "<div>\n",
       "<style scoped>\n",
       "    .dataframe tbody tr th:only-of-type {\n",
       "        vertical-align: middle;\n",
       "    }\n",
       "\n",
       "    .dataframe tbody tr th {\n",
       "        vertical-align: top;\n",
       "    }\n",
       "\n",
       "    .dataframe thead th {\n",
       "        text-align: right;\n",
       "    }\n",
       "</style>\n",
       "<table border=\"1\" class=\"dataframe\">\n",
       "  <thead>\n",
       "    <tr style=\"text-align: right;\">\n",
       "      <th></th>\n",
       "      <th>genre</th>\n",
       "      <th>jp_sales</th>\n",
       "    </tr>\n",
       "  </thead>\n",
       "  <tbody>\n",
       "    <tr>\n",
       "      <td>0</td>\n",
       "      <td>role-playing</td>\n",
       "      <td>160</td>\n",
       "    </tr>\n",
       "    <tr>\n",
       "      <td>1</td>\n",
       "      <td>platform</td>\n",
       "      <td>64</td>\n",
       "    </tr>\n",
       "    <tr>\n",
       "      <td>2</td>\n",
       "      <td>sports</td>\n",
       "      <td>35</td>\n",
       "    </tr>\n",
       "    <tr>\n",
       "      <td>3</td>\n",
       "      <td>misc</td>\n",
       "      <td>32</td>\n",
       "    </tr>\n",
       "    <tr>\n",
       "      <td>4</td>\n",
       "      <td>action</td>\n",
       "      <td>24</td>\n",
       "    </tr>\n",
       "  </tbody>\n",
       "</table>\n",
       "</div>"
      ],
      "text/plain": [
       "          genre  jp_sales\n",
       "0  role-playing       160\n",
       "1      platform        64\n",
       "2        sports        35\n",
       "3          misc        32\n",
       "4        action        24"
      ]
     },
     "metadata": {},
     "output_type": "display_data"
    }
   ],
   "source": [
    "# выведем на экран eu_top_genre\n",
    "display(jp_top_genre)"
   ]
  },
  {
   "cell_type": "markdown",
   "metadata": {},
   "source": [
    "*Подведем итоги по продажам в Японии, цифры говорят, что платформами - лидерами по продажам являются: ds, nes, gb, snes, 3ds в Японии предпочитают следующие игровые жанры: role-playning, platform, sports, misc (аркада), action. Рынок Японии в сфере игровой продукции насыщен товарами собственного производства, он ориентирован на отечественных производителей и фактически не представлен производителями США. Вкус жителей Северной Америки имеет схожести по критерию жанров с европейцами и сильно отличается от японского. В основном все страны из изучаемых континетов предпочитают жанры спортивных игр, боевиков.*"
   ]
  },
  {
   "cell_type": "markdown",
   "metadata": {},
   "source": [
    "**Влияет ли рейтинг ESRB на продажи в отдельном регионе?**"
   ]
  },
  {
   "cell_type": "code",
   "execution_count": 96,
   "metadata": {},
   "outputs": [
    {
     "name": "stdout",
     "output_type": "stream",
     "text": [
      "['E' nan 'M' 'T' 'E10+' 'K-A' 'AO' 'EC' 'RP']\n"
     ]
    },
    {
     "data": {
      "text/plain": [
       "rating\n",
       "AO         1\n",
       "E       3990\n",
       "E10+    1420\n",
       "EC         8\n",
       "K-A        3\n",
       "M       1563\n",
       "RP         3\n",
       "T       2961\n",
       "Name: rating, dtype: int64"
      ]
     },
     "execution_count": 96,
     "metadata": {},
     "output_type": "execute_result"
    }
   ],
   "source": [
    "# посмотрим на перечень критериев оценки рейтинга\n",
    "# перечислим наиболее часто обозначенные рейтинги \n",
    "print(df_1['rating'].unique())\n",
    "df_1.groupby('rating')['rating'].count()"
   ]
  },
  {
   "cell_type": "markdown",
   "metadata": {},
   "source": [
    "<div style=\"border:solid DarkCyan 3px; padding: 20px\"> Фрейм данных в цифровых значениях показывает, что 3990 игр имеют рейтинг «E» («Everyone») — «Для всех»;  2961  -  T («Подросткам 13—19 лет»);   М «От 17 лет» - 1563;    E10+ - 1420 «Для всех старше 10 лет». </div>"
   ]
  },
  {
   "cell_type": "code",
   "execution_count": 97,
   "metadata": {},
   "outputs": [],
   "source": [
    "# покажем количество продаж по критерию рейтинга\n",
    "eu_top_rating = df_1.pivot_table(index='rating', values='eu_sales', aggfunc='sum').sort_values(by='eu_sales',\\\n",
    "            ascending=False).reset_index().rename_axis(None, axis=1).head()"
   ]
  },
  {
   "cell_type": "code",
   "execution_count": 98,
   "metadata": {},
   "outputs": [
    {
     "data": {
      "text/html": [
       "<div>\n",
       "<style scoped>\n",
       "    .dataframe tbody tr th:only-of-type {\n",
       "        vertical-align: middle;\n",
       "    }\n",
       "\n",
       "    .dataframe tbody tr th {\n",
       "        vertical-align: top;\n",
       "    }\n",
       "\n",
       "    .dataframe thead th {\n",
       "        text-align: right;\n",
       "    }\n",
       "</style>\n",
       "<table border=\"1\" class=\"dataframe\">\n",
       "  <thead>\n",
       "    <tr style=\"text-align: right;\">\n",
       "      <th></th>\n",
       "      <th>rating</th>\n",
       "      <th>eu_sales</th>\n",
       "    </tr>\n",
       "  </thead>\n",
       "  <tbody>\n",
       "    <tr>\n",
       "      <td>0</td>\n",
       "      <td>E</td>\n",
       "      <td>304</td>\n",
       "    </tr>\n",
       "    <tr>\n",
       "      <td>1</td>\n",
       "      <td>M</td>\n",
       "      <td>197</td>\n",
       "    </tr>\n",
       "    <tr>\n",
       "      <td>2</td>\n",
       "      <td>T</td>\n",
       "      <td>107</td>\n",
       "    </tr>\n",
       "    <tr>\n",
       "      <td>3</td>\n",
       "      <td>E10+</td>\n",
       "      <td>36</td>\n",
       "    </tr>\n",
       "    <tr>\n",
       "      <td>4</td>\n",
       "      <td>AO</td>\n",
       "      <td>0</td>\n",
       "    </tr>\n",
       "  </tbody>\n",
       "</table>\n",
       "</div>"
      ],
      "text/plain": [
       "  rating  eu_sales\n",
       "0      E       304\n",
       "1      M       197\n",
       "2      T       107\n",
       "3   E10+        36\n",
       "4     AO         0"
      ]
     },
     "execution_count": 98,
     "metadata": {},
     "output_type": "execute_result"
    }
   ],
   "source": [
    "eu_top_rating"
   ]
  },
  {
   "cell_type": "code",
   "execution_count": 99,
   "metadata": {},
   "outputs": [
    {
     "data": {
      "text/plain": [
       "<BarContainer object of 5 artists>"
      ]
     },
     "execution_count": 99,
     "metadata": {},
     "output_type": "execute_result"
    },
    {
     "data": {
      "image/png": "[encoded data removed]",
      "text/plain": [
       "<Figure size 432x288 with 1 Axes>"
      ]
     },
     "metadata": {},
     "output_type": "display_data"
    }
   ],
   "source": [
    "# построим для наглядности столбчатую диаграмму, характеризующую влияние рейтинга на продажи в Европе\n",
    "groups_eu = eu_top_rating['rating']\n",
    "counts_eu = eu_top_rating['eu_sales']\n",
    "plt.bar(groups_eu, counts_eu)"
   ]
  },
  {
   "cell_type": "code",
   "execution_count": 100,
   "metadata": {},
   "outputs": [],
   "source": [
    "# покажем количество продаж в Северной Америке по критерию рейтинга\n",
    "na_top_rating = df_1.pivot_table(index='rating', values='na_sales', aggfunc='sum').sort_values(by='na_sales',\\\n",
    "            ascending=False).reset_index().rename_axis(None, axis=1).head()"
   ]
  },
  {
   "cell_type": "code",
   "execution_count": 101,
   "metadata": {},
   "outputs": [
    {
     "data": {
      "text/html": [
       "<div>\n",
       "<style scoped>\n",
       "    .dataframe tbody tr th:only-of-type {\n",
       "        vertical-align: middle;\n",
       "    }\n",
       "\n",
       "    .dataframe tbody tr th {\n",
       "        vertical-align: top;\n",
       "    }\n",
       "\n",
       "    .dataframe thead th {\n",
       "        text-align: right;\n",
       "    }\n",
       "</style>\n",
       "<table border=\"1\" class=\"dataframe\">\n",
       "  <thead>\n",
       "    <tr style=\"text-align: right;\">\n",
       "      <th></th>\n",
       "      <th>rating</th>\n",
       "      <th>na_sales</th>\n",
       "    </tr>\n",
       "  </thead>\n",
       "  <tbody>\n",
       "    <tr>\n",
       "      <td>0</td>\n",
       "      <td>E</td>\n",
       "      <td>505</td>\n",
       "    </tr>\n",
       "    <tr>\n",
       "      <td>1</td>\n",
       "      <td>M</td>\n",
       "      <td>382</td>\n",
       "    </tr>\n",
       "    <tr>\n",
       "      <td>2</td>\n",
       "      <td>T</td>\n",
       "      <td>224</td>\n",
       "    </tr>\n",
       "    <tr>\n",
       "      <td>3</td>\n",
       "      <td>E10+</td>\n",
       "      <td>84</td>\n",
       "    </tr>\n",
       "    <tr>\n",
       "      <td>4</td>\n",
       "      <td>K-A</td>\n",
       "      <td>2</td>\n",
       "    </tr>\n",
       "  </tbody>\n",
       "</table>\n",
       "</div>"
      ],
      "text/plain": [
       "  rating  na_sales\n",
       "0      E       505\n",
       "1      M       382\n",
       "2      T       224\n",
       "3   E10+        84\n",
       "4    K-A         2"
      ]
     },
     "execution_count": 101,
     "metadata": {},
     "output_type": "execute_result"
    }
   ],
   "source": [
    "na_top_rating"
   ]
  },
  {
   "cell_type": "code",
   "execution_count": 102,
   "metadata": {},
   "outputs": [
    {
     "data": {
      "text/plain": [
       "<BarContainer object of 5 artists>"
      ]
     },
     "execution_count": 102,
     "metadata": {},
     "output_type": "execute_result"
    },
    {
     "data": {
      "image/png": "[encoded data removed]",
      "text/plain": [
       "<Figure size 432x288 with 1 Axes>"
      ]
     },
     "metadata": {},
     "output_type": "display_data"
    }
   ],
   "source": [
    "# построим для наглядности столбчатую диаграмму, характеризующую влияние рейтинга на продажи в Европе\n",
    "groups_na = na_top_rating['rating']\n",
    "counts_na = na_top_rating['na_sales']\n",
    "plt.bar(groups_na, counts_na)"
   ]
  },
  {
   "cell_type": "code",
   "execution_count": 103,
   "metadata": {},
   "outputs": [],
   "source": [
    "# # покажем количество продаж в Японии по критерию рейтинга\n",
    "jp_top_rating = df_1.pivot_table(index='rating', values='jp_sales', aggfunc='sum').sort_values(by='jp_sales',\\\n",
    "            ascending=False).reset_index().rename_axis(None, axis=1).head()"
   ]
  },
  {
   "cell_type": "code",
   "execution_count": 104,
   "metadata": {},
   "outputs": [
    {
     "data": {
      "text/html": [
       "<div>\n",
       "<style scoped>\n",
       "    .dataframe tbody tr th:only-of-type {\n",
       "        vertical-align: middle;\n",
       "    }\n",
       "\n",
       "    .dataframe tbody tr th {\n",
       "        vertical-align: top;\n",
       "    }\n",
       "\n",
       "    .dataframe thead th {\n",
       "        text-align: right;\n",
       "    }\n",
       "</style>\n",
       "<table border=\"1\" class=\"dataframe\">\n",
       "  <thead>\n",
       "    <tr style=\"text-align: right;\">\n",
       "      <th></th>\n",
       "      <th>rating</th>\n",
       "      <th>jp_sales</th>\n",
       "    </tr>\n",
       "  </thead>\n",
       "  <tbody>\n",
       "    <tr>\n",
       "      <td>0</td>\n",
       "      <td>E</td>\n",
       "      <td>92</td>\n",
       "    </tr>\n",
       "    <tr>\n",
       "      <td>1</td>\n",
       "      <td>T</td>\n",
       "      <td>38</td>\n",
       "    </tr>\n",
       "    <tr>\n",
       "      <td>2</td>\n",
       "      <td>E10+</td>\n",
       "      <td>10</td>\n",
       "    </tr>\n",
       "    <tr>\n",
       "      <td>3</td>\n",
       "      <td>M</td>\n",
       "      <td>7</td>\n",
       "    </tr>\n",
       "    <tr>\n",
       "      <td>4</td>\n",
       "      <td>K-A</td>\n",
       "      <td>1</td>\n",
       "    </tr>\n",
       "  </tbody>\n",
       "</table>\n",
       "</div>"
      ],
      "text/plain": [
       "  rating  jp_sales\n",
       "0      E        92\n",
       "1      T        38\n",
       "2   E10+        10\n",
       "3      M         7\n",
       "4    K-A         1"
      ]
     },
     "execution_count": 104,
     "metadata": {},
     "output_type": "execute_result"
    }
   ],
   "source": [
    "jp_top_rating"
   ]
  },
  {
   "cell_type": "code",
   "execution_count": 105,
   "metadata": {},
   "outputs": [
    {
     "data": {
      "text/plain": [
       "<BarContainer object of 5 artists>"
      ]
     },
     "execution_count": 105,
     "metadata": {},
     "output_type": "execute_result"
    },
    {
     "data": {
      "image/png": "[encoded data removed]",
      "text/plain": [
       "<Figure size 432x288 with 1 Axes>"
      ]
     },
     "metadata": {},
     "output_type": "display_data"
    }
   ],
   "source": [
    "# построим для наглядности столбчатую диаграмму, характеризующую влияние рейтинга на продажи в  Японии\n",
    "groups_jp = jp_top_rating['rating']\n",
    "counts_jp = jp_top_rating['jp_sales']\n",
    "plt.bar(groups_jp, counts_jp)"
   ]
  },
  {
   "cell_type": "markdown",
   "metadata": {},
   "source": [
    "<div style=\"border:solid DarkCyan 3px; padding: 20px\"> Проведенный анализ показывает лишь факт того, что во всех  (практически без исключения) регионах большинство продаж игр были осуществленны в трех рейтингах: «E» («Everyone») — «Для всех»; T («Подросткам 13—19 лет»); М «От 17 лет». Полагагаю, что перечень рейтингов с их наименованиями с позиции описательной статистики является номинальной шкалой, которая не определяет какого-либо приоритета между категориями рейтинга, а просто идентифицирует их. Основываясь на этом предположении полагаю, что рейтинг ESRB на продажи в отдельном регионе не влияет. При этом производитель игр может предполагать, что если он изобретет продукт подходящий по всем параметрам к рейтингу («Early childhood») вероятность того, что он окупит свои вложения имеет очень малений шанс на успех. В данном вопросе важно полагаться на здравый смысл и следовать экспертной оценке. </div>"
   ]
  },
  {
   "cell_type": "markdown",
   "metadata": {},
   "source": [
    "## Проверка гипотез"
   ]
  },
  {
   "cell_type": "markdown",
   "metadata": {},
   "source": [
    "**Гипотезы и отдельные задания по условиям кейса проекта:**\n",
    "- cредние пользовательские рейтинги платформ Xbox One и PC одинаковые; \n",
    "- cредние пользовательские рейтинги жанров Action (англ. «действие», экшен-игры) и Sports (англ. «спортивные соревнования») разные;\n",
    "- требуется задать самостоятельно пороговое значение alpha; \n",
    "- требуется пояснить: Как сформулировали нулевую и альтернативную гипотезы;\n",
    "- треьбуется обосновать какой критерий применили для проверки гипотез и почему."
   ]
  },
  {
   "cell_type": "markdown",
   "metadata": {},
   "source": [
    "#### Проверка гипотезы, что средние пользовательские рейтинги платформ Xbox One и PC одинаковые"
   ]
  },
  {
   "cell_type": "markdown",
   "metadata": {},
   "source": [
    "<div style=\"border:solid DarkCyan 3px; padding: 20px\"> В целях выработки подхода к решению задачи для начала определим какие данные нам нужны, чтобы извлечь полезную информацию в части решения. Представляется, что в исследуемом дата фрейме нам необходимо ориентироваться на показатели: user_score (максимум 10) — оценку пользователей. В проведении операции мы будем использовать подходы статистической проверки гипотез, которая строится на том, что достаточно взять небольшую, но репрезентативную часть данных, представляющую генеральную совокупность. Самый простой способ добиться репрезентативности — использовать случайную выборку. Нам достаточно взять небольшую, но репрезентативную часть данных сritic_score и user_score. В данном разделе проекта потребуется рассчитать параметры генеральной совокупности по выборке — в первую очередь, среднее и дисперсию. Аналитика данных в части гипотезы, что средние пользовательские рейтинги платформ Xbox One и PC одинаковые, может  лишь не противоречить ей или, наоборот, показывать очень маловероятные результаты. </div>"
   ]
  },
  {
   "cell_type": "markdown",
   "metadata": {},
   "source": [
    "<div style=\"border:solid DarkCyan 3px; padding: 20px\"> Для начала сформулируем нулевую гипотезу   H₀ - средние пользовательские рейтинги платформ Xbox One и PC одинаковые. Исходя из H₀ сформулируем альтернативную гипотезу: H₁ - средние пользовательские рейтинги платформ Xbox One и PC НЕ одинаковые. Такая альтернативная гипотеза называется двусторонней, потому что есть возможное отклонение и в большую, и в меньшую стороны. H₁ для H₀ — это альтернативная гипотеза, которая противоречит нулевой гипотезе, — либо нулевая гипотеза не отвергается, либо отвергается и принимается H₁. Далее проведем Проверку двусторонней гипотезы в python: t-тест. </div>"
   ]
  },
  {
   "cell_type": "markdown",
   "metadata": {},
   "source": [
    "<div style=\"border:solid DarkCyan 3px; padding: 20px\"> Возьмем за основу  данные из столбца user_score. Логично будет предположить, что если максимум 10 при оценкe пользователей, то средняя оценка будет равна - 5 . </div>"
   ]
  },
  {
   "cell_type": "code",
   "execution_count": 106,
   "metadata": {},
   "outputs": [],
   "source": [
    "# выделим из фрейма данных только платформу xbox one\n",
    "xbox = df_1[df_1['platform']=='xone']"
   ]
  },
  {
   "cell_type": "code",
   "execution_count": 107,
   "metadata": {},
   "outputs": [],
   "source": [
    "# создадим массив данных\n",
    "array_user_score = xbox['user_score']"
   ]
  },
  {
   "cell_type": "code",
   "execution_count": 108,
   "metadata": {},
   "outputs": [],
   "source": [
    "# установим среднюю оценку\n",
    "interested_value = 5\n",
    "# обозначим значение альфы согласно общепринятым пороговым значениям\n",
    "# критический уровень статистической значимости\n",
    "alpha = .05\n",
    "results = st.ttest_1samp(\n",
    "    array_user_score, \n",
    "    interested_value)"
   ]
  },
  {
   "cell_type": "code",
   "execution_count": 109,
   "metadata": {},
   "outputs": [
    {
     "name": "stdout",
     "output_type": "stream",
     "text": [
      "p-значение: 1.3340159841241422e-60\n",
      "Отвергаем нулевую гипотезу\n"
     ]
    }
   ],
   "source": [
    "print('p-значение:', results.pvalue)\n",
    "\n",
    "# построим для удоства цикл по отношению работы функции к альфе\n",
    "if results.pvalue < alpha:\n",
    "    print(\"Отвергаем нулевую гипотезу\")\n",
    "else:\n",
    "    print(\"Не получилось отвергнуть нулевую гипотезу\") "
   ]
  },
  {
   "cell_type": "markdown",
   "metadata": {},
   "source": [
    "<div style=\"border:solid DarkCyan 3px; padding: 20px\"> p-значение H₀:  [1.33], что фактически означает более вероятные результаты альтернативной гипотезы: H₁ - средние пользовательские рейтинги платформ Xbox One и PC НЕ одинаковые.  </div>"
   ]
  },
  {
   "cell_type": "markdown",
   "metadata": {},
   "source": [
    "#### Проверка гипотезы, что cредние пользовательские рейтинги жанров Action (англ. «действие», экшен-игры) и Sports (англ. «спортивные соревнования») разные"
   ]
  },
  {
   "cell_type": "markdown",
   "metadata": {},
   "source": [
    "<div style=\"border:solid DarkCyan 3px; padding: 20px\"> Для начала сформулируем нулевую гипотезу   H₀ - cредние пользовательские рейтинги жанров Action (англ. «действие», экшен-игры) и Sports (англ. «спортивные соревнования») разные. Исходя из H₀ сформулируем альтернативную гипотезу: H₁ - cредние пользовательские рейтинги жанров Action (англ. «действие», экшен-игры) и Sports (англ. «спортивные соревнования») ОДИНАКОВЫЕ. Такая альтернативная гипотеза называется двусторонней, потому что есть возможное отклонение и в большую, и в меньшую стороны. H₁ для H₀ — это альтернативная гипотеза, которая противоречит нулевой гипотезе, — либо нулевая гипотеза не отвергается, либо отвергается и принимается H₁. Далее проведем Проверку двусторонней гипотезы в python: t-тест. </div>"
   ]
  },
  {
   "cell_type": "code",
   "execution_count": 110,
   "metadata": {},
   "outputs": [],
   "source": [
    "# создадим переменную и выделим в ней только жанр экшен-игры\n",
    "action = df_1[df_1['genre']=='action']\n",
    "# создадим переменную и выделим в ней только жанр спорт\n",
    "sport = df_1[df_1['genre']=='sport']"
   ]
  },
  {
   "cell_type": "code",
   "execution_count": 111,
   "metadata": {},
   "outputs": [],
   "source": [
    "# создадим массив данных\n",
    "array_action = action['user_score']\n",
    "array_sport = sport['user_score']"
   ]
  },
  {
   "cell_type": "markdown",
   "metadata": {},
   "source": [
    "<div style=\"border:solid DarkCyan 3px; padding: 20px\"> В Python есть специальный метод для проверки гипотезы о равенстве среднего двух генеральных совокупностей по взятым из них выборкам: scipy.stats.ttest_ind (array1, array2,equal_var)</div>"
   ]
  },
  {
   "cell_type": "code",
   "execution_count": 112,
   "metadata": {},
   "outputs": [
    {
     "name": "stdout",
     "output_type": "stream",
     "text": [
      "p-значение:  1.3340159841241422e-60\n",
      "Не получилось отвергнуть нулевую гипотезу\n"
     ]
    }
   ],
   "source": [
    "results_1 = st.ttest_ind(\n",
    "    array_action, \n",
    "    array_sport)\n",
    "\n",
    "print('p-значение: ', results.pvalue)\n",
    "\n",
    "if results_1.pvalue < alpha:\n",
    "    print(\"Отвергаем нулевую гипотезу\")\n",
    "else:\n",
    "    print(\"Не получилось отвергнуть нулевую гипотезу\")"
   ]
  },
  {
   "cell_type": "markdown",
   "metadata": {},
   "source": [
    "<div style=\"border:solid DarkCyan 3px; padding: 20px\">  проведенный t-test показывает, что H₀ - cредние пользовательские рейтинги жанров Action (англ. «действие», экшен-игры) и Sports (англ. «спортивные соревнования») разные! </div>"
   ]
  },
  {
   "cell_type": "markdown",
   "metadata": {},
   "source": [
    "## Общий вывод"
   ]
  },
  {
   "cell_type": "markdown",
   "metadata": {},
   "source": [
    "<div style=\"border:solid DarkCyan 3px; padding: 20px\"> Главной задачей в рамках проекта, мне как сотруднику интернет-магазина «Стримчик», поставлена задача выявить определяющие успешность игры закономерности. Это позволит сделать ставку на потенциально популярный продукт и спланировать рекламные кампании. Интернет-магазин «Стримчик» располагается территориально в России, следовательно важным критерием для сегментирования рынка явлется его территориальные особенности. В этой связи в рамках проекта вывлены следующие закономерности:\n",
    "    \n",
    "1) Европейцы предпочитают производителей платформ из Японии, следовательно необходимо выбрать для продажи игры, которые подходят к игровым приставкам: wii, ps3, ps2, ds;\n",
    "    \n",
    "2) При выборе игр наибольшее предпочтение потребители в Европе (Россия часть Европы) отдают таким жанрам как:  action, sports, shooter, role-playning, racing; \n",
    "    \n",
    "3) Важно помнить, что основными производителями игр явлются компании, которые представлены в Америке и Японии. Расчитывать на то, что американский потребитель или японский в массе обратится в интернет-магазин \"Стримчик\" не стоит, поскольку их по критерию территориальной принадлежности рынки насыщены собственными производителями. Очевидно, что итогавая цена (стоимость) игровых продуктов для потребителей США и Японии по данному фактору может оказаться ниже из-за отсутствия, например, издержек на транспортировку товаров;\n",
    "    \n",
    "4) Игровые платформы на рынке по критерию продаж чередуются через каждые три года, важно ориентироваться на планировании продаж игр для платформ, поскольку потребность на игры, например, ps 3, 4 может в текущее время оказаться выше у потребителей, чем на игры платформы ps 2, как более устаревшей модели и явно уступающей по качеству всего продукта более совершенным моделям.\n",
    "</div>"
   ]
  }
 ],
 "metadata": {
  "ExecuteTimeLog": [
   {
    "duration": 1056,
    "start_time": "2022-02-13T13:58:47.109Z"
   },
   {
    "duration": 2,
    "start_time": "2022-02-13T13:58:48.167Z"
   },
   {
    "duration": 1436,
    "start_time": "2022-02-13T13:58:48.171Z"
   },
   {
    "duration": 2,
    "start_time": "2022-02-13T13:58:49.611Z"
   },
   {
    "duration": -1,
    "start_time": "2022-02-13T13:58:49.616Z"
   },
   {
    "duration": -7,
    "start_time": "2022-02-13T13:58:49.623Z"
   },
   {
    "duration": -12,
    "start_time": "2022-02-13T13:58:49.629Z"
   },
   {
    "duration": -16,
    "start_time": "2022-02-13T13:58:49.634Z"
   },
   {
    "duration": -23,
    "start_time": "2022-02-13T13:58:49.642Z"
   },
   {
    "duration": -26,
    "start_time": "2022-02-13T13:58:49.647Z"
   },
   {
    "duration": -31,
    "start_time": "2022-02-13T13:58:49.653Z"
   },
   {
    "duration": -34,
    "start_time": "2022-02-13T13:58:49.657Z"
   },
   {
    "duration": -38,
    "start_time": "2022-02-13T13:58:49.662Z"
   },
   {
    "duration": -41,
    "start_time": "2022-02-13T13:58:49.666Z"
   },
   {
    "duration": -44,
    "start_time": "2022-02-13T13:58:49.671Z"
   },
   {
    "duration": -47,
    "start_time": "2022-02-13T13:58:49.675Z"
   },
   {
    "duration": -51,
    "start_time": "2022-02-13T13:58:49.680Z"
   },
   {
    "duration": -54,
    "start_time": "2022-02-13T13:58:49.684Z"
   },
   {
    "duration": -57,
    "start_time": "2022-02-13T13:58:49.688Z"
   },
   {
    "duration": -61,
    "start_time": "2022-02-13T13:58:49.693Z"
   },
   {
    "duration": -75,
    "start_time": "2022-02-13T13:58:49.709Z"
   },
   {
    "duration": -79,
    "start_time": "2022-02-13T13:58:49.714Z"
   },
   {
    "duration": -83,
    "start_time": "2022-02-13T13:58:49.719Z"
   },
   {
    "duration": -86,
    "start_time": "2022-02-13T13:58:49.723Z"
   },
   {
    "duration": -90,
    "start_time": "2022-02-13T13:58:49.728Z"
   },
   {
    "duration": -94,
    "start_time": "2022-02-13T13:58:49.733Z"
   },
   {
    "duration": -98,
    "start_time": "2022-02-13T13:58:49.738Z"
   },
   {
    "duration": -102,
    "start_time": "2022-02-13T13:58:49.743Z"
   },
   {
    "duration": -105,
    "start_time": "2022-02-13T13:58:49.748Z"
   },
   {
    "duration": -109,
    "start_time": "2022-02-13T13:58:49.753Z"
   },
   {
    "duration": -112,
    "start_time": "2022-02-13T13:58:49.757Z"
   },
   {
    "duration": -115,
    "start_time": "2022-02-13T13:58:49.761Z"
   },
   {
    "duration": -119,
    "start_time": "2022-02-13T13:58:49.766Z"
   },
   {
    "duration": -121,
    "start_time": "2022-02-13T13:58:49.769Z"
   },
   {
    "duration": -115,
    "start_time": "2022-02-13T13:58:49.773Z"
   },
   {
    "duration": -119,
    "start_time": "2022-02-13T13:58:49.778Z"
   },
   {
    "duration": -121,
    "start_time": "2022-02-13T13:58:49.781Z"
   },
   {
    "duration": -124,
    "start_time": "2022-02-13T13:58:49.785Z"
   },
   {
    "duration": -125,
    "start_time": "2022-02-13T13:58:49.788Z"
   },
   {
    "duration": -129,
    "start_time": "2022-02-13T13:58:49.793Z"
   },
   {
    "duration": -132,
    "start_time": "2022-02-13T13:58:49.797Z"
   },
   {
    "duration": -135,
    "start_time": "2022-02-13T13:58:49.801Z"
   },
   {
    "duration": -137,
    "start_time": "2022-02-13T13:58:49.804Z"
   },
   {
    "duration": -149,
    "start_time": "2022-02-13T13:58:49.817Z"
   },
   {
    "duration": -152,
    "start_time": "2022-02-13T13:58:49.821Z"
   },
   {
    "duration": -156,
    "start_time": "2022-02-13T13:58:49.826Z"
   },
   {
    "duration": -159,
    "start_time": "2022-02-13T13:58:49.830Z"
   },
   {
    "duration": -163,
    "start_time": "2022-02-13T13:58:49.835Z"
   },
   {
    "duration": -166,
    "start_time": "2022-02-13T13:58:49.839Z"
   },
   {
    "duration": -169,
    "start_time": "2022-02-13T13:58:49.844Z"
   },
   {
    "duration": -173,
    "start_time": "2022-02-13T13:58:49.849Z"
   },
   {
    "duration": -176,
    "start_time": "2022-02-13T13:58:49.853Z"
   },
   {
    "duration": -180,
    "start_time": "2022-02-13T13:58:49.857Z"
   },
   {
    "duration": -183,
    "start_time": "2022-02-13T13:58:49.862Z"
   },
   {
    "duration": -186,
    "start_time": "2022-02-13T13:58:49.866Z"
   },
   {
    "duration": -189,
    "start_time": "2022-02-13T13:58:49.870Z"
   },
   {
    "duration": -193,
    "start_time": "2022-02-13T13:58:49.874Z"
   },
   {
    "duration": -196,
    "start_time": "2022-02-13T13:58:49.878Z"
   },
   {
    "duration": -199,
    "start_time": "2022-02-13T13:58:49.882Z"
   },
   {
    "duration": -202,
    "start_time": "2022-02-13T13:58:49.886Z"
   },
   {
    "duration": -205,
    "start_time": "2022-02-13T13:58:49.890Z"
   },
   {
    "duration": -208,
    "start_time": "2022-02-13T13:58:49.894Z"
   },
   {
    "duration": -212,
    "start_time": "2022-02-13T13:58:49.898Z"
   },
   {
    "duration": -215,
    "start_time": "2022-02-13T13:58:49.902Z"
   },
   {
    "duration": -275,
    "start_time": "2022-02-13T13:58:49.963Z"
   },
   {
    "duration": -278,
    "start_time": "2022-02-13T13:58:49.967Z"
   },
   {
    "duration": -280,
    "start_time": "2022-02-13T13:58:49.970Z"
   },
   {
    "duration": -283,
    "start_time": "2022-02-13T13:58:49.974Z"
   },
   {
    "duration": -307,
    "start_time": "2022-02-13T13:58:49.999Z"
   },
   {
    "duration": -310,
    "start_time": "2022-02-13T13:58:50.003Z"
   },
   {
    "duration": -314,
    "start_time": "2022-02-13T13:58:50.007Z"
   },
   {
    "duration": -336,
    "start_time": "2022-02-13T13:58:50.030Z"
   },
   {
    "duration": -338,
    "start_time": "2022-02-13T13:58:50.033Z"
   },
   {
    "duration": -351,
    "start_time": "2022-02-13T13:58:50.047Z"
   },
   {
    "duration": -354,
    "start_time": "2022-02-13T13:58:50.051Z"
   },
   {
    "duration": -357,
    "start_time": "2022-02-13T13:58:50.055Z"
   },
   {
    "duration": -300,
    "start_time": "2022-02-13T13:58:50.058Z"
   },
   {
    "duration": -303,
    "start_time": "2022-02-13T13:58:50.063Z"
   },
   {
    "duration": -307,
    "start_time": "2022-02-13T13:58:50.068Z"
   },
   {
    "duration": -312,
    "start_time": "2022-02-13T13:58:50.073Z"
   },
   {
    "duration": -331,
    "start_time": "2022-02-13T13:58:50.093Z"
   },
   {
    "duration": -334,
    "start_time": "2022-02-13T13:58:50.097Z"
   },
   {
    "duration": -351,
    "start_time": "2022-02-13T13:58:50.115Z"
   },
   {
    "duration": -354,
    "start_time": "2022-02-13T13:58:50.119Z"
   },
   {
    "duration": -372,
    "start_time": "2022-02-13T13:58:50.138Z"
   },
   {
    "duration": -375,
    "start_time": "2022-02-13T13:58:50.142Z"
   },
   {
    "duration": -387,
    "start_time": "2022-02-13T13:58:50.155Z"
   },
   {
    "duration": -391,
    "start_time": "2022-02-13T13:58:50.160Z"
   },
   {
    "duration": -395,
    "start_time": "2022-02-13T13:58:50.165Z"
   },
   {
    "duration": -399,
    "start_time": "2022-02-13T13:58:50.170Z"
   },
   {
    "duration": -402,
    "start_time": "2022-02-13T13:58:50.174Z"
   },
   {
    "duration": -405,
    "start_time": "2022-02-13T13:58:50.178Z"
   },
   {
    "duration": -419,
    "start_time": "2022-02-13T13:58:50.193Z"
   },
   {
    "duration": -421,
    "start_time": "2022-02-13T13:58:50.197Z"
   },
   {
    "duration": -432,
    "start_time": "2022-02-13T13:58:50.209Z"
   },
   {
    "duration": -435,
    "start_time": "2022-02-13T13:58:50.213Z"
   },
   {
    "duration": -437,
    "start_time": "2022-02-13T13:58:50.216Z"
   },
   {
    "duration": -441,
    "start_time": "2022-02-13T13:58:50.220Z"
   },
   {
    "duration": -442,
    "start_time": "2022-02-13T13:58:50.223Z"
   },
   {
    "duration": -445,
    "start_time": "2022-02-13T13:58:50.227Z"
   },
   {
    "duration": -509,
    "start_time": "2022-02-13T13:58:50.292Z"
   },
   {
    "duration": -537,
    "start_time": "2022-02-13T13:58:50.321Z"
   },
   {
    "duration": -540,
    "start_time": "2022-02-13T13:58:50.325Z"
   },
   {
    "duration": -543,
    "start_time": "2022-02-13T13:58:50.329Z"
   },
   {
    "duration": -545,
    "start_time": "2022-02-13T13:58:50.333Z"
   },
   {
    "duration": -548,
    "start_time": "2022-02-13T13:58:50.337Z"
   },
   {
    "duration": -554,
    "start_time": "2022-02-13T13:58:50.344Z"
   },
   {
    "duration": -557,
    "start_time": "2022-02-13T13:58:50.347Z"
   },
   {
    "duration": -562,
    "start_time": "2022-02-13T13:58:50.353Z"
   },
   {
    "duration": -566,
    "start_time": "2022-02-13T13:58:50.358Z"
   },
   {
    "duration": -596,
    "start_time": "2022-02-13T13:58:50.390Z"
   },
   {
    "duration": 34,
    "start_time": "2022-02-13T13:59:24.670Z"
   },
   {
    "duration": 16,
    "start_time": "2022-02-13T13:59:27.442Z"
   },
   {
    "duration": 16,
    "start_time": "2022-02-13T13:59:27.460Z"
   },
   {
    "duration": 11,
    "start_time": "2022-02-13T13:59:27.479Z"
   },
   {
    "duration": 8,
    "start_time": "2022-02-13T13:59:27.492Z"
   },
   {
    "duration": 7,
    "start_time": "2022-02-13T13:59:27.502Z"
   },
   {
    "duration": 50,
    "start_time": "2022-02-13T13:59:27.511Z"
   },
   {
    "duration": 13,
    "start_time": "2022-02-13T13:59:27.563Z"
   },
   {
    "duration": 17,
    "start_time": "2022-02-13T13:59:27.579Z"
   },
   {
    "duration": 9,
    "start_time": "2022-02-13T13:59:27.599Z"
   },
   {
    "duration": 5,
    "start_time": "2022-02-13T13:59:27.610Z"
   },
   {
    "duration": 8,
    "start_time": "2022-02-13T13:59:27.617Z"
   },
   {
    "duration": 9,
    "start_time": "2022-02-13T13:59:27.660Z"
   },
   {
    "duration": 5,
    "start_time": "2022-02-13T13:59:27.671Z"
   },
   {
    "duration": 6,
    "start_time": "2022-02-13T13:59:27.678Z"
   },
   {
    "duration": 16,
    "start_time": "2022-02-13T13:59:27.685Z"
   },
   {
    "duration": 5,
    "start_time": "2022-02-13T13:59:27.702Z"
   },
   {
    "duration": 6,
    "start_time": "2022-02-13T13:59:27.709Z"
   },
   {
    "duration": 43,
    "start_time": "2022-02-13T13:59:27.716Z"
   },
   {
    "duration": 7,
    "start_time": "2022-02-13T13:59:27.761Z"
   },
   {
    "duration": 9,
    "start_time": "2022-02-13T13:59:27.769Z"
   },
   {
    "duration": 6,
    "start_time": "2022-02-13T13:59:27.779Z"
   },
   {
    "duration": 5,
    "start_time": "2022-02-13T13:59:27.787Z"
   },
   {
    "duration": 4,
    "start_time": "2022-02-13T13:59:27.796Z"
   },
   {
    "duration": 5,
    "start_time": "2022-02-13T13:59:27.802Z"
   },
   {
    "duration": 13,
    "start_time": "2022-02-13T13:59:27.808Z"
   },
   {
    "duration": 6,
    "start_time": "2022-02-13T13:59:27.823Z"
   },
   {
    "duration": 29,
    "start_time": "2022-02-13T13:59:27.830Z"
   },
   {
    "duration": 8,
    "start_time": "2022-02-13T13:59:27.861Z"
   },
   {
    "duration": 7,
    "start_time": "2022-02-13T13:59:27.871Z"
   },
   {
    "duration": 5,
    "start_time": "2022-02-13T13:59:27.880Z"
   },
   {
    "duration": 9,
    "start_time": "2022-02-13T13:59:27.886Z"
   },
   {
    "duration": 8,
    "start_time": "2022-02-13T13:59:27.897Z"
   },
   {
    "duration": 8,
    "start_time": "2022-02-13T13:59:27.906Z"
   },
   {
    "duration": 9,
    "start_time": "2022-02-13T13:59:27.916Z"
   },
   {
    "duration": 5,
    "start_time": "2022-02-13T13:59:27.927Z"
   },
   {
    "duration": 28,
    "start_time": "2022-02-13T13:59:27.934Z"
   },
   {
    "duration": 7,
    "start_time": "2022-02-13T13:59:27.964Z"
   },
   {
    "duration": 10,
    "start_time": "2022-02-13T13:59:27.972Z"
   },
   {
    "duration": 7,
    "start_time": "2022-02-13T13:59:27.984Z"
   },
   {
    "duration": 6,
    "start_time": "2022-02-13T13:59:27.993Z"
   },
   {
    "duration": 15,
    "start_time": "2022-02-13T13:59:28.000Z"
   },
   {
    "duration": 15,
    "start_time": "2022-02-13T13:59:28.016Z"
   },
   {
    "duration": 56,
    "start_time": "2022-02-13T13:59:28.033Z"
   },
   {
    "duration": 12,
    "start_time": "2022-02-13T13:59:28.090Z"
   },
   {
    "duration": 12,
    "start_time": "2022-02-13T13:59:28.104Z"
   },
   {
    "duration": 12,
    "start_time": "2022-02-13T13:59:28.118Z"
   },
   {
    "duration": 36,
    "start_time": "2022-02-13T13:59:28.132Z"
   },
   {
    "duration": 5,
    "start_time": "2022-02-13T13:59:28.170Z"
   },
   {
    "duration": 10,
    "start_time": "2022-02-13T13:59:28.177Z"
   },
   {
    "duration": 14,
    "start_time": "2022-02-13T13:59:28.189Z"
   },
   {
    "duration": 13,
    "start_time": "2022-02-13T13:59:28.204Z"
   },
   {
    "duration": 2,
    "start_time": "2022-02-13T13:59:28.219Z"
   },
   {
    "duration": 38,
    "start_time": "2022-02-13T13:59:28.223Z"
   },
   {
    "duration": 14,
    "start_time": "2022-02-13T13:59:28.263Z"
   },
   {
    "duration": 7,
    "start_time": "2022-02-13T13:59:28.278Z"
   },
   {
    "duration": 404,
    "start_time": "2022-02-13T13:59:28.286Z"
   },
   {
    "duration": 11,
    "start_time": "2022-02-13T13:59:28.691Z"
   },
   {
    "duration": 11,
    "start_time": "2022-02-13T13:59:28.704Z"
   },
   {
    "duration": 8,
    "start_time": "2022-02-13T13:59:28.716Z"
   },
   {
    "duration": 8,
    "start_time": "2022-02-13T13:59:28.726Z"
   },
   {
    "duration": 4,
    "start_time": "2022-02-13T13:59:28.736Z"
   },
   {
    "duration": 23,
    "start_time": "2022-02-13T13:59:28.742Z"
   },
   {
    "duration": 3819,
    "start_time": "2022-02-13T13:59:28.766Z"
   },
   {
    "duration": 6,
    "start_time": "2022-02-13T13:59:32.587Z"
   },
   {
    "duration": 11,
    "start_time": "2022-02-13T13:59:32.595Z"
   },
   {
    "duration": 354,
    "start_time": "2022-02-13T13:59:32.607Z"
   },
   {
    "duration": 2362,
    "start_time": "2022-02-13T13:59:32.962Z"
   },
   {
    "duration": 2,
    "start_time": "2022-02-13T13:59:35.329Z"
   },
   {
    "duration": 25,
    "start_time": "2022-02-13T13:59:35.333Z"
   },
   {
    "duration": 21,
    "start_time": "2022-02-13T13:59:35.360Z"
   },
   {
    "duration": 411,
    "start_time": "2022-02-13T13:59:35.384Z"
   },
   {
    "duration": 567,
    "start_time": "2022-02-13T13:59:35.797Z"
   },
   {
    "duration": 12,
    "start_time": "2022-02-13T13:59:36.366Z"
   },
   {
    "duration": 12,
    "start_time": "2022-02-13T13:59:36.379Z"
   },
   {
    "duration": 6,
    "start_time": "2022-02-13T13:59:36.393Z"
   },
   {
    "duration": 2789,
    "start_time": "2022-02-13T13:59:36.400Z"
   },
   {
    "duration": 11,
    "start_time": "2022-02-13T13:59:39.191Z"
   },
   {
    "duration": 11,
    "start_time": "2022-02-13T13:59:39.204Z"
   },
   {
    "duration": 322,
    "start_time": "2022-02-13T13:59:39.217Z"
   },
   {
    "duration": 21,
    "start_time": "2022-02-13T13:59:39.540Z"
   },
   {
    "duration": 5,
    "start_time": "2022-02-13T13:59:39.563Z"
   },
   {
    "duration": 13,
    "start_time": "2022-02-13T13:59:39.570Z"
   },
   {
    "duration": 21,
    "start_time": "2022-02-13T13:59:39.584Z"
   },
   {
    "duration": 14,
    "start_time": "2022-02-13T13:59:39.606Z"
   },
   {
    "duration": 6,
    "start_time": "2022-02-13T13:59:39.621Z"
   },
   {
    "duration": 31,
    "start_time": "2022-02-13T13:59:39.628Z"
   },
   {
    "duration": 6,
    "start_time": "2022-02-13T13:59:39.660Z"
   },
   {
    "duration": 15,
    "start_time": "2022-02-13T13:59:39.667Z"
   },
   {
    "duration": 6,
    "start_time": "2022-02-13T13:59:39.684Z"
   },
   {
    "duration": 12,
    "start_time": "2022-02-13T13:59:39.692Z"
   },
   {
    "duration": 5,
    "start_time": "2022-02-13T13:59:39.705Z"
   },
   {
    "duration": 12,
    "start_time": "2022-02-13T13:59:39.712Z"
   },
   {
    "duration": 42,
    "start_time": "2022-02-13T13:59:39.726Z"
   },
   {
    "duration": 5,
    "start_time": "2022-02-13T13:59:39.770Z"
   },
   {
    "duration": 171,
    "start_time": "2022-02-13T13:59:39.777Z"
   },
   {
    "duration": 21,
    "start_time": "2022-02-13T13:59:39.949Z"
   },
   {
    "duration": 5,
    "start_time": "2022-02-13T13:59:39.972Z"
   },
   {
    "duration": 182,
    "start_time": "2022-02-13T13:59:39.979Z"
   },
   {
    "duration": 11,
    "start_time": "2022-02-13T13:59:40.163Z"
   },
   {
    "duration": 12,
    "start_time": "2022-02-13T13:59:40.176Z"
   },
   {
    "duration": 265,
    "start_time": "2022-02-13T13:59:40.189Z"
   },
   {
    "duration": 5,
    "start_time": "2022-02-13T13:59:40.459Z"
   },
   {
    "duration": 8,
    "start_time": "2022-02-13T13:59:40.466Z"
   },
   {
    "duration": 7,
    "start_time": "2022-02-13T13:59:40.476Z"
   },
   {
    "duration": 6,
    "start_time": "2022-02-13T13:59:40.485Z"
   },
   {
    "duration": 11,
    "start_time": "2022-02-13T13:59:40.493Z"
   },
   {
    "duration": 3,
    "start_time": "2022-02-13T13:59:40.505Z"
   },
   {
    "duration": 10,
    "start_time": "2022-02-13T13:59:40.510Z"
   },
   {
    "duration": 91,
    "start_time": "2022-02-13T14:26:23.940Z"
   },
   {
    "duration": 300,
    "start_time": "2022-02-13T15:02:58.028Z"
   },
   {
    "duration": 1266,
    "start_time": "2022-02-13T15:03:06.063Z"
   },
   {
    "duration": 3,
    "start_time": "2022-02-13T15:03:07.330Z"
   },
   {
    "duration": 2124,
    "start_time": "2022-02-13T15:03:07.336Z"
   },
   {
    "duration": -168,
    "start_time": "2022-02-13T15:03:09.634Z"
   },
   {
    "duration": -177,
    "start_time": "2022-02-13T15:03:09.644Z"
   },
   {
    "duration": -186,
    "start_time": "2022-02-13T15:03:09.654Z"
   },
   {
    "duration": -194,
    "start_time": "2022-02-13T15:03:09.663Z"
   },
   {
    "duration": -202,
    "start_time": "2022-02-13T15:03:09.672Z"
   },
   {
    "duration": -210,
    "start_time": "2022-02-13T15:03:09.681Z"
   },
   {
    "duration": -218,
    "start_time": "2022-02-13T15:03:09.690Z"
   },
   {
    "duration": -224,
    "start_time": "2022-02-13T15:03:09.697Z"
   },
   {
    "duration": -231,
    "start_time": "2022-02-13T15:03:09.705Z"
   },
   {
    "duration": -236,
    "start_time": "2022-02-13T15:03:09.712Z"
   },
   {
    "duration": -244,
    "start_time": "2022-02-13T15:03:09.721Z"
   },
   {
    "duration": -263,
    "start_time": "2022-02-13T15:03:09.741Z"
   },
   {
    "duration": -274,
    "start_time": "2022-02-13T15:03:09.753Z"
   },
   {
    "duration": -280,
    "start_time": "2022-02-13T15:03:09.760Z"
   },
   {
    "duration": -290,
    "start_time": "2022-02-13T15:03:09.771Z"
   },
   {
    "duration": -297,
    "start_time": "2022-02-13T15:03:09.779Z"
   },
   {
    "duration": -306,
    "start_time": "2022-02-13T15:03:09.789Z"
   },
   {
    "duration": -313,
    "start_time": "2022-02-13T15:03:09.797Z"
   },
   {
    "duration": -322,
    "start_time": "2022-02-13T15:03:09.807Z"
   },
   {
    "duration": -328,
    "start_time": "2022-02-13T15:03:09.814Z"
   },
   {
    "duration": -335,
    "start_time": "2022-02-13T15:03:09.822Z"
   },
   {
    "duration": -343,
    "start_time": "2022-02-13T15:03:09.831Z"
   },
   {
    "duration": -363,
    "start_time": "2022-02-13T15:03:09.852Z"
   },
   {
    "duration": -369,
    "start_time": "2022-02-13T15:03:09.859Z"
   },
   {
    "duration": -377,
    "start_time": "2022-02-13T15:03:09.868Z"
   },
   {
    "duration": -383,
    "start_time": "2022-02-13T15:03:09.875Z"
   },
   {
    "duration": -390,
    "start_time": "2022-02-13T15:03:09.884Z"
   },
   {
    "duration": -396,
    "start_time": "2022-02-13T15:03:09.891Z"
   },
   {
    "duration": -404,
    "start_time": "2022-02-13T15:03:09.900Z"
   },
   {
    "duration": -411,
    "start_time": "2022-02-13T15:03:09.907Z"
   },
   {
    "duration": -418,
    "start_time": "2022-02-13T15:03:09.915Z"
   },
   {
    "duration": -425,
    "start_time": "2022-02-13T15:03:09.923Z"
   },
   {
    "duration": -432,
    "start_time": "2022-02-13T15:03:09.931Z"
   },
   {
    "duration": -438,
    "start_time": "2022-02-13T15:03:09.938Z"
   },
   {
    "duration": -444,
    "start_time": "2022-02-13T15:03:09.945Z"
   },
   {
    "duration": -461,
    "start_time": "2022-02-13T15:03:09.963Z"
   },
   {
    "duration": -468,
    "start_time": "2022-02-13T15:03:09.971Z"
   },
   {
    "duration": -474,
    "start_time": "2022-02-13T15:03:09.978Z"
   },
   {
    "duration": -480,
    "start_time": "2022-02-13T15:03:09.986Z"
   },
   {
    "duration": -487,
    "start_time": "2022-02-13T15:03:09.994Z"
   },
   {
    "duration": -494,
    "start_time": "2022-02-13T15:03:10.003Z"
   },
   {
    "duration": -500,
    "start_time": "2022-02-13T15:03:10.010Z"
   },
   {
    "duration": -507,
    "start_time": "2022-02-13T15:03:10.018Z"
   },
   {
    "duration": -513,
    "start_time": "2022-02-13T15:03:10.025Z"
   },
   {
    "duration": -520,
    "start_time": "2022-02-13T15:03:10.033Z"
   },
   {
    "duration": -527,
    "start_time": "2022-02-13T15:03:10.041Z"
   },
   {
    "duration": -534,
    "start_time": "2022-02-13T15:03:10.049Z"
   },
   {
    "duration": -540,
    "start_time": "2022-02-13T15:03:10.056Z"
   },
   {
    "duration": -559,
    "start_time": "2022-02-13T15:03:10.076Z"
   },
   {
    "duration": -568,
    "start_time": "2022-02-13T15:03:10.086Z"
   },
   {
    "duration": -577,
    "start_time": "2022-02-13T15:03:10.096Z"
   },
   {
    "duration": -584,
    "start_time": "2022-02-13T15:03:10.104Z"
   },
   {
    "duration": -590,
    "start_time": "2022-02-13T15:03:10.111Z"
   },
   {
    "duration": -596,
    "start_time": "2022-02-13T15:03:10.118Z"
   },
   {
    "duration": -603,
    "start_time": "2022-02-13T15:03:10.126Z"
   },
   {
    "duration": -609,
    "start_time": "2022-02-13T15:03:10.133Z"
   },
   {
    "duration": -616,
    "start_time": "2022-02-13T15:03:10.141Z"
   },
   {
    "duration": -622,
    "start_time": "2022-02-13T15:03:10.148Z"
   },
   {
    "duration": -629,
    "start_time": "2022-02-13T15:03:10.156Z"
   },
   {
    "duration": -636,
    "start_time": "2022-02-13T15:03:10.165Z"
   },
   {
    "duration": -642,
    "start_time": "2022-02-13T15:03:10.172Z"
   },
   {
    "duration": -660,
    "start_time": "2022-02-13T15:03:10.191Z"
   },
   {
    "duration": -668,
    "start_time": "2022-02-13T15:03:10.200Z"
   },
   {
    "duration": -673,
    "start_time": "2022-02-13T15:03:10.207Z"
   },
   {
    "duration": -681,
    "start_time": "2022-02-13T15:03:10.216Z"
   },
   {
    "duration": -686,
    "start_time": "2022-02-13T15:03:10.222Z"
   },
   {
    "duration": -693,
    "start_time": "2022-02-13T15:03:10.230Z"
   },
   {
    "duration": -700,
    "start_time": "2022-02-13T15:03:10.238Z"
   },
   {
    "duration": -707,
    "start_time": "2022-02-13T15:03:10.246Z"
   },
   {
    "duration": -714,
    "start_time": "2022-02-13T15:03:10.254Z"
   },
   {
    "duration": -721,
    "start_time": "2022-02-13T15:03:10.262Z"
   },
   {
    "duration": -672,
    "start_time": "2022-02-13T15:03:10.270Z"
   },
   {
    "duration": -678,
    "start_time": "2022-02-13T15:03:10.278Z"
   },
   {
    "duration": -684,
    "start_time": "2022-02-13T15:03:10.285Z"
   },
   {
    "duration": -701,
    "start_time": "2022-02-13T15:03:10.303Z"
   },
   {
    "duration": -708,
    "start_time": "2022-02-13T15:03:10.311Z"
   },
   {
    "duration": -718,
    "start_time": "2022-02-13T15:03:10.322Z"
   },
   {
    "duration": -724,
    "start_time": "2022-02-13T15:03:10.329Z"
   },
   {
    "duration": -732,
    "start_time": "2022-02-13T15:03:10.338Z"
   },
   {
    "duration": -742,
    "start_time": "2022-02-13T15:03:10.349Z"
   },
   {
    "duration": -888,
    "start_time": "2022-02-13T15:03:10.497Z"
   },
   {
    "duration": -896,
    "start_time": "2022-02-13T15:03:10.506Z"
   },
   {
    "duration": -914,
    "start_time": "2022-02-13T15:03:10.524Z"
   },
   {
    "duration": -919,
    "start_time": "2022-02-13T15:03:10.531Z"
   },
   {
    "duration": -927,
    "start_time": "2022-02-13T15:03:10.540Z"
   },
   {
    "duration": -934,
    "start_time": "2022-02-13T15:03:10.548Z"
   },
   {
    "duration": -941,
    "start_time": "2022-02-13T15:03:10.556Z"
   },
   {
    "duration": -946,
    "start_time": "2022-02-13T15:03:10.563Z"
   },
   {
    "duration": -954,
    "start_time": "2022-02-13T15:03:10.572Z"
   },
   {
    "duration": -963,
    "start_time": "2022-02-13T15:03:10.582Z"
   },
   {
    "duration": -1134,
    "start_time": "2022-02-13T15:03:10.754Z"
   },
   {
    "duration": -1145,
    "start_time": "2022-02-13T15:03:10.766Z"
   },
   {
    "duration": -1157,
    "start_time": "2022-02-13T15:03:10.779Z"
   },
   {
    "duration": -1186,
    "start_time": "2022-02-13T15:03:10.809Z"
   },
   {
    "duration": -1200,
    "start_time": "2022-02-13T15:03:10.824Z"
   },
   {
    "duration": -1212,
    "start_time": "2022-02-13T15:03:10.837Z"
   },
   {
    "duration": -1222,
    "start_time": "2022-02-13T15:03:10.848Z"
   },
   {
    "duration": -1228,
    "start_time": "2022-02-13T15:03:10.855Z"
   },
   {
    "duration": -1237,
    "start_time": "2022-02-13T15:03:10.865Z"
   },
   {
    "duration": -1244,
    "start_time": "2022-02-13T15:03:10.874Z"
   },
   {
    "duration": -1251,
    "start_time": "2022-02-13T15:03:10.882Z"
   },
   {
    "duration": -1257,
    "start_time": "2022-02-13T15:03:10.890Z"
   },
   {
    "duration": -1265,
    "start_time": "2022-02-13T15:03:10.899Z"
   },
   {
    "duration": -1282,
    "start_time": "2022-02-13T15:03:10.917Z"
   },
   {
    "duration": -1305,
    "start_time": "2022-02-13T15:03:10.941Z"
   },
   {
    "duration": -1261,
    "start_time": "2022-02-13T15:03:10.958Z"
   },
   {
    "duration": -1268,
    "start_time": "2022-02-13T15:03:10.967Z"
   },
   {
    "duration": -1274,
    "start_time": "2022-02-13T15:03:10.974Z"
   },
   {
    "duration": -1282,
    "start_time": "2022-02-13T15:03:10.983Z"
   },
   {
    "duration": -1287,
    "start_time": "2022-02-13T15:03:10.990Z"
   },
   {
    "duration": 1255,
    "start_time": "2022-02-13T15:04:41.294Z"
   },
   {
    "duration": 2,
    "start_time": "2022-02-13T15:04:42.551Z"
   },
   {
    "duration": 7,
    "start_time": "2022-02-13T15:04:42.556Z"
   },
   {
    "duration": 51,
    "start_time": "2022-02-13T15:04:42.566Z"
   },
   {
    "duration": 93,
    "start_time": "2022-02-13T15:04:42.618Z"
   },
   {
    "duration": -607,
    "start_time": "2022-02-13T15:04:43.323Z"
   },
   {
    "duration": -614,
    "start_time": "2022-02-13T15:04:43.331Z"
   },
   {
    "duration": -621,
    "start_time": "2022-02-13T15:04:43.339Z"
   },
   {
    "duration": -628,
    "start_time": "2022-02-13T15:04:43.347Z"
   },
   {
    "duration": -633,
    "start_time": "2022-02-13T15:04:43.354Z"
   },
   {
    "duration": -641,
    "start_time": "2022-02-13T15:04:43.363Z"
   },
   {
    "duration": -647,
    "start_time": "2022-02-13T15:04:43.370Z"
   },
   {
    "duration": -654,
    "start_time": "2022-02-13T15:04:43.378Z"
   },
   {
    "duration": -661,
    "start_time": "2022-02-13T15:04:43.386Z"
   },
   {
    "duration": -668,
    "start_time": "2022-02-13T15:04:43.394Z"
   },
   {
    "duration": -674,
    "start_time": "2022-02-13T15:04:43.401Z"
   },
   {
    "duration": -681,
    "start_time": "2022-02-13T15:04:43.409Z"
   },
   {
    "duration": -700,
    "start_time": "2022-02-13T15:04:43.430Z"
   },
   {
    "duration": -709,
    "start_time": "2022-02-13T15:04:43.439Z"
   },
   {
    "duration": -715,
    "start_time": "2022-02-13T15:04:43.446Z"
   },
   {
    "duration": -723,
    "start_time": "2022-02-13T15:04:43.455Z"
   },
   {
    "duration": -729,
    "start_time": "2022-02-13T15:04:43.462Z"
   },
   {
    "duration": -736,
    "start_time": "2022-02-13T15:04:43.470Z"
   },
   {
    "duration": -743,
    "start_time": "2022-02-13T15:04:43.478Z"
   },
   {
    "duration": -750,
    "start_time": "2022-02-13T15:04:43.486Z"
   },
   {
    "duration": -756,
    "start_time": "2022-02-13T15:04:43.493Z"
   },
   {
    "duration": -762,
    "start_time": "2022-02-13T15:04:43.501Z"
   },
   {
    "duration": -768,
    "start_time": "2022-02-13T15:04:43.508Z"
   },
   {
    "duration": -776,
    "start_time": "2022-02-13T15:04:43.517Z"
   },
   {
    "duration": -782,
    "start_time": "2022-02-13T15:04:43.524Z"
   },
   {
    "duration": -802,
    "start_time": "2022-02-13T15:04:43.545Z"
   },
   {
    "duration": -809,
    "start_time": "2022-02-13T15:04:43.553Z"
   },
   {
    "duration": -816,
    "start_time": "2022-02-13T15:04:43.561Z"
   },
   {
    "duration": -827,
    "start_time": "2022-02-13T15:04:43.573Z"
   },
   {
    "duration": -835,
    "start_time": "2022-02-13T15:04:43.583Z"
   },
   {
    "duration": -841,
    "start_time": "2022-02-13T15:04:43.590Z"
   },
   {
    "duration": -849,
    "start_time": "2022-02-13T15:04:43.599Z"
   },
   {
    "duration": -855,
    "start_time": "2022-02-13T15:04:43.606Z"
   },
   {
    "duration": -861,
    "start_time": "2022-02-13T15:04:43.613Z"
   },
   {
    "duration": -868,
    "start_time": "2022-02-13T15:04:43.621Z"
   },
   {
    "duration": -874,
    "start_time": "2022-02-13T15:04:43.629Z"
   },
   {
    "duration": -838,
    "start_time": "2022-02-13T15:04:43.636Z"
   },
   {
    "duration": -855,
    "start_time": "2022-02-13T15:04:43.655Z"
   },
   {
    "duration": -863,
    "start_time": "2022-02-13T15:04:43.664Z"
   },
   {
    "duration": -871,
    "start_time": "2022-02-13T15:04:43.673Z"
   },
   {
    "duration": -881,
    "start_time": "2022-02-13T15:04:43.684Z"
   },
   {
    "duration": -888,
    "start_time": "2022-02-13T15:04:43.692Z"
   },
   {
    "duration": -894,
    "start_time": "2022-02-13T15:04:43.699Z"
   },
   {
    "duration": -901,
    "start_time": "2022-02-13T15:04:43.707Z"
   },
   {
    "duration": -908,
    "start_time": "2022-02-13T15:04:43.715Z"
   },
   {
    "duration": -915,
    "start_time": "2022-02-13T15:04:43.723Z"
   },
   {
    "duration": -921,
    "start_time": "2022-02-13T15:04:43.730Z"
   },
   {
    "duration": -928,
    "start_time": "2022-02-13T15:04:43.738Z"
   },
   {
    "duration": -934,
    "start_time": "2022-02-13T15:04:43.745Z"
   },
   {
    "duration": -941,
    "start_time": "2022-02-13T15:04:43.753Z"
   },
   {
    "duration": -958,
    "start_time": "2022-02-13T15:04:43.771Z"
   },
   {
    "duration": -964,
    "start_time": "2022-02-13T15:04:43.779Z"
   },
   {
    "duration": -971,
    "start_time": "2022-02-13T15:04:43.787Z"
   },
   {
    "duration": -977,
    "start_time": "2022-02-13T15:04:43.794Z"
   },
   {
    "duration": -984,
    "start_time": "2022-02-13T15:04:43.802Z"
   },
   {
    "duration": -991,
    "start_time": "2022-02-13T15:04:43.810Z"
   },
   {
    "duration": -998,
    "start_time": "2022-02-13T15:04:43.817Z"
   },
   {
    "duration": -1005,
    "start_time": "2022-02-13T15:04:43.825Z"
   },
   {
    "duration": -1011,
    "start_time": "2022-02-13T15:04:43.832Z"
   },
   {
    "duration": -1018,
    "start_time": "2022-02-13T15:04:43.840Z"
   },
   {
    "duration": -1024,
    "start_time": "2022-02-13T15:04:43.847Z"
   },
   {
    "duration": -1031,
    "start_time": "2022-02-13T15:04:43.855Z"
   },
   {
    "duration": -1037,
    "start_time": "2022-02-13T15:04:43.862Z"
   },
   {
    "duration": -1055,
    "start_time": "2022-02-13T15:04:43.880Z"
   },
   {
    "duration": -1062,
    "start_time": "2022-02-13T15:04:43.888Z"
   },
   {
    "duration": -1069,
    "start_time": "2022-02-13T15:04:43.896Z"
   },
   {
    "duration": -1075,
    "start_time": "2022-02-13T15:04:43.903Z"
   },
   {
    "duration": -1082,
    "start_time": "2022-02-13T15:04:43.911Z"
   },
   {
    "duration": -1089,
    "start_time": "2022-02-13T15:04:43.919Z"
   },
   {
    "duration": -1096,
    "start_time": "2022-02-13T15:04:43.927Z"
   },
   {
    "duration": -1103,
    "start_time": "2022-02-13T15:04:43.934Z"
   },
   {
    "duration": -1108,
    "start_time": "2022-02-13T15:04:43.941Z"
   },
   {
    "duration": -1115,
    "start_time": "2022-02-13T15:04:43.949Z"
   },
   {
    "duration": -1121,
    "start_time": "2022-02-13T15:04:43.956Z"
   },
   {
    "duration": -1064,
    "start_time": "2022-02-13T15:04:43.963Z"
   },
   {
    "duration": -1071,
    "start_time": "2022-02-13T15:04:43.971Z"
   },
   {
    "duration": -1076,
    "start_time": "2022-02-13T15:04:43.978Z"
   },
   {
    "duration": -1099,
    "start_time": "2022-02-13T15:04:44.002Z"
   },
   {
    "duration": -1105,
    "start_time": "2022-02-13T15:04:44.009Z"
   },
   {
    "duration": -1112,
    "start_time": "2022-02-13T15:04:44.017Z"
   },
   {
    "duration": -1118,
    "start_time": "2022-02-13T15:04:44.024Z"
   },
   {
    "duration": -1125,
    "start_time": "2022-02-13T15:04:44.032Z"
   },
   {
    "duration": -1131,
    "start_time": "2022-02-13T15:04:44.039Z"
   },
   {
    "duration": -1138,
    "start_time": "2022-02-13T15:04:44.047Z"
   },
   {
    "duration": -1144,
    "start_time": "2022-02-13T15:04:44.054Z"
   },
   {
    "duration": -1149,
    "start_time": "2022-02-13T15:04:44.061Z"
   },
   {
    "duration": -1155,
    "start_time": "2022-02-13T15:04:44.068Z"
   },
   {
    "duration": -1162,
    "start_time": "2022-02-13T15:04:44.076Z"
   },
   {
    "duration": -1168,
    "start_time": "2022-02-13T15:04:44.083Z"
   },
   {
    "duration": -1175,
    "start_time": "2022-02-13T15:04:44.091Z"
   },
   {
    "duration": -1182,
    "start_time": "2022-02-13T15:04:44.098Z"
   },
   {
    "duration": -1198,
    "start_time": "2022-02-13T15:04:44.116Z"
   },
   {
    "duration": -1205,
    "start_time": "2022-02-13T15:04:44.123Z"
   },
   {
    "duration": -1212,
    "start_time": "2022-02-13T15:04:44.131Z"
   },
   {
    "duration": -1218,
    "start_time": "2022-02-13T15:04:44.138Z"
   },
   {
    "duration": -1224,
    "start_time": "2022-02-13T15:04:44.145Z"
   },
   {
    "duration": -1231,
    "start_time": "2022-02-13T15:04:44.153Z"
   },
   {
    "duration": -1238,
    "start_time": "2022-02-13T15:04:44.161Z"
   },
   {
    "duration": -1245,
    "start_time": "2022-02-13T15:04:44.169Z"
   },
   {
    "duration": -1252,
    "start_time": "2022-02-13T15:04:44.177Z"
   },
   {
    "duration": -1258,
    "start_time": "2022-02-13T15:04:44.184Z"
   },
   {
    "duration": -1264,
    "start_time": "2022-02-13T15:04:44.191Z"
   },
   {
    "duration": -1270,
    "start_time": "2022-02-13T15:04:44.198Z"
   },
   {
    "duration": -1276,
    "start_time": "2022-02-13T15:04:44.205Z"
   },
   {
    "duration": -1282,
    "start_time": "2022-02-13T15:04:44.212Z"
   },
   {
    "duration": -1300,
    "start_time": "2022-02-13T15:04:44.231Z"
   },
   {
    "duration": -1307,
    "start_time": "2022-02-13T15:04:44.240Z"
   },
   {
    "duration": -1315,
    "start_time": "2022-02-13T15:04:44.249Z"
   },
   {
    "duration": 1206,
    "start_time": "2022-02-13T15:05:26.057Z"
   },
   {
    "duration": 2,
    "start_time": "2022-02-13T15:05:27.266Z"
   },
   {
    "duration": 7,
    "start_time": "2022-02-13T15:05:27.270Z"
   },
   {
    "duration": 43,
    "start_time": "2022-02-13T15:05:27.280Z"
   },
   {
    "duration": 22,
    "start_time": "2022-02-13T15:05:27.325Z"
   },
   {
    "duration": 20,
    "start_time": "2022-02-13T15:05:27.349Z"
   },
   {
    "duration": 32,
    "start_time": "2022-02-13T15:05:27.371Z"
   },
   {
    "duration": 16,
    "start_time": "2022-02-13T15:05:27.407Z"
   },
   {
    "duration": 9,
    "start_time": "2022-02-13T15:05:27.425Z"
   },
   {
    "duration": 8,
    "start_time": "2022-02-13T15:05:27.435Z"
   },
   {
    "duration": 22,
    "start_time": "2022-02-13T15:05:27.445Z"
   },
   {
    "duration": 31,
    "start_time": "2022-02-13T15:05:27.469Z"
   },
   {
    "duration": 8,
    "start_time": "2022-02-13T15:05:27.502Z"
   },
   {
    "duration": 9,
    "start_time": "2022-02-13T15:05:27.511Z"
   },
   {
    "duration": 14,
    "start_time": "2022-02-13T15:05:27.521Z"
   },
   {
    "duration": 8,
    "start_time": "2022-02-13T15:05:27.537Z"
   },
   {
    "duration": 6,
    "start_time": "2022-02-13T15:05:27.547Z"
   },
   {
    "duration": 6,
    "start_time": "2022-02-13T15:05:27.555Z"
   },
   {
    "duration": 39,
    "start_time": "2022-02-13T15:05:27.563Z"
   },
   {
    "duration": 6,
    "start_time": "2022-02-13T15:05:27.604Z"
   },
   {
    "duration": 9,
    "start_time": "2022-02-13T15:05:27.611Z"
   },
   {
    "duration": 8,
    "start_time": "2022-02-13T15:05:27.622Z"
   },
   {
    "duration": 5,
    "start_time": "2022-02-13T15:05:27.634Z"
   },
   {
    "duration": 9,
    "start_time": "2022-02-13T15:05:27.641Z"
   },
   {
    "duration": 6,
    "start_time": "2022-02-13T15:05:27.651Z"
   },
   {
    "duration": 8,
    "start_time": "2022-02-13T15:05:27.658Z"
   },
   {
    "duration": 33,
    "start_time": "2022-02-13T15:05:27.668Z"
   },
   {
    "duration": 4,
    "start_time": "2022-02-13T15:05:27.703Z"
   },
   {
    "duration": 5,
    "start_time": "2022-02-13T15:05:27.709Z"
   },
   {
    "duration": 10,
    "start_time": "2022-02-13T15:05:27.716Z"
   },
   {
    "duration": 9,
    "start_time": "2022-02-13T15:05:27.728Z"
   },
   {
    "duration": 6,
    "start_time": "2022-02-13T15:05:27.739Z"
   },
   {
    "duration": 10,
    "start_time": "2022-02-13T15:05:27.746Z"
   },
   {
    "duration": 6,
    "start_time": "2022-02-13T15:05:27.758Z"
   },
   {
    "duration": 34,
    "start_time": "2022-02-13T15:05:27.766Z"
   },
   {
    "duration": 8,
    "start_time": "2022-02-13T15:05:27.802Z"
   },
   {
    "duration": 10,
    "start_time": "2022-02-13T15:05:27.812Z"
   },
   {
    "duration": 13,
    "start_time": "2022-02-13T15:05:27.824Z"
   },
   {
    "duration": 7,
    "start_time": "2022-02-13T15:05:27.839Z"
   },
   {
    "duration": 5,
    "start_time": "2022-02-13T15:05:27.848Z"
   },
   {
    "duration": 7,
    "start_time": "2022-02-13T15:05:27.855Z"
   },
   {
    "duration": 6,
    "start_time": "2022-02-13T15:05:27.864Z"
   },
   {
    "duration": 7,
    "start_time": "2022-02-13T15:05:27.899Z"
   },
   {
    "duration": 9,
    "start_time": "2022-02-13T15:05:27.908Z"
   },
   {
    "duration": 10,
    "start_time": "2022-02-13T15:05:27.919Z"
   },
   {
    "duration": 9,
    "start_time": "2022-02-13T15:05:27.931Z"
   },
   {
    "duration": 66,
    "start_time": "2022-02-13T15:05:27.942Z"
   },
   {
    "duration": 13,
    "start_time": "2022-02-13T15:05:28.010Z"
   },
   {
    "duration": 9,
    "start_time": "2022-02-13T15:05:28.024Z"
   },
   {
    "duration": 12,
    "start_time": "2022-02-13T15:05:28.035Z"
   },
   {
    "duration": 22,
    "start_time": "2022-02-13T15:05:28.049Z"
   },
   {
    "duration": 27,
    "start_time": "2022-02-13T15:05:28.072Z"
   },
   {
    "duration": 10,
    "start_time": "2022-02-13T15:05:28.101Z"
   },
   {
    "duration": 15,
    "start_time": "2022-02-13T15:05:28.113Z"
   },
   {
    "duration": 18,
    "start_time": "2022-02-13T15:05:28.130Z"
   },
   {
    "duration": 3,
    "start_time": "2022-02-13T15:05:28.150Z"
   },
   {
    "duration": 43,
    "start_time": "2022-02-13T15:05:28.155Z"
   },
   {
    "duration": 12,
    "start_time": "2022-02-13T15:05:28.200Z"
   },
   {
    "duration": 15,
    "start_time": "2022-02-13T15:05:28.214Z"
   },
   {
    "duration": 455,
    "start_time": "2022-02-13T15:05:28.231Z"
   },
   {
    "duration": 16,
    "start_time": "2022-02-13T15:05:28.689Z"
   },
   {
    "duration": 7,
    "start_time": "2022-02-13T15:05:28.706Z"
   },
   {
    "duration": 5,
    "start_time": "2022-02-13T15:05:28.715Z"
   },
   {
    "duration": 11,
    "start_time": "2022-02-13T15:05:28.722Z"
   },
   {
    "duration": 6,
    "start_time": "2022-02-13T15:05:28.734Z"
   },
   {
    "duration": 6,
    "start_time": "2022-02-13T15:05:28.741Z"
   },
   {
    "duration": 3845,
    "start_time": "2022-02-13T15:05:28.749Z"
   },
   {
    "duration": 7,
    "start_time": "2022-02-13T15:05:32.601Z"
   },
   {
    "duration": 15,
    "start_time": "2022-02-13T15:05:32.611Z"
   },
   {
    "duration": 406,
    "start_time": "2022-02-13T15:05:32.628Z"
   },
   {
    "duration": 2797,
    "start_time": "2022-02-13T15:05:33.036Z"
   },
   {
    "duration": 2,
    "start_time": "2022-02-13T15:05:35.835Z"
   },
   {
    "duration": 18,
    "start_time": "2022-02-13T15:05:35.839Z"
   },
   {
    "duration": 16,
    "start_time": "2022-02-13T15:05:35.859Z"
   },
   {
    "duration": 493,
    "start_time": "2022-02-13T15:05:35.877Z"
   },
   {
    "duration": 504,
    "start_time": "2022-02-13T15:05:36.372Z"
   },
   {
    "duration": 12,
    "start_time": "2022-02-13T15:05:36.878Z"
   },
   {
    "duration": 37,
    "start_time": "2022-02-13T15:05:36.899Z"
   },
   {
    "duration": 29,
    "start_time": "2022-02-13T15:05:36.939Z"
   },
   {
    "duration": 3337,
    "start_time": "2022-02-13T15:05:36.970Z"
   },
   {
    "duration": 12,
    "start_time": "2022-02-13T15:05:40.309Z"
   },
   {
    "duration": 51,
    "start_time": "2022-02-13T15:05:40.323Z"
   },
   {
    "duration": 384,
    "start_time": "2022-02-13T15:05:40.376Z"
   },
   {
    "duration": 13,
    "start_time": "2022-02-13T15:05:40.762Z"
   },
   {
    "duration": 40,
    "start_time": "2022-02-13T15:05:40.777Z"
   },
   {
    "duration": 42,
    "start_time": "2022-02-13T15:05:40.819Z"
   },
   {
    "duration": 22,
    "start_time": "2022-02-13T15:05:40.862Z"
   },
   {
    "duration": 34,
    "start_time": "2022-02-13T15:05:40.886Z"
   },
   {
    "duration": 20,
    "start_time": "2022-02-13T15:05:40.922Z"
   },
   {
    "duration": 37,
    "start_time": "2022-02-13T15:05:40.944Z"
   },
   {
    "duration": 16,
    "start_time": "2022-02-13T15:05:40.983Z"
   },
   {
    "duration": 36,
    "start_time": "2022-02-13T15:05:41.001Z"
   },
   {
    "duration": 11,
    "start_time": "2022-02-13T15:05:41.039Z"
   },
   {
    "duration": 17,
    "start_time": "2022-02-13T15:05:41.051Z"
   },
   {
    "duration": 6,
    "start_time": "2022-02-13T15:05:41.070Z"
   },
   {
    "duration": 13,
    "start_time": "2022-02-13T15:05:41.078Z"
   },
   {
    "duration": 13,
    "start_time": "2022-02-13T15:05:41.093Z"
   },
   {
    "duration": 7,
    "start_time": "2022-02-13T15:05:41.108Z"
   },
   {
    "duration": 211,
    "start_time": "2022-02-13T15:05:41.117Z"
   },
   {
    "duration": 15,
    "start_time": "2022-02-13T15:05:41.329Z"
   },
   {
    "duration": 11,
    "start_time": "2022-02-13T15:05:41.346Z"
   },
   {
    "duration": 202,
    "start_time": "2022-02-13T15:05:41.358Z"
   },
   {
    "duration": 13,
    "start_time": "2022-02-13T15:05:41.562Z"
   },
   {
    "duration": 10,
    "start_time": "2022-02-13T15:05:41.576Z"
   },
   {
    "duration": 182,
    "start_time": "2022-02-13T15:05:41.599Z"
   },
   {
    "duration": 6,
    "start_time": "2022-02-13T15:05:41.782Z"
   },
   {
    "duration": 3,
    "start_time": "2022-02-13T15:05:41.798Z"
   },
   {
    "duration": 12,
    "start_time": "2022-02-13T15:05:41.803Z"
   },
   {
    "duration": 9,
    "start_time": "2022-02-13T15:05:41.816Z"
   },
   {
    "duration": 10,
    "start_time": "2022-02-13T15:05:41.827Z"
   },
   {
    "duration": 3,
    "start_time": "2022-02-13T15:05:41.839Z"
   },
   {
    "duration": 7,
    "start_time": "2022-02-13T15:05:41.843Z"
   },
   {
    "duration": 566,
    "start_time": "2022-02-13T15:09:01.244Z"
   },
   {
    "duration": 1286,
    "start_time": "2022-02-13T15:09:15.465Z"
   },
   {
    "duration": 2,
    "start_time": "2022-02-13T15:09:16.753Z"
   },
   {
    "duration": 9,
    "start_time": "2022-02-13T15:09:16.757Z"
   },
   {
    "duration": 43,
    "start_time": "2022-02-13T15:09:16.768Z"
   },
   {
    "duration": 18,
    "start_time": "2022-02-13T15:09:16.813Z"
   },
   {
    "duration": 23,
    "start_time": "2022-02-13T15:09:16.833Z"
   },
   {
    "duration": 13,
    "start_time": "2022-02-13T15:09:16.858Z"
   },
   {
    "duration": 10,
    "start_time": "2022-02-13T15:09:16.873Z"
   },
   {
    "duration": 8,
    "start_time": "2022-02-13T15:09:16.898Z"
   },
   {
    "duration": 6,
    "start_time": "2022-02-13T15:09:16.908Z"
   },
   {
    "duration": 16,
    "start_time": "2022-02-13T15:09:16.916Z"
   },
   {
    "duration": 11,
    "start_time": "2022-02-13T15:09:16.934Z"
   },
   {
    "duration": 15,
    "start_time": "2022-02-13T15:09:16.947Z"
   },
   {
    "duration": 9,
    "start_time": "2022-02-13T15:09:16.964Z"
   },
   {
    "duration": 27,
    "start_time": "2022-02-13T15:09:16.974Z"
   },
   {
    "duration": 7,
    "start_time": "2022-02-13T15:09:17.003Z"
   },
   {
    "duration": 10,
    "start_time": "2022-02-13T15:09:17.011Z"
   },
   {
    "duration": 8,
    "start_time": "2022-02-13T15:09:17.022Z"
   },
   {
    "duration": 20,
    "start_time": "2022-02-13T15:09:17.031Z"
   },
   {
    "duration": 5,
    "start_time": "2022-02-13T15:09:17.053Z"
   },
   {
    "duration": 38,
    "start_time": "2022-02-13T15:09:17.060Z"
   },
   {
    "duration": 4,
    "start_time": "2022-02-13T15:09:17.101Z"
   },
   {
    "duration": 4,
    "start_time": "2022-02-13T15:09:17.109Z"
   },
   {
    "duration": 6,
    "start_time": "2022-02-13T15:09:17.116Z"
   },
   {
    "duration": 8,
    "start_time": "2022-02-13T15:09:17.123Z"
   },
   {
    "duration": 10,
    "start_time": "2022-02-13T15:09:17.132Z"
   },
   {
    "duration": 7,
    "start_time": "2022-02-13T15:09:17.143Z"
   },
   {
    "duration": 4,
    "start_time": "2022-02-13T15:09:17.152Z"
   },
   {
    "duration": 5,
    "start_time": "2022-02-13T15:09:17.158Z"
   },
   {
    "duration": 5,
    "start_time": "2022-02-13T15:09:17.199Z"
   },
   {
    "duration": 5,
    "start_time": "2022-02-13T15:09:17.206Z"
   },
   {
    "duration": 5,
    "start_time": "2022-02-13T15:09:17.213Z"
   },
   {
    "duration": 7,
    "start_time": "2022-02-13T15:09:17.220Z"
   },
   {
    "duration": 6,
    "start_time": "2022-02-13T15:09:17.229Z"
   },
   {
    "duration": 9,
    "start_time": "2022-02-13T15:09:17.237Z"
   },
   {
    "duration": 11,
    "start_time": "2022-02-13T15:09:17.248Z"
   },
   {
    "duration": 40,
    "start_time": "2022-02-13T15:09:17.261Z"
   },
   {
    "duration": 9,
    "start_time": "2022-02-13T15:09:17.303Z"
   },
   {
    "duration": 10,
    "start_time": "2022-02-13T15:09:17.314Z"
   },
   {
    "duration": 10,
    "start_time": "2022-02-13T15:09:17.325Z"
   },
   {
    "duration": 9,
    "start_time": "2022-02-13T15:09:17.337Z"
   },
   {
    "duration": 4,
    "start_time": "2022-02-13T15:09:17.347Z"
   },
   {
    "duration": 12,
    "start_time": "2022-02-13T15:09:17.353Z"
   },
   {
    "duration": 7,
    "start_time": "2022-02-13T15:09:17.367Z"
   },
   {
    "duration": 10,
    "start_time": "2022-02-13T15:09:17.399Z"
   },
   {
    "duration": 12,
    "start_time": "2022-02-13T15:09:17.411Z"
   },
   {
    "duration": 37,
    "start_time": "2022-02-13T15:09:17.425Z"
   },
   {
    "duration": 36,
    "start_time": "2022-02-13T15:09:17.464Z"
   },
   {
    "duration": 10,
    "start_time": "2022-02-13T15:09:17.502Z"
   },
   {
    "duration": 14,
    "start_time": "2022-02-13T15:09:17.513Z"
   },
   {
    "duration": 18,
    "start_time": "2022-02-13T15:09:17.529Z"
   },
   {
    "duration": 5,
    "start_time": "2022-02-13T15:09:17.549Z"
   },
   {
    "duration": 9,
    "start_time": "2022-02-13T15:09:17.556Z"
   },
   {
    "duration": 48,
    "start_time": "2022-02-13T15:09:17.568Z"
   },
   {
    "duration": 15,
    "start_time": "2022-02-13T15:09:17.618Z"
   },
   {
    "duration": 3,
    "start_time": "2022-02-13T15:09:17.635Z"
   },
   {
    "duration": 21,
    "start_time": "2022-02-13T15:09:17.640Z"
   },
   {
    "duration": 37,
    "start_time": "2022-02-13T15:09:17.663Z"
   },
   {
    "duration": 9,
    "start_time": "2022-02-13T15:09:17.702Z"
   },
   {
    "duration": 448,
    "start_time": "2022-02-13T15:09:17.713Z"
   },
   {
    "duration": 11,
    "start_time": "2022-02-13T15:09:18.163Z"
   },
   {
    "duration": 5,
    "start_time": "2022-02-13T15:09:18.176Z"
   },
   {
    "duration": 18,
    "start_time": "2022-02-13T15:09:18.183Z"
   },
   {
    "duration": 13,
    "start_time": "2022-02-13T15:09:18.202Z"
   },
   {
    "duration": 4,
    "start_time": "2022-02-13T15:09:18.217Z"
   },
   {
    "duration": 6,
    "start_time": "2022-02-13T15:09:18.223Z"
   },
   {
    "duration": 3813,
    "start_time": "2022-02-13T15:09:18.230Z"
   },
   {
    "duration": 7,
    "start_time": "2022-02-13T15:09:22.048Z"
   },
   {
    "duration": 12,
    "start_time": "2022-02-13T15:09:22.058Z"
   },
   {
    "duration": 398,
    "start_time": "2022-02-13T15:09:22.072Z"
   },
   {
    "duration": 2860,
    "start_time": "2022-02-13T15:09:22.472Z"
   },
   {
    "duration": 3,
    "start_time": "2022-02-13T15:09:25.334Z"
   },
   {
    "duration": 16,
    "start_time": "2022-02-13T15:09:25.339Z"
   },
   {
    "duration": 31,
    "start_time": "2022-02-13T15:09:25.356Z"
   },
   {
    "duration": 483,
    "start_time": "2022-02-13T15:09:25.388Z"
   },
   {
    "duration": 531,
    "start_time": "2022-02-13T15:09:25.873Z"
   },
   {
    "duration": 14,
    "start_time": "2022-02-13T15:09:26.406Z"
   },
   {
    "duration": 10,
    "start_time": "2022-02-13T15:09:26.422Z"
   },
   {
    "duration": 7,
    "start_time": "2022-02-13T15:09:26.434Z"
   },
   {
    "duration": 3361,
    "start_time": "2022-02-13T15:09:26.443Z"
   },
   {
    "duration": 13,
    "start_time": "2022-02-13T15:09:29.807Z"
   },
   {
    "duration": 17,
    "start_time": "2022-02-13T15:09:29.822Z"
   },
   {
    "duration": 388,
    "start_time": "2022-02-13T15:09:29.841Z"
   },
   {
    "duration": 15,
    "start_time": "2022-02-13T15:09:30.231Z"
   },
   {
    "duration": 20,
    "start_time": "2022-02-13T15:09:30.248Z"
   },
   {
    "duration": 41,
    "start_time": "2022-02-13T15:09:30.270Z"
   },
   {
    "duration": 16,
    "start_time": "2022-02-13T15:09:30.313Z"
   },
   {
    "duration": 28,
    "start_time": "2022-02-13T15:09:30.331Z"
   },
   {
    "duration": 12,
    "start_time": "2022-02-13T15:09:30.361Z"
   },
   {
    "duration": 19,
    "start_time": "2022-02-13T15:09:30.375Z"
   },
   {
    "duration": 8,
    "start_time": "2022-02-13T15:09:30.396Z"
   },
   {
    "duration": 28,
    "start_time": "2022-02-13T15:09:30.406Z"
   },
   {
    "duration": 13,
    "start_time": "2022-02-13T15:09:30.435Z"
   },
   {
    "duration": 38,
    "start_time": "2022-02-13T15:09:30.450Z"
   },
   {
    "duration": 7,
    "start_time": "2022-02-13T15:09:30.490Z"
   },
   {
    "duration": 31,
    "start_time": "2022-02-13T15:09:30.499Z"
   },
   {
    "duration": 22,
    "start_time": "2022-02-13T15:09:30.532Z"
   },
   {
    "duration": 32,
    "start_time": "2022-02-13T15:09:30.556Z"
   },
   {
    "duration": 209,
    "start_time": "2022-02-13T15:09:30.590Z"
   },
   {
    "duration": 13,
    "start_time": "2022-02-13T15:09:30.801Z"
   },
   {
    "duration": 16,
    "start_time": "2022-02-13T15:09:30.816Z"
   },
   {
    "duration": 201,
    "start_time": "2022-02-13T15:09:30.834Z"
   },
   {
    "duration": 12,
    "start_time": "2022-02-13T15:09:31.037Z"
   },
   {
    "duration": 16,
    "start_time": "2022-02-13T15:09:31.051Z"
   },
   {
    "duration": 197,
    "start_time": "2022-02-13T15:09:31.069Z"
   },
   {
    "duration": 5,
    "start_time": "2022-02-13T15:09:31.268Z"
   },
   {
    "duration": 10,
    "start_time": "2022-02-13T15:09:31.274Z"
   },
   {
    "duration": 15,
    "start_time": "2022-02-13T15:09:31.285Z"
   },
   {
    "duration": 6,
    "start_time": "2022-02-13T15:09:31.302Z"
   },
   {
    "duration": 9,
    "start_time": "2022-02-13T15:09:31.310Z"
   },
   {
    "duration": 3,
    "start_time": "2022-02-13T15:09:31.321Z"
   },
   {
    "duration": 11,
    "start_time": "2022-02-13T15:09:31.325Z"
   },
   {
    "duration": 1295,
    "start_time": "2022-02-13T15:12:50.341Z"
   },
   {
    "duration": 2,
    "start_time": "2022-02-13T15:12:51.638Z"
   },
   {
    "duration": 5,
    "start_time": "2022-02-13T15:12:51.642Z"
   },
   {
    "duration": 41,
    "start_time": "2022-02-13T15:12:51.649Z"
   },
   {
    "duration": 20,
    "start_time": "2022-02-13T15:12:51.692Z"
   },
   {
    "duration": 19,
    "start_time": "2022-02-13T15:12:51.714Z"
   },
   {
    "duration": 12,
    "start_time": "2022-02-13T15:12:51.735Z"
   },
   {
    "duration": 9,
    "start_time": "2022-02-13T15:12:51.750Z"
   },
   {
    "duration": 40,
    "start_time": "2022-02-13T15:12:51.761Z"
   },
   {
    "duration": 5,
    "start_time": "2022-02-13T15:12:51.802Z"
   },
   {
    "duration": 15,
    "start_time": "2022-02-13T15:12:51.809Z"
   },
   {
    "duration": 9,
    "start_time": "2022-02-13T15:12:51.826Z"
   },
   {
    "duration": 5,
    "start_time": "2022-02-13T15:12:51.837Z"
   },
   {
    "duration": 8,
    "start_time": "2022-02-13T15:12:51.843Z"
   },
   {
    "duration": 48,
    "start_time": "2022-02-13T15:12:51.853Z"
   },
   {
    "duration": 7,
    "start_time": "2022-02-13T15:12:51.902Z"
   },
   {
    "duration": 5,
    "start_time": "2022-02-13T15:12:51.911Z"
   },
   {
    "duration": 6,
    "start_time": "2022-02-13T15:12:51.918Z"
   },
   {
    "duration": 4238,
    "start_time": "2022-02-13T15:12:51.926Z"
   },
   {
    "duration": 7,
    "start_time": "2022-02-13T15:12:56.166Z"
   },
   {
    "duration": 27,
    "start_time": "2022-02-13T15:12:56.175Z"
   },
   {
    "duration": 14,
    "start_time": "2022-02-13T15:12:56.204Z"
   },
   {
    "duration": 5,
    "start_time": "2022-02-13T15:12:56.222Z"
   },
   {
    "duration": 8,
    "start_time": "2022-02-13T15:12:56.230Z"
   },
   {
    "duration": 6,
    "start_time": "2022-02-13T15:12:56.239Z"
   },
   {
    "duration": 54,
    "start_time": "2022-02-13T15:12:56.246Z"
   },
   {
    "duration": 11,
    "start_time": "2022-02-13T15:12:56.302Z"
   },
   {
    "duration": 5,
    "start_time": "2022-02-13T15:12:56.315Z"
   },
   {
    "duration": 6,
    "start_time": "2022-02-13T15:12:56.322Z"
   },
   {
    "duration": 7,
    "start_time": "2022-02-13T15:12:56.330Z"
   },
   {
    "duration": 5,
    "start_time": "2022-02-13T15:12:56.339Z"
   },
   {
    "duration": 57,
    "start_time": "2022-02-13T15:12:56.346Z"
   },
   {
    "duration": 7,
    "start_time": "2022-02-13T15:12:56.405Z"
   },
   {
    "duration": 6,
    "start_time": "2022-02-13T15:12:56.415Z"
   },
   {
    "duration": 7,
    "start_time": "2022-02-13T15:12:56.423Z"
   },
   {
    "duration": 10,
    "start_time": "2022-02-13T15:12:56.433Z"
   },
   {
    "duration": 59,
    "start_time": "2022-02-13T15:12:56.445Z"
   },
   {
    "duration": 10,
    "start_time": "2022-02-13T15:12:56.506Z"
   },
   {
    "duration": 5,
    "start_time": "2022-02-13T15:12:56.518Z"
   },
   {
    "duration": 6,
    "start_time": "2022-02-13T15:12:56.525Z"
   },
   {
    "duration": 8,
    "start_time": "2022-02-13T15:12:56.534Z"
   },
   {
    "duration": 4,
    "start_time": "2022-02-13T15:12:56.544Z"
   },
   {
    "duration": 13,
    "start_time": "2022-02-13T15:12:56.550Z"
   },
   {
    "duration": 42,
    "start_time": "2022-02-13T15:12:56.565Z"
   },
   {
    "duration": 11,
    "start_time": "2022-02-13T15:12:56.609Z"
   },
   {
    "duration": 12,
    "start_time": "2022-02-13T15:12:56.622Z"
   },
   {
    "duration": 3243,
    "start_time": "2022-02-13T15:12:56.636Z"
   },
   {
    "duration": -18486,
    "start_time": "2022-02-13T15:13:18.406Z"
   },
   {
    "duration": -18510,
    "start_time": "2022-02-13T15:13:18.432Z"
   },
   {
    "duration": -18540,
    "start_time": "2022-02-13T15:13:18.463Z"
   },
   {
    "duration": -18565,
    "start_time": "2022-02-13T15:13:18.489Z"
   },
   {
    "duration": -18613,
    "start_time": "2022-02-13T15:13:18.538Z"
   },
   {
    "duration": -18638,
    "start_time": "2022-02-13T15:13:18.564Z"
   },
   {
    "duration": -18682,
    "start_time": "2022-02-13T15:13:18.609Z"
   },
   {
    "duration": -18730,
    "start_time": "2022-02-13T15:13:18.658Z"
   },
   {
    "duration": -18762,
    "start_time": "2022-02-13T15:13:18.691Z"
   },
   {
    "duration": -18788,
    "start_time": "2022-02-13T15:13:18.718Z"
   },
   {
    "duration": -18821,
    "start_time": "2022-02-13T15:13:18.752Z"
   },
   {
    "duration": -18872,
    "start_time": "2022-02-13T15:13:18.804Z"
   },
   {
    "duration": -18941,
    "start_time": "2022-02-13T15:13:18.874Z"
   },
   {
    "duration": -18993,
    "start_time": "2022-02-13T15:13:18.927Z"
   },
   {
    "duration": -19064,
    "start_time": "2022-02-13T15:13:18.998Z"
   },
   {
    "duration": -19088,
    "start_time": "2022-02-13T15:13:19.023Z"
   },
   {
    "duration": -19118,
    "start_time": "2022-02-13T15:13:19.054Z"
   },
   {
    "duration": -19142,
    "start_time": "2022-02-13T15:13:19.079Z"
   },
   {
    "duration": -19188,
    "start_time": "2022-02-13T15:13:19.126Z"
   },
   {
    "duration": -19214,
    "start_time": "2022-02-13T15:13:19.153Z"
   },
   {
    "duration": -19246,
    "start_time": "2022-02-13T15:13:19.185Z"
   },
   {
    "duration": -19271,
    "start_time": "2022-02-13T15:13:19.211Z"
   },
   {
    "duration": -19260,
    "start_time": "2022-02-13T15:13:19.258Z"
   },
   {
    "duration": -19285,
    "start_time": "2022-02-13T15:13:19.284Z"
   },
   {
    "duration": -19316,
    "start_time": "2022-02-13T15:13:19.317Z"
   },
   {
    "duration": -19341,
    "start_time": "2022-02-13T15:13:19.343Z"
   },
   {
    "duration": -19427,
    "start_time": "2022-02-13T15:13:19.430Z"
   },
   {
    "duration": -19507,
    "start_time": "2022-02-13T15:13:19.511Z"
   },
   {
    "duration": -19583,
    "start_time": "2022-02-13T15:13:19.589Z"
   },
   {
    "duration": -19609,
    "start_time": "2022-02-13T15:13:19.616Z"
   },
   {
    "duration": -19639,
    "start_time": "2022-02-13T15:13:19.647Z"
   },
   {
    "duration": -19669,
    "start_time": "2022-02-13T15:13:19.679Z"
   },
   {
    "duration": -19736,
    "start_time": "2022-02-13T15:13:19.747Z"
   },
   {
    "duration": -19762,
    "start_time": "2022-02-13T15:13:19.774Z"
   },
   {
    "duration": -19792,
    "start_time": "2022-02-13T15:13:19.805Z"
   },
   {
    "duration": -19833,
    "start_time": "2022-02-13T15:13:19.847Z"
   },
   {
    "duration": -19864,
    "start_time": "2022-02-13T15:13:19.879Z"
   },
   {
    "duration": -19925,
    "start_time": "2022-02-13T15:13:19.941Z"
   },
   {
    "duration": -19996,
    "start_time": "2022-02-13T15:13:20.014Z"
   },
   {
    "duration": -20053,
    "start_time": "2022-02-13T15:13:20.072Z"
   },
   {
    "duration": -20083,
    "start_time": "2022-02-13T15:13:20.104Z"
   },
   {
    "duration": -20108,
    "start_time": "2022-02-13T15:13:20.129Z"
   },
   {
    "duration": -20138,
    "start_time": "2022-02-13T15:13:20.160Z"
   },
   {
    "duration": -20179,
    "start_time": "2022-02-13T15:13:20.203Z"
   },
   {
    "duration": -20208,
    "start_time": "2022-02-13T15:13:20.234Z"
   },
   {
    "duration": -20232,
    "start_time": "2022-02-13T15:13:20.259Z"
   },
   {
    "duration": -20262,
    "start_time": "2022-02-13T15:13:20.290Z"
   },
   {
    "duration": -20301,
    "start_time": "2022-02-13T15:13:20.330Z"
   },
   {
    "duration": -20332,
    "start_time": "2022-02-13T15:13:20.362Z"
   },
   {
    "duration": -20357,
    "start_time": "2022-02-13T15:13:20.388Z"
   },
   {
    "duration": -20423,
    "start_time": "2022-02-13T15:13:20.456Z"
   },
   {
    "duration": -20472,
    "start_time": "2022-02-13T15:13:20.506Z"
   },
   {
    "duration": -20541,
    "start_time": "2022-02-13T15:13:20.576Z"
   },
   {
    "duration": -20602,
    "start_time": "2022-02-13T15:13:20.637Z"
   },
   {
    "duration": -20634,
    "start_time": "2022-02-13T15:13:20.670Z"
   },
   {
    "duration": -20598,
    "start_time": "2022-02-13T15:13:20.696Z"
   },
   {
    "duration": -20628,
    "start_time": "2022-02-13T15:13:20.727Z"
   },
   {
    "duration": -20669,
    "start_time": "2022-02-13T15:13:20.769Z"
   },
   {
    "duration": -20695,
    "start_time": "2022-02-13T15:13:20.801Z"
   },
   {
    "duration": -20720,
    "start_time": "2022-02-13T15:13:20.826Z"
   },
   {
    "duration": -20749,
    "start_time": "2022-02-13T15:13:20.856Z"
   },
   {
    "duration": -20791,
    "start_time": "2022-02-13T15:13:20.899Z"
   },
   {
    "duration": -20822,
    "start_time": "2022-02-13T15:13:20.931Z"
   },
   {
    "duration": -20847,
    "start_time": "2022-02-13T15:13:20.957Z"
   },
   {
    "duration": -20877,
    "start_time": "2022-02-13T15:13:20.988Z"
   },
   {
    "duration": 3970,
    "start_time": "2022-02-13T15:15:23.588Z"
   },
   {
    "duration": 1283,
    "start_time": "2022-02-13T15:16:13.977Z"
   },
   {
    "duration": 2,
    "start_time": "2022-02-13T15:16:15.262Z"
   },
   {
    "duration": 36,
    "start_time": "2022-02-13T15:16:15.267Z"
   },
   {
    "duration": 70,
    "start_time": "2022-02-13T15:16:15.305Z"
   },
   {
    "duration": 18,
    "start_time": "2022-02-13T15:16:15.377Z"
   },
   {
    "duration": 33,
    "start_time": "2022-02-13T15:16:15.397Z"
   },
   {
    "duration": 38,
    "start_time": "2022-02-13T15:16:15.432Z"
   },
   {
    "duration": 25,
    "start_time": "2022-02-13T15:16:15.474Z"
   },
   {
    "duration": 34,
    "start_time": "2022-02-13T15:16:15.502Z"
   },
   {
    "duration": 21,
    "start_time": "2022-02-13T15:16:15.539Z"
   },
   {
    "duration": 39,
    "start_time": "2022-02-13T15:16:15.562Z"
   },
   {
    "duration": 31,
    "start_time": "2022-02-13T15:16:15.604Z"
   },
   {
    "duration": 21,
    "start_time": "2022-02-13T15:16:15.637Z"
   },
   {
    "duration": 43,
    "start_time": "2022-02-13T15:16:15.660Z"
   },
   {
    "duration": 29,
    "start_time": "2022-02-13T15:16:15.705Z"
   },
   {
    "duration": 28,
    "start_time": "2022-02-13T15:16:15.736Z"
   },
   {
    "duration": 5,
    "start_time": "2022-02-13T15:16:15.799Z"
   },
   {
    "duration": 23,
    "start_time": "2022-02-13T15:16:15.806Z"
   },
   {
    "duration": 4171,
    "start_time": "2022-02-13T15:16:15.831Z"
   },
   {
    "duration": 7,
    "start_time": "2022-02-13T15:16:20.005Z"
   },
   {
    "duration": 11,
    "start_time": "2022-02-13T15:16:20.015Z"
   },
   {
    "duration": 12,
    "start_time": "2022-02-13T15:16:20.028Z"
   },
   {
    "duration": 57,
    "start_time": "2022-02-13T15:16:20.045Z"
   },
   {
    "duration": 13,
    "start_time": "2022-02-13T15:16:20.105Z"
   },
   {
    "duration": 24,
    "start_time": "2022-02-13T15:16:20.120Z"
   },
   {
    "duration": 5,
    "start_time": "2022-02-13T15:16:20.146Z"
   },
   {
    "duration": 18,
    "start_time": "2022-02-13T15:16:20.153Z"
   },
   {
    "duration": 18,
    "start_time": "2022-02-13T15:16:20.173Z"
   },
   {
    "duration": 11,
    "start_time": "2022-02-13T15:16:20.194Z"
   },
   {
    "duration": 11,
    "start_time": "2022-02-13T15:16:20.207Z"
   },
   {
    "duration": 5,
    "start_time": "2022-02-13T15:16:20.220Z"
   },
   {
    "duration": 12,
    "start_time": "2022-02-13T15:16:20.227Z"
   },
   {
    "duration": 7,
    "start_time": "2022-02-13T15:16:20.241Z"
   },
   {
    "duration": 5,
    "start_time": "2022-02-13T15:16:20.250Z"
   },
   {
    "duration": 11,
    "start_time": "2022-02-13T15:16:20.257Z"
   },
   {
    "duration": 29,
    "start_time": "2022-02-13T15:16:20.270Z"
   },
   {
    "duration": 15,
    "start_time": "2022-02-13T15:16:20.301Z"
   },
   {
    "duration": 26,
    "start_time": "2022-02-13T15:16:20.318Z"
   },
   {
    "duration": 17,
    "start_time": "2022-02-13T15:16:20.347Z"
   },
   {
    "duration": 18,
    "start_time": "2022-02-13T15:16:20.366Z"
   },
   {
    "duration": 23,
    "start_time": "2022-02-13T15:16:20.386Z"
   },
   {
    "duration": 5,
    "start_time": "2022-02-13T15:16:20.412Z"
   },
   {
    "duration": 20,
    "start_time": "2022-02-13T15:16:20.419Z"
   },
   {
    "duration": 19,
    "start_time": "2022-02-13T15:16:20.441Z"
   },
   {
    "duration": 30,
    "start_time": "2022-02-13T15:16:20.461Z"
   },
   {
    "duration": 25,
    "start_time": "2022-02-13T15:16:20.492Z"
   },
   {
    "duration": 3629,
    "start_time": "2022-02-13T15:16:20.519Z"
   },
   {
    "duration": -15472,
    "start_time": "2022-02-13T15:16:39.673Z"
   },
   {
    "duration": -15498,
    "start_time": "2022-02-13T15:16:39.700Z"
   },
   {
    "duration": -15532,
    "start_time": "2022-02-13T15:16:39.735Z"
   },
   {
    "duration": -15559,
    "start_time": "2022-02-13T15:16:39.763Z"
   },
   {
    "duration": -15598,
    "start_time": "2022-02-13T15:16:39.803Z"
   },
   {
    "duration": -15625,
    "start_time": "2022-02-13T15:16:39.831Z"
   },
   {
    "duration": -15676,
    "start_time": "2022-02-13T15:16:39.883Z"
   },
   {
    "duration": -15701,
    "start_time": "2022-02-13T15:16:39.909Z"
   },
   {
    "duration": -15730,
    "start_time": "2022-02-13T15:16:39.940Z"
   },
   {
    "duration": -15760,
    "start_time": "2022-02-13T15:16:39.971Z"
   },
   {
    "duration": -15829,
    "start_time": "2022-02-13T15:16:40.041Z"
   },
   {
    "duration": -15855,
    "start_time": "2022-02-13T15:16:40.068Z"
   },
   {
    "duration": -15899,
    "start_time": "2022-02-13T15:16:40.113Z"
   },
   {
    "duration": -15925,
    "start_time": "2022-02-13T15:16:40.140Z"
   },
   {
    "duration": -15958,
    "start_time": "2022-02-13T15:16:40.174Z"
   },
   {
    "duration": -15983,
    "start_time": "2022-02-13T15:16:40.200Z"
   },
   {
    "duration": -16028,
    "start_time": "2022-02-13T15:16:40.246Z"
   },
   {
    "duration": -16057,
    "start_time": "2022-02-13T15:16:40.276Z"
   },
   {
    "duration": -16094,
    "start_time": "2022-02-13T15:16:40.314Z"
   },
   {
    "duration": -16132,
    "start_time": "2022-02-13T15:16:40.354Z"
   },
   {
    "duration": -16166,
    "start_time": "2022-02-13T15:16:40.389Z"
   },
   {
    "duration": -16194,
    "start_time": "2022-02-13T15:16:40.417Z"
   },
   {
    "duration": -16226,
    "start_time": "2022-02-13T15:16:40.451Z"
   },
   {
    "duration": -16269,
    "start_time": "2022-02-13T15:16:40.495Z"
   },
   {
    "duration": -16313,
    "start_time": "2022-02-13T15:16:40.540Z"
   },
   {
    "duration": -16345,
    "start_time": "2022-02-13T15:16:40.573Z"
   },
   {
    "duration": -16397,
    "start_time": "2022-02-13T15:16:40.626Z"
   },
   {
    "duration": -16426,
    "start_time": "2022-02-13T15:16:40.656Z"
   },
   {
    "duration": -16460,
    "start_time": "2022-02-13T15:16:40.691Z"
   },
   {
    "duration": -16502,
    "start_time": "2022-02-13T15:16:40.735Z"
   },
   {
    "duration": -16472,
    "start_time": "2022-02-13T15:16:40.770Z"
   },
   {
    "duration": -16499,
    "start_time": "2022-02-13T15:16:40.799Z"
   },
   {
    "duration": -16544,
    "start_time": "2022-02-13T15:16:40.845Z"
   },
   {
    "duration": -16573,
    "start_time": "2022-02-13T15:16:40.875Z"
   },
   {
    "duration": -16606,
    "start_time": "2022-02-13T15:16:40.909Z"
   },
   {
    "duration": -16631,
    "start_time": "2022-02-13T15:16:40.935Z"
   },
   {
    "duration": -16674,
    "start_time": "2022-02-13T15:16:40.979Z"
   },
   {
    "duration": -16701,
    "start_time": "2022-02-13T15:16:41.007Z"
   },
   {
    "duration": -16733,
    "start_time": "2022-02-13T15:16:41.041Z"
   },
   {
    "duration": -16760,
    "start_time": "2022-02-13T15:16:41.069Z"
   },
   {
    "duration": -16802,
    "start_time": "2022-02-13T15:16:41.112Z"
   },
   {
    "duration": -16829,
    "start_time": "2022-02-13T15:16:41.140Z"
   },
   {
    "duration": -16861,
    "start_time": "2022-02-13T15:16:41.174Z"
   },
   {
    "duration": -16886,
    "start_time": "2022-02-13T15:16:41.200Z"
   },
   {
    "duration": -16929,
    "start_time": "2022-02-13T15:16:41.244Z"
   },
   {
    "duration": -16955,
    "start_time": "2022-02-13T15:16:41.271Z"
   },
   {
    "duration": -16990,
    "start_time": "2022-02-13T15:16:41.307Z"
   },
   {
    "duration": -17016,
    "start_time": "2022-02-13T15:16:41.334Z"
   },
   {
    "duration": -17060,
    "start_time": "2022-02-13T15:16:41.380Z"
   },
   {
    "duration": -17088,
    "start_time": "2022-02-13T15:16:41.409Z"
   },
   {
    "duration": -17122,
    "start_time": "2022-02-13T15:16:41.444Z"
   },
   {
    "duration": -17169,
    "start_time": "2022-02-13T15:16:41.492Z"
   },
   {
    "duration": -17203,
    "start_time": "2022-02-13T15:16:41.527Z"
   },
   {
    "duration": -17230,
    "start_time": "2022-02-13T15:16:41.555Z"
   },
   {
    "duration": -17383,
    "start_time": "2022-02-13T15:16:41.709Z"
   },
   {
    "duration": -17409,
    "start_time": "2022-02-13T15:16:41.737Z"
   },
   {
    "duration": -17441,
    "start_time": "2022-02-13T15:16:41.770Z"
   },
   {
    "duration": -17493,
    "start_time": "2022-02-13T15:16:41.823Z"
   },
   {
    "duration": -17526,
    "start_time": "2022-02-13T15:16:41.857Z"
   },
   {
    "duration": -17570,
    "start_time": "2022-02-13T15:16:41.902Z"
   },
   {
    "duration": -17600,
    "start_time": "2022-02-13T15:16:41.934Z"
   },
   {
    "duration": -17626,
    "start_time": "2022-02-13T15:16:41.961Z"
   },
   {
    "duration": -17682,
    "start_time": "2022-02-13T15:16:42.018Z"
   },
   {
    "duration": -17736,
    "start_time": "2022-02-13T15:16:42.073Z"
   },
   {
    "duration": -17747,
    "start_time": "2022-02-13T15:16:42.145Z"
   },
   {
    "duration": 1287,
    "start_time": "2022-02-13T15:19:01.987Z"
   },
   {
    "duration": 3,
    "start_time": "2022-02-13T15:19:03.276Z"
   },
   {
    "duration": 5,
    "start_time": "2022-02-13T15:19:03.281Z"
   },
   {
    "duration": 45,
    "start_time": "2022-02-13T15:19:03.288Z"
   },
   {
    "duration": 20,
    "start_time": "2022-02-13T15:19:03.335Z"
   },
   {
    "duration": 22,
    "start_time": "2022-02-13T15:19:03.356Z"
   },
   {
    "duration": 25,
    "start_time": "2022-02-13T15:19:03.381Z"
   },
   {
    "duration": 28,
    "start_time": "2022-02-13T15:19:03.408Z"
   },
   {
    "duration": 26,
    "start_time": "2022-02-13T15:19:03.440Z"
   },
   {
    "duration": 23,
    "start_time": "2022-02-13T15:19:03.469Z"
   },
   {
    "duration": 22,
    "start_time": "2022-02-13T15:19:03.494Z"
   },
   {
    "duration": 30,
    "start_time": "2022-02-13T15:19:03.519Z"
   },
   {
    "duration": 21,
    "start_time": "2022-02-13T15:19:03.551Z"
   },
   {
    "duration": 11,
    "start_time": "2022-02-13T15:19:03.574Z"
   },
   {
    "duration": 12,
    "start_time": "2022-02-13T15:19:03.587Z"
   },
   {
    "duration": 8,
    "start_time": "2022-02-13T15:19:03.601Z"
   },
   {
    "duration": 7,
    "start_time": "2022-02-13T15:19:03.611Z"
   },
   {
    "duration": 7,
    "start_time": "2022-02-13T15:19:03.620Z"
   },
   {
    "duration": 6,
    "start_time": "2022-02-13T15:19:03.629Z"
   },
   {
    "duration": 6,
    "start_time": "2022-02-13T15:19:03.637Z"
   },
   {
    "duration": 9,
    "start_time": "2022-02-13T15:19:03.646Z"
   },
   {
    "duration": 44,
    "start_time": "2022-02-13T15:19:03.657Z"
   },
   {
    "duration": 5,
    "start_time": "2022-02-13T15:19:03.703Z"
   },
   {
    "duration": 7,
    "start_time": "2022-02-13T15:19:03.710Z"
   },
   {
    "duration": 8,
    "start_time": "2022-02-13T15:19:03.719Z"
   },
   {
    "duration": 14,
    "start_time": "2022-02-13T15:19:03.729Z"
   },
   {
    "duration": 7,
    "start_time": "2022-02-13T15:19:03.748Z"
   },
   {
    "duration": 5,
    "start_time": "2022-02-13T15:19:03.759Z"
   },
   {
    "duration": 35,
    "start_time": "2022-02-13T15:19:03.766Z"
   },
   {
    "duration": 3,
    "start_time": "2022-02-13T15:19:03.803Z"
   },
   {
    "duration": 7,
    "start_time": "2022-02-13T15:19:03.808Z"
   },
   {
    "duration": 8,
    "start_time": "2022-02-13T15:19:03.816Z"
   },
   {
    "duration": 5,
    "start_time": "2022-02-13T15:19:03.826Z"
   },
   {
    "duration": 10,
    "start_time": "2022-02-13T15:19:03.833Z"
   },
   {
    "duration": 10,
    "start_time": "2022-02-13T15:19:03.846Z"
   },
   {
    "duration": 9,
    "start_time": "2022-02-13T15:19:03.858Z"
   },
   {
    "duration": 31,
    "start_time": "2022-02-13T15:19:03.869Z"
   },
   {
    "duration": 6,
    "start_time": "2022-02-13T15:19:03.902Z"
   },
   {
    "duration": 11,
    "start_time": "2022-02-13T15:19:03.910Z"
   },
   {
    "duration": 13,
    "start_time": "2022-02-13T15:19:03.923Z"
   },
   {
    "duration": 7,
    "start_time": "2022-02-13T15:19:03.938Z"
   },
   {
    "duration": 13,
    "start_time": "2022-02-13T15:19:03.946Z"
   },
   {
    "duration": 9,
    "start_time": "2022-02-13T15:19:03.960Z"
   },
   {
    "duration": 13,
    "start_time": "2022-02-13T15:19:03.970Z"
   },
   {
    "duration": 10,
    "start_time": "2022-02-13T15:19:03.999Z"
   },
   {
    "duration": 36,
    "start_time": "2022-02-13T15:19:04.011Z"
   },
   {
    "duration": 12,
    "start_time": "2022-02-13T15:19:04.049Z"
   },
   {
    "duration": 36,
    "start_time": "2022-02-13T15:19:04.063Z"
   },
   {
    "duration": 13,
    "start_time": "2022-02-13T15:19:04.101Z"
   },
   {
    "duration": 22,
    "start_time": "2022-02-13T15:19:04.116Z"
   },
   {
    "duration": 5,
    "start_time": "2022-02-13T15:19:04.140Z"
   },
   {
    "duration": 16,
    "start_time": "2022-02-13T15:19:04.147Z"
   },
   {
    "duration": 44,
    "start_time": "2022-02-13T15:19:04.166Z"
   },
   {
    "duration": 20,
    "start_time": "2022-02-13T15:19:04.212Z"
   },
   {
    "duration": 3,
    "start_time": "2022-02-13T15:19:04.234Z"
   },
   {
    "duration": 31,
    "start_time": "2022-02-13T15:19:04.239Z"
   },
   {
    "duration": 41,
    "start_time": "2022-02-13T15:19:04.272Z"
   },
   {
    "duration": 10,
    "start_time": "2022-02-13T15:19:04.316Z"
   },
   {
    "duration": 465,
    "start_time": "2022-02-13T15:19:04.328Z"
   },
   {
    "duration": 12,
    "start_time": "2022-02-13T15:19:04.795Z"
   },
   {
    "duration": 13,
    "start_time": "2022-02-13T15:19:04.809Z"
   },
   {
    "duration": 6,
    "start_time": "2022-02-13T15:19:04.824Z"
   },
   {
    "duration": 11,
    "start_time": "2022-02-13T15:19:04.832Z"
   },
   {
    "duration": 8,
    "start_time": "2022-02-13T15:19:04.845Z"
   },
   {
    "duration": 6,
    "start_time": "2022-02-13T15:19:04.855Z"
   },
   {
    "duration": 3823,
    "start_time": "2022-02-13T15:19:04.862Z"
   },
   {
    "duration": 12,
    "start_time": "2022-02-13T15:19:08.687Z"
   },
   {
    "duration": 12,
    "start_time": "2022-02-13T15:19:08.701Z"
   },
   {
    "duration": 423,
    "start_time": "2022-02-13T15:19:08.715Z"
   },
   {
    "duration": 2743,
    "start_time": "2022-02-13T15:19:09.140Z"
   },
   {
    "duration": 2,
    "start_time": "2022-02-13T15:19:11.884Z"
   },
   {
    "duration": 17,
    "start_time": "2022-02-13T15:19:11.888Z"
   },
   {
    "duration": 8,
    "start_time": "2022-02-13T15:19:11.907Z"
   },
   {
    "duration": 468,
    "start_time": "2022-02-13T15:19:11.917Z"
   },
   {
    "duration": 517,
    "start_time": "2022-02-13T15:19:12.387Z"
   },
   {
    "duration": 12,
    "start_time": "2022-02-13T15:19:12.906Z"
   },
   {
    "duration": 10,
    "start_time": "2022-02-13T15:19:12.920Z"
   },
   {
    "duration": 6,
    "start_time": "2022-02-13T15:19:12.932Z"
   },
   {
    "duration": 3289,
    "start_time": "2022-02-13T15:19:12.940Z"
   },
   {
    "duration": 11,
    "start_time": "2022-02-13T15:19:16.231Z"
   },
   {
    "duration": 19,
    "start_time": "2022-02-13T15:19:16.248Z"
   },
   {
    "duration": 370,
    "start_time": "2022-02-13T15:19:16.269Z"
   },
   {
    "duration": 12,
    "start_time": "2022-02-13T15:19:16.641Z"
   },
   {
    "duration": 5,
    "start_time": "2022-02-13T15:19:16.655Z"
   },
   {
    "duration": 13,
    "start_time": "2022-02-13T15:19:16.662Z"
   },
   {
    "duration": 23,
    "start_time": "2022-02-13T15:19:16.677Z"
   },
   {
    "duration": 13,
    "start_time": "2022-02-13T15:19:16.702Z"
   },
   {
    "duration": 6,
    "start_time": "2022-02-13T15:19:16.717Z"
   },
   {
    "duration": 14,
    "start_time": "2022-02-13T15:19:16.724Z"
   },
   {
    "duration": 6,
    "start_time": "2022-02-13T15:19:16.739Z"
   },
   {
    "duration": 18,
    "start_time": "2022-02-13T15:19:16.746Z"
   },
   {
    "duration": 35,
    "start_time": "2022-02-13T15:19:16.765Z"
   },
   {
    "duration": 13,
    "start_time": "2022-02-13T15:19:16.802Z"
   },
   {
    "duration": 8,
    "start_time": "2022-02-13T15:19:16.817Z"
   },
   {
    "duration": 18,
    "start_time": "2022-02-13T15:19:16.826Z"
   },
   {
    "duration": 17,
    "start_time": "2022-02-13T15:19:16.846Z"
   },
   {
    "duration": 7,
    "start_time": "2022-02-13T15:19:16.864Z"
   },
   {
    "duration": 196,
    "start_time": "2022-02-13T15:19:16.899Z"
   },
   {
    "duration": 14,
    "start_time": "2022-02-13T15:19:17.098Z"
   },
   {
    "duration": 7,
    "start_time": "2022-02-13T15:19:17.114Z"
   },
   {
    "duration": 212,
    "start_time": "2022-02-13T15:19:17.122Z"
   },
   {
    "duration": 13,
    "start_time": "2022-02-13T15:19:17.336Z"
   },
   {
    "duration": 9,
    "start_time": "2022-02-13T15:19:17.351Z"
   },
   {
    "duration": 192,
    "start_time": "2022-02-13T15:19:17.362Z"
   },
   {
    "duration": 6,
    "start_time": "2022-02-13T15:19:17.555Z"
   },
   {
    "duration": 13,
    "start_time": "2022-02-13T15:19:17.562Z"
   },
   {
    "duration": 9,
    "start_time": "2022-02-13T15:19:17.577Z"
   },
   {
    "duration": 12,
    "start_time": "2022-02-13T15:19:17.588Z"
   },
   {
    "duration": 9,
    "start_time": "2022-02-13T15:19:17.602Z"
   },
   {
    "duration": 4,
    "start_time": "2022-02-13T15:19:17.613Z"
   },
   {
    "duration": 6,
    "start_time": "2022-02-13T15:19:17.619Z"
   },
   {
    "duration": 88,
    "start_time": "2022-02-13T15:23:32.489Z"
   },
   {
    "duration": 1040,
    "start_time": "2022-02-13T15:31:05.614Z"
   },
   {
    "duration": 885,
    "start_time": "2022-02-13T15:32:31.395Z"
   },
   {
    "duration": 741,
    "start_time": "2022-02-13T15:34:26.922Z"
   },
   {
    "duration": 103,
    "start_time": "2022-02-13T15:38:09.058Z"
   },
   {
    "duration": 87,
    "start_time": "2022-02-13T15:39:15.178Z"
   },
   {
    "duration": 465,
    "start_time": "2022-02-13T15:40:35.722Z"
   },
   {
    "duration": 705,
    "start_time": "2022-02-13T15:43:06.135Z"
   },
   {
    "duration": 12,
    "start_time": "2022-02-13T15:43:42.867Z"
   },
   {
    "duration": 11,
    "start_time": "2022-02-13T15:44:00.234Z"
   },
   {
    "duration": 1364,
    "start_time": "2022-02-13T15:44:26.516Z"
   },
   {
    "duration": 2,
    "start_time": "2022-02-13T15:44:27.883Z"
   },
   {
    "duration": 11,
    "start_time": "2022-02-13T15:44:27.888Z"
   },
   {
    "duration": 44,
    "start_time": "2022-02-13T15:44:27.901Z"
   },
   {
    "duration": 17,
    "start_time": "2022-02-13T15:44:27.947Z"
   },
   {
    "duration": 23,
    "start_time": "2022-02-13T15:44:27.966Z"
   },
   {
    "duration": 15,
    "start_time": "2022-02-13T15:44:27.991Z"
   },
   {
    "duration": 9,
    "start_time": "2022-02-13T15:44:28.008Z"
   },
   {
    "duration": 8,
    "start_time": "2022-02-13T15:44:28.020Z"
   },
   {
    "duration": 10,
    "start_time": "2022-02-13T15:44:28.031Z"
   },
   {
    "duration": 17,
    "start_time": "2022-02-13T15:44:28.044Z"
   },
   {
    "duration": 38,
    "start_time": "2022-02-13T15:44:28.064Z"
   },
   {
    "duration": 5,
    "start_time": "2022-02-13T15:44:28.104Z"
   },
   {
    "duration": 9,
    "start_time": "2022-02-13T15:44:28.111Z"
   },
   {
    "duration": 10,
    "start_time": "2022-02-13T15:44:28.121Z"
   },
   {
    "duration": 10,
    "start_time": "2022-02-13T15:44:28.133Z"
   },
   {
    "duration": 5,
    "start_time": "2022-02-13T15:44:28.145Z"
   },
   {
    "duration": 5,
    "start_time": "2022-02-13T15:44:28.152Z"
   },
   {
    "duration": 42,
    "start_time": "2022-02-13T15:44:28.159Z"
   },
   {
    "duration": 9,
    "start_time": "2022-02-13T15:44:28.202Z"
   },
   {
    "duration": 7,
    "start_time": "2022-02-13T15:44:28.213Z"
   },
   {
    "duration": 5,
    "start_time": "2022-02-13T15:44:28.223Z"
   },
   {
    "duration": 9,
    "start_time": "2022-02-13T15:44:28.230Z"
   },
   {
    "duration": 5,
    "start_time": "2022-02-13T15:44:28.241Z"
   },
   {
    "duration": 5,
    "start_time": "2022-02-13T15:44:28.248Z"
   },
   {
    "duration": 7,
    "start_time": "2022-02-13T15:44:28.255Z"
   },
   {
    "duration": 4,
    "start_time": "2022-02-13T15:44:28.302Z"
   },
   {
    "duration": 6,
    "start_time": "2022-02-13T15:44:28.309Z"
   },
   {
    "duration": 7,
    "start_time": "2022-02-13T15:44:28.317Z"
   },
   {
    "duration": 4,
    "start_time": "2022-02-13T15:44:28.326Z"
   },
   {
    "duration": 8,
    "start_time": "2022-02-13T15:44:28.332Z"
   },
   {
    "duration": 7,
    "start_time": "2022-02-13T15:44:28.341Z"
   },
   {
    "duration": 6,
    "start_time": "2022-02-13T15:44:28.350Z"
   },
   {
    "duration": 41,
    "start_time": "2022-02-13T15:44:28.357Z"
   },
   {
    "duration": 8,
    "start_time": "2022-02-13T15:44:28.401Z"
   },
   {
    "duration": 10,
    "start_time": "2022-02-13T15:44:28.410Z"
   },
   {
    "duration": 10,
    "start_time": "2022-02-13T15:44:28.421Z"
   },
   {
    "duration": 7,
    "start_time": "2022-02-13T15:44:28.432Z"
   },
   {
    "duration": 4,
    "start_time": "2022-02-13T15:44:28.441Z"
   },
   {
    "duration": 10,
    "start_time": "2022-02-13T15:44:28.447Z"
   },
   {
    "duration": 41,
    "start_time": "2022-02-13T15:44:28.459Z"
   },
   {
    "duration": 6,
    "start_time": "2022-02-13T15:44:28.502Z"
   },
   {
    "duration": 9,
    "start_time": "2022-02-13T15:44:28.510Z"
   },
   {
    "duration": 11,
    "start_time": "2022-02-13T15:44:28.521Z"
   },
   {
    "duration": 10,
    "start_time": "2022-02-13T15:44:28.534Z"
   },
   {
    "duration": 3110,
    "start_time": "2022-02-13T15:44:28.546Z"
   },
   {
    "duration": -6232,
    "start_time": "2022-02-13T15:44:37.941Z"
   },
   {
    "duration": -6245,
    "start_time": "2022-02-13T15:44:37.955Z"
   },
   {
    "duration": -6261,
    "start_time": "2022-02-13T15:44:37.971Z"
   },
   {
    "duration": -6291,
    "start_time": "2022-02-13T15:44:38.002Z"
   },
   {
    "duration": -6307,
    "start_time": "2022-02-13T15:44:38.019Z"
   },
   {
    "duration": -6321,
    "start_time": "2022-02-13T15:44:38.034Z"
   },
   {
    "duration": -6338,
    "start_time": "2022-02-13T15:44:38.052Z"
   },
   {
    "duration": -6352,
    "start_time": "2022-02-13T15:44:38.067Z"
   },
   {
    "duration": -6366,
    "start_time": "2022-02-13T15:44:38.083Z"
   },
   {
    "duration": -6380,
    "start_time": "2022-02-13T15:44:38.098Z"
   },
   {
    "duration": -6408,
    "start_time": "2022-02-13T15:44:38.127Z"
   },
   {
    "duration": -6421,
    "start_time": "2022-02-13T15:44:38.141Z"
   },
   {
    "duration": -6437,
    "start_time": "2022-02-13T15:44:38.158Z"
   },
   {
    "duration": -6451,
    "start_time": "2022-02-13T15:44:38.173Z"
   },
   {
    "duration": -6466,
    "start_time": "2022-02-13T15:44:38.189Z"
   },
   {
    "duration": -6479,
    "start_time": "2022-02-13T15:44:38.203Z"
   },
   {
    "duration": -6497,
    "start_time": "2022-02-13T15:44:38.223Z"
   },
   {
    "duration": -6523,
    "start_time": "2022-02-13T15:44:38.250Z"
   },
   {
    "duration": -6539,
    "start_time": "2022-02-13T15:44:38.267Z"
   },
   {
    "duration": -6552,
    "start_time": "2022-02-13T15:44:38.281Z"
   },
   {
    "duration": -6568,
    "start_time": "2022-02-13T15:44:38.298Z"
   },
   {
    "duration": -6580,
    "start_time": "2022-02-13T15:44:38.311Z"
   },
   {
    "duration": -6595,
    "start_time": "2022-02-13T15:44:38.328Z"
   },
   {
    "duration": -6609,
    "start_time": "2022-02-13T15:44:38.343Z"
   },
   {
    "duration": -6643,
    "start_time": "2022-02-13T15:44:38.378Z"
   },
   {
    "duration": -6657,
    "start_time": "2022-02-13T15:44:38.393Z"
   },
   {
    "duration": -6673,
    "start_time": "2022-02-13T15:44:38.410Z"
   },
   {
    "duration": -6685,
    "start_time": "2022-02-13T15:44:38.424Z"
   },
   {
    "duration": -6643,
    "start_time": "2022-02-13T15:44:38.441Z"
   },
   {
    "duration": -6655,
    "start_time": "2022-02-13T15:44:38.455Z"
   },
   {
    "duration": -6671,
    "start_time": "2022-02-13T15:44:38.472Z"
   },
   {
    "duration": -6697,
    "start_time": "2022-02-13T15:44:38.499Z"
   },
   {
    "duration": -6713,
    "start_time": "2022-02-13T15:44:38.516Z"
   },
   {
    "duration": -6726,
    "start_time": "2022-02-13T15:44:38.531Z"
   },
   {
    "duration": -6742,
    "start_time": "2022-02-13T15:44:38.548Z"
   },
   {
    "duration": -6755,
    "start_time": "2022-02-13T15:44:38.562Z"
   },
   {
    "duration": -6772,
    "start_time": "2022-02-13T15:44:38.580Z"
   },
   {
    "duration": -6785,
    "start_time": "2022-02-13T15:44:38.594Z"
   },
   {
    "duration": -6815,
    "start_time": "2022-02-13T15:44:38.625Z"
   },
   {
    "duration": -6827,
    "start_time": "2022-02-13T15:44:38.638Z"
   },
   {
    "duration": -6843,
    "start_time": "2022-02-13T15:44:38.655Z"
   },
   {
    "duration": -6857,
    "start_time": "2022-02-13T15:44:38.670Z"
   },
   {
    "duration": -6874,
    "start_time": "2022-02-13T15:44:38.688Z"
   },
   {
    "duration": -6887,
    "start_time": "2022-02-13T15:44:38.703Z"
   },
   {
    "duration": -6916,
    "start_time": "2022-02-13T15:44:38.733Z"
   },
   {
    "duration": -6929,
    "start_time": "2022-02-13T15:44:38.747Z"
   },
   {
    "duration": -6944,
    "start_time": "2022-02-13T15:44:38.763Z"
   },
   {
    "duration": -6957,
    "start_time": "2022-02-13T15:44:38.777Z"
   },
   {
    "duration": -6973,
    "start_time": "2022-02-13T15:44:38.794Z"
   },
   {
    "duration": -6986,
    "start_time": "2022-02-13T15:44:38.808Z"
   },
   {
    "duration": -7001,
    "start_time": "2022-02-13T15:44:38.824Z"
   },
   {
    "duration": -7025,
    "start_time": "2022-02-13T15:44:38.849Z"
   },
   {
    "duration": -7040,
    "start_time": "2022-02-13T15:44:38.865Z"
   },
   {
    "duration": -7053,
    "start_time": "2022-02-13T15:44:38.879Z"
   },
   {
    "duration": -7069,
    "start_time": "2022-02-13T15:44:38.896Z"
   },
   {
    "duration": -7082,
    "start_time": "2022-02-13T15:44:38.910Z"
   },
   {
    "duration": -7098,
    "start_time": "2022-02-13T15:44:38.927Z"
   },
   {
    "duration": -7112,
    "start_time": "2022-02-13T15:44:38.942Z"
   },
   {
    "duration": -7138,
    "start_time": "2022-02-13T15:44:38.969Z"
   },
   {
    "duration": -7151,
    "start_time": "2022-02-13T15:44:38.983Z"
   },
   {
    "duration": -7169,
    "start_time": "2022-02-13T15:44:39.002Z"
   },
   {
    "duration": -7184,
    "start_time": "2022-02-13T15:44:39.018Z"
   },
   {
    "duration": -7201,
    "start_time": "2022-02-13T15:44:39.036Z"
   },
   {
    "duration": -7215,
    "start_time": "2022-02-13T15:44:39.051Z"
   },
   {
    "duration": -7243,
    "start_time": "2022-02-13T15:44:39.080Z"
   },
   {
    "duration": -7196,
    "start_time": "2022-02-13T15:44:39.094Z"
   },
   {
    "duration": 1300,
    "start_time": "2022-02-13T15:47:01.630Z"
   },
   {
    "duration": 2,
    "start_time": "2022-02-13T15:47:02.932Z"
   },
   {
    "duration": 11,
    "start_time": "2022-02-13T15:47:02.937Z"
   },
   {
    "duration": 50,
    "start_time": "2022-02-13T15:47:02.950Z"
   },
   {
    "duration": 21,
    "start_time": "2022-02-13T15:47:03.002Z"
   },
   {
    "duration": 21,
    "start_time": "2022-02-13T15:47:03.025Z"
   },
   {
    "duration": 18,
    "start_time": "2022-02-13T15:47:03.048Z"
   },
   {
    "duration": 10,
    "start_time": "2022-02-13T15:47:03.069Z"
   },
   {
    "duration": 8,
    "start_time": "2022-02-13T15:47:03.100Z"
   },
   {
    "duration": 19,
    "start_time": "2022-02-13T15:47:03.110Z"
   },
   {
    "duration": 20,
    "start_time": "2022-02-13T15:47:03.132Z"
   },
   {
    "duration": 7,
    "start_time": "2022-02-13T15:47:03.154Z"
   },
   {
    "duration": 10,
    "start_time": "2022-02-13T15:47:03.162Z"
   },
   {
    "duration": 5,
    "start_time": "2022-02-13T15:47:03.174Z"
   },
   {
    "duration": 23,
    "start_time": "2022-02-13T15:47:03.181Z"
   },
   {
    "duration": 15,
    "start_time": "2022-02-13T15:47:03.206Z"
   },
   {
    "duration": 11,
    "start_time": "2022-02-13T15:47:03.222Z"
   },
   {
    "duration": 12,
    "start_time": "2022-02-13T15:47:03.234Z"
   },
   {
    "duration": 18,
    "start_time": "2022-02-13T15:47:03.248Z"
   },
   {
    "duration": 18,
    "start_time": "2022-02-13T15:47:03.267Z"
   },
   {
    "duration": 11,
    "start_time": "2022-02-13T15:47:03.287Z"
   },
   {
    "duration": 8,
    "start_time": "2022-02-13T15:47:03.300Z"
   },
   {
    "duration": 7,
    "start_time": "2022-02-13T15:47:03.312Z"
   },
   {
    "duration": 8,
    "start_time": "2022-02-13T15:47:03.322Z"
   },
   {
    "duration": 21,
    "start_time": "2022-02-13T15:47:03.331Z"
   },
   {
    "duration": 15,
    "start_time": "2022-02-13T15:47:03.354Z"
   },
   {
    "duration": 10,
    "start_time": "2022-02-13T15:47:03.371Z"
   },
   {
    "duration": 9,
    "start_time": "2022-02-13T15:47:03.382Z"
   },
   {
    "duration": 17,
    "start_time": "2022-02-13T15:47:03.393Z"
   },
   {
    "duration": 16,
    "start_time": "2022-02-13T15:47:03.411Z"
   },
   {
    "duration": 20,
    "start_time": "2022-02-13T15:47:03.429Z"
   },
   {
    "duration": 17,
    "start_time": "2022-02-13T15:47:03.451Z"
   },
   {
    "duration": 18,
    "start_time": "2022-02-13T15:47:03.470Z"
   },
   {
    "duration": 29,
    "start_time": "2022-02-13T15:47:03.490Z"
   },
   {
    "duration": 41,
    "start_time": "2022-02-13T15:47:03.521Z"
   },
   {
    "duration": 32,
    "start_time": "2022-02-13T15:47:03.564Z"
   },
   {
    "duration": 24,
    "start_time": "2022-02-13T15:47:03.598Z"
   },
   {
    "duration": 18,
    "start_time": "2022-02-13T15:47:03.624Z"
   },
   {
    "duration": 13,
    "start_time": "2022-02-13T15:47:03.644Z"
   },
   {
    "duration": 33,
    "start_time": "2022-02-13T15:47:03.659Z"
   },
   {
    "duration": 28,
    "start_time": "2022-02-13T15:47:03.694Z"
   },
   {
    "duration": 30,
    "start_time": "2022-02-13T15:47:03.724Z"
   },
   {
    "duration": 19,
    "start_time": "2022-02-13T15:47:03.756Z"
   },
   {
    "duration": 38,
    "start_time": "2022-02-13T15:47:03.777Z"
   },
   {
    "duration": 26,
    "start_time": "2022-02-13T15:47:03.817Z"
   },
   {
    "duration": 51,
    "start_time": "2022-02-13T15:47:03.845Z"
   },
   {
    "duration": 14,
    "start_time": "2022-02-13T15:47:03.898Z"
   },
   {
    "duration": 23,
    "start_time": "2022-02-13T15:47:03.914Z"
   },
   {
    "duration": 13,
    "start_time": "2022-02-13T15:47:03.939Z"
   },
   {
    "duration": 22,
    "start_time": "2022-02-13T15:47:03.954Z"
   },
   {
    "duration": 13,
    "start_time": "2022-02-13T15:47:03.978Z"
   },
   {
    "duration": 20,
    "start_time": "2022-02-13T15:47:03.993Z"
   },
   {
    "duration": 30,
    "start_time": "2022-02-13T15:47:04.015Z"
   },
   {
    "duration": 29,
    "start_time": "2022-02-13T15:47:04.047Z"
   },
   {
    "duration": 13,
    "start_time": "2022-02-13T15:47:04.078Z"
   },
   {
    "duration": 24,
    "start_time": "2022-02-13T15:47:04.093Z"
   },
   {
    "duration": 21,
    "start_time": "2022-02-13T15:47:04.118Z"
   },
   {
    "duration": 12,
    "start_time": "2022-02-13T15:47:04.141Z"
   },
   {
    "duration": 449,
    "start_time": "2022-02-13T15:47:04.155Z"
   },
   {
    "duration": 11,
    "start_time": "2022-02-13T15:47:04.606Z"
   },
   {
    "duration": 6,
    "start_time": "2022-02-13T15:47:04.619Z"
   },
   {
    "duration": 5,
    "start_time": "2022-02-13T15:47:04.627Z"
   },
   {
    "duration": 11,
    "start_time": "2022-02-13T15:47:04.634Z"
   },
   {
    "duration": 6,
    "start_time": "2022-02-13T15:47:04.647Z"
   },
   {
    "duration": 7,
    "start_time": "2022-02-13T15:47:04.654Z"
   },
   {
    "duration": 3799,
    "start_time": "2022-02-13T15:47:04.663Z"
   },
   {
    "duration": 7,
    "start_time": "2022-02-13T15:47:08.464Z"
   },
   {
    "duration": 23,
    "start_time": "2022-02-13T15:47:08.477Z"
   },
   {
    "duration": 398,
    "start_time": "2022-02-13T15:47:08.503Z"
   },
   {
    "duration": 2757,
    "start_time": "2022-02-13T15:47:08.902Z"
   },
   {
    "duration": 2,
    "start_time": "2022-02-13T15:47:11.661Z"
   },
   {
    "duration": 11,
    "start_time": "2022-02-13T15:47:11.665Z"
   },
   {
    "duration": 21,
    "start_time": "2022-02-13T15:47:11.678Z"
   },
   {
    "duration": 463,
    "start_time": "2022-02-13T15:47:11.701Z"
   },
   {
    "duration": 519,
    "start_time": "2022-02-13T15:47:12.166Z"
   },
   {
    "duration": 23,
    "start_time": "2022-02-13T15:47:12.687Z"
   },
   {
    "duration": 12,
    "start_time": "2022-02-13T15:47:12.712Z"
   },
   {
    "duration": 7,
    "start_time": "2022-02-13T15:47:12.726Z"
   },
   {
    "duration": 3380,
    "start_time": "2022-02-13T15:47:12.736Z"
   },
   {
    "duration": 12,
    "start_time": "2022-02-13T15:47:16.118Z"
   },
   {
    "duration": 15,
    "start_time": "2022-02-13T15:47:16.131Z"
   },
   {
    "duration": 15,
    "start_time": "2022-02-13T15:47:16.148Z"
   },
   {
    "duration": 391,
    "start_time": "2022-02-13T15:47:16.165Z"
   },
   {
    "duration": 13,
    "start_time": "2022-02-13T15:47:16.558Z"
   },
   {
    "duration": 6,
    "start_time": "2022-02-13T15:47:16.573Z"
   },
   {
    "duration": 37,
    "start_time": "2022-02-13T15:47:16.581Z"
   },
   {
    "duration": 15,
    "start_time": "2022-02-13T15:47:16.619Z"
   },
   {
    "duration": 32,
    "start_time": "2022-02-13T15:47:16.636Z"
   },
   {
    "duration": 22,
    "start_time": "2022-02-13T15:47:16.669Z"
   },
   {
    "duration": 29,
    "start_time": "2022-02-13T15:47:16.693Z"
   },
   {
    "duration": 17,
    "start_time": "2022-02-13T15:47:16.724Z"
   },
   {
    "duration": 37,
    "start_time": "2022-02-13T15:47:16.742Z"
   },
   {
    "duration": 22,
    "start_time": "2022-02-13T15:47:16.781Z"
   },
   {
    "duration": 36,
    "start_time": "2022-02-13T15:47:16.805Z"
   },
   {
    "duration": 20,
    "start_time": "2022-02-13T15:47:16.843Z"
   },
   {
    "duration": 20,
    "start_time": "2022-02-13T15:47:16.865Z"
   },
   {
    "duration": 36,
    "start_time": "2022-02-13T15:47:16.887Z"
   },
   {
    "duration": 35,
    "start_time": "2022-02-13T15:47:16.925Z"
   },
   {
    "duration": 214,
    "start_time": "2022-02-13T15:47:16.962Z"
   },
   {
    "duration": 23,
    "start_time": "2022-02-13T15:47:17.178Z"
   },
   {
    "duration": 7,
    "start_time": "2022-02-13T15:47:17.203Z"
   },
   {
    "duration": 202,
    "start_time": "2022-02-13T15:47:17.212Z"
   },
   {
    "duration": 14,
    "start_time": "2022-02-13T15:47:17.416Z"
   },
   {
    "duration": 28,
    "start_time": "2022-02-13T15:47:17.431Z"
   },
   {
    "duration": 196,
    "start_time": "2022-02-13T15:47:17.461Z"
   },
   {
    "duration": 6,
    "start_time": "2022-02-13T15:47:17.660Z"
   },
   {
    "duration": 24,
    "start_time": "2022-02-13T15:47:17.668Z"
   },
   {
    "duration": 39,
    "start_time": "2022-02-13T15:47:17.695Z"
   },
   {
    "duration": 16,
    "start_time": "2022-02-13T15:47:17.736Z"
   },
   {
    "duration": 22,
    "start_time": "2022-02-13T15:47:17.754Z"
   },
   {
    "duration": 20,
    "start_time": "2022-02-13T15:47:17.778Z"
   },
   {
    "duration": 12,
    "start_time": "2022-02-13T15:47:17.801Z"
   },
   {
    "duration": 9,
    "start_time": "2022-02-13T15:48:01.252Z"
   },
   {
    "duration": 361,
    "start_time": "2022-02-13T15:49:36.979Z"
   },
   {
    "duration": 87,
    "start_time": "2022-02-14T18:17:02.792Z"
   }
  ],
  "kernelspec": {
   "display_name": "Python 3",
   "language": "python",
   "name": "python3"
  },
  "language_info": {
   "codemirror_mode": {
    "name": "ipython",
    "version": 3
   },
   "file_extension": ".py",
   "mimetype": "text/x-python",
   "name": "python",
   "nbconvert_exporter": "python",
   "pygments_lexer": "ipython3",
   "version": "3.8.5"
  },
  "toc": {
   "base_numbering": 1,
   "nav_menu": {},
   "number_sections": true,
   "sideBar": true,
   "skip_h1_title": true,
   "title_cell": "Table of Contents",
   "title_sidebar": "Contents",
   "toc_cell": false,
   "toc_position": {
    "height": "calc(100% - 180px)",
    "left": "10px",
    "top": "150px",
    "width": "335.188px"
   },
   "toc_section_display": true,
   "toc_window_display": true
  }
 },
 "nbformat": 4,
 "nbformat_minor": 4
}
