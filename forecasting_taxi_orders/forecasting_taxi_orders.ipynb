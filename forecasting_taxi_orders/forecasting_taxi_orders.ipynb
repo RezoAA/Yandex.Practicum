{
 "cells": [
  {
   "cell_type": "markdown",
   "metadata": {
    "toc": true
   },
   "source": [
    "<h1>Содержание<span class=\"tocSkip\"></span></h1>\n",
    "<div class=\"toc\"><ul class=\"toc-item\"><li><span><a href=\"#Подготовка\" data-toc-modified-id=\"Подготовка-1\"><span class=\"toc-item-num\">1&nbsp;&nbsp;</span>Подготовка</a></span></li><li><span><a href=\"#Анализ\" data-toc-modified-id=\"Анализ-2\"><span class=\"toc-item-num\">2&nbsp;&nbsp;</span>Анализ</a></span><ul class=\"toc-item\"><li><span><a href=\"#Выявление-закономерностей\" data-toc-modified-id=\"Выявление-закономерностей-2.1\"><span class=\"toc-item-num\">2.1&nbsp;&nbsp;</span>Выявление закономерностей</a></span></li></ul></li><li><span><a href=\"#Обучение\" data-toc-modified-id=\"Обучение-3\"><span class=\"toc-item-num\">3&nbsp;&nbsp;</span>Обучение</a></span><ul class=\"toc-item\"><li><span><a href=\"#Подготовка-данных-к-обучению\" data-toc-modified-id=\"Подготовка-данных-к-обучению-3.1\"><span class=\"toc-item-num\">3.1&nbsp;&nbsp;</span>Подготовка данных к обучению</a></span></li><li><span><a href=\"#Использование-моделей-LR,-CBR,-LGBMRegressor\" data-toc-modified-id=\"Использование-моделей-LR,-CBR,-LGBMRegressor-3.2\"><span class=\"toc-item-num\">3.2&nbsp;&nbsp;</span>Использование моделей LR, CBR, LGBMRegressor</a></span></li></ul></li><li><span><a href=\"#Тестирование\" data-toc-modified-id=\"Тестирование-4\"><span class=\"toc-item-num\">4&nbsp;&nbsp;</span>Тестирование</a></span><ul class=\"toc-item\"><li><span><a href=\"#Линейная-регрессия\" data-toc-modified-id=\"Линейная-регрессия-4.1\"><span class=\"toc-item-num\">4.1&nbsp;&nbsp;</span>Линейная регрессия</a></span></li><li><span><a href=\"#Катбустрегрессия\" data-toc-modified-id=\"Катбустрегрессия-4.2\"><span class=\"toc-item-num\">4.2&nbsp;&nbsp;</span>Катбустрегрессия</a></span></li><li><span><a href=\"#LGBMRegressor\" data-toc-modified-id=\"LGBMRegressor-4.3\"><span class=\"toc-item-num\">4.3&nbsp;&nbsp;</span>LGBMRegressor</a></span></li></ul></li><li><span><a href=\"#Чек-лист-проверки\" data-toc-modified-id=\"Чек-лист-проверки-5\"><span class=\"toc-item-num\">5&nbsp;&nbsp;</span>Чек-лист проверки</a></span></li></ul></div>"
   ]
  },
  {
   "cell_type": "markdown",
   "metadata": {},
   "source": [
    "#  Прогнозирование заказов такси"
   ]
  },
  {
   "cell_type": "markdown",
   "metadata": {},
   "source": [
    "Компания «Чётенькое такси» собрала исторические данные о заказах такси в аэропортах. Чтобы привлекать больше водителей в период пиковой нагрузки, нужно спрогнозировать количество заказов такси на следующий час. Постройте модель для такого предсказания.\n",
    "\n",
    "Значение метрики *RMSE* на тестовой выборке должно быть не больше 48.\n",
    "\n",
    "Вам нужно:\n",
    "\n",
    "1. Загрузить данные и выполнить их ресемплирование по одному часу.\n",
    "2. Проанализировать данные.\n",
    "3. Обучить разные модели с различными гиперпараметрами. Сделать тестовую выборку размером 10% от исходных данных.\n",
    "4. Проверить данные на тестовой выборке и сделать выводы.\n",
    "\n",
    "\n",
    "Данные лежат в файле `taxi.csv`. Количество заказов находится в столбце `num_orders` (от англ. *number of orders*, «число заказов»)."
   ]
  },
  {
   "cell_type": "markdown",
   "metadata": {},
   "source": [
    "## Подготовка"
   ]
  },
  {
   "cell_type": "code",
   "execution_count": 1,
   "metadata": {},
   "outputs": [
    {
     "name": "stderr",
     "output_type": "stream",
     "text": [
      "/tmp/ipykernel_264/677273773.py:3: FutureWarning: pandas.util.testing is deprecated. Use the functions in the public API at pandas.testing instead.\n",
      "  from pandas.util.testing import assert_frame_equal\n"
     ]
    }
   ],
   "source": [
    "# импортирую библиотеку pandas как главного инструмента для анализа структурных данных и временных рядов\n",
    "import pandas as pd\n",
    "from pandas.util.testing import assert_frame_equal\n",
    "# импортирую библиотеку seaborn как главного инструмента для визуализации\n",
    "import seaborn as sns\n",
    "# импортирую библиотеку matplotlib для работы с двумерными графиками\n",
    "%matplotlib inline\n",
    "import matplotlib.pyplot as plt\n",
    "from matplotlib import pyplot\n",
    "# выберу стиль для plt инструментов\n",
    "plt.style.use('ggplot')\n",
    "# импортирую библиотеку scipy для выполнения математических, научных и инженерных расчётов\n",
    "from scipy import stats as st\n",
    "# импортирую библиотеку для работы со временем\n",
    "from datetime import datetime\n",
    "# импортирую библиотеку для работы с массивами данных. NumPy - основополагающая библиотека, необходимая для научных вычислений\n",
    "import numpy as np\n",
    "# импортирую библиотеку и инструменты Scikit-learn - интегратора классических алгоритмов машинного обучения\n",
    "# алгоритм классификации дерева решений\n",
    "from sklearn.tree import DecisionTreeClassifier\n",
    "from sklearn.tree import DecisionTreeRegressor\n",
    "# алгоритм классификации случайный лес\n",
    "from sklearn.ensemble import RandomForestClassifier\n",
    "# алгоритм классификации логическая регрессия\n",
    "from sklearn.linear_model import LogisticRegression \n",
    "from sklearn.ensemble import RandomForestRegressor\n",
    "from sklearn.linear_model import LinearRegression\n",
    "from sklearn.model_selection import train_test_split\n",
    "from sklearn.metrics import mean_squared_error\n",
    "from sklearn.metrics import accuracy_score\n",
    "from statsmodels.tsa.seasonal import seasonal_decompose\n",
    "from catboost import CatBoostRegressor\n",
    "import lightgbm as lgb\n",
    "from lightgbm import LGBMRegressor\n",
    "from sklearn.model_selection import train_test_split, cross_val_score"
   ]
  },
  {
   "cell_type": "code",
   "execution_count": 3,
   "metadata": {},
   "outputs": [
    {
     "data": {
      "text/html": [
       "<div>\n",
       "<style scoped>\n",
       "    .dataframe tbody tr th:only-of-type {\n",
       "        vertical-align: middle;\n",
       "    }\n",
       "\n",
       "    .dataframe tbody tr th {\n",
       "        vertical-align: top;\n",
       "    }\n",
       "\n",
       "    .dataframe thead th {\n",
       "        text-align: right;\n",
       "    }\n",
       "</style>\n",
       "<table border=\"1\" class=\"dataframe\">\n",
       "  <thead>\n",
       "    <tr style=\"text-align: right;\">\n",
       "      <th></th>\n",
       "      <th>num_orders</th>\n",
       "    </tr>\n",
       "    <tr>\n",
       "      <th>datetime</th>\n",
       "      <th></th>\n",
       "    </tr>\n",
       "  </thead>\n",
       "  <tbody>\n",
       "    <tr>\n",
       "      <th>2018-03-01 00:00:00</th>\n",
       "      <td>9</td>\n",
       "    </tr>\n",
       "    <tr>\n",
       "      <th>2018-03-01 00:10:00</th>\n",
       "      <td>14</td>\n",
       "    </tr>\n",
       "    <tr>\n",
       "      <th>2018-03-01 00:20:00</th>\n",
       "      <td>28</td>\n",
       "    </tr>\n",
       "    <tr>\n",
       "      <th>2018-03-01 00:30:00</th>\n",
       "      <td>20</td>\n",
       "    </tr>\n",
       "    <tr>\n",
       "      <th>2018-03-01 00:40:00</th>\n",
       "      <td>32</td>\n",
       "    </tr>\n",
       "  </tbody>\n",
       "</table>\n",
       "</div>"
      ],
      "text/plain": [
       "                     num_orders\n",
       "datetime                       \n",
       "2018-03-01 00:00:00           9\n",
       "2018-03-01 00:10:00          14\n",
       "2018-03-01 00:20:00          28\n",
       "2018-03-01 00:30:00          20\n",
       "2018-03-01 00:40:00          32"
      ]
     },
     "execution_count": 3,
     "metadata": {},
     "output_type": "execute_result"
    }
   ],
   "source": [
    "# рассмотрим первые пять строк во фрейме данных в переменной df\n",
    "df.head()"
   ]
  },
  {
   "cell_type": "code",
   "execution_count": 4,
   "metadata": {},
   "outputs": [
    {
     "data": {
      "text/html": [
       "<div>\n",
       "<style scoped>\n",
       "    .dataframe tbody tr th:only-of-type {\n",
       "        vertical-align: middle;\n",
       "    }\n",
       "\n",
       "    .dataframe tbody tr th {\n",
       "        vertical-align: top;\n",
       "    }\n",
       "\n",
       "    .dataframe thead th {\n",
       "        text-align: right;\n",
       "    }\n",
       "</style>\n",
       "<table border=\"1\" class=\"dataframe\">\n",
       "  <thead>\n",
       "    <tr style=\"text-align: right;\">\n",
       "      <th></th>\n",
       "      <th>num_orders</th>\n",
       "    </tr>\n",
       "    <tr>\n",
       "      <th>datetime</th>\n",
       "      <th></th>\n",
       "    </tr>\n",
       "  </thead>\n",
       "  <tbody>\n",
       "    <tr>\n",
       "      <th>2018-08-31 22:20:00</th>\n",
       "      <td>48</td>\n",
       "    </tr>\n",
       "    <tr>\n",
       "      <th>2018-08-31 22:30:00</th>\n",
       "      <td>41</td>\n",
       "    </tr>\n",
       "    <tr>\n",
       "      <th>2018-08-31 22:40:00</th>\n",
       "      <td>34</td>\n",
       "    </tr>\n",
       "    <tr>\n",
       "      <th>2018-08-31 22:50:00</th>\n",
       "      <td>34</td>\n",
       "    </tr>\n",
       "    <tr>\n",
       "      <th>2018-08-31 23:00:00</th>\n",
       "      <td>30</td>\n",
       "    </tr>\n",
       "    <tr>\n",
       "      <th>2018-08-31 23:10:00</th>\n",
       "      <td>32</td>\n",
       "    </tr>\n",
       "    <tr>\n",
       "      <th>2018-08-31 23:20:00</th>\n",
       "      <td>24</td>\n",
       "    </tr>\n",
       "    <tr>\n",
       "      <th>2018-08-31 23:30:00</th>\n",
       "      <td>27</td>\n",
       "    </tr>\n",
       "    <tr>\n",
       "      <th>2018-08-31 23:40:00</th>\n",
       "      <td>39</td>\n",
       "    </tr>\n",
       "    <tr>\n",
       "      <th>2018-08-31 23:50:00</th>\n",
       "      <td>53</td>\n",
       "    </tr>\n",
       "  </tbody>\n",
       "</table>\n",
       "</div>"
      ],
      "text/plain": [
       "                     num_orders\n",
       "datetime                       \n",
       "2018-08-31 22:20:00          48\n",
       "2018-08-31 22:30:00          41\n",
       "2018-08-31 22:40:00          34\n",
       "2018-08-31 22:50:00          34\n",
       "2018-08-31 23:00:00          30\n",
       "2018-08-31 23:10:00          32\n",
       "2018-08-31 23:20:00          24\n",
       "2018-08-31 23:30:00          27\n",
       "2018-08-31 23:40:00          39\n",
       "2018-08-31 23:50:00          53"
      ]
     },
     "execution_count": 4,
     "metadata": {},
     "output_type": "execute_result"
    }
   ],
   "source": [
    "# рассмотрим последние 10 строк во фрейме данных в переменной df\n",
    "df.tail(10)"
   ]
  },
  {
   "cell_type": "markdown",
   "metadata": {},
   "source": [
    "*В ходе первичного осмотра недостатки в датасете не установлены. Вместе с тем необходимо дополнительно:*\n",
    "-  проверить наличие значений NaN (отсутствующее в ячейке число) и значений None (нечисловой тип 'NoneType');\n",
    "- провести проверку всего датасета на наличие дубликатов."
   ]
  },
  {
   "cell_type": "code",
   "execution_count": 5,
   "metadata": {},
   "outputs": [
    {
     "name": "stdout",
     "output_type": "stream",
     "text": [
      "<class 'pandas.core.frame.DataFrame'>\n",
      "DatetimeIndex: 26496 entries, 2018-03-01 00:00:00 to 2018-08-31 23:50:00\n",
      "Data columns (total 1 columns):\n",
      " #   Column      Non-Null Count  Dtype\n",
      "---  ------      --------------  -----\n",
      " 0   num_orders  26496 non-null  int64\n",
      "dtypes: int64(1)\n",
      "memory usage: 414.0 KB\n"
     ]
    }
   ],
   "source": [
    "# получим общую информацию о данных в таблице df\n",
    "df.info()"
   ]
  },
  {
   "cell_type": "markdown",
   "metadata": {},
   "source": [
    "*Для наглядности и удобства рассмотрения данных в датасете опишем из условия проекта основные признаки:*  \n",
    "\n",
    "**Признаки:**\n",
    "- datetime - дата, время;\n",
    "- num_orders - количество заказов."
   ]
  },
  {
   "cell_type": "markdown",
   "metadata": {},
   "source": [
    "*Более детальное рассмотрение данных перед их предообработкой сообщают нам следующее:* \n",
    "1. в рамках проекта проводится исследование над датасетом состоящим из 2 столбцов (фичи, признаки) и 26496 строк;\n",
    "2. для организации анализа данных с учетом того, что у нас временные ряды с регрессией, столбец datetime  необходимо привести в тип данных datatime."
   ]
  },
  {
   "cell_type": "code",
   "execution_count": 6,
   "metadata": {},
   "outputs": [
    {
     "data": {
      "text/plain": [
       "num_orders    0\n",
       "dtype: int64"
      ]
     },
     "execution_count": 6,
     "metadata": {},
     "output_type": "execute_result"
    }
   ],
   "source": [
    " # проведем на всякий случай подсчёт пропусков\n",
    "(df.isna().sum())"
   ]
  },
  {
   "cell_type": "code",
   "execution_count": 7,
   "metadata": {},
   "outputs": [
    {
     "name": "stdout",
     "output_type": "stream",
     "text": [
      "NaN occurrences in DataFrame: 0\n"
     ]
    }
   ],
   "source": [
    "# итогом количество 'NaN'  в дата фрейме\n",
    "print('NaN occurrences in DataFrame:', df.isna().sum().sum())"
   ]
  },
  {
   "cell_type": "markdown",
   "metadata": {},
   "source": [
    "*С учетом предварительной предообработки фрейма данных внесем изменение типа данных Datetime с object на datetime64.*"
   ]
  },
  {
   "cell_type": "code",
   "execution_count": 8,
   "metadata": {
    "scrolled": true
   },
   "outputs": [],
   "source": [
    "# изменение типа данных Datetime с object на datetime64\n",
    "#df['datetime'] = pd.to_datetime(df['datetime'], infer_datetime_format=True)"
   ]
  },
  {
   "cell_type": "code",
   "execution_count": 9,
   "metadata": {},
   "outputs": [],
   "source": [
    "# убедимся, что все получилось\n",
    "#df['datetime'].dtype"
   ]
  },
  {
   "cell_type": "markdown",
   "metadata": {},
   "source": [
    "**Вывод:** \n",
    "*Первичный осмотр данных проведен, фрейм данных готов к следующему этапу - анализу* "
   ]
  },
  {
   "cell_type": "markdown",
   "metadata": {},
   "source": [
    "## Анализ"
   ]
  },
  {
   "cell_type": "markdown",
   "metadata": {},
   "source": [
    "*Согласно инструкции необходимо загрузить данные и выполнить их ресемплирование по одному часу.*"
   ]
  },
  {
   "cell_type": "code",
   "execution_count": 10,
   "metadata": {},
   "outputs": [],
   "source": [
    "# для начала установим индекс таблицы равным столбцу datetime\n",
    "df = df.sort_index()"
   ]
  },
  {
   "cell_type": "code",
   "execution_count": 11,
   "metadata": {},
   "outputs": [
    {
     "data": {
      "text/plain": [
       "True"
      ]
     },
     "execution_count": 11,
     "metadata": {},
     "output_type": "execute_result"
    }
   ],
   "source": [
    "# проверим, в хронологическом ли порядке расположены даты и время\n",
    "df.index.is_monotonic"
   ]
  },
  {
   "cell_type": "code",
   "execution_count": 12,
   "metadata": {},
   "outputs": [
    {
     "name": "stdout",
     "output_type": "stream",
     "text": [
      "<class 'pandas.core.frame.DataFrame'>\n",
      "DatetimeIndex: 26496 entries, 2018-03-01 00:00:00 to 2018-08-31 23:50:00\n",
      "Data columns (total 1 columns):\n",
      " #   Column      Non-Null Count  Dtype\n",
      "---  ------      --------------  -----\n",
      " 0   num_orders  26496 non-null  int64\n",
      "dtypes: int64(1)\n",
      "memory usage: 414.0 KB\n"
     ]
    }
   ],
   "source": [
    "# посмотрим общую информацию\n",
    "df.info()"
   ]
  },
  {
   "cell_type": "markdown",
   "metadata": {},
   "source": [
    "**Вывод:** с помощью метода is_monotonic получен положительный ответ о том, что даты и время расположены в хронологическом порядке.  "
   ]
  },
  {
   "cell_type": "markdown",
   "metadata": {},
   "source": [
    "### Выявление закономерностей"
   ]
  },
  {
   "cell_type": "markdown",
   "metadata": {},
   "source": [
    "*На этапе рассмотрения данных можно построить гипотетизу, что датасет содержит данные в периоде: 1 марта 2018 - 31 августа 2018, то есть за полгода. Одновременно в ходе наблюдения можно обраттить внимание на интервал заказов по датам, через каждые 10 мин. Можно сделать тривиальный вывод, что поскольку в 1 час - 60 мин, выходит, что 1 день (24 часа) включает в себя 144 показателя (интервала времени).*      "
   ]
  },
  {
   "cell_type": "code",
   "execution_count": 13,
   "metadata": {},
   "outputs": [],
   "source": [
    "# проведем ресемплирование данных\n",
    "df.sort_index(inplace=True)"
   ]
  },
  {
   "cell_type": "code",
   "execution_count": 14,
   "metadata": {},
   "outputs": [],
   "source": [
    "df_mean = df.resample('1H').mean()"
   ]
  },
  {
   "cell_type": "code",
   "execution_count": 15,
   "metadata": {},
   "outputs": [
    {
     "data": {
      "text/plain": [
       "<AxesSubplot:xlabel='datetime'>"
      ]
     },
     "execution_count": 15,
     "metadata": {},
     "output_type": "execute_result"
    },
    {
     "data": {
      "image/png": "[encoded data removed]",
      "text/plain": [
       "<Figure size 432x288 with 1 Axes>"
      ]
     },
     "metadata": {},
     "output_type": "display_data"
    }
   ],
   "source": [
    "# построим график среднего количества заказов такси по месяцам\n",
    "df_mean.plot()"
   ]
  },
  {
   "cell_type": "code",
   "execution_count": 16,
   "metadata": {},
   "outputs": [],
   "source": [
    "# построим график суммарного количества заказов такси по месяцам\n",
    "df_sum = df.resample('1H').sum()"
   ]
  },
  {
   "cell_type": "code",
   "execution_count": 17,
   "metadata": {},
   "outputs": [
    {
     "data": {
      "text/plain": [
       "<AxesSubplot:xlabel='datetime'>"
      ]
     },
     "execution_count": 17,
     "metadata": {},
     "output_type": "execute_result"
    },
    {
     "data": {
      "image/png": "[encoded data removed]",
      "text/plain": [
       "<Figure size 432x288 with 1 Axes>"
      ]
     },
     "metadata": {},
     "output_type": "display_data"
    }
   ],
   "source": [
    "df_sum.plot()"
   ]
  },
  {
   "cell_type": "markdown",
   "metadata": {},
   "source": [
    "**Вывод:** *И значения средних показателей заказов такси и значения суммарных показатлей показывают постепенное увеличение с марта по август месяцы, то есть положительный тренд.*"
   ]
  },
  {
   "cell_type": "code",
   "execution_count": 18,
   "metadata": {},
   "outputs": [],
   "source": [
    "# чтобы во временном ряду снизить колебания, применим скользящее среднее\n",
    "df_mean['rolling_mean'] = df_mean.rolling(10).mean()"
   ]
  },
  {
   "cell_type": "code",
   "execution_count": 19,
   "metadata": {},
   "outputs": [
    {
     "data": {
      "text/plain": [
       "<AxesSubplot:xlabel='datetime'>"
      ]
     },
     "execution_count": 19,
     "metadata": {},
     "output_type": "execute_result"
    },
    {
     "data": {
      "image/png": "[encoded data removed]",
      "text/plain": [
       "<Figure size 432x288 with 1 Axes>"
      ]
     },
     "metadata": {},
     "output_type": "display_data"
    }
   ],
   "source": [
    "df_mean.plot()"
   ]
  },
  {
   "cell_type": "markdown",
   "metadata": {},
   "source": [
    "*Скользящее среднее на графике еще раз подтверждает, что количество заказов с начала весны постепенно ежемесячно увеличивается, то есть наблюдается положительный тренд* "
   ]
  },
  {
   "cell_type": "code",
   "execution_count": 20,
   "metadata": {},
   "outputs": [],
   "source": [
    "# построим график тренда за рассматриваемый период\n",
    "# разложим временной ряд на тренд\n",
    "decomposed = seasonal_decompose(df_sum)"
   ]
  },
  {
   "cell_type": "code",
   "execution_count": 21,
   "metadata": {},
   "outputs": [
    {
     "data": {
      "text/plain": [
       "<AxesSubplot:xlabel='datetime'>"
      ]
     },
     "execution_count": 21,
     "metadata": {},
     "output_type": "execute_result"
    },
    {
     "data": {
      "image/png": "[encoded data removed]",
      "text/plain": [
       "<Figure size 432x288 with 1 Axes>"
      ]
     },
     "metadata": {},
     "output_type": "display_data"
    }
   ],
   "source": [
    "# нарисуем график\n",
    "decomposed.trend.plot(ax=plt.gca())"
   ]
  },
  {
   "cell_type": "markdown",
   "metadata": {},
   "source": [
    "*Мы можем заметить, что временной ряд на графике имеет не стационарный ряд, потому что у него меняется среднее значение* "
   ]
  },
  {
   "cell_type": "code",
   "execution_count": 22,
   "metadata": {},
   "outputs": [],
   "source": [
    "# найдём скользящее стандартное отклонение \n",
    "df_mean['std'] = df_mean['num_orders'].rolling(15).std()"
   ]
  },
  {
   "cell_type": "code",
   "execution_count": 23,
   "metadata": {},
   "outputs": [
    {
     "data": {
      "text/plain": [
       "<AxesSubplot:xlabel='datetime'>"
      ]
     },
     "execution_count": 23,
     "metadata": {},
     "output_type": "execute_result"
    },
    {
     "data": {
      "image/png": "[encoded data removed]",
      "text/plain": [
       "<Figure size 432x288 with 1 Axes>"
      ]
     },
     "metadata": {},
     "output_type": "display_data"
    }
   ],
   "source": [
    "df_mean.plot() "
   ]
  },
  {
   "cell_type": "markdown",
   "metadata": {},
   "source": [
    "*Можем обратить внимание, что меняется стандартное отклонение, что подверждает, что у нас не стационарный ряд с положительным трендом std*"
   ]
  },
  {
   "cell_type": "code",
   "execution_count": 24,
   "metadata": {},
   "outputs": [
    {
     "data": {
      "text/plain": [
       "<AxesSubplot:xlabel='datetime'>"
      ]
     },
     "execution_count": 24,
     "metadata": {},
     "output_type": "execute_result"
    },
    {
     "data": {
      "image/png": "[encoded data removed]",
      "text/plain": [
       "<Figure size 432x288 with 1 Axes>"
      ]
     },
     "metadata": {},
     "output_type": "display_data"
    }
   ],
   "source": [
    "# посмотрим на вопрос сезонности в середине мая месяца\n",
    "decomposed.seasonal['2018-05-10':'2018-05-11'].plot(ax=plt.gca())"
   ]
  },
  {
   "cell_type": "markdown",
   "metadata": {},
   "source": [
    "*в части сезонности можем обратить внимание, что количество заказов такси в течение одного дня имеет пик значения в 12 час. ночи, минимальное значение под раннее утро, ближе к 6 утра*"
   ]
  },
  {
   "cell_type": "markdown",
   "metadata": {},
   "source": [
    "## Обучение"
   ]
  },
  {
   "cell_type": "markdown",
   "metadata": {},
   "source": [
    "### Подготовка данных к обучению"
   ]
  },
  {
   "cell_type": "code",
   "execution_count": 26,
   "metadata": {},
   "outputs": [],
   "source": [
    "def make_features(df, max_lag, rolling_mean_size):\n",
    "    df['dayofweek'] = df.index.dayofweek\n",
    "    df['weekend'] = df.index.dayofweek.isin([5,6])*1\n",
    "    df['hours'] = df.index.hour\n",
    "    # используем функцию shift для определения разницы значений временного ряда\n",
    "    for lag in range(1, max_lag + 1):\n",
    "        df['lag_{}'.format(lag)] = df['num_orders'].shift(lag)\n",
    "    # определим скользящее среднее\n",
    "    df['rolling_mean'] = df['num_orders'].shift().rolling(rolling_mean_size).mean()"
   ]
  },
  {
   "cell_type": "code",
   "execution_count": 27,
   "metadata": {},
   "outputs": [],
   "source": [
    "# применим функцию к фрейму данных в ресемплинге\n",
    "make_features(df_sum, 24, 3)"
   ]
  },
  {
   "cell_type": "code",
   "execution_count": 28,
   "metadata": {},
   "outputs": [
    {
     "data": {
      "text/html": [
       "<div>\n",
       "<style scoped>\n",
       "    .dataframe tbody tr th:only-of-type {\n",
       "        vertical-align: middle;\n",
       "    }\n",
       "\n",
       "    .dataframe tbody tr th {\n",
       "        vertical-align: top;\n",
       "    }\n",
       "\n",
       "    .dataframe thead th {\n",
       "        text-align: right;\n",
       "    }\n",
       "</style>\n",
       "<table border=\"1\" class=\"dataframe\">\n",
       "  <thead>\n",
       "    <tr style=\"text-align: right;\">\n",
       "      <th></th>\n",
       "      <th>num_orders</th>\n",
       "      <th>dayofweek</th>\n",
       "      <th>weekend</th>\n",
       "      <th>hours</th>\n",
       "      <th>lag_1</th>\n",
       "      <th>lag_2</th>\n",
       "      <th>lag_3</th>\n",
       "      <th>lag_4</th>\n",
       "      <th>lag_5</th>\n",
       "      <th>lag_6</th>\n",
       "      <th>...</th>\n",
       "      <th>lag_16</th>\n",
       "      <th>lag_17</th>\n",
       "      <th>lag_18</th>\n",
       "      <th>lag_19</th>\n",
       "      <th>lag_20</th>\n",
       "      <th>lag_21</th>\n",
       "      <th>lag_22</th>\n",
       "      <th>lag_23</th>\n",
       "      <th>lag_24</th>\n",
       "      <th>rolling_mean</th>\n",
       "    </tr>\n",
       "    <tr>\n",
       "      <th>datetime</th>\n",
       "      <th></th>\n",
       "      <th></th>\n",
       "      <th></th>\n",
       "      <th></th>\n",
       "      <th></th>\n",
       "      <th></th>\n",
       "      <th></th>\n",
       "      <th></th>\n",
       "      <th></th>\n",
       "      <th></th>\n",
       "      <th></th>\n",
       "      <th></th>\n",
       "      <th></th>\n",
       "      <th></th>\n",
       "      <th></th>\n",
       "      <th></th>\n",
       "      <th></th>\n",
       "      <th></th>\n",
       "      <th></th>\n",
       "      <th></th>\n",
       "      <th></th>\n",
       "    </tr>\n",
       "  </thead>\n",
       "  <tbody>\n",
       "    <tr>\n",
       "      <th>2018-03-01 00:00:00</th>\n",
       "      <td>124</td>\n",
       "      <td>3</td>\n",
       "      <td>0</td>\n",
       "      <td>0</td>\n",
       "      <td>NaN</td>\n",
       "      <td>NaN</td>\n",
       "      <td>NaN</td>\n",
       "      <td>NaN</td>\n",
       "      <td>NaN</td>\n",
       "      <td>NaN</td>\n",
       "      <td>...</td>\n",
       "      <td>NaN</td>\n",
       "      <td>NaN</td>\n",
       "      <td>NaN</td>\n",
       "      <td>NaN</td>\n",
       "      <td>NaN</td>\n",
       "      <td>NaN</td>\n",
       "      <td>NaN</td>\n",
       "      <td>NaN</td>\n",
       "      <td>NaN</td>\n",
       "      <td>NaN</td>\n",
       "    </tr>\n",
       "    <tr>\n",
       "      <th>2018-03-01 01:00:00</th>\n",
       "      <td>85</td>\n",
       "      <td>3</td>\n",
       "      <td>0</td>\n",
       "      <td>1</td>\n",
       "      <td>124.0</td>\n",
       "      <td>NaN</td>\n",
       "      <td>NaN</td>\n",
       "      <td>NaN</td>\n",
       "      <td>NaN</td>\n",
       "      <td>NaN</td>\n",
       "      <td>...</td>\n",
       "      <td>NaN</td>\n",
       "      <td>NaN</td>\n",
       "      <td>NaN</td>\n",
       "      <td>NaN</td>\n",
       "      <td>NaN</td>\n",
       "      <td>NaN</td>\n",
       "      <td>NaN</td>\n",
       "      <td>NaN</td>\n",
       "      <td>NaN</td>\n",
       "      <td>NaN</td>\n",
       "    </tr>\n",
       "    <tr>\n",
       "      <th>2018-03-01 02:00:00</th>\n",
       "      <td>71</td>\n",
       "      <td>3</td>\n",
       "      <td>0</td>\n",
       "      <td>2</td>\n",
       "      <td>85.0</td>\n",
       "      <td>124.0</td>\n",
       "      <td>NaN</td>\n",
       "      <td>NaN</td>\n",
       "      <td>NaN</td>\n",
       "      <td>NaN</td>\n",
       "      <td>...</td>\n",
       "      <td>NaN</td>\n",
       "      <td>NaN</td>\n",
       "      <td>NaN</td>\n",
       "      <td>NaN</td>\n",
       "      <td>NaN</td>\n",
       "      <td>NaN</td>\n",
       "      <td>NaN</td>\n",
       "      <td>NaN</td>\n",
       "      <td>NaN</td>\n",
       "      <td>NaN</td>\n",
       "    </tr>\n",
       "    <tr>\n",
       "      <th>2018-03-01 03:00:00</th>\n",
       "      <td>66</td>\n",
       "      <td>3</td>\n",
       "      <td>0</td>\n",
       "      <td>3</td>\n",
       "      <td>71.0</td>\n",
       "      <td>85.0</td>\n",
       "      <td>124.0</td>\n",
       "      <td>NaN</td>\n",
       "      <td>NaN</td>\n",
       "      <td>NaN</td>\n",
       "      <td>...</td>\n",
       "      <td>NaN</td>\n",
       "      <td>NaN</td>\n",
       "      <td>NaN</td>\n",
       "      <td>NaN</td>\n",
       "      <td>NaN</td>\n",
       "      <td>NaN</td>\n",
       "      <td>NaN</td>\n",
       "      <td>NaN</td>\n",
       "      <td>NaN</td>\n",
       "      <td>93.333333</td>\n",
       "    </tr>\n",
       "    <tr>\n",
       "      <th>2018-03-01 04:00:00</th>\n",
       "      <td>43</td>\n",
       "      <td>3</td>\n",
       "      <td>0</td>\n",
       "      <td>4</td>\n",
       "      <td>66.0</td>\n",
       "      <td>71.0</td>\n",
       "      <td>85.0</td>\n",
       "      <td>124.0</td>\n",
       "      <td>NaN</td>\n",
       "      <td>NaN</td>\n",
       "      <td>...</td>\n",
       "      <td>NaN</td>\n",
       "      <td>NaN</td>\n",
       "      <td>NaN</td>\n",
       "      <td>NaN</td>\n",
       "      <td>NaN</td>\n",
       "      <td>NaN</td>\n",
       "      <td>NaN</td>\n",
       "      <td>NaN</td>\n",
       "      <td>NaN</td>\n",
       "      <td>74.000000</td>\n",
       "    </tr>\n",
       "  </tbody>\n",
       "</table>\n",
       "<p>5 rows × 29 columns</p>\n",
       "</div>"
      ],
      "text/plain": [
       "                     num_orders  dayofweek  weekend  hours  lag_1  lag_2  \\\n",
       "datetime                                                                   \n",
       "2018-03-01 00:00:00         124          3        0      0    NaN    NaN   \n",
       "2018-03-01 01:00:00          85          3        0      1  124.0    NaN   \n",
       "2018-03-01 02:00:00          71          3        0      2   85.0  124.0   \n",
       "2018-03-01 03:00:00          66          3        0      3   71.0   85.0   \n",
       "2018-03-01 04:00:00          43          3        0      4   66.0   71.0   \n",
       "\n",
       "                     lag_3  lag_4  lag_5  lag_6  ...  lag_16  lag_17  lag_18  \\\n",
       "datetime                                         ...                           \n",
       "2018-03-01 00:00:00    NaN    NaN    NaN    NaN  ...     NaN     NaN     NaN   \n",
       "2018-03-01 01:00:00    NaN    NaN    NaN    NaN  ...     NaN     NaN     NaN   \n",
       "2018-03-01 02:00:00    NaN    NaN    NaN    NaN  ...     NaN     NaN     NaN   \n",
       "2018-03-01 03:00:00  124.0    NaN    NaN    NaN  ...     NaN     NaN     NaN   \n",
       "2018-03-01 04:00:00   85.0  124.0    NaN    NaN  ...     NaN     NaN     NaN   \n",
       "\n",
       "                     lag_19  lag_20  lag_21  lag_22  lag_23  lag_24  \\\n",
       "datetime                                                              \n",
       "2018-03-01 00:00:00     NaN     NaN     NaN     NaN     NaN     NaN   \n",
       "2018-03-01 01:00:00     NaN     NaN     NaN     NaN     NaN     NaN   \n",
       "2018-03-01 02:00:00     NaN     NaN     NaN     NaN     NaN     NaN   \n",
       "2018-03-01 03:00:00     NaN     NaN     NaN     NaN     NaN     NaN   \n",
       "2018-03-01 04:00:00     NaN     NaN     NaN     NaN     NaN     NaN   \n",
       "\n",
       "                     rolling_mean  \n",
       "datetime                           \n",
       "2018-03-01 00:00:00           NaN  \n",
       "2018-03-01 01:00:00           NaN  \n",
       "2018-03-01 02:00:00           NaN  \n",
       "2018-03-01 03:00:00     93.333333  \n",
       "2018-03-01 04:00:00     74.000000  \n",
       "\n",
       "[5 rows x 29 columns]"
      ]
     },
     "execution_count": 28,
     "metadata": {},
     "output_type": "execute_result"
    }
   ],
   "source": [
    "# посмотрим на первые пять строк\n",
    "df_sum.head()"
   ]
  },
  {
   "cell_type": "markdown",
   "metadata": {},
   "source": [
    "*Во фрейме данных появились NaN значения, полагаю целесообразным для релевантности исследования их удалить*"
   ]
  },
  {
   "cell_type": "code",
   "execution_count": 29,
   "metadata": {},
   "outputs": [],
   "source": [
    "df_sum = df_sum.dropna()"
   ]
  },
  {
   "cell_type": "code",
   "execution_count": 30,
   "metadata": {},
   "outputs": [],
   "source": [
    "# по исходным данным создадим обучающую (train) и тестовую (test) выборки\n",
    "# по инструкции на тест выборку отводим 10% от исходных данных\n",
    "train, test = train_test_split(df_sum, shuffle=False, test_size=0.1)"
   ]
  },
  {
   "cell_type": "code",
   "execution_count": 31,
   "metadata": {},
   "outputs": [
    {
     "name": "stdout",
     "output_type": "stream",
     "text": [
      "2018-03-02 00:00:00 2018-08-13 15:00:00\n",
      "2018-08-13 16:00:00 2018-08-31 23:00:00\n"
     ]
    }
   ],
   "source": [
    "# проверим корректность деления\n",
    "print(train.index.min(), train.index.max())\n",
    "print(test.index.min(), test.index.max())"
   ]
  },
  {
   "cell_type": "markdown",
   "metadata": {},
   "source": [
    "*Все получилось, продолжаем обучение*"
   ]
  },
  {
   "cell_type": "code",
   "execution_count": 32,
   "metadata": {},
   "outputs": [],
   "source": [
    "# создаем фичи обучающие и целевые\n",
    "features_train = train.drop(['num_orders'], axis=1)\n",
    "target_train = train['num_orders']"
   ]
  },
  {
   "cell_type": "code",
   "execution_count": 33,
   "metadata": {},
   "outputs": [],
   "source": [
    "# создаем тестовые фичи\n",
    "features_test = test.drop(['num_orders'], axis=1)\n",
    "target_test = test['num_orders']"
   ]
  },
  {
   "cell_type": "code",
   "execution_count": 34,
   "metadata": {},
   "outputs": [],
   "source": [
    "# для поика значений RMSE подготовим функцию\n",
    "def rmse (target, predictions):\n",
    "    mse = mean_squared_error(target, predictions)\n",
    "    rmse = mse ** 0.5\n",
    "    return rmse"
   ]
  },
  {
   "cell_type": "markdown",
   "metadata": {},
   "source": [
    "### Использование моделей LR, CBR, LGBMRegressor"
   ]
  },
  {
   "cell_type": "markdown",
   "metadata": {},
   "source": [
    "*Согласно инструкции необходимо провести обучение разных моделей с различными гиперпараметрами*"
   ]
  },
  {
   "cell_type": "markdown",
   "metadata": {},
   "source": [
    "**Традиционно, начнем с Линейной регрессии**"
   ]
  },
  {
   "cell_type": "code",
   "execution_count": 35,
   "metadata": {},
   "outputs": [],
   "source": [
    "lr_model = LinearRegression()\n",
    "lr_model.fit(features_train, target_train)\n",
    "predicted_lr = pd.Series(lr_model.predict(features_test))"
   ]
  },
  {
   "cell_type": "markdown",
   "metadata": {},
   "source": [
    "**Построим модель CatBoostRegressor**"
   ]
  },
  {
   "cell_type": "code",
   "execution_count": 36,
   "metadata": {},
   "outputs": [
    {
     "name": "stdout",
     "output_type": "stream",
     "text": [
      "Learning rate set to 0.391933\n",
      "0:\tlearn: 33.5540354\ttotal: 53.9ms\tremaining: 3.99s\n",
      "10:\tlearn: 23.5314237\ttotal: 105ms\tremaining: 614ms\n",
      "20:\tlearn: 21.3531520\ttotal: 156ms\tremaining: 400ms\n",
      "30:\tlearn: 19.2519005\ttotal: 208ms\tremaining: 295ms\n",
      "40:\tlearn: 17.4664927\ttotal: 260ms\tremaining: 216ms\n",
      "50:\tlearn: 16.0628417\ttotal: 310ms\tremaining: 146ms\n",
      "60:\tlearn: 14.7816145\ttotal: 386ms\tremaining: 88.6ms\n",
      "70:\tlearn: 13.7444025\ttotal: 467ms\tremaining: 26.3ms\n",
      "74:\tlearn: 13.5967356\ttotal: 498ms\tremaining: 0us\n",
      "Learning rate set to 0.391957\n",
      "0:\tlearn: 33.7026520\ttotal: 6ms\tremaining: 444ms\n",
      "10:\tlearn: 23.1472657\ttotal: 57.4ms\tremaining: 334ms\n",
      "20:\tlearn: 21.2402598\ttotal: 108ms\tremaining: 277ms\n",
      "30:\tlearn: 18.8706489\ttotal: 175ms\tremaining: 248ms\n",
      "40:\tlearn: 17.0844891\ttotal: 256ms\tremaining: 212ms\n",
      "50:\tlearn: 15.8284656\ttotal: 336ms\tremaining: 158ms\n",
      "60:\tlearn: 14.7960773\ttotal: 422ms\tremaining: 96.9ms\n",
      "70:\tlearn: 13.7348788\ttotal: 508ms\tremaining: 28.6ms\n",
      "74:\tlearn: 13.3321178\ttotal: 540ms\tremaining: 0us\n",
      "Learning rate set to 0.391957\n",
      "0:\tlearn: 28.4337332\ttotal: 9.41ms\tremaining: 697ms\n",
      "10:\tlearn: 19.5366206\ttotal: 86.9ms\tremaining: 505ms\n",
      "20:\tlearn: 17.7007823\ttotal: 163ms\tremaining: 420ms\n",
      "30:\tlearn: 16.1744484\ttotal: 232ms\tremaining: 329ms\n",
      "40:\tlearn: 14.8963294\ttotal: 303ms\tremaining: 251ms\n",
      "50:\tlearn: 13.6442163\ttotal: 372ms\tremaining: 175ms\n",
      "60:\tlearn: 12.6650553\ttotal: 443ms\tremaining: 102ms\n",
      "70:\tlearn: 11.9539560\ttotal: 517ms\tremaining: 29.1ms\n",
      "74:\tlearn: 11.6360023\ttotal: 548ms\tremaining: 0us\n",
      "Score при iterations = 75 : [0.47746326 0.55586901 0.3791145 ]\n",
      "Score mean = 0.47081559133339074\n",
      "\n",
      "Learning rate set to 0.310196\n",
      "0:\tlearn: 34.5252873\ttotal: 9.5ms\tremaining: 940ms\n",
      "10:\tlearn: 24.4297627\ttotal: 96.8ms\tremaining: 783ms\n",
      "20:\tlearn: 22.5834328\ttotal: 185ms\tremaining: 697ms\n",
      "30:\tlearn: 20.8810473\ttotal: 272ms\tremaining: 605ms\n",
      "40:\tlearn: 19.4057714\ttotal: 357ms\tremaining: 514ms\n",
      "50:\tlearn: 18.1514608\ttotal: 437ms\tremaining: 420ms\n",
      "60:\tlearn: 16.6927516\ttotal: 519ms\tremaining: 332ms\n",
      "70:\tlearn: 15.7146117\ttotal: 605ms\tremaining: 247ms\n",
      "80:\tlearn: 14.7570268\ttotal: 691ms\tremaining: 162ms\n",
      "90:\tlearn: 13.9762115\ttotal: 776ms\tremaining: 76.8ms\n",
      "99:\tlearn: 13.3182351\ttotal: 850ms\tremaining: 0us\n",
      "Learning rate set to 0.310215\n",
      "0:\tlearn: 35.0031465\ttotal: 8.8ms\tremaining: 872ms\n",
      "10:\tlearn: 23.1510991\ttotal: 97ms\tremaining: 784ms\n",
      "20:\tlearn: 21.3823181\ttotal: 184ms\tremaining: 692ms\n",
      "30:\tlearn: 19.8405071\ttotal: 277ms\tremaining: 617ms\n",
      "40:\tlearn: 18.2483445\ttotal: 366ms\tremaining: 526ms\n",
      "50:\tlearn: 16.8511210\ttotal: 444ms\tremaining: 426ms\n",
      "60:\tlearn: 15.9451514\ttotal: 497ms\tremaining: 318ms\n",
      "70:\tlearn: 15.1114479\ttotal: 551ms\tremaining: 225ms\n",
      "80:\tlearn: 14.2746206\ttotal: 606ms\tremaining: 142ms\n",
      "90:\tlearn: 13.4666864\ttotal: 659ms\tremaining: 65.2ms\n",
      "99:\tlearn: 12.8106266\ttotal: 711ms\tremaining: 0us\n",
      "Learning rate set to 0.310215\n",
      "0:\tlearn: 29.3404399\ttotal: 4.8ms\tremaining: 475ms\n",
      "10:\tlearn: 19.7748044\ttotal: 52.4ms\tremaining: 424ms\n",
      "20:\tlearn: 18.3227857\ttotal: 97.1ms\tremaining: 365ms\n",
      "30:\tlearn: 16.8649575\ttotal: 143ms\tremaining: 319ms\n",
      "40:\tlearn: 15.6916518\ttotal: 191ms\tremaining: 274ms\n",
      "50:\tlearn: 14.6109338\ttotal: 239ms\tremaining: 230ms\n",
      "60:\tlearn: 13.7200334\ttotal: 307ms\tremaining: 196ms\n",
      "70:\tlearn: 12.8797432\ttotal: 383ms\tremaining: 156ms\n",
      "80:\tlearn: 12.2308087\ttotal: 434ms\tremaining: 102ms\n",
      "90:\tlearn: 11.6113183\ttotal: 481ms\tremaining: 47.5ms\n",
      "99:\tlearn: 11.1562583\ttotal: 522ms\tremaining: 0us\n",
      "Score при iterations = 100 : [0.49462496 0.55117063 0.39015426]\n",
      "Score mean = 0.4786499493341892\n",
      "\n",
      "Learning rate set to 0.258731\n",
      "0:\tlearn: 35.1792175\ttotal: 5.41ms\tremaining: 671ms\n",
      "10:\tlearn: 24.6442478\ttotal: 57.9ms\tremaining: 600ms\n",
      "20:\tlearn: 22.9647893\ttotal: 111ms\tremaining: 551ms\n",
      "30:\tlearn: 21.4767302\ttotal: 164ms\tremaining: 497ms\n",
      "40:\tlearn: 20.3285633\ttotal: 216ms\tremaining: 442ms\n",
      "50:\tlearn: 19.0611568\ttotal: 268ms\tremaining: 389ms\n",
      "60:\tlearn: 18.0777178\ttotal: 330ms\tremaining: 346ms\n",
      "70:\tlearn: 16.9194407\ttotal: 411ms\tremaining: 312ms\n",
      "80:\tlearn: 16.3644607\ttotal: 488ms\tremaining: 265ms\n",
      "90:\tlearn: 15.5080576\ttotal: 567ms\tremaining: 212ms\n",
      "100:\tlearn: 14.9873600\ttotal: 646ms\tremaining: 153ms\n",
      "110:\tlearn: 14.3272552\ttotal: 723ms\tremaining: 91.2ms\n",
      "120:\tlearn: 13.7202569\ttotal: 802ms\tremaining: 26.5ms\n",
      "124:\tlearn: 13.5289173\ttotal: 834ms\tremaining: 0us\n",
      "Learning rate set to 0.258747\n",
      "0:\tlearn: 35.8730318\ttotal: 5.64ms\tremaining: 700ms\n",
      "10:\tlearn: 23.9735386\ttotal: 57.8ms\tremaining: 599ms\n",
      "20:\tlearn: 22.0213037\ttotal: 111ms\tremaining: 551ms\n",
      "30:\tlearn: 20.5791715\ttotal: 162ms\tremaining: 491ms\n",
      "40:\tlearn: 19.2148031\ttotal: 215ms\tremaining: 440ms\n",
      "50:\tlearn: 17.9012320\ttotal: 264ms\tremaining: 382ms\n",
      "60:\tlearn: 16.9165616\ttotal: 314ms\tremaining: 329ms\n",
      "70:\tlearn: 16.1281115\ttotal: 365ms\tremaining: 277ms\n",
      "80:\tlearn: 15.2569308\ttotal: 417ms\tremaining: 227ms\n",
      "90:\tlearn: 14.4523073\ttotal: 470ms\tremaining: 176ms\n",
      "100:\tlearn: 13.7418748\ttotal: 523ms\tremaining: 124ms\n",
      "110:\tlearn: 13.0566572\ttotal: 573ms\tremaining: 72.3ms\n",
      "120:\tlearn: 12.6573835\ttotal: 626ms\tremaining: 20.7ms\n",
      "124:\tlearn: 12.4130801\ttotal: 646ms\tremaining: 0us\n",
      "Learning rate set to 0.258747\n",
      "0:\tlearn: 29.9486578\ttotal: 7.88ms\tremaining: 977ms\n",
      "10:\tlearn: 20.3904190\ttotal: 85ms\tremaining: 881ms\n",
      "20:\tlearn: 18.7173567\ttotal: 159ms\tremaining: 788ms\n",
      "30:\tlearn: 17.4563210\ttotal: 216ms\tremaining: 654ms\n",
      "40:\tlearn: 16.3729749\ttotal: 264ms\tremaining: 542ms\n",
      "50:\tlearn: 15.5718796\ttotal: 312ms\tremaining: 453ms\n",
      "60:\tlearn: 14.6564494\ttotal: 361ms\tremaining: 378ms\n",
      "70:\tlearn: 13.7321817\ttotal: 409ms\tremaining: 311ms\n",
      "80:\tlearn: 13.1699795\ttotal: 456ms\tremaining: 248ms\n",
      "90:\tlearn: 12.6088306\ttotal: 505ms\tremaining: 189ms\n",
      "100:\tlearn: 12.0174612\ttotal: 555ms\tremaining: 132ms\n",
      "110:\tlearn: 11.4625028\ttotal: 606ms\tremaining: 76.4ms\n",
      "120:\tlearn: 11.0088720\ttotal: 655ms\tremaining: 21.7ms\n",
      "124:\tlearn: 10.8293724\ttotal: 675ms\tremaining: 0us\n",
      "Score при iterations = 125 : [0.50363099 0.5626361  0.39556232]\n",
      "Score mean = 0.48727647167483124\n",
      "\n",
      "Learning rate set to 0.223087\n",
      "0:\tlearn: 35.6501781\ttotal: 5.27ms\tremaining: 785ms\n",
      "10:\tlearn: 24.7537419\ttotal: 82.9ms\tremaining: 1.05s\n",
      "20:\tlearn: 23.0754104\ttotal: 163ms\tremaining: 999ms\n",
      "30:\tlearn: 21.6798786\ttotal: 241ms\tremaining: 926ms\n",
      "40:\tlearn: 20.6953375\ttotal: 320ms\tremaining: 851ms\n",
      "50:\tlearn: 19.6940909\ttotal: 400ms\tremaining: 776ms\n",
      "60:\tlearn: 18.7087937\ttotal: 482ms\tremaining: 703ms\n",
      "70:\tlearn: 17.8489344\ttotal: 571ms\tremaining: 635ms\n",
      "80:\tlearn: 16.9781995\ttotal: 656ms\tremaining: 559ms\n",
      "90:\tlearn: 16.2637014\ttotal: 739ms\tremaining: 479ms\n",
      "100:\tlearn: 15.5438809\ttotal: 825ms\tremaining: 400ms\n",
      "110:\tlearn: 14.9091376\ttotal: 913ms\tremaining: 321ms\n",
      "120:\tlearn: 14.2599146\ttotal: 967ms\tremaining: 232ms\n",
      "130:\tlearn: 13.6901151\ttotal: 1.03s\tremaining: 150ms\n",
      "140:\tlearn: 13.1481054\ttotal: 1.09s\tremaining: 69.5ms\n",
      "149:\tlearn: 12.7028660\ttotal: 1.13s\tremaining: 0us\n",
      "Learning rate set to 0.223101\n",
      "0:\tlearn: 36.4968314\ttotal: 5.77ms\tremaining: 860ms\n",
      "10:\tlearn: 24.3434317\ttotal: 59.8ms\tremaining: 755ms\n",
      "20:\tlearn: 22.6285021\ttotal: 114ms\tremaining: 701ms\n",
      "30:\tlearn: 21.3835241\ttotal: 167ms\tremaining: 639ms\n",
      "40:\tlearn: 19.7449656\ttotal: 217ms\tremaining: 577ms\n",
      "50:\tlearn: 18.6747939\ttotal: 273ms\tremaining: 529ms\n",
      "60:\tlearn: 17.7216356\ttotal: 336ms\tremaining: 491ms\n",
      "70:\tlearn: 16.9390927\ttotal: 419ms\tremaining: 467ms\n",
      "80:\tlearn: 16.0631860\ttotal: 501ms\tremaining: 427ms\n",
      "90:\tlearn: 15.3104288\ttotal: 575ms\tremaining: 373ms\n",
      "100:\tlearn: 14.7380183\ttotal: 628ms\tremaining: 305ms\n",
      "110:\tlearn: 14.0745086\ttotal: 680ms\tremaining: 239ms\n",
      "120:\tlearn: 13.4812158\ttotal: 734ms\tremaining: 176ms\n",
      "130:\tlearn: 13.0623113\ttotal: 788ms\tremaining: 114ms\n",
      "140:\tlearn: 12.5614974\ttotal: 840ms\tremaining: 53.6ms\n",
      "149:\tlearn: 12.2064851\ttotal: 887ms\tremaining: 0us\n",
      "Learning rate set to 0.223101\n",
      "0:\tlearn: 30.3857059\ttotal: 5.02ms\tremaining: 749ms\n",
      "10:\tlearn: 20.7013798\ttotal: 50.3ms\tremaining: 636ms\n",
      "20:\tlearn: 19.0687343\ttotal: 93.4ms\tremaining: 574ms\n",
      "30:\tlearn: 17.9414525\ttotal: 138ms\tremaining: 529ms\n",
      "40:\tlearn: 16.8646065\ttotal: 184ms\tremaining: 490ms\n",
      "50:\tlearn: 16.2707805\ttotal: 229ms\tremaining: 445ms\n",
      "60:\tlearn: 15.3483472\ttotal: 274ms\tremaining: 400ms\n",
      "70:\tlearn: 14.6651640\ttotal: 319ms\tremaining: 355ms\n",
      "80:\tlearn: 14.1093474\ttotal: 363ms\tremaining: 309ms\n",
      "90:\tlearn: 13.6104573\ttotal: 407ms\tremaining: 264ms\n",
      "100:\tlearn: 13.0275980\ttotal: 474ms\tremaining: 230ms\n",
      "110:\tlearn: 12.4402139\ttotal: 545ms\tremaining: 191ms\n",
      "120:\tlearn: 11.9761453\ttotal: 613ms\tremaining: 147ms\n",
      "130:\tlearn: 11.4502800\ttotal: 689ms\tremaining: 99.9ms\n",
      "140:\tlearn: 11.1341017\ttotal: 764ms\tremaining: 48.7ms\n",
      "149:\tlearn: 10.7348588\ttotal: 831ms\tremaining: 0us\n",
      "Score при iterations = 150 : [0.48402129 0.5686869  0.40075215]\n",
      "Score mean = 0.48448678291977104\n",
      "\n"
     ]
    }
   ],
   "source": [
    "#построим модель CBR с различными значениями гиперпараметра iterations с помощью кросс-валидации\n",
    "for iteration in range(75, 151, 25):\n",
    "    cat_model = CatBoostRegressor(loss_function=\"RMSE\", iterations=iteration, depth=6, verbose=10)\n",
    "    cat_cv = cross_val_score(cat_model, features_train, target_train, cv=3)\n",
    "    print(\"Score при iterations =\", iteration, \":\", cat_cv)\n",
    "    print(\"Score mean =\", sum(cat_cv)/len(cat_cv))\n",
    "    print()"
   ]
  },
  {
   "cell_type": "code",
   "execution_count": 37,
   "metadata": {},
   "outputs": [
    {
     "name": "stdout",
     "output_type": "stream",
     "text": [
      "Learning rate set to 0.223087\n",
      "0:\tlearn: 37.0978295\ttotal: 1.01ms\tremaining: 150ms\n",
      "10:\tlearn: 29.9616490\ttotal: 8.86ms\tremaining: 112ms\n",
      "20:\tlearn: 28.1192433\ttotal: 16.9ms\tremaining: 104ms\n",
      "30:\tlearn: 27.1924064\ttotal: 24.8ms\tremaining: 95.4ms\n",
      "40:\tlearn: 26.6230634\ttotal: 33.3ms\tremaining: 88.4ms\n",
      "50:\tlearn: 26.2219454\ttotal: 41ms\tremaining: 79.6ms\n",
      "60:\tlearn: 25.9134187\ttotal: 49.4ms\tremaining: 72.1ms\n",
      "70:\tlearn: 25.6583831\ttotal: 58.8ms\tremaining: 65.4ms\n",
      "80:\tlearn: 25.4457370\ttotal: 69.4ms\tremaining: 59.1ms\n",
      "90:\tlearn: 25.2663187\ttotal: 79.9ms\tremaining: 51.8ms\n",
      "100:\tlearn: 25.1261173\ttotal: 91ms\tremaining: 44.2ms\n",
      "110:\tlearn: 25.0196101\ttotal: 102ms\tremaining: 35.9ms\n",
      "120:\tlearn: 24.8965120\ttotal: 111ms\tremaining: 26.7ms\n",
      "130:\tlearn: 24.7835828\ttotal: 121ms\tremaining: 17.5ms\n",
      "140:\tlearn: 24.6972071\ttotal: 130ms\tremaining: 8.3ms\n",
      "149:\tlearn: 24.5989200\ttotal: 138ms\tremaining: 0us\n",
      "Learning rate set to 0.223101\n",
      "0:\tlearn: 38.1550117\ttotal: 920us\tremaining: 137ms\n",
      "10:\tlearn: 29.3293411\ttotal: 9.6ms\tremaining: 121ms\n",
      "20:\tlearn: 27.3218867\ttotal: 18.8ms\tremaining: 115ms\n",
      "30:\tlearn: 26.4834249\ttotal: 27.8ms\tremaining: 107ms\n",
      "40:\tlearn: 25.9926551\ttotal: 37ms\tremaining: 98.4ms\n",
      "50:\tlearn: 25.6642691\ttotal: 46.7ms\tremaining: 90.7ms\n",
      "60:\tlearn: 25.4058228\ttotal: 55.4ms\tremaining: 80.8ms\n",
      "70:\tlearn: 25.1887814\ttotal: 63.8ms\tremaining: 71ms\n",
      "80:\tlearn: 25.0004743\ttotal: 71.5ms\tremaining: 60.9ms\n",
      "90:\tlearn: 24.8367809\ttotal: 79.5ms\tremaining: 51.5ms\n",
      "100:\tlearn: 24.7280317\ttotal: 88.6ms\tremaining: 43ms\n",
      "110:\tlearn: 24.6213582\ttotal: 98.2ms\tremaining: 34.5ms\n",
      "120:\tlearn: 24.5094696\ttotal: 110ms\tremaining: 26.4ms\n",
      "130:\tlearn: 24.4139003\ttotal: 120ms\tremaining: 17.4ms\n",
      "140:\tlearn: 24.3430123\ttotal: 129ms\tremaining: 8.2ms\n",
      "149:\tlearn: 24.2461480\ttotal: 137ms\tremaining: 0us\n",
      "Learning rate set to 0.223101\n",
      "0:\tlearn: 31.5365657\ttotal: 1.03ms\tremaining: 154ms\n",
      "10:\tlearn: 24.6384875\ttotal: 8.47ms\tremaining: 107ms\n",
      "20:\tlearn: 22.9265640\ttotal: 16.5ms\tremaining: 101ms\n",
      "30:\tlearn: 22.3268208\ttotal: 25.1ms\tremaining: 96.5ms\n",
      "40:\tlearn: 21.9733604\ttotal: 35.5ms\tremaining: 94.3ms\n",
      "50:\tlearn: 21.6903575\ttotal: 45.9ms\tremaining: 89ms\n",
      "60:\tlearn: 21.4887878\ttotal: 56.2ms\tremaining: 82ms\n",
      "70:\tlearn: 21.3334846\ttotal: 66.2ms\tremaining: 73.6ms\n",
      "80:\tlearn: 21.2160599\ttotal: 75.9ms\tremaining: 64.7ms\n",
      "90:\tlearn: 21.1017626\ttotal: 85.9ms\tremaining: 55.7ms\n",
      "100:\tlearn: 21.0036314\ttotal: 94.6ms\tremaining: 45.9ms\n",
      "110:\tlearn: 20.9039862\ttotal: 102ms\tremaining: 36ms\n",
      "120:\tlearn: 20.8234522\ttotal: 111ms\tremaining: 26.5ms\n",
      "130:\tlearn: 20.7458040\ttotal: 119ms\tremaining: 17.2ms\n",
      "140:\tlearn: 20.6680222\ttotal: 128ms\tremaining: 8.14ms\n",
      "149:\tlearn: 20.5991947\ttotal: 135ms\tremaining: 0us\n",
      "Score при depth = 1 : [0.44606694 0.52693102 0.34319851]\n",
      "Score mean = 0.4387321548072601\n",
      "\n",
      "Learning rate set to 0.223087\n",
      "0:\tlearn: 36.1146137\ttotal: 2.91ms\tremaining: 434ms\n",
      "10:\tlearn: 27.3012817\ttotal: 29.2ms\tremaining: 370ms\n",
      "20:\tlearn: 25.6118124\ttotal: 53.9ms\tremaining: 331ms\n",
      "30:\tlearn: 24.6870399\ttotal: 79.9ms\tremaining: 307ms\n",
      "40:\tlearn: 23.9962241\ttotal: 106ms\tremaining: 282ms\n",
      "50:\tlearn: 23.3109093\ttotal: 132ms\tremaining: 256ms\n",
      "60:\tlearn: 22.6948345\ttotal: 158ms\tremaining: 231ms\n",
      "70:\tlearn: 22.1333013\ttotal: 186ms\tremaining: 207ms\n",
      "80:\tlearn: 21.6769624\ttotal: 213ms\tremaining: 182ms\n",
      "90:\tlearn: 21.2439140\ttotal: 236ms\tremaining: 153ms\n",
      "100:\tlearn: 20.8664886\ttotal: 259ms\tremaining: 126ms\n",
      "110:\tlearn: 20.3972337\ttotal: 284ms\tremaining: 99.9ms\n",
      "120:\tlearn: 20.0834641\ttotal: 309ms\tremaining: 74.2ms\n",
      "130:\tlearn: 19.7575167\ttotal: 335ms\tremaining: 48.6ms\n",
      "140:\tlearn: 19.3149041\ttotal: 360ms\tremaining: 23ms\n",
      "149:\tlearn: 19.0872878\ttotal: 379ms\tremaining: 0us\n",
      "Learning rate set to 0.223101\n",
      "0:\tlearn: 37.4757564\ttotal: 2.88ms\tremaining: 429ms\n",
      "10:\tlearn: 26.3605567\ttotal: 29.1ms\tremaining: 367ms\n",
      "20:\tlearn: 24.8442658\ttotal: 53.9ms\tremaining: 331ms\n",
      "30:\tlearn: 24.0005268\ttotal: 79.4ms\tremaining: 305ms\n",
      "40:\tlearn: 23.1445167\ttotal: 104ms\tremaining: 277ms\n",
      "50:\tlearn: 22.4859139\ttotal: 130ms\tremaining: 252ms\n",
      "60:\tlearn: 21.8449877\ttotal: 155ms\tremaining: 226ms\n",
      "70:\tlearn: 21.2928969\ttotal: 182ms\tremaining: 203ms\n",
      "80:\tlearn: 20.8099909\ttotal: 207ms\tremaining: 177ms\n",
      "90:\tlearn: 20.2463872\ttotal: 234ms\tremaining: 151ms\n",
      "100:\tlearn: 19.8852783\ttotal: 261ms\tremaining: 126ms\n",
      "110:\tlearn: 19.5152971\ttotal: 284ms\tremaining: 99.8ms\n",
      "120:\tlearn: 19.2143536\ttotal: 307ms\tremaining: 73.5ms\n",
      "130:\tlearn: 18.8737666\ttotal: 331ms\tremaining: 48ms\n",
      "140:\tlearn: 18.6254634\ttotal: 355ms\tremaining: 22.7ms\n",
      "149:\tlearn: 18.3881558\ttotal: 377ms\tremaining: 0us\n",
      "Learning rate set to 0.223101\n",
      "0:\tlearn: 30.8420909\ttotal: 1.84ms\tremaining: 275ms\n",
      "10:\tlearn: 22.2474871\ttotal: 17.9ms\tremaining: 226ms\n",
      "20:\tlearn: 20.9802921\ttotal: 33.4ms\tremaining: 205ms\n",
      "30:\tlearn: 20.3023857\ttotal: 48.3ms\tremaining: 186ms\n",
      "40:\tlearn: 19.8247631\ttotal: 64ms\tremaining: 170ms\n",
      "50:\tlearn: 19.3603513\ttotal: 80.2ms\tremaining: 156ms\n",
      "60:\tlearn: 18.8114358\ttotal: 96ms\tremaining: 140ms\n",
      "70:\tlearn: 18.4619476\ttotal: 112ms\tremaining: 125ms\n",
      "80:\tlearn: 18.0611774\ttotal: 128ms\tremaining: 109ms\n",
      "90:\tlearn: 17.6956142\ttotal: 143ms\tremaining: 92.9ms\n",
      "100:\tlearn: 17.4456377\ttotal: 159ms\tremaining: 77ms\n",
      "110:\tlearn: 17.1832700\ttotal: 175ms\tremaining: 61.4ms\n",
      "120:\tlearn: 16.8435095\ttotal: 191ms\tremaining: 45.7ms\n",
      "130:\tlearn: 16.5885820\ttotal: 206ms\tremaining: 29.9ms\n",
      "140:\tlearn: 16.3592337\ttotal: 222ms\tremaining: 14.1ms\n",
      "149:\tlearn: 16.2232708\ttotal: 236ms\tremaining: 0us\n",
      "Score при depth = 3 : [0.53382319 0.58067966 0.44249955]\n",
      "Score mean = 0.5190007999169657\n",
      "\n",
      "Learning rate set to 0.223087\n",
      "0:\tlearn: 35.7412653\ttotal: 4.08ms\tremaining: 607ms\n",
      "10:\tlearn: 25.2622712\ttotal: 40ms\tremaining: 505ms\n",
      "20:\tlearn: 23.5929584\ttotal: 72.7ms\tremaining: 447ms\n",
      "30:\tlearn: 22.7455054\ttotal: 109ms\tremaining: 419ms\n",
      "40:\tlearn: 21.6693877\ttotal: 143ms\tremaining: 380ms\n",
      "50:\tlearn: 20.8098258\ttotal: 176ms\tremaining: 341ms\n",
      "60:\tlearn: 20.0727024\ttotal: 210ms\tremaining: 306ms\n",
      "70:\tlearn: 19.0975616\ttotal: 243ms\tremaining: 271ms\n",
      "80:\tlearn: 18.4639778\ttotal: 277ms\tremaining: 236ms\n",
      "90:\tlearn: 17.8799911\ttotal: 323ms\tremaining: 210ms\n",
      "100:\tlearn: 17.3031242\ttotal: 375ms\tremaining: 182ms\n",
      "110:\tlearn: 16.8316732\ttotal: 428ms\tremaining: 150ms\n",
      "120:\tlearn: 16.2914023\ttotal: 476ms\tremaining: 114ms\n",
      "130:\tlearn: 15.8284289\ttotal: 510ms\tremaining: 73.9ms\n",
      "140:\tlearn: 15.3517619\ttotal: 544ms\tremaining: 34.7ms\n",
      "149:\tlearn: 14.9646332\ttotal: 574ms\tremaining: 0us\n",
      "Learning rate set to 0.223101\n",
      "0:\tlearn: 36.5950790\ttotal: 3.69ms\tremaining: 551ms\n",
      "10:\tlearn: 24.4514028\ttotal: 39ms\tremaining: 493ms\n",
      "20:\tlearn: 22.9796461\ttotal: 74.7ms\tremaining: 459ms\n",
      "30:\tlearn: 21.8072673\ttotal: 107ms\tremaining: 410ms\n",
      "40:\tlearn: 20.8437817\ttotal: 143ms\tremaining: 379ms\n",
      "50:\tlearn: 20.0260364\ttotal: 178ms\tremaining: 345ms\n",
      "60:\tlearn: 19.0627853\ttotal: 211ms\tremaining: 309ms\n",
      "70:\tlearn: 18.3522270\ttotal: 247ms\tremaining: 275ms\n",
      "80:\tlearn: 17.6322565\ttotal: 279ms\tremaining: 238ms\n",
      "90:\tlearn: 16.9627684\ttotal: 314ms\tremaining: 204ms\n",
      "100:\tlearn: 16.3896691\ttotal: 351ms\tremaining: 170ms\n",
      "110:\tlearn: 15.7842439\ttotal: 384ms\tremaining: 135ms\n",
      "120:\tlearn: 15.3860616\ttotal: 421ms\tremaining: 101ms\n",
      "130:\tlearn: 14.9040048\ttotal: 456ms\tremaining: 66.1ms\n",
      "140:\tlearn: 14.5472606\ttotal: 510ms\tremaining: 32.5ms\n",
      "149:\tlearn: 14.1495037\ttotal: 561ms\tremaining: 0us\n",
      "Learning rate set to 0.223101\n",
      "0:\tlearn: 30.4084564\ttotal: 5.52ms\tremaining: 823ms\n",
      "10:\tlearn: 21.0007859\ttotal: 54.9ms\tremaining: 693ms\n",
      "20:\tlearn: 19.5458964\ttotal: 102ms\tremaining: 626ms\n",
      "30:\tlearn: 18.6634869\ttotal: 133ms\tremaining: 509ms\n",
      "40:\tlearn: 17.9996953\ttotal: 163ms\tremaining: 434ms\n",
      "50:\tlearn: 17.2970568\ttotal: 194ms\tremaining: 377ms\n",
      "60:\tlearn: 16.6426631\ttotal: 225ms\tremaining: 328ms\n",
      "70:\tlearn: 15.9270157\ttotal: 255ms\tremaining: 284ms\n",
      "80:\tlearn: 15.3563550\ttotal: 285ms\tremaining: 243ms\n",
      "90:\tlearn: 14.8367987\ttotal: 316ms\tremaining: 205ms\n",
      "100:\tlearn: 14.3575372\ttotal: 348ms\tremaining: 169ms\n",
      "110:\tlearn: 13.9567015\ttotal: 378ms\tremaining: 133ms\n",
      "120:\tlearn: 13.5376604\ttotal: 407ms\tremaining: 97.6ms\n",
      "130:\tlearn: 13.1724180\ttotal: 437ms\tremaining: 63.4ms\n",
      "140:\tlearn: 12.7898346\ttotal: 468ms\tremaining: 29.9ms\n",
      "149:\tlearn: 12.4713231\ttotal: 496ms\tremaining: 0us\n",
      "Score при depth = 5 : [0.51417525 0.57376905 0.44358299]\n",
      "Score mean = 0.5105090966211279\n",
      "\n",
      "Learning rate set to 0.223087\n",
      "0:\tlearn: 35.5825833\ttotal: 17.2ms\tremaining: 2.57s\n",
      "10:\tlearn: 24.4430561\ttotal: 159ms\tremaining: 2.01s\n",
      "20:\tlearn: 22.7380702\ttotal: 299ms\tremaining: 1.84s\n",
      "30:\tlearn: 21.1859242\ttotal: 440ms\tremaining: 1.69s\n",
      "40:\tlearn: 19.6731183\ttotal: 583ms\tremaining: 1.55s\n",
      "50:\tlearn: 18.6315382\ttotal: 726ms\tremaining: 1.41s\n",
      "60:\tlearn: 17.3828024\ttotal: 871ms\tremaining: 1.27s\n",
      "70:\tlearn: 15.9838633\ttotal: 1.02s\tremaining: 1.14s\n",
      "80:\tlearn: 14.9243410\ttotal: 1.17s\tremaining: 996ms\n",
      "90:\tlearn: 14.0471125\ttotal: 1.31s\tremaining: 852ms\n",
      "100:\tlearn: 13.3532734\ttotal: 1.45s\tremaining: 706ms\n",
      "110:\tlearn: 12.6622070\ttotal: 1.6s\tremaining: 564ms\n",
      "120:\tlearn: 12.1077493\ttotal: 1.75s\tremaining: 419ms\n",
      "130:\tlearn: 11.5349236\ttotal: 1.9s\tremaining: 275ms\n",
      "140:\tlearn: 11.0210713\ttotal: 2.04s\tremaining: 131ms\n",
      "149:\tlearn: 10.6156330\ttotal: 2.17s\tremaining: 0us\n",
      "Learning rate set to 0.223101\n",
      "0:\tlearn: 36.5303069\ttotal: 9.76ms\tremaining: 1.45s\n",
      "10:\tlearn: 23.3769636\ttotal: 99ms\tremaining: 1.25s\n",
      "20:\tlearn: 21.5070826\ttotal: 179ms\tremaining: 1.1s\n",
      "30:\tlearn: 20.1824696\ttotal: 268ms\tremaining: 1.03s\n",
      "40:\tlearn: 18.6237178\ttotal: 354ms\tremaining: 942ms\n",
      "50:\tlearn: 17.7279016\ttotal: 441ms\tremaining: 857ms\n",
      "60:\tlearn: 16.6825221\ttotal: 530ms\tremaining: 773ms\n",
      "70:\tlearn: 15.6312035\ttotal: 613ms\tremaining: 682ms\n",
      "80:\tlearn: 14.7591282\ttotal: 698ms\tremaining: 595ms\n",
      "90:\tlearn: 14.0509567\ttotal: 788ms\tremaining: 511ms\n",
      "100:\tlearn: 13.3216914\ttotal: 879ms\tremaining: 427ms\n",
      "110:\tlearn: 12.5098980\ttotal: 971ms\tremaining: 341ms\n",
      "120:\tlearn: 11.7928944\ttotal: 1.06s\tremaining: 254ms\n",
      "130:\tlearn: 11.1631388\ttotal: 1.18s\tremaining: 171ms\n",
      "140:\tlearn: 10.6313090\ttotal: 1.33s\tremaining: 84.7ms\n",
      "149:\tlearn: 10.2319304\ttotal: 1.46s\tremaining: 0us\n",
      "Learning rate set to 0.223101\n",
      "0:\tlearn: 30.3150610\ttotal: 14ms\tremaining: 2.09s\n",
      "10:\tlearn: 20.1188578\ttotal: 121ms\tremaining: 1.52s\n",
      "20:\tlearn: 18.2184725\ttotal: 198ms\tremaining: 1.22s\n",
      "30:\tlearn: 16.9572509\ttotal: 272ms\tremaining: 1.04s\n",
      "40:\tlearn: 15.8797417\ttotal: 346ms\tremaining: 921ms\n",
      "50:\tlearn: 15.0119052\ttotal: 423ms\tremaining: 820ms\n",
      "60:\tlearn: 14.0404018\ttotal: 496ms\tremaining: 723ms\n",
      "70:\tlearn: 13.3951661\ttotal: 574ms\tremaining: 639ms\n",
      "80:\tlearn: 12.6681284\ttotal: 650ms\tremaining: 553ms\n",
      "90:\tlearn: 11.9747764\ttotal: 725ms\tremaining: 470ms\n",
      "100:\tlearn: 11.3159133\ttotal: 805ms\tremaining: 391ms\n",
      "110:\tlearn: 10.7515403\ttotal: 885ms\tremaining: 311ms\n",
      "120:\tlearn: 10.2099876\ttotal: 969ms\tremaining: 232ms\n",
      "130:\tlearn: 9.8143784\ttotal: 1.05s\tremaining: 152ms\n",
      "140:\tlearn: 9.3374413\ttotal: 1.13s\tremaining: 72.2ms\n",
      "149:\tlearn: 8.9120341\ttotal: 1.21s\tremaining: 0us\n",
      "Score при depth = 7 : [0.48316614 0.56849026 0.40380569]\n",
      "Score mean = 0.4851540327108493\n",
      "\n",
      "Learning rate set to 0.223087\n",
      "0:\tlearn: 35.3465238\ttotal: 75.3ms\tremaining: 11.2s\n",
      "10:\tlearn: 23.0405176\ttotal: 590ms\tremaining: 7.45s\n",
      "20:\tlearn: 19.8389501\ttotal: 1.11s\tremaining: 6.8s\n",
      "30:\tlearn: 17.9192875\ttotal: 1.61s\tremaining: 6.19s\n",
      "40:\tlearn: 16.6774044\ttotal: 2.09s\tremaining: 5.55s\n",
      "50:\tlearn: 15.3829130\ttotal: 2.62s\tremaining: 5.08s\n",
      "60:\tlearn: 13.7976383\ttotal: 3.15s\tremaining: 4.59s\n",
      "70:\tlearn: 12.4619305\ttotal: 3.68s\tremaining: 4.09s\n",
      "80:\tlearn: 11.5185975\ttotal: 4.21s\tremaining: 3.58s\n",
      "90:\tlearn: 10.2117824\ttotal: 4.74s\tremaining: 3.07s\n",
      "100:\tlearn: 9.4139235\ttotal: 5.28s\tremaining: 2.56s\n",
      "110:\tlearn: 8.5654028\ttotal: 5.78s\tremaining: 2.03s\n",
      "120:\tlearn: 8.0963704\ttotal: 6.29s\tremaining: 1.51s\n",
      "130:\tlearn: 7.4080861\ttotal: 6.82s\tremaining: 988ms\n",
      "140:\tlearn: 6.8164703\ttotal: 7.34s\tremaining: 468ms\n",
      "149:\tlearn: 6.2815712\ttotal: 7.8s\tremaining: 0us\n",
      "Learning rate set to 0.223101\n",
      "0:\tlearn: 36.1759522\ttotal: 73ms\tremaining: 10.9s\n",
      "10:\tlearn: 22.4034747\ttotal: 546ms\tremaining: 6.9s\n",
      "20:\tlearn: 19.3246697\ttotal: 899ms\tremaining: 5.52s\n",
      "30:\tlearn: 17.6559467\ttotal: 1.21s\tremaining: 4.64s\n",
      "40:\tlearn: 16.1225642\ttotal: 1.53s\tremaining: 4.06s\n",
      "50:\tlearn: 14.9020992\ttotal: 1.84s\tremaining: 3.58s\n",
      "60:\tlearn: 13.4414553\ttotal: 2.15s\tremaining: 3.14s\n",
      "70:\tlearn: 12.4409045\ttotal: 2.47s\tremaining: 2.74s\n",
      "80:\tlearn: 11.4954378\ttotal: 2.78s\tremaining: 2.37s\n",
      "90:\tlearn: 10.4286140\ttotal: 3.08s\tremaining: 2s\n",
      "100:\tlearn: 9.4239224\ttotal: 3.39s\tremaining: 1.65s\n",
      "110:\tlearn: 8.7275522\ttotal: 3.71s\tremaining: 1.3s\n",
      "120:\tlearn: 7.9460156\ttotal: 4.04s\tremaining: 968ms\n",
      "130:\tlearn: 7.3472120\ttotal: 4.36s\tremaining: 632ms\n",
      "140:\tlearn: 6.8152575\ttotal: 4.68s\tremaining: 299ms\n",
      "149:\tlearn: 6.3820499\ttotal: 4.98s\tremaining: 0us\n",
      "Learning rate set to 0.223101\n",
      "0:\tlearn: 29.9577485\ttotal: 45.4ms\tremaining: 6.76s\n",
      "10:\tlearn: 18.6583763\ttotal: 396ms\tremaining: 5s\n",
      "20:\tlearn: 16.1279223\ttotal: 683ms\tremaining: 4.2s\n",
      "30:\tlearn: 14.5028006\ttotal: 966ms\tremaining: 3.71s\n",
      "40:\tlearn: 13.2176452\ttotal: 1.24s\tremaining: 3.31s\n",
      "50:\tlearn: 12.1615600\ttotal: 1.53s\tremaining: 2.97s\n",
      "60:\tlearn: 11.1405660\ttotal: 1.84s\tremaining: 2.68s\n",
      "70:\tlearn: 10.0816018\ttotal: 2.12s\tremaining: 2.35s\n",
      "80:\tlearn: 9.1099720\ttotal: 2.39s\tremaining: 2.03s\n",
      "90:\tlearn: 8.2293031\ttotal: 2.66s\tremaining: 1.72s\n",
      "100:\tlearn: 7.5627656\ttotal: 2.94s\tremaining: 1.42s\n",
      "110:\tlearn: 6.8412683\ttotal: 3.21s\tremaining: 1.13s\n",
      "120:\tlearn: 6.2170748\ttotal: 3.49s\tremaining: 836ms\n",
      "130:\tlearn: 5.7208043\ttotal: 3.76s\tremaining: 545ms\n",
      "140:\tlearn: 5.3053249\ttotal: 4.04s\tremaining: 258ms\n",
      "149:\tlearn: 4.7748603\ttotal: 4.3s\tremaining: 0us\n",
      "Score при depth = 9 : [0.51068726 0.56163662 0.34663573]\n",
      "Score mean = 0.4729865379010363\n",
      "\n"
     ]
    }
   ],
   "source": [
    "#исследуем работу модели с различными значениями гиперпараметра depth\n",
    "for depth in range(1, 10, 2):\n",
    "    cat_model = CatBoostRegressor(loss_function=\"RMSE\", iterations=150, depth=depth, verbose=10)\n",
    "    cat_cv = cross_val_score(cat_model, features_train, target_train, cv=3)\n",
    "    print(\"Score при depth =\", depth, \":\", cat_cv)\n",
    "    print(\"Score mean =\", sum(cat_cv)/len(cat_cv))\n",
    "    print()"
   ]
  },
  {
   "cell_type": "markdown",
   "metadata": {},
   "source": [
    "*В значении score mean при depth = 7 получился наилучший результат, его возьмем за основу*"
   ]
  },
  {
   "cell_type": "code",
   "execution_count": 38,
   "metadata": {},
   "outputs": [
    {
     "name": "stdout",
     "output_type": "stream",
     "text": [
      "Learning rate set to 0.330732\n",
      "0:\tlearn: 33.5213168\ttotal: 14.3ms\tremaining: 1.42s\n",
      "10:\tlearn: 22.4468440\ttotal: 123ms\tremaining: 998ms\n",
      "20:\tlearn: 20.8324221\ttotal: 287ms\tremaining: 1.08s\n",
      "30:\tlearn: 19.0820121\ttotal: 449ms\tremaining: 1000ms\n",
      "40:\tlearn: 17.5855114\ttotal: 615ms\tremaining: 885ms\n",
      "50:\tlearn: 16.1950470\ttotal: 771ms\tremaining: 741ms\n",
      "60:\tlearn: 15.1771325\ttotal: 894ms\tremaining: 571ms\n",
      "70:\tlearn: 14.0923300\ttotal: 991ms\tremaining: 405ms\n",
      "80:\tlearn: 13.4467070\ttotal: 1.09s\tremaining: 256ms\n",
      "90:\tlearn: 12.8926961\ttotal: 1.19s\tremaining: 118ms\n",
      "99:\tlearn: 12.3845189\ttotal: 1.27s\tremaining: 0us\n"
     ]
    }
   ],
   "source": [
    "# создаем модель cbr_100_7\n",
    "cbr_100_7 = CatBoostRegressor(loss_function=\"RMSE\", iterations=100, depth=7, verbose=10)\n",
    "cbr_100_7.fit(features_train, target_train)\n",
    "predicted_cat = pd.Series(cbr_100_7.predict(features_test))"
   ]
  },
  {
   "cell_type": "markdown",
   "metadata": {},
   "source": [
    "**Построим модель - LGBMRegressor**"
   ]
  },
  {
   "cell_type": "code",
   "execution_count": 39,
   "metadata": {},
   "outputs": [],
   "source": [
    "params = {\n",
    "    'boosting_type': 'gbdt',\n",
    "    'objective': 'regression',\n",
    "    'metric': 'rmse',\n",
    "    'max_depth': 6, \n",
    "    'learning_rate': 0.1,\n",
    "    'verbose': 0\n",
    "}"
   ]
  },
  {
   "cell_type": "code",
   "execution_count": 40,
   "metadata": {
    "scrolled": true
   },
   "outputs": [
    {
     "name": "stdout",
     "output_type": "stream",
     "text": [
      "[LightGBM] [Warning] Accuracy may be bad since you didn't explicitly set num_leaves OR 2^max_depth > num_leaves. (num_leaves=31).\n",
      "[LightGBM] [Warning] Accuracy may be bad since you didn't explicitly set num_leaves OR 2^max_depth > num_leaves. (num_leaves=31).\n",
      "[LightGBM] [Warning] Auto-choosing col-wise multi-threading, the overhead of testing was 0.200876 seconds.\n",
      "You can set `force_col_wise=true` to remove the overhead.\n",
      "[LightGBM] [Warning] No further splits with positive gain, best gain: -inf\n",
      "[LightGBM] [Warning] No further splits with positive gain, best gain: -inf\n",
      "[LightGBM] [Warning] No further splits with positive gain, best gain: -inf\n",
      "[LightGBM] [Warning] No further splits with positive gain, best gain: -inf\n",
      "[LightGBM] [Warning] No further splits with positive gain, best gain: -inf\n",
      "[LightGBM] [Warning] No further splits with positive gain, best gain: -inf\n",
      "[LightGBM] [Warning] No further splits with positive gain, best gain: -inf\n",
      "[LightGBM] [Warning] No further splits with positive gain, best gain: -inf\n",
      "[LightGBM] [Warning] No further splits with positive gain, best gain: -inf\n",
      "[LightGBM] [Warning] No further splits with positive gain, best gain: -inf\n",
      "[LightGBM] [Warning] No further splits with positive gain, best gain: -inf\n",
      "[LightGBM] [Warning] No further splits with positive gain, best gain: -inf\n",
      "[LightGBM] [Warning] No further splits with positive gain, best gain: -inf\n",
      "[LightGBM] [Warning] No further splits with positive gain, best gain: -inf\n",
      "[LightGBM] [Warning] No further splits with positive gain, best gain: -inf\n",
      "[LightGBM] [Warning] No further splits with positive gain, best gain: -inf\n",
      "[LightGBM] [Warning] No further splits with positive gain, best gain: -inf\n",
      "[LightGBM] [Warning] No further splits with positive gain, best gain: -inf\n",
      "[LightGBM] [Warning] No further splits with positive gain, best gain: -inf\n",
      "[LightGBM] [Warning] No further splits with positive gain, best gain: -inf\n",
      "[LightGBM] [Warning] No further splits with positive gain, best gain: -inf\n",
      "[LightGBM] [Warning] No further splits with positive gain, best gain: -inf\n",
      "[LightGBM] [Warning] No further splits with positive gain, best gain: -inf\n",
      "[LightGBM] [Warning] No further splits with positive gain, best gain: -inf\n",
      "[LightGBM] [Warning] No further splits with positive gain, best gain: -inf\n",
      "[LightGBM] [Warning] No further splits with positive gain, best gain: -inf\n",
      "[LightGBM] [Warning] No further splits with positive gain, best gain: -inf\n",
      "[LightGBM] [Warning] No further splits with positive gain, best gain: -inf\n",
      "[LightGBM] [Warning] No further splits with positive gain, best gain: -inf\n",
      "[LightGBM] [Warning] No further splits with positive gain, best gain: -inf\n",
      "[LightGBM] [Warning] No further splits with positive gain, best gain: -inf\n",
      "[LightGBM] [Warning] No further splits with positive gain, best gain: -inf\n",
      "[LightGBM] [Warning] No further splits with positive gain, best gain: -inf\n",
      "[LightGBM] [Warning] No further splits with positive gain, best gain: -inf\n",
      "[LightGBM] [Warning] No further splits with positive gain, best gain: -inf\n",
      "[LightGBM] [Warning] No further splits with positive gain, best gain: -inf\n",
      "[LightGBM] [Warning] No further splits with positive gain, best gain: -inf\n",
      "[LightGBM] [Warning] No further splits with positive gain, best gain: -inf\n",
      "[LightGBM] [Warning] No further splits with positive gain, best gain: -inf\n",
      "[LightGBM] [Warning] No further splits with positive gain, best gain: -inf\n",
      "[LightGBM] [Warning] No further splits with positive gain, best gain: -inf\n",
      "[LightGBM] [Warning] No further splits with positive gain, best gain: -inf\n",
      "[LightGBM] [Warning] No further splits with positive gain, best gain: -inf\n",
      "[LightGBM] [Warning] No further splits with positive gain, best gain: -inf\n",
      "[LightGBM] [Warning] No further splits with positive gain, best gain: -inf\n",
      "[LightGBM] [Warning] No further splits with positive gain, best gain: -inf\n",
      "[LightGBM] [Warning] No further splits with positive gain, best gain: -inf\n",
      "[LightGBM] [Warning] No further splits with positive gain, best gain: -inf\n",
      "[LightGBM] [Warning] No further splits with positive gain, best gain: -inf\n",
      "[LightGBM] [Warning] No further splits with positive gain, best gain: -inf\n",
      "[LightGBM] [Warning] No further splits with positive gain, best gain: -inf\n",
      "[LightGBM] [Warning] No further splits with positive gain, best gain: -inf\n",
      "[LightGBM] [Warning] No further splits with positive gain, best gain: -inf\n"
     ]
    }
   ],
   "source": [
    "lgbm_model = LGBMRegressor(**params)\n",
    "lgbm_model.fit(features_train, target_train)\n",
    "predictions_lgbm = lgbm_model.predict(features_test)"
   ]
  },
  {
   "cell_type": "markdown",
   "metadata": {},
   "source": [
    "## Тестирование"
   ]
  },
  {
   "cell_type": "markdown",
   "metadata": {},
   "source": [
    "### Линейная регрессия"
   ]
  },
  {
   "cell_type": "code",
   "execution_count": 41,
   "metadata": {},
   "outputs": [
    {
     "data": {
      "text/plain": [
       "45.16735569131763"
      ]
     },
     "execution_count": 41,
     "metadata": {},
     "output_type": "execute_result"
    }
   ],
   "source": [
    "rmse(target_test, predicted_lr)"
   ]
  },
  {
   "cell_type": "markdown",
   "metadata": {},
   "source": [
    "###  Катбустрегрессия"
   ]
  },
  {
   "cell_type": "code",
   "execution_count": 42,
   "metadata": {},
   "outputs": [
    {
     "data": {
      "text/plain": [
       "40.2801158019238"
      ]
     },
     "execution_count": 42,
     "metadata": {},
     "output_type": "execute_result"
    }
   ],
   "source": [
    "rmse(target_test, predicted_cat)"
   ]
  },
  {
   "cell_type": "markdown",
   "metadata": {},
   "source": [
    "### LGBMRegressor"
   ]
  },
  {
   "cell_type": "code",
   "execution_count": 43,
   "metadata": {},
   "outputs": [
    {
     "data": {
      "text/plain": [
       "40.74573294596496"
      ]
     },
     "execution_count": 43,
     "metadata": {},
     "output_type": "execute_result"
    }
   ],
   "source": [
    "rmse(target_test, predictions_lgbm)"
   ]
  },
  {
   "cell_type": "markdown",
   "metadata": {},
   "source": [
    "**Вывод:** \n",
    "*Согласно условиям инструкции значение метрики RMSE на тестовой выборке должно быть не больше 48, во всех представленных моделях показатель RMSE ниже 48. При этом будучи DS в компании «Чётенькое такси» мной рекомендована была бы к использованию модель катбустрегрессию, поскольку значение RMSE самое низкое из трех представленных* "
   ]
  },
  {
   "attachments": {
    "image.png": {
     "image/png": "[encoded data removed]"
    }
   },
   "cell_type": "markdown",
   "metadata": {},
   "source": [
    "![image.png](attachment:image.png)"
   ]
  },
  {
   "cell_type": "code",
   "execution_count": 51,
   "metadata": {},
   "outputs": [
    {
     "data": {
      "image/png": "[encoded data removed]",
      "text/plain": [
       "<Figure size 1152x576 with 1 Axes>"
      ]
     },
     "metadata": {},
     "output_type": "display_data"
    }
   ],
   "source": [
    "# используем лучшую модель, полученную в ходе сравнения катбустрегрессию\n",
    "plt.figure(figsize=(16, 8))\n",
    "\n",
    "plt.plot(target_test, label='Реальные')\n",
    "plt.plot(target_test.index, predicted_cat, label='Предсказаные')\n",
    "\n",
    "plt.title('Результаты модели, в днях')\n",
    "plt.legend()\n",
    "plt.show()"
   ]
  },
  {
   "cell_type": "markdown",
   "metadata": {},
   "source": [
    "*Анализируя модель прогнозирования, можно отметить, что она близка к реальным значениям, следовательно вероятность точного прогноза высокая*"
   ]
  }
 ],
 "metadata": {
  "ExecuteTimeLog": [
   {
    "duration": 8,
    "start_time": "2022-05-05T14:38:47.677Z"
   },
   {
    "duration": 1812,
    "start_time": "2022-05-05T14:38:57.227Z"
   },
   {
    "duration": 2971,
    "start_time": "2022-05-05T14:39:27.103Z"
   },
   {
    "duration": 27,
    "start_time": "2022-05-05T14:45:27.036Z"
   },
   {
    "duration": 11,
    "start_time": "2022-05-05T14:45:41.624Z"
   },
   {
    "duration": 7,
    "start_time": "2022-05-05T14:45:57.721Z"
   },
   {
    "duration": 11,
    "start_time": "2022-05-05T14:52:06.368Z"
   },
   {
    "duration": 13,
    "start_time": "2022-05-05T14:52:39.230Z"
   },
   {
    "duration": 7,
    "start_time": "2022-05-05T15:11:48.944Z"
   },
   {
    "duration": 6,
    "start_time": "2022-05-05T15:12:48.239Z"
   },
   {
    "duration": 15,
    "start_time": "2022-05-05T15:16:07.586Z"
   },
   {
    "duration": 2270,
    "start_time": "2022-05-05T15:28:56.559Z"
   },
   {
    "duration": 2089,
    "start_time": "2022-05-05T15:29:07.503Z"
   },
   {
    "duration": 12,
    "start_time": "2022-05-05T15:29:34.719Z"
   },
   {
    "duration": 12,
    "start_time": "2022-05-05T15:29:42.079Z"
   },
   {
    "duration": 10,
    "start_time": "2022-05-05T15:29:59.375Z"
   },
   {
    "duration": 5,
    "start_time": "2022-05-05T15:30:03.535Z"
   },
   {
    "duration": 5,
    "start_time": "2022-05-05T15:30:45.248Z"
   },
   {
    "duration": 43,
    "start_time": "2022-05-06T06:20:04.785Z"
   },
   {
    "duration": 1637,
    "start_time": "2022-05-06T06:20:13.703Z"
   },
   {
    "duration": 30,
    "start_time": "2022-05-06T06:20:15.342Z"
   },
   {
    "duration": 12,
    "start_time": "2022-05-06T06:20:15.374Z"
   },
   {
    "duration": 7,
    "start_time": "2022-05-06T06:20:15.388Z"
   },
   {
    "duration": 34,
    "start_time": "2022-05-06T06:20:15.397Z"
   },
   {
    "duration": 7,
    "start_time": "2022-05-06T06:20:15.433Z"
   },
   {
    "duration": 7,
    "start_time": "2022-05-06T06:20:15.442Z"
   },
   {
    "duration": 12,
    "start_time": "2022-05-06T06:20:15.450Z"
   },
   {
    "duration": 9,
    "start_time": "2022-05-06T06:20:15.464Z"
   },
   {
    "duration": 6,
    "start_time": "2022-05-06T06:20:15.475Z"
   },
   {
    "duration": 44,
    "start_time": "2022-05-06T06:20:15.482Z"
   },
   {
    "duration": 113,
    "start_time": "2022-05-06T06:20:15.527Z"
   },
   {
    "duration": 4,
    "start_time": "2022-05-06T06:21:37.256Z"
   },
   {
    "duration": 9,
    "start_time": "2022-05-06T06:22:39.128Z"
   },
   {
    "duration": 10,
    "start_time": "2022-05-06T06:22:54.794Z"
   },
   {
    "duration": 1429,
    "start_time": "2022-05-06T06:59:04.304Z"
   },
   {
    "duration": 25,
    "start_time": "2022-05-06T06:59:05.736Z"
   },
   {
    "duration": 12,
    "start_time": "2022-05-06T06:59:05.762Z"
   },
   {
    "duration": 8,
    "start_time": "2022-05-06T06:59:05.776Z"
   },
   {
    "duration": 16,
    "start_time": "2022-05-06T06:59:05.786Z"
   },
   {
    "duration": 21,
    "start_time": "2022-05-06T06:59:05.803Z"
   },
   {
    "duration": 5,
    "start_time": "2022-05-06T06:59:05.826Z"
   },
   {
    "duration": 15,
    "start_time": "2022-05-06T06:59:05.833Z"
   },
   {
    "duration": 9,
    "start_time": "2022-05-06T06:59:05.849Z"
   },
   {
    "duration": 6,
    "start_time": "2022-05-06T06:59:05.860Z"
   },
   {
    "duration": 3,
    "start_time": "2022-05-06T06:59:05.868Z"
   },
   {
    "duration": 5,
    "start_time": "2022-05-06T06:59:05.873Z"
   },
   {
    "duration": 51,
    "start_time": "2022-05-06T06:59:05.880Z"
   },
   {
    "duration": 4,
    "start_time": "2022-05-06T07:17:37.137Z"
   },
   {
    "duration": 4,
    "start_time": "2022-05-06T07:20:32.587Z"
   },
   {
    "duration": 5,
    "start_time": "2022-05-06T07:20:53.659Z"
   },
   {
    "duration": 109,
    "start_time": "2022-05-06T07:28:35.798Z"
   },
   {
    "duration": 14,
    "start_time": "2022-05-06T07:29:58.484Z"
   },
   {
    "duration": 12,
    "start_time": "2022-05-06T07:31:13.029Z"
   },
   {
    "duration": 12,
    "start_time": "2022-05-06T07:31:38.262Z"
   },
   {
    "duration": 3,
    "start_time": "2022-05-06T07:31:49.493Z"
   },
   {
    "duration": 11,
    "start_time": "2022-05-06T07:31:54.085Z"
   },
   {
    "duration": 1467,
    "start_time": "2022-05-06T08:43:41.479Z"
   },
   {
    "duration": 31,
    "start_time": "2022-05-06T08:43:42.948Z"
   },
   {
    "duration": 26,
    "start_time": "2022-05-06T08:43:42.980Z"
   },
   {
    "duration": 6,
    "start_time": "2022-05-06T08:43:43.007Z"
   },
   {
    "duration": 13,
    "start_time": "2022-05-06T08:43:43.016Z"
   },
   {
    "duration": 5,
    "start_time": "2022-05-06T08:43:43.030Z"
   },
   {
    "duration": 6,
    "start_time": "2022-05-06T08:43:43.036Z"
   },
   {
    "duration": 6,
    "start_time": "2022-05-06T08:43:43.044Z"
   },
   {
    "duration": 1887,
    "start_time": "2022-05-06T08:43:43.051Z"
   },
   {
    "duration": 0,
    "start_time": "2022-05-06T08:43:44.940Z"
   },
   {
    "duration": 0,
    "start_time": "2022-05-06T08:43:44.942Z"
   },
   {
    "duration": 0,
    "start_time": "2022-05-06T08:43:44.943Z"
   },
   {
    "duration": 0,
    "start_time": "2022-05-06T08:43:44.944Z"
   },
   {
    "duration": 0,
    "start_time": "2022-05-06T08:43:44.945Z"
   },
   {
    "duration": 0,
    "start_time": "2022-05-06T08:43:44.946Z"
   },
   {
    "duration": 1454,
    "start_time": "2022-05-06T08:44:31.393Z"
   },
   {
    "duration": 33,
    "start_time": "2022-05-06T08:44:32.849Z"
   },
   {
    "duration": 16,
    "start_time": "2022-05-06T08:44:32.884Z"
   },
   {
    "duration": 7,
    "start_time": "2022-05-06T08:44:32.902Z"
   },
   {
    "duration": 23,
    "start_time": "2022-05-06T08:44:32.911Z"
   },
   {
    "duration": 6,
    "start_time": "2022-05-06T08:44:32.936Z"
   },
   {
    "duration": 6,
    "start_time": "2022-05-06T08:44:32.943Z"
   },
   {
    "duration": 8,
    "start_time": "2022-05-06T08:44:32.951Z"
   },
   {
    "duration": 3,
    "start_time": "2022-05-06T08:44:32.961Z"
   },
   {
    "duration": 2052,
    "start_time": "2022-05-06T08:44:32.966Z"
   },
   {
    "duration": 0,
    "start_time": "2022-05-06T08:44:35.020Z"
   },
   {
    "duration": 0,
    "start_time": "2022-05-06T08:44:35.021Z"
   },
   {
    "duration": 0,
    "start_time": "2022-05-06T08:44:35.022Z"
   },
   {
    "duration": 0,
    "start_time": "2022-05-06T08:44:35.023Z"
   },
   {
    "duration": 0,
    "start_time": "2022-05-06T08:44:35.024Z"
   },
   {
    "duration": 1450,
    "start_time": "2022-05-06T08:44:56.952Z"
   },
   {
    "duration": 39,
    "start_time": "2022-05-06T08:44:58.405Z"
   },
   {
    "duration": 10,
    "start_time": "2022-05-06T08:44:58.446Z"
   },
   {
    "duration": 6,
    "start_time": "2022-05-06T08:44:58.459Z"
   },
   {
    "duration": 13,
    "start_time": "2022-05-06T08:44:58.467Z"
   },
   {
    "duration": 6,
    "start_time": "2022-05-06T08:44:58.482Z"
   },
   {
    "duration": 36,
    "start_time": "2022-05-06T08:44:58.489Z"
   },
   {
    "duration": 8,
    "start_time": "2022-05-06T08:44:58.528Z"
   },
   {
    "duration": 2,
    "start_time": "2022-05-06T08:44:58.538Z"
   },
   {
    "duration": 3,
    "start_time": "2022-05-06T08:44:58.544Z"
   },
   {
    "duration": 4,
    "start_time": "2022-05-06T08:44:58.549Z"
   },
   {
    "duration": 6,
    "start_time": "2022-05-06T08:44:58.555Z"
   },
   {
    "duration": 11,
    "start_time": "2022-05-06T08:44:58.563Z"
   },
   {
    "duration": 4,
    "start_time": "2022-05-06T08:44:58.624Z"
   },
   {
    "duration": 12,
    "start_time": "2022-05-06T08:44:58.630Z"
   },
   {
    "duration": 70,
    "start_time": "2022-05-08T21:28:22.115Z"
   },
   {
    "duration": 2298,
    "start_time": "2022-05-08T21:28:28.901Z"
   },
   {
    "duration": 45,
    "start_time": "2022-05-08T21:28:31.202Z"
   },
   {
    "duration": 15,
    "start_time": "2022-05-08T21:28:31.249Z"
   },
   {
    "duration": 29,
    "start_time": "2022-05-08T21:28:31.266Z"
   },
   {
    "duration": 31,
    "start_time": "2022-05-08T21:28:31.298Z"
   },
   {
    "duration": 7,
    "start_time": "2022-05-08T21:28:31.331Z"
   },
   {
    "duration": 7,
    "start_time": "2022-05-08T21:28:31.341Z"
   },
   {
    "duration": 7,
    "start_time": "2022-05-08T21:28:31.351Z"
   },
   {
    "duration": 6,
    "start_time": "2022-05-08T21:28:31.361Z"
   },
   {
    "duration": 7,
    "start_time": "2022-05-08T21:28:31.369Z"
   },
   {
    "duration": 9,
    "start_time": "2022-05-08T21:28:31.378Z"
   },
   {
    "duration": 5,
    "start_time": "2022-05-08T21:28:31.426Z"
   },
   {
    "duration": 35,
    "start_time": "2022-05-08T21:28:31.433Z"
   },
   {
    "duration": 12,
    "start_time": "2022-05-08T21:28:31.472Z"
   },
   {
    "duration": 27,
    "start_time": "2022-05-08T21:28:31.486Z"
   },
   {
    "duration": 201,
    "start_time": "2022-05-08T21:28:31.515Z"
   },
   {
    "duration": 2005,
    "start_time": "2022-05-08T21:30:39.341Z"
   },
   {
    "duration": 42,
    "start_time": "2022-05-08T21:30:41.349Z"
   },
   {
    "duration": 15,
    "start_time": "2022-05-08T21:30:41.394Z"
   },
   {
    "duration": 10,
    "start_time": "2022-05-08T21:30:41.425Z"
   },
   {
    "duration": 24,
    "start_time": "2022-05-08T21:30:41.438Z"
   },
   {
    "duration": 9,
    "start_time": "2022-05-08T21:30:41.464Z"
   },
   {
    "duration": 10,
    "start_time": "2022-05-08T21:30:41.476Z"
   },
   {
    "duration": 40,
    "start_time": "2022-05-08T21:30:41.488Z"
   },
   {
    "duration": 4,
    "start_time": "2022-05-08T21:30:41.530Z"
   },
   {
    "duration": 7,
    "start_time": "2022-05-08T21:30:41.536Z"
   },
   {
    "duration": 7,
    "start_time": "2022-05-08T21:30:41.545Z"
   },
   {
    "duration": 9,
    "start_time": "2022-05-08T21:30:41.554Z"
   },
   {
    "duration": 15,
    "start_time": "2022-05-08T21:30:41.566Z"
   },
   {
    "duration": 44,
    "start_time": "2022-05-08T21:30:41.585Z"
   },
   {
    "duration": 10,
    "start_time": "2022-05-08T21:30:41.632Z"
   },
   {
    "duration": 295,
    "start_time": "2022-05-08T21:30:41.645Z"
   },
   {
    "duration": 1983,
    "start_time": "2022-05-08T21:32:03.838Z"
   },
   {
    "duration": 42,
    "start_time": "2022-05-08T21:32:05.824Z"
   },
   {
    "duration": 13,
    "start_time": "2022-05-08T21:32:05.869Z"
   },
   {
    "duration": 9,
    "start_time": "2022-05-08T21:32:05.886Z"
   },
   {
    "duration": 39,
    "start_time": "2022-05-08T21:32:05.897Z"
   },
   {
    "duration": 7,
    "start_time": "2022-05-08T21:32:05.939Z"
   },
   {
    "duration": 17,
    "start_time": "2022-05-08T21:32:05.948Z"
   },
   {
    "duration": 12,
    "start_time": "2022-05-08T21:32:05.967Z"
   },
   {
    "duration": 4,
    "start_time": "2022-05-08T21:32:05.981Z"
   },
   {
    "duration": 36,
    "start_time": "2022-05-08T21:32:05.989Z"
   },
   {
    "duration": 16,
    "start_time": "2022-05-08T21:32:06.028Z"
   },
   {
    "duration": 8,
    "start_time": "2022-05-08T21:32:06.047Z"
   },
   {
    "duration": 20,
    "start_time": "2022-05-08T21:32:06.058Z"
   },
   {
    "duration": 14,
    "start_time": "2022-05-08T21:32:06.081Z"
   },
   {
    "duration": 32,
    "start_time": "2022-05-08T21:32:06.097Z"
   },
   {
    "duration": 392,
    "start_time": "2022-05-08T21:32:06.132Z"
   },
   {
    "duration": 8,
    "start_time": "2022-05-08T21:37:22.226Z"
   },
   {
    "duration": 353,
    "start_time": "2022-05-08T21:37:31.750Z"
   },
   {
    "duration": 1980,
    "start_time": "2022-05-08T21:38:37.637Z"
   },
   {
    "duration": 42,
    "start_time": "2022-05-08T21:38:39.619Z"
   },
   {
    "duration": 16,
    "start_time": "2022-05-08T21:38:39.663Z"
   },
   {
    "duration": 9,
    "start_time": "2022-05-08T21:38:39.682Z"
   },
   {
    "duration": 42,
    "start_time": "2022-05-08T21:38:39.696Z"
   },
   {
    "duration": 8,
    "start_time": "2022-05-08T21:38:39.740Z"
   },
   {
    "duration": 7,
    "start_time": "2022-05-08T21:38:39.751Z"
   },
   {
    "duration": 9,
    "start_time": "2022-05-08T21:38:39.760Z"
   },
   {
    "duration": 3,
    "start_time": "2022-05-08T21:38:39.772Z"
   },
   {
    "duration": 4,
    "start_time": "2022-05-08T21:38:39.825Z"
   },
   {
    "duration": 9,
    "start_time": "2022-05-08T21:38:39.831Z"
   },
   {
    "duration": 8,
    "start_time": "2022-05-08T21:38:39.842Z"
   },
   {
    "duration": 16,
    "start_time": "2022-05-08T21:38:39.852Z"
   },
   {
    "duration": 6,
    "start_time": "2022-05-08T21:38:39.872Z"
   },
   {
    "duration": 54,
    "start_time": "2022-05-08T21:38:39.880Z"
   },
   {
    "duration": 662,
    "start_time": "2022-05-08T21:38:39.937Z"
   },
   {
    "duration": 24,
    "start_time": "2022-05-08T21:38:40.601Z"
   },
   {
    "duration": 528,
    "start_time": "2022-05-08T21:38:40.627Z"
   },
   {
    "duration": 1978,
    "start_time": "2022-05-08T21:39:34.946Z"
   },
   {
    "duration": 42,
    "start_time": "2022-05-08T21:39:36.927Z"
   },
   {
    "duration": 15,
    "start_time": "2022-05-08T21:39:36.971Z"
   },
   {
    "duration": 13,
    "start_time": "2022-05-08T21:39:36.989Z"
   },
   {
    "duration": 35,
    "start_time": "2022-05-08T21:39:37.004Z"
   },
   {
    "duration": 8,
    "start_time": "2022-05-08T21:39:37.042Z"
   },
   {
    "duration": 7,
    "start_time": "2022-05-08T21:39:37.053Z"
   },
   {
    "duration": 10,
    "start_time": "2022-05-08T21:39:37.063Z"
   },
   {
    "duration": 49,
    "start_time": "2022-05-08T21:39:37.076Z"
   },
   {
    "duration": 4,
    "start_time": "2022-05-08T21:39:37.130Z"
   },
   {
    "duration": 7,
    "start_time": "2022-05-08T21:39:37.136Z"
   },
   {
    "duration": 14,
    "start_time": "2022-05-08T21:39:37.146Z"
   },
   {
    "duration": 20,
    "start_time": "2022-05-08T21:39:37.163Z"
   },
   {
    "duration": 41,
    "start_time": "2022-05-08T21:39:37.185Z"
   },
   {
    "duration": 14,
    "start_time": "2022-05-08T21:39:37.229Z"
   },
   {
    "duration": 416,
    "start_time": "2022-05-08T21:39:37.245Z"
   },
   {
    "duration": 9,
    "start_time": "2022-05-08T21:39:37.664Z"
   },
   {
    "duration": 371,
    "start_time": "2022-05-08T21:39:37.675Z"
   },
   {
    "duration": 171,
    "start_time": "2022-05-08T21:45:10.325Z"
   },
   {
    "duration": 6,
    "start_time": "2022-05-08T21:45:36.814Z"
   },
   {
    "duration": 1052,
    "start_time": "2022-05-08T21:45:37.624Z"
   },
   {
    "duration": 6,
    "start_time": "2022-05-08T21:46:32.250Z"
   },
   {
    "duration": 401,
    "start_time": "2022-05-08T21:46:33.178Z"
   },
   {
    "duration": 1987,
    "start_time": "2022-05-08T21:54:11.563Z"
   },
   {
    "duration": 47,
    "start_time": "2022-05-08T21:54:13.553Z"
   },
   {
    "duration": 14,
    "start_time": "2022-05-08T21:54:13.602Z"
   },
   {
    "duration": 13,
    "start_time": "2022-05-08T21:54:13.618Z"
   },
   {
    "duration": 16,
    "start_time": "2022-05-08T21:54:13.636Z"
   },
   {
    "duration": 9,
    "start_time": "2022-05-08T21:54:13.654Z"
   },
   {
    "duration": 8,
    "start_time": "2022-05-08T21:54:13.665Z"
   },
   {
    "duration": 54,
    "start_time": "2022-05-08T21:54:13.675Z"
   },
   {
    "duration": 5,
    "start_time": "2022-05-08T21:54:13.732Z"
   },
   {
    "duration": 7,
    "start_time": "2022-05-08T21:54:13.739Z"
   },
   {
    "duration": 10,
    "start_time": "2022-05-08T21:54:13.748Z"
   },
   {
    "duration": 9,
    "start_time": "2022-05-08T21:54:13.760Z"
   },
   {
    "duration": 16,
    "start_time": "2022-05-08T21:54:13.772Z"
   },
   {
    "duration": 4,
    "start_time": "2022-05-08T21:54:13.827Z"
   },
   {
    "duration": 16,
    "start_time": "2022-05-08T21:54:13.833Z"
   },
   {
    "duration": 402,
    "start_time": "2022-05-08T21:54:13.851Z"
   },
   {
    "duration": 9,
    "start_time": "2022-05-08T21:54:14.256Z"
   },
   {
    "duration": 459,
    "start_time": "2022-05-08T21:54:14.267Z"
   },
   {
    "duration": 8,
    "start_time": "2022-05-08T21:54:14.728Z"
   },
   {
    "duration": 591,
    "start_time": "2022-05-08T21:54:14.738Z"
   },
   {
    "duration": 13,
    "start_time": "2022-05-08T21:56:00.002Z"
   },
   {
    "duration": 174,
    "start_time": "2022-05-08T21:57:02.963Z"
   },
   {
    "duration": 14,
    "start_time": "2022-05-08T21:58:07.545Z"
   },
   {
    "duration": 2134,
    "start_time": "2022-05-08T21:58:16.407Z"
   },
   {
    "duration": 45,
    "start_time": "2022-05-08T21:58:18.544Z"
   },
   {
    "duration": 15,
    "start_time": "2022-05-08T21:58:18.592Z"
   },
   {
    "duration": 10,
    "start_time": "2022-05-08T21:58:18.625Z"
   },
   {
    "duration": 21,
    "start_time": "2022-05-08T21:58:18.638Z"
   },
   {
    "duration": 8,
    "start_time": "2022-05-08T21:58:18.661Z"
   },
   {
    "duration": 9,
    "start_time": "2022-05-08T21:58:18.671Z"
   },
   {
    "duration": 44,
    "start_time": "2022-05-08T21:58:18.682Z"
   },
   {
    "duration": 5,
    "start_time": "2022-05-08T21:58:18.729Z"
   },
   {
    "duration": 7,
    "start_time": "2022-05-08T21:58:18.736Z"
   },
   {
    "duration": 9,
    "start_time": "2022-05-08T21:58:18.745Z"
   },
   {
    "duration": 10,
    "start_time": "2022-05-08T21:58:18.756Z"
   },
   {
    "duration": 19,
    "start_time": "2022-05-08T21:58:18.769Z"
   },
   {
    "duration": 5,
    "start_time": "2022-05-08T21:58:18.825Z"
   },
   {
    "duration": 16,
    "start_time": "2022-05-08T21:58:18.832Z"
   },
   {
    "duration": 535,
    "start_time": "2022-05-08T21:58:18.851Z"
   },
   {
    "duration": 10,
    "start_time": "2022-05-08T21:58:19.388Z"
   },
   {
    "duration": 624,
    "start_time": "2022-05-08T21:58:19.401Z"
   },
   {
    "duration": 9,
    "start_time": "2022-05-08T21:58:20.027Z"
   },
   {
    "duration": 428,
    "start_time": "2022-05-08T21:58:20.038Z"
   },
   {
    "duration": 10,
    "start_time": "2022-05-08T21:58:20.469Z"
   },
   {
    "duration": 4,
    "start_time": "2022-05-08T21:58:20.481Z"
   },
   {
    "duration": 195,
    "start_time": "2022-05-08T21:58:20.487Z"
   },
   {
    "duration": 13,
    "start_time": "2022-05-08T21:58:49.186Z"
   },
   {
    "duration": 12,
    "start_time": "2022-05-08T21:59:30.677Z"
   },
   {
    "duration": 17,
    "start_time": "2022-05-08T21:59:31.564Z"
   },
   {
    "duration": 12,
    "start_time": "2022-05-08T21:59:33.277Z"
   },
   {
    "duration": 12,
    "start_time": "2022-05-08T21:59:34.512Z"
   },
   {
    "duration": 14,
    "start_time": "2022-05-08T22:02:03.824Z"
   },
   {
    "duration": 11,
    "start_time": "2022-05-08T22:02:04.910Z"
   },
   {
    "duration": 13,
    "start_time": "2022-05-08T22:02:06.326Z"
   },
   {
    "duration": 2037,
    "start_time": "2022-05-08T22:02:25.232Z"
   },
   {
    "duration": 43,
    "start_time": "2022-05-08T22:02:27.272Z"
   },
   {
    "duration": 18,
    "start_time": "2022-05-08T22:02:27.317Z"
   },
   {
    "duration": 9,
    "start_time": "2022-05-08T22:02:27.337Z"
   },
   {
    "duration": 16,
    "start_time": "2022-05-08T22:02:27.349Z"
   },
   {
    "duration": 8,
    "start_time": "2022-05-08T22:02:27.367Z"
   },
   {
    "duration": 50,
    "start_time": "2022-05-08T22:02:27.378Z"
   },
   {
    "duration": 10,
    "start_time": "2022-05-08T22:02:27.431Z"
   },
   {
    "duration": 7,
    "start_time": "2022-05-08T22:02:27.443Z"
   },
   {
    "duration": 6,
    "start_time": "2022-05-08T22:02:27.452Z"
   },
   {
    "duration": 16,
    "start_time": "2022-05-08T22:02:27.460Z"
   },
   {
    "duration": 23,
    "start_time": "2022-05-08T22:02:27.478Z"
   },
   {
    "duration": 36,
    "start_time": "2022-05-08T22:02:27.503Z"
   },
   {
    "duration": 4,
    "start_time": "2022-05-08T22:02:27.545Z"
   },
   {
    "duration": 13,
    "start_time": "2022-05-08T22:02:27.552Z"
   },
   {
    "duration": 425,
    "start_time": "2022-05-08T22:02:27.568Z"
   },
   {
    "duration": 31,
    "start_time": "2022-05-08T22:02:27.995Z"
   },
   {
    "duration": 547,
    "start_time": "2022-05-08T22:02:28.029Z"
   },
   {
    "duration": 9,
    "start_time": "2022-05-08T22:02:28.580Z"
   },
   {
    "duration": 547,
    "start_time": "2022-05-08T22:02:28.591Z"
   },
   {
    "duration": 15,
    "start_time": "2022-05-08T22:02:29.140Z"
   },
   {
    "duration": 10,
    "start_time": "2022-05-08T22:02:29.158Z"
   },
   {
    "duration": 208,
    "start_time": "2022-05-08T22:02:29.170Z"
   },
   {
    "duration": 0,
    "start_time": "2022-05-08T22:02:29.380Z"
   },
   {
    "duration": 0,
    "start_time": "2022-05-08T22:02:29.382Z"
   },
   {
    "duration": 12,
    "start_time": "2022-05-08T22:03:19.044Z"
   },
   {
    "duration": 15,
    "start_time": "2022-05-08T22:03:20.238Z"
   },
   {
    "duration": 8,
    "start_time": "2022-05-08T22:04:16.432Z"
   },
   {
    "duration": 13,
    "start_time": "2022-05-08T22:04:17.476Z"
   },
   {
    "duration": 13,
    "start_time": "2022-05-08T22:12:18.468Z"
   },
   {
    "duration": 17,
    "start_time": "2022-05-08T22:14:27.976Z"
   },
   {
    "duration": 2033,
    "start_time": "2022-05-08T22:14:54.641Z"
   },
   {
    "duration": 47,
    "start_time": "2022-05-08T22:14:56.677Z"
   },
   {
    "duration": 14,
    "start_time": "2022-05-08T22:14:56.726Z"
   },
   {
    "duration": 9,
    "start_time": "2022-05-08T22:14:56.743Z"
   },
   {
    "duration": 17,
    "start_time": "2022-05-08T22:14:56.754Z"
   },
   {
    "duration": 7,
    "start_time": "2022-05-08T22:14:56.774Z"
   },
   {
    "duration": 44,
    "start_time": "2022-05-08T22:14:56.783Z"
   },
   {
    "duration": 8,
    "start_time": "2022-05-08T22:14:56.829Z"
   },
   {
    "duration": 3,
    "start_time": "2022-05-08T22:14:56.839Z"
   },
   {
    "duration": 3,
    "start_time": "2022-05-08T22:14:56.846Z"
   },
   {
    "duration": 7,
    "start_time": "2022-05-08T22:14:56.852Z"
   },
   {
    "duration": 11,
    "start_time": "2022-05-08T22:14:56.861Z"
   },
   {
    "duration": 59,
    "start_time": "2022-05-08T22:14:56.874Z"
   },
   {
    "duration": 6,
    "start_time": "2022-05-08T22:14:56.935Z"
   },
   {
    "duration": 15,
    "start_time": "2022-05-08T22:14:56.943Z"
   },
   {
    "duration": 587,
    "start_time": "2022-05-08T22:14:56.961Z"
   },
   {
    "duration": 10,
    "start_time": "2022-05-08T22:14:57.551Z"
   },
   {
    "duration": 455,
    "start_time": "2022-05-08T22:14:57.563Z"
   },
   {
    "duration": 8,
    "start_time": "2022-05-08T22:14:58.025Z"
   },
   {
    "duration": 424,
    "start_time": "2022-05-08T22:14:58.035Z"
   },
   {
    "duration": 190,
    "start_time": "2022-05-08T22:14:58.462Z"
   },
   {
    "duration": 0,
    "start_time": "2022-05-08T22:14:58.654Z"
   },
   {
    "duration": 2359,
    "start_time": "2022-05-08T22:15:37.382Z"
   },
   {
    "duration": 42,
    "start_time": "2022-05-08T22:15:39.744Z"
   },
   {
    "duration": 45,
    "start_time": "2022-05-08T22:15:39.789Z"
   },
   {
    "duration": 11,
    "start_time": "2022-05-08T22:15:39.837Z"
   },
   {
    "duration": 22,
    "start_time": "2022-05-08T22:15:39.852Z"
   },
   {
    "duration": 10,
    "start_time": "2022-05-08T22:15:39.877Z"
   },
   {
    "duration": 38,
    "start_time": "2022-05-08T22:15:39.889Z"
   },
   {
    "duration": 13,
    "start_time": "2022-05-08T22:15:39.930Z"
   },
   {
    "duration": 9,
    "start_time": "2022-05-08T22:15:39.945Z"
   },
   {
    "duration": 11,
    "start_time": "2022-05-08T22:15:39.956Z"
   },
   {
    "duration": 14,
    "start_time": "2022-05-08T22:15:39.969Z"
   },
   {
    "duration": 16,
    "start_time": "2022-05-08T22:15:39.986Z"
   },
   {
    "duration": 33,
    "start_time": "2022-05-08T22:15:40.004Z"
   },
   {
    "duration": 7,
    "start_time": "2022-05-08T22:15:40.041Z"
   },
   {
    "duration": 22,
    "start_time": "2022-05-08T22:15:40.050Z"
   },
   {
    "duration": 520,
    "start_time": "2022-05-08T22:15:40.075Z"
   },
   {
    "duration": 9,
    "start_time": "2022-05-08T22:15:40.598Z"
   },
   {
    "duration": 439,
    "start_time": "2022-05-08T22:15:40.624Z"
   },
   {
    "duration": 8,
    "start_time": "2022-05-08T22:15:41.065Z"
   },
   {
    "duration": 424,
    "start_time": "2022-05-08T22:15:41.075Z"
   },
   {
    "duration": 23,
    "start_time": "2022-05-08T22:15:41.501Z"
   },
   {
    "duration": 198,
    "start_time": "2022-05-08T22:15:41.527Z"
   },
   {
    "duration": 14,
    "start_time": "2022-05-08T22:16:24.046Z"
   },
   {
    "duration": 12,
    "start_time": "2022-05-08T22:16:27.598Z"
   },
   {
    "duration": 14,
    "start_time": "2022-05-08T22:16:28.696Z"
   },
   {
    "duration": 2106,
    "start_time": "2022-05-08T22:18:08.131Z"
   },
   {
    "duration": 43,
    "start_time": "2022-05-08T22:18:10.240Z"
   },
   {
    "duration": 14,
    "start_time": "2022-05-08T22:18:10.286Z"
   },
   {
    "duration": 27,
    "start_time": "2022-05-08T22:18:10.302Z"
   },
   {
    "duration": 17,
    "start_time": "2022-05-08T22:18:10.333Z"
   },
   {
    "duration": 8,
    "start_time": "2022-05-08T22:18:10.352Z"
   },
   {
    "duration": 8,
    "start_time": "2022-05-08T22:18:10.363Z"
   },
   {
    "duration": 11,
    "start_time": "2022-05-08T22:18:10.373Z"
   },
   {
    "duration": 3,
    "start_time": "2022-05-08T22:18:10.424Z"
   },
   {
    "duration": 7,
    "start_time": "2022-05-08T22:18:10.430Z"
   },
   {
    "duration": 8,
    "start_time": "2022-05-08T22:18:10.439Z"
   },
   {
    "duration": 7,
    "start_time": "2022-05-08T22:18:10.449Z"
   },
   {
    "duration": 16,
    "start_time": "2022-05-08T22:18:10.458Z"
   },
   {
    "duration": 5,
    "start_time": "2022-05-08T22:18:10.478Z"
   },
   {
    "duration": 43,
    "start_time": "2022-05-08T22:18:10.485Z"
   },
   {
    "duration": 384,
    "start_time": "2022-05-08T22:18:10.530Z"
   },
   {
    "duration": 12,
    "start_time": "2022-05-08T22:18:10.916Z"
   },
   {
    "duration": 431,
    "start_time": "2022-05-08T22:18:10.930Z"
   },
   {
    "duration": 8,
    "start_time": "2022-05-08T22:18:11.363Z"
   },
   {
    "duration": 413,
    "start_time": "2022-05-08T22:18:11.373Z"
   },
   {
    "duration": 12,
    "start_time": "2022-05-08T22:18:11.789Z"
   },
   {
    "duration": 352,
    "start_time": "2022-05-08T22:18:11.803Z"
   },
   {
    "duration": 8,
    "start_time": "2022-05-08T22:26:00.660Z"
   },
   {
    "duration": 1077,
    "start_time": "2022-05-08T22:26:24.024Z"
   },
   {
    "duration": 6,
    "start_time": "2022-05-08T22:27:34.421Z"
   },
   {
    "duration": 434,
    "start_time": "2022-05-08T22:27:36.891Z"
   },
   {
    "duration": 5,
    "start_time": "2022-05-08T22:42:29.449Z"
   },
   {
    "duration": 5,
    "start_time": "2022-05-08T22:43:34.546Z"
   },
   {
    "duration": 184,
    "start_time": "2022-05-08T22:55:34.971Z"
   },
   {
    "duration": 181,
    "start_time": "2022-05-08T22:56:01.272Z"
   },
   {
    "duration": 227,
    "start_time": "2022-05-08T22:56:15.075Z"
   },
   {
    "duration": 226,
    "start_time": "2022-05-08T22:56:24.772Z"
   },
   {
    "duration": 470,
    "start_time": "2022-05-08T22:56:32.240Z"
   },
   {
    "duration": 231,
    "start_time": "2022-05-08T22:58:17.413Z"
   },
   {
    "duration": 452,
    "start_time": "2022-05-08T22:58:25.079Z"
   },
   {
    "duration": 231,
    "start_time": "2022-05-08T22:59:02.296Z"
   },
   {
    "duration": 238,
    "start_time": "2022-05-08T22:59:25.820Z"
   },
   {
    "duration": 6,
    "start_time": "2022-05-08T23:20:12.056Z"
   },
   {
    "duration": 47,
    "start_time": "2022-05-08T23:22:26.448Z"
   },
   {
    "duration": 39,
    "start_time": "2022-05-08T23:22:27.627Z"
   },
   {
    "duration": 7,
    "start_time": "2022-05-08T23:24:03.813Z"
   },
   {
    "duration": 34,
    "start_time": "2022-05-08T23:24:04.552Z"
   },
   {
    "duration": 35,
    "start_time": "2022-05-08T23:24:05.724Z"
   },
   {
    "duration": 33,
    "start_time": "2022-05-08T23:24:56.224Z"
   },
   {
    "duration": 9,
    "start_time": "2022-05-08T23:27:48.927Z"
   },
   {
    "duration": 6,
    "start_time": "2022-05-08T23:28:08.532Z"
   },
   {
    "duration": 7,
    "start_time": "2022-05-08T23:28:32.388Z"
   },
   {
    "duration": 6,
    "start_time": "2022-05-08T23:29:56.616Z"
   },
   {
    "duration": 5,
    "start_time": "2022-05-08T23:31:00.524Z"
   },
   {
    "duration": 28,
    "start_time": "2022-05-08T23:35:55.373Z"
   },
   {
    "duration": 2027,
    "start_time": "2022-05-08T23:36:27.138Z"
   },
   {
    "duration": 43,
    "start_time": "2022-05-08T23:36:29.167Z"
   },
   {
    "duration": 18,
    "start_time": "2022-05-08T23:36:29.213Z"
   },
   {
    "duration": 11,
    "start_time": "2022-05-08T23:36:29.234Z"
   },
   {
    "duration": 36,
    "start_time": "2022-05-08T23:36:29.247Z"
   },
   {
    "duration": 20,
    "start_time": "2022-05-08T23:36:29.286Z"
   },
   {
    "duration": 32,
    "start_time": "2022-05-08T23:36:29.308Z"
   },
   {
    "duration": 26,
    "start_time": "2022-05-08T23:36:29.343Z"
   },
   {
    "duration": 8,
    "start_time": "2022-05-08T23:36:29.371Z"
   },
   {
    "duration": 13,
    "start_time": "2022-05-08T23:36:29.383Z"
   },
   {
    "duration": 19,
    "start_time": "2022-05-08T23:36:29.398Z"
   },
   {
    "duration": 7,
    "start_time": "2022-05-08T23:36:29.419Z"
   },
   {
    "duration": 28,
    "start_time": "2022-05-08T23:36:29.428Z"
   },
   {
    "duration": 21,
    "start_time": "2022-05-08T23:36:29.459Z"
   },
   {
    "duration": 24,
    "start_time": "2022-05-08T23:36:29.482Z"
   },
   {
    "duration": 400,
    "start_time": "2022-05-08T23:36:29.508Z"
   },
   {
    "duration": 14,
    "start_time": "2022-05-08T23:36:29.910Z"
   },
   {
    "duration": 458,
    "start_time": "2022-05-08T23:36:29.927Z"
   },
   {
    "duration": 8,
    "start_time": "2022-05-08T23:36:30.387Z"
   },
   {
    "duration": 426,
    "start_time": "2022-05-08T23:36:30.398Z"
   },
   {
    "duration": 11,
    "start_time": "2022-05-08T23:36:30.827Z"
   },
   {
    "duration": 355,
    "start_time": "2022-05-08T23:36:30.840Z"
   },
   {
    "duration": 5,
    "start_time": "2022-05-08T23:36:31.198Z"
   },
   {
    "duration": 461,
    "start_time": "2022-05-08T23:36:31.206Z"
   },
   {
    "duration": 244,
    "start_time": "2022-05-08T23:36:31.669Z"
   },
   {
    "duration": 11,
    "start_time": "2022-05-08T23:36:31.915Z"
   },
   {
    "duration": 43,
    "start_time": "2022-05-08T23:36:31.929Z"
   },
   {
    "duration": 52,
    "start_time": "2022-05-08T23:36:31.976Z"
   },
   {
    "duration": 10,
    "start_time": "2022-05-08T23:36:32.030Z"
   },
   {
    "duration": 6,
    "start_time": "2022-05-08T23:36:32.042Z"
   },
   {
    "duration": 13,
    "start_time": "2022-05-08T23:36:32.050Z"
   },
   {
    "duration": 16,
    "start_time": "2022-05-08T23:36:32.065Z"
   },
   {
    "duration": 7,
    "start_time": "2022-05-08T23:36:32.084Z"
   },
   {
    "duration": 215,
    "start_time": "2022-05-08T23:36:32.093Z"
   },
   {
    "duration": 2128,
    "start_time": "2022-05-08T23:44:21.946Z"
   },
   {
    "duration": 47,
    "start_time": "2022-05-08T23:44:24.077Z"
   },
   {
    "duration": 14,
    "start_time": "2022-05-08T23:44:24.126Z"
   },
   {
    "duration": 11,
    "start_time": "2022-05-08T23:44:24.142Z"
   },
   {
    "duration": 16,
    "start_time": "2022-05-08T23:44:24.156Z"
   },
   {
    "duration": 7,
    "start_time": "2022-05-08T23:44:24.175Z"
   },
   {
    "duration": 45,
    "start_time": "2022-05-08T23:44:24.184Z"
   },
   {
    "duration": 13,
    "start_time": "2022-05-08T23:44:24.231Z"
   },
   {
    "duration": 8,
    "start_time": "2022-05-08T23:44:24.246Z"
   },
   {
    "duration": 7,
    "start_time": "2022-05-08T23:44:24.256Z"
   },
   {
    "duration": 7,
    "start_time": "2022-05-08T23:44:24.265Z"
   },
   {
    "duration": 8,
    "start_time": "2022-05-08T23:44:24.274Z"
   },
   {
    "duration": 41,
    "start_time": "2022-05-08T23:44:24.285Z"
   },
   {
    "duration": 6,
    "start_time": "2022-05-08T23:44:24.330Z"
   },
   {
    "duration": 14,
    "start_time": "2022-05-08T23:44:24.338Z"
   },
   {
    "duration": 396,
    "start_time": "2022-05-08T23:44:24.354Z"
   },
   {
    "duration": 8,
    "start_time": "2022-05-08T23:44:24.752Z"
   },
   {
    "duration": 440,
    "start_time": "2022-05-08T23:44:24.763Z"
   },
   {
    "duration": 13,
    "start_time": "2022-05-08T23:44:25.206Z"
   },
   {
    "duration": 415,
    "start_time": "2022-05-08T23:44:25.225Z"
   },
   {
    "duration": 11,
    "start_time": "2022-05-08T23:44:25.642Z"
   },
   {
    "duration": 343,
    "start_time": "2022-05-08T23:44:25.655Z"
   },
   {
    "duration": 5,
    "start_time": "2022-05-08T23:44:26.001Z"
   },
   {
    "duration": 448,
    "start_time": "2022-05-08T23:44:26.008Z"
   },
   {
    "duration": 249,
    "start_time": "2022-05-08T23:44:26.458Z"
   },
   {
    "duration": 6,
    "start_time": "2022-05-08T23:44:26.709Z"
   },
   {
    "duration": 32,
    "start_time": "2022-05-08T23:44:26.724Z"
   },
   {
    "duration": 34,
    "start_time": "2022-05-08T23:44:26.759Z"
   },
   {
    "duration": 42,
    "start_time": "2022-05-08T23:44:26.796Z"
   },
   {
    "duration": 7,
    "start_time": "2022-05-08T23:44:26.841Z"
   },
   {
    "duration": 9,
    "start_time": "2022-05-08T23:44:26.850Z"
   },
   {
    "duration": 14,
    "start_time": "2022-05-08T23:44:26.861Z"
   },
   {
    "duration": 14,
    "start_time": "2022-05-08T23:44:26.877Z"
   },
   {
    "duration": 31,
    "start_time": "2022-05-08T23:44:26.894Z"
   },
   {
    "duration": 102,
    "start_time": "2022-05-08T23:44:26.928Z"
   },
   {
    "duration": 118,
    "start_time": "2022-05-08T23:50:01.344Z"
   },
   {
    "duration": 15,
    "start_time": "2022-05-08T23:52:09.128Z"
   },
   {
    "duration": 2017,
    "start_time": "2022-05-08T23:52:18.728Z"
   },
   {
    "duration": 43,
    "start_time": "2022-05-08T23:52:20.747Z"
   },
   {
    "duration": 13,
    "start_time": "2022-05-08T23:52:20.793Z"
   },
   {
    "duration": 18,
    "start_time": "2022-05-08T23:52:20.808Z"
   },
   {
    "duration": 16,
    "start_time": "2022-05-08T23:52:20.828Z"
   },
   {
    "duration": 7,
    "start_time": "2022-05-08T23:52:20.847Z"
   },
   {
    "duration": 8,
    "start_time": "2022-05-08T23:52:20.856Z"
   },
   {
    "duration": 13,
    "start_time": "2022-05-08T23:52:20.866Z"
   },
   {
    "duration": 10,
    "start_time": "2022-05-08T23:52:20.881Z"
   },
   {
    "duration": 9,
    "start_time": "2022-05-08T23:52:20.927Z"
   },
   {
    "duration": 10,
    "start_time": "2022-05-08T23:52:20.938Z"
   },
   {
    "duration": 7,
    "start_time": "2022-05-08T23:52:20.950Z"
   },
   {
    "duration": 16,
    "start_time": "2022-05-08T23:52:20.959Z"
   },
   {
    "duration": 6,
    "start_time": "2022-05-08T23:52:20.977Z"
   },
   {
    "duration": 48,
    "start_time": "2022-05-08T23:52:20.985Z"
   },
   {
    "duration": 375,
    "start_time": "2022-05-08T23:52:21.035Z"
   },
   {
    "duration": 17,
    "start_time": "2022-05-08T23:52:21.412Z"
   },
   {
    "duration": 419,
    "start_time": "2022-05-08T23:52:21.431Z"
   },
   {
    "duration": 8,
    "start_time": "2022-05-08T23:52:21.852Z"
   },
   {
    "duration": 413,
    "start_time": "2022-05-08T23:52:21.862Z"
   },
   {
    "duration": 10,
    "start_time": "2022-05-08T23:52:22.277Z"
   },
   {
    "duration": 336,
    "start_time": "2022-05-08T23:52:22.289Z"
   },
   {
    "duration": 6,
    "start_time": "2022-05-08T23:52:22.627Z"
   },
   {
    "duration": 442,
    "start_time": "2022-05-08T23:52:22.635Z"
   },
   {
    "duration": 247,
    "start_time": "2022-05-08T23:52:23.080Z"
   },
   {
    "duration": 6,
    "start_time": "2022-05-08T23:52:23.329Z"
   },
   {
    "duration": 34,
    "start_time": "2022-05-08T23:52:23.337Z"
   },
   {
    "duration": 55,
    "start_time": "2022-05-08T23:52:23.376Z"
   },
   {
    "duration": 16,
    "start_time": "2022-05-08T23:52:23.433Z"
   },
   {
    "duration": 8,
    "start_time": "2022-05-08T23:52:23.452Z"
   },
   {
    "duration": 13,
    "start_time": "2022-05-08T23:52:23.462Z"
   },
   {
    "duration": 10,
    "start_time": "2022-05-08T23:52:23.478Z"
   },
   {
    "duration": 39,
    "start_time": "2022-05-08T23:52:23.490Z"
   },
   {
    "duration": 14,
    "start_time": "2022-05-08T23:52:23.532Z"
   },
   {
    "duration": 78,
    "start_time": "2022-05-08T23:52:23.548Z"
   },
   {
    "duration": 364,
    "start_time": "2022-05-08T23:52:23.629Z"
   },
   {
    "duration": 2067,
    "start_time": "2022-05-08T23:53:55.147Z"
   },
   {
    "duration": 42,
    "start_time": "2022-05-08T23:53:57.217Z"
   },
   {
    "duration": 14,
    "start_time": "2022-05-08T23:53:57.261Z"
   },
   {
    "duration": 9,
    "start_time": "2022-05-08T23:53:57.278Z"
   },
   {
    "duration": 37,
    "start_time": "2022-05-08T23:53:57.291Z"
   },
   {
    "duration": 8,
    "start_time": "2022-05-08T23:53:57.331Z"
   },
   {
    "duration": 8,
    "start_time": "2022-05-08T23:53:57.342Z"
   },
   {
    "duration": 9,
    "start_time": "2022-05-08T23:53:57.353Z"
   },
   {
    "duration": 4,
    "start_time": "2022-05-08T23:53:57.365Z"
   },
   {
    "duration": 53,
    "start_time": "2022-05-08T23:53:57.372Z"
   },
   {
    "duration": 9,
    "start_time": "2022-05-08T23:53:57.427Z"
   },
   {
    "duration": 7,
    "start_time": "2022-05-08T23:53:57.438Z"
   },
   {
    "duration": 15,
    "start_time": "2022-05-08T23:53:57.447Z"
   },
   {
    "duration": 4,
    "start_time": "2022-05-08T23:53:57.466Z"
   },
   {
    "duration": 22,
    "start_time": "2022-05-08T23:53:57.471Z"
   },
   {
    "duration": 424,
    "start_time": "2022-05-08T23:53:57.495Z"
   },
   {
    "duration": 8,
    "start_time": "2022-05-08T23:53:57.925Z"
   },
   {
    "duration": 439,
    "start_time": "2022-05-08T23:53:57.935Z"
   },
   {
    "duration": 8,
    "start_time": "2022-05-08T23:53:58.376Z"
   },
   {
    "duration": 418,
    "start_time": "2022-05-08T23:53:58.385Z"
   },
   {
    "duration": 20,
    "start_time": "2022-05-08T23:53:58.805Z"
   },
   {
    "duration": 339,
    "start_time": "2022-05-08T23:53:58.827Z"
   },
   {
    "duration": 6,
    "start_time": "2022-05-08T23:53:59.169Z"
   },
   {
    "duration": 459,
    "start_time": "2022-05-08T23:53:59.177Z"
   },
   {
    "duration": 251,
    "start_time": "2022-05-08T23:53:59.638Z"
   },
   {
    "duration": 7,
    "start_time": "2022-05-08T23:53:59.892Z"
   },
   {
    "duration": 54,
    "start_time": "2022-05-08T23:53:59.902Z"
   },
   {
    "duration": 35,
    "start_time": "2022-05-08T23:53:59.959Z"
   },
   {
    "duration": 39,
    "start_time": "2022-05-08T23:53:59.997Z"
   },
   {
    "duration": 10,
    "start_time": "2022-05-08T23:54:00.038Z"
   },
   {
    "duration": 12,
    "start_time": "2022-05-08T23:54:00.051Z"
   },
   {
    "duration": 21,
    "start_time": "2022-05-08T23:54:00.066Z"
   },
   {
    "duration": 35,
    "start_time": "2022-05-08T23:54:00.089Z"
   },
   {
    "duration": 12,
    "start_time": "2022-05-08T23:54:00.127Z"
   },
   {
    "duration": 183,
    "start_time": "2022-05-08T23:54:00.141Z"
   },
   {
    "duration": 191,
    "start_time": "2022-05-08T23:54:00.327Z"
   },
   {
    "duration": 2130,
    "start_time": "2022-05-08T23:54:57.675Z"
   },
   {
    "duration": 43,
    "start_time": "2022-05-08T23:54:59.808Z"
   },
   {
    "duration": 14,
    "start_time": "2022-05-08T23:54:59.853Z"
   },
   {
    "duration": 10,
    "start_time": "2022-05-08T23:54:59.869Z"
   },
   {
    "duration": 42,
    "start_time": "2022-05-08T23:54:59.882Z"
   },
   {
    "duration": 8,
    "start_time": "2022-05-08T23:54:59.927Z"
   },
   {
    "duration": 10,
    "start_time": "2022-05-08T23:54:59.937Z"
   },
   {
    "duration": 8,
    "start_time": "2022-05-08T23:54:59.949Z"
   },
   {
    "duration": 3,
    "start_time": "2022-05-08T23:54:59.959Z"
   },
   {
    "duration": 5,
    "start_time": "2022-05-08T23:54:59.965Z"
   },
   {
    "duration": 5,
    "start_time": "2022-05-08T23:54:59.972Z"
   },
   {
    "duration": 47,
    "start_time": "2022-05-08T23:54:59.980Z"
   },
   {
    "duration": 20,
    "start_time": "2022-05-08T23:55:00.030Z"
   },
   {
    "duration": 4,
    "start_time": "2022-05-08T23:55:00.054Z"
   },
   {
    "duration": 14,
    "start_time": "2022-05-08T23:55:00.060Z"
   },
   {
    "duration": 426,
    "start_time": "2022-05-08T23:55:00.076Z"
   },
   {
    "duration": 19,
    "start_time": "2022-05-08T23:55:00.505Z"
   },
   {
    "duration": 443,
    "start_time": "2022-05-08T23:55:00.527Z"
   },
   {
    "duration": 8,
    "start_time": "2022-05-08T23:55:00.972Z"
   },
   {
    "duration": 428,
    "start_time": "2022-05-08T23:55:00.982Z"
   },
   {
    "duration": 20,
    "start_time": "2022-05-08T23:55:01.412Z"
   },
   {
    "duration": 346,
    "start_time": "2022-05-08T23:55:01.435Z"
   },
   {
    "duration": 6,
    "start_time": "2022-05-08T23:55:01.784Z"
   },
   {
    "duration": 463,
    "start_time": "2022-05-08T23:55:01.792Z"
   },
   {
    "duration": 257,
    "start_time": "2022-05-08T23:55:02.257Z"
   },
   {
    "duration": 10,
    "start_time": "2022-05-08T23:55:02.516Z"
   },
   {
    "duration": 35,
    "start_time": "2022-05-08T23:55:02.529Z"
   },
   {
    "duration": 59,
    "start_time": "2022-05-08T23:55:02.566Z"
   },
   {
    "duration": 15,
    "start_time": "2022-05-08T23:55:02.627Z"
   },
   {
    "duration": 7,
    "start_time": "2022-05-08T23:55:02.644Z"
   },
   {
    "duration": 11,
    "start_time": "2022-05-08T23:55:02.653Z"
   },
   {
    "duration": 13,
    "start_time": "2022-05-08T23:55:02.666Z"
   },
   {
    "duration": 17,
    "start_time": "2022-05-08T23:55:02.682Z"
   },
   {
    "duration": 4,
    "start_time": "2022-05-08T23:55:02.726Z"
   },
   {
    "duration": 94,
    "start_time": "2022-05-08T23:55:02.732Z"
   },
   {
    "duration": 20698,
    "start_time": "2022-05-08T23:55:02.829Z"
   },
   {
    "duration": 42410,
    "start_time": "2022-05-08T23:56:01.001Z"
   },
   {
    "duration": 2551,
    "start_time": "2022-05-09T00:03:18.757Z"
   },
   {
    "duration": 5,
    "start_time": "2022-05-09T00:07:22.420Z"
   },
   {
    "duration": 1514,
    "start_time": "2022-05-09T00:07:37.120Z"
   },
   {
    "duration": 6,
    "start_time": "2022-05-09T00:08:50.514Z"
   },
   {
    "duration": 6,
    "start_time": "2022-05-09T00:09:55.974Z"
   },
   {
    "duration": 7,
    "start_time": "2022-05-09T00:10:57.459Z"
   },
   {
    "duration": 2194,
    "start_time": "2022-05-09T00:16:22.476Z"
   },
   {
    "duration": 44,
    "start_time": "2022-05-09T00:16:24.673Z"
   },
   {
    "duration": 17,
    "start_time": "2022-05-09T00:16:24.719Z"
   },
   {
    "duration": 11,
    "start_time": "2022-05-09T00:16:24.739Z"
   },
   {
    "duration": 16,
    "start_time": "2022-05-09T00:16:24.754Z"
   },
   {
    "duration": 52,
    "start_time": "2022-05-09T00:16:24.773Z"
   },
   {
    "duration": 7,
    "start_time": "2022-05-09T00:16:24.828Z"
   },
   {
    "duration": 11,
    "start_time": "2022-05-09T00:16:24.838Z"
   },
   {
    "duration": 3,
    "start_time": "2022-05-09T00:16:24.852Z"
   },
   {
    "duration": 7,
    "start_time": "2022-05-09T00:16:24.858Z"
   },
   {
    "duration": 7,
    "start_time": "2022-05-09T00:16:24.867Z"
   },
   {
    "duration": 52,
    "start_time": "2022-05-09T00:16:24.876Z"
   },
   {
    "duration": 19,
    "start_time": "2022-05-09T00:16:24.931Z"
   },
   {
    "duration": 6,
    "start_time": "2022-05-09T00:16:24.955Z"
   },
   {
    "duration": 15,
    "start_time": "2022-05-09T00:16:24.964Z"
   },
   {
    "duration": 428,
    "start_time": "2022-05-09T00:16:24.981Z"
   },
   {
    "duration": 16,
    "start_time": "2022-05-09T00:16:25.411Z"
   },
   {
    "duration": 451,
    "start_time": "2022-05-09T00:16:25.429Z"
   },
   {
    "duration": 9,
    "start_time": "2022-05-09T00:16:25.882Z"
   },
   {
    "duration": 430,
    "start_time": "2022-05-09T00:16:25.894Z"
   },
   {
    "duration": 13,
    "start_time": "2022-05-09T00:16:26.327Z"
   },
   {
    "duration": 358,
    "start_time": "2022-05-09T00:16:26.342Z"
   },
   {
    "duration": 7,
    "start_time": "2022-05-09T00:16:26.703Z"
   },
   {
    "duration": 469,
    "start_time": "2022-05-09T00:16:26.725Z"
   },
   {
    "duration": 261,
    "start_time": "2022-05-09T00:16:27.197Z"
   },
   {
    "duration": 6,
    "start_time": "2022-05-09T00:16:27.460Z"
   },
   {
    "duration": 39,
    "start_time": "2022-05-09T00:16:27.468Z"
   },
   {
    "duration": 34,
    "start_time": "2022-05-09T00:16:27.524Z"
   },
   {
    "duration": 14,
    "start_time": "2022-05-09T00:16:27.560Z"
   },
   {
    "duration": 6,
    "start_time": "2022-05-09T00:16:27.576Z"
   },
   {
    "duration": 9,
    "start_time": "2022-05-09T00:16:27.584Z"
   },
   {
    "duration": 7,
    "start_time": "2022-05-09T00:16:27.625Z"
   },
   {
    "duration": 8,
    "start_time": "2022-05-09T00:16:27.634Z"
   },
   {
    "duration": 8,
    "start_time": "2022-05-09T00:16:27.644Z"
   },
   {
    "duration": 78,
    "start_time": "2022-05-09T00:16:27.654Z"
   },
   {
    "duration": 21734,
    "start_time": "2022-05-09T00:16:27.826Z"
   },
   {
    "duration": 43402,
    "start_time": "2022-05-09T00:16:49.562Z"
   },
   {
    "duration": 2330,
    "start_time": "2022-05-09T00:17:32.967Z"
   },
   {
    "duration": 4,
    "start_time": "2022-05-09T00:17:35.299Z"
   },
   {
    "duration": 1524,
    "start_time": "2022-05-09T00:17:35.305Z"
   },
   {
    "duration": 7,
    "start_time": "2022-05-09T00:17:36.835Z"
   },
   {
    "duration": 19,
    "start_time": "2022-05-09T00:17:36.844Z"
   },
   {
    "duration": 7,
    "start_time": "2022-05-09T00:17:36.865Z"
   },
   {
    "duration": 127,
    "start_time": "2022-05-09T11:38:11.940Z"
   },
   {
    "duration": 5,
    "start_time": "2022-05-09T11:57:42.088Z"
   },
   {
    "duration": 1680,
    "start_time": "2022-05-09T12:01:47.621Z"
   },
   {
    "duration": 30,
    "start_time": "2022-05-09T12:01:49.303Z"
   },
   {
    "duration": 10,
    "start_time": "2022-05-09T12:01:49.335Z"
   },
   {
    "duration": 6,
    "start_time": "2022-05-09T12:01:49.347Z"
   },
   {
    "duration": 12,
    "start_time": "2022-05-09T12:01:49.355Z"
   },
   {
    "duration": 4,
    "start_time": "2022-05-09T12:01:49.369Z"
   },
   {
    "duration": 5,
    "start_time": "2022-05-09T12:01:49.375Z"
   },
   {
    "duration": 5,
    "start_time": "2022-05-09T12:01:49.382Z"
   },
   {
    "duration": 5,
    "start_time": "2022-05-09T12:01:49.388Z"
   },
   {
    "duration": 30,
    "start_time": "2022-05-09T12:01:49.395Z"
   },
   {
    "duration": 7,
    "start_time": "2022-05-09T12:01:49.427Z"
   },
   {
    "duration": 11,
    "start_time": "2022-05-09T12:01:49.436Z"
   },
   {
    "duration": 5,
    "start_time": "2022-05-09T12:01:49.449Z"
   },
   {
    "duration": 9,
    "start_time": "2022-05-09T12:01:49.458Z"
   },
   {
    "duration": 270,
    "start_time": "2022-05-09T12:01:49.468Z"
   },
   {
    "duration": 8,
    "start_time": "2022-05-09T12:01:49.739Z"
   },
   {
    "duration": 294,
    "start_time": "2022-05-09T12:01:49.748Z"
   },
   {
    "duration": 7,
    "start_time": "2022-05-09T12:01:50.044Z"
   },
   {
    "duration": 266,
    "start_time": "2022-05-09T12:01:50.053Z"
   },
   {
    "duration": 7,
    "start_time": "2022-05-09T12:01:50.323Z"
   },
   {
    "duration": 218,
    "start_time": "2022-05-09T12:01:50.332Z"
   },
   {
    "duration": 6,
    "start_time": "2022-05-09T12:01:50.551Z"
   },
   {
    "duration": 288,
    "start_time": "2022-05-09T12:01:50.559Z"
   },
   {
    "duration": 152,
    "start_time": "2022-05-09T12:01:50.848Z"
   },
   {
    "duration": 3,
    "start_time": "2022-05-09T12:01:51.002Z"
   },
   {
    "duration": 18,
    "start_time": "2022-05-09T12:01:51.006Z"
   },
   {
    "duration": 24,
    "start_time": "2022-05-09T12:01:51.026Z"
   },
   {
    "duration": 22,
    "start_time": "2022-05-09T12:01:51.052Z"
   },
   {
    "duration": 9,
    "start_time": "2022-05-09T12:01:51.075Z"
   },
   {
    "duration": 4,
    "start_time": "2022-05-09T12:01:51.086Z"
   },
   {
    "duration": 6,
    "start_time": "2022-05-09T12:01:51.092Z"
   },
   {
    "duration": 5,
    "start_time": "2022-05-09T12:01:51.123Z"
   },
   {
    "duration": 13,
    "start_time": "2022-05-09T12:01:51.131Z"
   },
   {
    "duration": 4,
    "start_time": "2022-05-09T12:01:51.146Z"
   },
   {
    "duration": 79,
    "start_time": "2022-05-09T12:01:51.152Z"
   },
   {
    "duration": 18133,
    "start_time": "2022-05-09T12:01:51.233Z"
   },
   {
    "duration": 34049,
    "start_time": "2022-05-09T12:02:09.368Z"
   },
   {
    "duration": 1951,
    "start_time": "2022-05-09T12:02:43.419Z"
   },
   {
    "duration": 3,
    "start_time": "2022-05-09T12:02:45.372Z"
   },
   {
    "duration": 70747,
    "start_time": "2022-05-09T12:02:45.377Z"
   },
   {
    "duration": 4,
    "start_time": "2022-05-09T12:03:56.128Z"
   },
   {
    "duration": 5,
    "start_time": "2022-05-09T12:03:56.134Z"
   },
   {
    "duration": 6,
    "start_time": "2022-05-09T12:03:56.141Z"
   },
   {
    "duration": 6,
    "start_time": "2022-05-09T12:03:56.150Z"
   },
   {
    "duration": 1632,
    "start_time": "2022-05-09T12:04:41.072Z"
   },
   {
    "duration": 32,
    "start_time": "2022-05-09T12:04:42.706Z"
   },
   {
    "duration": 10,
    "start_time": "2022-05-09T12:04:42.739Z"
   },
   {
    "duration": 8,
    "start_time": "2022-05-09T12:04:42.751Z"
   },
   {
    "duration": 16,
    "start_time": "2022-05-09T12:04:42.760Z"
   },
   {
    "duration": 10,
    "start_time": "2022-05-09T12:04:42.777Z"
   },
   {
    "duration": 7,
    "start_time": "2022-05-09T12:04:42.789Z"
   },
   {
    "duration": 8,
    "start_time": "2022-05-09T12:04:42.798Z"
   },
   {
    "duration": 20,
    "start_time": "2022-05-09T12:04:42.808Z"
   },
   {
    "duration": 11,
    "start_time": "2022-05-09T12:04:42.831Z"
   },
   {
    "duration": 8,
    "start_time": "2022-05-09T12:04:42.844Z"
   },
   {
    "duration": 14,
    "start_time": "2022-05-09T12:04:42.854Z"
   },
   {
    "duration": 8,
    "start_time": "2022-05-09T12:04:42.870Z"
   },
   {
    "duration": 13,
    "start_time": "2022-05-09T12:04:42.879Z"
   },
   {
    "duration": 228,
    "start_time": "2022-05-09T12:04:42.894Z"
   },
   {
    "duration": 6,
    "start_time": "2022-05-09T12:04:43.124Z"
   },
   {
    "duration": 272,
    "start_time": "2022-05-09T12:04:43.131Z"
   },
   {
    "duration": 6,
    "start_time": "2022-05-09T12:04:43.405Z"
   },
   {
    "duration": 284,
    "start_time": "2022-05-09T12:04:43.412Z"
   },
   {
    "duration": 9,
    "start_time": "2022-05-09T12:04:43.698Z"
   },
   {
    "duration": 217,
    "start_time": "2022-05-09T12:04:43.709Z"
   },
   {
    "duration": 5,
    "start_time": "2022-05-09T12:04:43.928Z"
   },
   {
    "duration": 349,
    "start_time": "2022-05-09T12:04:43.935Z"
   },
   {
    "duration": 149,
    "start_time": "2022-05-09T12:04:44.286Z"
   },
   {
    "duration": 2,
    "start_time": "2022-05-09T12:04:44.437Z"
   },
   {
    "duration": 11,
    "start_time": "2022-05-09T12:04:44.441Z"
   },
   {
    "duration": 26,
    "start_time": "2022-05-09T12:04:44.454Z"
   },
   {
    "duration": 24,
    "start_time": "2022-05-09T12:04:44.485Z"
   },
   {
    "duration": 11,
    "start_time": "2022-05-09T12:04:44.523Z"
   },
   {
    "duration": 5,
    "start_time": "2022-05-09T12:04:44.536Z"
   },
   {
    "duration": 16,
    "start_time": "2022-05-09T12:04:44.543Z"
   },
   {
    "duration": 12,
    "start_time": "2022-05-09T12:04:44.561Z"
   },
   {
    "duration": 16,
    "start_time": "2022-05-09T12:04:44.575Z"
   },
   {
    "duration": 10,
    "start_time": "2022-05-09T12:04:44.593Z"
   },
   {
    "duration": 121,
    "start_time": "2022-05-09T12:04:44.605Z"
   },
   {
    "duration": 17447,
    "start_time": "2022-05-09T12:04:44.728Z"
   },
   {
    "duration": 35348,
    "start_time": "2022-05-09T12:05:02.177Z"
   },
   {
    "duration": 1755,
    "start_time": "2022-05-09T12:05:37.526Z"
   },
   {
    "duration": 3,
    "start_time": "2022-05-09T12:05:39.282Z"
   },
   {
    "duration": 944,
    "start_time": "2022-05-09T12:05:39.286Z"
   },
   {
    "duration": 4,
    "start_time": "2022-05-09T12:05:40.231Z"
   },
   {
    "duration": 7,
    "start_time": "2022-05-09T12:05:40.237Z"
   },
   {
    "duration": 7,
    "start_time": "2022-05-09T12:05:40.245Z"
   },
   {
    "duration": 610,
    "start_time": "2022-05-09T12:16:26.494Z"
   },
   {
    "duration": 247,
    "start_time": "2022-05-09T12:17:33.114Z"
   },
   {
    "duration": 226,
    "start_time": "2022-05-09T12:18:11.529Z"
   },
   {
    "duration": 335,
    "start_time": "2022-05-09T12:18:45.473Z"
   },
   {
    "duration": 237,
    "start_time": "2022-05-09T12:25:24.720Z"
   },
   {
    "duration": 223,
    "start_time": "2022-05-09T12:25:49.015Z"
   },
   {
    "duration": 154,
    "start_time": "2022-05-09T12:27:33.500Z"
   },
   {
    "duration": 228,
    "start_time": "2022-05-09T12:27:55.147Z"
   },
   {
    "duration": 10,
    "start_time": "2022-05-09T13:00:19.474Z"
   },
   {
    "duration": 4,
    "start_time": "2022-05-09T13:00:29.249Z"
   },
   {
    "duration": 164,
    "start_time": "2022-05-09T13:00:33.073Z"
   },
   {
    "duration": 1530,
    "start_time": "2022-05-09T13:03:33.248Z"
   },
   {
    "duration": 31,
    "start_time": "2022-05-09T13:03:34.780Z"
   },
   {
    "duration": 11,
    "start_time": "2022-05-09T13:03:34.813Z"
   },
   {
    "duration": 7,
    "start_time": "2022-05-09T13:03:34.826Z"
   },
   {
    "duration": 11,
    "start_time": "2022-05-09T13:03:34.836Z"
   },
   {
    "duration": 6,
    "start_time": "2022-05-09T13:03:34.848Z"
   },
   {
    "duration": 9,
    "start_time": "2022-05-09T13:03:34.856Z"
   },
   {
    "duration": 7,
    "start_time": "2022-05-09T13:03:34.867Z"
   },
   {
    "duration": 4,
    "start_time": "2022-05-09T13:03:34.876Z"
   },
   {
    "duration": 5,
    "start_time": "2022-05-09T13:03:34.882Z"
   },
   {
    "duration": 4,
    "start_time": "2022-05-09T13:03:34.924Z"
   },
   {
    "duration": 12,
    "start_time": "2022-05-09T13:03:34.929Z"
   },
   {
    "duration": 7,
    "start_time": "2022-05-09T13:03:34.942Z"
   },
   {
    "duration": 8,
    "start_time": "2022-05-09T13:03:34.952Z"
   },
   {
    "duration": 253,
    "start_time": "2022-05-09T13:03:34.962Z"
   },
   {
    "duration": 10,
    "start_time": "2022-05-09T13:03:35.216Z"
   },
   {
    "duration": 386,
    "start_time": "2022-05-09T13:03:35.228Z"
   },
   {
    "duration": 7,
    "start_time": "2022-05-09T13:03:35.616Z"
   },
   {
    "duration": 364,
    "start_time": "2022-05-09T13:03:35.625Z"
   },
   {
    "duration": 10,
    "start_time": "2022-05-09T13:03:35.991Z"
   },
   {
    "duration": 247,
    "start_time": "2022-05-09T13:03:36.002Z"
   },
   {
    "duration": 6,
    "start_time": "2022-05-09T13:03:36.251Z"
   },
   {
    "duration": 425,
    "start_time": "2022-05-09T13:03:36.259Z"
   },
   {
    "duration": 218,
    "start_time": "2022-05-09T13:03:36.687Z"
   },
   {
    "duration": 4,
    "start_time": "2022-05-09T13:03:36.907Z"
   },
   {
    "duration": 14,
    "start_time": "2022-05-09T13:03:36.913Z"
   },
   {
    "duration": 32,
    "start_time": "2022-05-09T13:03:36.929Z"
   },
   {
    "duration": 32,
    "start_time": "2022-05-09T13:03:36.963Z"
   },
   {
    "duration": 29,
    "start_time": "2022-05-09T13:03:36.997Z"
   },
   {
    "duration": 5,
    "start_time": "2022-05-09T13:03:37.028Z"
   },
   {
    "duration": 9,
    "start_time": "2022-05-09T13:03:37.035Z"
   },
   {
    "duration": 10,
    "start_time": "2022-05-09T13:03:37.045Z"
   },
   {
    "duration": 6,
    "start_time": "2022-05-09T13:03:37.057Z"
   },
   {
    "duration": 7,
    "start_time": "2022-05-09T13:03:37.065Z"
   },
   {
    "duration": 258,
    "start_time": "2022-05-09T13:03:37.074Z"
   },
   {
    "duration": 19516,
    "start_time": "2022-05-09T13:03:37.334Z"
   },
   {
    "duration": 40468,
    "start_time": "2022-05-09T13:03:56.852Z"
   },
   {
    "duration": 2178,
    "start_time": "2022-05-09T13:04:37.322Z"
   },
   {
    "duration": 3,
    "start_time": "2022-05-09T13:04:39.502Z"
   },
   {
    "duration": 188621,
    "start_time": "2022-05-09T13:04:39.507Z"
   },
   {
    "duration": 6,
    "start_time": "2022-05-09T13:07:48.134Z"
   },
   {
    "duration": 20,
    "start_time": "2022-05-09T13:07:48.141Z"
   },
   {
    "duration": 28,
    "start_time": "2022-05-09T13:07:48.163Z"
   },
   {
    "duration": 19,
    "start_time": "2022-05-09T13:07:48.193Z"
   },
   {
    "duration": 342,
    "start_time": "2022-05-09T13:07:48.214Z"
   },
   {
    "duration": 169,
    "start_time": "2022-05-09T13:09:40.741Z"
   },
   {
    "duration": 7,
    "start_time": "2022-05-09T13:13:22.331Z"
   },
   {
    "duration": 9,
    "start_time": "2022-05-09T13:13:23.984Z"
   },
   {
    "duration": 144,
    "start_time": "2022-05-09T13:13:42.672Z"
   },
   {
    "duration": 348,
    "start_time": "2022-05-09T13:14:26.688Z"
   },
   {
    "duration": 246,
    "start_time": "2022-05-09T13:15:45.422Z"
   }
  ],
  "kernelspec": {
   "display_name": "Python 3",
   "language": "python",
   "name": "python3"
  },
  "language_info": {
   "codemirror_mode": {
    "name": "ipython",
    "version": 3
   },
   "file_extension": ".py",
   "mimetype": "text/x-python",
   "name": "python",
   "nbconvert_exporter": "python",
   "pygments_lexer": "ipython3",
   "version": "3.8.5"
  },
  "toc": {
   "base_numbering": 1,
   "nav_menu": {},
   "number_sections": true,
   "sideBar": true,
   "skip_h1_title": true,
   "title_cell": "Содержание",
   "title_sidebar": "Contents",
   "toc_cell": true,
   "toc_position": {
    "height": "calc(100% - 180px)",
    "left": "10px",
    "top": "150px",
    "width": "358.917px"
   },
   "toc_section_display": true,
   "toc_window_display": true
  }
 },
 "nbformat": 4,
 "nbformat_minor": 2
}
