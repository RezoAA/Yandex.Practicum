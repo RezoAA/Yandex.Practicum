{
 "cells": [
  {
   "cell_type": "markdown",
   "metadata": {},
   "source": [
    "# Исследование надёжности заёмщиков\n",
    "\n",
    "Заказчик — кредитный отдел банка. Нужно разобраться, влияет ли семейное положение и количество детей клиента на факт погашения кредита в срок. Входные данные от банка — статистика о платёжеспособности клиентов.\n",
    "\n",
    "Результаты исследования будут учтены при построении модели **кредитного скоринга** — специальной системы, которая оценивает способность потенциального заёмщика вернуть кредит банку."
   ]
  },
  {
   "cell_type": "markdown",
   "metadata": {},
   "source": [
    "## Шаг 1. Откройте файл с данными и изучите общую информацию"
   ]
  },
  {
   "cell_type": "code",
   "execution_count": 1,
   "metadata": {},
   "outputs": [],
   "source": [
    "import pandas as pd\n",
    "df = pd.read_csv('/datasets/data.csv')"
   ]
  },
  {
   "cell_type": "code",
   "execution_count": 2,
   "metadata": {},
   "outputs": [
    {
     "data": {
      "text/html": [
       "<div>\n",
       "<style scoped>\n",
       "    .dataframe tbody tr th:only-of-type {\n",
       "        vertical-align: middle;\n",
       "    }\n",
       "\n",
       "    .dataframe tbody tr th {\n",
       "        vertical-align: top;\n",
       "    }\n",
       "\n",
       "    .dataframe thead th {\n",
       "        text-align: right;\n",
       "    }\n",
       "</style>\n",
       "<table border=\"1\" class=\"dataframe\">\n",
       "  <thead>\n",
       "    <tr style=\"text-align: right;\">\n",
       "      <th></th>\n",
       "      <th>children</th>\n",
       "      <th>days_employed</th>\n",
       "      <th>dob_years</th>\n",
       "      <th>education</th>\n",
       "      <th>education_id</th>\n",
       "      <th>family_status</th>\n",
       "      <th>family_status_id</th>\n",
       "      <th>gender</th>\n",
       "      <th>income_type</th>\n",
       "      <th>debt</th>\n",
       "      <th>total_income</th>\n",
       "      <th>purpose</th>\n",
       "    </tr>\n",
       "  </thead>\n",
       "  <tbody>\n",
       "    <tr>\n",
       "      <td>0</td>\n",
       "      <td>1</td>\n",
       "      <td>-8437.673028</td>\n",
       "      <td>42</td>\n",
       "      <td>высшее</td>\n",
       "      <td>0</td>\n",
       "      <td>женат / замужем</td>\n",
       "      <td>0</td>\n",
       "      <td>F</td>\n",
       "      <td>сотрудник</td>\n",
       "      <td>0</td>\n",
       "      <td>253875.639453</td>\n",
       "      <td>покупка жилья</td>\n",
       "    </tr>\n",
       "    <tr>\n",
       "      <td>1</td>\n",
       "      <td>1</td>\n",
       "      <td>-4024.803754</td>\n",
       "      <td>36</td>\n",
       "      <td>среднее</td>\n",
       "      <td>1</td>\n",
       "      <td>женат / замужем</td>\n",
       "      <td>0</td>\n",
       "      <td>F</td>\n",
       "      <td>сотрудник</td>\n",
       "      <td>0</td>\n",
       "      <td>112080.014102</td>\n",
       "      <td>приобретение автомобиля</td>\n",
       "    </tr>\n",
       "    <tr>\n",
       "      <td>2</td>\n",
       "      <td>0</td>\n",
       "      <td>-5623.422610</td>\n",
       "      <td>33</td>\n",
       "      <td>Среднее</td>\n",
       "      <td>1</td>\n",
       "      <td>женат / замужем</td>\n",
       "      <td>0</td>\n",
       "      <td>M</td>\n",
       "      <td>сотрудник</td>\n",
       "      <td>0</td>\n",
       "      <td>145885.952297</td>\n",
       "      <td>покупка жилья</td>\n",
       "    </tr>\n",
       "    <tr>\n",
       "      <td>3</td>\n",
       "      <td>3</td>\n",
       "      <td>-4124.747207</td>\n",
       "      <td>32</td>\n",
       "      <td>среднее</td>\n",
       "      <td>1</td>\n",
       "      <td>женат / замужем</td>\n",
       "      <td>0</td>\n",
       "      <td>M</td>\n",
       "      <td>сотрудник</td>\n",
       "      <td>0</td>\n",
       "      <td>267628.550329</td>\n",
       "      <td>дополнительное образование</td>\n",
       "    </tr>\n",
       "    <tr>\n",
       "      <td>4</td>\n",
       "      <td>0</td>\n",
       "      <td>340266.072047</td>\n",
       "      <td>53</td>\n",
       "      <td>среднее</td>\n",
       "      <td>1</td>\n",
       "      <td>гражданский брак</td>\n",
       "      <td>1</td>\n",
       "      <td>F</td>\n",
       "      <td>пенсионер</td>\n",
       "      <td>0</td>\n",
       "      <td>158616.077870</td>\n",
       "      <td>сыграть свадьбу</td>\n",
       "    </tr>\n",
       "    <tr>\n",
       "      <td>5</td>\n",
       "      <td>0</td>\n",
       "      <td>-926.185831</td>\n",
       "      <td>27</td>\n",
       "      <td>высшее</td>\n",
       "      <td>0</td>\n",
       "      <td>гражданский брак</td>\n",
       "      <td>1</td>\n",
       "      <td>M</td>\n",
       "      <td>компаньон</td>\n",
       "      <td>0</td>\n",
       "      <td>255763.565419</td>\n",
       "      <td>покупка жилья</td>\n",
       "    </tr>\n",
       "    <tr>\n",
       "      <td>6</td>\n",
       "      <td>0</td>\n",
       "      <td>-2879.202052</td>\n",
       "      <td>43</td>\n",
       "      <td>высшее</td>\n",
       "      <td>0</td>\n",
       "      <td>женат / замужем</td>\n",
       "      <td>0</td>\n",
       "      <td>F</td>\n",
       "      <td>компаньон</td>\n",
       "      <td>0</td>\n",
       "      <td>240525.971920</td>\n",
       "      <td>операции с жильем</td>\n",
       "    </tr>\n",
       "    <tr>\n",
       "      <td>7</td>\n",
       "      <td>0</td>\n",
       "      <td>-152.779569</td>\n",
       "      <td>50</td>\n",
       "      <td>СРЕДНЕЕ</td>\n",
       "      <td>1</td>\n",
       "      <td>женат / замужем</td>\n",
       "      <td>0</td>\n",
       "      <td>M</td>\n",
       "      <td>сотрудник</td>\n",
       "      <td>0</td>\n",
       "      <td>135823.934197</td>\n",
       "      <td>образование</td>\n",
       "    </tr>\n",
       "    <tr>\n",
       "      <td>8</td>\n",
       "      <td>2</td>\n",
       "      <td>-6929.865299</td>\n",
       "      <td>35</td>\n",
       "      <td>ВЫСШЕЕ</td>\n",
       "      <td>0</td>\n",
       "      <td>гражданский брак</td>\n",
       "      <td>1</td>\n",
       "      <td>F</td>\n",
       "      <td>сотрудник</td>\n",
       "      <td>0</td>\n",
       "      <td>95856.832424</td>\n",
       "      <td>на проведение свадьбы</td>\n",
       "    </tr>\n",
       "    <tr>\n",
       "      <td>9</td>\n",
       "      <td>0</td>\n",
       "      <td>-2188.756445</td>\n",
       "      <td>41</td>\n",
       "      <td>среднее</td>\n",
       "      <td>1</td>\n",
       "      <td>женат / замужем</td>\n",
       "      <td>0</td>\n",
       "      <td>M</td>\n",
       "      <td>сотрудник</td>\n",
       "      <td>0</td>\n",
       "      <td>144425.938277</td>\n",
       "      <td>покупка жилья для семьи</td>\n",
       "    </tr>\n",
       "    <tr>\n",
       "      <td>10</td>\n",
       "      <td>2</td>\n",
       "      <td>-4171.483647</td>\n",
       "      <td>36</td>\n",
       "      <td>высшее</td>\n",
       "      <td>0</td>\n",
       "      <td>женат / замужем</td>\n",
       "      <td>0</td>\n",
       "      <td>M</td>\n",
       "      <td>компаньон</td>\n",
       "      <td>0</td>\n",
       "      <td>113943.491460</td>\n",
       "      <td>покупка недвижимости</td>\n",
       "    </tr>\n",
       "    <tr>\n",
       "      <td>11</td>\n",
       "      <td>0</td>\n",
       "      <td>-792.701887</td>\n",
       "      <td>40</td>\n",
       "      <td>среднее</td>\n",
       "      <td>1</td>\n",
       "      <td>женат / замужем</td>\n",
       "      <td>0</td>\n",
       "      <td>F</td>\n",
       "      <td>сотрудник</td>\n",
       "      <td>0</td>\n",
       "      <td>77069.234271</td>\n",
       "      <td>покупка коммерческой недвижимости</td>\n",
       "    </tr>\n",
       "    <tr>\n",
       "      <td>12</td>\n",
       "      <td>0</td>\n",
       "      <td>NaN</td>\n",
       "      <td>65</td>\n",
       "      <td>среднее</td>\n",
       "      <td>1</td>\n",
       "      <td>гражданский брак</td>\n",
       "      <td>1</td>\n",
       "      <td>M</td>\n",
       "      <td>пенсионер</td>\n",
       "      <td>0</td>\n",
       "      <td>NaN</td>\n",
       "      <td>сыграть свадьбу</td>\n",
       "    </tr>\n",
       "    <tr>\n",
       "      <td>13</td>\n",
       "      <td>0</td>\n",
       "      <td>-1846.641941</td>\n",
       "      <td>54</td>\n",
       "      <td>неоконченное высшее</td>\n",
       "      <td>2</td>\n",
       "      <td>женат / замужем</td>\n",
       "      <td>0</td>\n",
       "      <td>F</td>\n",
       "      <td>сотрудник</td>\n",
       "      <td>0</td>\n",
       "      <td>130458.228857</td>\n",
       "      <td>приобретение автомобиля</td>\n",
       "    </tr>\n",
       "    <tr>\n",
       "      <td>14</td>\n",
       "      <td>0</td>\n",
       "      <td>-1844.956182</td>\n",
       "      <td>56</td>\n",
       "      <td>высшее</td>\n",
       "      <td>0</td>\n",
       "      <td>гражданский брак</td>\n",
       "      <td>1</td>\n",
       "      <td>F</td>\n",
       "      <td>компаньон</td>\n",
       "      <td>1</td>\n",
       "      <td>165127.911772</td>\n",
       "      <td>покупка жилой недвижимости</td>\n",
       "    </tr>\n",
       "  </tbody>\n",
       "</table>\n",
       "</div>"
      ],
      "text/plain": [
       "    children  days_employed  dob_years            education  education_id  \\\n",
       "0          1   -8437.673028         42               высшее             0   \n",
       "1          1   -4024.803754         36              среднее             1   \n",
       "2          0   -5623.422610         33              Среднее             1   \n",
       "3          3   -4124.747207         32              среднее             1   \n",
       "4          0  340266.072047         53              среднее             1   \n",
       "5          0    -926.185831         27               высшее             0   \n",
       "6          0   -2879.202052         43               высшее             0   \n",
       "7          0    -152.779569         50              СРЕДНЕЕ             1   \n",
       "8          2   -6929.865299         35               ВЫСШЕЕ             0   \n",
       "9          0   -2188.756445         41              среднее             1   \n",
       "10         2   -4171.483647         36               высшее             0   \n",
       "11         0    -792.701887         40              среднее             1   \n",
       "12         0            NaN         65              среднее             1   \n",
       "13         0   -1846.641941         54  неоконченное высшее             2   \n",
       "14         0   -1844.956182         56               высшее             0   \n",
       "\n",
       "       family_status  family_status_id gender income_type  debt  \\\n",
       "0    женат / замужем                 0      F   сотрудник     0   \n",
       "1    женат / замужем                 0      F   сотрудник     0   \n",
       "2    женат / замужем                 0      M   сотрудник     0   \n",
       "3    женат / замужем                 0      M   сотрудник     0   \n",
       "4   гражданский брак                 1      F   пенсионер     0   \n",
       "5   гражданский брак                 1      M   компаньон     0   \n",
       "6    женат / замужем                 0      F   компаньон     0   \n",
       "7    женат / замужем                 0      M   сотрудник     0   \n",
       "8   гражданский брак                 1      F   сотрудник     0   \n",
       "9    женат / замужем                 0      M   сотрудник     0   \n",
       "10   женат / замужем                 0      M   компаньон     0   \n",
       "11   женат / замужем                 0      F   сотрудник     0   \n",
       "12  гражданский брак                 1      M   пенсионер     0   \n",
       "13   женат / замужем                 0      F   сотрудник     0   \n",
       "14  гражданский брак                 1      F   компаньон     1   \n",
       "\n",
       "     total_income                            purpose  \n",
       "0   253875.639453                      покупка жилья  \n",
       "1   112080.014102            приобретение автомобиля  \n",
       "2   145885.952297                      покупка жилья  \n",
       "3   267628.550329         дополнительное образование  \n",
       "4   158616.077870                    сыграть свадьбу  \n",
       "5   255763.565419                      покупка жилья  \n",
       "6   240525.971920                  операции с жильем  \n",
       "7   135823.934197                        образование  \n",
       "8    95856.832424              на проведение свадьбы  \n",
       "9   144425.938277            покупка жилья для семьи  \n",
       "10  113943.491460               покупка недвижимости  \n",
       "11   77069.234271  покупка коммерческой недвижимости  \n",
       "12            NaN                    сыграть свадьбу  \n",
       "13  130458.228857            приобретение автомобиля  \n",
       "14  165127.911772         покупка жилой недвижимости  "
      ]
     },
     "execution_count": 2,
     "metadata": {},
     "output_type": "execute_result"
    }
   ],
   "source": [
    "# Составляю первое представление о данных \n",
    "df.head(15)"
   ]
  },
  {
   "cell_type": "code",
   "execution_count": 3,
   "metadata": {},
   "outputs": [
    {
     "name": "stdout",
     "output_type": "stream",
     "text": [
      "<class 'pandas.core.frame.DataFrame'>\n",
      "RangeIndex: 21525 entries, 0 to 21524\n",
      "Data columns (total 12 columns):\n",
      "children            21525 non-null int64\n",
      "days_employed       19351 non-null float64\n",
      "dob_years           21525 non-null int64\n",
      "education           21525 non-null object\n",
      "education_id        21525 non-null int64\n",
      "family_status       21525 non-null object\n",
      "family_status_id    21525 non-null int64\n",
      "gender              21525 non-null object\n",
      "income_type         21525 non-null object\n",
      "debt                21525 non-null int64\n",
      "total_income        19351 non-null float64\n",
      "purpose             21525 non-null object\n",
      "dtypes: float64(2), int64(5), object(5)\n",
      "memory usage: 2.0+ MB\n"
     ]
    }
   ],
   "source": [
    "# пришло время получить общую информацию о данных в таблице df\n",
    "df.info() "
   ]
  },
  {
   "cell_type": "markdown",
   "metadata": {},
   "source": [
    "Итак, в таблице двенадцать столбцов (12) и  21525 !!! строк. Тип данных в пяти столбцах — `object`. Тип данных в пяти столбцах - `int64`. В оставшихся двух столбцах тип данных - `float64`.\n",
    "\n",
    "Согласно документации к данным:\n",
    "* `children` — количество детей в семье;\n",
    "* `days_employed` — общий трудовой стаж в днях;  \n",
    "* `dob_years` — возраст клиента в годах;\n",
    "* `education` —  уровень образования клиента;\n",
    "* `education_id` — идентификатор уровня образования;\n",
    "* `family_status` — идентификатор семейного положения;\n",
    "* `family_status_id` — айди семейного положения;\n",
    "* `gender` — пол клиента;\n",
    "* `income_type` — тип занятости;\n",
    "* `debt` — имел ли задолженность по возврату кредитов;\n",
    "* `total_income` — ежемесячный доход;\n",
    "* `purpose` — цель получения кредита.\n",
    "\n",
    "Количество значений в столбцах различается. Значит, в данных есть пропущенные значения. "
   ]
  },
  {
   "cell_type": "markdown",
   "metadata": {},
   "source": [
    "**Вывод**\n",
    "\n",
    "*Отсутсвуют данные - 'user_id', позволяющие идентифицировать каждого отедельного клиента.*  \n",
    "\n",
    "*Предварительно можно утверждать, что данных достаточно для проверки гипотезы. Но встречаются пропуски в данных, а в последовательности колонок — расхождения с хорошим стилем.*\n",
    "\n",
    "*Чтобы двигаться дальше, нужно устранить проблемы в данных.\n",
    "Названия столбцов не содержат критических замечаний.*"
   ]
  },
  {
   "cell_type": "code",
   "execution_count": 4,
   "metadata": {},
   "outputs": [],
   "source": [
    "# попробуем найти аномалии с помощью инструментов визуализация данных\n",
    "import matplotlib.pyplot as plt\n",
    "plt.style.use('ggplot')"
   ]
  },
  {
   "cell_type": "code",
   "execution_count": 5,
   "metadata": {},
   "outputs": [
    {
     "data": {
      "image/png": "[encoded data removed]",
      "text/plain": [
       "<Figure size 432x288 with 1 Axes>"
      ]
     },
     "metadata": {},
     "output_type": "display_data"
    }
   ],
   "source": [
    "# используем диаграмму размаха\n",
    "df['children'].plot(kind='box')\n",
    "plt.show()"
   ]
  },
  {
   "cell_type": "code",
   "execution_count": 6,
   "metadata": {},
   "outputs": [],
   "source": [
    "# устраним выявленные аномалии\n",
    "df['children'] = df['children'].replace(20, 2)\n",
    "df['children'] = df['children'].replace(-1, 0)"
   ]
  },
  {
   "cell_type": "code",
   "execution_count": 7,
   "metadata": {},
   "outputs": [
    {
     "data": {
      "image/png": "[encoded data removed]",
      "text/plain": [
       "<Figure size 432x288 with 1 Axes>"
      ]
     },
     "metadata": {},
     "output_type": "display_data"
    }
   ],
   "source": [
    "# проверим\n",
    "df['children'].plot(kind='box')\n",
    "plt.show()"
   ]
  },
  {
   "cell_type": "code",
   "execution_count": 8,
   "metadata": {},
   "outputs": [
    {
     "data": {
      "image/png": "[encoded data removed]",
      "text/plain": [
       "<Figure size 432x288 with 1 Axes>"
      ]
     },
     "metadata": {},
     "output_type": "display_data"
    }
   ],
   "source": [
    "# к столбцу 'days_employed' применим гистограмму\n",
    "df['days_employed'].plot(kind='hist')\n",
    "plt.show()"
   ]
  },
  {
   "cell_type": "code",
   "execution_count": 9,
   "metadata": {},
   "outputs": [
    {
     "data": {
      "image/png": "[encoded data removed]",
      "text/plain": [
       "<Figure size 432x288 with 1 Axes>"
      ]
     },
     "metadata": {},
     "output_type": "display_data"
    }
   ],
   "source": [
    "# к столбцу dob_years применим ящик с усами :)\n",
    "df['dob_years'].plot(kind='box')\n",
    "plt.show()"
   ]
  },
  {
   "cell_type": "code",
   "execution_count": 10,
   "metadata": {},
   "outputs": [
    {
     "data": {
      "image/png": "[encoded data removed]",
      "text/plain": [
       "<Figure size 432x288 with 1 Axes>"
      ]
     },
     "metadata": {},
     "output_type": "display_data"
    }
   ],
   "source": [
    "# тепловая карта тоже это демонстрирует, видно выбивающийся 'островок'.\n",
    "df['dob_years'].plot(kind='hist')\n",
    "plt.show()"
   ]
  },
  {
   "cell_type": "code",
   "execution_count": 11,
   "metadata": {},
   "outputs": [
    {
     "name": "stdout",
     "output_type": "stream",
     "text": [
      "['высшее' 'среднее' 'Среднее' 'СРЕДНЕЕ' 'ВЫСШЕЕ' 'неоконченное высшее'\n",
      " 'начальное' 'Высшее' 'НЕОКОНЧЕННОЕ ВЫСШЕЕ' 'Неоконченное высшее'\n",
      " 'НАЧАЛЬНОЕ' 'Начальное' 'Ученая степень' 'УЧЕНАЯ СТЕПЕНЬ'\n",
      " 'ученая степень']\n"
     ]
    },
    {
     "data": {
      "text/plain": [
       "education\n",
       "ВЫСШЕЕ                   274\n",
       "Высшее                   268\n",
       "НАЧАЛЬНОЕ                 17\n",
       "НЕОКОНЧЕННОЕ ВЫСШЕЕ       29\n",
       "Начальное                 15\n",
       "Неоконченное высшее       47\n",
       "СРЕДНЕЕ                  772\n",
       "Среднее                  711\n",
       "УЧЕНАЯ СТЕПЕНЬ             1\n",
       "Ученая степень             1\n",
       "высшее                  4718\n",
       "начальное                250\n",
       "неоконченное высшее      668\n",
       "среднее                13750\n",
       "ученая степень             4\n",
       "Name: education, dtype: int64"
      ]
     },
     "execution_count": 11,
     "metadata": {},
     "output_type": "execute_result"
    }
   ],
   "source": [
    "# следующий столбец 'education' уровень образования клиента носит тип object, к такому типу данных лучше применить:\n",
    "# метод unique() и groupby ()\n",
    "print(df['education'].unique())\n",
    "df.groupby('education')['education'].count()"
   ]
  },
  {
   "cell_type": "code",
   "execution_count": 12,
   "metadata": {},
   "outputs": [
    {
     "data": {
      "image/png": "[encoded data removed]",
      "text/plain": [
       "<Figure size 432x288 with 1 Axes>"
      ]
     },
     "metadata": {},
     "output_type": "display_data"
    }
   ],
   "source": [
    "# следующий столбец 'education_id' уникальное значение уровня образования\n",
    "# попробуем посмотреть на данные с помощью тепловой карты\n",
    "df['education_id'].plot(kind='hist')\n",
    "plt.show()"
   ]
  },
  {
   "cell_type": "code",
   "execution_count": 13,
   "metadata": {},
   "outputs": [
    {
     "data": {
      "text/plain": [
       "женат / замужем          12380\n",
       "гражданский брак          4177\n",
       "Не женат / не замужем     2813\n",
       "в разводе                 1195\n",
       "вдовец / вдова             960\n",
       "Name: family_status, dtype: int64"
      ]
     },
     "execution_count": 13,
     "metadata": {},
     "output_type": "execute_result"
    }
   ],
   "source": [
    "# зучим столбец 'family_status', по типу данных данный столбец относится к object, следовательно применяем подсчет повтороний.\n",
    "# использую метод value_counts()\n",
    "df['family_status'].value_counts()"
   ]
  },
  {
   "cell_type": "code",
   "execution_count": 14,
   "metadata": {},
   "outputs": [
    {
     "data": {
      "text/plain": [
       "21525"
      ]
     },
     "execution_count": 14,
     "metadata": {},
     "output_type": "execute_result"
    }
   ],
   "source": [
    "# проверим на соответстсвие количество строк\n",
    "df['family_status'].value_counts().sum()"
   ]
  },
  {
   "cell_type": "code",
   "execution_count": 15,
   "metadata": {},
   "outputs": [
    {
     "data": {
      "image/png": "[encoded data removed]",
      "text/plain": [
       "<Figure size 432x288 with 1 Axes>"
      ]
     },
     "metadata": {},
     "output_type": "display_data"
    }
   ],
   "source": [
    "# столбец family_status_id проверим с помощью тепловой карты\n",
    "df['family_status_id'].plot(kind='hist')\n",
    "plt.show()"
   ]
  },
  {
   "cell_type": "code",
   "execution_count": 16,
   "metadata": {},
   "outputs": [
    {
     "data": {
      "text/plain": [
       "F      14236\n",
       "M       7288\n",
       "XNA        1\n",
       "Name: gender, dtype: int64"
      ]
     },
     "execution_count": 16,
     "metadata": {},
     "output_type": "execute_result"
    }
   ],
   "source": [
    "# посмотрим аномалии в столбце 'gender' пол\n",
    "df['gender'].value_counts()"
   ]
  },
  {
   "cell_type": "code",
   "execution_count": 17,
   "metadata": {
    "scrolled": true
   },
   "outputs": [
    {
     "data": {
      "text/plain": [
       "сотрудник          11119\n",
       "компаньон           5085\n",
       "пенсионер           3856\n",
       "госслужащий         1459\n",
       "безработный            2\n",
       "предприниматель        2\n",
       "студент                1\n",
       "в декрете              1\n",
       "Name: income_type, dtype: int64"
      ]
     },
     "execution_count": 17,
     "metadata": {},
     "output_type": "execute_result"
    }
   ],
   "source": [
    "# посмотрим аномалии в столбце 'income_type'  тип занятости.\n",
    "df['income_type'].value_counts()"
   ]
  },
  {
   "cell_type": "markdown",
   "metadata": {},
   "source": [
    "<div class=\"alert alert-info\"> <b>Комментарий студента:</b> аномалии не замечены в столбце 'income_type' </div>"
   ]
  },
  {
   "cell_type": "code",
   "execution_count": 18,
   "metadata": {},
   "outputs": [
    {
     "data": {
      "image/png": "[encoded data removed]",
      "text/plain": [
       "<Figure size 432x288 with 1 Axes>"
      ]
     },
     "metadata": {},
     "output_type": "display_data"
    }
   ],
   "source": [
    "# посмотрим аномалии в столбце 'debt'  задолженность по возврату кредитов.\n",
    "df['debt'].plot(kind='hist')\n",
    "plt.show()\n"
   ]
  },
  {
   "cell_type": "markdown",
   "metadata": {},
   "source": [
    "<div class=\"alert alert-info\"> <b>Комментарий студента:</b> аномалии не замечены в столбце 'debt' </div>"
   ]
  },
  {
   "cell_type": "code",
   "execution_count": 19,
   "metadata": {},
   "outputs": [
    {
     "data": {
      "image/png": "[encoded data removed]",
      "text/plain": [
       "<Figure size 432x288 with 1 Axes>"
      ]
     },
     "metadata": {},
     "output_type": "display_data"
    }
   ],
   "source": [
    "# посмотрим аномалии в столбце 'total_income' ежемесячный доход.\n",
    "df['total_income'].plot(kind='hist')\n",
    "plt.show()"
   ]
  },
  {
   "cell_type": "code",
   "execution_count": 20,
   "metadata": {},
   "outputs": [
    {
     "data": {
      "image/png": "[encoded data removed]",
      "text/plain": [
       "<Figure size 432x288 with 1 Axes>"
      ]
     },
     "metadata": {},
     "output_type": "display_data"
    }
   ],
   "source": [
    "# к столбцу dob_years применим ящик с усами :)\n",
    "df['total_income'].plot(kind='box')\n",
    "plt.show()"
   ]
  },
  {
   "cell_type": "code",
   "execution_count": 21,
   "metadata": {},
   "outputs": [
    {
     "data": {
      "text/plain": [
       "свадьба                                   797\n",
       "на проведение свадьбы                     777\n",
       "сыграть свадьбу                           774\n",
       "операции с недвижимостью                  676\n",
       "покупка коммерческой недвижимости         664\n",
       "операции с жильем                         653\n",
       "покупка жилья для сдачи                   653\n",
       "операции с коммерческой недвижимостью     651\n",
       "жилье                                     647\n",
       "покупка жилья                             647\n",
       "покупка жилья для семьи                   641\n",
       "строительство собственной недвижимости    635\n",
       "недвижимость                              634\n",
       "операции со своей недвижимостью           630\n",
       "строительство жилой недвижимости          626\n",
       "покупка недвижимости                      624\n",
       "покупка своего жилья                      620\n",
       "строительство недвижимости                620\n",
       "ремонт жилью                              612\n",
       "покупка жилой недвижимости                607\n",
       "на покупку своего автомобиля              505\n",
       "заняться высшим образованием              496\n",
       "автомобиль                                495\n",
       "сделка с подержанным автомобилем          489\n",
       "свой автомобиль                           480\n",
       "на покупку подержанного автомобиля        479\n",
       "автомобили                                478\n",
       "на покупку автомобиля                     472\n",
       "приобретение автомобиля                   462\n",
       "дополнительное образование                462\n",
       "сделка с автомобилем                      455\n",
       "высшее образование                        453\n",
       "получение дополнительного образования     447\n",
       "образование                               447\n",
       "получение образования                     443\n",
       "профильное образование                    436\n",
       "получение высшего образования             426\n",
       "заняться образованием                     412\n",
       "Name: purpose, dtype: int64"
      ]
     },
     "execution_count": 21,
     "metadata": {},
     "output_type": "execute_result"
    }
   ],
   "source": [
    "# посмотрим аномалии в столбце 'purpose'.\n",
    "df['purpose'].value_counts()"
   ]
  },
  {
   "cell_type": "markdown",
   "metadata": {},
   "source": [
    "**Вывод**\n",
    "\n",
    "*Из общего количества столбцов в количестве 12 шт. аномалии установлены в 4 столбцах - 'children', 'days_employed', 'dob_years' и 'gender'. Очевидные аномалии устранены.* "
   ]
  },
  {
   "cell_type": "markdown",
   "metadata": {},
   "source": []
  },
  {
   "cell_type": "markdown",
   "metadata": {},
   "source": [
    "## Шаг 2. Предобработка данных"
   ]
  },
  {
   "cell_type": "markdown",
   "metadata": {},
   "source": [
    "### Обработка пропусков"
   ]
  },
  {
   "cell_type": "code",
   "execution_count": 22,
   "metadata": {},
   "outputs": [
    {
     "data": {
      "text/plain": [
       "children               0\n",
       "days_employed       2174\n",
       "dob_years              0\n",
       "education              0\n",
       "education_id           0\n",
       "family_status          0\n",
       "family_status_id       0\n",
       "gender                 0\n",
       "income_type            0\n",
       "debt                   0\n",
       "total_income        2174\n",
       "purpose                0\n",
       "dtype: int64"
      ]
     },
     "execution_count": 22,
     "metadata": {},
     "output_type": "execute_result"
    }
   ],
   "source": [
    " # проведем подсчёт пропусков\n",
    "(df.isna().sum()) "
   ]
  },
  {
   "cell_type": "markdown",
   "metadata": {},
   "source": [
    "<div class=\"alert alert-info\">\n",
    "<b>Комментарий:</b> В атрибутах \"days_employed\"(общий трудовой стаж в днях) обнаружены 2174 пропуска и \"total_income\"(ежемесячный доход) также 2174 пропуска. Перечисленные атрибуты относятся к количественным переменным, следовательно есть возможность сравнения. Пропуски в таких переменных заполняют характерными значениями. Это значения, характеризующие состояние выборки, — набора данных, выбранных для проведения исследования. Чтобы примерно оценить типичные значения выборки, годятся среднее арифметическое или медиана. Прежде всего, нужно ответить на вопрос, существует ли закономерность в появлении пропусков. Иными словами, не случайно ли их возникновение в наборе данных.\n",
    "<br>\n",
    "</div>"
   ]
  },
  {
   "cell_type": "code",
   "execution_count": 23,
   "metadata": {},
   "outputs": [
    {
     "name": "stdout",
     "output_type": "stream",
     "text": [
      "NaN occurrences in DataFrame:\n"
     ]
    },
    {
     "data": {
      "text/plain": [
       "4348"
      ]
     },
     "execution_count": 23,
     "metadata": {},
     "output_type": "execute_result"
    }
   ],
   "source": [
    "# проверим количество 'nan'  в дата фрейме \"days_employed\"\n",
    "print('NaN occurrences in DataFrame:')\n",
    "df.isna().sum().sum()"
   ]
  },
  {
   "cell_type": "markdown",
   "metadata": {},
   "source": [
    "<div class=\"alert alert-info\">\n",
    "<b>Комментарий:</b> Дата фрейм содержит  значений nan - 4348, что соответствует общей сумме результатов пропущенных значений, поскольку nan - это 'не число' удалив строки с nan, мы лишим себя почти 1/5 данных: 4348 / 21525 = 20,2 %. Это может негативно повлиять на метрики и выводы исследования. В дальнейшем в работе предлагается заменить 'nan' на медиану.\n",
    "    <br>\n",
    "</div>"
   ]
  },
  {
   "cell_type": "code",
   "execution_count": 24,
   "metadata": {},
   "outputs": [
    {
     "data": {
      "text/plain": [
       "2174"
      ]
     },
     "execution_count": 24,
     "metadata": {},
     "output_type": "execute_result"
    }
   ],
   "source": [
    "# убедимся, что 'nan' содержится в столбце датафрейма 'days_employed'\n",
    "df['days_employed'].isna().sum()"
   ]
  },
  {
   "cell_type": "code",
   "execution_count": 25,
   "metadata": {},
   "outputs": [
    {
     "data": {
      "text/plain": [
       "2174"
      ]
     },
     "execution_count": 25,
     "metadata": {},
     "output_type": "execute_result"
    }
   ],
   "source": [
    "# убедимся, что 'nan' содержится в столбце датафрейма 'total_income'\n",
    "df['total_income'].isna().sum()"
   ]
  },
  {
   "cell_type": "markdown",
   "metadata": {},
   "source": [
    "<div class=\"alert alert-info\">\n",
    "<b>Комментарий:</b> В атрибутах \"days_employed\"(общий трудовой стаж в днях) обнаружены 2174 'nan' и \"total_income\"(ежемесячный доход) также 2174 'nan'.\n",
    "    <br>\n",
    "</div>"
   ]
  },
  {
   "cell_type": "markdown",
   "metadata": {},
   "source": [
    "<div class=\"alert alert-info\">\n",
    "<b>Комментарий:</b> 18_12_2021. Люди, занимающие руководящие должности и/или получившие образование в престижном вузе чаще, чем другие респонденты, не отвечают на вопрос о своих доходах и общем трудовом стаже. Поскольку занимаемая должность и образование сильно коррелируют с доходами, то в таком случае пропуски в поле доходы уже нельзя считать совершенно случайными, то есть говорить о случае MCAR не представляется возможным.\n",
    "Если в наборе данных есть информация об образовании и должности респондентов, то зависимость между повышенной вероятностью пропуска в графе доходов и этой информацией может быть выражена математически, следовательно, выполняется гипотеза MAR. В случае MAR исключение пропусков вполне приемлемо. Гипотеза MAR (Missing At Random) значит, что на практике данные обычно пропущены не случайно, а ввиду некоторых закономерностей. \n",
    "    <br>\n",
    "</div>"
   ]
  },
  {
   "cell_type": "code",
   "execution_count": 26,
   "metadata": {},
   "outputs": [],
   "source": [
    "# предлагается заменить значения 'nan' на медиану\n",
    "median_days_employed = df['days_employed'].median(skipna=True)"
   ]
  },
  {
   "cell_type": "code",
   "execution_count": 27,
   "metadata": {},
   "outputs": [],
   "source": [
    "df['days_employed'] = df.days_employed.fillna(median_days_employed)"
   ]
  },
  {
   "cell_type": "code",
   "execution_count": 28,
   "metadata": {},
   "outputs": [
    {
     "data": {
      "text/plain": [
       "0"
      ]
     },
     "execution_count": 28,
     "metadata": {},
     "output_type": "execute_result"
    }
   ],
   "source": [
    "# убедимся, что 'nan' заменен на медиану в столбце датафрейма 'days_employed'\n",
    "df['days_employed'].isna().sum()"
   ]
  },
  {
   "cell_type": "code",
   "execution_count": 29,
   "metadata": {},
   "outputs": [
    {
     "data": {
      "text/html": [
       "<div>\n",
       "<style scoped>\n",
       "    .dataframe tbody tr th:only-of-type {\n",
       "        vertical-align: middle;\n",
       "    }\n",
       "\n",
       "    .dataframe tbody tr th {\n",
       "        vertical-align: top;\n",
       "    }\n",
       "\n",
       "    .dataframe thead th {\n",
       "        text-align: right;\n",
       "    }\n",
       "</style>\n",
       "<table border=\"1\" class=\"dataframe\">\n",
       "  <thead>\n",
       "    <tr style=\"text-align: right;\">\n",
       "      <th></th>\n",
       "      <th>children</th>\n",
       "      <th>days_employed</th>\n",
       "      <th>dob_years</th>\n",
       "      <th>education</th>\n",
       "      <th>education_id</th>\n",
       "      <th>family_status</th>\n",
       "      <th>family_status_id</th>\n",
       "      <th>gender</th>\n",
       "      <th>income_type</th>\n",
       "      <th>debt</th>\n",
       "      <th>total_income</th>\n",
       "      <th>purpose</th>\n",
       "    </tr>\n",
       "  </thead>\n",
       "  <tbody>\n",
       "    <tr>\n",
       "      <td>0</td>\n",
       "      <td>1</td>\n",
       "      <td>-8437.673028</td>\n",
       "      <td>42</td>\n",
       "      <td>высшее</td>\n",
       "      <td>0</td>\n",
       "      <td>женат / замужем</td>\n",
       "      <td>0</td>\n",
       "      <td>F</td>\n",
       "      <td>сотрудник</td>\n",
       "      <td>0</td>\n",
       "      <td>253875.639453</td>\n",
       "      <td>покупка жилья</td>\n",
       "    </tr>\n",
       "    <tr>\n",
       "      <td>1</td>\n",
       "      <td>1</td>\n",
       "      <td>-4024.803754</td>\n",
       "      <td>36</td>\n",
       "      <td>среднее</td>\n",
       "      <td>1</td>\n",
       "      <td>женат / замужем</td>\n",
       "      <td>0</td>\n",
       "      <td>F</td>\n",
       "      <td>сотрудник</td>\n",
       "      <td>0</td>\n",
       "      <td>112080.014102</td>\n",
       "      <td>приобретение автомобиля</td>\n",
       "    </tr>\n",
       "    <tr>\n",
       "      <td>2</td>\n",
       "      <td>0</td>\n",
       "      <td>-5623.422610</td>\n",
       "      <td>33</td>\n",
       "      <td>Среднее</td>\n",
       "      <td>1</td>\n",
       "      <td>женат / замужем</td>\n",
       "      <td>0</td>\n",
       "      <td>M</td>\n",
       "      <td>сотрудник</td>\n",
       "      <td>0</td>\n",
       "      <td>145885.952297</td>\n",
       "      <td>покупка жилья</td>\n",
       "    </tr>\n",
       "    <tr>\n",
       "      <td>3</td>\n",
       "      <td>3</td>\n",
       "      <td>-4124.747207</td>\n",
       "      <td>32</td>\n",
       "      <td>среднее</td>\n",
       "      <td>1</td>\n",
       "      <td>женат / замужем</td>\n",
       "      <td>0</td>\n",
       "      <td>M</td>\n",
       "      <td>сотрудник</td>\n",
       "      <td>0</td>\n",
       "      <td>267628.550329</td>\n",
       "      <td>дополнительное образование</td>\n",
       "    </tr>\n",
       "    <tr>\n",
       "      <td>4</td>\n",
       "      <td>0</td>\n",
       "      <td>340266.072047</td>\n",
       "      <td>53</td>\n",
       "      <td>среднее</td>\n",
       "      <td>1</td>\n",
       "      <td>гражданский брак</td>\n",
       "      <td>1</td>\n",
       "      <td>F</td>\n",
       "      <td>пенсионер</td>\n",
       "      <td>0</td>\n",
       "      <td>158616.077870</td>\n",
       "      <td>сыграть свадьбу</td>\n",
       "    </tr>\n",
       "    <tr>\n",
       "      <td>5</td>\n",
       "      <td>0</td>\n",
       "      <td>-926.185831</td>\n",
       "      <td>27</td>\n",
       "      <td>высшее</td>\n",
       "      <td>0</td>\n",
       "      <td>гражданский брак</td>\n",
       "      <td>1</td>\n",
       "      <td>M</td>\n",
       "      <td>компаньон</td>\n",
       "      <td>0</td>\n",
       "      <td>255763.565419</td>\n",
       "      <td>покупка жилья</td>\n",
       "    </tr>\n",
       "    <tr>\n",
       "      <td>6</td>\n",
       "      <td>0</td>\n",
       "      <td>-2879.202052</td>\n",
       "      <td>43</td>\n",
       "      <td>высшее</td>\n",
       "      <td>0</td>\n",
       "      <td>женат / замужем</td>\n",
       "      <td>0</td>\n",
       "      <td>F</td>\n",
       "      <td>компаньон</td>\n",
       "      <td>0</td>\n",
       "      <td>240525.971920</td>\n",
       "      <td>операции с жильем</td>\n",
       "    </tr>\n",
       "    <tr>\n",
       "      <td>7</td>\n",
       "      <td>0</td>\n",
       "      <td>-152.779569</td>\n",
       "      <td>50</td>\n",
       "      <td>СРЕДНЕЕ</td>\n",
       "      <td>1</td>\n",
       "      <td>женат / замужем</td>\n",
       "      <td>0</td>\n",
       "      <td>M</td>\n",
       "      <td>сотрудник</td>\n",
       "      <td>0</td>\n",
       "      <td>135823.934197</td>\n",
       "      <td>образование</td>\n",
       "    </tr>\n",
       "    <tr>\n",
       "      <td>8</td>\n",
       "      <td>2</td>\n",
       "      <td>-6929.865299</td>\n",
       "      <td>35</td>\n",
       "      <td>ВЫСШЕЕ</td>\n",
       "      <td>0</td>\n",
       "      <td>гражданский брак</td>\n",
       "      <td>1</td>\n",
       "      <td>F</td>\n",
       "      <td>сотрудник</td>\n",
       "      <td>0</td>\n",
       "      <td>95856.832424</td>\n",
       "      <td>на проведение свадьбы</td>\n",
       "    </tr>\n",
       "    <tr>\n",
       "      <td>9</td>\n",
       "      <td>0</td>\n",
       "      <td>-2188.756445</td>\n",
       "      <td>41</td>\n",
       "      <td>среднее</td>\n",
       "      <td>1</td>\n",
       "      <td>женат / замужем</td>\n",
       "      <td>0</td>\n",
       "      <td>M</td>\n",
       "      <td>сотрудник</td>\n",
       "      <td>0</td>\n",
       "      <td>144425.938277</td>\n",
       "      <td>покупка жилья для семьи</td>\n",
       "    </tr>\n",
       "    <tr>\n",
       "      <td>10</td>\n",
       "      <td>2</td>\n",
       "      <td>-4171.483647</td>\n",
       "      <td>36</td>\n",
       "      <td>высшее</td>\n",
       "      <td>0</td>\n",
       "      <td>женат / замужем</td>\n",
       "      <td>0</td>\n",
       "      <td>M</td>\n",
       "      <td>компаньон</td>\n",
       "      <td>0</td>\n",
       "      <td>113943.491460</td>\n",
       "      <td>покупка недвижимости</td>\n",
       "    </tr>\n",
       "    <tr>\n",
       "      <td>11</td>\n",
       "      <td>0</td>\n",
       "      <td>-792.701887</td>\n",
       "      <td>40</td>\n",
       "      <td>среднее</td>\n",
       "      <td>1</td>\n",
       "      <td>женат / замужем</td>\n",
       "      <td>0</td>\n",
       "      <td>F</td>\n",
       "      <td>сотрудник</td>\n",
       "      <td>0</td>\n",
       "      <td>77069.234271</td>\n",
       "      <td>покупка коммерческой недвижимости</td>\n",
       "    </tr>\n",
       "    <tr>\n",
       "      <td>12</td>\n",
       "      <td>0</td>\n",
       "      <td>-1203.369529</td>\n",
       "      <td>65</td>\n",
       "      <td>среднее</td>\n",
       "      <td>1</td>\n",
       "      <td>гражданский брак</td>\n",
       "      <td>1</td>\n",
       "      <td>M</td>\n",
       "      <td>пенсионер</td>\n",
       "      <td>0</td>\n",
       "      <td>NaN</td>\n",
       "      <td>сыграть свадьбу</td>\n",
       "    </tr>\n",
       "    <tr>\n",
       "      <td>13</td>\n",
       "      <td>0</td>\n",
       "      <td>-1846.641941</td>\n",
       "      <td>54</td>\n",
       "      <td>неоконченное высшее</td>\n",
       "      <td>2</td>\n",
       "      <td>женат / замужем</td>\n",
       "      <td>0</td>\n",
       "      <td>F</td>\n",
       "      <td>сотрудник</td>\n",
       "      <td>0</td>\n",
       "      <td>130458.228857</td>\n",
       "      <td>приобретение автомобиля</td>\n",
       "    </tr>\n",
       "    <tr>\n",
       "      <td>14</td>\n",
       "      <td>0</td>\n",
       "      <td>-1844.956182</td>\n",
       "      <td>56</td>\n",
       "      <td>высшее</td>\n",
       "      <td>0</td>\n",
       "      <td>гражданский брак</td>\n",
       "      <td>1</td>\n",
       "      <td>F</td>\n",
       "      <td>компаньон</td>\n",
       "      <td>1</td>\n",
       "      <td>165127.911772</td>\n",
       "      <td>покупка жилой недвижимости</td>\n",
       "    </tr>\n",
       "  </tbody>\n",
       "</table>\n",
       "</div>"
      ],
      "text/plain": [
       "    children  days_employed  dob_years            education  education_id  \\\n",
       "0          1   -8437.673028         42               высшее             0   \n",
       "1          1   -4024.803754         36              среднее             1   \n",
       "2          0   -5623.422610         33              Среднее             1   \n",
       "3          3   -4124.747207         32              среднее             1   \n",
       "4          0  340266.072047         53              среднее             1   \n",
       "5          0    -926.185831         27               высшее             0   \n",
       "6          0   -2879.202052         43               высшее             0   \n",
       "7          0    -152.779569         50              СРЕДНЕЕ             1   \n",
       "8          2   -6929.865299         35               ВЫСШЕЕ             0   \n",
       "9          0   -2188.756445         41              среднее             1   \n",
       "10         2   -4171.483647         36               высшее             0   \n",
       "11         0    -792.701887         40              среднее             1   \n",
       "12         0   -1203.369529         65              среднее             1   \n",
       "13         0   -1846.641941         54  неоконченное высшее             2   \n",
       "14         0   -1844.956182         56               высшее             0   \n",
       "\n",
       "       family_status  family_status_id gender income_type  debt  \\\n",
       "0    женат / замужем                 0      F   сотрудник     0   \n",
       "1    женат / замужем                 0      F   сотрудник     0   \n",
       "2    женат / замужем                 0      M   сотрудник     0   \n",
       "3    женат / замужем                 0      M   сотрудник     0   \n",
       "4   гражданский брак                 1      F   пенсионер     0   \n",
       "5   гражданский брак                 1      M   компаньон     0   \n",
       "6    женат / замужем                 0      F   компаньон     0   \n",
       "7    женат / замужем                 0      M   сотрудник     0   \n",
       "8   гражданский брак                 1      F   сотрудник     0   \n",
       "9    женат / замужем                 0      M   сотрудник     0   \n",
       "10   женат / замужем                 0      M   компаньон     0   \n",
       "11   женат / замужем                 0      F   сотрудник     0   \n",
       "12  гражданский брак                 1      M   пенсионер     0   \n",
       "13   женат / замужем                 0      F   сотрудник     0   \n",
       "14  гражданский брак                 1      F   компаньон     1   \n",
       "\n",
       "     total_income                            purpose  \n",
       "0   253875.639453                      покупка жилья  \n",
       "1   112080.014102            приобретение автомобиля  \n",
       "2   145885.952297                      покупка жилья  \n",
       "3   267628.550329         дополнительное образование  \n",
       "4   158616.077870                    сыграть свадьбу  \n",
       "5   255763.565419                      покупка жилья  \n",
       "6   240525.971920                  операции с жильем  \n",
       "7   135823.934197                        образование  \n",
       "8    95856.832424              на проведение свадьбы  \n",
       "9   144425.938277            покупка жилья для семьи  \n",
       "10  113943.491460               покупка недвижимости  \n",
       "11   77069.234271  покупка коммерческой недвижимости  \n",
       "12            NaN                    сыграть свадьбу  \n",
       "13  130458.228857            приобретение автомобиля  \n",
       "14  165127.911772         покупка жилой недвижимости  "
      ]
     },
     "metadata": {},
     "output_type": "display_data"
    }
   ],
   "source": [
    "display(df.head(15))"
   ]
  },
  {
   "cell_type": "markdown",
   "metadata": {},
   "source": [
    "<div class=\"alert alert-info\">\n",
    "<b>Комментарий:</b> В атрибуте \"days_employed\"(общий трудовой стаж в днях) обнаруженные 2174 'nan'  заменены на медианные значения.\n",
    "    <br>\n",
    "</div>"
   ]
  },
  {
   "cell_type": "code",
   "execution_count": 30,
   "metadata": {},
   "outputs": [],
   "source": [
    "# проделаем такую же работу со столбцом 'total_income' в датафрейме, заменим 'nan' на медианные значения\n",
    "median_total_income = df['total_income'].median(skipna=True)"
   ]
  },
  {
   "cell_type": "code",
   "execution_count": 31,
   "metadata": {},
   "outputs": [],
   "source": [
    "df['total_income'] = df.total_income.fillna(median_total_income)"
   ]
  },
  {
   "cell_type": "code",
   "execution_count": 32,
   "metadata": {},
   "outputs": [
    {
     "data": {
      "text/plain": [
       "0"
      ]
     },
     "execution_count": 32,
     "metadata": {},
     "output_type": "execute_result"
    }
   ],
   "source": [
    "# убедимся, что 'nan' заменен на медиану в столбце датафрейма 'total_income'\n",
    "df['total_income'].isna().sum()"
   ]
  },
  {
   "cell_type": "code",
   "execution_count": 33,
   "metadata": {},
   "outputs": [
    {
     "data": {
      "text/html": [
       "<div>\n",
       "<style scoped>\n",
       "    .dataframe tbody tr th:only-of-type {\n",
       "        vertical-align: middle;\n",
       "    }\n",
       "\n",
       "    .dataframe tbody tr th {\n",
       "        vertical-align: top;\n",
       "    }\n",
       "\n",
       "    .dataframe thead th {\n",
       "        text-align: right;\n",
       "    }\n",
       "</style>\n",
       "<table border=\"1\" class=\"dataframe\">\n",
       "  <thead>\n",
       "    <tr style=\"text-align: right;\">\n",
       "      <th></th>\n",
       "      <th>children</th>\n",
       "      <th>days_employed</th>\n",
       "      <th>dob_years</th>\n",
       "      <th>education</th>\n",
       "      <th>education_id</th>\n",
       "      <th>family_status</th>\n",
       "      <th>family_status_id</th>\n",
       "      <th>gender</th>\n",
       "      <th>income_type</th>\n",
       "      <th>debt</th>\n",
       "      <th>total_income</th>\n",
       "      <th>purpose</th>\n",
       "    </tr>\n",
       "  </thead>\n",
       "  <tbody>\n",
       "    <tr>\n",
       "      <td>0</td>\n",
       "      <td>1</td>\n",
       "      <td>-8437.673028</td>\n",
       "      <td>42</td>\n",
       "      <td>высшее</td>\n",
       "      <td>0</td>\n",
       "      <td>женат / замужем</td>\n",
       "      <td>0</td>\n",
       "      <td>F</td>\n",
       "      <td>сотрудник</td>\n",
       "      <td>0</td>\n",
       "      <td>253875.639453</td>\n",
       "      <td>покупка жилья</td>\n",
       "    </tr>\n",
       "    <tr>\n",
       "      <td>1</td>\n",
       "      <td>1</td>\n",
       "      <td>-4024.803754</td>\n",
       "      <td>36</td>\n",
       "      <td>среднее</td>\n",
       "      <td>1</td>\n",
       "      <td>женат / замужем</td>\n",
       "      <td>0</td>\n",
       "      <td>F</td>\n",
       "      <td>сотрудник</td>\n",
       "      <td>0</td>\n",
       "      <td>112080.014102</td>\n",
       "      <td>приобретение автомобиля</td>\n",
       "    </tr>\n",
       "    <tr>\n",
       "      <td>2</td>\n",
       "      <td>0</td>\n",
       "      <td>-5623.422610</td>\n",
       "      <td>33</td>\n",
       "      <td>Среднее</td>\n",
       "      <td>1</td>\n",
       "      <td>женат / замужем</td>\n",
       "      <td>0</td>\n",
       "      <td>M</td>\n",
       "      <td>сотрудник</td>\n",
       "      <td>0</td>\n",
       "      <td>145885.952297</td>\n",
       "      <td>покупка жилья</td>\n",
       "    </tr>\n",
       "    <tr>\n",
       "      <td>3</td>\n",
       "      <td>3</td>\n",
       "      <td>-4124.747207</td>\n",
       "      <td>32</td>\n",
       "      <td>среднее</td>\n",
       "      <td>1</td>\n",
       "      <td>женат / замужем</td>\n",
       "      <td>0</td>\n",
       "      <td>M</td>\n",
       "      <td>сотрудник</td>\n",
       "      <td>0</td>\n",
       "      <td>267628.550329</td>\n",
       "      <td>дополнительное образование</td>\n",
       "    </tr>\n",
       "    <tr>\n",
       "      <td>4</td>\n",
       "      <td>0</td>\n",
       "      <td>340266.072047</td>\n",
       "      <td>53</td>\n",
       "      <td>среднее</td>\n",
       "      <td>1</td>\n",
       "      <td>гражданский брак</td>\n",
       "      <td>1</td>\n",
       "      <td>F</td>\n",
       "      <td>пенсионер</td>\n",
       "      <td>0</td>\n",
       "      <td>158616.077870</td>\n",
       "      <td>сыграть свадьбу</td>\n",
       "    </tr>\n",
       "    <tr>\n",
       "      <td>5</td>\n",
       "      <td>0</td>\n",
       "      <td>-926.185831</td>\n",
       "      <td>27</td>\n",
       "      <td>высшее</td>\n",
       "      <td>0</td>\n",
       "      <td>гражданский брак</td>\n",
       "      <td>1</td>\n",
       "      <td>M</td>\n",
       "      <td>компаньон</td>\n",
       "      <td>0</td>\n",
       "      <td>255763.565419</td>\n",
       "      <td>покупка жилья</td>\n",
       "    </tr>\n",
       "    <tr>\n",
       "      <td>6</td>\n",
       "      <td>0</td>\n",
       "      <td>-2879.202052</td>\n",
       "      <td>43</td>\n",
       "      <td>высшее</td>\n",
       "      <td>0</td>\n",
       "      <td>женат / замужем</td>\n",
       "      <td>0</td>\n",
       "      <td>F</td>\n",
       "      <td>компаньон</td>\n",
       "      <td>0</td>\n",
       "      <td>240525.971920</td>\n",
       "      <td>операции с жильем</td>\n",
       "    </tr>\n",
       "    <tr>\n",
       "      <td>7</td>\n",
       "      <td>0</td>\n",
       "      <td>-152.779569</td>\n",
       "      <td>50</td>\n",
       "      <td>СРЕДНЕЕ</td>\n",
       "      <td>1</td>\n",
       "      <td>женат / замужем</td>\n",
       "      <td>0</td>\n",
       "      <td>M</td>\n",
       "      <td>сотрудник</td>\n",
       "      <td>0</td>\n",
       "      <td>135823.934197</td>\n",
       "      <td>образование</td>\n",
       "    </tr>\n",
       "    <tr>\n",
       "      <td>8</td>\n",
       "      <td>2</td>\n",
       "      <td>-6929.865299</td>\n",
       "      <td>35</td>\n",
       "      <td>ВЫСШЕЕ</td>\n",
       "      <td>0</td>\n",
       "      <td>гражданский брак</td>\n",
       "      <td>1</td>\n",
       "      <td>F</td>\n",
       "      <td>сотрудник</td>\n",
       "      <td>0</td>\n",
       "      <td>95856.832424</td>\n",
       "      <td>на проведение свадьбы</td>\n",
       "    </tr>\n",
       "    <tr>\n",
       "      <td>9</td>\n",
       "      <td>0</td>\n",
       "      <td>-2188.756445</td>\n",
       "      <td>41</td>\n",
       "      <td>среднее</td>\n",
       "      <td>1</td>\n",
       "      <td>женат / замужем</td>\n",
       "      <td>0</td>\n",
       "      <td>M</td>\n",
       "      <td>сотрудник</td>\n",
       "      <td>0</td>\n",
       "      <td>144425.938277</td>\n",
       "      <td>покупка жилья для семьи</td>\n",
       "    </tr>\n",
       "    <tr>\n",
       "      <td>10</td>\n",
       "      <td>2</td>\n",
       "      <td>-4171.483647</td>\n",
       "      <td>36</td>\n",
       "      <td>высшее</td>\n",
       "      <td>0</td>\n",
       "      <td>женат / замужем</td>\n",
       "      <td>0</td>\n",
       "      <td>M</td>\n",
       "      <td>компаньон</td>\n",
       "      <td>0</td>\n",
       "      <td>113943.491460</td>\n",
       "      <td>покупка недвижимости</td>\n",
       "    </tr>\n",
       "    <tr>\n",
       "      <td>11</td>\n",
       "      <td>0</td>\n",
       "      <td>-792.701887</td>\n",
       "      <td>40</td>\n",
       "      <td>среднее</td>\n",
       "      <td>1</td>\n",
       "      <td>женат / замужем</td>\n",
       "      <td>0</td>\n",
       "      <td>F</td>\n",
       "      <td>сотрудник</td>\n",
       "      <td>0</td>\n",
       "      <td>77069.234271</td>\n",
       "      <td>покупка коммерческой недвижимости</td>\n",
       "    </tr>\n",
       "    <tr>\n",
       "      <td>12</td>\n",
       "      <td>0</td>\n",
       "      <td>-1203.369529</td>\n",
       "      <td>65</td>\n",
       "      <td>среднее</td>\n",
       "      <td>1</td>\n",
       "      <td>гражданский брак</td>\n",
       "      <td>1</td>\n",
       "      <td>M</td>\n",
       "      <td>пенсионер</td>\n",
       "      <td>0</td>\n",
       "      <td>145017.937533</td>\n",
       "      <td>сыграть свадьбу</td>\n",
       "    </tr>\n",
       "    <tr>\n",
       "      <td>13</td>\n",
       "      <td>0</td>\n",
       "      <td>-1846.641941</td>\n",
       "      <td>54</td>\n",
       "      <td>неоконченное высшее</td>\n",
       "      <td>2</td>\n",
       "      <td>женат / замужем</td>\n",
       "      <td>0</td>\n",
       "      <td>F</td>\n",
       "      <td>сотрудник</td>\n",
       "      <td>0</td>\n",
       "      <td>130458.228857</td>\n",
       "      <td>приобретение автомобиля</td>\n",
       "    </tr>\n",
       "    <tr>\n",
       "      <td>14</td>\n",
       "      <td>0</td>\n",
       "      <td>-1844.956182</td>\n",
       "      <td>56</td>\n",
       "      <td>высшее</td>\n",
       "      <td>0</td>\n",
       "      <td>гражданский брак</td>\n",
       "      <td>1</td>\n",
       "      <td>F</td>\n",
       "      <td>компаньон</td>\n",
       "      <td>1</td>\n",
       "      <td>165127.911772</td>\n",
       "      <td>покупка жилой недвижимости</td>\n",
       "    </tr>\n",
       "  </tbody>\n",
       "</table>\n",
       "</div>"
      ],
      "text/plain": [
       "    children  days_employed  dob_years            education  education_id  \\\n",
       "0          1   -8437.673028         42               высшее             0   \n",
       "1          1   -4024.803754         36              среднее             1   \n",
       "2          0   -5623.422610         33              Среднее             1   \n",
       "3          3   -4124.747207         32              среднее             1   \n",
       "4          0  340266.072047         53              среднее             1   \n",
       "5          0    -926.185831         27               высшее             0   \n",
       "6          0   -2879.202052         43               высшее             0   \n",
       "7          0    -152.779569         50              СРЕДНЕЕ             1   \n",
       "8          2   -6929.865299         35               ВЫСШЕЕ             0   \n",
       "9          0   -2188.756445         41              среднее             1   \n",
       "10         2   -4171.483647         36               высшее             0   \n",
       "11         0    -792.701887         40              среднее             1   \n",
       "12         0   -1203.369529         65              среднее             1   \n",
       "13         0   -1846.641941         54  неоконченное высшее             2   \n",
       "14         0   -1844.956182         56               высшее             0   \n",
       "\n",
       "       family_status  family_status_id gender income_type  debt  \\\n",
       "0    женат / замужем                 0      F   сотрудник     0   \n",
       "1    женат / замужем                 0      F   сотрудник     0   \n",
       "2    женат / замужем                 0      M   сотрудник     0   \n",
       "3    женат / замужем                 0      M   сотрудник     0   \n",
       "4   гражданский брак                 1      F   пенсионер     0   \n",
       "5   гражданский брак                 1      M   компаньон     0   \n",
       "6    женат / замужем                 0      F   компаньон     0   \n",
       "7    женат / замужем                 0      M   сотрудник     0   \n",
       "8   гражданский брак                 1      F   сотрудник     0   \n",
       "9    женат / замужем                 0      M   сотрудник     0   \n",
       "10   женат / замужем                 0      M   компаньон     0   \n",
       "11   женат / замужем                 0      F   сотрудник     0   \n",
       "12  гражданский брак                 1      M   пенсионер     0   \n",
       "13   женат / замужем                 0      F   сотрудник     0   \n",
       "14  гражданский брак                 1      F   компаньон     1   \n",
       "\n",
       "     total_income                            purpose  \n",
       "0   253875.639453                      покупка жилья  \n",
       "1   112080.014102            приобретение автомобиля  \n",
       "2   145885.952297                      покупка жилья  \n",
       "3   267628.550329         дополнительное образование  \n",
       "4   158616.077870                    сыграть свадьбу  \n",
       "5   255763.565419                      покупка жилья  \n",
       "6   240525.971920                  операции с жильем  \n",
       "7   135823.934197                        образование  \n",
       "8    95856.832424              на проведение свадьбы  \n",
       "9   144425.938277            покупка жилья для семьи  \n",
       "10  113943.491460               покупка недвижимости  \n",
       "11   77069.234271  покупка коммерческой недвижимости  \n",
       "12  145017.937533                    сыграть свадьбу  \n",
       "13  130458.228857            приобретение автомобиля  \n",
       "14  165127.911772         покупка жилой недвижимости  "
      ]
     },
     "metadata": {},
     "output_type": "display_data"
    }
   ],
   "source": [
    "display(df.head(15))"
   ]
  },
  {
   "cell_type": "markdown",
   "metadata": {},
   "source": [
    "<div class=\"alert alert-info\">\n",
    "<b>Комментарий:</b> В атрибуте \"total_income\" (ежемесячный доход) обнаруженные 2174 'nan'  заменены на медианные значения.\n",
    "    <br>\n",
    "</div>"
   ]
  },
  {
   "cell_type": "code",
   "execution_count": 34,
   "metadata": {},
   "outputs": [],
   "source": [
    "# для предварительной подготовки к исследованию данных приведем все данные в датасете к нижнему регистру\n",
    "df = df.astype(str).apply(lambda x: x.str.lower())"
   ]
  },
  {
   "cell_type": "code",
   "execution_count": 35,
   "metadata": {},
   "outputs": [
    {
     "data": {
      "text/html": [
       "<div>\n",
       "<style scoped>\n",
       "    .dataframe tbody tr th:only-of-type {\n",
       "        vertical-align: middle;\n",
       "    }\n",
       "\n",
       "    .dataframe tbody tr th {\n",
       "        vertical-align: top;\n",
       "    }\n",
       "\n",
       "    .dataframe thead th {\n",
       "        text-align: right;\n",
       "    }\n",
       "</style>\n",
       "<table border=\"1\" class=\"dataframe\">\n",
       "  <thead>\n",
       "    <tr style=\"text-align: right;\">\n",
       "      <th></th>\n",
       "      <th>children</th>\n",
       "      <th>days_employed</th>\n",
       "      <th>dob_years</th>\n",
       "      <th>education</th>\n",
       "      <th>education_id</th>\n",
       "      <th>family_status</th>\n",
       "      <th>family_status_id</th>\n",
       "      <th>gender</th>\n",
       "      <th>income_type</th>\n",
       "      <th>debt</th>\n",
       "      <th>total_income</th>\n",
       "      <th>purpose</th>\n",
       "    </tr>\n",
       "  </thead>\n",
       "  <tbody>\n",
       "    <tr>\n",
       "      <td>0</td>\n",
       "      <td>1</td>\n",
       "      <td>-8437.673027760233</td>\n",
       "      <td>42</td>\n",
       "      <td>высшее</td>\n",
       "      <td>0</td>\n",
       "      <td>женат / замужем</td>\n",
       "      <td>0</td>\n",
       "      <td>f</td>\n",
       "      <td>сотрудник</td>\n",
       "      <td>0</td>\n",
       "      <td>253875.6394525987</td>\n",
       "      <td>покупка жилья</td>\n",
       "    </tr>\n",
       "    <tr>\n",
       "      <td>1</td>\n",
       "      <td>1</td>\n",
       "      <td>-4024.803753850451</td>\n",
       "      <td>36</td>\n",
       "      <td>среднее</td>\n",
       "      <td>1</td>\n",
       "      <td>женат / замужем</td>\n",
       "      <td>0</td>\n",
       "      <td>f</td>\n",
       "      <td>сотрудник</td>\n",
       "      <td>0</td>\n",
       "      <td>112080.01410244203</td>\n",
       "      <td>приобретение автомобиля</td>\n",
       "    </tr>\n",
       "    <tr>\n",
       "      <td>2</td>\n",
       "      <td>0</td>\n",
       "      <td>-5623.422610230956</td>\n",
       "      <td>33</td>\n",
       "      <td>среднее</td>\n",
       "      <td>1</td>\n",
       "      <td>женат / замужем</td>\n",
       "      <td>0</td>\n",
       "      <td>m</td>\n",
       "      <td>сотрудник</td>\n",
       "      <td>0</td>\n",
       "      <td>145885.95229686378</td>\n",
       "      <td>покупка жилья</td>\n",
       "    </tr>\n",
       "    <tr>\n",
       "      <td>3</td>\n",
       "      <td>3</td>\n",
       "      <td>-4124.747206540018</td>\n",
       "      <td>32</td>\n",
       "      <td>среднее</td>\n",
       "      <td>1</td>\n",
       "      <td>женат / замужем</td>\n",
       "      <td>0</td>\n",
       "      <td>m</td>\n",
       "      <td>сотрудник</td>\n",
       "      <td>0</td>\n",
       "      <td>267628.5503294142</td>\n",
       "      <td>дополнительное образование</td>\n",
       "    </tr>\n",
       "    <tr>\n",
       "      <td>4</td>\n",
       "      <td>0</td>\n",
       "      <td>340266.07204682194</td>\n",
       "      <td>53</td>\n",
       "      <td>среднее</td>\n",
       "      <td>1</td>\n",
       "      <td>гражданский брак</td>\n",
       "      <td>1</td>\n",
       "      <td>f</td>\n",
       "      <td>пенсионер</td>\n",
       "      <td>0</td>\n",
       "      <td>158616.07787006293</td>\n",
       "      <td>сыграть свадьбу</td>\n",
       "    </tr>\n",
       "    <tr>\n",
       "      <td>5</td>\n",
       "      <td>0</td>\n",
       "      <td>-926.1858308789183</td>\n",
       "      <td>27</td>\n",
       "      <td>высшее</td>\n",
       "      <td>0</td>\n",
       "      <td>гражданский брак</td>\n",
       "      <td>1</td>\n",
       "      <td>m</td>\n",
       "      <td>компаньон</td>\n",
       "      <td>0</td>\n",
       "      <td>255763.56541904988</td>\n",
       "      <td>покупка жилья</td>\n",
       "    </tr>\n",
       "    <tr>\n",
       "      <td>6</td>\n",
       "      <td>0</td>\n",
       "      <td>-2879.202052139952</td>\n",
       "      <td>43</td>\n",
       "      <td>высшее</td>\n",
       "      <td>0</td>\n",
       "      <td>женат / замужем</td>\n",
       "      <td>0</td>\n",
       "      <td>f</td>\n",
       "      <td>компаньон</td>\n",
       "      <td>0</td>\n",
       "      <td>240525.9719203061</td>\n",
       "      <td>операции с жильем</td>\n",
       "    </tr>\n",
       "    <tr>\n",
       "      <td>7</td>\n",
       "      <td>0</td>\n",
       "      <td>-152.7795691752705</td>\n",
       "      <td>50</td>\n",
       "      <td>среднее</td>\n",
       "      <td>1</td>\n",
       "      <td>женат / замужем</td>\n",
       "      <td>0</td>\n",
       "      <td>m</td>\n",
       "      <td>сотрудник</td>\n",
       "      <td>0</td>\n",
       "      <td>135823.93419727974</td>\n",
       "      <td>образование</td>\n",
       "    </tr>\n",
       "    <tr>\n",
       "      <td>8</td>\n",
       "      <td>2</td>\n",
       "      <td>-6929.865298973741</td>\n",
       "      <td>35</td>\n",
       "      <td>высшее</td>\n",
       "      <td>0</td>\n",
       "      <td>гражданский брак</td>\n",
       "      <td>1</td>\n",
       "      <td>f</td>\n",
       "      <td>сотрудник</td>\n",
       "      <td>0</td>\n",
       "      <td>95856.83242386373</td>\n",
       "      <td>на проведение свадьбы</td>\n",
       "    </tr>\n",
       "    <tr>\n",
       "      <td>9</td>\n",
       "      <td>0</td>\n",
       "      <td>-2188.7564450779378</td>\n",
       "      <td>41</td>\n",
       "      <td>среднее</td>\n",
       "      <td>1</td>\n",
       "      <td>женат / замужем</td>\n",
       "      <td>0</td>\n",
       "      <td>m</td>\n",
       "      <td>сотрудник</td>\n",
       "      <td>0</td>\n",
       "      <td>144425.93827708642</td>\n",
       "      <td>покупка жилья для семьи</td>\n",
       "    </tr>\n",
       "    <tr>\n",
       "      <td>10</td>\n",
       "      <td>2</td>\n",
       "      <td>-4171.483646903305</td>\n",
       "      <td>36</td>\n",
       "      <td>высшее</td>\n",
       "      <td>0</td>\n",
       "      <td>женат / замужем</td>\n",
       "      <td>0</td>\n",
       "      <td>m</td>\n",
       "      <td>компаньон</td>\n",
       "      <td>0</td>\n",
       "      <td>113943.4914603043</td>\n",
       "      <td>покупка недвижимости</td>\n",
       "    </tr>\n",
       "    <tr>\n",
       "      <td>11</td>\n",
       "      <td>0</td>\n",
       "      <td>-792.7018870609315</td>\n",
       "      <td>40</td>\n",
       "      <td>среднее</td>\n",
       "      <td>1</td>\n",
       "      <td>женат / замужем</td>\n",
       "      <td>0</td>\n",
       "      <td>f</td>\n",
       "      <td>сотрудник</td>\n",
       "      <td>0</td>\n",
       "      <td>77069.23427130934</td>\n",
       "      <td>покупка коммерческой недвижимости</td>\n",
       "    </tr>\n",
       "    <tr>\n",
       "      <td>12</td>\n",
       "      <td>0</td>\n",
       "      <td>-1203.369528770489</td>\n",
       "      <td>65</td>\n",
       "      <td>среднее</td>\n",
       "      <td>1</td>\n",
       "      <td>гражданский брак</td>\n",
       "      <td>1</td>\n",
       "      <td>m</td>\n",
       "      <td>пенсионер</td>\n",
       "      <td>0</td>\n",
       "      <td>145017.93753253992</td>\n",
       "      <td>сыграть свадьбу</td>\n",
       "    </tr>\n",
       "    <tr>\n",
       "      <td>13</td>\n",
       "      <td>0</td>\n",
       "      <td>-1846.6419410560736</td>\n",
       "      <td>54</td>\n",
       "      <td>неоконченное высшее</td>\n",
       "      <td>2</td>\n",
       "      <td>женат / замужем</td>\n",
       "      <td>0</td>\n",
       "      <td>f</td>\n",
       "      <td>сотрудник</td>\n",
       "      <td>0</td>\n",
       "      <td>130458.22885695785</td>\n",
       "      <td>приобретение автомобиля</td>\n",
       "    </tr>\n",
       "    <tr>\n",
       "      <td>14</td>\n",
       "      <td>0</td>\n",
       "      <td>-1844.9561821875545</td>\n",
       "      <td>56</td>\n",
       "      <td>высшее</td>\n",
       "      <td>0</td>\n",
       "      <td>гражданский брак</td>\n",
       "      <td>1</td>\n",
       "      <td>f</td>\n",
       "      <td>компаньон</td>\n",
       "      <td>1</td>\n",
       "      <td>165127.91177218047</td>\n",
       "      <td>покупка жилой недвижимости</td>\n",
       "    </tr>\n",
       "  </tbody>\n",
       "</table>\n",
       "</div>"
      ],
      "text/plain": [
       "   children        days_employed dob_years            education education_id  \\\n",
       "0         1   -8437.673027760233        42               высшее            0   \n",
       "1         1   -4024.803753850451        36              среднее            1   \n",
       "2         0   -5623.422610230956        33              среднее            1   \n",
       "3         3   -4124.747206540018        32              среднее            1   \n",
       "4         0   340266.07204682194        53              среднее            1   \n",
       "5         0   -926.1858308789183        27               высшее            0   \n",
       "6         0   -2879.202052139952        43               высшее            0   \n",
       "7         0   -152.7795691752705        50              среднее            1   \n",
       "8         2   -6929.865298973741        35               высшее            0   \n",
       "9         0  -2188.7564450779378        41              среднее            1   \n",
       "10        2   -4171.483646903305        36               высшее            0   \n",
       "11        0   -792.7018870609315        40              среднее            1   \n",
       "12        0   -1203.369528770489        65              среднее            1   \n",
       "13        0  -1846.6419410560736        54  неоконченное высшее            2   \n",
       "14        0  -1844.9561821875545        56               высшее            0   \n",
       "\n",
       "       family_status family_status_id gender income_type debt  \\\n",
       "0    женат / замужем                0      f   сотрудник    0   \n",
       "1    женат / замужем                0      f   сотрудник    0   \n",
       "2    женат / замужем                0      m   сотрудник    0   \n",
       "3    женат / замужем                0      m   сотрудник    0   \n",
       "4   гражданский брак                1      f   пенсионер    0   \n",
       "5   гражданский брак                1      m   компаньон    0   \n",
       "6    женат / замужем                0      f   компаньон    0   \n",
       "7    женат / замужем                0      m   сотрудник    0   \n",
       "8   гражданский брак                1      f   сотрудник    0   \n",
       "9    женат / замужем                0      m   сотрудник    0   \n",
       "10   женат / замужем                0      m   компаньон    0   \n",
       "11   женат / замужем                0      f   сотрудник    0   \n",
       "12  гражданский брак                1      m   пенсионер    0   \n",
       "13   женат / замужем                0      f   сотрудник    0   \n",
       "14  гражданский брак                1      f   компаньон    1   \n",
       "\n",
       "          total_income                            purpose  \n",
       "0    253875.6394525987                      покупка жилья  \n",
       "1   112080.01410244203            приобретение автомобиля  \n",
       "2   145885.95229686378                      покупка жилья  \n",
       "3    267628.5503294142         дополнительное образование  \n",
       "4   158616.07787006293                    сыграть свадьбу  \n",
       "5   255763.56541904988                      покупка жилья  \n",
       "6    240525.9719203061                  операции с жильем  \n",
       "7   135823.93419727974                        образование  \n",
       "8    95856.83242386373              на проведение свадьбы  \n",
       "9   144425.93827708642            покупка жилья для семьи  \n",
       "10   113943.4914603043               покупка недвижимости  \n",
       "11   77069.23427130934  покупка коммерческой недвижимости  \n",
       "12  145017.93753253992                    сыграть свадьбу  \n",
       "13  130458.22885695785            приобретение автомобиля  \n",
       "14  165127.91177218047         покупка жилой недвижимости  "
      ]
     },
     "metadata": {},
     "output_type": "display_data"
    }
   ],
   "source": [
    "# проверим, получилось ли привести датасет к нижнему регистру\n",
    "display(df.head(15))"
   ]
  },
  {
   "cell_type": "markdown",
   "metadata": {},
   "source": [
    "<div class=\"alert alert-info\">\n",
    "<b>Комментарий:</b> Дата сет приведен к нижнему регистру.\n",
    "    <br>\n",
    "</div>"
   ]
  },
  {
   "cell_type": "code",
   "execution_count": 36,
   "metadata": {},
   "outputs": [],
   "source": [
    "# сначала приведем все данные во фреймах данных 'days_employed' и 'total_income' в тип float \n",
    "df[['days_employed','total_income']] = df[['days_employed','total_income']].astype(float)"
   ]
  },
  {
   "cell_type": "code",
   "execution_count": 37,
   "metadata": {},
   "outputs": [],
   "source": [
    "# теперь попробуем преобразовать во фреймах данных 'days_employed' и 'total_income' с float на int \n",
    "df[['days_employed','total_income']] = df[['days_employed','total_income']].astype(int)"
   ]
  },
  {
   "cell_type": "code",
   "execution_count": 38,
   "metadata": {},
   "outputs": [
    {
     "data": {
      "text/html": [
       "<div>\n",
       "<style scoped>\n",
       "    .dataframe tbody tr th:only-of-type {\n",
       "        vertical-align: middle;\n",
       "    }\n",
       "\n",
       "    .dataframe tbody tr th {\n",
       "        vertical-align: top;\n",
       "    }\n",
       "\n",
       "    .dataframe thead th {\n",
       "        text-align: right;\n",
       "    }\n",
       "</style>\n",
       "<table border=\"1\" class=\"dataframe\">\n",
       "  <thead>\n",
       "    <tr style=\"text-align: right;\">\n",
       "      <th></th>\n",
       "      <th>children</th>\n",
       "      <th>days_employed</th>\n",
       "      <th>dob_years</th>\n",
       "      <th>education</th>\n",
       "      <th>education_id</th>\n",
       "      <th>family_status</th>\n",
       "      <th>family_status_id</th>\n",
       "      <th>gender</th>\n",
       "      <th>income_type</th>\n",
       "      <th>debt</th>\n",
       "      <th>total_income</th>\n",
       "      <th>purpose</th>\n",
       "    </tr>\n",
       "  </thead>\n",
       "  <tbody>\n",
       "    <tr>\n",
       "      <td>0</td>\n",
       "      <td>1</td>\n",
       "      <td>-8437</td>\n",
       "      <td>42</td>\n",
       "      <td>высшее</td>\n",
       "      <td>0</td>\n",
       "      <td>женат / замужем</td>\n",
       "      <td>0</td>\n",
       "      <td>f</td>\n",
       "      <td>сотрудник</td>\n",
       "      <td>0</td>\n",
       "      <td>253875</td>\n",
       "      <td>покупка жилья</td>\n",
       "    </tr>\n",
       "    <tr>\n",
       "      <td>1</td>\n",
       "      <td>1</td>\n",
       "      <td>-4024</td>\n",
       "      <td>36</td>\n",
       "      <td>среднее</td>\n",
       "      <td>1</td>\n",
       "      <td>женат / замужем</td>\n",
       "      <td>0</td>\n",
       "      <td>f</td>\n",
       "      <td>сотрудник</td>\n",
       "      <td>0</td>\n",
       "      <td>112080</td>\n",
       "      <td>приобретение автомобиля</td>\n",
       "    </tr>\n",
       "    <tr>\n",
       "      <td>2</td>\n",
       "      <td>0</td>\n",
       "      <td>-5623</td>\n",
       "      <td>33</td>\n",
       "      <td>среднее</td>\n",
       "      <td>1</td>\n",
       "      <td>женат / замужем</td>\n",
       "      <td>0</td>\n",
       "      <td>m</td>\n",
       "      <td>сотрудник</td>\n",
       "      <td>0</td>\n",
       "      <td>145885</td>\n",
       "      <td>покупка жилья</td>\n",
       "    </tr>\n",
       "    <tr>\n",
       "      <td>3</td>\n",
       "      <td>3</td>\n",
       "      <td>-4124</td>\n",
       "      <td>32</td>\n",
       "      <td>среднее</td>\n",
       "      <td>1</td>\n",
       "      <td>женат / замужем</td>\n",
       "      <td>0</td>\n",
       "      <td>m</td>\n",
       "      <td>сотрудник</td>\n",
       "      <td>0</td>\n",
       "      <td>267628</td>\n",
       "      <td>дополнительное образование</td>\n",
       "    </tr>\n",
       "    <tr>\n",
       "      <td>4</td>\n",
       "      <td>0</td>\n",
       "      <td>340266</td>\n",
       "      <td>53</td>\n",
       "      <td>среднее</td>\n",
       "      <td>1</td>\n",
       "      <td>гражданский брак</td>\n",
       "      <td>1</td>\n",
       "      <td>f</td>\n",
       "      <td>пенсионер</td>\n",
       "      <td>0</td>\n",
       "      <td>158616</td>\n",
       "      <td>сыграть свадьбу</td>\n",
       "    </tr>\n",
       "    <tr>\n",
       "      <td>5</td>\n",
       "      <td>0</td>\n",
       "      <td>-926</td>\n",
       "      <td>27</td>\n",
       "      <td>высшее</td>\n",
       "      <td>0</td>\n",
       "      <td>гражданский брак</td>\n",
       "      <td>1</td>\n",
       "      <td>m</td>\n",
       "      <td>компаньон</td>\n",
       "      <td>0</td>\n",
       "      <td>255763</td>\n",
       "      <td>покупка жилья</td>\n",
       "    </tr>\n",
       "    <tr>\n",
       "      <td>6</td>\n",
       "      <td>0</td>\n",
       "      <td>-2879</td>\n",
       "      <td>43</td>\n",
       "      <td>высшее</td>\n",
       "      <td>0</td>\n",
       "      <td>женат / замужем</td>\n",
       "      <td>0</td>\n",
       "      <td>f</td>\n",
       "      <td>компаньон</td>\n",
       "      <td>0</td>\n",
       "      <td>240525</td>\n",
       "      <td>операции с жильем</td>\n",
       "    </tr>\n",
       "    <tr>\n",
       "      <td>7</td>\n",
       "      <td>0</td>\n",
       "      <td>-152</td>\n",
       "      <td>50</td>\n",
       "      <td>среднее</td>\n",
       "      <td>1</td>\n",
       "      <td>женат / замужем</td>\n",
       "      <td>0</td>\n",
       "      <td>m</td>\n",
       "      <td>сотрудник</td>\n",
       "      <td>0</td>\n",
       "      <td>135823</td>\n",
       "      <td>образование</td>\n",
       "    </tr>\n",
       "    <tr>\n",
       "      <td>8</td>\n",
       "      <td>2</td>\n",
       "      <td>-6929</td>\n",
       "      <td>35</td>\n",
       "      <td>высшее</td>\n",
       "      <td>0</td>\n",
       "      <td>гражданский брак</td>\n",
       "      <td>1</td>\n",
       "      <td>f</td>\n",
       "      <td>сотрудник</td>\n",
       "      <td>0</td>\n",
       "      <td>95856</td>\n",
       "      <td>на проведение свадьбы</td>\n",
       "    </tr>\n",
       "    <tr>\n",
       "      <td>9</td>\n",
       "      <td>0</td>\n",
       "      <td>-2188</td>\n",
       "      <td>41</td>\n",
       "      <td>среднее</td>\n",
       "      <td>1</td>\n",
       "      <td>женат / замужем</td>\n",
       "      <td>0</td>\n",
       "      <td>m</td>\n",
       "      <td>сотрудник</td>\n",
       "      <td>0</td>\n",
       "      <td>144425</td>\n",
       "      <td>покупка жилья для семьи</td>\n",
       "    </tr>\n",
       "    <tr>\n",
       "      <td>10</td>\n",
       "      <td>2</td>\n",
       "      <td>-4171</td>\n",
       "      <td>36</td>\n",
       "      <td>высшее</td>\n",
       "      <td>0</td>\n",
       "      <td>женат / замужем</td>\n",
       "      <td>0</td>\n",
       "      <td>m</td>\n",
       "      <td>компаньон</td>\n",
       "      <td>0</td>\n",
       "      <td>113943</td>\n",
       "      <td>покупка недвижимости</td>\n",
       "    </tr>\n",
       "    <tr>\n",
       "      <td>11</td>\n",
       "      <td>0</td>\n",
       "      <td>-792</td>\n",
       "      <td>40</td>\n",
       "      <td>среднее</td>\n",
       "      <td>1</td>\n",
       "      <td>женат / замужем</td>\n",
       "      <td>0</td>\n",
       "      <td>f</td>\n",
       "      <td>сотрудник</td>\n",
       "      <td>0</td>\n",
       "      <td>77069</td>\n",
       "      <td>покупка коммерческой недвижимости</td>\n",
       "    </tr>\n",
       "    <tr>\n",
       "      <td>12</td>\n",
       "      <td>0</td>\n",
       "      <td>-1203</td>\n",
       "      <td>65</td>\n",
       "      <td>среднее</td>\n",
       "      <td>1</td>\n",
       "      <td>гражданский брак</td>\n",
       "      <td>1</td>\n",
       "      <td>m</td>\n",
       "      <td>пенсионер</td>\n",
       "      <td>0</td>\n",
       "      <td>145017</td>\n",
       "      <td>сыграть свадьбу</td>\n",
       "    </tr>\n",
       "    <tr>\n",
       "      <td>13</td>\n",
       "      <td>0</td>\n",
       "      <td>-1846</td>\n",
       "      <td>54</td>\n",
       "      <td>неоконченное высшее</td>\n",
       "      <td>2</td>\n",
       "      <td>женат / замужем</td>\n",
       "      <td>0</td>\n",
       "      <td>f</td>\n",
       "      <td>сотрудник</td>\n",
       "      <td>0</td>\n",
       "      <td>130458</td>\n",
       "      <td>приобретение автомобиля</td>\n",
       "    </tr>\n",
       "    <tr>\n",
       "      <td>14</td>\n",
       "      <td>0</td>\n",
       "      <td>-1844</td>\n",
       "      <td>56</td>\n",
       "      <td>высшее</td>\n",
       "      <td>0</td>\n",
       "      <td>гражданский брак</td>\n",
       "      <td>1</td>\n",
       "      <td>f</td>\n",
       "      <td>компаньон</td>\n",
       "      <td>1</td>\n",
       "      <td>165127</td>\n",
       "      <td>покупка жилой недвижимости</td>\n",
       "    </tr>\n",
       "  </tbody>\n",
       "</table>\n",
       "</div>"
      ],
      "text/plain": [
       "   children  days_employed dob_years            education education_id  \\\n",
       "0         1          -8437        42               высшее            0   \n",
       "1         1          -4024        36              среднее            1   \n",
       "2         0          -5623        33              среднее            1   \n",
       "3         3          -4124        32              среднее            1   \n",
       "4         0         340266        53              среднее            1   \n",
       "5         0           -926        27               высшее            0   \n",
       "6         0          -2879        43               высшее            0   \n",
       "7         0           -152        50              среднее            1   \n",
       "8         2          -6929        35               высшее            0   \n",
       "9         0          -2188        41              среднее            1   \n",
       "10        2          -4171        36               высшее            0   \n",
       "11        0           -792        40              среднее            1   \n",
       "12        0          -1203        65              среднее            1   \n",
       "13        0          -1846        54  неоконченное высшее            2   \n",
       "14        0          -1844        56               высшее            0   \n",
       "\n",
       "       family_status family_status_id gender income_type debt  total_income  \\\n",
       "0    женат / замужем                0      f   сотрудник    0        253875   \n",
       "1    женат / замужем                0      f   сотрудник    0        112080   \n",
       "2    женат / замужем                0      m   сотрудник    0        145885   \n",
       "3    женат / замужем                0      m   сотрудник    0        267628   \n",
       "4   гражданский брак                1      f   пенсионер    0        158616   \n",
       "5   гражданский брак                1      m   компаньон    0        255763   \n",
       "6    женат / замужем                0      f   компаньон    0        240525   \n",
       "7    женат / замужем                0      m   сотрудник    0        135823   \n",
       "8   гражданский брак                1      f   сотрудник    0         95856   \n",
       "9    женат / замужем                0      m   сотрудник    0        144425   \n",
       "10   женат / замужем                0      m   компаньон    0        113943   \n",
       "11   женат / замужем                0      f   сотрудник    0         77069   \n",
       "12  гражданский брак                1      m   пенсионер    0        145017   \n",
       "13   женат / замужем                0      f   сотрудник    0        130458   \n",
       "14  гражданский брак                1      f   компаньон    1        165127   \n",
       "\n",
       "                              purpose  \n",
       "0                       покупка жилья  \n",
       "1             приобретение автомобиля  \n",
       "2                       покупка жилья  \n",
       "3          дополнительное образование  \n",
       "4                     сыграть свадьбу  \n",
       "5                       покупка жилья  \n",
       "6                   операции с жильем  \n",
       "7                         образование  \n",
       "8               на проведение свадьбы  \n",
       "9             покупка жилья для семьи  \n",
       "10               покупка недвижимости  \n",
       "11  покупка коммерческой недвижимости  \n",
       "12                    сыграть свадьбу  \n",
       "13            приобретение автомобиля  \n",
       "14         покупка жилой недвижимости  "
      ]
     },
     "metadata": {},
     "output_type": "display_data"
    }
   ],
   "source": [
    "# проверим, получилось ли привести в нужные типы данных int\n",
    "display(df.head(15))"
   ]
  },
  {
   "cell_type": "markdown",
   "metadata": {},
   "source": [
    "<div class=\"alert alert-info\">\n",
    "<b>Комментарий:</b> В атрибуте \"days_employed\"(общий трудовой стаж в днях) отрицательные числа соотнесены в положительные.\n",
    "    <br>\n",
    "</div>"
   ]
  },
  {
   "cell_type": "code",
   "execution_count": 39,
   "metadata": {},
   "outputs": [],
   "source": [
    "# теперь попробуем устранить отрицательные значения во фрейме данных 'days_employed'\n",
    "df['days_employed'] = df['days_employed'].abs()"
   ]
  },
  {
   "cell_type": "code",
   "execution_count": 40,
   "metadata": {},
   "outputs": [
    {
     "data": {
      "text/html": [
       "<div>\n",
       "<style scoped>\n",
       "    .dataframe tbody tr th:only-of-type {\n",
       "        vertical-align: middle;\n",
       "    }\n",
       "\n",
       "    .dataframe tbody tr th {\n",
       "        vertical-align: top;\n",
       "    }\n",
       "\n",
       "    .dataframe thead th {\n",
       "        text-align: right;\n",
       "    }\n",
       "</style>\n",
       "<table border=\"1\" class=\"dataframe\">\n",
       "  <thead>\n",
       "    <tr style=\"text-align: right;\">\n",
       "      <th></th>\n",
       "      <th>children</th>\n",
       "      <th>days_employed</th>\n",
       "      <th>dob_years</th>\n",
       "      <th>education</th>\n",
       "      <th>education_id</th>\n",
       "      <th>family_status</th>\n",
       "      <th>family_status_id</th>\n",
       "      <th>gender</th>\n",
       "      <th>income_type</th>\n",
       "      <th>debt</th>\n",
       "      <th>total_income</th>\n",
       "      <th>purpose</th>\n",
       "    </tr>\n",
       "  </thead>\n",
       "  <tbody>\n",
       "    <tr>\n",
       "      <td>0</td>\n",
       "      <td>1</td>\n",
       "      <td>8437</td>\n",
       "      <td>42</td>\n",
       "      <td>высшее</td>\n",
       "      <td>0</td>\n",
       "      <td>женат / замужем</td>\n",
       "      <td>0</td>\n",
       "      <td>f</td>\n",
       "      <td>сотрудник</td>\n",
       "      <td>0</td>\n",
       "      <td>253875</td>\n",
       "      <td>покупка жилья</td>\n",
       "    </tr>\n",
       "    <tr>\n",
       "      <td>1</td>\n",
       "      <td>1</td>\n",
       "      <td>4024</td>\n",
       "      <td>36</td>\n",
       "      <td>среднее</td>\n",
       "      <td>1</td>\n",
       "      <td>женат / замужем</td>\n",
       "      <td>0</td>\n",
       "      <td>f</td>\n",
       "      <td>сотрудник</td>\n",
       "      <td>0</td>\n",
       "      <td>112080</td>\n",
       "      <td>приобретение автомобиля</td>\n",
       "    </tr>\n",
       "    <tr>\n",
       "      <td>2</td>\n",
       "      <td>0</td>\n",
       "      <td>5623</td>\n",
       "      <td>33</td>\n",
       "      <td>среднее</td>\n",
       "      <td>1</td>\n",
       "      <td>женат / замужем</td>\n",
       "      <td>0</td>\n",
       "      <td>m</td>\n",
       "      <td>сотрудник</td>\n",
       "      <td>0</td>\n",
       "      <td>145885</td>\n",
       "      <td>покупка жилья</td>\n",
       "    </tr>\n",
       "    <tr>\n",
       "      <td>3</td>\n",
       "      <td>3</td>\n",
       "      <td>4124</td>\n",
       "      <td>32</td>\n",
       "      <td>среднее</td>\n",
       "      <td>1</td>\n",
       "      <td>женат / замужем</td>\n",
       "      <td>0</td>\n",
       "      <td>m</td>\n",
       "      <td>сотрудник</td>\n",
       "      <td>0</td>\n",
       "      <td>267628</td>\n",
       "      <td>дополнительное образование</td>\n",
       "    </tr>\n",
       "    <tr>\n",
       "      <td>4</td>\n",
       "      <td>0</td>\n",
       "      <td>340266</td>\n",
       "      <td>53</td>\n",
       "      <td>среднее</td>\n",
       "      <td>1</td>\n",
       "      <td>гражданский брак</td>\n",
       "      <td>1</td>\n",
       "      <td>f</td>\n",
       "      <td>пенсионер</td>\n",
       "      <td>0</td>\n",
       "      <td>158616</td>\n",
       "      <td>сыграть свадьбу</td>\n",
       "    </tr>\n",
       "    <tr>\n",
       "      <td>5</td>\n",
       "      <td>0</td>\n",
       "      <td>926</td>\n",
       "      <td>27</td>\n",
       "      <td>высшее</td>\n",
       "      <td>0</td>\n",
       "      <td>гражданский брак</td>\n",
       "      <td>1</td>\n",
       "      <td>m</td>\n",
       "      <td>компаньон</td>\n",
       "      <td>0</td>\n",
       "      <td>255763</td>\n",
       "      <td>покупка жилья</td>\n",
       "    </tr>\n",
       "    <tr>\n",
       "      <td>6</td>\n",
       "      <td>0</td>\n",
       "      <td>2879</td>\n",
       "      <td>43</td>\n",
       "      <td>высшее</td>\n",
       "      <td>0</td>\n",
       "      <td>женат / замужем</td>\n",
       "      <td>0</td>\n",
       "      <td>f</td>\n",
       "      <td>компаньон</td>\n",
       "      <td>0</td>\n",
       "      <td>240525</td>\n",
       "      <td>операции с жильем</td>\n",
       "    </tr>\n",
       "    <tr>\n",
       "      <td>7</td>\n",
       "      <td>0</td>\n",
       "      <td>152</td>\n",
       "      <td>50</td>\n",
       "      <td>среднее</td>\n",
       "      <td>1</td>\n",
       "      <td>женат / замужем</td>\n",
       "      <td>0</td>\n",
       "      <td>m</td>\n",
       "      <td>сотрудник</td>\n",
       "      <td>0</td>\n",
       "      <td>135823</td>\n",
       "      <td>образование</td>\n",
       "    </tr>\n",
       "    <tr>\n",
       "      <td>8</td>\n",
       "      <td>2</td>\n",
       "      <td>6929</td>\n",
       "      <td>35</td>\n",
       "      <td>высшее</td>\n",
       "      <td>0</td>\n",
       "      <td>гражданский брак</td>\n",
       "      <td>1</td>\n",
       "      <td>f</td>\n",
       "      <td>сотрудник</td>\n",
       "      <td>0</td>\n",
       "      <td>95856</td>\n",
       "      <td>на проведение свадьбы</td>\n",
       "    </tr>\n",
       "    <tr>\n",
       "      <td>9</td>\n",
       "      <td>0</td>\n",
       "      <td>2188</td>\n",
       "      <td>41</td>\n",
       "      <td>среднее</td>\n",
       "      <td>1</td>\n",
       "      <td>женат / замужем</td>\n",
       "      <td>0</td>\n",
       "      <td>m</td>\n",
       "      <td>сотрудник</td>\n",
       "      <td>0</td>\n",
       "      <td>144425</td>\n",
       "      <td>покупка жилья для семьи</td>\n",
       "    </tr>\n",
       "    <tr>\n",
       "      <td>10</td>\n",
       "      <td>2</td>\n",
       "      <td>4171</td>\n",
       "      <td>36</td>\n",
       "      <td>высшее</td>\n",
       "      <td>0</td>\n",
       "      <td>женат / замужем</td>\n",
       "      <td>0</td>\n",
       "      <td>m</td>\n",
       "      <td>компаньон</td>\n",
       "      <td>0</td>\n",
       "      <td>113943</td>\n",
       "      <td>покупка недвижимости</td>\n",
       "    </tr>\n",
       "    <tr>\n",
       "      <td>11</td>\n",
       "      <td>0</td>\n",
       "      <td>792</td>\n",
       "      <td>40</td>\n",
       "      <td>среднее</td>\n",
       "      <td>1</td>\n",
       "      <td>женат / замужем</td>\n",
       "      <td>0</td>\n",
       "      <td>f</td>\n",
       "      <td>сотрудник</td>\n",
       "      <td>0</td>\n",
       "      <td>77069</td>\n",
       "      <td>покупка коммерческой недвижимости</td>\n",
       "    </tr>\n",
       "    <tr>\n",
       "      <td>12</td>\n",
       "      <td>0</td>\n",
       "      <td>1203</td>\n",
       "      <td>65</td>\n",
       "      <td>среднее</td>\n",
       "      <td>1</td>\n",
       "      <td>гражданский брак</td>\n",
       "      <td>1</td>\n",
       "      <td>m</td>\n",
       "      <td>пенсионер</td>\n",
       "      <td>0</td>\n",
       "      <td>145017</td>\n",
       "      <td>сыграть свадьбу</td>\n",
       "    </tr>\n",
       "    <tr>\n",
       "      <td>13</td>\n",
       "      <td>0</td>\n",
       "      <td>1846</td>\n",
       "      <td>54</td>\n",
       "      <td>неоконченное высшее</td>\n",
       "      <td>2</td>\n",
       "      <td>женат / замужем</td>\n",
       "      <td>0</td>\n",
       "      <td>f</td>\n",
       "      <td>сотрудник</td>\n",
       "      <td>0</td>\n",
       "      <td>130458</td>\n",
       "      <td>приобретение автомобиля</td>\n",
       "    </tr>\n",
       "    <tr>\n",
       "      <td>14</td>\n",
       "      <td>0</td>\n",
       "      <td>1844</td>\n",
       "      <td>56</td>\n",
       "      <td>высшее</td>\n",
       "      <td>0</td>\n",
       "      <td>гражданский брак</td>\n",
       "      <td>1</td>\n",
       "      <td>f</td>\n",
       "      <td>компаньон</td>\n",
       "      <td>1</td>\n",
       "      <td>165127</td>\n",
       "      <td>покупка жилой недвижимости</td>\n",
       "    </tr>\n",
       "  </tbody>\n",
       "</table>\n",
       "</div>"
      ],
      "text/plain": [
       "   children  days_employed dob_years            education education_id  \\\n",
       "0         1           8437        42               высшее            0   \n",
       "1         1           4024        36              среднее            1   \n",
       "2         0           5623        33              среднее            1   \n",
       "3         3           4124        32              среднее            1   \n",
       "4         0         340266        53              среднее            1   \n",
       "5         0            926        27               высшее            0   \n",
       "6         0           2879        43               высшее            0   \n",
       "7         0            152        50              среднее            1   \n",
       "8         2           6929        35               высшее            0   \n",
       "9         0           2188        41              среднее            1   \n",
       "10        2           4171        36               высшее            0   \n",
       "11        0            792        40              среднее            1   \n",
       "12        0           1203        65              среднее            1   \n",
       "13        0           1846        54  неоконченное высшее            2   \n",
       "14        0           1844        56               высшее            0   \n",
       "\n",
       "       family_status family_status_id gender income_type debt  total_income  \\\n",
       "0    женат / замужем                0      f   сотрудник    0        253875   \n",
       "1    женат / замужем                0      f   сотрудник    0        112080   \n",
       "2    женат / замужем                0      m   сотрудник    0        145885   \n",
       "3    женат / замужем                0      m   сотрудник    0        267628   \n",
       "4   гражданский брак                1      f   пенсионер    0        158616   \n",
       "5   гражданский брак                1      m   компаньон    0        255763   \n",
       "6    женат / замужем                0      f   компаньон    0        240525   \n",
       "7    женат / замужем                0      m   сотрудник    0        135823   \n",
       "8   гражданский брак                1      f   сотрудник    0         95856   \n",
       "9    женат / замужем                0      m   сотрудник    0        144425   \n",
       "10   женат / замужем                0      m   компаньон    0        113943   \n",
       "11   женат / замужем                0      f   сотрудник    0         77069   \n",
       "12  гражданский брак                1      m   пенсионер    0        145017   \n",
       "13   женат / замужем                0      f   сотрудник    0        130458   \n",
       "14  гражданский брак                1      f   компаньон    1        165127   \n",
       "\n",
       "                              purpose  \n",
       "0                       покупка жилья  \n",
       "1             приобретение автомобиля  \n",
       "2                       покупка жилья  \n",
       "3          дополнительное образование  \n",
       "4                     сыграть свадьбу  \n",
       "5                       покупка жилья  \n",
       "6                   операции с жильем  \n",
       "7                         образование  \n",
       "8               на проведение свадьбы  \n",
       "9             покупка жилья для семьи  \n",
       "10               покупка недвижимости  \n",
       "11  покупка коммерческой недвижимости  \n",
       "12                    сыграть свадьбу  \n",
       "13            приобретение автомобиля  \n",
       "14         покупка жилой недвижимости  "
      ]
     },
     "metadata": {},
     "output_type": "display_data"
    }
   ],
   "source": [
    "# проверим, получилось ли привести в нужные типы данных int\n",
    "display(df.head(15))"
   ]
  },
  {
   "cell_type": "markdown",
   "metadata": {},
   "source": [
    "<div class=\"alert alert-info\">\n",
    "<b>Комментарий:</b> В атрибуте \"total_income\" отрицательные числа соотнесены в положительные.\n",
    "    <br>\n",
    "</div>"
   ]
  },
  {
   "cell_type": "code",
   "execution_count": 41,
   "metadata": {},
   "outputs": [],
   "source": [
    "# добавим столбец id_client\n",
    "df['id_client'] = df.reset_index().index"
   ]
  },
  {
   "cell_type": "markdown",
   "metadata": {},
   "source": [
    "### Замена типа данных"
   ]
  },
  {
   "cell_type": "code",
   "execution_count": 42,
   "metadata": {},
   "outputs": [],
   "source": [
    "# изменим для удобства в работе расположение столбцов\n",
    "df = df[['id_client','dob_years', 'gender','total_income', 'debt', 'children','education_id', 'education', 'days_employed', 'income_type', 'purpose', 'family_status_id', 'family_status']]"
   ]
  },
  {
   "cell_type": "code",
   "execution_count": 43,
   "metadata": {},
   "outputs": [
    {
     "data": {
      "text/html": [
       "<div>\n",
       "<style scoped>\n",
       "    .dataframe tbody tr th:only-of-type {\n",
       "        vertical-align: middle;\n",
       "    }\n",
       "\n",
       "    .dataframe tbody tr th {\n",
       "        vertical-align: top;\n",
       "    }\n",
       "\n",
       "    .dataframe thead th {\n",
       "        text-align: right;\n",
       "    }\n",
       "</style>\n",
       "<table border=\"1\" class=\"dataframe\">\n",
       "  <thead>\n",
       "    <tr style=\"text-align: right;\">\n",
       "      <th></th>\n",
       "      <th>id_client</th>\n",
       "      <th>dob_years</th>\n",
       "      <th>gender</th>\n",
       "      <th>total_income</th>\n",
       "      <th>debt</th>\n",
       "      <th>children</th>\n",
       "      <th>education_id</th>\n",
       "      <th>education</th>\n",
       "      <th>days_employed</th>\n",
       "      <th>income_type</th>\n",
       "      <th>purpose</th>\n",
       "      <th>family_status_id</th>\n",
       "      <th>family_status</th>\n",
       "    </tr>\n",
       "  </thead>\n",
       "  <tbody>\n",
       "    <tr>\n",
       "      <td>0</td>\n",
       "      <td>0</td>\n",
       "      <td>42</td>\n",
       "      <td>f</td>\n",
       "      <td>253875</td>\n",
       "      <td>0</td>\n",
       "      <td>1</td>\n",
       "      <td>0</td>\n",
       "      <td>высшее</td>\n",
       "      <td>8437</td>\n",
       "      <td>сотрудник</td>\n",
       "      <td>покупка жилья</td>\n",
       "      <td>0</td>\n",
       "      <td>женат / замужем</td>\n",
       "    </tr>\n",
       "    <tr>\n",
       "      <td>1</td>\n",
       "      <td>1</td>\n",
       "      <td>36</td>\n",
       "      <td>f</td>\n",
       "      <td>112080</td>\n",
       "      <td>0</td>\n",
       "      <td>1</td>\n",
       "      <td>1</td>\n",
       "      <td>среднее</td>\n",
       "      <td>4024</td>\n",
       "      <td>сотрудник</td>\n",
       "      <td>приобретение автомобиля</td>\n",
       "      <td>0</td>\n",
       "      <td>женат / замужем</td>\n",
       "    </tr>\n",
       "    <tr>\n",
       "      <td>2</td>\n",
       "      <td>2</td>\n",
       "      <td>33</td>\n",
       "      <td>m</td>\n",
       "      <td>145885</td>\n",
       "      <td>0</td>\n",
       "      <td>0</td>\n",
       "      <td>1</td>\n",
       "      <td>среднее</td>\n",
       "      <td>5623</td>\n",
       "      <td>сотрудник</td>\n",
       "      <td>покупка жилья</td>\n",
       "      <td>0</td>\n",
       "      <td>женат / замужем</td>\n",
       "    </tr>\n",
       "    <tr>\n",
       "      <td>3</td>\n",
       "      <td>3</td>\n",
       "      <td>32</td>\n",
       "      <td>m</td>\n",
       "      <td>267628</td>\n",
       "      <td>0</td>\n",
       "      <td>3</td>\n",
       "      <td>1</td>\n",
       "      <td>среднее</td>\n",
       "      <td>4124</td>\n",
       "      <td>сотрудник</td>\n",
       "      <td>дополнительное образование</td>\n",
       "      <td>0</td>\n",
       "      <td>женат / замужем</td>\n",
       "    </tr>\n",
       "    <tr>\n",
       "      <td>4</td>\n",
       "      <td>4</td>\n",
       "      <td>53</td>\n",
       "      <td>f</td>\n",
       "      <td>158616</td>\n",
       "      <td>0</td>\n",
       "      <td>0</td>\n",
       "      <td>1</td>\n",
       "      <td>среднее</td>\n",
       "      <td>340266</td>\n",
       "      <td>пенсионер</td>\n",
       "      <td>сыграть свадьбу</td>\n",
       "      <td>1</td>\n",
       "      <td>гражданский брак</td>\n",
       "    </tr>\n",
       "  </tbody>\n",
       "</table>\n",
       "</div>"
      ],
      "text/plain": [
       "   id_client dob_years gender  total_income debt children education_id  \\\n",
       "0          0        42      f        253875    0        1            0   \n",
       "1          1        36      f        112080    0        1            1   \n",
       "2          2        33      m        145885    0        0            1   \n",
       "3          3        32      m        267628    0        3            1   \n",
       "4          4        53      f        158616    0        0            1   \n",
       "\n",
       "  education  days_employed income_type                     purpose  \\\n",
       "0    высшее           8437   сотрудник               покупка жилья   \n",
       "1   среднее           4024   сотрудник     приобретение автомобиля   \n",
       "2   среднее           5623   сотрудник               покупка жилья   \n",
       "3   среднее           4124   сотрудник  дополнительное образование   \n",
       "4   среднее         340266   пенсионер             сыграть свадьбу   \n",
       "\n",
       "  family_status_id     family_status  \n",
       "0                0   женат / замужем  \n",
       "1                0   женат / замужем  \n",
       "2                0   женат / замужем  \n",
       "3                0   женат / замужем  \n",
       "4                1  гражданский брак  "
      ]
     },
     "metadata": {},
     "output_type": "display_data"
    }
   ],
   "source": [
    "# проверим\n",
    "display(df.head())"
   ]
  },
  {
   "cell_type": "code",
   "execution_count": 44,
   "metadata": {},
   "outputs": [
    {
     "name": "stdout",
     "output_type": "stream",
     "text": [
      "<class 'pandas.core.frame.DataFrame'>\n",
      "RangeIndex: 21525 entries, 0 to 21524\n",
      "Data columns (total 13 columns):\n",
      "id_client           21525 non-null int64\n",
      "dob_years           21525 non-null object\n",
      "gender              21525 non-null object\n",
      "total_income        21525 non-null int64\n",
      "debt                21525 non-null object\n",
      "children            21525 non-null object\n",
      "education_id        21525 non-null object\n",
      "education           21525 non-null object\n",
      "days_employed       21525 non-null int64\n",
      "income_type         21525 non-null object\n",
      "purpose             21525 non-null object\n",
      "family_status_id    21525 non-null object\n",
      "family_status       21525 non-null object\n",
      "dtypes: int64(3), object(10)\n",
      "memory usage: 2.1+ MB\n"
     ]
    }
   ],
   "source": [
    "# посмотрим все ли в порядке в таблице df\n",
    "df.info() "
   ]
  },
  {
   "cell_type": "markdown",
   "metadata": {},
   "source": [
    "<div class=\"alert alert-info\">\n",
    "<b>Комментарий:</b> Представляется, что таблица приобрела более читаемый вид, но столбцы dob_years, children, education_id family_status_id debt должны иметь тип данных int.\n",
    "    <br>\n",
    "</div>"
   ]
  },
  {
   "cell_type": "code",
   "execution_count": 45,
   "metadata": {},
   "outputs": [],
   "source": [
    "df[['dob_years','children', 'education_id', 'debt', 'family_status_id']] = df[['dob_years','children','education_id', 'debt', 'family_status_id']].astype(int)"
   ]
  },
  {
   "cell_type": "code",
   "execution_count": 46,
   "metadata": {},
   "outputs": [
    {
     "name": "stdout",
     "output_type": "stream",
     "text": [
      "<class 'pandas.core.frame.DataFrame'>\n",
      "RangeIndex: 21525 entries, 0 to 21524\n",
      "Data columns (total 13 columns):\n",
      "id_client           21525 non-null int64\n",
      "dob_years           21525 non-null int64\n",
      "gender              21525 non-null object\n",
      "total_income        21525 non-null int64\n",
      "debt                21525 non-null int64\n",
      "children            21525 non-null int64\n",
      "education_id        21525 non-null int64\n",
      "education           21525 non-null object\n",
      "days_employed       21525 non-null int64\n",
      "income_type         21525 non-null object\n",
      "purpose             21525 non-null object\n",
      "family_status_id    21525 non-null int64\n",
      "family_status       21525 non-null object\n",
      "dtypes: int64(8), object(5)\n",
      "memory usage: 2.1+ MB\n"
     ]
    }
   ],
   "source": [
    "# проверим еще раз\n",
    "df.info() "
   ]
  },
  {
   "cell_type": "code",
   "execution_count": 47,
   "metadata": {},
   "outputs": [],
   "source": [
    "# с учетом обнаруженной ошибки в работе над разделом категоризации необходимо устранить ошибку во фрейме данных children, уберем отрицательные значения\n",
    "df['children'] = df['children'].abs()"
   ]
  },
  {
   "cell_type": "markdown",
   "metadata": {},
   "source": []
  },
  {
   "cell_type": "markdown",
   "metadata": {},
   "source": [
    "### Обработка дубликатов"
   ]
  },
  {
   "cell_type": "code",
   "execution_count": 48,
   "metadata": {},
   "outputs": [
    {
     "data": {
      "text/plain": [
       "0"
      ]
     },
     "execution_count": 48,
     "metadata": {},
     "output_type": "execute_result"
    }
   ],
   "source": [
    "# рассмотреим дата сет на предмет наличия явных дубликатов\n",
    "(df.duplicated().sum())"
   ]
  },
  {
   "cell_type": "markdown",
   "metadata": {},
   "source": [
    "**Вывод**\n",
    "18_12_2021 - По результатам предобработки данных установлено следующее:\n",
    "1) Дата фрейм содержит значений nan - 4348, установлена симетричность данных nan в столбцах (общий трудовой стаж в днях) и (ежемесячном доходе). Это позволяет сделать заключение, что NaN ('не число') пропущено не случайно, а ввиду некоторых закономерностей.\n",
    "\n",
    "2) 1/5 данных содержало значение NaN. Их удаление негативно могло повлиять на метрики и выводы исследования. По этой причине в работе произошла замена значения 'nan' на медиану.\n",
    "\n",
    "3) Проделана работа по приведению данных к единым требованиям в части стиля их оформления, что является важной частью для обеспечения релевантности итоговых показателей. Например, удалены отрицательные значения там где они не приемлемы, обеспечен нижний регистр написания данных. \n",
    "\n"
   ]
  },
  {
   "cell_type": "code",
   "execution_count": 49,
   "metadata": {},
   "outputs": [
    {
     "name": "stdout",
     "output_type": "stream",
     "text": [
      "<class 'pandas.core.frame.DataFrame'>\n",
      "RangeIndex: 21525 entries, 0 to 21524\n",
      "Data columns (total 13 columns):\n",
      "id_client           21525 non-null int64\n",
      "dob_years           21525 non-null int64\n",
      "gender              21525 non-null object\n",
      "total_income        21525 non-null int64\n",
      "debt                21525 non-null int64\n",
      "children            21525 non-null int64\n",
      "education_id        21525 non-null int64\n",
      "education           21525 non-null object\n",
      "days_employed       21525 non-null int64\n",
      "income_type         21525 non-null object\n",
      "purpose             21525 non-null object\n",
      "family_status_id    21525 non-null int64\n",
      "family_status       21525 non-null object\n",
      "dtypes: int64(8), object(5)\n",
      "memory usage: 2.1+ MB\n"
     ]
    }
   ],
   "source": [
    "# посмотрим еще раз общую информацию\n",
    "df.info()"
   ]
  },
  {
   "cell_type": "code",
   "execution_count": 78,
   "metadata": {},
   "outputs": [
    {
     "data": {
      "text/html": [
       "<div>\n",
       "<style scoped>\n",
       "    .dataframe tbody tr th:only-of-type {\n",
       "        vertical-align: middle;\n",
       "    }\n",
       "\n",
       "    .dataframe tbody tr th {\n",
       "        vertical-align: top;\n",
       "    }\n",
       "\n",
       "    .dataframe thead th {\n",
       "        text-align: right;\n",
       "    }\n",
       "</style>\n",
       "<table border=\"1\" class=\"dataframe\">\n",
       "  <thead>\n",
       "    <tr style=\"text-align: right;\">\n",
       "      <th></th>\n",
       "      <th>id_client</th>\n",
       "      <th>dob_years</th>\n",
       "      <th>gender</th>\n",
       "      <th>total_income</th>\n",
       "      <th>debt</th>\n",
       "      <th>children</th>\n",
       "      <th>education_id</th>\n",
       "      <th>education</th>\n",
       "      <th>days_employed</th>\n",
       "      <th>income_type</th>\n",
       "      <th>purpose</th>\n",
       "      <th>family_status_id</th>\n",
       "      <th>family_status</th>\n",
       "      <th>purpose_id</th>\n",
       "      <th>category_children</th>\n",
       "      <th>category_total_income</th>\n",
       "      <th>category_purpose</th>\n",
       "    </tr>\n",
       "  </thead>\n",
       "  <tbody>\n",
       "    <tr>\n",
       "      <td>21510</td>\n",
       "      <td>21510</td>\n",
       "      <td>28</td>\n",
       "      <td>f</td>\n",
       "      <td>145017</td>\n",
       "      <td>0</td>\n",
       "      <td>2</td>\n",
       "      <td>1</td>\n",
       "      <td>среднее</td>\n",
       "      <td>1203</td>\n",
       "      <td>сотрудник</td>\n",
       "      <td>приобретение автомобиля</td>\n",
       "      <td>0</td>\n",
       "      <td>женат / замужем</td>\n",
       "      <td>1</td>\n",
       "      <td>семья</td>\n",
       "      <td>Доход от 120 до 200 тысяч</td>\n",
       "      <td>автомобиль</td>\n",
       "    </tr>\n",
       "    <tr>\n",
       "      <td>21511</td>\n",
       "      <td>21511</td>\n",
       "      <td>29</td>\n",
       "      <td>f</td>\n",
       "      <td>140068</td>\n",
       "      <td>1</td>\n",
       "      <td>0</td>\n",
       "      <td>0</td>\n",
       "      <td>высшее</td>\n",
       "      <td>612</td>\n",
       "      <td>сотрудник</td>\n",
       "      <td>покупка жилья для сдачи</td>\n",
       "      <td>1</td>\n",
       "      <td>гражданский брак</td>\n",
       "      <td>3</td>\n",
       "      <td>нет детей</td>\n",
       "      <td>Доход от 120 до 200 тысяч</td>\n",
       "      <td>жилая недвижимость</td>\n",
       "    </tr>\n",
       "    <tr>\n",
       "      <td>21512</td>\n",
       "      <td>21512</td>\n",
       "      <td>26</td>\n",
       "      <td>m</td>\n",
       "      <td>147301</td>\n",
       "      <td>0</td>\n",
       "      <td>0</td>\n",
       "      <td>0</td>\n",
       "      <td>высшее</td>\n",
       "      <td>165</td>\n",
       "      <td>компаньон</td>\n",
       "      <td>получение дополнительного образования</td>\n",
       "      <td>4</td>\n",
       "      <td>не женат / не замужем</td>\n",
       "      <td>2</td>\n",
       "      <td>нет детей</td>\n",
       "      <td>Доход от 120 до 200 тысяч</td>\n",
       "      <td>образование</td>\n",
       "    </tr>\n",
       "    <tr>\n",
       "      <td>21513</td>\n",
       "      <td>21513</td>\n",
       "      <td>35</td>\n",
       "      <td>f</td>\n",
       "      <td>250986</td>\n",
       "      <td>0</td>\n",
       "      <td>0</td>\n",
       "      <td>1</td>\n",
       "      <td>среднее</td>\n",
       "      <td>1166</td>\n",
       "      <td>сотрудник</td>\n",
       "      <td>покупка жилья</td>\n",
       "      <td>0</td>\n",
       "      <td>женат / замужем</td>\n",
       "      <td>3</td>\n",
       "      <td>нет детей</td>\n",
       "      <td>Доход от 200 до 320 тысяч</td>\n",
       "      <td>жилая недвижимость</td>\n",
       "    </tr>\n",
       "    <tr>\n",
       "      <td>21514</td>\n",
       "      <td>21514</td>\n",
       "      <td>27</td>\n",
       "      <td>m</td>\n",
       "      <td>355988</td>\n",
       "      <td>0</td>\n",
       "      <td>0</td>\n",
       "      <td>2</td>\n",
       "      <td>неоконченное высшее</td>\n",
       "      <td>280</td>\n",
       "      <td>компаньон</td>\n",
       "      <td>строительство недвижимости</td>\n",
       "      <td>4</td>\n",
       "      <td>не женат / не замужем</td>\n",
       "      <td>4</td>\n",
       "      <td>нет детей</td>\n",
       "      <td>Доход от 320 тысяч</td>\n",
       "      <td>коммерческая недвижимость</td>\n",
       "    </tr>\n",
       "    <tr>\n",
       "      <td>21515</td>\n",
       "      <td>21515</td>\n",
       "      <td>28</td>\n",
       "      <td>f</td>\n",
       "      <td>109486</td>\n",
       "      <td>1</td>\n",
       "      <td>1</td>\n",
       "      <td>1</td>\n",
       "      <td>среднее</td>\n",
       "      <td>467</td>\n",
       "      <td>сотрудник</td>\n",
       "      <td>заняться образованием</td>\n",
       "      <td>0</td>\n",
       "      <td>женат / замужем</td>\n",
       "      <td>2</td>\n",
       "      <td>семья</td>\n",
       "      <td>Доход до 120 тысяч</td>\n",
       "      <td>образование</td>\n",
       "    </tr>\n",
       "    <tr>\n",
       "      <td>21516</td>\n",
       "      <td>21516</td>\n",
       "      <td>42</td>\n",
       "      <td>f</td>\n",
       "      <td>322807</td>\n",
       "      <td>0</td>\n",
       "      <td>0</td>\n",
       "      <td>0</td>\n",
       "      <td>высшее</td>\n",
       "      <td>914</td>\n",
       "      <td>компаньон</td>\n",
       "      <td>покупка своего жилья</td>\n",
       "      <td>0</td>\n",
       "      <td>женат / замужем</td>\n",
       "      <td>3</td>\n",
       "      <td>нет детей</td>\n",
       "      <td>Доход от 320 тысяч</td>\n",
       "      <td>жилая недвижимость</td>\n",
       "    </tr>\n",
       "    <tr>\n",
       "      <td>21517</td>\n",
       "      <td>21517</td>\n",
       "      <td>42</td>\n",
       "      <td>f</td>\n",
       "      <td>178059</td>\n",
       "      <td>0</td>\n",
       "      <td>0</td>\n",
       "      <td>0</td>\n",
       "      <td>высшее</td>\n",
       "      <td>404</td>\n",
       "      <td>компаньон</td>\n",
       "      <td>на покупку своего автомобиля</td>\n",
       "      <td>1</td>\n",
       "      <td>гражданский брак</td>\n",
       "      <td>1</td>\n",
       "      <td>нет детей</td>\n",
       "      <td>Доход от 120 до 200 тысяч</td>\n",
       "      <td>автомобиль</td>\n",
       "    </tr>\n",
       "    <tr>\n",
       "      <td>21518</td>\n",
       "      <td>21518</td>\n",
       "      <td>59</td>\n",
       "      <td>f</td>\n",
       "      <td>153864</td>\n",
       "      <td>0</td>\n",
       "      <td>0</td>\n",
       "      <td>1</td>\n",
       "      <td>среднее</td>\n",
       "      <td>373995</td>\n",
       "      <td>пенсионер</td>\n",
       "      <td>сделка с автомобилем</td>\n",
       "      <td>0</td>\n",
       "      <td>женат / замужем</td>\n",
       "      <td>1</td>\n",
       "      <td>нет детей</td>\n",
       "      <td>Доход от 120 до 200 тысяч</td>\n",
       "      <td>автомобиль</td>\n",
       "    </tr>\n",
       "    <tr>\n",
       "      <td>21519</td>\n",
       "      <td>21519</td>\n",
       "      <td>37</td>\n",
       "      <td>m</td>\n",
       "      <td>115949</td>\n",
       "      <td>0</td>\n",
       "      <td>1</td>\n",
       "      <td>4</td>\n",
       "      <td>ученая степень</td>\n",
       "      <td>2351</td>\n",
       "      <td>сотрудник</td>\n",
       "      <td>покупка коммерческой недвижимости</td>\n",
       "      <td>3</td>\n",
       "      <td>в разводе</td>\n",
       "      <td>4</td>\n",
       "      <td>семья</td>\n",
       "      <td>Доход до 120 тысяч</td>\n",
       "      <td>коммерческая недвижимость</td>\n",
       "    </tr>\n",
       "    <tr>\n",
       "      <td>21520</td>\n",
       "      <td>21520</td>\n",
       "      <td>43</td>\n",
       "      <td>f</td>\n",
       "      <td>224791</td>\n",
       "      <td>0</td>\n",
       "      <td>1</td>\n",
       "      <td>1</td>\n",
       "      <td>среднее</td>\n",
       "      <td>4529</td>\n",
       "      <td>компаньон</td>\n",
       "      <td>операции с жильем</td>\n",
       "      <td>1</td>\n",
       "      <td>гражданский брак</td>\n",
       "      <td>3</td>\n",
       "      <td>семья</td>\n",
       "      <td>Доход от 200 до 320 тысяч</td>\n",
       "      <td>жилая недвижимость</td>\n",
       "    </tr>\n",
       "    <tr>\n",
       "      <td>21521</td>\n",
       "      <td>21521</td>\n",
       "      <td>67</td>\n",
       "      <td>f</td>\n",
       "      <td>155999</td>\n",
       "      <td>0</td>\n",
       "      <td>0</td>\n",
       "      <td>1</td>\n",
       "      <td>среднее</td>\n",
       "      <td>343937</td>\n",
       "      <td>пенсионер</td>\n",
       "      <td>сделка с автомобилем</td>\n",
       "      <td>0</td>\n",
       "      <td>женат / замужем</td>\n",
       "      <td>1</td>\n",
       "      <td>нет детей</td>\n",
       "      <td>Доход от 120 до 200 тысяч</td>\n",
       "      <td>автомобиль</td>\n",
       "    </tr>\n",
       "    <tr>\n",
       "      <td>21522</td>\n",
       "      <td>21522</td>\n",
       "      <td>38</td>\n",
       "      <td>m</td>\n",
       "      <td>89672</td>\n",
       "      <td>1</td>\n",
       "      <td>1</td>\n",
       "      <td>1</td>\n",
       "      <td>среднее</td>\n",
       "      <td>2113</td>\n",
       "      <td>сотрудник</td>\n",
       "      <td>недвижимость</td>\n",
       "      <td>1</td>\n",
       "      <td>гражданский брак</td>\n",
       "      <td>4</td>\n",
       "      <td>семья</td>\n",
       "      <td>Доход до 120 тысяч</td>\n",
       "      <td>коммерческая недвижимость</td>\n",
       "    </tr>\n",
       "    <tr>\n",
       "      <td>21523</td>\n",
       "      <td>21523</td>\n",
       "      <td>38</td>\n",
       "      <td>m</td>\n",
       "      <td>244093</td>\n",
       "      <td>1</td>\n",
       "      <td>3</td>\n",
       "      <td>1</td>\n",
       "      <td>среднее</td>\n",
       "      <td>3112</td>\n",
       "      <td>сотрудник</td>\n",
       "      <td>на покупку своего автомобиля</td>\n",
       "      <td>0</td>\n",
       "      <td>женат / замужем</td>\n",
       "      <td>1</td>\n",
       "      <td>многодетная семья</td>\n",
       "      <td>Доход от 200 до 320 тысяч</td>\n",
       "      <td>автомобиль</td>\n",
       "    </tr>\n",
       "    <tr>\n",
       "      <td>21524</td>\n",
       "      <td>21524</td>\n",
       "      <td>40</td>\n",
       "      <td>f</td>\n",
       "      <td>82047</td>\n",
       "      <td>0</td>\n",
       "      <td>2</td>\n",
       "      <td>1</td>\n",
       "      <td>среднее</td>\n",
       "      <td>1984</td>\n",
       "      <td>сотрудник</td>\n",
       "      <td>на покупку автомобиля</td>\n",
       "      <td>0</td>\n",
       "      <td>женат / замужем</td>\n",
       "      <td>1</td>\n",
       "      <td>семья</td>\n",
       "      <td>Доход до 120 тысяч</td>\n",
       "      <td>автомобиль</td>\n",
       "    </tr>\n",
       "  </tbody>\n",
       "</table>\n",
       "</div>"
      ],
      "text/plain": [
       "       id_client  dob_years gender  total_income  debt  children  \\\n",
       "21510      21510         28      f        145017     0         2   \n",
       "21511      21511         29      f        140068     1         0   \n",
       "21512      21512         26      m        147301     0         0   \n",
       "21513      21513         35      f        250986     0         0   \n",
       "21514      21514         27      m        355988     0         0   \n",
       "21515      21515         28      f        109486     1         1   \n",
       "21516      21516         42      f        322807     0         0   \n",
       "21517      21517         42      f        178059     0         0   \n",
       "21518      21518         59      f        153864     0         0   \n",
       "21519      21519         37      m        115949     0         1   \n",
       "21520      21520         43      f        224791     0         1   \n",
       "21521      21521         67      f        155999     0         0   \n",
       "21522      21522         38      m         89672     1         1   \n",
       "21523      21523         38      m        244093     1         3   \n",
       "21524      21524         40      f         82047     0         2   \n",
       "\n",
       "       education_id            education  days_employed income_type  \\\n",
       "21510             1              среднее           1203   сотрудник   \n",
       "21511             0               высшее            612   сотрудник   \n",
       "21512             0               высшее            165   компаньон   \n",
       "21513             1              среднее           1166   сотрудник   \n",
       "21514             2  неоконченное высшее            280   компаньон   \n",
       "21515             1              среднее            467   сотрудник   \n",
       "21516             0               высшее            914   компаньон   \n",
       "21517             0               высшее            404   компаньон   \n",
       "21518             1              среднее         373995   пенсионер   \n",
       "21519             4       ученая степень           2351   сотрудник   \n",
       "21520             1              среднее           4529   компаньон   \n",
       "21521             1              среднее         343937   пенсионер   \n",
       "21522             1              среднее           2113   сотрудник   \n",
       "21523             1              среднее           3112   сотрудник   \n",
       "21524             1              среднее           1984   сотрудник   \n",
       "\n",
       "                                     purpose  family_status_id  \\\n",
       "21510                приобретение автомобиля                 0   \n",
       "21511                покупка жилья для сдачи                 1   \n",
       "21512  получение дополнительного образования                 4   \n",
       "21513                          покупка жилья                 0   \n",
       "21514             строительство недвижимости                 4   \n",
       "21515                  заняться образованием                 0   \n",
       "21516                   покупка своего жилья                 0   \n",
       "21517           на покупку своего автомобиля                 1   \n",
       "21518                   сделка с автомобилем                 0   \n",
       "21519      покупка коммерческой недвижимости                 3   \n",
       "21520                      операции с жильем                 1   \n",
       "21521                   сделка с автомобилем                 0   \n",
       "21522                           недвижимость                 1   \n",
       "21523           на покупку своего автомобиля                 0   \n",
       "21524                  на покупку автомобиля                 0   \n",
       "\n",
       "               family_status  purpose_id  category_children  \\\n",
       "21510        женат / замужем           1              семья   \n",
       "21511       гражданский брак           3          нет детей   \n",
       "21512  не женат / не замужем           2          нет детей   \n",
       "21513        женат / замужем           3          нет детей   \n",
       "21514  не женат / не замужем           4          нет детей   \n",
       "21515        женат / замужем           2              семья   \n",
       "21516        женат / замужем           3          нет детей   \n",
       "21517       гражданский брак           1          нет детей   \n",
       "21518        женат / замужем           1          нет детей   \n",
       "21519              в разводе           4              семья   \n",
       "21520       гражданский брак           3              семья   \n",
       "21521        женат / замужем           1          нет детей   \n",
       "21522       гражданский брак           4              семья   \n",
       "21523        женат / замужем           1  многодетная семья   \n",
       "21524        женат / замужем           1              семья   \n",
       "\n",
       "           category_total_income           category_purpose  \n",
       "21510  Доход от 120 до 200 тысяч                 автомобиль  \n",
       "21511  Доход от 120 до 200 тысяч         жилая недвижимость  \n",
       "21512  Доход от 120 до 200 тысяч                образование  \n",
       "21513  Доход от 200 до 320 тысяч         жилая недвижимость  \n",
       "21514         Доход от 320 тысяч  коммерческая недвижимость  \n",
       "21515         Доход до 120 тысяч                образование  \n",
       "21516         Доход от 320 тысяч         жилая недвижимость  \n",
       "21517  Доход от 120 до 200 тысяч                 автомобиль  \n",
       "21518  Доход от 120 до 200 тысяч                 автомобиль  \n",
       "21519         Доход до 120 тысяч  коммерческая недвижимость  \n",
       "21520  Доход от 200 до 320 тысяч         жилая недвижимость  \n",
       "21521  Доход от 120 до 200 тысяч                 автомобиль  \n",
       "21522         Доход до 120 тысяч  коммерческая недвижимость  \n",
       "21523  Доход от 200 до 320 тысяч                 автомобиль  \n",
       "21524         Доход до 120 тысяч                 автомобиль  "
      ]
     },
     "execution_count": 78,
     "metadata": {},
     "output_type": "execute_result"
    }
   ],
   "source": [
    "# посмотрим нижнюю часть дата сета\n",
    "df.tail(15)"
   ]
  },
  {
   "cell_type": "code",
   "execution_count": 79,
   "metadata": {
    "scrolled": true
   },
   "outputs": [
    {
     "name": "stdout",
     "output_type": "stream",
     "text": [
      "<class 'pandas.core.frame.DataFrame'>\n",
      "Int64Index: 21525 entries, 0 to 21524\n",
      "Data columns (total 17 columns):\n",
      "id_client                21525 non-null int64\n",
      "dob_years                21525 non-null int64\n",
      "gender                   21525 non-null object\n",
      "total_income             21525 non-null int64\n",
      "debt                     21525 non-null int64\n",
      "children                 21525 non-null int64\n",
      "education_id             21525 non-null int64\n",
      "education                21525 non-null object\n",
      "days_employed            21525 non-null int64\n",
      "income_type              21525 non-null object\n",
      "purpose                  21525 non-null object\n",
      "family_status_id         21525 non-null int64\n",
      "family_status            21525 non-null object\n",
      "purpose_id               21525 non-null int64\n",
      "category_children        21525 non-null object\n",
      "category_total_income    21525 non-null object\n",
      "category_purpose         21525 non-null object\n",
      "dtypes: int64(9), object(8)\n",
      "memory usage: 3.0+ MB\n"
     ]
    }
   ],
   "source": [
    "# попробую удалить дубликаты, если они есть и потом сравнить.\n",
    "df = df.drop_duplicates()\n",
    "df.info()"
   ]
  },
  {
   "cell_type": "markdown",
   "metadata": {},
   "source": [
    "<div class=\"alert alert-info\">\n",
    "<b>Комментарий:</b> 18_12_2021 Соотношение столбцов до применения специального метода drop_duplicates() изменилось существенно, судя по информации скрытые дубликаты действительно были в столбцах - children, dob_years, education, family_status, family_status_id, gender, income_type, debt, purpose. \n",
    "    <br>\n",
    "</div>\n"
   ]
  },
  {
   "cell_type": "code",
   "execution_count": 52,
   "metadata": {},
   "outputs": [
    {
     "data": {
      "text/plain": [
       "54"
      ]
     },
     "execution_count": 52,
     "metadata": {},
     "output_type": "execute_result"
    }
   ],
   "source": [
    "# из любопытсва посчитаем сколько дубликатов в каждом отдельном столбце.\n",
    "21525 - 21471"
   ]
  },
  {
   "cell_type": "code",
   "execution_count": 53,
   "metadata": {},
   "outputs": [
    {
     "data": {
      "text/plain": [
       "432"
      ]
     },
     "execution_count": 53,
     "metadata": {},
     "output_type": "execute_result"
    }
   ],
   "source": [
    "# умножим на количество столбцов с дубликатами\n",
    "54 * 8"
   ]
  },
  {
   "cell_type": "markdown",
   "metadata": {},
   "source": [
    "*общее количество в дата сете дубликатов составило 432 шт."
   ]
  },
  {
   "cell_type": "markdown",
   "metadata": {},
   "source": [
    "<div class=\"alert alert-info\">\n",
    "<b>Комментарий:</b> При этом используя специальный метод duplicated() явные дубликаты не выявлены.\n",
    "    <br>\n",
    "</div>"
   ]
  },
  {
   "cell_type": "markdown",
   "metadata": {},
   "source": [
    "*Для чистоты работы посмотрим фреймы дынных, играющих особенное значение в решении задачи* "
   ]
  },
  {
   "cell_type": "code",
   "execution_count": 54,
   "metadata": {},
   "outputs": [
    {
     "data": {
      "text/plain": [
       "0"
      ]
     },
     "execution_count": 54,
     "metadata": {},
     "output_type": "execute_result"
    }
   ],
   "source": [
    "# сосчитаем пустые строки в общих доходах, вызовем функцию len().\n",
    "(len(df[df['days_employed'].isna()]))"
   ]
  },
  {
   "cell_type": "code",
   "execution_count": 55,
   "metadata": {},
   "outputs": [
    {
     "data": {
      "text/plain": [
       "0"
      ]
     },
     "execution_count": 55,
     "metadata": {},
     "output_type": "execute_result"
    }
   ],
   "source": [
    "# сосчитаем пустые строки children, вызовем функцию len().\n",
    "(len(df[df['children'].isna()]))"
   ]
  },
  {
   "cell_type": "code",
   "execution_count": 56,
   "metadata": {},
   "outputs": [
    {
     "data": {
      "text/plain": [
       "0"
      ]
     },
     "execution_count": 56,
     "metadata": {},
     "output_type": "execute_result"
    }
   ],
   "source": [
    "# сосчитаем пустые строки в семейном положении, вызовем функцию len().\n",
    "(len(df[df['family_status'].isna()]))"
   ]
  },
  {
   "cell_type": "code",
   "execution_count": 57,
   "metadata": {},
   "outputs": [
    {
     "data": {
      "text/plain": [
       "1203    2179\n",
       "133       16\n",
       "327       16\n",
       "438       15\n",
       "223       14\n",
       "        ... \n",
       "3256       1\n",
       "5307       1\n",
       "9405       1\n",
       "3272       1\n",
       "2049       1\n",
       "Name: days_employed, Length: 9086, dtype: int64"
      ]
     },
     "execution_count": 57,
     "metadata": {},
     "output_type": "execute_result"
    }
   ],
   "source": [
    "#  Вызовем метод value_counts(), который анализирует столбец, выбирает каждое уникальное значение \n",
    "# и подсчитывает частоту его встречаемости в списке.\n",
    "df['days_employed'].value_counts()"
   ]
  },
  {
   "cell_type": "markdown",
   "metadata": {},
   "source": [
    "<div class=\"alert alert-info\">\n",
    "<b>Комментарий:</b> Результат работы value_counts() – список пар «значение-частота», отсортированные по убыванию. Все дубликаты, которые встречаются чаще других, оказываются в начале списка. По результатам применения метода value_counts() появились признаки скрытых дубликатов, чтобы доказать точное их наличие попробуем посмотреть другие столбцы, носящие исключительные данные клиентов.\n",
    "    <br>\n",
    "</div>"
   ]
  },
  {
   "cell_type": "code",
   "execution_count": 58,
   "metadata": {},
   "outputs": [
    {
     "data": {
      "text/plain": [
       "145017    2175\n",
       "126262       3\n",
       "160905       3\n",
       "150684       3\n",
       "154199       3\n",
       "          ... \n",
       "109583       1\n",
       "101387       1\n",
       "138249       1\n",
       "280240       1\n",
       "264193       1\n",
       "Name: total_income, Length: 18606, dtype: int64"
      ]
     },
     "execution_count": 58,
     "metadata": {},
     "output_type": "execute_result"
    }
   ],
   "source": [
    "#  Вызовем метод value_counts(), который анализирует столбец, выбирает каждое уникальное значение \n",
    "# и подсчитывает частоту его встречаемости в списке.\n",
    "df['total_income'].value_counts()"
   ]
  },
  {
   "cell_type": "markdown",
   "metadata": {},
   "source": [
    "<div class=\"alert alert-info\">\n",
    "<b>Комментарий студента:</b> частота встречаемости не подтвердилась, поскольку установлены разные значения с дата фреймом 'days_employed'\n",
    "    <br>\n",
    "</div>"
   ]
  },
  {
   "cell_type": "markdown",
   "metadata": {},
   "source": [
    "**Вывод** 18_12_2021\n",
    "\n",
    "В датасете выявлены не явные дубликаты в количестве 432 шт. и устранены в целях обеспения чистоты данных."
   ]
  },
  {
   "cell_type": "markdown",
   "metadata": {},
   "source": []
  },
  {
   "cell_type": "markdown",
   "metadata": {},
   "source": [
    "### Лемматизация"
   ]
  },
  {
   "cell_type": "markdown",
   "metadata": {},
   "source": [
    "*Столбец purpose требует выявления общих категорий для одного типа целей кредита.*"
   ]
  },
  {
   "cell_type": "code",
   "execution_count": 59,
   "metadata": {},
   "outputs": [],
   "source": [
    "from pymystem3 import Mystem\n",
    "m = Mystem()"
   ]
  },
  {
   "cell_type": "code",
   "execution_count": 60,
   "metadata": {},
   "outputs": [
    {
     "name": "stdout",
     "output_type": "stream",
     "text": [
      "['покупка', ' ', 'жилье', '\\n']\n",
      "['приобретение', ' ', 'автомобиль', '\\n']\n",
      "['дополнительный', ' ', 'образование', '\\n']\n",
      "['сыграть', ' ', 'свадьба', '\\n']\n",
      "['операция', ' ', 'с', ' ', 'жилье', '\\n']\n",
      "['образование', '\\n']\n",
      "['на', ' ', 'проведение', ' ', 'свадьба', '\\n']\n",
      "['покупка', ' ', 'жилье', ' ', 'для', ' ', 'семья', '\\n']\n",
      "['покупка', ' ', 'недвижимость', '\\n']\n",
      "['покупка', ' ', 'коммерческий', ' ', 'недвижимость', '\\n']\n",
      "['покупка', ' ', 'жилой', ' ', 'недвижимость', '\\n']\n",
      "['строительство', ' ', 'собственный', ' ', 'недвижимость', '\\n']\n",
      "['недвижимость', '\\n']\n",
      "['строительство', ' ', 'недвижимость', '\\n']\n",
      "['на', ' ', 'покупка', ' ', 'подержать', ' ', 'автомобиль', '\\n']\n",
      "['на', ' ', 'покупка', ' ', 'свой', ' ', 'автомобиль', '\\n']\n",
      "['операция', ' ', 'с', ' ', 'коммерческий', ' ', 'недвижимость', '\\n']\n",
      "['строительство', ' ', 'жилой', ' ', 'недвижимость', '\\n']\n",
      "['жилье', '\\n']\n",
      "['операция', ' ', 'со', ' ', 'свой', ' ', 'недвижимость', '\\n']\n",
      "['автомобиль', '\\n']\n",
      "['заниматься', ' ', 'образование', '\\n']\n",
      "['сделка', ' ', 'с', ' ', 'подержанный', ' ', 'автомобиль', '\\n']\n",
      "['получение', ' ', 'образование', '\\n']\n",
      "['автомобиль', '\\n']\n",
      "['свадьба', '\\n']\n",
      "['получение', ' ', 'дополнительный', ' ', 'образование', '\\n']\n",
      "['покупка', ' ', 'свой', ' ', 'жилье', '\\n']\n",
      "['операция', ' ', 'с', ' ', 'недвижимость', '\\n']\n",
      "['получение', ' ', 'высокий', ' ', 'образование', '\\n']\n",
      "['свой', ' ', 'автомобиль', '\\n']\n",
      "['сделка', ' ', 'с', ' ', 'автомобиль', '\\n']\n",
      "['профильный', ' ', 'образование', '\\n']\n",
      "['высокий', ' ', 'образование', '\\n']\n",
      "['покупка', ' ', 'жилье', ' ', 'для', ' ', 'сдача', '\\n']\n",
      "['на', ' ', 'покупка', ' ', 'автомобиль', '\\n']\n",
      "['ремонт', ' ', 'жилье', '\\n']\n",
      "['заниматься', ' ', 'высокий', ' ', 'образование', '\\n']\n"
     ]
    },
    {
     "data": {
      "text/plain": [
       "{'\\n',\n",
       " ' ',\n",
       " 'автомобиль',\n",
       " 'высокий',\n",
       " 'для',\n",
       " 'дополнительный',\n",
       " 'жилой',\n",
       " 'жилье',\n",
       " 'заниматься',\n",
       " 'коммерческий',\n",
       " 'на',\n",
       " 'недвижимость',\n",
       " 'образование',\n",
       " 'операция',\n",
       " 'подержанный',\n",
       " 'подержать',\n",
       " 'покупка',\n",
       " 'получение',\n",
       " 'приобретение',\n",
       " 'проведение',\n",
       " 'профильный',\n",
       " 'ремонт',\n",
       " 'с',\n",
       " 'свадьба',\n",
       " 'свой',\n",
       " 'сдача',\n",
       " 'сделка',\n",
       " 'семья',\n",
       " 'со',\n",
       " 'собственный',\n",
       " 'строительство',\n",
       " 'сыграть'}"
      ]
     },
     "execution_count": 60,
     "metadata": {},
     "output_type": "execute_result"
    }
   ],
   "source": [
    "unique_purpuse = df['purpose'].unique() \n",
    "purpuse_set = []\n",
    "for i in unique_purpuse:\n",
    "    print(m.lemmatize(i))\n",
    "    #if 'ремонт' in m.lemmatize(i):\n",
    "        #print(m.lemmatize(i))\n",
    "    for j in m.lemmatize(i):\n",
    "        purpuse_set.append(j)\n",
    "purpuse_set = set(purpuse_set)\n",
    "purpuse_set"
   ]
  },
  {
   "cell_type": "markdown",
   "metadata": {},
   "source": [
    "Из данных по лемматизиции можно получить следующие пять категорий:\n",
    "\n",
    "'свадьба' - все, что относится к проведению или организацию свадьбы.\n",
    "'автомобиль' - покупка или ремонт машины.\n",
    "'образование' - приобретение или оплата обучения.\n",
    "'жилая недвижимость' - действия связанные с покупкой или ремонтом жилья.\n",
    "'коммерческая недвижимость' - действия связанные с недвижимостью, сданную под бизнесс. Если не был описан тип недвижимости, он будет считаться коммерческим.\n",
    "На основе данной информации создадим столбец purpose_id, в котором распределим значения этих категорий:\n",
    "\n",
    "'свадьба' = 0\n",
    "'автомобиль' = 1\n",
    "'образование' = 2\n",
    "'жилая недвижимость' = 3\n",
    "'коммерческая недвижимость' = 4\n",
    "Определим словарь для для категорий."
   ]
  },
  {
   "cell_type": "code",
   "execution_count": 61,
   "metadata": {},
   "outputs": [],
   "source": [
    "purpose_dict = {'свадьба':0, 'автомобиль':1, 'образование':2, 'жилой':3, 'жилье':3, 'собственный':3,  'коммерческий':4, 'недвижимость':4}"
   ]
  },
  {
   "cell_type": "code",
   "execution_count": 62,
   "metadata": {},
   "outputs": [
    {
     "name": "stdout",
     "output_type": "stream",
     "text": [
      "<class 'pandas.core.frame.DataFrame'>\n",
      "Int64Index: 21525 entries, 0 to 21524\n",
      "Data columns (total 13 columns):\n",
      "id_client           21525 non-null int64\n",
      "dob_years           21525 non-null int64\n",
      "gender              21525 non-null object\n",
      "total_income        21525 non-null int64\n",
      "debt                21525 non-null int64\n",
      "children            21525 non-null int64\n",
      "education_id        21525 non-null int64\n",
      "education           21525 non-null object\n",
      "days_employed       21525 non-null int64\n",
      "income_type         21525 non-null object\n",
      "purpose             21525 non-null object\n",
      "family_status_id    21525 non-null int64\n",
      "family_status       21525 non-null object\n",
      "dtypes: int64(8), object(5)\n",
      "memory usage: 2.3+ MB\n",
      "None\n",
      "<class 'pandas.core.frame.DataFrame'>\n",
      "Int64Index: 21525 entries, 0 to 21524\n",
      "Data columns (total 14 columns):\n",
      "id_client           21525 non-null int64\n",
      "dob_years           21525 non-null int64\n",
      "gender              21525 non-null object\n",
      "total_income        21525 non-null int64\n",
      "debt                21525 non-null int64\n",
      "children            21525 non-null int64\n",
      "education_id        21525 non-null int64\n",
      "education           21525 non-null object\n",
      "days_employed       21525 non-null int64\n",
      "income_type         21525 non-null object\n",
      "purpose             21525 non-null object\n",
      "family_status_id    21525 non-null int64\n",
      "family_status       21525 non-null object\n",
      "purpose_id          21525 non-null int64\n",
      "dtypes: int64(9), object(5)\n",
      "memory usage: 2.5+ MB\n",
      "None\n",
      "Empty DataFrame\n",
      "Columns: [id_client, dob_years, gender, total_income, debt, children, education_id, education, days_employed, income_type, purpose, family_status_id, family_status, purpose_id]\n",
      "Index: []\n"
     ]
    },
    {
     "data": {
      "text/plain": [
       "3    6341\n",
       "4    4499\n",
       "1    4315\n",
       "2    4022\n",
       "0    2348\n",
       "Name: purpose_id, dtype: int64"
      ]
     },
     "execution_count": 62,
     "metadata": {},
     "output_type": "execute_result"
    }
   ],
   "source": [
    "print(df.info())\n",
    "\n",
    "def set_purpose_id(row, purpose_dict):\n",
    "    lemma = m.lemmatize(row)\n",
    "    for word in lemma:\n",
    "        if word in purpose_dict:\n",
    "            return purpose_dict[word]\n",
    "        \n",
    "\n",
    "df['purpose_id'] = df['purpose'].apply(set_purpose_id, args=[purpose_dict])\n",
    "        \n",
    "print(df.info())\n",
    "\n",
    "print(df[df['purpose_id'].isna()])\n",
    "\n",
    "df['purpose_id'].value_counts()"
   ]
  },
  {
   "cell_type": "markdown",
   "metadata": {},
   "source": [
    "<div class=\"alert alert-info\">\n",
    "<b>Комментарий:</b> здесь потребуется группирование по направлению с использованием методов лемматизации\n",
    "    <br>\n",
    "</div>"
   ]
  },
  {
   "cell_type": "markdown",
   "metadata": {},
   "source": [
    "**Вывод**\n",
    "\n",
    "*Лемматизация позволила упростить категоризацию цели кредита для оценки гипотез. Больше всего кредитов просят на операции с недвижимостью.*"
   ]
  },
  {
   "cell_type": "markdown",
   "metadata": {},
   "source": []
  },
  {
   "cell_type": "markdown",
   "metadata": {},
   "source": [
    "### Категоризация данных"
   ]
  },
  {
   "cell_type": "markdown",
   "metadata": {},
   "source": [
    "*Цель: Нужно разобраться, влияет ли семейное положение и количество детей клиента на факт погашения кредита в срок.* "
   ]
  },
  {
   "cell_type": "code",
   "execution_count": 63,
   "metadata": {},
   "outputs": [
    {
     "data": {
      "text/plain": [
       "0    19784\n",
       "1     1741\n",
       "Name: debt, dtype: int64"
      ]
     },
     "execution_count": 63,
     "metadata": {},
     "output_type": "execute_result"
    }
   ],
   "source": [
    "# рассмотрим дата фрейм  'debt' (имел ли клиент задолженность по возврату кредитов) как целевой атрибут при категоризации\n",
    "df['debt'].value_counts()"
   ]
  },
  {
   "cell_type": "markdown",
   "metadata": {},
   "source": [
    "<div class=\"alert alert-info\">\n",
    "<b>Комментарий:</b>  Анализируя уникальные значения полученные с использованием метода  value_counts прихожу к заключению, что 19784 клиентов не имеют просроченной задолженности и 1741 клиент имеет просроченную задолженность.\n",
    "    <br>\n",
    "</div>"
   ]
  },
  {
   "cell_type": "code",
   "execution_count": 64,
   "metadata": {},
   "outputs": [
    {
     "data": {
      "text/plain": [
       "женат / замужем          12380\n",
       "гражданский брак          4177\n",
       "не женат / не замужем     2813\n",
       "в разводе                 1195\n",
       "вдовец / вдова             960\n",
       "Name: family_status, dtype: int64"
      ]
     },
     "execution_count": 64,
     "metadata": {},
     "output_type": "execute_result"
    }
   ],
   "source": [
    "df['family_status'].value_counts()"
   ]
  },
  {
   "cell_type": "markdown",
   "metadata": {},
   "source": [
    "<div class=\"alert alert-info\">\n",
    "<b>Комментарий:</b>  Нас интересуют две категории - 1) состоят в браке и 2) не состоят в браке. Тех кто состоят в браке составляет 12380 клиентов. Тех, кто не состоят в браке, 4177 + 2813 + 1195 + 960 = 9145 (хорошо, что пайтон под рукой, можно использовать как калькулятор :))\n",
    "</div>"
   ]
  },
  {
   "cell_type": "code",
   "execution_count": 65,
   "metadata": {},
   "outputs": [
    {
     "data": {
      "text/plain": [
       "9145"
      ]
     },
     "execution_count": 65,
     "metadata": {},
     "output_type": "execute_result"
    }
   ],
   "source": [
    "4177 + 2813 + 1195 + 960"
   ]
  },
  {
   "cell_type": "code",
   "execution_count": 66,
   "metadata": {},
   "outputs": [
    {
     "data": {
      "text/plain": [
       "0    14196\n",
       "1     4818\n",
       "2     2131\n",
       "3      330\n",
       "4       41\n",
       "5        9\n",
       "Name: children, dtype: int64"
      ]
     },
     "execution_count": 66,
     "metadata": {},
     "output_type": "execute_result"
    }
   ],
   "source": [
    "# посмотрим дата фрейм с наличием детей и видим скрытую ошибку в данных, значение - 1. Вернусь и отработаю значение в нужном разделе тетради.\n",
    "# ошибка устранена, можно продолжить работу\n",
    "df['children'].value_counts()"
   ]
  },
  {
   "cell_type": "markdown",
   "metadata": {},
   "source": [
    "<div class=\"alert alert-info\">\n",
    "<b>Комментарий:</b>  Нас интересуют две категории - 1) есть дети 2) дети отсутствуют. У 14149 клентов детей нет. У остальных 4865+2055+330+76+41+9 = 7376 клиентов дети есть. \n",
    "</div>"
   ]
  },
  {
   "cell_type": "code",
   "execution_count": 67,
   "metadata": {},
   "outputs": [
    {
     "data": {
      "text/plain": [
       "7376"
      ]
     },
     "execution_count": 67,
     "metadata": {},
     "output_type": "execute_result"
    }
   ],
   "source": [
    "4865+2055+330+76+41+9"
   ]
  },
  {
   "cell_type": "code",
   "execution_count": 68,
   "metadata": {},
   "outputs": [
    {
     "data": {
      "text/plain": [
       "21525"
      ]
     },
     "execution_count": 68,
     "metadata": {},
     "output_type": "execute_result"
    }
   ],
   "source": [
    "# с количеством строк в дата сете соотношение клиентов бьется, значит показатели должны быть релевантными.\n",
    "14149+7376"
   ]
  },
  {
   "cell_type": "code",
   "execution_count": 69,
   "metadata": {},
   "outputs": [
    {
     "name": "stdout",
     "output_type": "stream",
     "text": [
      "0    14196\n",
      "1     4818\n",
      "2     2131\n",
      "3      330\n",
      "4       41\n",
      "5        9\n",
      "Name: children, dtype: int64\n"
     ]
    },
    {
     "data": {
      "text/plain": [
       "нет детей            14196\n",
       "семья                 6949\n",
       "многодетная семья      380\n",
       "Name: category_children, dtype: int64"
      ]
     },
     "execution_count": 69,
     "metadata": {},
     "output_type": "execute_result"
    }
   ],
   "source": [
    "# попробуем  категоризацию семей провести с использованием функции и разделим семьи с детьми на две подгруппы \n",
    "# для более точных расчетов\n",
    "print(df['children'].value_counts())\n",
    "\n",
    "def category_children(row):\n",
    "    if row == 0:\n",
    "        return 'нет детей'\n",
    "    elif row < 3:\n",
    "        return 'семья'\n",
    "    else:\n",
    "        return 'многодетная семья'\n",
    "    \n",
    "df['category_children'] = df['children'].apply(category_children)\n",
    "df['category_children'].value_counts()"
   ]
  },
  {
   "cell_type": "markdown",
   "metadata": {},
   "source": [
    "*Одним из способов категоризации доходов является соотнесение с медианным доходом.*"
   ]
  },
  {
   "cell_type": "markdown",
   "metadata": {},
   "source": [
    "*Вычислим медиану по выборке*"
   ]
  },
  {
   "cell_type": "code",
   "execution_count": 70,
   "metadata": {},
   "outputs": [
    {
     "data": {
      "text/plain": [
       "145017.0"
      ]
     },
     "execution_count": 70,
     "metadata": {},
     "output_type": "execute_result"
    }
   ],
   "source": [
    "df['total_income'].median()"
   ]
  },
  {
   "cell_type": "markdown",
   "metadata": {},
   "source": [
    "*Возьмем за 1 медиану зарплату в 145 тысяч. Исходя из этого получаем пределы:*\n",
    "\n",
    "- Доход до 120 тысяч\n",
    "- Доход от 120 до 200 тысяч\n",
    "- Доход от 200 до 320 тысяч\n",
    "- Доход от 320 тысяч"
   ]
  },
  {
   "cell_type": "code",
   "execution_count": 71,
   "metadata": {},
   "outputs": [
    {
     "name": "stdout",
     "output_type": "stream",
     "text": [
      "14585      20667\n",
      "13006      21205\n",
      "16174      21367\n",
      "1598       21695\n",
      "14276      21895\n",
      "          ...   \n",
      "17178    1711309\n",
      "20809    1715018\n",
      "9169     1726276\n",
      "19606    2200852\n",
      "12412    2265604\n",
      "Name: total_income, Length: 21525, dtype: int64\n"
     ]
    },
    {
     "data": {
      "text/plain": [
       "Доход от 120 до 200 тысяч    9614\n",
       "Доход до 120 тысяч           6845\n",
       "Доход от 200 до 320 тысяч    3844\n",
       "Доход от 320 тысяч           1222\n",
       "Name: category_total_income, dtype: int64"
      ]
     },
     "execution_count": 71,
     "metadata": {},
     "output_type": "execute_result"
    }
   ],
   "source": [
    "print(df['total_income'].sort_values())\n",
    "\n",
    "def category_total_income(row):\n",
    "    if row < 120000:\n",
    "        return 'Доход до 120 тысяч'\n",
    "    elif row < 200000:\n",
    "        return 'Доход от 120 до 200 тысяч'\n",
    "    elif row < 320000:\n",
    "        return 'Доход от 200 до 320 тысяч'   \n",
    "    else:\n",
    "        return 'Доход от 320 тысяч'\n",
    "    \n",
    "df['category_total_income'] = df['total_income'].apply(category_total_income)\n",
    "df['category_total_income'].value_counts()"
   ]
  },
  {
   "cell_type": "markdown",
   "metadata": {},
   "source": [
    "*Добавим словестную категорию для целей кредита через словарь и этот столбец занесем в таблицу*"
   ]
  },
  {
   "cell_type": "code",
   "execution_count": 72,
   "metadata": {},
   "outputs": [
    {
     "data": {
      "text/plain": [
       "жилая недвижимость           6341\n",
       "коммерческая недвижимость    4499\n",
       "автомобиль                   4315\n",
       "образование                  4022\n",
       "свадьба                      2348\n",
       "Name: category_purpose, dtype: int64"
      ]
     },
     "execution_count": 72,
     "metadata": {},
     "output_type": "execute_result"
    }
   ],
   "source": [
    "purpose_dict = {0: 'свадьба', 1: 'автомобиль', 2: 'образование', 3: 'жилая недвижимость', 4: 'коммерческая недвижимость'}\n",
    "\n",
    "def category_purpose(row):\n",
    "    return purpose_dict[row]\n",
    "\n",
    "df['category_purpose'] = df['purpose_id'].apply(category_purpose)\n",
    "df['category_purpose'].value_counts()"
   ]
  },
  {
   "cell_type": "markdown",
   "metadata": {},
   "source": [
    "**Вывод**\n",
    "\n",
    "1. С использованием функции мы определили категории семьи.\n",
    "2. С использованием функции мы определили категории по уровню доходов.\n",
    "3. Создан словарь для обеспечения словестной категоризации.\n"
   ]
  },
  {
   "cell_type": "markdown",
   "metadata": {},
   "source": []
  },
  {
   "cell_type": "markdown",
   "metadata": {},
   "source": [
    "## Шаг 3. Ответьте на вопросы"
   ]
  },
  {
   "cell_type": "markdown",
   "metadata": {},
   "source": [
    "- Есть ли зависимость между наличием детей и возвратом кредита в срок?"
   ]
  },
  {
   "cell_type": "code",
   "execution_count": 73,
   "metadata": {},
   "outputs": [
    {
     "data": {
      "text/html": [
       "<div>\n",
       "<style scoped>\n",
       "    .dataframe tbody tr th:only-of-type {\n",
       "        vertical-align: middle;\n",
       "    }\n",
       "\n",
       "    .dataframe tbody tr th {\n",
       "        vertical-align: top;\n",
       "    }\n",
       "\n",
       "    .dataframe thead th {\n",
       "        text-align: right;\n",
       "    }\n",
       "</style>\n",
       "<table border=\"1\" class=\"dataframe\">\n",
       "  <thead>\n",
       "    <tr style=\"text-align: right;\">\n",
       "      <th></th>\n",
       "      <th>debt</th>\n",
       "      <th>non_returned_debt</th>\n",
       "      <th>returned_debt</th>\n",
       "      <th>return_ratio</th>\n",
       "    </tr>\n",
       "    <tr>\n",
       "      <th>category_children</th>\n",
       "      <th></th>\n",
       "      <th></th>\n",
       "      <th></th>\n",
       "      <th></th>\n",
       "    </tr>\n",
       "  </thead>\n",
       "  <tbody>\n",
       "    <tr>\n",
       "      <td>многодетная семья</td>\n",
       "      <td>380</td>\n",
       "      <td>31</td>\n",
       "      <td>349</td>\n",
       "      <td>0.918421</td>\n",
       "    </tr>\n",
       "    <tr>\n",
       "      <td>нет детей</td>\n",
       "      <td>14196</td>\n",
       "      <td>1064</td>\n",
       "      <td>13132</td>\n",
       "      <td>0.925049</td>\n",
       "    </tr>\n",
       "    <tr>\n",
       "      <td>семья</td>\n",
       "      <td>6949</td>\n",
       "      <td>646</td>\n",
       "      <td>6303</td>\n",
       "      <td>0.907037</td>\n",
       "    </tr>\n",
       "  </tbody>\n",
       "</table>\n",
       "</div>"
      ],
      "text/plain": [
       "                    debt  non_returned_debt  returned_debt  return_ratio\n",
       "category_children                                                       \n",
       "многодетная семья    380                 31            349      0.918421\n",
       "нет детей          14196               1064          13132      0.925049\n",
       "семья               6949                646           6303      0.907037"
      ]
     },
     "execution_count": 73,
     "metadata": {},
     "output_type": "execute_result"
    }
   ],
   "source": [
    "table_1 = pd.pivot_table(df, index='category_children', values='debt', aggfunc='count')\n",
    "table_2 = pd.pivot_table(df, index='category_children', values='debt', aggfunc='sum')\n",
    "dept_by_childrens = table_1\n",
    "dept_by_childrens['non_returned_debt'] = table_2['debt']\n",
    "dept_by_childrens['returned_debt'] = dept_by_childrens['debt'] - dept_by_childrens['non_returned_debt']\n",
    "dept_by_childrens['return_ratio'] = dept_by_childrens['returned_debt'] / dept_by_childrens['debt']\n",
    "dept_by_childrens"
   ]
  },
  {
   "cell_type": "markdown",
   "metadata": {},
   "source": [
    "**Вывод**\n",
    "\n",
    "*Наблюдается зависимость между количеством детей и возвратом кредита в срок.*\n",
    "\n",
    "- Семьи без детей (92,5 %) обеспечивают лучше возврат кредитных средств. Данную закономерность можно объяснить тем, что в семье без детей отсутсвуют издержки на содержание детей. За счет данной эклномии семьи без детей более пунктуальные и обязательные в части своевременного погашения кредита.\n",
    "- На втором месте многодетные семьи - 91,4 %. Данный результат вызывает удивление, посольку представляется, что чем больше детей, тем меньше экономических возможностей, так как существуют высокие издержки. Вместе с тем объяснить данную закономерность можно тем, что многодетные семьи менее подвержены экономическим рискам, более детально и отвественно подходят при принятии обязательств по кредиту.  \n",
    "- На третьем месте семьи, состоящие из 1 или 2 детей - 90,7 %. Как правило данные семьи молодые, тое есть люди не старше 35 лет, имеющие высокие издержки, особенно если живут и снимают квартиру. Большой уровень расходов в данных семьях обусловлен с формированием необходимых материальных условий для жизни семьи.   "
   ]
  },
  {
   "cell_type": "markdown",
   "metadata": {},
   "source": []
  },
  {
   "cell_type": "markdown",
   "metadata": {},
   "source": [
    "- Есть ли зависимость между семейным положением и возвратом кредита в срок?"
   ]
  },
  {
   "cell_type": "code",
   "execution_count": 74,
   "metadata": {},
   "outputs": [
    {
     "data": {
      "text/html": [
       "<div>\n",
       "<style scoped>\n",
       "    .dataframe tbody tr th:only-of-type {\n",
       "        vertical-align: middle;\n",
       "    }\n",
       "\n",
       "    .dataframe tbody tr th {\n",
       "        vertical-align: top;\n",
       "    }\n",
       "\n",
       "    .dataframe thead th {\n",
       "        text-align: right;\n",
       "    }\n",
       "</style>\n",
       "<table border=\"1\" class=\"dataframe\">\n",
       "  <thead>\n",
       "    <tr style=\"text-align: right;\">\n",
       "      <th></th>\n",
       "      <th>debt</th>\n",
       "      <th>non_returned_debt</th>\n",
       "      <th>returned_debt</th>\n",
       "      <th>return_ratio</th>\n",
       "    </tr>\n",
       "    <tr>\n",
       "      <th>family_status</th>\n",
       "      <th></th>\n",
       "      <th></th>\n",
       "      <th></th>\n",
       "      <th></th>\n",
       "    </tr>\n",
       "  </thead>\n",
       "  <tbody>\n",
       "    <tr>\n",
       "      <td>в разводе</td>\n",
       "      <td>1195</td>\n",
       "      <td>85</td>\n",
       "      <td>1110</td>\n",
       "      <td>0.928870</td>\n",
       "    </tr>\n",
       "    <tr>\n",
       "      <td>вдовец / вдова</td>\n",
       "      <td>960</td>\n",
       "      <td>63</td>\n",
       "      <td>897</td>\n",
       "      <td>0.934375</td>\n",
       "    </tr>\n",
       "    <tr>\n",
       "      <td>гражданский брак</td>\n",
       "      <td>4177</td>\n",
       "      <td>388</td>\n",
       "      <td>3789</td>\n",
       "      <td>0.907110</td>\n",
       "    </tr>\n",
       "    <tr>\n",
       "      <td>женат / замужем</td>\n",
       "      <td>12380</td>\n",
       "      <td>931</td>\n",
       "      <td>11449</td>\n",
       "      <td>0.924798</td>\n",
       "    </tr>\n",
       "    <tr>\n",
       "      <td>не женат / не замужем</td>\n",
       "      <td>2813</td>\n",
       "      <td>274</td>\n",
       "      <td>2539</td>\n",
       "      <td>0.902595</td>\n",
       "    </tr>\n",
       "  </tbody>\n",
       "</table>\n",
       "</div>"
      ],
      "text/plain": [
       "                        debt  non_returned_debt  returned_debt  return_ratio\n",
       "family_status                                                               \n",
       "в разводе               1195                 85           1110      0.928870\n",
       "вдовец / вдова           960                 63            897      0.934375\n",
       "гражданский брак        4177                388           3789      0.907110\n",
       "женат / замужем        12380                931          11449      0.924798\n",
       "не женат / не замужем   2813                274           2539      0.902595"
      ]
     },
     "execution_count": 74,
     "metadata": {},
     "output_type": "execute_result"
    }
   ],
   "source": [
    "table_1 = pd.pivot_table(df, index='family_status', values='debt', aggfunc='count')\n",
    "table_2 = pd.pivot_table(df, index='family_status', values='debt', aggfunc='sum')\n",
    "dept_by_family_status = table_1\n",
    "dept_by_family_status['non_returned_debt'] = table_2['debt']\n",
    "dept_by_family_status['returned_debt'] = dept_by_family_status['debt'] - dept_by_family_status['non_returned_debt']\n",
    "dept_by_family_status['return_ratio'] = dept_by_family_status['returned_debt'] / dept_by_family_status['debt']\n",
    "dept_by_family_status"
   ]
  },
  {
   "cell_type": "markdown",
   "metadata": {},
   "source": [
    "**Вывод**\n",
    "\n",
    "*Наблюдается зависимость между семейным положением и возвратом кредита в срок.*\n",
    "\n",
    "- На первом месте в части более ответстсвенного и пунктуального отношения к оплате кредита относится категория - вдовцов (вдов) 0,93 % . Это может быть объяснимым тем, что вынужденные одиночки стараются избегать потрясений в жизни, в том числе экономического характера.\n",
    "- На втором месте категория \"в разводе\" - 92,8 %. Развод это тоже большой стресс  (тоже потеря человека, сожаление). Стресс скорее всего делает человека более внимательным к деталям своей жизни и делает его тем самым собранее.\n",
    "- Далее следуют  женатые или замужние - 92,4 %. Необходмо обратить внимание что их подавляющее большинство в выборке. Возможен эффект масштаба.\n",
    "- На последнем месте не женат или не замужем - 90,2 %. Как приавило люди (далеко не все) не стремящиеся сосздать семью относятся менее ответственно к своим обязательствам в жизни. Это может касаться и кредитов..."
   ]
  },
  {
   "cell_type": "markdown",
   "metadata": {},
   "source": []
  },
  {
   "cell_type": "markdown",
   "metadata": {},
   "source": [
    "- Есть ли зависимость между уровнем дохода и возвратом кредита в срок?"
   ]
  },
  {
   "cell_type": "code",
   "execution_count": 75,
   "metadata": {},
   "outputs": [
    {
     "data": {
      "text/html": [
       "<div>\n",
       "<style scoped>\n",
       "    .dataframe tbody tr th:only-of-type {\n",
       "        vertical-align: middle;\n",
       "    }\n",
       "\n",
       "    .dataframe tbody tr th {\n",
       "        vertical-align: top;\n",
       "    }\n",
       "\n",
       "    .dataframe thead th {\n",
       "        text-align: right;\n",
       "    }\n",
       "</style>\n",
       "<table border=\"1\" class=\"dataframe\">\n",
       "  <thead>\n",
       "    <tr style=\"text-align: right;\">\n",
       "      <th></th>\n",
       "      <th>debt</th>\n",
       "      <th>non_returned_debt</th>\n",
       "      <th>returned_debt</th>\n",
       "      <th>return_ratio</th>\n",
       "    </tr>\n",
       "    <tr>\n",
       "      <th>category_total_income</th>\n",
       "      <th></th>\n",
       "      <th></th>\n",
       "      <th></th>\n",
       "      <th></th>\n",
       "    </tr>\n",
       "  </thead>\n",
       "  <tbody>\n",
       "    <tr>\n",
       "      <td>Доход до 120 тысяч</td>\n",
       "      <td>6845</td>\n",
       "      <td>551</td>\n",
       "      <td>6294</td>\n",
       "      <td>0.919503</td>\n",
       "    </tr>\n",
       "    <tr>\n",
       "      <td>Доход от 120 до 200 тысяч</td>\n",
       "      <td>9614</td>\n",
       "      <td>832</td>\n",
       "      <td>8782</td>\n",
       "      <td>0.913460</td>\n",
       "    </tr>\n",
       "    <tr>\n",
       "      <td>Доход от 200 до 320 тысяч</td>\n",
       "      <td>3844</td>\n",
       "      <td>273</td>\n",
       "      <td>3571</td>\n",
       "      <td>0.928980</td>\n",
       "    </tr>\n",
       "    <tr>\n",
       "      <td>Доход от 320 тысяч</td>\n",
       "      <td>1222</td>\n",
       "      <td>85</td>\n",
       "      <td>1137</td>\n",
       "      <td>0.930442</td>\n",
       "    </tr>\n",
       "  </tbody>\n",
       "</table>\n",
       "</div>"
      ],
      "text/plain": [
       "                           debt  non_returned_debt  returned_debt  \\\n",
       "category_total_income                                               \n",
       "Доход до 120 тысяч         6845                551           6294   \n",
       "Доход от 120 до 200 тысяч  9614                832           8782   \n",
       "Доход от 200 до 320 тысяч  3844                273           3571   \n",
       "Доход от 320 тысяч         1222                 85           1137   \n",
       "\n",
       "                           return_ratio  \n",
       "category_total_income                    \n",
       "Доход до 120 тысяч             0.919503  \n",
       "Доход от 120 до 200 тысяч      0.913460  \n",
       "Доход от 200 до 320 тысяч      0.928980  \n",
       "Доход от 320 тысяч             0.930442  "
      ]
     },
     "execution_count": 75,
     "metadata": {},
     "output_type": "execute_result"
    }
   ],
   "source": [
    "table_1 = pd.pivot_table(df, index='category_total_income', values='debt', aggfunc='count')\n",
    "table_2 = pd.pivot_table(df, index='category_total_income', values='debt', aggfunc='sum')\n",
    "dept_by_total_income = table_1\n",
    "dept_by_total_income['non_returned_debt'] = table_2['debt']\n",
    "dept_by_total_income['returned_debt'] = dept_by_total_income['debt'] - dept_by_total_income['non_returned_debt']\n",
    "dept_by_total_income['return_ratio'] = dept_by_total_income['returned_debt'] / dept_by_total_income['debt']\n",
    "dept_by_total_income"
   ]
  },
  {
   "cell_type": "markdown",
   "metadata": {},
   "source": [
    "**Вывод**"
   ]
  },
  {
   "cell_type": "markdown",
   "metadata": {},
   "source": [
    "return_ratio в данном вопросе ключевой индикатор, который характеризует какая категория по группам доходов более ответственная. Выборка данных показывает, что самые платежеспособные это люди имеющиее доход от 320 тыс. руб. Вполне очевидный и объяснимый результат. Далее следуют с доходом от 200 до 320 тыс., что вполне укладывается в логику построения иерархии. Ключевое внимание к себе приковывает то, что категория людей с доходом от 120 до 200 тыс. имеют меньшую склонность к соблюдению кредитных обязательств по отношению к катеории людей с доходом до 120 тыс. "
   ]
  },
  {
   "cell_type": "markdown",
   "metadata": {},
   "source": []
  },
  {
   "cell_type": "markdown",
   "metadata": {},
   "source": [
    "- Как разные цели кредита влияют на его возврат в срок?"
   ]
  },
  {
   "cell_type": "code",
   "execution_count": 76,
   "metadata": {},
   "outputs": [
    {
     "data": {
      "text/html": [
       "<div>\n",
       "<style scoped>\n",
       "    .dataframe tbody tr th:only-of-type {\n",
       "        vertical-align: middle;\n",
       "    }\n",
       "\n",
       "    .dataframe tbody tr th {\n",
       "        vertical-align: top;\n",
       "    }\n",
       "\n",
       "    .dataframe thead th {\n",
       "        text-align: right;\n",
       "    }\n",
       "</style>\n",
       "<table border=\"1\" class=\"dataframe\">\n",
       "  <thead>\n",
       "    <tr style=\"text-align: right;\">\n",
       "      <th></th>\n",
       "      <th>debt</th>\n",
       "      <th>non_returned_debt</th>\n",
       "      <th>returned_debt</th>\n",
       "      <th>return_ratio</th>\n",
       "    </tr>\n",
       "    <tr>\n",
       "      <th>category_purpose</th>\n",
       "      <th></th>\n",
       "      <th></th>\n",
       "      <th></th>\n",
       "      <th></th>\n",
       "    </tr>\n",
       "  </thead>\n",
       "  <tbody>\n",
       "    <tr>\n",
       "      <td>автомобиль</td>\n",
       "      <td>4315</td>\n",
       "      <td>403</td>\n",
       "      <td>3912</td>\n",
       "      <td>0.906605</td>\n",
       "    </tr>\n",
       "    <tr>\n",
       "      <td>жилая недвижимость</td>\n",
       "      <td>6341</td>\n",
       "      <td>439</td>\n",
       "      <td>5902</td>\n",
       "      <td>0.930768</td>\n",
       "    </tr>\n",
       "    <tr>\n",
       "      <td>коммерческая недвижимость</td>\n",
       "      <td>4499</td>\n",
       "      <td>343</td>\n",
       "      <td>4156</td>\n",
       "      <td>0.923761</td>\n",
       "    </tr>\n",
       "    <tr>\n",
       "      <td>образование</td>\n",
       "      <td>4022</td>\n",
       "      <td>370</td>\n",
       "      <td>3652</td>\n",
       "      <td>0.908006</td>\n",
       "    </tr>\n",
       "    <tr>\n",
       "      <td>свадьба</td>\n",
       "      <td>2348</td>\n",
       "      <td>186</td>\n",
       "      <td>2162</td>\n",
       "      <td>0.920784</td>\n",
       "    </tr>\n",
       "  </tbody>\n",
       "</table>\n",
       "</div>"
      ],
      "text/plain": [
       "                           debt  non_returned_debt  returned_debt  \\\n",
       "category_purpose                                                    \n",
       "автомобиль                 4315                403           3912   \n",
       "жилая недвижимость         6341                439           5902   \n",
       "коммерческая недвижимость  4499                343           4156   \n",
       "образование                4022                370           3652   \n",
       "свадьба                    2348                186           2162   \n",
       "\n",
       "                           return_ratio  \n",
       "category_purpose                         \n",
       "автомобиль                     0.906605  \n",
       "жилая недвижимость             0.930768  \n",
       "коммерческая недвижимость      0.923761  \n",
       "образование                    0.908006  \n",
       "свадьба                        0.920784  "
      ]
     },
     "execution_count": 76,
     "metadata": {},
     "output_type": "execute_result"
    }
   ],
   "source": [
    "table_1 = pd.pivot_table(df, index='category_purpose', values='debt', aggfunc='count')\n",
    "table_2 = pd.pivot_table(df, index='category_purpose', values='debt', aggfunc='sum')\n",
    "dept_by_purpose = table_1\n",
    "dept_by_purpose['non_returned_debt'] = table_2['debt']\n",
    "dept_by_purpose['returned_debt'] = dept_by_purpose['debt'] - dept_by_purpose['non_returned_debt']\n",
    "dept_by_purpose['return_ratio'] = dept_by_purpose['returned_debt'] / dept_by_purpose['debt']\n",
    "dept_by_purpose"
   ]
  },
  {
   "cell_type": "markdown",
   "metadata": {},
   "source": [
    "**Вывод**\n",
    "\n",
    "- Целевой показатель return_ratio свидетельствует, что категория людей с жилой неждвижимостью (93,0 %) более ответсвенны к выполнению своих экономических обязательств по кредиту. Далее следуют люди владеющие коммерческой недвижимостью (92,3 %). В данном случае первые два места могут быть объяснимы тем, что владельцы недвижимостью могут иметь пассивные доходы от сдачи недвижимости для последующего своевременного погашения кредита.\n",
    "- на третьем месте (92,1 %) закрепилась категория людей, вступающих в брачные отношения. Вполне может быть объяснимо тем, что планирование бюджета семьи становится ответственностью не одного человека, а уже молодоженов.\n",
    "- на последних местах расположились люди, целью кредитования которых избрали образование и приобретение автомобили. Автомобиль и образование как правило требуют финансовых затрат на содержание, обслуживание, обеспечение. Таким образом, потрфель задолженности увеличивается пропорционально увеличению расходной части. \n"
   ]
  },
  {
   "cell_type": "markdown",
   "metadata": {},
   "source": [
    "## Шаг 4. Общий вывод"
   ]
  },
  {
   "cell_type": "markdown",
   "metadata": {},
   "source": [
    "Практическая работа показала, что наибольшее время (около 70 %) в исследовании занимает обработка данных. Чем чище данные, тем быстрее можно приступить к аналитической части. Результаты исследования показывают наиболее идеальные для кредитования категории клиентов и наиболее рискованные.  "
   ]
  },
  {
   "cell_type": "markdown",
   "metadata": {},
   "source": [
    "18_12_2021\n",
    "\n",
    "1. при первом рассмотрении дата сета установлены значения данных, которые не соответвуют общей этике оормления данных.\n",
    "2. данных оказалось достаточно для проверки гипотезы. Встречались пропуски в данных, аномалии, а в последовательности колонок — расхождения с хорошим стилем, были установлены дубликаты в 8 из 12 столбцах дата сета. Практически все выявленные неточности устранены и данные приведены в состояние готовности к применению инструментов анализа.\n",
    "3. с помощью лемматизации были установлены нужные категории для дальнейшего анализа и оценки гипотез.\n",
    "4. с использованием функций мы определили категории семьи, категории по уровню доходов. Создан словарь для обеспечения словестной категоризации.\n",
    "5. определили зависимость между семейным положением и возвратом кредита в срок.\n",
    "6. определили зависимость между количеством детей и возвратом кредита в срок.\n",
    "7. определили зависимость между уровнем дохода и возвратом кредита в срок.\n",
    "8. ответили на вопрос как  разные цели кредита влияют на его возврат в срок.\n",
    "- Итого в части прешения поставленной задачи Заказчиком: В работе представлены обоснования влияния семейного положения и количества детей клиента на факт погашения кредита в срок."
   ]
  },
  {
   "cell_type": "markdown",
   "metadata": {},
   "source": []
  },
  {
   "cell_type": "markdown",
   "metadata": {},
   "source": [
    "## Чек-лист готовности проекта\n",
    "\n",
    "Поставьте 'x' в выполненных пунктах. Далее нажмите Shift+Enter."
   ]
  },
  {
   "cell_type": "markdown",
   "metadata": {},
   "source": [
    "- [x]  открыт файл;\n",
    "- [x]  файл изучен;\n",
    "- [x]  определены пропущенные значения;\n",
    "- [x]  заполнены пропущенные значения;\n",
    "- [x]  есть пояснение, какие пропущенные значения обнаружены;\n",
    "- [x]  описаны возможные причины появления пропусков в данных;\n",
    "- [x]  объяснено, по какому принципу заполнены пропуски;\n",
    "- [x]  заменен вещественный тип данных на целочисленный;\n",
    "- [x]  есть пояснение, какой метод используется для изменения типа данных и почему;\n",
    "- [x]  удалены дубликаты;\n",
    "- [x]  есть пояснение, какой метод используется для поиска и удаления дубликатов;\n",
    "- [x]  описаны возможные причины появления дубликатов в данных;\n",
    "- [x]  выделены леммы в значениях столбца с целями получения кредита;\n",
    "- [x]  описан процесс лемматизации;\n",
    "- [x]  данные категоризированы;\n",
    "- [x]  есть объяснение принципа категоризации данных;\n",
    "- [x]  есть ответ на вопрос: \"Есть ли зависимость между наличием детей и возвратом кредита в срок?\";\n",
    "- [x]  есть ответ на вопрос: \"Есть ли зависимость между семейным положением и возвратом кредита в срок?\";\n",
    "- [x]  есть ответ на вопрос: \"Есть ли зависимость между уровнем дохода и возвратом кредита в срок?\";\n",
    "- [x]  есть ответ на вопрос: \"Как разные цели кредита влияют на его возврат в срок?\";\n",
    "- [x]  в каждом этапе есть выводы;\n",
    "- [x]  есть общий вывод."
   ]
  }
 ],
 "metadata": {
  "ExecuteTimeLog": [
   {
    "duration": 302,
    "start_time": "2021-12-14T10:59:38.790Z"
   },
   {
    "duration": 869,
    "start_time": "2021-12-14T10:59:58.791Z"
   },
   {
    "duration": 31,
    "start_time": "2021-12-14T11:00:01.703Z"
   },
   {
    "duration": 85,
    "start_time": "2021-12-14T11:38:47.263Z"
   },
   {
    "duration": 24,
    "start_time": "2021-12-14T11:43:29.971Z"
   },
   {
    "duration": 13,
    "start_time": "2021-12-14T13:09:24.629Z"
   },
   {
    "duration": 16,
    "start_time": "2021-12-14T14:55:50.180Z"
   },
   {
    "duration": 819,
    "start_time": "2021-12-14T14:56:02.640Z"
   },
   {
    "duration": 29,
    "start_time": "2021-12-14T14:56:03.461Z"
   },
   {
    "duration": 31,
    "start_time": "2021-12-14T14:56:03.494Z"
   },
   {
    "duration": 23,
    "start_time": "2021-12-14T14:56:03.528Z"
   },
   {
    "duration": 17,
    "start_time": "2021-12-14T14:56:03.554Z"
   },
   {
    "duration": 108,
    "start_time": "2021-12-14T15:14:16.972Z"
   },
   {
    "duration": 14,
    "start_time": "2021-12-14T15:14:45.470Z"
   },
   {
    "duration": 15,
    "start_time": "2021-12-14T15:14:55.638Z"
   },
   {
    "duration": 569,
    "start_time": "2021-12-15T06:37:29.041Z"
   },
   {
    "duration": 810,
    "start_time": "2021-12-15T06:37:47.225Z"
   },
   {
    "duration": 32,
    "start_time": "2021-12-15T06:37:48.038Z"
   },
   {
    "duration": 16,
    "start_time": "2021-12-15T06:37:48.073Z"
   },
   {
    "duration": 36,
    "start_time": "2021-12-15T06:37:48.092Z"
   },
   {
    "duration": 16,
    "start_time": "2021-12-15T06:37:48.131Z"
   },
   {
    "duration": 384,
    "start_time": "2021-12-15T06:37:48.150Z"
   },
   {
    "duration": 275,
    "start_time": "2021-12-15T06:39:28.881Z"
   },
   {
    "duration": 280,
    "start_time": "2021-12-15T06:41:25.376Z"
   },
   {
    "duration": 285,
    "start_time": "2021-12-15T06:42:26.583Z"
   },
   {
    "duration": 58,
    "start_time": "2021-12-15T06:42:36.108Z"
   },
   {
    "duration": 19,
    "start_time": "2021-12-15T06:42:39.389Z"
   },
   {
    "duration": 17,
    "start_time": "2021-12-15T06:42:42.776Z"
   },
   {
    "duration": 13,
    "start_time": "2021-12-15T06:42:50.263Z"
   },
   {
    "duration": 15,
    "start_time": "2021-12-15T06:42:54.387Z"
   },
   {
    "duration": 280,
    "start_time": "2021-12-15T06:42:58.255Z"
   },
   {
    "duration": 15,
    "start_time": "2021-12-15T06:43:12.467Z"
   },
   {
    "duration": 281,
    "start_time": "2021-12-15T06:44:51.735Z"
   },
   {
    "duration": 97,
    "start_time": "2021-12-15T06:45:29.135Z"
   },
   {
    "duration": 276,
    "start_time": "2021-12-15T06:45:37.244Z"
   },
   {
    "duration": 389,
    "start_time": "2021-12-15T06:46:24.531Z"
   },
   {
    "duration": 11,
    "start_time": "2021-12-15T06:46:35.927Z"
   },
   {
    "duration": 18,
    "start_time": "2021-12-15T06:47:07.396Z"
   },
   {
    "duration": 22,
    "start_time": "2021-12-15T06:49:23.895Z"
   },
   {
    "duration": 16,
    "start_time": "2021-12-15T06:49:33.971Z"
   },
   {
    "duration": 22,
    "start_time": "2021-12-15T06:49:37.057Z"
   },
   {
    "duration": 23,
    "start_time": "2021-12-15T06:49:43.217Z"
   },
   {
    "duration": 306,
    "start_time": "2021-12-15T06:52:23.727Z"
   },
   {
    "duration": 447,
    "start_time": "2021-12-15T06:52:53.379Z"
   },
   {
    "duration": 314,
    "start_time": "2021-12-15T06:53:59.969Z"
   },
   {
    "duration": 221,
    "start_time": "2021-12-15T06:54:31.695Z"
   },
   {
    "duration": 226,
    "start_time": "2021-12-15T06:55:17.435Z"
   },
   {
    "duration": 65,
    "start_time": "2021-12-15T06:55:33.367Z"
   },
   {
    "duration": 18,
    "start_time": "2021-12-15T06:55:35.424Z"
   },
   {
    "duration": 14,
    "start_time": "2021-12-15T06:55:38.656Z"
   },
   {
    "duration": 12,
    "start_time": "2021-12-15T06:55:44.907Z"
   },
   {
    "duration": 14,
    "start_time": "2021-12-15T06:55:49.851Z"
   },
   {
    "duration": 285,
    "start_time": "2021-12-15T06:55:56.975Z"
   },
   {
    "duration": 20,
    "start_time": "2021-12-15T06:57:06.914Z"
   },
   {
    "duration": 24,
    "start_time": "2021-12-15T06:59:13.175Z"
   },
   {
    "duration": 102,
    "start_time": "2021-12-15T07:02:47.831Z"
   },
   {
    "duration": 294,
    "start_time": "2021-12-15T07:18:18.047Z"
   },
   {
    "duration": 182,
    "start_time": "2021-12-15T07:19:34.918Z"
   },
   {
    "duration": 23,
    "start_time": "2021-12-15T07:19:38.675Z"
   },
   {
    "duration": 474,
    "start_time": "2021-12-15T07:19:43.767Z"
   },
   {
    "duration": 14,
    "start_time": "2021-12-15T07:26:16.280Z"
   },
   {
    "duration": 22,
    "start_time": "2021-12-15T07:26:59.870Z"
   },
   {
    "duration": 13,
    "start_time": "2021-12-15T07:28:14.419Z"
   },
   {
    "duration": 22,
    "start_time": "2021-12-15T07:28:23.247Z"
   },
   {
    "duration": 17,
    "start_time": "2021-12-15T08:52:17.283Z"
   },
   {
    "duration": 167,
    "start_time": "2021-12-15T08:57:23.656Z"
   },
   {
    "duration": 23,
    "start_time": "2021-12-15T08:57:26.987Z"
   },
   {
    "duration": 17,
    "start_time": "2021-12-15T08:57:34.838Z"
   },
   {
    "duration": 698,
    "start_time": "2021-12-15T14:12:05.716Z"
   },
   {
    "duration": 897,
    "start_time": "2021-12-15T14:12:23.170Z"
   },
   {
    "duration": 28,
    "start_time": "2021-12-15T14:12:24.070Z"
   },
   {
    "duration": 15,
    "start_time": "2021-12-15T14:12:24.108Z"
   },
   {
    "duration": 9,
    "start_time": "2021-12-15T14:12:24.125Z"
   },
   {
    "duration": 314,
    "start_time": "2021-12-15T14:12:24.136Z"
   },
   {
    "duration": 23,
    "start_time": "2021-12-15T14:12:24.452Z"
   },
   {
    "duration": 30,
    "start_time": "2021-12-15T14:12:24.476Z"
   },
   {
    "duration": 6,
    "start_time": "2021-12-15T14:12:24.508Z"
   },
   {
    "duration": 11,
    "start_time": "2021-12-15T14:12:24.516Z"
   },
   {
    "duration": 17,
    "start_time": "2021-12-15T14:12:24.529Z"
   },
   {
    "duration": 394,
    "start_time": "2021-12-15T14:12:24.548Z"
   },
   {
    "duration": 10,
    "start_time": "2021-12-15T14:14:15.913Z"
   },
   {
    "duration": 10,
    "start_time": "2021-12-15T14:14:19.798Z"
   },
   {
    "duration": 9,
    "start_time": "2021-12-15T14:14:23.613Z"
   },
   {
    "duration": 9,
    "start_time": "2021-12-15T14:14:40.199Z"
   },
   {
    "duration": 9,
    "start_time": "2021-12-15T14:14:45.187Z"
   },
   {
    "duration": 10,
    "start_time": "2021-12-15T14:16:38.839Z"
   },
   {
    "duration": 5,
    "start_time": "2021-12-15T14:18:39.467Z"
   },
   {
    "duration": 7,
    "start_time": "2021-12-15T14:19:19.479Z"
   },
   {
    "duration": 9,
    "start_time": "2021-12-15T14:19:31.959Z"
   },
   {
    "duration": 5,
    "start_time": "2021-12-15T14:30:39.120Z"
   },
   {
    "duration": 6,
    "start_time": "2021-12-15T14:54:10.012Z"
   },
   {
    "duration": 14,
    "start_time": "2021-12-15T14:54:46.080Z"
   },
   {
    "duration": 5,
    "start_time": "2021-12-15T14:55:20.498Z"
   },
   {
    "duration": 15,
    "start_time": "2021-12-15T14:55:22.830Z"
   },
   {
    "duration": 691,
    "start_time": "2021-12-15T14:55:39.482Z"
   },
   {
    "duration": 19,
    "start_time": "2021-12-15T14:55:40.175Z"
   },
   {
    "duration": 12,
    "start_time": "2021-12-15T14:55:40.196Z"
   },
   {
    "duration": 10,
    "start_time": "2021-12-15T14:55:40.210Z"
   },
   {
    "duration": 225,
    "start_time": "2021-12-15T14:55:40.222Z"
   },
   {
    "duration": 14,
    "start_time": "2021-12-15T14:55:40.449Z"
   },
   {
    "duration": 13,
    "start_time": "2021-12-15T14:55:40.465Z"
   },
   {
    "duration": 6,
    "start_time": "2021-12-15T14:55:40.479Z"
   },
   {
    "duration": 14,
    "start_time": "2021-12-15T14:55:40.508Z"
   },
   {
    "duration": 5,
    "start_time": "2021-12-15T14:55:40.524Z"
   },
   {
    "duration": 10,
    "start_time": "2021-12-15T14:55:40.530Z"
   },
   {
    "duration": 11,
    "start_time": "2021-12-15T14:55:40.542Z"
   },
   {
    "duration": 17,
    "start_time": "2021-12-15T14:55:40.555Z"
   },
   {
    "duration": 436,
    "start_time": "2021-12-15T14:55:40.574Z"
   },
   {
    "duration": 17,
    "start_time": "2021-12-15T15:11:37.876Z"
   },
   {
    "duration": 7,
    "start_time": "2021-12-15T15:11:55.582Z"
   },
   {
    "duration": 24,
    "start_time": "2021-12-15T15:11:57.515Z"
   },
   {
    "duration": 25,
    "start_time": "2021-12-15T15:12:00.184Z"
   },
   {
    "duration": 117,
    "start_time": "2021-12-15T15:13:23.714Z"
   },
   {
    "duration": 114,
    "start_time": "2021-12-15T15:13:43.804Z"
   },
   {
    "duration": 349,
    "start_time": "2021-12-15T15:13:54.819Z"
   },
   {
    "duration": 5,
    "start_time": "2021-12-15T15:14:58.162Z"
   },
   {
    "duration": 15,
    "start_time": "2021-12-15T15:15:01.762Z"
   },
   {
    "duration": 18,
    "start_time": "2021-12-15T15:25:51.808Z"
   },
   {
    "duration": 15,
    "start_time": "2021-12-15T15:25:57.514Z"
   },
   {
    "duration": 23,
    "start_time": "2021-12-15T15:26:07.330Z"
   },
   {
    "duration": 3,
    "start_time": "2021-12-15T15:27:35.842Z"
   },
   {
    "duration": 2,
    "start_time": "2021-12-15T15:27:40.082Z"
   },
   {
    "duration": 14,
    "start_time": "2021-12-15T15:27:44.262Z"
   },
   {
    "duration": 15,
    "start_time": "2021-12-15T15:27:50.782Z"
   },
   {
    "duration": 16,
    "start_time": "2021-12-15T15:28:02.746Z"
   },
   {
    "duration": 697,
    "start_time": "2021-12-15T15:28:15.486Z"
   },
   {
    "duration": 30,
    "start_time": "2021-12-15T15:28:16.185Z"
   },
   {
    "duration": 18,
    "start_time": "2021-12-15T15:28:16.218Z"
   },
   {
    "duration": 10,
    "start_time": "2021-12-15T15:28:16.238Z"
   },
   {
    "duration": 2,
    "start_time": "2021-12-15T15:28:16.250Z"
   },
   {
    "duration": 4,
    "start_time": "2021-12-15T15:28:16.254Z"
   },
   {
    "duration": 9,
    "start_time": "2021-12-15T15:28:16.260Z"
   },
   {
    "duration": 59,
    "start_time": "2021-12-15T15:28:16.270Z"
   },
   {
    "duration": 10,
    "start_time": "2021-12-15T15:28:16.331Z"
   },
   {
    "duration": 13,
    "start_time": "2021-12-15T15:28:16.343Z"
   },
   {
    "duration": 252,
    "start_time": "2021-12-15T15:28:16.358Z"
   },
   {
    "duration": 5,
    "start_time": "2021-12-15T15:28:16.612Z"
   },
   {
    "duration": 13,
    "start_time": "2021-12-15T15:28:16.618Z"
   },
   {
    "duration": 20,
    "start_time": "2021-12-15T15:28:16.633Z"
   },
   {
    "duration": 37,
    "start_time": "2021-12-15T15:28:16.655Z"
   },
   {
    "duration": 469,
    "start_time": "2021-12-15T15:28:16.695Z"
   },
   {
    "duration": 8937,
    "start_time": "2021-12-15T15:32:18.016Z"
   },
   {
    "duration": -133,
    "start_time": "2021-12-15T15:32:27.088Z"
   },
   {
    "duration": 16,
    "start_time": "2021-12-15T15:32:30.706Z"
   },
   {
    "duration": 7,
    "start_time": "2021-12-15T15:33:11.423Z"
   },
   {
    "duration": 26,
    "start_time": "2021-12-15T15:33:16.855Z"
   },
   {
    "duration": 25,
    "start_time": "2021-12-15T15:33:23.106Z"
   },
   {
    "duration": 16,
    "start_time": "2021-12-15T15:34:18.468Z"
   },
   {
    "duration": 16,
    "start_time": "2021-12-15T15:35:03.003Z"
   },
   {
    "duration": 20,
    "start_time": "2021-12-15T15:35:16.564Z"
   },
   {
    "duration": 5,
    "start_time": "2021-12-15T15:35:29.786Z"
   },
   {
    "duration": 21,
    "start_time": "2021-12-15T15:35:41.047Z"
   },
   {
    "duration": 16,
    "start_time": "2021-12-15T15:36:03.874Z"
   },
   {
    "duration": 18,
    "start_time": "2021-12-15T15:37:43.127Z"
   },
   {
    "duration": 145,
    "start_time": "2021-12-15T15:39:56.318Z"
   },
   {
    "duration": 22,
    "start_time": "2021-12-15T15:40:06.106Z"
   },
   {
    "duration": 15,
    "start_time": "2021-12-15T15:41:32.243Z"
   },
   {
    "duration": 111,
    "start_time": "2021-12-15T15:43:43.535Z"
   },
   {
    "duration": 430,
    "start_time": "2021-12-15T15:45:41.526Z"
   },
   {
    "duration": 45,
    "start_time": "2021-12-15T15:54:58.206Z"
   },
   {
    "duration": 41,
    "start_time": "2021-12-15T15:55:32.087Z"
   },
   {
    "duration": 374,
    "start_time": "2021-12-15T15:55:57.248Z"
   },
   {
    "duration": 5,
    "start_time": "2021-12-15T16:00:45.556Z"
   },
   {
    "duration": 25,
    "start_time": "2021-12-15T16:01:35.831Z"
   },
   {
    "duration": 5,
    "start_time": "2021-12-15T16:01:49.611Z"
   },
   {
    "duration": 15,
    "start_time": "2021-12-15T16:02:24.772Z"
   },
   {
    "duration": 362,
    "start_time": "2021-12-15T16:03:16.410Z"
   },
   {
    "duration": 14,
    "start_time": "2021-12-15T16:03:53.926Z"
   },
   {
    "duration": 6,
    "start_time": "2021-12-15T16:03:58.407Z"
   },
   {
    "duration": 416,
    "start_time": "2021-12-15T16:05:23.758Z"
   },
   {
    "duration": 5,
    "start_time": "2021-12-15T16:05:35.258Z"
   },
   {
    "duration": 14,
    "start_time": "2021-12-15T16:05:38.986Z"
   },
   {
    "duration": 8,
    "start_time": "2021-12-15T16:06:21.113Z"
   },
   {
    "duration": 13,
    "start_time": "2021-12-15T16:06:31.558Z"
   },
   {
    "duration": 7,
    "start_time": "2021-12-15T16:10:01.694Z"
   },
   {
    "duration": 17,
    "start_time": "2021-12-15T16:10:16.595Z"
   },
   {
    "duration": 404,
    "start_time": "2021-12-16T07:22:17.648Z"
   },
   {
    "duration": 854,
    "start_time": "2021-12-16T07:22:20.995Z"
   },
   {
    "duration": 30,
    "start_time": "2021-12-16T07:22:22.463Z"
   },
   {
    "duration": 15,
    "start_time": "2021-12-16T07:22:26.521Z"
   },
   {
    "duration": 12,
    "start_time": "2021-12-16T07:22:32.919Z"
   },
   {
    "duration": 10,
    "start_time": "2021-12-16T07:22:36.413Z"
   },
   {
    "duration": 12,
    "start_time": "2021-12-16T07:24:38.582Z"
   },
   {
    "duration": 9,
    "start_time": "2021-12-16T07:24:56.294Z"
   },
   {
    "duration": 295,
    "start_time": "2021-12-16T07:25:18.471Z"
   },
   {
    "duration": 24,
    "start_time": "2021-12-16T07:25:20.655Z"
   },
   {
    "duration": 18,
    "start_time": "2021-12-16T07:35:18.104Z"
   },
   {
    "duration": 20,
    "start_time": "2021-12-16T07:35:32.908Z"
   },
   {
    "duration": 71,
    "start_time": "2021-12-16T07:35:38.317Z"
   },
   {
    "duration": 20,
    "start_time": "2021-12-16T07:35:40.161Z"
   },
   {
    "duration": 18,
    "start_time": "2021-12-16T07:35:44.340Z"
   },
   {
    "duration": 15,
    "start_time": "2021-12-16T07:35:56.280Z"
   },
   {
    "duration": 14,
    "start_time": "2021-12-16T07:36:00.782Z"
   },
   {
    "duration": 15,
    "start_time": "2021-12-16T07:36:59.188Z"
   },
   {
    "duration": 8,
    "start_time": "2021-12-16T07:43:12.334Z"
   },
   {
    "duration": 6,
    "start_time": "2021-12-16T07:43:46.734Z"
   },
   {
    "duration": 6,
    "start_time": "2021-12-16T07:44:03.459Z"
   },
   {
    "duration": 6,
    "start_time": "2021-12-16T07:45:19.110Z"
   },
   {
    "duration": 6,
    "start_time": "2021-12-16T07:46:45.483Z"
   },
   {
    "duration": 4,
    "start_time": "2021-12-16T08:05:42.321Z"
   },
   {
    "duration": 9,
    "start_time": "2021-12-16T08:05:48.603Z"
   },
   {
    "duration": 31,
    "start_time": "2021-12-16T08:06:01.740Z"
   },
   {
    "duration": 22,
    "start_time": "2021-12-16T08:06:43.488Z"
   },
   {
    "duration": 91,
    "start_time": "2021-12-16T08:06:54.818Z"
   },
   {
    "duration": 33,
    "start_time": "2021-12-16T08:06:57.079Z"
   },
   {
    "duration": 23,
    "start_time": "2021-12-16T08:07:02.423Z"
   },
   {
    "duration": 13,
    "start_time": "2021-12-16T08:07:09.447Z"
   },
   {
    "duration": 13,
    "start_time": "2021-12-16T08:07:12.815Z"
   },
   {
    "duration": 6,
    "start_time": "2021-12-16T08:07:15.768Z"
   },
   {
    "duration": 6,
    "start_time": "2021-12-16T08:07:17.419Z"
   },
   {
    "duration": 5,
    "start_time": "2021-12-16T08:07:21.601Z"
   },
   {
    "duration": 5,
    "start_time": "2021-12-16T08:07:22.808Z"
   },
   {
    "duration": 14,
    "start_time": "2021-12-16T08:11:20.293Z"
   },
   {
    "duration": 17,
    "start_time": "2021-12-16T08:11:23.760Z"
   },
   {
    "duration": 64,
    "start_time": "2021-12-16T08:11:28.028Z"
   },
   {
    "duration": 21,
    "start_time": "2021-12-16T08:11:30.048Z"
   },
   {
    "duration": 20,
    "start_time": "2021-12-16T08:11:32.817Z"
   },
   {
    "duration": 14,
    "start_time": "2021-12-16T08:11:36.579Z"
   },
   {
    "duration": 13,
    "start_time": "2021-12-16T08:11:46.000Z"
   },
   {
    "duration": 13,
    "start_time": "2021-12-16T08:11:48.944Z"
   },
   {
    "duration": 6,
    "start_time": "2021-12-16T08:11:51.570Z"
   },
   {
    "duration": 6,
    "start_time": "2021-12-16T08:11:52.667Z"
   },
   {
    "duration": 6,
    "start_time": "2021-12-16T08:13:09.273Z"
   },
   {
    "duration": 65,
    "start_time": "2021-12-16T08:13:18.427Z"
   },
   {
    "duration": 22,
    "start_time": "2021-12-16T08:13:21.011Z"
   },
   {
    "duration": 14,
    "start_time": "2021-12-16T08:13:24.642Z"
   },
   {
    "duration": 12,
    "start_time": "2021-12-16T08:13:31.433Z"
   },
   {
    "duration": 14,
    "start_time": "2021-12-16T08:13:34.241Z"
   },
   {
    "duration": 7,
    "start_time": "2021-12-16T08:13:36.547Z"
   },
   {
    "duration": 7,
    "start_time": "2021-12-16T08:13:37.799Z"
   },
   {
    "duration": 5,
    "start_time": "2021-12-16T08:13:40.279Z"
   },
   {
    "duration": 5,
    "start_time": "2021-12-16T08:13:41.231Z"
   },
   {
    "duration": 7,
    "start_time": "2021-12-16T08:13:42.519Z"
   },
   {
    "duration": 24,
    "start_time": "2021-12-16T08:13:47.979Z"
   },
   {
    "duration": 21,
    "start_time": "2021-12-16T08:14:52.059Z"
   },
   {
    "duration": 4,
    "start_time": "2021-12-16T08:19:33.738Z"
   },
   {
    "duration": 5,
    "start_time": "2021-12-16T08:19:44.284Z"
   },
   {
    "duration": 5,
    "start_time": "2021-12-16T08:20:41.367Z"
   },
   {
    "duration": 4,
    "start_time": "2021-12-16T08:20:43.445Z"
   },
   {
    "duration": 6,
    "start_time": "2021-12-16T08:21:38.707Z"
   },
   {
    "duration": 21,
    "start_time": "2021-12-16T08:22:18.020Z"
   },
   {
    "duration": 21,
    "start_time": "2021-12-16T08:23:34.009Z"
   },
   {
    "duration": 4,
    "start_time": "2021-12-16T08:23:39.728Z"
   },
   {
    "duration": 5,
    "start_time": "2021-12-16T08:23:41.879Z"
   },
   {
    "duration": 6,
    "start_time": "2021-12-16T08:23:44.148Z"
   },
   {
    "duration": 64,
    "start_time": "2021-12-16T08:24:02.433Z"
   },
   {
    "duration": 25,
    "start_time": "2021-12-16T08:24:05.007Z"
   },
   {
    "duration": 16,
    "start_time": "2021-12-16T08:24:10.569Z"
   },
   {
    "duration": 13,
    "start_time": "2021-12-16T08:24:19.091Z"
   },
   {
    "duration": 14,
    "start_time": "2021-12-16T08:24:23.939Z"
   },
   {
    "duration": 7,
    "start_time": "2021-12-16T08:24:27.079Z"
   },
   {
    "duration": 7,
    "start_time": "2021-12-16T08:24:28.024Z"
   },
   {
    "duration": 5,
    "start_time": "2021-12-16T08:24:30.089Z"
   },
   {
    "duration": 5,
    "start_time": "2021-12-16T08:24:31.167Z"
   },
   {
    "duration": 7,
    "start_time": "2021-12-16T08:24:33.892Z"
   },
   {
    "duration": 21,
    "start_time": "2021-12-16T08:25:04.632Z"
   },
   {
    "duration": 5,
    "start_time": "2021-12-16T08:25:15.141Z"
   },
   {
    "duration": 5,
    "start_time": "2021-12-16T08:25:19.136Z"
   },
   {
    "duration": 7,
    "start_time": "2021-12-16T08:25:20.996Z"
   },
   {
    "duration": 23,
    "start_time": "2021-12-16T08:25:22.439Z"
   },
   {
    "duration": 6,
    "start_time": "2021-12-16T08:25:56.412Z"
   },
   {
    "duration": 6,
    "start_time": "2021-12-16T08:25:57.767Z"
   },
   {
    "duration": 21,
    "start_time": "2021-12-16T08:25:58.867Z"
   },
   {
    "duration": 66,
    "start_time": "2021-12-16T08:26:07.231Z"
   },
   {
    "duration": 21,
    "start_time": "2021-12-16T08:26:08.068Z"
   },
   {
    "duration": 18,
    "start_time": "2021-12-16T08:26:10.171Z"
   },
   {
    "duration": 14,
    "start_time": "2021-12-16T08:26:15.434Z"
   },
   {
    "duration": 13,
    "start_time": "2021-12-16T08:26:17.379Z"
   },
   {
    "duration": 6,
    "start_time": "2021-12-16T08:26:19.021Z"
   },
   {
    "duration": 6,
    "start_time": "2021-12-16T08:26:19.875Z"
   },
   {
    "duration": 5,
    "start_time": "2021-12-16T08:26:21.968Z"
   },
   {
    "duration": 6,
    "start_time": "2021-12-16T08:26:22.960Z"
   },
   {
    "duration": 8,
    "start_time": "2021-12-16T08:26:23.808Z"
   },
   {
    "duration": 21,
    "start_time": "2021-12-16T08:26:27.279Z"
   },
   {
    "duration": 4,
    "start_time": "2021-12-16T08:26:36.511Z"
   },
   {
    "duration": 6,
    "start_time": "2021-12-16T08:26:37.729Z"
   },
   {
    "duration": 7,
    "start_time": "2021-12-16T08:26:39.619Z"
   },
   {
    "duration": 32,
    "start_time": "2021-12-16T08:26:42.219Z"
   },
   {
    "duration": 344,
    "start_time": "2021-12-16T08:30:05.740Z"
   },
   {
    "duration": 25,
    "start_time": "2021-12-16T08:30:18.252Z"
   },
   {
    "duration": 453,
    "start_time": "2021-12-16T08:33:12.119Z"
   },
   {
    "duration": 732,
    "start_time": "2021-12-16T10:01:11.036Z"
   },
   {
    "duration": 2163,
    "start_time": "2021-12-16T10:05:30.981Z"
   },
   {
    "duration": 1774,
    "start_time": "2021-12-16T10:07:34.749Z"
   },
   {
    "duration": 472,
    "start_time": "2021-12-16T11:07:24.022Z"
   },
   {
    "duration": -580,
    "start_time": "2021-12-16T11:07:25.077Z"
   },
   {
    "duration": 937,
    "start_time": "2021-12-16T11:10:29.455Z"
   },
   {
    "duration": 1828,
    "start_time": "2021-12-16T11:11:08.579Z"
   },
   {
    "duration": 402,
    "start_time": "2021-12-16T11:17:41.880Z"
   },
   {
    "duration": 737,
    "start_time": "2021-12-16T11:18:52.769Z"
   },
   {
    "duration": 125,
    "start_time": "2021-12-16T11:19:06.392Z"
   },
   {
    "duration": 2333,
    "start_time": "2021-12-16T11:19:24.597Z"
   },
   {
    "duration": 2708,
    "start_time": "2021-12-16T11:20:32.341Z"
   },
   {
    "duration": 1536,
    "start_time": "2021-12-16T11:26:57.082Z"
   },
   {
    "duration": 35,
    "start_time": "2021-12-16T11:28:40.546Z"
   },
   {
    "duration": 6,
    "start_time": "2021-12-16T11:29:08.865Z"
   },
   {
    "duration": 7,
    "start_time": "2021-12-16T11:29:38.145Z"
   },
   {
    "duration": 27,
    "start_time": "2021-12-16T11:29:55.325Z"
   },
   {
    "duration": 4,
    "start_time": "2021-12-16T11:34:05.365Z"
   },
   {
    "duration": 6,
    "start_time": "2021-12-16T11:34:40.258Z"
   },
   {
    "duration": 25,
    "start_time": "2021-12-16T11:34:51.967Z"
   },
   {
    "duration": 137,
    "start_time": "2021-12-16T11:42:27.545Z"
   },
   {
    "duration": 6,
    "start_time": "2021-12-16T11:44:00.897Z"
   },
   {
    "duration": 33,
    "start_time": "2021-12-16T11:44:04.889Z"
   },
   {
    "duration": 7,
    "start_time": "2021-12-16T11:44:17.213Z"
   },
   {
    "duration": 5,
    "start_time": "2021-12-16T11:44:28.825Z"
   },
   {
    "duration": 22,
    "start_time": "2021-12-16T11:44:32.526Z"
   },
   {
    "duration": 34,
    "start_time": "2021-12-16T11:44:40.759Z"
   },
   {
    "duration": 1069,
    "start_time": "2021-12-16T11:45:00.324Z"
   },
   {
    "duration": 63,
    "start_time": "2021-12-16T11:45:01.397Z"
   },
   {
    "duration": 24,
    "start_time": "2021-12-16T11:45:01.465Z"
   },
   {
    "duration": 20,
    "start_time": "2021-12-16T11:45:01.492Z"
   },
   {
    "duration": 58,
    "start_time": "2021-12-16T11:45:01.516Z"
   },
   {
    "duration": 13,
    "start_time": "2021-12-16T11:45:01.577Z"
   },
   {
    "duration": 25,
    "start_time": "2021-12-16T11:45:01.593Z"
   },
   {
    "duration": 15,
    "start_time": "2021-12-16T11:45:01.621Z"
   },
   {
    "duration": 26,
    "start_time": "2021-12-16T11:45:01.640Z"
   },
   {
    "duration": 13,
    "start_time": "2021-12-16T11:45:01.670Z"
   },
   {
    "duration": 26,
    "start_time": "2021-12-16T11:45:01.686Z"
   },
   {
    "duration": 11,
    "start_time": "2021-12-16T11:45:01.715Z"
   },
   {
    "duration": 33,
    "start_time": "2021-12-16T11:45:01.729Z"
   },
   {
    "duration": 12,
    "start_time": "2021-12-16T11:45:01.765Z"
   },
   {
    "duration": 38,
    "start_time": "2021-12-16T11:45:01.781Z"
   },
   {
    "duration": 537,
    "start_time": "2021-12-16T11:45:01.822Z"
   },
   {
    "duration": 36,
    "start_time": "2021-12-16T11:45:02.363Z"
   },
   {
    "duration": 90,
    "start_time": "2021-12-16T11:45:02.402Z"
   },
   {
    "duration": 12,
    "start_time": "2021-12-16T11:45:02.495Z"
   },
   {
    "duration": 52,
    "start_time": "2021-12-16T11:45:02.510Z"
   },
   {
    "duration": 14,
    "start_time": "2021-12-16T11:45:02.565Z"
   },
   {
    "duration": 40,
    "start_time": "2021-12-16T11:45:02.582Z"
   },
   {
    "duration": 17752,
    "start_time": "2021-12-16T12:00:55.763Z"
   },
   {
    "duration": 12004,
    "start_time": "2021-12-16T12:01:31.390Z"
   },
   {
    "duration": 137,
    "start_time": "2021-12-16T12:11:18.652Z"
   },
   {
    "duration": 151,
    "start_time": "2021-12-16T12:11:34.651Z"
   },
   {
    "duration": 17,
    "start_time": "2021-12-16T12:14:37.005Z"
   },
   {
    "duration": 25,
    "start_time": "2021-12-16T12:14:47.322Z"
   },
   {
    "duration": 24,
    "start_time": "2021-12-16T12:17:16.942Z"
   },
   {
    "duration": 20,
    "start_time": "2021-12-16T12:17:24.603Z"
   },
   {
    "duration": 8,
    "start_time": "2021-12-16T12:21:21.005Z"
   },
   {
    "duration": 874,
    "start_time": "2021-12-16T12:22:01.567Z"
   },
   {
    "duration": 14,
    "start_time": "2021-12-16T12:22:20.239Z"
   },
   {
    "duration": 21,
    "start_time": "2021-12-16T12:22:32.066Z"
   },
   {
    "duration": 22,
    "start_time": "2021-12-16T12:23:12.525Z"
   },
   {
    "duration": 472,
    "start_time": "2021-12-16T12:38:25.848Z"
   },
   {
    "duration": 481,
    "start_time": "2021-12-16T12:38:50.985Z"
   },
   {
    "duration": 11,
    "start_time": "2021-12-16T12:39:12.944Z"
   },
   {
    "duration": 20,
    "start_time": "2021-12-16T12:39:23.255Z"
   },
   {
    "duration": 5,
    "start_time": "2021-12-16T12:39:36.493Z"
   },
   {
    "duration": 387,
    "start_time": "2021-12-16T12:39:46.846Z"
   },
   {
    "duration": 985,
    "start_time": "2021-12-16T12:40:02.351Z"
   },
   {
    "duration": 33,
    "start_time": "2021-12-16T12:40:03.339Z"
   },
   {
    "duration": 16,
    "start_time": "2021-12-16T12:40:03.374Z"
   },
   {
    "duration": 14,
    "start_time": "2021-12-16T12:40:03.392Z"
   },
   {
    "duration": 52,
    "start_time": "2021-12-16T12:40:03.409Z"
   },
   {
    "duration": 6,
    "start_time": "2021-12-16T12:40:03.464Z"
   },
   {
    "duration": 13,
    "start_time": "2021-12-16T12:40:03.473Z"
   },
   {
    "duration": 4,
    "start_time": "2021-12-16T12:40:03.490Z"
   },
   {
    "duration": 6,
    "start_time": "2021-12-16T12:40:03.498Z"
   },
   {
    "duration": 6,
    "start_time": "2021-12-16T12:40:03.507Z"
   },
   {
    "duration": 64,
    "start_time": "2021-12-16T12:40:03.515Z"
   },
   {
    "duration": 5,
    "start_time": "2021-12-16T12:40:03.581Z"
   },
   {
    "duration": 11,
    "start_time": "2021-12-16T12:40:03.588Z"
   },
   {
    "duration": 14,
    "start_time": "2021-12-16T12:40:03.601Z"
   },
   {
    "duration": 45,
    "start_time": "2021-12-16T12:40:03.617Z"
   },
   {
    "duration": 334,
    "start_time": "2021-12-16T12:40:03.665Z"
   },
   {
    "duration": 23,
    "start_time": "2021-12-16T12:40:04.001Z"
   },
   {
    "duration": 59,
    "start_time": "2021-12-16T12:40:04.027Z"
   },
   {
    "duration": 8,
    "start_time": "2021-12-16T12:40:04.088Z"
   },
   {
    "duration": 24,
    "start_time": "2021-12-16T12:40:04.099Z"
   },
   {
    "duration": 34,
    "start_time": "2021-12-16T12:40:04.126Z"
   },
   {
    "duration": 23,
    "start_time": "2021-12-16T12:40:04.163Z"
   },
   {
    "duration": 12,
    "start_time": "2021-12-16T12:40:04.189Z"
   },
   {
    "duration": 12,
    "start_time": "2021-12-16T12:40:04.204Z"
   },
   {
    "duration": 51,
    "start_time": "2021-12-16T12:40:04.219Z"
   },
   {
    "duration": 20,
    "start_time": "2021-12-16T12:40:04.275Z"
   },
   {
    "duration": 11,
    "start_time": "2021-12-16T12:44:39.995Z"
   },
   {
    "duration": 11,
    "start_time": "2021-12-16T12:44:41.527Z"
   },
   {
    "duration": 22,
    "start_time": "2021-12-16T12:44:42.521Z"
   },
   {
    "duration": 47,
    "start_time": "2021-12-16T12:44:44.695Z"
   },
   {
    "duration": 483,
    "start_time": "2021-12-16T12:54:16.550Z"
   },
   {
    "duration": 28,
    "start_time": "2021-12-16T12:54:49.333Z"
   },
   {
    "duration": 20,
    "start_time": "2021-12-16T12:55:11.763Z"
   },
   {
    "duration": 16,
    "start_time": "2021-12-16T12:56:06.285Z"
   },
   {
    "duration": 18,
    "start_time": "2021-12-16T12:56:09.057Z"
   },
   {
    "duration": 36,
    "start_time": "2021-12-16T13:03:02.800Z"
   },
   {
    "duration": 144,
    "start_time": "2021-12-16T13:04:16.577Z"
   },
   {
    "duration": 7,
    "start_time": "2021-12-16T13:07:29.166Z"
   },
   {
    "duration": 10,
    "start_time": "2021-12-16T13:08:45.851Z"
   },
   {
    "duration": 10,
    "start_time": "2021-12-16T13:09:47.530Z"
   },
   {
    "duration": 11,
    "start_time": "2021-12-16T13:10:22.499Z"
   },
   {
    "duration": -425,
    "start_time": "2021-12-16T13:11:39.531Z"
   },
   {
    "duration": 7,
    "start_time": "2021-12-16T13:13:43.224Z"
   },
   {
    "duration": 7,
    "start_time": "2021-12-16T13:15:04.724Z"
   },
   {
    "duration": 7,
    "start_time": "2021-12-16T13:15:18.217Z"
   },
   {
    "duration": 7,
    "start_time": "2021-12-16T13:16:16.409Z"
   },
   {
    "duration": 7,
    "start_time": "2021-12-16T13:17:45.035Z"
   },
   {
    "duration": 11,
    "start_time": "2021-12-16T13:24:49.589Z"
   },
   {
    "duration": 12,
    "start_time": "2021-12-16T13:31:32.709Z"
   },
   {
    "duration": 10,
    "start_time": "2021-12-16T13:31:59.494Z"
   },
   {
    "duration": 14,
    "start_time": "2021-12-16T13:34:04.798Z"
   },
   {
    "duration": 8,
    "start_time": "2021-12-16T13:35:44.561Z"
   },
   {
    "duration": 12,
    "start_time": "2021-12-16T13:37:44.773Z"
   },
   {
    "duration": 12,
    "start_time": "2021-12-16T13:38:37.205Z"
   },
   {
    "duration": -510,
    "start_time": "2021-12-16T13:42:37.198Z"
   },
   {
    "duration": 11582,
    "start_time": "2021-12-16T13:42:54.553Z"
   },
   {
    "duration": -598,
    "start_time": "2021-12-16T13:43:06.736Z"
   },
   {
    "duration": 12778,
    "start_time": "2021-12-16T13:43:28.473Z"
   },
   {
    "duration": -546,
    "start_time": "2021-12-16T13:43:41.801Z"
   },
   {
    "duration": 12,
    "start_time": "2021-12-16T13:43:47.099Z"
   },
   {
    "duration": 10,
    "start_time": "2021-12-16T13:43:55.224Z"
   },
   {
    "duration": 136,
    "start_time": "2021-12-16T13:45:54.765Z"
   },
   {
    "duration": 137,
    "start_time": "2021-12-16T13:46:04.985Z"
   },
   {
    "duration": 5,
    "start_time": "2021-12-16T13:46:13.504Z"
   },
   {
    "duration": 6,
    "start_time": "2021-12-16T13:46:23.502Z"
   },
   {
    "duration": 10194,
    "start_time": "2021-12-16T13:47:56.864Z"
   },
   {
    "duration": 11,
    "start_time": "2021-12-16T13:50:56.837Z"
   },
   {
    "duration": 18,
    "start_time": "2021-12-16T13:51:58.439Z"
   },
   {
    "duration": 6,
    "start_time": "2021-12-16T13:57:03.993Z"
   },
   {
    "duration": 7,
    "start_time": "2021-12-16T13:57:56.910Z"
   },
   {
    "duration": 5,
    "start_time": "2021-12-16T14:04:40.149Z"
   },
   {
    "duration": 5,
    "start_time": "2021-12-16T14:04:47.329Z"
   },
   {
    "duration": 6,
    "start_time": "2021-12-16T14:04:51.294Z"
   },
   {
    "duration": 807,
    "start_time": "2021-12-16T14:05:01.407Z"
   },
   {
    "duration": 32,
    "start_time": "2021-12-16T14:05:02.217Z"
   },
   {
    "duration": 15,
    "start_time": "2021-12-16T14:05:02.261Z"
   },
   {
    "duration": 13,
    "start_time": "2021-12-16T14:05:02.279Z"
   },
   {
    "duration": 12,
    "start_time": "2021-12-16T14:05:02.295Z"
   },
   {
    "duration": 12,
    "start_time": "2021-12-16T14:05:02.310Z"
   },
   {
    "duration": 41,
    "start_time": "2021-12-16T14:05:02.324Z"
   },
   {
    "duration": 4,
    "start_time": "2021-12-16T14:05:02.369Z"
   },
   {
    "duration": 6,
    "start_time": "2021-12-16T14:05:02.376Z"
   },
   {
    "duration": 13,
    "start_time": "2021-12-16T14:05:02.384Z"
   },
   {
    "duration": 22,
    "start_time": "2021-12-16T14:05:02.399Z"
   },
   {
    "duration": 5,
    "start_time": "2021-12-16T14:05:02.459Z"
   },
   {
    "duration": 6,
    "start_time": "2021-12-16T14:05:02.467Z"
   },
   {
    "duration": 13,
    "start_time": "2021-12-16T14:05:02.475Z"
   },
   {
    "duration": 23,
    "start_time": "2021-12-16T14:05:02.490Z"
   },
   {
    "duration": 348,
    "start_time": "2021-12-16T14:05:02.516Z"
   },
   {
    "duration": 24,
    "start_time": "2021-12-16T14:05:02.866Z"
   },
   {
    "duration": 42,
    "start_time": "2021-12-16T14:05:02.892Z"
   },
   {
    "duration": 26,
    "start_time": "2021-12-16T14:05:02.936Z"
   },
   {
    "duration": 25,
    "start_time": "2021-12-16T14:05:02.965Z"
   },
   {
    "duration": 4,
    "start_time": "2021-12-16T14:05:02.993Z"
   },
   {
    "duration": 59,
    "start_time": "2021-12-16T14:05:03.000Z"
   },
   {
    "duration": 13,
    "start_time": "2021-12-16T14:05:03.063Z"
   },
   {
    "duration": 11,
    "start_time": "2021-12-16T14:05:03.079Z"
   },
   {
    "duration": 20,
    "start_time": "2021-12-16T14:05:03.093Z"
   },
   {
    "duration": 57,
    "start_time": "2021-12-16T14:05:03.115Z"
   },
   {
    "duration": 32,
    "start_time": "2021-12-16T14:05:03.176Z"
   },
   {
    "duration": 19,
    "start_time": "2021-12-16T14:05:03.211Z"
   },
   {
    "duration": 40,
    "start_time": "2021-12-16T14:05:03.261Z"
   },
   {
    "duration": 7,
    "start_time": "2021-12-16T14:05:03.304Z"
   },
   {
    "duration": 16,
    "start_time": "2021-12-16T14:05:03.314Z"
   },
   {
    "duration": 31,
    "start_time": "2021-12-16T14:05:03.332Z"
   },
   {
    "duration": 24,
    "start_time": "2021-12-16T14:05:03.365Z"
   },
   {
    "duration": 18,
    "start_time": "2021-12-16T14:05:03.391Z"
   },
   {
    "duration": 6,
    "start_time": "2021-12-16T14:05:03.411Z"
   },
   {
    "duration": 12,
    "start_time": "2021-12-16T14:05:03.419Z"
   },
   {
    "duration": 36,
    "start_time": "2021-12-16T14:05:03.434Z"
   },
   {
    "duration": 5,
    "start_time": "2021-12-16T14:06:01.754Z"
   },
   {
    "duration": 5,
    "start_time": "2021-12-16T14:06:06.091Z"
   },
   {
    "duration": 6,
    "start_time": "2021-12-16T14:06:13.525Z"
   },
   {
    "duration": 924,
    "start_time": "2021-12-16T14:06:27.893Z"
   },
   {
    "duration": 30,
    "start_time": "2021-12-16T14:06:28.821Z"
   },
   {
    "duration": 15,
    "start_time": "2021-12-16T14:06:28.859Z"
   },
   {
    "duration": 13,
    "start_time": "2021-12-16T14:06:28.877Z"
   },
   {
    "duration": 13,
    "start_time": "2021-12-16T14:06:28.892Z"
   },
   {
    "duration": 6,
    "start_time": "2021-12-16T14:06:28.908Z"
   },
   {
    "duration": 7,
    "start_time": "2021-12-16T14:06:28.959Z"
   },
   {
    "duration": 5,
    "start_time": "2021-12-16T14:06:28.970Z"
   },
   {
    "duration": 6,
    "start_time": "2021-12-16T14:06:28.978Z"
   },
   {
    "duration": 9,
    "start_time": "2021-12-16T14:06:28.986Z"
   },
   {
    "duration": 61,
    "start_time": "2021-12-16T14:06:28.998Z"
   },
   {
    "duration": 5,
    "start_time": "2021-12-16T14:06:29.062Z"
   },
   {
    "duration": 8,
    "start_time": "2021-12-16T14:06:29.069Z"
   },
   {
    "duration": 7,
    "start_time": "2021-12-16T14:06:29.079Z"
   },
   {
    "duration": 21,
    "start_time": "2021-12-16T14:06:29.088Z"
   },
   {
    "duration": 347,
    "start_time": "2021-12-16T14:06:29.112Z"
   },
   {
    "duration": 30,
    "start_time": "2021-12-16T14:06:29.461Z"
   },
   {
    "duration": 38,
    "start_time": "2021-12-16T14:06:29.494Z"
   },
   {
    "duration": 30,
    "start_time": "2021-12-16T14:06:29.535Z"
   },
   {
    "duration": 24,
    "start_time": "2021-12-16T14:06:29.568Z"
   },
   {
    "duration": 4,
    "start_time": "2021-12-16T14:06:29.595Z"
   },
   {
    "duration": 61,
    "start_time": "2021-12-16T14:06:29.602Z"
   },
   {
    "duration": 14,
    "start_time": "2021-12-16T14:06:29.666Z"
   },
   {
    "duration": 12,
    "start_time": "2021-12-16T14:06:29.683Z"
   },
   {
    "duration": 19,
    "start_time": "2021-12-16T14:06:29.697Z"
   },
   {
    "duration": 52,
    "start_time": "2021-12-16T14:06:29.721Z"
   },
   {
    "duration": 33,
    "start_time": "2021-12-16T14:06:29.775Z"
   },
   {
    "duration": 18,
    "start_time": "2021-12-16T14:06:29.810Z"
   },
   {
    "duration": 37,
    "start_time": "2021-12-16T14:06:29.861Z"
   },
   {
    "duration": 6,
    "start_time": "2021-12-16T14:06:29.901Z"
   },
   {
    "duration": 8,
    "start_time": "2021-12-16T14:06:29.909Z"
   },
   {
    "duration": 42,
    "start_time": "2021-12-16T14:06:29.919Z"
   },
   {
    "duration": 9,
    "start_time": "2021-12-16T14:06:29.964Z"
   },
   {
    "duration": 9,
    "start_time": "2021-12-16T14:06:29.976Z"
   },
   {
    "duration": 6,
    "start_time": "2021-12-16T14:06:29.987Z"
   },
   {
    "duration": 13,
    "start_time": "2021-12-16T14:06:29.995Z"
   },
   {
    "duration": 69,
    "start_time": "2021-12-16T14:06:30.011Z"
   },
   {
    "duration": 11,
    "start_time": "2021-12-16T14:22:59.939Z"
   },
   {
    "duration": 125,
    "start_time": "2021-12-16T14:24:30.659Z"
   },
   {
    "duration": 15,
    "start_time": "2021-12-16T14:32:18.021Z"
   },
   {
    "duration": 494,
    "start_time": "2021-12-16T14:32:51.808Z"
   },
   {
    "duration": 388,
    "start_time": "2021-12-16T14:33:20.968Z"
   },
   {
    "duration": 409,
    "start_time": "2021-12-16T14:34:21.594Z"
   },
   {
    "duration": 4823,
    "start_time": "2021-12-16T14:36:56.472Z"
   },
   {
    "duration": 4862,
    "start_time": "2021-12-16T14:40:47.367Z"
   },
   {
    "duration": 23,
    "start_time": "2021-12-16T14:40:53.702Z"
   },
   {
    "duration": 8,
    "start_time": "2021-12-16T14:56:16.027Z"
   },
   {
    "duration": 6,
    "start_time": "2021-12-16T14:56:44.971Z"
   },
   {
    "duration": 4576,
    "start_time": "2021-12-16T14:57:17.871Z"
   },
   {
    "duration": 16,
    "start_time": "2021-12-16T15:17:30.333Z"
   },
   {
    "duration": 16,
    "start_time": "2021-12-16T15:17:37.322Z"
   },
   {
    "duration": 12,
    "start_time": "2021-12-16T15:18:22.462Z"
   },
   {
    "duration": 6,
    "start_time": "2021-12-16T15:19:18.490Z"
   },
   {
    "duration": 12,
    "start_time": "2021-12-16T15:19:22.302Z"
   },
   {
    "duration": 6,
    "start_time": "2021-12-16T15:19:56.771Z"
   },
   {
    "duration": 18,
    "start_time": "2021-12-16T15:21:25.263Z"
   },
   {
    "duration": 17,
    "start_time": "2021-12-16T15:25:05.977Z"
   },
   {
    "duration": 12,
    "start_time": "2021-12-16T15:26:19.390Z"
   },
   {
    "duration": 10,
    "start_time": "2021-12-16T15:28:21.343Z"
   },
   {
    "duration": 6,
    "start_time": "2021-12-16T15:31:41.183Z"
   },
   {
    "duration": 12,
    "start_time": "2021-12-16T15:31:42.124Z"
   },
   {
    "duration": 16,
    "start_time": "2021-12-16T15:31:43.634Z"
   },
   {
    "duration": 10,
    "start_time": "2021-12-16T15:31:45.431Z"
   },
   {
    "duration": 12,
    "start_time": "2021-12-16T15:34:06.330Z"
   },
   {
    "duration": 5,
    "start_time": "2021-12-16T15:45:29.883Z"
   },
   {
    "duration": 8,
    "start_time": "2021-12-16T15:48:48.262Z"
   },
   {
    "duration": 889,
    "start_time": "2021-12-16T15:52:51.829Z"
   },
   {
    "duration": 30,
    "start_time": "2021-12-16T15:52:52.721Z"
   },
   {
    "duration": 14,
    "start_time": "2021-12-16T15:52:52.759Z"
   },
   {
    "duration": 13,
    "start_time": "2021-12-16T15:52:52.776Z"
   },
   {
    "duration": 17,
    "start_time": "2021-12-16T15:52:52.792Z"
   },
   {
    "duration": 50,
    "start_time": "2021-12-16T15:52:52.811Z"
   },
   {
    "duration": 6,
    "start_time": "2021-12-16T15:52:52.864Z"
   },
   {
    "duration": 5,
    "start_time": "2021-12-16T15:52:52.873Z"
   },
   {
    "duration": 5,
    "start_time": "2021-12-16T15:52:52.880Z"
   },
   {
    "duration": 6,
    "start_time": "2021-12-16T15:52:52.887Z"
   },
   {
    "duration": 66,
    "start_time": "2021-12-16T15:52:52.895Z"
   },
   {
    "duration": 4,
    "start_time": "2021-12-16T15:52:52.963Z"
   },
   {
    "duration": 4,
    "start_time": "2021-12-16T15:52:52.969Z"
   },
   {
    "duration": 6,
    "start_time": "2021-12-16T15:52:52.976Z"
   },
   {
    "duration": 20,
    "start_time": "2021-12-16T15:52:52.984Z"
   },
   {
    "duration": 356,
    "start_time": "2021-12-16T15:52:53.006Z"
   },
   {
    "duration": 23,
    "start_time": "2021-12-16T15:52:53.365Z"
   },
   {
    "duration": 37,
    "start_time": "2021-12-16T15:52:53.390Z"
   },
   {
    "duration": 29,
    "start_time": "2021-12-16T15:52:53.430Z"
   },
   {
    "duration": 23,
    "start_time": "2021-12-16T15:52:53.461Z"
   },
   {
    "duration": 10228,
    "start_time": "2021-12-16T15:52:53.487Z"
   },
   {
    "duration": -453,
    "start_time": "2021-12-16T15:53:04.173Z"
   },
   {
    "duration": -470,
    "start_time": "2021-12-16T15:53:04.191Z"
   },
   {
    "duration": -473,
    "start_time": "2021-12-16T15:53:04.196Z"
   },
   {
    "duration": -476,
    "start_time": "2021-12-16T15:53:04.200Z"
   },
   {
    "duration": -482,
    "start_time": "2021-12-16T15:53:04.207Z"
   },
   {
    "duration": -489,
    "start_time": "2021-12-16T15:53:04.215Z"
   },
   {
    "duration": -496,
    "start_time": "2021-12-16T15:53:04.224Z"
   },
   {
    "duration": -499,
    "start_time": "2021-12-16T15:53:04.228Z"
   },
   {
    "duration": -504,
    "start_time": "2021-12-16T15:53:04.235Z"
   },
   {
    "duration": -510,
    "start_time": "2021-12-16T15:53:04.242Z"
   },
   {
    "duration": -513,
    "start_time": "2021-12-16T15:53:04.247Z"
   },
   {
    "duration": -518,
    "start_time": "2021-12-16T15:53:04.253Z"
   },
   {
    "duration": -523,
    "start_time": "2021-12-16T15:53:04.259Z"
   },
   {
    "duration": -526,
    "start_time": "2021-12-16T15:53:04.264Z"
   },
   {
    "duration": -532,
    "start_time": "2021-12-16T15:53:04.271Z"
   },
   {
    "duration": -534,
    "start_time": "2021-12-16T15:53:04.275Z"
   },
   {
    "duration": -537,
    "start_time": "2021-12-16T15:53:04.279Z"
   },
   {
    "duration": -551,
    "start_time": "2021-12-16T15:53:04.294Z"
   },
   {
    "duration": -553,
    "start_time": "2021-12-16T15:53:04.298Z"
   },
   {
    "duration": -557,
    "start_time": "2021-12-16T15:53:04.304Z"
   },
   {
    "duration": -561,
    "start_time": "2021-12-16T15:53:04.309Z"
   },
   {
    "duration": -563,
    "start_time": "2021-12-16T15:53:04.313Z"
   },
   {
    "duration": -566,
    "start_time": "2021-12-16T15:53:04.317Z"
   },
   {
    "duration": -572,
    "start_time": "2021-12-16T15:53:04.325Z"
   },
   {
    "duration": -575,
    "start_time": "2021-12-16T15:53:04.329Z"
   },
   {
    "duration": -574,
    "start_time": "2021-12-16T15:53:04.333Z"
   },
   {
    "duration": 11,
    "start_time": "2021-12-16T15:53:18.235Z"
   },
   {
    "duration": 4,
    "start_time": "2021-12-16T15:54:23.515Z"
   },
   {
    "duration": 813,
    "start_time": "2021-12-16T15:55:02.212Z"
   },
   {
    "duration": 30,
    "start_time": "2021-12-16T15:55:03.028Z"
   },
   {
    "duration": 14,
    "start_time": "2021-12-16T15:55:03.062Z"
   },
   {
    "duration": 11,
    "start_time": "2021-12-16T15:55:03.079Z"
   },
   {
    "duration": 13,
    "start_time": "2021-12-16T15:55:03.092Z"
   },
   {
    "duration": 9,
    "start_time": "2021-12-16T15:55:03.108Z"
   },
   {
    "duration": 45,
    "start_time": "2021-12-16T15:55:03.119Z"
   },
   {
    "duration": 8,
    "start_time": "2021-12-16T15:55:03.167Z"
   },
   {
    "duration": 10,
    "start_time": "2021-12-16T15:55:03.177Z"
   },
   {
    "duration": 9,
    "start_time": "2021-12-16T15:55:03.189Z"
   },
   {
    "duration": 59,
    "start_time": "2021-12-16T15:55:03.201Z"
   },
   {
    "duration": 7,
    "start_time": "2021-12-16T15:55:03.263Z"
   },
   {
    "duration": 11,
    "start_time": "2021-12-16T15:55:03.272Z"
   },
   {
    "duration": 8,
    "start_time": "2021-12-16T15:55:03.286Z"
   },
   {
    "duration": 23,
    "start_time": "2021-12-16T15:55:03.297Z"
   },
   {
    "duration": 322,
    "start_time": "2021-12-16T15:55:03.360Z"
   },
   {
    "duration": 24,
    "start_time": "2021-12-16T15:55:03.685Z"
   },
   {
    "duration": 69,
    "start_time": "2021-12-16T15:55:03.713Z"
   },
   {
    "duration": 10,
    "start_time": "2021-12-16T15:55:03.784Z"
   },
   {
    "duration": 24,
    "start_time": "2021-12-16T15:55:03.797Z"
   },
   {
    "duration": 469,
    "start_time": "2021-12-16T15:55:03.824Z"
   },
   {
    "duration": -503,
    "start_time": "2021-12-16T15:55:04.801Z"
   },
   {
    "duration": -513,
    "start_time": "2021-12-16T15:55:04.813Z"
   },
   {
    "duration": -516,
    "start_time": "2021-12-16T15:55:04.819Z"
   },
   {
    "duration": -521,
    "start_time": "2021-12-16T15:55:04.826Z"
   },
   {
    "duration": -526,
    "start_time": "2021-12-16T15:55:04.833Z"
   },
   {
    "duration": -529,
    "start_time": "2021-12-16T15:55:04.838Z"
   },
   {
    "duration": -532,
    "start_time": "2021-12-16T15:55:04.844Z"
   },
   {
    "duration": -536,
    "start_time": "2021-12-16T15:55:04.850Z"
   },
   {
    "duration": -540,
    "start_time": "2021-12-16T15:55:04.856Z"
   },
   {
    "duration": -542,
    "start_time": "2021-12-16T15:55:04.860Z"
   },
   {
    "duration": -545,
    "start_time": "2021-12-16T15:55:04.865Z"
   },
   {
    "duration": -546,
    "start_time": "2021-12-16T15:55:04.869Z"
   },
   {
    "duration": -549,
    "start_time": "2021-12-16T15:55:04.874Z"
   },
   {
    "duration": -551,
    "start_time": "2021-12-16T15:55:04.878Z"
   },
   {
    "duration": -562,
    "start_time": "2021-12-16T15:55:04.891Z"
   },
   {
    "duration": -563,
    "start_time": "2021-12-16T15:55:04.895Z"
   },
   {
    "duration": -565,
    "start_time": "2021-12-16T15:55:04.899Z"
   },
   {
    "duration": -568,
    "start_time": "2021-12-16T15:55:04.903Z"
   },
   {
    "duration": -572,
    "start_time": "2021-12-16T15:55:04.908Z"
   },
   {
    "duration": -576,
    "start_time": "2021-12-16T15:55:04.913Z"
   },
   {
    "duration": -580,
    "start_time": "2021-12-16T15:55:04.918Z"
   },
   {
    "duration": -562,
    "start_time": "2021-12-16T15:55:04.923Z"
   },
   {
    "duration": -567,
    "start_time": "2021-12-16T15:55:04.930Z"
   },
   {
    "duration": -570,
    "start_time": "2021-12-16T15:55:04.935Z"
   },
   {
    "duration": -575,
    "start_time": "2021-12-16T15:55:04.943Z"
   },
   {
    "duration": -575,
    "start_time": "2021-12-16T15:55:04.947Z"
   },
   {
    "duration": 11,
    "start_time": "2021-12-16T15:55:13.591Z"
   },
   {
    "duration": 867,
    "start_time": "2021-12-16T15:56:06.450Z"
   },
   {
    "duration": 29,
    "start_time": "2021-12-16T15:56:07.320Z"
   },
   {
    "duration": 15,
    "start_time": "2021-12-16T15:56:07.352Z"
   },
   {
    "duration": 11,
    "start_time": "2021-12-16T15:56:07.371Z"
   },
   {
    "duration": 12,
    "start_time": "2021-12-16T15:56:07.385Z"
   },
   {
    "duration": 6,
    "start_time": "2021-12-16T15:56:07.400Z"
   },
   {
    "duration": 50,
    "start_time": "2021-12-16T15:56:07.409Z"
   },
   {
    "duration": 6,
    "start_time": "2021-12-16T15:56:07.465Z"
   },
   {
    "duration": 7,
    "start_time": "2021-12-16T15:56:07.475Z"
   },
   {
    "duration": 9,
    "start_time": "2021-12-16T15:56:07.484Z"
   },
   {
    "duration": 72,
    "start_time": "2021-12-16T15:56:07.495Z"
   },
   {
    "duration": 7,
    "start_time": "2021-12-16T15:56:07.570Z"
   },
   {
    "duration": 6,
    "start_time": "2021-12-16T15:56:07.580Z"
   },
   {
    "duration": 7,
    "start_time": "2021-12-16T15:56:07.589Z"
   },
   {
    "duration": 72,
    "start_time": "2021-12-16T15:56:07.599Z"
   },
   {
    "duration": 312,
    "start_time": "2021-12-16T15:56:07.674Z"
   },
   {
    "duration": 24,
    "start_time": "2021-12-16T15:56:07.989Z"
   },
   {
    "duration": 64,
    "start_time": "2021-12-16T15:56:08.016Z"
   },
   {
    "duration": 8,
    "start_time": "2021-12-16T15:56:08.082Z"
   },
   {
    "duration": 23,
    "start_time": "2021-12-16T15:56:08.092Z"
   },
   {
    "duration": 5,
    "start_time": "2021-12-16T15:56:08.117Z"
   },
   {
    "duration": 55,
    "start_time": "2021-12-16T15:56:08.124Z"
   },
   {
    "duration": 11,
    "start_time": "2021-12-16T15:56:08.185Z"
   },
   {
    "duration": 10,
    "start_time": "2021-12-16T15:56:08.199Z"
   },
   {
    "duration": 49,
    "start_time": "2021-12-16T15:56:08.212Z"
   },
   {
    "duration": 20,
    "start_time": "2021-12-16T15:56:08.263Z"
   },
   {
    "duration": 32,
    "start_time": "2021-12-16T15:56:08.286Z"
   },
   {
    "duration": 48,
    "start_time": "2021-12-16T15:56:08.321Z"
   },
   {
    "duration": 43,
    "start_time": "2021-12-16T15:56:08.372Z"
   },
   {
    "duration": 7,
    "start_time": "2021-12-16T15:56:08.417Z"
   },
   {
    "duration": 35,
    "start_time": "2021-12-16T15:56:08.426Z"
   },
   {
    "duration": 7,
    "start_time": "2021-12-16T15:56:08.463Z"
   },
   {
    "duration": 11,
    "start_time": "2021-12-16T15:56:08.472Z"
   },
   {
    "duration": 9,
    "start_time": "2021-12-16T15:56:08.485Z"
   },
   {
    "duration": 10,
    "start_time": "2021-12-16T15:56:08.496Z"
   },
   {
    "duration": 57,
    "start_time": "2021-12-16T15:56:08.508Z"
   },
   {
    "duration": 10,
    "start_time": "2021-12-16T15:56:08.567Z"
   },
   {
    "duration": 5,
    "start_time": "2021-12-16T15:56:08.580Z"
   },
   {
    "duration": 1919,
    "start_time": "2021-12-16T15:56:08.587Z"
   },
   {
    "duration": -466,
    "start_time": "2021-12-16T15:56:10.975Z"
   },
   {
    "duration": -478,
    "start_time": "2021-12-16T15:56:10.988Z"
   },
   {
    "duration": -494,
    "start_time": "2021-12-16T15:56:11.005Z"
   },
   {
    "duration": -499,
    "start_time": "2021-12-16T15:56:11.012Z"
   },
   {
    "duration": -513,
    "start_time": "2021-12-16T15:56:11.028Z"
   },
   {
    "duration": -525,
    "start_time": "2021-12-16T15:56:11.041Z"
   },
   {
    "duration": -543,
    "start_time": "2021-12-16T15:56:11.060Z"
   },
   {
    "duration": -546,
    "start_time": "2021-12-16T15:56:11.065Z"
   },
   {
    "duration": 1888,
    "start_time": "2021-12-16T15:57:02.618Z"
   },
   {
    "duration": 56,
    "start_time": "2021-12-16T15:59:04.638Z"
   },
   {
    "duration": 8,
    "start_time": "2021-12-16T15:59:06.380Z"
   },
   {
    "duration": 5,
    "start_time": "2021-12-16T15:59:08.593Z"
   },
   {
    "duration": 4926,
    "start_time": "2021-12-16T15:59:10.070Z"
   },
   {
    "duration": 22,
    "start_time": "2021-12-16T15:59:14.999Z"
   },
   {
    "duration": 9,
    "start_time": "2021-12-16T15:59:28.078Z"
   },
   {
    "duration": 5,
    "start_time": "2021-12-16T16:01:56.571Z"
   },
   {
    "duration": 9,
    "start_time": "2021-12-16T16:02:06.551Z"
   },
   {
    "duration": 6,
    "start_time": "2021-12-16T16:04:38.901Z"
   },
   {
    "duration": 6,
    "start_time": "2021-12-16T16:04:49.221Z"
   },
   {
    "duration": 5,
    "start_time": "2021-12-16T16:05:38.143Z"
   },
   {
    "duration": 5,
    "start_time": "2021-12-16T16:06:42.294Z"
   },
   {
    "duration": 340,
    "start_time": "2021-12-17T06:37:00.832Z"
   },
   {
    "duration": 860,
    "start_time": "2021-12-17T06:37:24.534Z"
   },
   {
    "duration": 32,
    "start_time": "2021-12-17T06:37:25.396Z"
   },
   {
    "duration": 32,
    "start_time": "2021-12-17T06:37:25.431Z"
   },
   {
    "duration": 31,
    "start_time": "2021-12-17T06:37:25.467Z"
   },
   {
    "duration": 36,
    "start_time": "2021-12-17T06:37:25.500Z"
   },
   {
    "duration": 24,
    "start_time": "2021-12-17T06:37:25.539Z"
   },
   {
    "duration": 29,
    "start_time": "2021-12-17T06:37:25.566Z"
   },
   {
    "duration": 43,
    "start_time": "2021-12-17T06:37:25.598Z"
   },
   {
    "duration": 34,
    "start_time": "2021-12-17T06:37:25.646Z"
   },
   {
    "duration": 30,
    "start_time": "2021-12-17T06:37:25.683Z"
   },
   {
    "duration": 51,
    "start_time": "2021-12-17T06:37:25.716Z"
   },
   {
    "duration": 42,
    "start_time": "2021-12-17T06:37:25.769Z"
   },
   {
    "duration": 17,
    "start_time": "2021-12-17T06:37:25.814Z"
   },
   {
    "duration": 26,
    "start_time": "2021-12-17T06:37:25.833Z"
   },
   {
    "duration": 36,
    "start_time": "2021-12-17T06:37:25.861Z"
   },
   {
    "duration": 328,
    "start_time": "2021-12-17T06:37:25.900Z"
   },
   {
    "duration": 24,
    "start_time": "2021-12-17T06:37:26.231Z"
   },
   {
    "duration": 48,
    "start_time": "2021-12-17T06:37:26.268Z"
   },
   {
    "duration": 10,
    "start_time": "2021-12-17T06:37:26.319Z"
   },
   {
    "duration": 50,
    "start_time": "2021-12-17T06:37:26.332Z"
   },
   {
    "duration": 27,
    "start_time": "2021-12-17T06:37:26.384Z"
   },
   {
    "duration": 50,
    "start_time": "2021-12-17T06:37:26.413Z"
   },
   {
    "duration": 34,
    "start_time": "2021-12-17T06:37:26.465Z"
   },
   {
    "duration": 23,
    "start_time": "2021-12-17T06:37:26.501Z"
   },
   {
    "duration": 26,
    "start_time": "2021-12-17T06:37:26.526Z"
   },
   {
    "duration": 33,
    "start_time": "2021-12-17T06:37:26.554Z"
   },
   {
    "duration": 44,
    "start_time": "2021-12-17T06:37:26.592Z"
   },
   {
    "duration": 17,
    "start_time": "2021-12-17T06:37:26.639Z"
   },
   {
    "duration": 10,
    "start_time": "2021-12-17T06:37:26.659Z"
   },
   {
    "duration": 60,
    "start_time": "2021-12-17T06:37:26.672Z"
   },
   {
    "duration": 13,
    "start_time": "2021-12-17T06:37:26.734Z"
   },
   {
    "duration": 25,
    "start_time": "2021-12-17T06:37:26.750Z"
   },
   {
    "duration": 32,
    "start_time": "2021-12-17T06:37:26.778Z"
   },
   {
    "duration": 23,
    "start_time": "2021-12-17T06:37:26.813Z"
   },
   {
    "duration": 19,
    "start_time": "2021-12-17T06:37:26.839Z"
   },
   {
    "duration": 22,
    "start_time": "2021-12-17T06:37:26.861Z"
   },
   {
    "duration": 24,
    "start_time": "2021-12-17T06:37:26.885Z"
   },
   {
    "duration": 22,
    "start_time": "2021-12-17T06:37:26.911Z"
   },
   {
    "duration": 36,
    "start_time": "2021-12-17T06:37:26.936Z"
   },
   {
    "duration": 17,
    "start_time": "2021-12-17T06:37:26.974Z"
   },
   {
    "duration": 4682,
    "start_time": "2021-12-17T06:37:26.994Z"
   },
   {
    "duration": 24,
    "start_time": "2021-12-17T06:37:31.678Z"
   },
   {
    "duration": 32,
    "start_time": "2021-12-17T06:37:31.705Z"
   },
   {
    "duration": 14,
    "start_time": "2021-12-17T06:37:31.739Z"
   },
   {
    "duration": 14,
    "start_time": "2021-12-17T06:37:31.768Z"
   },
   {
    "duration": 13,
    "start_time": "2021-12-17T06:37:31.785Z"
   },
   {
    "duration": 18,
    "start_time": "2021-12-17T06:37:31.801Z"
   },
   {
    "duration": 13,
    "start_time": "2021-12-17T06:37:31.821Z"
   },
   {
    "duration": 43,
    "start_time": "2021-12-17T06:37:31.836Z"
   },
   {
    "duration": 18,
    "start_time": "2021-12-17T06:37:31.882Z"
   },
   {
    "duration": 17,
    "start_time": "2021-12-17T06:37:31.902Z"
   },
   {
    "duration": 15,
    "start_time": "2021-12-17T06:37:31.921Z"
   },
   {
    "duration": 8,
    "start_time": "2021-12-17T06:37:31.939Z"
   },
   {
    "duration": 13,
    "start_time": "2021-12-17T06:38:03.807Z"
   },
   {
    "duration": 93,
    "start_time": "2021-12-17T07:25:17.264Z"
   },
   {
    "duration": 92,
    "start_time": "2021-12-17T07:25:53.476Z"
   },
   {
    "duration": 100,
    "start_time": "2021-12-17T07:26:04.297Z"
   },
   {
    "duration": 92,
    "start_time": "2021-12-17T07:26:14.737Z"
   },
   {
    "duration": 412,
    "start_time": "2021-12-17T07:26:36.698Z"
   },
   {
    "duration": 267,
    "start_time": "2021-12-17T07:26:58.908Z"
   },
   {
    "duration": 269,
    "start_time": "2021-12-17T07:29:52.734Z"
   },
   {
    "duration": 281,
    "start_time": "2021-12-17T07:30:01.601Z"
   },
   {
    "duration": 841,
    "start_time": "2021-12-17T07:30:15.622Z"
   },
   {
    "duration": 34,
    "start_time": "2021-12-17T07:30:16.466Z"
   },
   {
    "duration": 21,
    "start_time": "2021-12-17T07:30:16.503Z"
   },
   {
    "duration": 13,
    "start_time": "2021-12-17T07:30:16.527Z"
   },
   {
    "duration": 14,
    "start_time": "2021-12-17T07:30:16.568Z"
   },
   {
    "duration": 6,
    "start_time": "2021-12-17T07:30:16.587Z"
   },
   {
    "duration": 9,
    "start_time": "2021-12-17T07:30:16.596Z"
   },
   {
    "duration": 7,
    "start_time": "2021-12-17T07:30:16.608Z"
   },
   {
    "duration": 49,
    "start_time": "2021-12-17T07:30:16.618Z"
   },
   {
    "duration": 7,
    "start_time": "2021-12-17T07:30:16.670Z"
   },
   {
    "duration": 23,
    "start_time": "2021-12-17T07:30:16.679Z"
   },
   {
    "duration": 7,
    "start_time": "2021-12-17T07:30:16.705Z"
   },
   {
    "duration": 5,
    "start_time": "2021-12-17T07:30:16.714Z"
   },
   {
    "duration": 6,
    "start_time": "2021-12-17T07:30:16.721Z"
   },
   {
    "duration": 21,
    "start_time": "2021-12-17T07:30:16.768Z"
   },
   {
    "duration": 348,
    "start_time": "2021-12-17T07:30:16.793Z"
   },
   {
    "duration": 29,
    "start_time": "2021-12-17T07:30:17.144Z"
   },
   {
    "duration": 39,
    "start_time": "2021-12-17T07:30:17.179Z"
   },
   {
    "duration": 8,
    "start_time": "2021-12-17T07:30:17.222Z"
   },
   {
    "duration": 57,
    "start_time": "2021-12-17T07:30:17.233Z"
   },
   {
    "duration": 8,
    "start_time": "2021-12-17T07:30:17.293Z"
   },
   {
    "duration": 25,
    "start_time": "2021-12-17T07:30:17.304Z"
   },
   {
    "duration": 47,
    "start_time": "2021-12-17T07:30:17.332Z"
   },
   {
    "duration": 18,
    "start_time": "2021-12-17T07:30:17.382Z"
   },
   {
    "duration": 33,
    "start_time": "2021-12-17T07:30:17.402Z"
   },
   {
    "duration": 43,
    "start_time": "2021-12-17T07:30:17.437Z"
   },
   {
    "duration": 31,
    "start_time": "2021-12-17T07:30:17.483Z"
   },
   {
    "duration": 17,
    "start_time": "2021-12-17T07:30:17.517Z"
   },
   {
    "duration": 33,
    "start_time": "2021-12-17T07:30:17.536Z"
   },
   {
    "duration": 41,
    "start_time": "2021-12-17T07:30:17.572Z"
   },
   {
    "duration": 7,
    "start_time": "2021-12-17T07:30:17.615Z"
   },
   {
    "duration": 13,
    "start_time": "2021-12-17T07:30:17.624Z"
   },
   {
    "duration": 35,
    "start_time": "2021-12-17T07:30:17.640Z"
   },
   {
    "duration": 12,
    "start_time": "2021-12-17T07:30:17.677Z"
   },
   {
    "duration": 10,
    "start_time": "2021-12-17T07:30:17.691Z"
   },
   {
    "duration": 12,
    "start_time": "2021-12-17T07:30:17.703Z"
   },
   {
    "duration": 60,
    "start_time": "2021-12-17T07:30:17.717Z"
   },
   {
    "duration": 15,
    "start_time": "2021-12-17T07:30:17.779Z"
   },
   {
    "duration": 9,
    "start_time": "2021-12-17T07:30:17.797Z"
   },
   {
    "duration": 6,
    "start_time": "2021-12-17T07:30:17.808Z"
   },
   {
    "duration": 4885,
    "start_time": "2021-12-17T07:30:17.816Z"
   },
   {
    "duration": 24,
    "start_time": "2021-12-17T07:30:22.704Z"
   },
   {
    "duration": 45,
    "start_time": "2021-12-17T07:30:22.732Z"
   },
   {
    "duration": 18,
    "start_time": "2021-12-17T07:30:22.779Z"
   },
   {
    "duration": 36,
    "start_time": "2021-12-17T07:30:22.800Z"
   },
   {
    "duration": 20,
    "start_time": "2021-12-17T07:30:22.839Z"
   },
   {
    "duration": 36,
    "start_time": "2021-12-17T07:30:22.862Z"
   },
   {
    "duration": 38,
    "start_time": "2021-12-17T07:30:22.900Z"
   },
   {
    "duration": 32,
    "start_time": "2021-12-17T07:30:22.940Z"
   },
   {
    "duration": 53,
    "start_time": "2021-12-17T07:30:22.974Z"
   },
   {
    "duration": 30,
    "start_time": "2021-12-17T07:30:23.029Z"
   },
   {
    "duration": 31,
    "start_time": "2021-12-17T07:30:23.061Z"
   },
   {
    "duration": 30,
    "start_time": "2021-12-17T07:30:23.095Z"
   },
   {
    "duration": 41,
    "start_time": "2021-12-17T07:30:23.133Z"
   },
   {
    "duration": 372,
    "start_time": "2021-12-17T07:30:23.177Z"
   },
   {
    "duration": 309,
    "start_time": "2021-12-17T08:20:43.669Z"
   },
   {
    "duration": 288,
    "start_time": "2021-12-17T08:23:41.206Z"
   },
   {
    "duration": 306,
    "start_time": "2021-12-17T08:26:02.919Z"
   },
   {
    "duration": 1130,
    "start_time": "2021-12-17T08:27:52.597Z"
   },
   {
    "duration": 1149,
    "start_time": "2021-12-17T08:33:23.881Z"
   },
   {
    "duration": 8,
    "start_time": "2021-12-17T08:34:00.580Z"
   },
   {
    "duration": 7,
    "start_time": "2021-12-17T08:34:09.943Z"
   },
   {
    "duration": 1108,
    "start_time": "2021-12-17T08:34:18.158Z"
   },
   {
    "duration": 286,
    "start_time": "2021-12-17T08:34:55.758Z"
   },
   {
    "duration": 379,
    "start_time": "2021-12-17T08:48:14.138Z"
   },
   {
    "duration": 9,
    "start_time": "2021-12-17T08:48:18.195Z"
   },
   {
    "duration": 321,
    "start_time": "2021-12-17T08:48:21.318Z"
   },
   {
    "duration": 688,
    "start_time": "2021-12-17T09:30:56.913Z"
   },
   {
    "duration": 292,
    "start_time": "2021-12-17T09:34:33.900Z"
   },
   {
    "duration": 329,
    "start_time": "2021-12-17T09:40:12.744Z"
   },
   {
    "duration": 291,
    "start_time": "2021-12-17T09:40:20.275Z"
   },
   {
    "duration": 811,
    "start_time": "2021-12-17T09:40:46.286Z"
   },
   {
    "duration": 33,
    "start_time": "2021-12-17T09:40:47.100Z"
   },
   {
    "duration": 66,
    "start_time": "2021-12-17T09:40:47.136Z"
   },
   {
    "duration": 54,
    "start_time": "2021-12-17T09:40:47.205Z"
   },
   {
    "duration": 60,
    "start_time": "2021-12-17T09:40:47.262Z"
   },
   {
    "duration": 55,
    "start_time": "2021-12-17T09:40:47.325Z"
   },
   {
    "duration": 40,
    "start_time": "2021-12-17T09:40:47.383Z"
   },
   {
    "duration": 33,
    "start_time": "2021-12-17T09:40:47.427Z"
   },
   {
    "duration": 24,
    "start_time": "2021-12-17T09:40:47.464Z"
   },
   {
    "duration": 75,
    "start_time": "2021-12-17T09:40:47.491Z"
   },
   {
    "duration": 26,
    "start_time": "2021-12-17T09:40:47.569Z"
   },
   {
    "duration": 33,
    "start_time": "2021-12-17T09:40:47.598Z"
   },
   {
    "duration": 33,
    "start_time": "2021-12-17T09:40:47.633Z"
   },
   {
    "duration": 54,
    "start_time": "2021-12-17T09:40:47.668Z"
   },
   {
    "duration": 32,
    "start_time": "2021-12-17T09:40:47.724Z"
   },
   {
    "duration": 369,
    "start_time": "2021-12-17T09:40:47.758Z"
   },
   {
    "duration": 24,
    "start_time": "2021-12-17T09:40:48.129Z"
   },
   {
    "duration": 52,
    "start_time": "2021-12-17T09:40:48.155Z"
   },
   {
    "duration": 10,
    "start_time": "2021-12-17T09:40:48.209Z"
   },
   {
    "duration": 52,
    "start_time": "2021-12-17T09:40:48.221Z"
   },
   {
    "duration": 35,
    "start_time": "2021-12-17T09:40:48.275Z"
   },
   {
    "duration": 46,
    "start_time": "2021-12-17T09:40:48.313Z"
   },
   {
    "duration": 29,
    "start_time": "2021-12-17T09:40:48.362Z"
   },
   {
    "duration": 38,
    "start_time": "2021-12-17T09:40:48.394Z"
   },
   {
    "duration": 31,
    "start_time": "2021-12-17T09:40:48.434Z"
   },
   {
    "duration": 44,
    "start_time": "2021-12-17T09:40:48.472Z"
   },
   {
    "duration": 54,
    "start_time": "2021-12-17T09:40:48.519Z"
   },
   {
    "duration": 19,
    "start_time": "2021-12-17T09:40:48.575Z"
   },
   {
    "duration": 9,
    "start_time": "2021-12-17T09:40:48.596Z"
   },
   {
    "duration": 61,
    "start_time": "2021-12-17T09:40:48.607Z"
   },
   {
    "duration": 6,
    "start_time": "2021-12-17T09:40:48.670Z"
   },
   {
    "duration": 40,
    "start_time": "2021-12-17T09:40:48.679Z"
   },
   {
    "duration": 30,
    "start_time": "2021-12-17T09:40:48.722Z"
   },
   {
    "duration": 37,
    "start_time": "2021-12-17T09:40:48.754Z"
   },
   {
    "duration": 18,
    "start_time": "2021-12-17T09:40:48.794Z"
   },
   {
    "duration": 16,
    "start_time": "2021-12-17T09:40:48.815Z"
   },
   {
    "duration": 34,
    "start_time": "2021-12-17T09:40:48.833Z"
   },
   {
    "duration": 37,
    "start_time": "2021-12-17T09:40:48.870Z"
   },
   {
    "duration": 29,
    "start_time": "2021-12-17T09:40:48.909Z"
   },
   {
    "duration": 23,
    "start_time": "2021-12-17T09:40:48.941Z"
   },
   {
    "duration": 4744,
    "start_time": "2021-12-17T09:40:48.967Z"
   },
   {
    "duration": 23,
    "start_time": "2021-12-17T09:40:53.713Z"
   },
   {
    "duration": 39,
    "start_time": "2021-12-17T09:40:53.739Z"
   },
   {
    "duration": 12,
    "start_time": "2021-12-17T09:40:53.781Z"
   },
   {
    "duration": 19,
    "start_time": "2021-12-17T09:40:53.796Z"
   },
   {
    "duration": 12,
    "start_time": "2021-12-17T09:40:53.817Z"
   },
   {
    "duration": 12,
    "start_time": "2021-12-17T09:40:53.868Z"
   },
   {
    "duration": 10,
    "start_time": "2021-12-17T09:40:53.883Z"
   },
   {
    "duration": 10,
    "start_time": "2021-12-17T09:40:53.896Z"
   },
   {
    "duration": 6,
    "start_time": "2021-12-17T09:40:53.908Z"
   },
   {
    "duration": 8,
    "start_time": "2021-12-17T09:40:53.917Z"
   },
   {
    "duration": 41,
    "start_time": "2021-12-17T09:40:53.928Z"
   },
   {
    "duration": 10,
    "start_time": "2021-12-17T09:40:53.972Z"
   },
   {
    "duration": 20,
    "start_time": "2021-12-17T09:40:53.985Z"
   },
   {
    "duration": 405,
    "start_time": "2021-12-17T09:40:54.008Z"
   },
   {
    "duration": 23,
    "start_time": "2021-12-17T10:30:03.913Z"
   },
   {
    "duration": 8,
    "start_time": "2021-12-17T10:30:47.176Z"
   },
   {
    "duration": 25,
    "start_time": "2021-12-17T10:32:00.470Z"
   },
   {
    "duration": 330,
    "start_time": "2021-12-17T10:33:34.831Z"
   },
   {
    "duration": 8823,
    "start_time": "2021-12-17T10:36:30.339Z"
   },
   {
    "duration": -711,
    "start_time": "2021-12-17T10:36:39.876Z"
   },
   {
    "duration": 39,
    "start_time": "2021-12-17T10:38:47.733Z"
   },
   {
    "duration": 41,
    "start_time": "2021-12-17T10:39:30.056Z"
   },
   {
    "duration": 5,
    "start_time": "2021-12-17T10:40:27.130Z"
   },
   {
    "duration": 4216,
    "start_time": "2021-12-17T10:40:41.316Z"
   },
   {
    "duration": 12,
    "start_time": "2021-12-17T10:42:34.395Z"
   },
   {
    "duration": 11,
    "start_time": "2021-12-17T10:42:41.755Z"
   },
   {
    "duration": 6,
    "start_time": "2021-12-17T10:42:44.063Z"
   },
   {
    "duration": 8,
    "start_time": "2021-12-17T10:42:46.766Z"
   },
   {
    "duration": 5,
    "start_time": "2021-12-17T10:42:49.052Z"
   },
   {
    "duration": 5,
    "start_time": "2021-12-17T10:42:49.992Z"
   },
   {
    "duration": 22,
    "start_time": "2021-12-17T10:43:27.661Z"
   },
   {
    "duration": 8,
    "start_time": "2021-12-17T10:45:07.420Z"
   },
   {
    "duration": 27,
    "start_time": "2021-12-17T10:46:00.979Z"
   },
   {
    "duration": 21,
    "start_time": "2021-12-17T10:46:38.824Z"
   },
   {
    "duration": 981,
    "start_time": "2021-12-17T10:50:38.405Z"
   },
   {
    "duration": 22,
    "start_time": "2021-12-17T10:51:34.016Z"
   },
   {
    "duration": 313,
    "start_time": "2021-12-17T10:54:20.556Z"
   },
   {
    "duration": 380,
    "start_time": "2021-12-17T10:56:17.369Z"
   },
   {
    "duration": 386,
    "start_time": "2021-12-17T10:56:41.149Z"
   },
   {
    "duration": 815,
    "start_time": "2021-12-17T11:05:09.178Z"
   },
   {
    "duration": 30,
    "start_time": "2021-12-17T11:05:09.996Z"
   },
   {
    "duration": 29,
    "start_time": "2021-12-17T11:05:10.029Z"
   },
   {
    "duration": 28,
    "start_time": "2021-12-17T11:05:10.069Z"
   },
   {
    "duration": 36,
    "start_time": "2021-12-17T11:05:10.100Z"
   },
   {
    "duration": 35,
    "start_time": "2021-12-17T11:05:10.138Z"
   },
   {
    "duration": 10,
    "start_time": "2021-12-17T11:05:10.176Z"
   },
   {
    "duration": 7,
    "start_time": "2021-12-17T11:05:10.191Z"
   },
   {
    "duration": 8,
    "start_time": "2021-12-17T11:05:10.201Z"
   },
   {
    "duration": 7,
    "start_time": "2021-12-17T11:05:10.212Z"
   },
   {
    "duration": 56,
    "start_time": "2021-12-17T11:05:10.221Z"
   },
   {
    "duration": 13,
    "start_time": "2021-12-17T11:05:10.279Z"
   },
   {
    "duration": 16,
    "start_time": "2021-12-17T11:05:10.294Z"
   },
   {
    "duration": 7,
    "start_time": "2021-12-17T11:05:10.312Z"
   },
   {
    "duration": 39,
    "start_time": "2021-12-17T11:05:10.321Z"
   },
   {
    "duration": 324,
    "start_time": "2021-12-17T11:05:10.363Z"
   },
   {
    "duration": 23,
    "start_time": "2021-12-17T11:05:10.690Z"
   },
   {
    "duration": 59,
    "start_time": "2021-12-17T11:05:10.716Z"
   },
   {
    "duration": 37,
    "start_time": "2021-12-17T11:05:10.778Z"
   },
   {
    "duration": 30,
    "start_time": "2021-12-17T11:05:10.818Z"
   },
   {
    "duration": 12,
    "start_time": "2021-12-17T11:05:10.851Z"
   },
   {
    "duration": 39,
    "start_time": "2021-12-17T11:05:10.865Z"
   },
   {
    "duration": 20,
    "start_time": "2021-12-17T11:05:10.907Z"
   },
   {
    "duration": 15,
    "start_time": "2021-12-17T11:05:10.929Z"
   },
   {
    "duration": 32,
    "start_time": "2021-12-17T11:05:10.947Z"
   },
   {
    "duration": 22,
    "start_time": "2021-12-17T11:05:10.988Z"
   },
   {
    "duration": 74,
    "start_time": "2021-12-17T11:05:11.014Z"
   },
   {
    "duration": 19,
    "start_time": "2021-12-17T11:05:11.091Z"
   },
   {
    "duration": 5,
    "start_time": "2021-12-17T11:05:11.113Z"
   },
   {
    "duration": 69,
    "start_time": "2021-12-17T11:05:11.121Z"
   },
   {
    "duration": 9,
    "start_time": "2021-12-17T11:05:11.192Z"
   },
   {
    "duration": 11,
    "start_time": "2021-12-17T11:05:11.203Z"
   },
   {
    "duration": 8,
    "start_time": "2021-12-17T11:05:11.217Z"
   },
   {
    "duration": 45,
    "start_time": "2021-12-17T11:05:11.228Z"
   },
   {
    "duration": 10,
    "start_time": "2021-12-17T11:05:11.275Z"
   },
   {
    "duration": 11,
    "start_time": "2021-12-17T11:05:11.287Z"
   },
   {
    "duration": 344,
    "start_time": "2021-12-17T11:05:11.300Z"
   },
   {
    "duration": -719,
    "start_time": "2021-12-17T11:05:12.366Z"
   },
   {
    "duration": -726,
    "start_time": "2021-12-17T11:05:12.374Z"
   },
   {
    "duration": -738,
    "start_time": "2021-12-17T11:05:12.387Z"
   },
   {
    "duration": -743,
    "start_time": "2021-12-17T11:05:12.394Z"
   },
   {
    "duration": -758,
    "start_time": "2021-12-17T11:05:12.410Z"
   },
   {
    "duration": -771,
    "start_time": "2021-12-17T11:05:12.424Z"
   },
   {
    "duration": -787,
    "start_time": "2021-12-17T11:05:12.442Z"
   },
   {
    "duration": -800,
    "start_time": "2021-12-17T11:05:12.456Z"
   },
   {
    "duration": -819,
    "start_time": "2021-12-17T11:05:12.477Z"
   },
   {
    "duration": -833,
    "start_time": "2021-12-17T11:05:12.492Z"
   },
   {
    "duration": -848,
    "start_time": "2021-12-17T11:05:12.509Z"
   },
   {
    "duration": -863,
    "start_time": "2021-12-17T11:05:12.526Z"
   },
   {
    "duration": -878,
    "start_time": "2021-12-17T11:05:12.542Z"
   },
   {
    "duration": -881,
    "start_time": "2021-12-17T11:05:12.547Z"
   },
   {
    "duration": -885,
    "start_time": "2021-12-17T11:05:12.552Z"
   },
   {
    "duration": -887,
    "start_time": "2021-12-17T11:05:12.556Z"
   },
   {
    "duration": 849,
    "start_time": "2021-12-17T11:06:38.227Z"
   },
   {
    "duration": 39,
    "start_time": "2021-12-17T11:06:39.079Z"
   },
   {
    "duration": 15,
    "start_time": "2021-12-17T11:06:39.121Z"
   },
   {
    "duration": 13,
    "start_time": "2021-12-17T11:06:39.139Z"
   },
   {
    "duration": 24,
    "start_time": "2021-12-17T11:06:39.154Z"
   },
   {
    "duration": 23,
    "start_time": "2021-12-17T11:06:39.180Z"
   },
   {
    "duration": 6,
    "start_time": "2021-12-17T11:06:39.206Z"
   },
   {
    "duration": 9,
    "start_time": "2021-12-17T11:06:39.214Z"
   },
   {
    "duration": 5,
    "start_time": "2021-12-17T11:06:39.227Z"
   },
   {
    "duration": 9,
    "start_time": "2021-12-17T11:06:39.235Z"
   },
   {
    "duration": 26,
    "start_time": "2021-12-17T11:06:39.246Z"
   },
   {
    "duration": 17,
    "start_time": "2021-12-17T11:06:39.275Z"
   },
   {
    "duration": 8,
    "start_time": "2021-12-17T11:06:39.294Z"
   },
   {
    "duration": 9,
    "start_time": "2021-12-17T11:06:39.304Z"
   },
   {
    "duration": 29,
    "start_time": "2021-12-17T11:06:39.315Z"
   },
   {
    "duration": 340,
    "start_time": "2021-12-17T11:06:39.347Z"
   },
   {
    "duration": 23,
    "start_time": "2021-12-17T11:06:39.690Z"
   },
   {
    "duration": 40,
    "start_time": "2021-12-17T11:06:39.716Z"
   },
   {
    "duration": 6,
    "start_time": "2021-12-17T11:06:39.768Z"
   },
   {
    "duration": 38,
    "start_time": "2021-12-17T11:06:39.776Z"
   },
   {
    "duration": 9,
    "start_time": "2021-12-17T11:06:39.816Z"
   },
   {
    "duration": 36,
    "start_time": "2021-12-17T11:06:39.827Z"
   },
   {
    "duration": 20,
    "start_time": "2021-12-17T11:06:39.865Z"
   },
   {
    "duration": 13,
    "start_time": "2021-12-17T11:06:39.887Z"
   },
   {
    "duration": 23,
    "start_time": "2021-12-17T11:06:39.903Z"
   },
   {
    "duration": 36,
    "start_time": "2021-12-17T11:06:39.929Z"
   },
   {
    "duration": 44,
    "start_time": "2021-12-17T11:06:39.972Z"
   },
   {
    "duration": 18,
    "start_time": "2021-12-17T11:06:40.019Z"
   },
   {
    "duration": 5,
    "start_time": "2021-12-17T11:06:40.039Z"
   },
   {
    "duration": 50,
    "start_time": "2021-12-17T11:06:40.046Z"
   },
   {
    "duration": 8,
    "start_time": "2021-12-17T11:06:40.099Z"
   },
   {
    "duration": 36,
    "start_time": "2021-12-17T11:06:40.109Z"
   },
   {
    "duration": 10,
    "start_time": "2021-12-17T11:06:40.147Z"
   },
   {
    "duration": 17,
    "start_time": "2021-12-17T11:06:40.159Z"
   },
   {
    "duration": 10,
    "start_time": "2021-12-17T11:06:40.179Z"
   },
   {
    "duration": 13,
    "start_time": "2021-12-17T11:06:40.191Z"
   },
   {
    "duration": 11,
    "start_time": "2021-12-17T11:06:40.207Z"
   },
   {
    "duration": 1308,
    "start_time": "2021-12-17T11:06:40.268Z"
   },
   {
    "duration": 5,
    "start_time": "2021-12-17T11:06:41.579Z"
   },
   {
    "duration": 3786,
    "start_time": "2021-12-17T11:06:41.587Z"
   },
   {
    "duration": 9,
    "start_time": "2021-12-17T11:06:45.376Z"
   },
   {
    "duration": 46,
    "start_time": "2021-12-17T11:06:45.388Z"
   },
   {
    "duration": 37,
    "start_time": "2021-12-17T11:06:45.437Z"
   },
   {
    "duration": 32,
    "start_time": "2021-12-17T11:06:45.476Z"
   },
   {
    "duration": 34,
    "start_time": "2021-12-17T11:06:45.511Z"
   },
   {
    "duration": 52,
    "start_time": "2021-12-17T11:06:45.548Z"
   },
   {
    "duration": 53,
    "start_time": "2021-12-17T11:06:45.603Z"
   },
   {
    "duration": 46,
    "start_time": "2021-12-17T11:06:45.659Z"
   },
   {
    "duration": 50,
    "start_time": "2021-12-17T11:06:45.708Z"
   },
   {
    "duration": 27,
    "start_time": "2021-12-17T11:06:45.761Z"
   },
   {
    "duration": 63,
    "start_time": "2021-12-17T11:06:45.791Z"
   },
   {
    "duration": 38,
    "start_time": "2021-12-17T11:06:45.856Z"
   },
   {
    "duration": 57,
    "start_time": "2021-12-17T11:06:45.896Z"
   },
   {
    "duration": 43,
    "start_time": "2021-12-17T11:06:45.955Z"
   },
   {
    "duration": 25,
    "start_time": "2021-12-17T11:16:41.936Z"
   },
   {
    "duration": 22,
    "start_time": "2021-12-17T11:22:20.333Z"
   },
   {
    "duration": 90,
    "start_time": "2021-12-18T08:48:49.554Z"
   },
   {
    "duration": 84,
    "start_time": "2021-12-18T08:49:17.883Z"
   },
   {
    "duration": 604,
    "start_time": "2021-12-18T08:49:24.301Z"
   },
   {
    "duration": 306,
    "start_time": "2021-12-18T08:51:35.698Z"
   },
   {
    "duration": 356,
    "start_time": "2021-12-18T08:51:51.241Z"
   },
   {
    "duration": 27,
    "start_time": "2021-12-18T08:51:52.932Z"
   },
   {
    "duration": 15,
    "start_time": "2021-12-18T08:51:58.706Z"
   },
   {
    "duration": 5,
    "start_time": "2021-12-18T08:52:12.856Z"
   },
   {
    "duration": 315,
    "start_time": "2021-12-18T08:52:14.078Z"
   },
   {
    "duration": 295,
    "start_time": "2021-12-18T09:11:06.879Z"
   },
   {
    "duration": 4,
    "start_time": "2021-12-18T09:41:55.686Z"
   },
   {
    "duration": 217,
    "start_time": "2021-12-18T09:42:44.871Z"
   },
   {
    "duration": 223,
    "start_time": "2021-12-18T09:47:26.930Z"
   },
   {
    "duration": 326,
    "start_time": "2021-12-18T09:48:09.254Z"
   },
   {
    "duration": 278,
    "start_time": "2021-12-18T09:49:23.740Z"
   },
   {
    "duration": 5,
    "start_time": "2021-12-18T09:49:55.786Z"
   },
   {
    "duration": 195,
    "start_time": "2021-12-18T09:49:56.834Z"
   },
   {
    "duration": 288,
    "start_time": "2021-12-18T09:49:59.455Z"
   },
   {
    "duration": 215,
    "start_time": "2021-12-18T09:50:02.038Z"
   },
   {
    "duration": 296,
    "start_time": "2021-12-18T09:50:04.421Z"
   },
   {
    "duration": 10,
    "start_time": "2021-12-18T09:54:12.647Z"
   },
   {
    "duration": 9,
    "start_time": "2021-12-18T09:54:42.785Z"
   },
   {
    "duration": 11,
    "start_time": "2021-12-18T09:54:49.610Z"
   },
   {
    "duration": 295,
    "start_time": "2021-12-18T10:05:20.685Z"
   },
   {
    "duration": 281,
    "start_time": "2021-12-18T10:08:20.536Z"
   },
   {
    "duration": 3,
    "start_time": "2021-12-18T10:15:28.275Z"
   },
   {
    "duration": 910,
    "start_time": "2021-12-18T10:23:46.189Z"
   },
   {
    "duration": 1684,
    "start_time": "2021-12-18T10:24:10.519Z"
   },
   {
    "duration": 250,
    "start_time": "2021-12-18T10:29:13.676Z"
   },
   {
    "duration": 313,
    "start_time": "2021-12-18T10:29:56.026Z"
   },
   {
    "duration": 11,
    "start_time": "2021-12-18T10:35:44.426Z"
   },
   {
    "duration": 10,
    "start_time": "2021-12-18T10:36:21.370Z"
   },
   {
    "duration": 13,
    "start_time": "2021-12-18T10:37:46.642Z"
   },
   {
    "duration": 10,
    "start_time": "2021-12-18T10:38:12.535Z"
   },
   {
    "duration": 10,
    "start_time": "2021-12-18T10:38:35.973Z"
   },
   {
    "duration": 9,
    "start_time": "2021-12-18T10:38:36.704Z"
   },
   {
    "duration": 3,
    "start_time": "2021-12-18T10:40:51.206Z"
   },
   {
    "duration": 227,
    "start_time": "2021-12-18T10:41:19.250Z"
   },
   {
    "duration": 338,
    "start_time": "2021-12-18T10:42:22.114Z"
   },
   {
    "duration": 89,
    "start_time": "2021-12-18T10:42:50.201Z"
   },
   {
    "duration": 10,
    "start_time": "2021-12-18T10:45:12.966Z"
   },
   {
    "duration": 11,
    "start_time": "2021-12-18T10:49:53.448Z"
   },
   {
    "duration": 295,
    "start_time": "2021-12-18T10:58:05.579Z"
   },
   {
    "duration": 77,
    "start_time": "2021-12-18T10:58:43.609Z"
   },
   {
    "duration": 10,
    "start_time": "2021-12-18T10:59:06.952Z"
   },
   {
    "duration": 414,
    "start_time": "2021-12-18T10:59:10.118Z"
   },
   {
    "duration": 9,
    "start_time": "2021-12-18T10:59:13.639Z"
   },
   {
    "duration": 12,
    "start_time": "2021-12-18T10:59:17.101Z"
   },
   {
    "duration": 299,
    "start_time": "2021-12-18T10:59:18.648Z"
   },
   {
    "duration": 297,
    "start_time": "2021-12-18T11:00:15.384Z"
   },
   {
    "duration": 292,
    "start_time": "2021-12-18T11:02:10.877Z"
   },
   {
    "duration": 214,
    "start_time": "2021-12-18T11:02:46.967Z"
   },
   {
    "duration": 87,
    "start_time": "2021-12-18T11:04:46.914Z"
   },
   {
    "duration": 14,
    "start_time": "2021-12-18T11:06:34.951Z"
   },
   {
    "duration": 77,
    "start_time": "2021-12-18T11:07:57.814Z"
   },
   {
    "duration": 5,
    "start_time": "2021-12-18T12:13:02.373Z"
   },
   {
    "duration": 222,
    "start_time": "2021-12-18T12:13:19.354Z"
   },
   {
    "duration": 6,
    "start_time": "2021-12-18T12:15:23.701Z"
   },
   {
    "duration": 297,
    "start_time": "2021-12-18T12:15:27.661Z"
   },
   {
    "duration": 77,
    "start_time": "2021-12-18T12:18:50.090Z"
   },
   {
    "duration": 15,
    "start_time": "2021-12-18T12:18:55.624Z"
   },
   {
    "duration": 14,
    "start_time": "2021-12-18T12:20:28.786Z"
   },
   {
    "duration": 23,
    "start_time": "2021-12-18T12:20:36.400Z"
   },
   {
    "duration": 21,
    "start_time": "2021-12-18T12:20:43.900Z"
   },
   {
    "duration": 24,
    "start_time": "2021-12-18T12:21:27.694Z"
   },
   {
    "duration": 13,
    "start_time": "2021-12-18T12:24:08.599Z"
   },
   {
    "duration": 35,
    "start_time": "2021-12-18T12:27:02.272Z"
   },
   {
    "duration": 35,
    "start_time": "2021-12-18T12:27:11.934Z"
   },
   {
    "duration": 5,
    "start_time": "2021-12-18T12:33:03.472Z"
   },
   {
    "duration": 5,
    "start_time": "2021-12-18T12:34:52.353Z"
   },
   {
    "duration": 768,
    "start_time": "2021-12-18T13:04:07.266Z"
   },
   {
    "duration": 31,
    "start_time": "2021-12-18T13:04:08.037Z"
   },
   {
    "duration": 15,
    "start_time": "2021-12-18T13:04:08.071Z"
   },
   {
    "duration": 134,
    "start_time": "2021-12-18T13:04:08.089Z"
   },
   {
    "duration": 211,
    "start_time": "2021-12-18T13:04:08.225Z"
   },
   {
    "duration": 6,
    "start_time": "2021-12-18T13:04:08.439Z"
   },
   {
    "duration": 219,
    "start_time": "2021-12-18T13:04:08.448Z"
   },
   {
    "duration": 299,
    "start_time": "2021-12-18T13:04:08.670Z"
   },
   {
    "duration": 288,
    "start_time": "2021-12-18T13:04:08.972Z"
   },
   {
    "duration": 291,
    "start_time": "2021-12-18T13:04:09.263Z"
   },
   {
    "duration": 15,
    "start_time": "2021-12-18T13:04:09.556Z"
   },
   {
    "duration": 328,
    "start_time": "2021-12-18T13:04:09.573Z"
   },
   {
    "duration": 17,
    "start_time": "2021-12-18T13:04:09.903Z"
   },
   {
    "duration": 9,
    "start_time": "2021-12-18T13:04:09.922Z"
   },
   {
    "duration": 324,
    "start_time": "2021-12-18T13:04:09.933Z"
   },
   {
    "duration": 12,
    "start_time": "2021-12-18T13:04:10.260Z"
   },
   {
    "duration": 12,
    "start_time": "2021-12-18T13:04:10.275Z"
   },
   {
    "duration": 325,
    "start_time": "2021-12-18T13:04:10.317Z"
   },
   {
    "duration": 364,
    "start_time": "2021-12-18T13:04:10.645Z"
   },
   {
    "duration": 261,
    "start_time": "2021-12-18T13:04:11.017Z"
   },
   {
    "duration": 10,
    "start_time": "2021-12-18T13:04:11.281Z"
   },
   {
    "duration": 34,
    "start_time": "2021-12-18T13:04:11.293Z"
   },
   {
    "duration": 15,
    "start_time": "2021-12-18T13:04:11.335Z"
   },
   {
    "duration": 7,
    "start_time": "2021-12-18T13:04:11.355Z"
   },
   {
    "duration": 5,
    "start_time": "2021-12-18T13:04:11.364Z"
   },
   {
    "duration": 48,
    "start_time": "2021-12-18T13:04:11.372Z"
   },
   {
    "duration": 6,
    "start_time": "2021-12-18T13:04:11.423Z"
   },
   {
    "duration": 9,
    "start_time": "2021-12-18T13:04:11.431Z"
   },
   {
    "duration": 27,
    "start_time": "2021-12-18T13:04:11.444Z"
   },
   {
    "duration": 5,
    "start_time": "2021-12-18T13:04:11.517Z"
   },
   {
    "duration": 8,
    "start_time": "2021-12-18T13:04:11.525Z"
   },
   {
    "duration": 7,
    "start_time": "2021-12-18T13:04:11.536Z"
   },
   {
    "duration": 26,
    "start_time": "2021-12-18T13:04:11.546Z"
   },
   {
    "duration": 354,
    "start_time": "2021-12-18T13:04:11.575Z"
   },
   {
    "duration": 25,
    "start_time": "2021-12-18T13:04:11.931Z"
   },
   {
    "duration": 63,
    "start_time": "2021-12-18T13:04:11.959Z"
   },
   {
    "duration": 8,
    "start_time": "2021-12-18T13:04:12.024Z"
   },
   {
    "duration": 24,
    "start_time": "2021-12-18T13:04:12.034Z"
   },
   {
    "duration": 5,
    "start_time": "2021-12-18T13:04:12.061Z"
   },
   {
    "duration": 70,
    "start_time": "2021-12-18T13:04:12.069Z"
   },
   {
    "duration": 27,
    "start_time": "2021-12-18T13:04:12.142Z"
   },
   {
    "duration": 20,
    "start_time": "2021-12-18T13:04:12.171Z"
   },
   {
    "duration": 28,
    "start_time": "2021-12-18T13:04:12.194Z"
   },
   {
    "duration": 20,
    "start_time": "2021-12-18T13:04:12.225Z"
   },
   {
    "duration": 40,
    "start_time": "2021-12-18T13:04:12.247Z"
   },
   {
    "duration": 42,
    "start_time": "2021-12-18T13:04:12.290Z"
   },
   {
    "duration": 7,
    "start_time": "2021-12-18T13:04:12.335Z"
   },
   {
    "duration": 52,
    "start_time": "2021-12-18T13:04:12.344Z"
   },
   {
    "duration": 28,
    "start_time": "2021-12-18T13:04:12.398Z"
   },
   {
    "duration": 30,
    "start_time": "2021-12-18T13:04:12.429Z"
   },
   {
    "duration": 82,
    "start_time": "2021-12-18T13:04:12.463Z"
   },
   {
    "duration": 5,
    "start_time": "2021-12-18T13:04:12.548Z"
   },
   {
    "duration": 6,
    "start_time": "2021-12-18T13:04:12.556Z"
   },
   {
    "duration": 9,
    "start_time": "2021-12-18T13:04:12.565Z"
   },
   {
    "duration": 43,
    "start_time": "2021-12-18T13:04:12.577Z"
   },
   {
    "duration": 11,
    "start_time": "2021-12-18T13:04:12.623Z"
   },
   {
    "duration": 15,
    "start_time": "2021-12-18T13:04:12.637Z"
   },
   {
    "duration": 14,
    "start_time": "2021-12-18T13:04:12.655Z"
   },
   {
    "duration": 55,
    "start_time": "2021-12-18T13:04:12.671Z"
   },
   {
    "duration": 968,
    "start_time": "2021-12-18T13:04:12.729Z"
   },
   {
    "duration": 19,
    "start_time": "2021-12-18T13:04:13.700Z"
   },
   {
    "duration": 3904,
    "start_time": "2021-12-18T13:04:13.723Z"
   },
   {
    "duration": 8,
    "start_time": "2021-12-18T13:04:17.630Z"
   },
   {
    "duration": 12,
    "start_time": "2021-12-18T13:04:17.641Z"
   },
   {
    "duration": 7,
    "start_time": "2021-12-18T13:04:17.655Z"
   },
   {
    "duration": 11,
    "start_time": "2021-12-18T13:04:17.664Z"
   },
   {
    "duration": 5,
    "start_time": "2021-12-18T13:04:17.718Z"
   },
   {
    "duration": 5,
    "start_time": "2021-12-18T13:04:17.732Z"
   },
   {
    "duration": 23,
    "start_time": "2021-12-18T13:04:17.741Z"
   },
   {
    "duration": 51,
    "start_time": "2021-12-18T13:04:17.766Z"
   },
   {
    "duration": 36,
    "start_time": "2021-12-18T13:04:17.820Z"
   },
   {
    "duration": 19,
    "start_time": "2021-12-18T13:04:17.859Z"
   },
   {
    "duration": 91,
    "start_time": "2021-12-18T13:04:17.881Z"
   },
   {
    "duration": 60,
    "start_time": "2021-12-18T13:04:17.974Z"
   },
   {
    "duration": 44,
    "start_time": "2021-12-18T13:04:18.037Z"
   },
   {
    "duration": 60,
    "start_time": "2021-12-18T13:04:18.084Z"
   },
   {
    "duration": 27,
    "start_time": "2021-12-18T13:05:02.976Z"
   },
   {
    "duration": 26,
    "start_time": "2021-12-18T13:05:27.836Z"
   },
   {
    "duration": 74,
    "start_time": "2021-12-18T13:06:01.443Z"
   }
  ],
  "kernelspec": {
   "display_name": "Python 3",
   "language": "python",
   "name": "python3"
  },
  "language_info": {
   "codemirror_mode": {
    "name": "ipython",
    "version": 3
   },
   "file_extension": ".py",
   "mimetype": "text/x-python",
   "name": "python",
   "nbconvert_exporter": "python",
   "pygments_lexer": "ipython3",
   "version": "3.8.5"
  },
  "toc": {
   "base_numbering": 1,
   "nav_menu": {},
   "number_sections": true,
   "sideBar": true,
   "skip_h1_title": true,
   "title_cell": "Table of Contents",
   "title_sidebar": "Contents",
   "toc_cell": false,
   "toc_position": {},
   "toc_section_display": true,
   "toc_window_display": false
  }
 },
 "nbformat": 4,
 "nbformat_minor": 2
}
