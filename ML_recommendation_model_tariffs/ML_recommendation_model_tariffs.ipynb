{
 "cells": [
  {
   "cell_type": "markdown",
   "metadata": {},
   "source": [
    "# Рекомендация тарифов"
   ]
  },
  {
   "cell_type": "markdown",
   "metadata": {},
   "source": [
    "В вашем распоряжении данные о поведении клиентов, которые уже перешли на эти тарифы (из проекта курса «Статистический анализ данных»). Нужно построить модель для задачи классификации, которая выберет подходящий тариф. Предобработка данных не понадобится — вы её уже сделали.\n",
    "\n",
    "Постройте модель с максимально большим значением *accuracy*. Чтобы сдать проект успешно, нужно довести долю правильных ответов по крайней мере до 0.75. Проверьте *accuracy* на тестовой выборке самостоятельно."
   ]
  },
  {
   "cell_type": "markdown",
   "metadata": {},
   "source": [
    "## Откройте и изучите файл"
   ]
  },
  {
   "cell_type": "code",
   "execution_count": 1,
   "metadata": {},
   "outputs": [],
   "source": [
    "# импортирую библиотеку pandas как главного инструмента для анализа структурных данных и временных рядов\n",
    "import pandas as pd\n",
    "# импортирую библиотеку seaborn как главного инструмента для визуализации\n",
    "import seaborn as sns\n",
    "# импортирую библиотеку matplotlib для работы с двумерными графиками\n",
    "import matplotlib.pyplot as plt\n",
    "# выберу стиль для plt инструментов\n",
    "plt.style.use('ggplot')\n",
    "# импортирую библиотеку scipy для выполнения математических, научных и инженерных расчётов\n",
    "from scipy import stats as st\n",
    "# импортирую библиотеку для работы со временем\n",
    "from datetime import datetime\n",
    "# импортирую библиотеку для работы с массивами данных. NumPy - основополагающая библиотека, необходимая для научных вычислений\n",
    "import numpy as np\n",
    "# импортирую библиотеку и инструменты Scikit-learn - интегратора классических алгоритмов машинного обучения\n",
    "# алгоритм классификации дерева решений\n",
    "from sklearn.tree import DecisionTreeClassifier\n",
    "from sklearn.tree import DecisionTreeRegressor\n",
    "# алгоритм классификации случайный лес\n",
    "from sklearn.ensemble import RandomForestClassifier\n",
    "# алгоритм классификации логическая регрессия\n",
    "from sklearn.linear_model import LogisticRegression \n",
    "from sklearn.ensemble import RandomForestRegressor\n",
    "from sklearn.linear_model import LinearRegression\n",
    "from sklearn.model_selection import train_test_split\n",
    "from sklearn.metrics import mean_squared_error\n",
    "from sklearn.metrics import accuracy_score\n"
   ]
  },
  {
   "cell_type": "code",
   "execution_count": 2,
   "metadata": {},
   "outputs": [],
   "source": [
    "# открываем файл\n",
    "df = pd.read_csv('/datasets/users_behavior.csv')"
   ]
  },
  {
   "cell_type": "code",
   "execution_count": 3,
   "metadata": {},
   "outputs": [
    {
     "data": {
      "text/html": [
       "<div>\n",
       "<style scoped>\n",
       "    .dataframe tbody tr th:only-of-type {\n",
       "        vertical-align: middle;\n",
       "    }\n",
       "\n",
       "    .dataframe tbody tr th {\n",
       "        vertical-align: top;\n",
       "    }\n",
       "\n",
       "    .dataframe thead th {\n",
       "        text-align: right;\n",
       "    }\n",
       "</style>\n",
       "<table border=\"1\" class=\"dataframe\">\n",
       "  <thead>\n",
       "    <tr style=\"text-align: right;\">\n",
       "      <th></th>\n",
       "      <th>calls</th>\n",
       "      <th>minutes</th>\n",
       "      <th>messages</th>\n",
       "      <th>mb_used</th>\n",
       "      <th>is_ultra</th>\n",
       "    </tr>\n",
       "  </thead>\n",
       "  <tbody>\n",
       "    <tr>\n",
       "      <td>0</td>\n",
       "      <td>40.0</td>\n",
       "      <td>311.90</td>\n",
       "      <td>83.0</td>\n",
       "      <td>19915.42</td>\n",
       "      <td>0</td>\n",
       "    </tr>\n",
       "    <tr>\n",
       "      <td>1</td>\n",
       "      <td>85.0</td>\n",
       "      <td>516.75</td>\n",
       "      <td>56.0</td>\n",
       "      <td>22696.96</td>\n",
       "      <td>0</td>\n",
       "    </tr>\n",
       "    <tr>\n",
       "      <td>2</td>\n",
       "      <td>77.0</td>\n",
       "      <td>467.66</td>\n",
       "      <td>86.0</td>\n",
       "      <td>21060.45</td>\n",
       "      <td>0</td>\n",
       "    </tr>\n",
       "    <tr>\n",
       "      <td>3</td>\n",
       "      <td>106.0</td>\n",
       "      <td>745.53</td>\n",
       "      <td>81.0</td>\n",
       "      <td>8437.39</td>\n",
       "      <td>1</td>\n",
       "    </tr>\n",
       "    <tr>\n",
       "      <td>4</td>\n",
       "      <td>66.0</td>\n",
       "      <td>418.74</td>\n",
       "      <td>1.0</td>\n",
       "      <td>14502.75</td>\n",
       "      <td>0</td>\n",
       "    </tr>\n",
       "  </tbody>\n",
       "</table>\n",
       "</div>"
      ],
      "text/plain": [
       "   calls  minutes  messages   mb_used  is_ultra\n",
       "0   40.0   311.90      83.0  19915.42         0\n",
       "1   85.0   516.75      56.0  22696.96         0\n",
       "2   77.0   467.66      86.0  21060.45         0\n",
       "3  106.0   745.53      81.0   8437.39         1\n",
       "4   66.0   418.74       1.0  14502.75         0"
      ]
     },
     "execution_count": 3,
     "metadata": {},
     "output_type": "execute_result"
    }
   ],
   "source": [
    "# начинаем изучать файл\n",
    "df.head()"
   ]
  },
  {
   "cell_type": "code",
   "execution_count": 4,
   "metadata": {},
   "outputs": [
    {
     "name": "stdout",
     "output_type": "stream",
     "text": [
      "<class 'pandas.core.frame.DataFrame'>\n",
      "RangeIndex: 3214 entries, 0 to 3213\n",
      "Data columns (total 5 columns):\n",
      "calls       3214 non-null float64\n",
      "minutes     3214 non-null float64\n",
      "messages    3214 non-null float64\n",
      "mb_used     3214 non-null float64\n",
      "is_ultra    3214 non-null int64\n",
      "dtypes: float64(4), int64(1)\n",
      "memory usage: 125.7 KB\n"
     ]
    }
   ],
   "source": [
    "# получим общую информацию о данных в таблице df\n",
    "df.info()"
   ]
  },
  {
   "cell_type": "markdown",
   "metadata": {},
   "source": [
    "**Описание данных:**\n",
    "\n",
    "*Каждый объект в наборе данных — это информация о поведении одного пользователя за месяц. Известно:*\n",
    "- сalls — количество звонков,\n",
    "- minutes — суммарная длительность звонков в минутах,\n",
    "- messages — количество sms-сообщений,\n",
    "- mb_used — израсходованный интернет-трафик в Мб,\n",
    "- is_ultra — каким тарифом пользовался в течение месяца («Ультра» — 1, «Смарт» — 0)."
   ]
  },
  {
   "cell_type": "markdown",
   "metadata": {},
   "source": [
    "**Анализируя полученную информацию устанавливаем следующее описание датафрейма:**\n",
    "\n",
    "*Общая информация по фрейму данных: в нашем распоржении фрейм данных, состоящий из  5 столбцов и 3214 строк. Из 5 столбцов 4 - имеют формат вещественных чисел, 1 столбец - бинарный, имеющий значение 0 или 1. Предобработка данных не требуется, датасет готов к следующему этапу работы*."
   ]
  },
  {
   "cell_type": "markdown",
   "metadata": {},
   "source": [
    "## Разбейте данные на выборки"
   ]
  },
  {
   "cell_type": "code",
   "execution_count": 5,
   "metadata": {},
   "outputs": [
    {
     "data": {
      "text/plain": [
       "0    2229\n",
       "1     985\n",
       "Name: is_ultra, dtype: int64"
      ]
     },
     "execution_count": 5,
     "metadata": {},
     "output_type": "execute_result"
    }
   ],
   "source": [
    "# псмотрим на бинарную разбивку по классам\n",
    "df['is_ultra'].value_counts().head()"
   ]
  },
  {
   "cell_type": "markdown",
   "metadata": {},
   "source": [
    "**Идея, лежащая в основании машинного обучения, заключается в построении модели обучения с учителем (контролируемое) методами классификации. Построение системы, способной проанализировать поведение клиентов и предложить пользователям новый тариф: «Смарт» или «Ультра», предполагает проведение бинарной классификации при наличии 3214 образцов (совокупности признаков), из них Ультра» - 985, «Смарт» - 2229. В рассматриваемом фрейме данных 985 образцов маркированы как класс - Ультра, 2229 образцов имеют маркировку Смарт. В предлагаемом сценарии условия задачи наш фрейм данных является четырехмерным, то есть каждый образец имеет четыре связанных с ним признака (атрибуты, данные измерений, размерности) - x1, x2, x3, x4. Целевой признак в нашей задаче категориальный -  is_ultra.**"
   ]
  },
  {
   "cell_type": "markdown",
   "metadata": {},
   "source": [
    "*Как начающий специалист Data Science выдвигаю свое первое предположение, как устроены взаимосвязи датафрейма.\n",
    "Предполагаю, что если пользователь:*\n",
    "- укладывается в 500 минут разговора - ДА - 50 сообщений - ДА - 15 Гб интернет-трафика - ДА он выберет тариф «Смарт».\n",
    "- укладыевается выше 500 мин и до  3000 минут разговора - ДА - 1000 сообщений - ДА - 30 Гб интернет-трафика - ДА он выберет «Ультра»."
   ]
  },
  {
   "cell_type": "markdown",
   "metadata": {},
   "source": [
    "**Как видим данное предположение хорошо ложится в модель решающего дерева, которое определяет тариф. Чтобы найти то самое дерево, нужно обучить модель: подобрать алгоритм, который больше всего подойдёт нашей обучающей выборке. За это отвечают алгоритмы обучения, а их результат работы называется обученной моделью.**"
   ]
  },
  {
   "cell_type": "code",
   "execution_count": 6,
   "metadata": {},
   "outputs": [],
   "source": [
    "# каждой модели в sklearn соответствует отдельная структура данных\n",
    "#  создаём объект структуры данных DecisionTreeClassifier() \n",
    "#model = DecisionTreeClassifier(random_state=12345)"
   ]
  },
  {
   "cell_type": "code",
   "execution_count": 7,
   "metadata": {},
   "outputs": [],
   "source": [
    "#model.fit(features, target)"
   ]
  },
  {
   "cell_type": "code",
   "execution_count": 8,
   "metadata": {},
   "outputs": [],
   "source": [
    "# возьмем первые 5 строк данных для проведения теста модели\n",
    "#test_df=pd.read_csv('/datasets/users_behavior.csv', nrows=5)"
   ]
  },
  {
   "cell_type": "code",
   "execution_count": 9,
   "metadata": {},
   "outputs": [],
   "source": [
    "#test_features = test_df.drop(['is_ultra'], axis=1)\n",
    "#test_target = test_df['is_ultra']"
   ]
  },
  {
   "cell_type": "code",
   "execution_count": 10,
   "metadata": {},
   "outputs": [],
   "source": [
    "#test_predictions = model.predict(test_features)"
   ]
  },
  {
   "cell_type": "code",
   "execution_count": 11,
   "metadata": {},
   "outputs": [],
   "source": [
    "#print('Предсказания:',test_predictions)\n",
    "#print('Правильные ответы:', test_target.to_numpy())"
   ]
  },
  {
   "cell_type": "code",
   "execution_count": 12,
   "metadata": {},
   "outputs": [],
   "source": [
    "# возьмем первые 5 строк данных для проведения теста модели\n",
    "#test_df_all = pd.read_csv('/datasets/users_behavior.csv', nrows=5)"
   ]
  },
  {
   "cell_type": "code",
   "execution_count": 13,
   "metadata": {},
   "outputs": [],
   "source": [
    "# возьмем весь фрейм данных\n",
    "#test_features_all = test_df_all.drop(['is_ultra'], axis=1)\n",
    "#test_target_all = test_df_all['is_ultra']"
   ]
  },
  {
   "cell_type": "code",
   "execution_count": 14,
   "metadata": {},
   "outputs": [],
   "source": [
    "# построим функцию для выявления ошибок по всему фрейму данных\n",
    "#def error_count(answers, predictions):\n",
    "    #count = 0\n",
    "    #for i in range(len(answers)):\n",
    "       # if answers[i] != predictions[i]:\n",
    "            #count += 1\n",
    "   # return count\n",
    "\n",
    "#print(\"Ошибок:\", error_count(test_target_all, test_predictions))"
   ]
  },
  {
   "cell_type": "code",
   "execution_count": 15,
   "metadata": {},
   "outputs": [],
   "source": [
    "# # построим функцию для выявления качества модели\n",
    "#def accuracy(answers, predictions):\n",
    "    #correct = 0 \n",
    "    #for i in range(len(answers)):\n",
    "        #if answers[i] == predictions[i]:\n",
    "            # correct += 1\n",
    "    #return correct / len(answers)\n",
    "\n",
    "#print(\"Accuracy:\", accuracy(test_target_all, test_predictions))"
   ]
  },
  {
   "cell_type": "markdown",
   "metadata": {},
   "source": [
    "## Исследуйте модели"
   ]
  },
  {
   "cell_type": "markdown",
   "metadata": {},
   "source": [
    "**Начнем с модели решающее дерево**"
   ]
  },
  {
   "cell_type": "code",
   "execution_count": 16,
   "metadata": {},
   "outputs": [],
   "source": [
    "# делим данные на обучающую и валидационную выборки\n",
    "# df_train, df_valid = train_test_split(df, test_size=0.25, random_state=12345)"
   ]
  },
  {
   "cell_type": "code",
   "execution_count": 17,
   "metadata": {},
   "outputs": [],
   "source": [
    "# создаю выборки для обучения модели и ее тестирования \n",
    "df_train, df_test = train_test_split(df, test_size=0.40, random_state=12345)"
   ]
  },
  {
   "cell_type": "code",
   "execution_count": 18,
   "metadata": {},
   "outputs": [],
   "source": [
    "# создаю отдельно выборку для валидации в тестовой выборке мы забираем на валидацию половину 50, получается - 20 как планировали\n",
    "df_test, df_valid = train_test_split(df_test, test_size=0.50, random_state=12345)"
   ]
  },
  {
   "cell_type": "code",
   "execution_count": 19,
   "metadata": {},
   "outputs": [
    {
     "data": {
      "text/plain": [
       "(1928, 5)"
      ]
     },
     "execution_count": 19,
     "metadata": {},
     "output_type": "execute_result"
    }
   ],
   "source": [
    "# посмотрим на количество строк и столбцов в обучающем наборе данных\n",
    "df_train.shape"
   ]
  },
  {
   "cell_type": "code",
   "execution_count": 20,
   "metadata": {},
   "outputs": [
    {
     "data": {
      "text/plain": [
       "(643, 5)"
      ]
     },
     "execution_count": 20,
     "metadata": {},
     "output_type": "execute_result"
    }
   ],
   "source": [
    "# посмотрим на количество строк и столбцов в тестирующем наборе данных\n",
    "df_test.shape"
   ]
  },
  {
   "cell_type": "code",
   "execution_count": 21,
   "metadata": {},
   "outputs": [
    {
     "data": {
      "text/plain": [
       "(643, 5)"
      ]
     },
     "execution_count": 21,
     "metadata": {},
     "output_type": "execute_result"
    }
   ],
   "source": [
    "# посмотрим на количество строк и столбцов в валидационном (проверочном) наборе данных\n",
    "df_valid.shape"
   ]
  },
  {
   "cell_type": "code",
   "execution_count": 22,
   "metadata": {},
   "outputs": [],
   "source": [
    "# разбиваем данные на выборки\n",
    "# создаем отдельно фичи\n",
    "features_train = df_train.drop(['is_ultra'], axis=1)\n",
    "target_train = df_train['is_ultra']\n",
    "features_valid = df_valid.drop(['is_ultra'], axis=1)\n",
    "target_valid = df_valid['is_ultra']"
   ]
  },
  {
   "cell_type": "markdown",
   "metadata": {},
   "source": [
    "**модель: Решающее дерево (decision tree, далее - model_dt)**"
   ]
  },
  {
   "cell_type": "code",
   "execution_count": 23,
   "metadata": {},
   "outputs": [
    {
     "name": "stdout",
     "output_type": "stream",
     "text": [
      "max_depth = 1 : 0.7356143079315708\n",
      "max_depth = 2 : 0.7744945567651633\n",
      "max_depth = 3 : 0.7791601866251944\n",
      "max_depth = 4 : 0.7744945567651633\n",
      "max_depth = 5 : 0.7838258164852255\n"
     ]
    }
   ],
   "source": [
    "# создаем цикл для max_depth от 1 до 5\n",
    "for max_depth in range(1,6):\n",
    "    model_dt = DecisionTreeClassifier(random_state=12345, max_depth=max_depth) \n",
    "# обучаем модель с заданной глубиной дерева\n",
    "    model_dt.fit(features_train, target_train) # обучаем модель\n",
    "    predictions = model_dt.predict(features_valid) # получаем предсказания модели\n",
    "    result = accuracy_score(target_valid, predictions) # посчитаем качество модели\n",
    "    print('max_depth =',max_depth,':',result)\n"
   ]
  },
  {
   "cell_type": "markdown",
   "metadata": {},
   "source": [
    "**Попробуем новый алгоритм классификации — случайный лес (random forest, далее - model_rf)**"
   ]
  },
  {
   "cell_type": "code",
   "execution_count": 24,
   "metadata": {},
   "outputs": [
    {
     "name": "stdout",
     "output_type": "stream",
     "text": [
      "Accuracy наилучшей модели на валидационной выборке: 0.7869362363919129\n"
     ]
    }
   ],
   "source": [
    "# отделим 25% данных для валидационной выборки\n",
    "#df_train_rf, df_vali_rf = train_test_split(df, test_size=0.25, random_state=12345) \n",
    "#features_train_rf = df_train_rf.drop(['is_ultra'], axis=1)\n",
    "#features_valid_rf = df_valid.drop(['is_ultra'], axis=1)\n",
    "#target_valid_rf = df_valid['is_ultra']\n",
    "\n",
    "best_model_rf = None\n",
    "best_result_rf = 0\n",
    "for est in range(1, 11):\n",
    "    model_rf = RandomForestClassifier(random_state=12345, n_estimators=est) # обучим модель с заданным количеством деревьев\n",
    "    model_rf.fit(features_train, target_train) # обучим модель на тренировочной выборке\n",
    "    result_rf = model_rf.score(features_valid, target_valid) # посчитаем качество модели на валидационной выборке\n",
    "    if result_rf > best_result_rf:\n",
    "        best_model_rf = model_rf # сохраним наилучшую модель\n",
    "        best_result_rf = result_rf #  сохраним наилучшее значение метрики accuracy на валидационных данных\n",
    "\n",
    "print(\"Accuracy наилучшей модели на валидационной выборке:\", best_result_rf)"
   ]
  },
  {
   "cell_type": "markdown",
   "metadata": {},
   "source": [
    "**Попробуем ещё один алгоритм — логистическую регрессию**"
   ]
  },
  {
   "cell_type": "code",
   "execution_count": 25,
   "metadata": {},
   "outputs": [
    {
     "name": "stdout",
     "output_type": "stream",
     "text": [
      "Accuracy модели логистической регрессии на валидационной выборке: 0.7402799377916018\n"
     ]
    },
    {
     "name": "stderr",
     "output_type": "stream",
     "text": [
      "/opt/conda/lib/python3.7/site-packages/sklearn/linear_model/logistic.py:432: FutureWarning: Default solver will be changed to 'lbfgs' in 0.22. Specify a solver to silence this warning.\n",
      "  FutureWarning)\n"
     ]
    }
   ],
   "source": [
    "#df_train_lr, df_valid_lr = train_test_split(df, test_size=0.25, random_state=12345) # отделите 25% данных для валидаионной выборки\n",
    "\n",
    "#features_train_lr = df_train_lr.drop(['is_ultra'], axis=1)\n",
    "#target_train_lr = df_train_lr['is_ultra']\n",
    "#features_valid_lr = df_valid.drop(['is_ultra'], axis=1)\n",
    "#target_valid_lr = df_valid['is_ultra']\n",
    "\n",
    "model_lr = LogisticRegression(random_state=12345) # инициализируйте модель логистической регрессии с параметром random_state=12345\n",
    "model_lr.fit(features_train, target_train) # обучите модель на тренировочной выборке\n",
    "result_lr = model_lr.score(features_valid, target_valid) # получите метрику качества модели на валидационной выборке\n",
    "\n",
    "print(\"Accuracy модели логистической регрессии на валидационной выборке:\", result_lr)"
   ]
  },
  {
   "cell_type": "markdown",
   "metadata": {},
   "source": [
    "**Проведем сравнение моделей:**\n",
    "- максимально полученный Accuracy на выобрке в алгоритме классификации реашающее дерево -  0.7838258164852255\n",
    "- Accuracy на выобрке в алгоритме классификации случайный лес - 0.7869362363919129\n",
    "- Accuracy модели логистической регрессии на валидационной выборке: 0.7402799377916018\n",
    "\n",
    "**Вывод: Самое высокое качество Accuracy на выборке в алгоритме классификации случайный лес - 0.7869362363919129**\n"
   ]
  },
  {
   "cell_type": "markdown",
   "metadata": {},
   "source": [
    "## Проверьте модель на тестовой выборке"
   ]
  },
  {
   "cell_type": "code",
   "execution_count": 26,
   "metadata": {},
   "outputs": [],
   "source": [
    "#test_df = pd.read_csv('/datasets/users_behavior.csv')\n",
    "#features = df.drop(['is_ultra'], axis=1)\n",
    "#target = df['is_ultra']\n",
    "\n",
    "\n",
    "\n",
    "#model_test = RandomForestClassifier(random_state=12345)\n",
    "#model_test.fit(features, target)\n",
    "#test_features = test_df.drop(['is_ultra'], axis=1)\n",
    "#test_target = test_df['is_ultra']\n",
    "#test_predictions = model.predict(test_features)\n",
    "\n",
    "\n",
    "#def error_count(answers, predictions):\n",
    "    #count = 0\n",
    "    #for i in range(len(answers)):\n",
    "       # if answers[i] != predictions[i]:\n",
    "         #   count += 1\n",
    "  #  return count\n",
    "\n",
    "#def accuracy(answers, predictions):\n",
    "    #correct = 0\n",
    "    #for i in range(len(answers)):\n",
    "        #if answers[i] == predictions[i]:\n",
    "            #correct += 1\n",
    "    #return correct / len(answers)\n",
    "\n",
    "#print(\"Accuracy:\", accuracy(test_target, test_predictions))"
   ]
  },
  {
   "cell_type": "markdown",
   "metadata": {},
   "source": [
    "**Проверка accuracy на тестовой выборке показывает результат выше 0.75** "
   ]
  },
  {
   "cell_type": "markdown",
   "metadata": {},
   "source": [
    "**начну тестировать model_dt, решающего дерева**"
   ]
  },
  {
   "cell_type": "code",
   "execution_count": 27,
   "metadata": {},
   "outputs": [],
   "source": [
    "# готовим исключительно признаки на тестовой выборке\n",
    "features_test = df_test.drop(['is_ultra'], axis=1)\n",
    "# готовим исключительно целевой признак на тестовой выборке\n",
    "target_test = df_test['is_ultra']"
   ]
  },
  {
   "cell_type": "code",
   "execution_count": 28,
   "metadata": {},
   "outputs": [
    {
     "data": {
      "text/plain": [
       "0.7791601866251944"
      ]
     },
     "execution_count": 28,
     "metadata": {},
     "output_type": "execute_result"
    }
   ],
   "source": [
    "# точность на тестовой выборке\n",
    "model_dt = DecisionTreeClassifier(random_state=12345, max_depth=max_depth)\n",
    "model_dt.fit(features_train, target_train)\n",
    "model_dt.predict(features_test)\n",
    "model_dt.score(features_test, target_test)"
   ]
  },
  {
   "cell_type": "markdown",
   "metadata": {},
   "source": [
    "<div class=\"alert alert-block alert-warning\">\n",
    "<b>Комментарий:</b> точность на тесте модели 0.7791601866251944"
   ]
  },
  {
   "cell_type": "markdown",
   "metadata": {},
   "source": [
    "**тестирую случайный лес (random forest, далее - model_rf)**"
   ]
  },
  {
   "cell_type": "code",
   "execution_count": 29,
   "metadata": {},
   "outputs": [
    {
     "name": "stderr",
     "output_type": "stream",
     "text": [
      "/opt/conda/lib/python3.7/site-packages/sklearn/ensemble/forest.py:245: FutureWarning: The default value of n_estimators will change from 10 in version 0.20 to 100 in 0.22.\n",
      "  \"10 in version 0.20 to 100 in 0.22.\", FutureWarning)\n"
     ]
    },
    {
     "data": {
      "text/plain": [
       "0.7931570762052877"
      ]
     },
     "execution_count": 29,
     "metadata": {},
     "output_type": "execute_result"
    }
   ],
   "source": [
    "# точность при тестировании random forest\n",
    "model_rf = RandomForestClassifier(random_state=12345, max_depth=max_depth)\n",
    "model_rf.fit(features_train, target_train)\n",
    "model_rf.predict(features_test)\n",
    "model_rf.score(features_test, target_test)"
   ]
  },
  {
   "cell_type": "markdown",
   "metadata": {},
   "source": [
    "<div class=\"alert alert-block alert-warning\">\n",
    "<b>Комментарий:</b> точность на тесте модели RF = 0.7931570762052877."
   ]
  },
  {
   "cell_type": "markdown",
   "metadata": {},
   "source": [
    "**Провожу тестирование с моделью логистическая регрессия**"
   ]
  },
  {
   "cell_type": "code",
   "execution_count": 30,
   "metadata": {},
   "outputs": [
    {
     "name": "stdout",
     "output_type": "stream",
     "text": [
      "Accuracy модели логистической регрессии на тестовой выборке: 0.7589424572317263\n"
     ]
    }
   ],
   "source": [
    "result_lr = model_lr.score(features_test, target_test)\n",
    "\n",
    "print(\"Accuracy модели логистической регрессии на тестовой выборке:\", result_lr)"
   ]
  },
  {
   "cell_type": "markdown",
   "metadata": {},
   "source": [
    "**Вывод:**\n",
    "\n",
    "*случайный лес (random forest) продемонстрировал на тестовой выборке наибольшее Accuracy модели 0.7931570762052877*"
   ]
  },
  {
   "cell_type": "markdown",
   "metadata": {},
   "source": [
    "## (бонус) Проверьте модели на адекватность"
   ]
  },
  {
   "cell_type": "markdown",
   "metadata": {},
   "source": [
    "*в тренажере обучения проверку класификации модели на адекватность не установил*"
   ]
  },
  {
   "cell_type": "code",
   "execution_count": 31,
   "metadata": {},
   "outputs": [
    {
     "data": {
      "text/plain": [
       "0    2229\n",
       "1     985\n",
       "Name: is_ultra, dtype: int64"
      ]
     },
     "execution_count": 31,
     "metadata": {},
     "output_type": "execute_result"
    }
   ],
   "source": [
    "# определяю больший класс\n",
    "df['is_ultra'].value_counts()"
   ]
  },
  {
   "cell_type": "code",
   "execution_count": 32,
   "metadata": {},
   "outputs": [
    {
     "data": {
      "text/plain": [
       "3214"
      ]
     },
     "execution_count": 32,
     "metadata": {},
     "output_type": "execute_result"
    }
   ],
   "source": [
    "# общее количество данных\n",
    "df.shape[0]"
   ]
  },
  {
   "cell_type": "code",
   "execution_count": 33,
   "metadata": {},
   "outputs": [
    {
     "name": "stdout",
     "output_type": "stream",
     "text": [
      "0.693528313627878\n"
     ]
    }
   ],
   "source": [
    "# нахожу константу путем отношения количества наибольшего класса smart - 2229 к общему количеству - 3214\n",
    "constanta = (df['is_ultra'].value_counts() / df.shape[0]).loc[0]\n",
    "print(constanta)"
   ]
  },
  {
   "cell_type": "code",
   "execution_count": 34,
   "metadata": {},
   "outputs": [
    {
     "name": "stdout",
     "output_type": "stream",
     "text": [
      "Модель адекватна\n"
     ]
    }
   ],
   "source": [
    "# строю условие если константа меньше найденного значения лучшей по точности модели, то печатаем модель адекватна\n",
    "# иначе отправляем модель на доработку\n",
    "if  constanta < 0.79:\n",
    "    print('Модель адекватна')\n",
    "else:\n",
    "    print('Модель трубует доработки')"
   ]
  }
 ],
 "metadata": {
  "ExecuteTimeLog": [
   {
    "duration": 1032,
    "start_time": "2022-02-19T08:57:03.197Z"
   },
   {
    "duration": 29,
    "start_time": "2022-02-19T08:57:46.037Z"
   },
   {
    "duration": 12,
    "start_time": "2022-02-19T08:58:00.988Z"
   },
   {
    "duration": 8,
    "start_time": "2022-02-19T08:58:10.545Z"
   },
   {
    "duration": 6,
    "start_time": "2022-02-19T08:58:45.792Z"
   },
   {
    "duration": 56,
    "start_time": "2022-02-19T09:38:14.729Z"
   },
   {
    "duration": 39,
    "start_time": "2022-02-19T09:38:15.855Z"
   },
   {
    "duration": 8,
    "start_time": "2022-02-19T09:38:16.739Z"
   },
   {
    "duration": 6,
    "start_time": "2022-02-19T09:38:18.170Z"
   },
   {
    "duration": 6,
    "start_time": "2022-02-19T09:56:23.604Z"
   },
   {
    "duration": 458,
    "start_time": "2022-02-19T11:14:06.503Z"
   },
   {
    "duration": 1152,
    "start_time": "2022-02-19T11:14:13.240Z"
   },
   {
    "duration": 17,
    "start_time": "2022-02-19T11:14:14.394Z"
   },
   {
    "duration": 10,
    "start_time": "2022-02-19T11:14:14.413Z"
   },
   {
    "duration": 6,
    "start_time": "2022-02-19T11:14:14.425Z"
   },
   {
    "duration": 13,
    "start_time": "2022-02-19T11:14:14.433Z"
   },
   {
    "duration": 419,
    "start_time": "2022-02-19T11:14:14.448Z"
   },
   {
    "duration": 4,
    "start_time": "2022-02-19T11:15:21.735Z"
   },
   {
    "duration": 3,
    "start_time": "2022-02-19T11:18:58.324Z"
   },
   {
    "duration": 380,
    "start_time": "2022-02-19T11:19:07.423Z"
   },
   {
    "duration": 347,
    "start_time": "2022-02-19T11:19:34.083Z"
   },
   {
    "duration": 1155,
    "start_time": "2022-02-19T11:20:47.683Z"
   },
   {
    "duration": 28,
    "start_time": "2022-02-19T11:20:48.840Z"
   },
   {
    "duration": 10,
    "start_time": "2022-02-19T11:20:48.870Z"
   },
   {
    "duration": 6,
    "start_time": "2022-02-19T11:20:48.882Z"
   },
   {
    "duration": 5,
    "start_time": "2022-02-19T11:20:48.889Z"
   },
   {
    "duration": 4,
    "start_time": "2022-02-19T11:20:48.895Z"
   },
   {
    "duration": 5,
    "start_time": "2022-02-19T11:20:48.900Z"
   },
   {
    "duration": 1124,
    "start_time": "2022-02-19T11:30:29.304Z"
   },
   {
    "duration": 19,
    "start_time": "2022-02-19T11:30:30.430Z"
   },
   {
    "duration": 20,
    "start_time": "2022-02-19T11:30:30.451Z"
   },
   {
    "duration": 6,
    "start_time": "2022-02-19T11:30:30.472Z"
   },
   {
    "duration": 8,
    "start_time": "2022-02-19T11:30:30.479Z"
   },
   {
    "duration": 12,
    "start_time": "2022-02-19T11:30:30.488Z"
   },
   {
    "duration": 8,
    "start_time": "2022-02-19T11:30:30.502Z"
   },
   {
    "duration": 21,
    "start_time": "2022-02-19T11:30:30.511Z"
   },
   {
    "duration": 420,
    "start_time": "2022-02-19T11:38:48.591Z"
   },
   {
    "duration": 1172,
    "start_time": "2022-02-19T11:39:01.311Z"
   },
   {
    "duration": 18,
    "start_time": "2022-02-19T11:39:02.485Z"
   },
   {
    "duration": 10,
    "start_time": "2022-02-19T11:39:02.508Z"
   },
   {
    "duration": 15,
    "start_time": "2022-02-19T11:39:02.519Z"
   },
   {
    "duration": 7,
    "start_time": "2022-02-19T11:39:02.535Z"
   },
   {
    "duration": 7,
    "start_time": "2022-02-19T11:39:02.543Z"
   },
   {
    "duration": 14,
    "start_time": "2022-02-19T11:39:02.551Z"
   },
   {
    "duration": 34,
    "start_time": "2022-02-19T11:39:02.566Z"
   },
   {
    "duration": 6,
    "start_time": "2022-02-19T11:39:02.601Z"
   },
   {
    "duration": 3,
    "start_time": "2022-02-19T11:39:02.609Z"
   },
   {
    "duration": 452,
    "start_time": "2022-02-19T11:40:44.283Z"
   },
   {
    "duration": 4,
    "start_time": "2022-02-19T11:40:48.399Z"
   },
   {
    "duration": 3,
    "start_time": "2022-02-19T11:40:49.498Z"
   },
   {
    "duration": 1112,
    "start_time": "2022-02-19T11:41:38.088Z"
   },
   {
    "duration": 28,
    "start_time": "2022-02-19T11:41:39.202Z"
   },
   {
    "duration": 10,
    "start_time": "2022-02-19T11:41:39.234Z"
   },
   {
    "duration": 5,
    "start_time": "2022-02-19T11:41:39.246Z"
   },
   {
    "duration": 6,
    "start_time": "2022-02-19T11:41:39.252Z"
   },
   {
    "duration": 6,
    "start_time": "2022-02-19T11:41:39.259Z"
   },
   {
    "duration": 4,
    "start_time": "2022-02-19T11:41:39.266Z"
   },
   {
    "duration": 22,
    "start_time": "2022-02-19T11:41:39.272Z"
   },
   {
    "duration": 6,
    "start_time": "2022-02-19T11:41:39.295Z"
   },
   {
    "duration": 3,
    "start_time": "2022-02-19T11:41:39.302Z"
   },
   {
    "duration": 5,
    "start_time": "2022-02-19T11:41:39.306Z"
   },
   {
    "duration": 33,
    "start_time": "2022-02-19T11:41:39.313Z"
   },
   {
    "duration": 5,
    "start_time": "2022-02-19T11:43:33.655Z"
   },
   {
    "duration": 2013,
    "start_time": "2022-02-19T11:47:14.984Z"
   },
   {
    "duration": 18,
    "start_time": "2022-02-19T11:47:16.999Z"
   },
   {
    "duration": 9,
    "start_time": "2022-02-19T11:47:17.019Z"
   },
   {
    "duration": 7,
    "start_time": "2022-02-19T11:47:17.030Z"
   },
   {
    "duration": 9,
    "start_time": "2022-02-19T11:47:17.039Z"
   },
   {
    "duration": 10,
    "start_time": "2022-02-19T11:47:17.050Z"
   },
   {
    "duration": 6,
    "start_time": "2022-02-19T11:47:17.062Z"
   },
   {
    "duration": 19,
    "start_time": "2022-02-19T11:47:17.070Z"
   },
   {
    "duration": 468,
    "start_time": "2022-02-19T11:47:17.090Z"
   },
   {
    "duration": -2026,
    "start_time": "2022-02-19T11:47:19.586Z"
   },
   {
    "duration": -2031,
    "start_time": "2022-02-19T11:47:19.592Z"
   },
   {
    "duration": -2033,
    "start_time": "2022-02-19T11:47:19.595Z"
   },
   {
    "duration": -2035,
    "start_time": "2022-02-19T11:47:19.598Z"
   },
   {
    "duration": 1208,
    "start_time": "2022-02-19T11:47:49.910Z"
   },
   {
    "duration": 18,
    "start_time": "2022-02-19T11:47:51.120Z"
   },
   {
    "duration": 11,
    "start_time": "2022-02-19T11:47:51.140Z"
   },
   {
    "duration": 6,
    "start_time": "2022-02-19T11:47:51.152Z"
   },
   {
    "duration": 6,
    "start_time": "2022-02-19T11:47:51.159Z"
   },
   {
    "duration": 9,
    "start_time": "2022-02-19T11:47:51.166Z"
   },
   {
    "duration": 5,
    "start_time": "2022-02-19T11:47:51.176Z"
   },
   {
    "duration": 21,
    "start_time": "2022-02-19T11:47:51.182Z"
   },
   {
    "duration": 6,
    "start_time": "2022-02-19T11:47:51.205Z"
   },
   {
    "duration": 4,
    "start_time": "2022-02-19T11:47:51.212Z"
   },
   {
    "duration": 3,
    "start_time": "2022-02-19T11:47:51.246Z"
   },
   {
    "duration": 11,
    "start_time": "2022-02-19T11:47:51.251Z"
   },
   {
    "duration": 7,
    "start_time": "2022-02-19T11:47:51.263Z"
   },
   {
    "duration": 1209,
    "start_time": "2022-02-19T11:49:41.926Z"
   },
   {
    "duration": 18,
    "start_time": "2022-02-19T11:49:43.137Z"
   },
   {
    "duration": 12,
    "start_time": "2022-02-19T11:49:43.157Z"
   },
   {
    "duration": 7,
    "start_time": "2022-02-19T11:49:43.172Z"
   },
   {
    "duration": 8,
    "start_time": "2022-02-19T11:49:43.181Z"
   },
   {
    "duration": 4,
    "start_time": "2022-02-19T11:49:43.191Z"
   },
   {
    "duration": 4,
    "start_time": "2022-02-19T11:49:43.197Z"
   },
   {
    "duration": 47,
    "start_time": "2022-02-19T11:49:43.203Z"
   },
   {
    "duration": 6,
    "start_time": "2022-02-19T11:49:43.252Z"
   },
   {
    "duration": 6,
    "start_time": "2022-02-19T11:49:43.261Z"
   },
   {
    "duration": 7,
    "start_time": "2022-02-19T11:49:43.268Z"
   },
   {
    "duration": 11,
    "start_time": "2022-02-19T11:49:43.276Z"
   },
   {
    "duration": 8,
    "start_time": "2022-02-19T11:49:43.289Z"
   },
   {
    "duration": 6,
    "start_time": "2022-02-19T11:49:43.298Z"
   },
   {
    "duration": 7,
    "start_time": "2022-02-19T11:49:43.306Z"
   },
   {
    "duration": 4,
    "start_time": "2022-02-19T11:50:26.087Z"
   },
   {
    "duration": 5,
    "start_time": "2022-02-19T13:37:03.660Z"
   },
   {
    "duration": 104,
    "start_time": "2022-02-19T13:42:25.104Z"
   },
   {
    "duration": 1202,
    "start_time": "2022-02-19T13:42:47.645Z"
   },
   {
    "duration": 91,
    "start_time": "2022-02-19T13:42:48.848Z"
   },
   {
    "duration": 10,
    "start_time": "2022-02-19T13:42:48.940Z"
   },
   {
    "duration": 7,
    "start_time": "2022-02-19T13:42:48.952Z"
   },
   {
    "duration": 6,
    "start_time": "2022-02-19T13:42:48.961Z"
   },
   {
    "duration": 5,
    "start_time": "2022-02-19T13:42:48.969Z"
   },
   {
    "duration": 5,
    "start_time": "2022-02-19T13:42:48.976Z"
   },
   {
    "duration": 22,
    "start_time": "2022-02-19T13:42:48.982Z"
   },
   {
    "duration": 6,
    "start_time": "2022-02-19T13:42:49.006Z"
   },
   {
    "duration": 3,
    "start_time": "2022-02-19T13:42:49.013Z"
   },
   {
    "duration": 6,
    "start_time": "2022-02-19T13:42:49.018Z"
   },
   {
    "duration": 26,
    "start_time": "2022-02-19T13:42:49.025Z"
   },
   {
    "duration": 6,
    "start_time": "2022-02-19T13:42:49.053Z"
   },
   {
    "duration": 3,
    "start_time": "2022-02-19T13:42:49.060Z"
   },
   {
    "duration": 5,
    "start_time": "2022-02-19T13:42:49.065Z"
   },
   {
    "duration": 4,
    "start_time": "2022-02-19T13:42:49.072Z"
   },
   {
    "duration": 121,
    "start_time": "2022-02-19T13:42:49.078Z"
   },
   {
    "duration": 157,
    "start_time": "2022-02-19T13:43:26.511Z"
   },
   {
    "duration": 120,
    "start_time": "2022-02-19T13:44:00.592Z"
   },
   {
    "duration": 5,
    "start_time": "2022-02-19T13:47:09.432Z"
   },
   {
    "duration": 5,
    "start_time": "2022-02-19T13:50:29.331Z"
   },
   {
    "duration": 4,
    "start_time": "2022-02-19T13:52:03.885Z"
   },
   {
    "duration": 442,
    "start_time": "2022-02-19T13:56:06.309Z"
   },
   {
    "duration": 1096,
    "start_time": "2022-02-19T13:56:25.595Z"
   },
   {
    "duration": 29,
    "start_time": "2022-02-19T13:56:26.692Z"
   },
   {
    "duration": 9,
    "start_time": "2022-02-19T13:56:26.722Z"
   },
   {
    "duration": 5,
    "start_time": "2022-02-19T13:56:26.733Z"
   },
   {
    "duration": 6,
    "start_time": "2022-02-19T13:56:26.739Z"
   },
   {
    "duration": 6,
    "start_time": "2022-02-19T13:56:26.747Z"
   },
   {
    "duration": 4,
    "start_time": "2022-02-19T13:56:26.754Z"
   },
   {
    "duration": 5,
    "start_time": "2022-02-19T13:56:26.760Z"
   },
   {
    "duration": 4,
    "start_time": "2022-02-19T13:56:26.767Z"
   },
   {
    "duration": 4,
    "start_time": "2022-02-19T13:56:26.772Z"
   },
   {
    "duration": 3,
    "start_time": "2022-02-19T13:56:26.778Z"
   },
   {
    "duration": 4,
    "start_time": "2022-02-19T13:56:26.782Z"
   },
   {
    "duration": 4,
    "start_time": "2022-02-19T13:56:26.787Z"
   },
   {
    "duration": 7,
    "start_time": "2022-02-19T13:56:26.792Z"
   },
   {
    "duration": 310,
    "start_time": "2022-02-19T13:56:26.801Z"
   },
   {
    "duration": -2682,
    "start_time": "2022-02-19T13:56:29.795Z"
   },
   {
    "duration": -2683,
    "start_time": "2022-02-19T13:56:29.797Z"
   },
   {
    "duration": -2686,
    "start_time": "2022-02-19T13:56:29.800Z"
   },
   {
    "duration": -2687,
    "start_time": "2022-02-19T13:56:29.802Z"
   },
   {
    "duration": 1235,
    "start_time": "2022-02-19T13:57:07.499Z"
   },
   {
    "duration": 30,
    "start_time": "2022-02-19T13:57:08.736Z"
   },
   {
    "duration": 16,
    "start_time": "2022-02-19T13:57:08.769Z"
   },
   {
    "duration": 8,
    "start_time": "2022-02-19T13:57:08.787Z"
   },
   {
    "duration": 12,
    "start_time": "2022-02-19T13:57:08.797Z"
   },
   {
    "duration": 5,
    "start_time": "2022-02-19T13:57:08.810Z"
   },
   {
    "duration": 5,
    "start_time": "2022-02-19T13:57:08.816Z"
   },
   {
    "duration": 5,
    "start_time": "2022-02-19T13:57:08.823Z"
   },
   {
    "duration": 4,
    "start_time": "2022-02-19T13:57:08.831Z"
   },
   {
    "duration": 7,
    "start_time": "2022-02-19T13:57:08.836Z"
   },
   {
    "duration": 3,
    "start_time": "2022-02-19T13:57:08.846Z"
   },
   {
    "duration": 4,
    "start_time": "2022-02-19T13:57:08.851Z"
   },
   {
    "duration": 4,
    "start_time": "2022-02-19T13:57:08.856Z"
   },
   {
    "duration": 5,
    "start_time": "2022-02-19T13:57:08.862Z"
   },
   {
    "duration": 4,
    "start_time": "2022-02-19T13:57:08.869Z"
   },
   {
    "duration": 5,
    "start_time": "2022-02-19T13:57:08.875Z"
   },
   {
    "duration": 9,
    "start_time": "2022-02-19T13:57:08.881Z"
   },
   {
    "duration": 7,
    "start_time": "2022-02-19T13:57:08.891Z"
   },
   {
    "duration": 557,
    "start_time": "2022-02-19T13:57:08.899Z"
   },
   {
    "duration": 1121,
    "start_time": "2022-02-19T14:01:16.366Z"
   },
   {
    "duration": 18,
    "start_time": "2022-02-19T14:01:17.489Z"
   },
   {
    "duration": 10,
    "start_time": "2022-02-19T14:01:17.509Z"
   },
   {
    "duration": 7,
    "start_time": "2022-02-19T14:01:17.521Z"
   },
   {
    "duration": 18,
    "start_time": "2022-02-19T14:01:17.529Z"
   },
   {
    "duration": 2,
    "start_time": "2022-02-19T14:01:17.549Z"
   },
   {
    "duration": 4,
    "start_time": "2022-02-19T14:01:17.553Z"
   },
   {
    "duration": 4,
    "start_time": "2022-02-19T14:01:17.558Z"
   },
   {
    "duration": 4,
    "start_time": "2022-02-19T14:01:17.564Z"
   },
   {
    "duration": 5,
    "start_time": "2022-02-19T14:01:17.570Z"
   },
   {
    "duration": 4,
    "start_time": "2022-02-19T14:01:17.576Z"
   },
   {
    "duration": 15,
    "start_time": "2022-02-19T14:01:17.581Z"
   },
   {
    "duration": 13,
    "start_time": "2022-02-19T14:01:17.598Z"
   },
   {
    "duration": 14,
    "start_time": "2022-02-19T14:01:17.612Z"
   },
   {
    "duration": 8,
    "start_time": "2022-02-19T14:01:17.628Z"
   },
   {
    "duration": 11,
    "start_time": "2022-02-19T14:01:17.638Z"
   },
   {
    "duration": 20,
    "start_time": "2022-02-19T14:01:17.650Z"
   },
   {
    "duration": 409,
    "start_time": "2022-02-19T14:01:17.672Z"
   },
   {
    "duration": 333,
    "start_time": "2022-02-19T14:07:23.722Z"
   },
   {
    "duration": 1169,
    "start_time": "2022-02-19T14:12:49.927Z"
   },
   {
    "duration": 18,
    "start_time": "2022-02-19T14:12:51.097Z"
   },
   {
    "duration": 10,
    "start_time": "2022-02-19T14:12:51.117Z"
   },
   {
    "duration": 6,
    "start_time": "2022-02-19T14:12:51.128Z"
   },
   {
    "duration": 11,
    "start_time": "2022-02-19T14:12:51.135Z"
   },
   {
    "duration": 5,
    "start_time": "2022-02-19T14:12:51.147Z"
   },
   {
    "duration": 3,
    "start_time": "2022-02-19T14:12:51.154Z"
   },
   {
    "duration": 5,
    "start_time": "2022-02-19T14:12:51.159Z"
   },
   {
    "duration": 4,
    "start_time": "2022-02-19T14:12:51.165Z"
   },
   {
    "duration": 4,
    "start_time": "2022-02-19T14:12:51.171Z"
   },
   {
    "duration": 7,
    "start_time": "2022-02-19T14:12:51.176Z"
   },
   {
    "duration": 6,
    "start_time": "2022-02-19T14:12:51.185Z"
   },
   {
    "duration": 3,
    "start_time": "2022-02-19T14:12:51.193Z"
   },
   {
    "duration": 5,
    "start_time": "2022-02-19T14:12:51.198Z"
   },
   {
    "duration": 6,
    "start_time": "2022-02-19T14:12:51.204Z"
   },
   {
    "duration": 7,
    "start_time": "2022-02-19T14:12:51.211Z"
   },
   {
    "duration": 9,
    "start_time": "2022-02-19T14:12:51.219Z"
   },
   {
    "duration": 36,
    "start_time": "2022-02-19T14:12:51.229Z"
   },
   {
    "duration": 526,
    "start_time": "2022-02-19T14:26:44.562Z"
   },
   {
    "duration": 336,
    "start_time": "2022-02-19T14:27:14.822Z"
   },
   {
    "duration": 1180,
    "start_time": "2022-02-19T14:28:31.008Z"
   },
   {
    "duration": 18,
    "start_time": "2022-02-19T14:28:32.190Z"
   },
   {
    "duration": 9,
    "start_time": "2022-02-19T14:28:32.210Z"
   },
   {
    "duration": 8,
    "start_time": "2022-02-19T14:28:32.221Z"
   },
   {
    "duration": 10,
    "start_time": "2022-02-19T14:28:32.230Z"
   },
   {
    "duration": 5,
    "start_time": "2022-02-19T14:28:32.241Z"
   },
   {
    "duration": 5,
    "start_time": "2022-02-19T14:28:32.248Z"
   },
   {
    "duration": 5,
    "start_time": "2022-02-19T14:28:32.254Z"
   },
   {
    "duration": 7,
    "start_time": "2022-02-19T14:28:32.261Z"
   },
   {
    "duration": 8,
    "start_time": "2022-02-19T14:28:32.269Z"
   },
   {
    "duration": 5,
    "start_time": "2022-02-19T14:28:32.278Z"
   },
   {
    "duration": 6,
    "start_time": "2022-02-19T14:28:32.285Z"
   },
   {
    "duration": 5,
    "start_time": "2022-02-19T14:28:32.292Z"
   },
   {
    "duration": 4,
    "start_time": "2022-02-19T14:28:32.299Z"
   },
   {
    "duration": 6,
    "start_time": "2022-02-19T14:28:32.304Z"
   },
   {
    "duration": 8,
    "start_time": "2022-02-19T14:28:32.311Z"
   },
   {
    "duration": 11,
    "start_time": "2022-02-19T14:28:32.320Z"
   },
   {
    "duration": 33,
    "start_time": "2022-02-19T14:28:32.332Z"
   },
   {
    "duration": 263,
    "start_time": "2022-02-19T14:28:32.366Z"
   },
   {
    "duration": 921,
    "start_time": "2022-02-19T14:36:05.047Z"
   },
   {
    "duration": 369,
    "start_time": "2022-02-19T14:36:44.504Z"
   },
   {
    "duration": 1135,
    "start_time": "2022-02-19T14:36:52.758Z"
   },
   {
    "duration": 19,
    "start_time": "2022-02-19T14:36:53.895Z"
   },
   {
    "duration": 11,
    "start_time": "2022-02-19T14:36:53.916Z"
   },
   {
    "duration": 7,
    "start_time": "2022-02-19T14:36:53.929Z"
   },
   {
    "duration": 11,
    "start_time": "2022-02-19T14:36:53.938Z"
   },
   {
    "duration": 2,
    "start_time": "2022-02-19T14:36:53.951Z"
   },
   {
    "duration": 6,
    "start_time": "2022-02-19T14:36:53.955Z"
   },
   {
    "duration": 4,
    "start_time": "2022-02-19T14:36:53.963Z"
   },
   {
    "duration": 4,
    "start_time": "2022-02-19T14:36:53.969Z"
   },
   {
    "duration": 4,
    "start_time": "2022-02-19T14:36:53.975Z"
   },
   {
    "duration": 4,
    "start_time": "2022-02-19T14:36:53.980Z"
   },
   {
    "duration": 4,
    "start_time": "2022-02-19T14:36:53.986Z"
   },
   {
    "duration": 7,
    "start_time": "2022-02-19T14:36:53.991Z"
   },
   {
    "duration": 4,
    "start_time": "2022-02-19T14:36:54.000Z"
   },
   {
    "duration": 5,
    "start_time": "2022-02-19T14:36:54.005Z"
   },
   {
    "duration": 9,
    "start_time": "2022-02-19T14:36:54.011Z"
   },
   {
    "duration": 27,
    "start_time": "2022-02-19T14:36:54.021Z"
   },
   {
    "duration": 28,
    "start_time": "2022-02-19T14:36:54.050Z"
   },
   {
    "duration": 280,
    "start_time": "2022-02-19T14:36:54.080Z"
   },
   {
    "duration": 20,
    "start_time": "2022-02-19T14:36:54.362Z"
   },
   {
    "duration": 1160,
    "start_time": "2022-02-19T14:58:17.621Z"
   },
   {
    "duration": 28,
    "start_time": "2022-02-19T14:58:18.783Z"
   },
   {
    "duration": 10,
    "start_time": "2022-02-19T14:58:18.813Z"
   },
   {
    "duration": 6,
    "start_time": "2022-02-19T14:58:18.825Z"
   },
   {
    "duration": 9,
    "start_time": "2022-02-19T14:58:18.833Z"
   },
   {
    "duration": 4,
    "start_time": "2022-02-19T14:58:18.843Z"
   },
   {
    "duration": 5,
    "start_time": "2022-02-19T14:58:18.848Z"
   },
   {
    "duration": 5,
    "start_time": "2022-02-19T14:58:18.854Z"
   },
   {
    "duration": 5,
    "start_time": "2022-02-19T14:58:18.861Z"
   },
   {
    "duration": 5,
    "start_time": "2022-02-19T14:58:18.868Z"
   },
   {
    "duration": 5,
    "start_time": "2022-02-19T14:58:18.875Z"
   },
   {
    "duration": 8,
    "start_time": "2022-02-19T14:58:18.882Z"
   },
   {
    "duration": 7,
    "start_time": "2022-02-19T14:58:18.892Z"
   },
   {
    "duration": 7,
    "start_time": "2022-02-19T14:58:18.900Z"
   },
   {
    "duration": 6,
    "start_time": "2022-02-19T14:58:18.909Z"
   },
   {
    "duration": 10,
    "start_time": "2022-02-19T14:58:18.917Z"
   },
   {
    "duration": 6,
    "start_time": "2022-02-19T14:58:18.928Z"
   },
   {
    "duration": 31,
    "start_time": "2022-02-19T14:58:18.935Z"
   },
   {
    "duration": 261,
    "start_time": "2022-02-19T14:58:18.967Z"
   },
   {
    "duration": 23,
    "start_time": "2022-02-19T14:58:19.230Z"
   },
   {
    "duration": 129,
    "start_time": "2022-02-19T15:17:43.310Z"
   },
   {
    "duration": 423,
    "start_time": "2022-02-19T15:19:04.292Z"
   },
   {
    "duration": 1127,
    "start_time": "2022-02-19T15:22:18.278Z"
   },
   {
    "duration": 18,
    "start_time": "2022-02-19T15:22:19.407Z"
   },
   {
    "duration": 10,
    "start_time": "2022-02-19T15:22:19.427Z"
   },
   {
    "duration": 9,
    "start_time": "2022-02-19T15:22:19.439Z"
   },
   {
    "duration": 5,
    "start_time": "2022-02-19T15:22:19.449Z"
   },
   {
    "duration": 5,
    "start_time": "2022-02-19T15:22:19.456Z"
   },
   {
    "duration": 5,
    "start_time": "2022-02-19T15:22:19.462Z"
   },
   {
    "duration": 9,
    "start_time": "2022-02-19T15:22:19.469Z"
   },
   {
    "duration": 6,
    "start_time": "2022-02-19T15:22:19.480Z"
   },
   {
    "duration": 9,
    "start_time": "2022-02-19T15:22:19.487Z"
   },
   {
    "duration": 9,
    "start_time": "2022-02-19T15:22:19.497Z"
   },
   {
    "duration": 9,
    "start_time": "2022-02-19T15:22:19.508Z"
   },
   {
    "duration": 8,
    "start_time": "2022-02-19T15:22:19.518Z"
   },
   {
    "duration": 6,
    "start_time": "2022-02-19T15:22:19.527Z"
   },
   {
    "duration": 7,
    "start_time": "2022-02-19T15:22:19.535Z"
   },
   {
    "duration": 11,
    "start_time": "2022-02-19T15:22:19.543Z"
   },
   {
    "duration": 15,
    "start_time": "2022-02-19T15:22:19.556Z"
   },
   {
    "duration": 29,
    "start_time": "2022-02-19T15:22:19.573Z"
   },
   {
    "duration": 248,
    "start_time": "2022-02-19T15:22:19.604Z"
   },
   {
    "duration": 15,
    "start_time": "2022-02-19T15:22:19.854Z"
   },
   {
    "duration": 427,
    "start_time": "2022-02-19T15:22:19.870Z"
   },
   {
    "duration": 374,
    "start_time": "2022-02-19T15:22:54.061Z"
   },
   {
    "duration": 337,
    "start_time": "2022-02-19T15:23:11.149Z"
   },
   {
    "duration": 351,
    "start_time": "2022-02-19T15:23:57.355Z"
   },
   {
    "duration": 108,
    "start_time": "2022-02-19T15:25:02.058Z"
   },
   {
    "duration": 301,
    "start_time": "2022-02-20T13:01:40.328Z"
   },
   {
    "duration": 1343,
    "start_time": "2022-02-20T13:01:49.016Z"
   },
   {
    "duration": 16,
    "start_time": "2022-02-20T13:01:50.362Z"
   },
   {
    "duration": 29,
    "start_time": "2022-02-20T13:01:50.381Z"
   },
   {
    "duration": 11,
    "start_time": "2022-02-20T13:01:50.413Z"
   },
   {
    "duration": 7,
    "start_time": "2022-02-20T13:01:50.427Z"
   },
   {
    "duration": 5,
    "start_time": "2022-02-20T13:01:50.435Z"
   },
   {
    "duration": 10,
    "start_time": "2022-02-20T13:01:50.442Z"
   },
   {
    "duration": 6,
    "start_time": "2022-02-20T13:01:50.456Z"
   },
   {
    "duration": 5,
    "start_time": "2022-02-20T13:01:50.465Z"
   },
   {
    "duration": 3,
    "start_time": "2022-02-20T13:01:50.507Z"
   },
   {
    "duration": 18,
    "start_time": "2022-02-20T13:01:50.512Z"
   },
   {
    "duration": 10,
    "start_time": "2022-02-20T13:01:50.532Z"
   },
   {
    "duration": 9,
    "start_time": "2022-02-20T13:01:50.544Z"
   },
   {
    "duration": 10,
    "start_time": "2022-02-20T13:01:50.555Z"
   },
   {
    "duration": 10,
    "start_time": "2022-02-20T13:01:50.567Z"
   },
   {
    "duration": 12,
    "start_time": "2022-02-20T13:01:50.580Z"
   },
   {
    "duration": 16,
    "start_time": "2022-02-20T13:01:50.594Z"
   },
   {
    "duration": 9,
    "start_time": "2022-02-20T13:01:50.612Z"
   },
   {
    "duration": 12,
    "start_time": "2022-02-20T13:01:50.623Z"
   },
   {
    "duration": 36,
    "start_time": "2022-02-20T13:01:50.638Z"
   },
   {
    "duration": 348,
    "start_time": "2022-02-20T13:01:50.676Z"
   },
   {
    "duration": 22,
    "start_time": "2022-02-20T13:01:51.026Z"
   },
   {
    "duration": 135,
    "start_time": "2022-02-20T13:01:51.052Z"
   },
   {
    "duration": 414,
    "start_time": "2022-02-20T13:12:59.741Z"
   },
   {
    "duration": 5,
    "start_time": "2022-02-20T13:13:07.915Z"
   },
   {
    "duration": 4,
    "start_time": "2022-02-20T13:13:33.237Z"
   },
   {
    "duration": 5,
    "start_time": "2022-02-20T13:14:06.295Z"
   },
   {
    "duration": 7,
    "start_time": "2022-02-20T13:14:16.146Z"
   },
   {
    "duration": 6,
    "start_time": "2022-02-20T13:14:16.919Z"
   },
   {
    "duration": 4,
    "start_time": "2022-02-20T13:14:17.630Z"
   },
   {
    "duration": 4,
    "start_time": "2022-02-20T13:14:18.555Z"
   },
   {
    "duration": 4,
    "start_time": "2022-02-20T13:14:19.459Z"
   },
   {
    "duration": 88,
    "start_time": "2022-02-20T13:20:17.805Z"
   },
   {
    "duration": 85,
    "start_time": "2022-02-20T13:23:46.833Z"
   },
   {
    "duration": 19,
    "start_time": "2022-02-20T13:29:50.482Z"
   },
   {
    "duration": 311,
    "start_time": "2022-02-20T13:30:18.570Z"
   },
   {
    "duration": 37,
    "start_time": "2022-02-20T13:34:24.463Z"
   },
   {
    "duration": 16,
    "start_time": "2022-02-20T13:41:46.447Z"
   },
   {
    "duration": 1322,
    "start_time": "2022-02-20T13:41:54.116Z"
   },
   {
    "duration": 14,
    "start_time": "2022-02-20T13:41:55.440Z"
   },
   {
    "duration": 26,
    "start_time": "2022-02-20T13:41:55.456Z"
   },
   {
    "duration": 9,
    "start_time": "2022-02-20T13:41:55.484Z"
   },
   {
    "duration": 21,
    "start_time": "2022-02-20T13:41:55.495Z"
   },
   {
    "duration": 7,
    "start_time": "2022-02-20T13:41:55.518Z"
   },
   {
    "duration": 12,
    "start_time": "2022-02-20T13:41:55.527Z"
   },
   {
    "duration": 5,
    "start_time": "2022-02-20T13:41:55.542Z"
   },
   {
    "duration": 8,
    "start_time": "2022-02-20T13:41:55.549Z"
   },
   {
    "duration": 10,
    "start_time": "2022-02-20T13:41:55.559Z"
   },
   {
    "duration": 9,
    "start_time": "2022-02-20T13:41:55.571Z"
   },
   {
    "duration": 11,
    "start_time": "2022-02-20T13:41:55.582Z"
   },
   {
    "duration": 12,
    "start_time": "2022-02-20T13:41:55.595Z"
   },
   {
    "duration": 12,
    "start_time": "2022-02-20T13:41:55.609Z"
   },
   {
    "duration": 12,
    "start_time": "2022-02-20T13:41:55.623Z"
   },
   {
    "duration": 17,
    "start_time": "2022-02-20T13:41:55.637Z"
   },
   {
    "duration": 13,
    "start_time": "2022-02-20T13:41:55.656Z"
   },
   {
    "duration": 10,
    "start_time": "2022-02-20T13:41:55.671Z"
   },
   {
    "duration": 15,
    "start_time": "2022-02-20T13:41:55.683Z"
   },
   {
    "duration": 13,
    "start_time": "2022-02-20T13:41:55.701Z"
   },
   {
    "duration": 20,
    "start_time": "2022-02-20T13:41:55.716Z"
   },
   {
    "duration": 23,
    "start_time": "2022-02-20T13:41:55.738Z"
   },
   {
    "duration": 54,
    "start_time": "2022-02-20T13:41:55.765Z"
   },
   {
    "duration": 390,
    "start_time": "2022-02-20T13:41:55.822Z"
   },
   {
    "duration": -180,
    "start_time": "2022-02-20T13:41:56.394Z"
   },
   {
    "duration": -198,
    "start_time": "2022-02-20T13:41:56.413Z"
   },
   {
    "duration": 1287,
    "start_time": "2022-02-20T13:42:58.058Z"
   },
   {
    "duration": 15,
    "start_time": "2022-02-20T13:42:59.348Z"
   },
   {
    "duration": 15,
    "start_time": "2022-02-20T13:42:59.367Z"
   },
   {
    "duration": 9,
    "start_time": "2022-02-20T13:42:59.409Z"
   },
   {
    "duration": 11,
    "start_time": "2022-02-20T13:42:59.420Z"
   },
   {
    "duration": 3,
    "start_time": "2022-02-20T13:42:59.434Z"
   },
   {
    "duration": 5,
    "start_time": "2022-02-20T13:42:59.440Z"
   },
   {
    "duration": 8,
    "start_time": "2022-02-20T13:42:59.447Z"
   },
   {
    "duration": 47,
    "start_time": "2022-02-20T13:42:59.460Z"
   },
   {
    "duration": 3,
    "start_time": "2022-02-20T13:42:59.510Z"
   },
   {
    "duration": 8,
    "start_time": "2022-02-20T13:42:59.515Z"
   },
   {
    "duration": 8,
    "start_time": "2022-02-20T13:42:59.525Z"
   },
   {
    "duration": 8,
    "start_time": "2022-02-20T13:42:59.535Z"
   },
   {
    "duration": 11,
    "start_time": "2022-02-20T13:42:59.545Z"
   },
   {
    "duration": 11,
    "start_time": "2022-02-20T13:42:59.558Z"
   },
   {
    "duration": 11,
    "start_time": "2022-02-20T13:42:59.571Z"
   },
   {
    "duration": 10,
    "start_time": "2022-02-20T13:42:59.584Z"
   },
   {
    "duration": 14,
    "start_time": "2022-02-20T13:42:59.596Z"
   },
   {
    "duration": 8,
    "start_time": "2022-02-20T13:42:59.612Z"
   },
   {
    "duration": 9,
    "start_time": "2022-02-20T13:42:59.622Z"
   },
   {
    "duration": 8,
    "start_time": "2022-02-20T13:42:59.634Z"
   },
   {
    "duration": 9,
    "start_time": "2022-02-20T13:42:59.644Z"
   },
   {
    "duration": 67,
    "start_time": "2022-02-20T13:42:59.654Z"
   },
   {
    "duration": 276,
    "start_time": "2022-02-20T13:42:59.723Z"
   },
   {
    "duration": 406,
    "start_time": "2022-02-20T13:43:00.001Z"
   },
   {
    "duration": -201,
    "start_time": "2022-02-20T13:43:00.618Z"
   },
   {
    "duration": 1288,
    "start_time": "2022-02-20T13:43:57.756Z"
   },
   {
    "duration": 14,
    "start_time": "2022-02-20T13:43:59.047Z"
   },
   {
    "duration": 20,
    "start_time": "2022-02-20T13:43:59.064Z"
   },
   {
    "duration": 11,
    "start_time": "2022-02-20T13:43:59.086Z"
   },
   {
    "duration": 14,
    "start_time": "2022-02-20T13:43:59.099Z"
   },
   {
    "duration": 7,
    "start_time": "2022-02-20T13:43:59.115Z"
   },
   {
    "duration": 10,
    "start_time": "2022-02-20T13:43:59.124Z"
   },
   {
    "duration": 5,
    "start_time": "2022-02-20T13:43:59.137Z"
   },
   {
    "duration": 9,
    "start_time": "2022-02-20T13:43:59.144Z"
   },
   {
    "duration": 13,
    "start_time": "2022-02-20T13:43:59.155Z"
   },
   {
    "duration": 7,
    "start_time": "2022-02-20T13:43:59.170Z"
   },
   {
    "duration": 29,
    "start_time": "2022-02-20T13:43:59.179Z"
   },
   {
    "duration": 7,
    "start_time": "2022-02-20T13:43:59.210Z"
   },
   {
    "duration": 8,
    "start_time": "2022-02-20T13:43:59.219Z"
   },
   {
    "duration": 7,
    "start_time": "2022-02-20T13:43:59.229Z"
   },
   {
    "duration": 11,
    "start_time": "2022-02-20T13:43:59.238Z"
   },
   {
    "duration": 11,
    "start_time": "2022-02-20T13:43:59.251Z"
   },
   {
    "duration": 11,
    "start_time": "2022-02-20T13:43:59.264Z"
   },
   {
    "duration": 9,
    "start_time": "2022-02-20T13:43:59.277Z"
   },
   {
    "duration": 23,
    "start_time": "2022-02-20T13:43:59.288Z"
   },
   {
    "duration": 12,
    "start_time": "2022-02-20T13:43:59.313Z"
   },
   {
    "duration": 15,
    "start_time": "2022-02-20T13:43:59.327Z"
   },
   {
    "duration": 41,
    "start_time": "2022-02-20T13:43:59.345Z"
   },
   {
    "duration": 280,
    "start_time": "2022-02-20T13:43:59.388Z"
   },
   {
    "duration": 15,
    "start_time": "2022-02-20T13:43:59.670Z"
   },
   {
    "duration": 472,
    "start_time": "2022-02-20T13:43:59.687Z"
   },
   {
    "duration": 1462,
    "start_time": "2022-02-20T13:44:49.467Z"
   },
   {
    "duration": 14,
    "start_time": "2022-02-20T13:44:50.932Z"
   },
   {
    "duration": 33,
    "start_time": "2022-02-20T13:44:50.949Z"
   },
   {
    "duration": 18,
    "start_time": "2022-02-20T13:44:50.984Z"
   },
   {
    "duration": 12,
    "start_time": "2022-02-20T13:44:51.005Z"
   },
   {
    "duration": 10,
    "start_time": "2022-02-20T13:44:51.019Z"
   },
   {
    "duration": 6,
    "start_time": "2022-02-20T13:44:51.031Z"
   },
   {
    "duration": 6,
    "start_time": "2022-02-20T13:44:51.040Z"
   },
   {
    "duration": 8,
    "start_time": "2022-02-20T13:44:51.049Z"
   },
   {
    "duration": 13,
    "start_time": "2022-02-20T13:44:51.059Z"
   },
   {
    "duration": 12,
    "start_time": "2022-02-20T13:44:51.074Z"
   },
   {
    "duration": 19,
    "start_time": "2022-02-20T13:44:51.089Z"
   },
   {
    "duration": 11,
    "start_time": "2022-02-20T13:44:51.111Z"
   },
   {
    "duration": 11,
    "start_time": "2022-02-20T13:44:51.124Z"
   },
   {
    "duration": 7,
    "start_time": "2022-02-20T13:44:51.137Z"
   },
   {
    "duration": 12,
    "start_time": "2022-02-20T13:44:51.147Z"
   },
   {
    "duration": 13,
    "start_time": "2022-02-20T13:44:51.161Z"
   },
   {
    "duration": 9,
    "start_time": "2022-02-20T13:44:51.177Z"
   },
   {
    "duration": 21,
    "start_time": "2022-02-20T13:44:51.188Z"
   },
   {
    "duration": 8,
    "start_time": "2022-02-20T13:44:51.211Z"
   },
   {
    "duration": 10,
    "start_time": "2022-02-20T13:44:51.221Z"
   },
   {
    "duration": 10,
    "start_time": "2022-02-20T13:44:51.233Z"
   },
   {
    "duration": 64,
    "start_time": "2022-02-20T13:44:51.247Z"
   },
   {
    "duration": 275,
    "start_time": "2022-02-20T13:44:51.313Z"
   },
   {
    "duration": 28,
    "start_time": "2022-02-20T13:44:51.590Z"
   },
   {
    "duration": 3,
    "start_time": "2022-02-20T13:44:51.620Z"
   },
   {
    "duration": 107,
    "start_time": "2022-02-20T13:53:09.365Z"
   },
   {
    "duration": 727,
    "start_time": "2022-02-20T13:57:19.546Z"
   },
   {
    "duration": 436,
    "start_time": "2022-02-20T13:57:28.640Z"
   },
   {
    "duration": 1303,
    "start_time": "2022-02-20T13:57:41.560Z"
   },
   {
    "duration": 14,
    "start_time": "2022-02-20T13:57:42.866Z"
   },
   {
    "duration": 25,
    "start_time": "2022-02-20T13:57:42.883Z"
   },
   {
    "duration": 9,
    "start_time": "2022-02-20T13:57:42.911Z"
   },
   {
    "duration": 7,
    "start_time": "2022-02-20T13:57:42.922Z"
   },
   {
    "duration": 12,
    "start_time": "2022-02-20T13:57:42.931Z"
   },
   {
    "duration": 11,
    "start_time": "2022-02-20T13:57:42.945Z"
   },
   {
    "duration": 6,
    "start_time": "2022-02-20T13:57:42.958Z"
   },
   {
    "duration": 4,
    "start_time": "2022-02-20T13:57:42.967Z"
   },
   {
    "duration": 11,
    "start_time": "2022-02-20T13:57:42.973Z"
   },
   {
    "duration": 3,
    "start_time": "2022-02-20T13:57:43.008Z"
   },
   {
    "duration": 8,
    "start_time": "2022-02-20T13:57:43.013Z"
   },
   {
    "duration": 9,
    "start_time": "2022-02-20T13:57:43.023Z"
   },
   {
    "duration": 10,
    "start_time": "2022-02-20T13:57:43.034Z"
   },
   {
    "duration": 7,
    "start_time": "2022-02-20T13:57:43.046Z"
   },
   {
    "duration": 11,
    "start_time": "2022-02-20T13:57:43.055Z"
   },
   {
    "duration": 11,
    "start_time": "2022-02-20T13:57:43.069Z"
   },
   {
    "duration": 31,
    "start_time": "2022-02-20T13:57:43.082Z"
   },
   {
    "duration": 9,
    "start_time": "2022-02-20T13:57:43.115Z"
   },
   {
    "duration": 8,
    "start_time": "2022-02-20T13:57:43.126Z"
   },
   {
    "duration": 9,
    "start_time": "2022-02-20T13:57:43.136Z"
   },
   {
    "duration": 14,
    "start_time": "2022-02-20T13:57:43.148Z"
   },
   {
    "duration": 60,
    "start_time": "2022-02-20T13:57:43.165Z"
   },
   {
    "duration": 286,
    "start_time": "2022-02-20T13:57:43.227Z"
   },
   {
    "duration": 18,
    "start_time": "2022-02-20T13:57:43.516Z"
   },
   {
    "duration": 3,
    "start_time": "2022-02-20T13:57:43.536Z"
   },
   {
    "duration": 370,
    "start_time": "2022-02-20T13:57:43.541Z"
   },
   {
    "duration": 258,
    "start_time": "2022-02-20T13:58:52.776Z"
   },
   {
    "duration": 272,
    "start_time": "2022-02-20T14:01:24.292Z"
   },
   {
    "duration": 5,
    "start_time": "2022-02-20T14:01:32.113Z"
   },
   {
    "duration": 276,
    "start_time": "2022-02-20T14:01:33.469Z"
   },
   {
    "duration": 1339,
    "start_time": "2022-02-20T14:01:58.615Z"
   },
   {
    "duration": 16,
    "start_time": "2022-02-20T14:01:59.957Z"
   },
   {
    "duration": 41,
    "start_time": "2022-02-20T14:01:59.975Z"
   },
   {
    "duration": 26,
    "start_time": "2022-02-20T14:02:00.019Z"
   },
   {
    "duration": 32,
    "start_time": "2022-02-20T14:02:00.047Z"
   },
   {
    "duration": 22,
    "start_time": "2022-02-20T14:02:00.081Z"
   },
   {
    "duration": 15,
    "start_time": "2022-02-20T14:02:00.105Z"
   },
   {
    "duration": 20,
    "start_time": "2022-02-20T14:02:00.123Z"
   },
   {
    "duration": 14,
    "start_time": "2022-02-20T14:02:00.145Z"
   },
   {
    "duration": 23,
    "start_time": "2022-02-20T14:02:00.161Z"
   },
   {
    "duration": 22,
    "start_time": "2022-02-20T14:02:00.187Z"
   },
   {
    "duration": 19,
    "start_time": "2022-02-20T14:02:00.212Z"
   },
   {
    "duration": 32,
    "start_time": "2022-02-20T14:02:00.234Z"
   },
   {
    "duration": 28,
    "start_time": "2022-02-20T14:02:00.268Z"
   },
   {
    "duration": 29,
    "start_time": "2022-02-20T14:02:00.298Z"
   },
   {
    "duration": 42,
    "start_time": "2022-02-20T14:02:00.329Z"
   },
   {
    "duration": 24,
    "start_time": "2022-02-20T14:02:00.373Z"
   },
   {
    "duration": 26,
    "start_time": "2022-02-20T14:02:00.400Z"
   },
   {
    "duration": 22,
    "start_time": "2022-02-20T14:02:00.428Z"
   },
   {
    "duration": 35,
    "start_time": "2022-02-20T14:02:00.453Z"
   },
   {
    "duration": 18,
    "start_time": "2022-02-20T14:02:00.490Z"
   },
   {
    "duration": 24,
    "start_time": "2022-02-20T14:02:00.510Z"
   },
   {
    "duration": 61,
    "start_time": "2022-02-20T14:02:00.538Z"
   },
   {
    "duration": 294,
    "start_time": "2022-02-20T14:02:00.602Z"
   },
   {
    "duration": 23,
    "start_time": "2022-02-20T14:02:00.899Z"
   },
   {
    "duration": 25,
    "start_time": "2022-02-20T14:02:00.924Z"
   },
   {
    "duration": 23,
    "start_time": "2022-02-20T14:02:00.952Z"
   },
   {
    "duration": 548,
    "start_time": "2022-02-20T14:02:00.977Z"
   },
   {
    "duration": 14,
    "start_time": "2022-02-20T14:04:14.724Z"
   },
   {
    "duration": 18,
    "start_time": "2022-02-20T14:04:25.477Z"
   },
   {
    "duration": 19,
    "start_time": "2022-02-20T14:05:10.825Z"
   },
   {
    "duration": 1386,
    "start_time": "2022-02-20T14:06:00.505Z"
   },
   {
    "duration": 18,
    "start_time": "2022-02-20T14:06:01.894Z"
   },
   {
    "duration": 35,
    "start_time": "2022-02-20T14:06:01.915Z"
   },
   {
    "duration": 25,
    "start_time": "2022-02-20T14:06:01.953Z"
   },
   {
    "duration": 21,
    "start_time": "2022-02-20T14:06:01.981Z"
   },
   {
    "duration": 31,
    "start_time": "2022-02-20T14:06:02.004Z"
   },
   {
    "duration": 34,
    "start_time": "2022-02-20T14:06:02.037Z"
   },
   {
    "duration": 21,
    "start_time": "2022-02-20T14:06:02.073Z"
   },
   {
    "duration": 27,
    "start_time": "2022-02-20T14:06:02.098Z"
   },
   {
    "duration": 50,
    "start_time": "2022-02-20T14:06:02.128Z"
   },
   {
    "duration": 28,
    "start_time": "2022-02-20T14:06:02.180Z"
   },
   {
    "duration": 28,
    "start_time": "2022-02-20T14:06:02.210Z"
   },
   {
    "duration": 27,
    "start_time": "2022-02-20T14:06:02.240Z"
   },
   {
    "duration": 20,
    "start_time": "2022-02-20T14:06:02.269Z"
   },
   {
    "duration": 28,
    "start_time": "2022-02-20T14:06:02.291Z"
   },
   {
    "duration": 97,
    "start_time": "2022-02-20T14:06:02.322Z"
   },
   {
    "duration": 50,
    "start_time": "2022-02-20T14:06:02.421Z"
   },
   {
    "duration": 41,
    "start_time": "2022-02-20T14:06:02.473Z"
   },
   {
    "duration": 21,
    "start_time": "2022-02-20T14:06:02.516Z"
   },
   {
    "duration": 30,
    "start_time": "2022-02-20T14:06:02.539Z"
   },
   {
    "duration": 17,
    "start_time": "2022-02-20T14:06:02.571Z"
   },
   {
    "duration": 30,
    "start_time": "2022-02-20T14:06:02.589Z"
   },
   {
    "duration": 55,
    "start_time": "2022-02-20T14:06:02.621Z"
   },
   {
    "duration": 307,
    "start_time": "2022-02-20T14:06:02.678Z"
   },
   {
    "duration": 25,
    "start_time": "2022-02-20T14:06:02.987Z"
   },
   {
    "duration": 32,
    "start_time": "2022-02-20T14:06:03.014Z"
   },
   {
    "duration": 20,
    "start_time": "2022-02-20T14:06:03.049Z"
   },
   {
    "duration": 441,
    "start_time": "2022-02-20T14:06:03.072Z"
   },
   {
    "duration": 4,
    "start_time": "2022-02-20T14:07:37.543Z"
   },
   {
    "duration": 14,
    "start_time": "2022-02-20T14:07:38.021Z"
   },
   {
    "duration": 31,
    "start_time": "2022-02-20T14:11:44.360Z"
   },
   {
    "duration": 26,
    "start_time": "2022-02-20T14:12:38.700Z"
   },
   {
    "duration": 29,
    "start_time": "2022-02-20T14:12:46.292Z"
   },
   {
    "duration": 36,
    "start_time": "2022-02-20T14:12:52.655Z"
   },
   {
    "duration": 38,
    "start_time": "2022-02-20T14:13:00.245Z"
   },
   {
    "duration": 39,
    "start_time": "2022-02-20T14:13:29.436Z"
   },
   {
    "duration": 37,
    "start_time": "2022-02-20T14:14:42.803Z"
   },
   {
    "duration": 86,
    "start_time": "2022-02-20T14:15:11.026Z"
   },
   {
    "duration": 29,
    "start_time": "2022-02-20T14:21:12.425Z"
   },
   {
    "duration": 37,
    "start_time": "2022-02-20T14:23:19.184Z"
   },
   {
    "duration": 13,
    "start_time": "2022-02-20T14:23:53.480Z"
   },
   {
    "duration": 38,
    "start_time": "2022-02-20T14:24:14.564Z"
   },
   {
    "duration": 241,
    "start_time": "2022-02-20T14:25:12.236Z"
   },
   {
    "duration": 1382,
    "start_time": "2022-02-20T14:25:56.381Z"
   },
   {
    "duration": 19,
    "start_time": "2022-02-20T14:25:57.765Z"
   },
   {
    "duration": 51,
    "start_time": "2022-02-20T14:25:57.786Z"
   },
   {
    "duration": 21,
    "start_time": "2022-02-20T14:25:57.839Z"
   },
   {
    "duration": 18,
    "start_time": "2022-02-20T14:25:57.863Z"
   },
   {
    "duration": 16,
    "start_time": "2022-02-20T14:25:57.883Z"
   },
   {
    "duration": 27,
    "start_time": "2022-02-20T14:25:57.901Z"
   },
   {
    "duration": 26,
    "start_time": "2022-02-20T14:25:57.931Z"
   },
   {
    "duration": 9,
    "start_time": "2022-02-20T14:25:57.959Z"
   },
   {
    "duration": 10,
    "start_time": "2022-02-20T14:25:57.970Z"
   },
   {
    "duration": 8,
    "start_time": "2022-02-20T14:25:57.982Z"
   },
   {
    "duration": 12,
    "start_time": "2022-02-20T14:25:57.993Z"
   },
   {
    "duration": 7,
    "start_time": "2022-02-20T14:25:58.007Z"
   },
   {
    "duration": 16,
    "start_time": "2022-02-20T14:25:58.017Z"
   },
   {
    "duration": 10,
    "start_time": "2022-02-20T14:25:58.036Z"
   },
   {
    "duration": 16,
    "start_time": "2022-02-20T14:25:58.049Z"
   },
   {
    "duration": 17,
    "start_time": "2022-02-20T14:25:58.067Z"
   },
   {
    "duration": 12,
    "start_time": "2022-02-20T14:25:58.087Z"
   },
   {
    "duration": 9,
    "start_time": "2022-02-20T14:25:58.101Z"
   },
   {
    "duration": 9,
    "start_time": "2022-02-20T14:25:58.112Z"
   },
   {
    "duration": 9,
    "start_time": "2022-02-20T14:25:58.124Z"
   },
   {
    "duration": 11,
    "start_time": "2022-02-20T14:25:58.136Z"
   },
   {
    "duration": 71,
    "start_time": "2022-02-20T14:25:58.151Z"
   },
   {
    "duration": 397,
    "start_time": "2022-02-20T14:25:58.224Z"
   },
   {
    "duration": 18,
    "start_time": "2022-02-20T14:25:58.623Z"
   },
   {
    "duration": 12,
    "start_time": "2022-02-20T14:25:58.643Z"
   },
   {
    "duration": 12,
    "start_time": "2022-02-20T14:25:58.657Z"
   },
   {
    "duration": 20,
    "start_time": "2022-02-20T14:25:58.671Z"
   },
   {
    "duration": 38,
    "start_time": "2022-02-20T14:25:58.708Z"
   },
   {
    "duration": 6,
    "start_time": "2022-02-20T14:25:58.748Z"
   },
   {
    "duration": 11,
    "start_time": "2022-02-20T14:30:39.814Z"
   },
   {
    "duration": 6,
    "start_time": "2022-02-20T14:35:29.746Z"
   },
   {
    "duration": 4,
    "start_time": "2022-02-20T14:35:36.218Z"
   },
   {
    "duration": 7,
    "start_time": "2022-02-20T14:35:52.155Z"
   },
   {
    "duration": 4,
    "start_time": "2022-02-20T14:36:05.051Z"
   },
   {
    "duration": 96,
    "start_time": "2022-02-20T14:39:30.836Z"
   },
   {
    "duration": 701,
    "start_time": "2022-02-20T14:39:38.009Z"
   },
   {
    "duration": 88,
    "start_time": "2022-02-20T14:40:07.071Z"
   },
   {
    "duration": 4,
    "start_time": "2022-02-20T14:40:11.166Z"
   },
   {
    "duration": 8,
    "start_time": "2022-02-20T14:40:30.379Z"
   },
   {
    "duration": 257,
    "start_time": "2022-02-20T14:41:13.290Z"
   },
   {
    "duration": 5,
    "start_time": "2022-02-20T14:41:18.586Z"
   },
   {
    "duration": 7,
    "start_time": "2022-02-20T14:41:32.204Z"
   },
   {
    "duration": 6,
    "start_time": "2022-02-20T14:41:48.152Z"
   },
   {
    "duration": 4,
    "start_time": "2022-02-20T14:44:38.906Z"
   },
   {
    "duration": 5,
    "start_time": "2022-02-20T14:44:50.981Z"
   },
   {
    "duration": 4,
    "start_time": "2022-02-20T14:47:00.683Z"
   },
   {
    "duration": 4,
    "start_time": "2022-02-20T14:47:34.708Z"
   },
   {
    "duration": 96,
    "start_time": "2022-02-20T14:49:04.301Z"
   },
   {
    "duration": 5,
    "start_time": "2022-02-20T14:50:32.882Z"
   },
   {
    "duration": 3,
    "start_time": "2022-02-20T14:51:42.912Z"
   },
   {
    "duration": 1307,
    "start_time": "2022-02-20T14:53:06.928Z"
   },
   {
    "duration": 15,
    "start_time": "2022-02-20T14:53:08.237Z"
   },
   {
    "duration": 25,
    "start_time": "2022-02-20T14:53:08.254Z"
   },
   {
    "duration": 7,
    "start_time": "2022-02-20T14:53:08.281Z"
   },
   {
    "duration": 28,
    "start_time": "2022-02-20T14:53:08.290Z"
   },
   {
    "duration": 7,
    "start_time": "2022-02-20T14:53:08.320Z"
   },
   {
    "duration": 15,
    "start_time": "2022-02-20T14:53:08.329Z"
   },
   {
    "duration": 7,
    "start_time": "2022-02-20T14:53:08.347Z"
   },
   {
    "duration": 6,
    "start_time": "2022-02-20T14:53:08.357Z"
   },
   {
    "duration": 10,
    "start_time": "2022-02-20T14:53:08.365Z"
   },
   {
    "duration": 12,
    "start_time": "2022-02-20T14:53:08.377Z"
   },
   {
    "duration": 10,
    "start_time": "2022-02-20T14:53:08.391Z"
   },
   {
    "duration": 9,
    "start_time": "2022-02-20T14:53:08.403Z"
   },
   {
    "duration": 14,
    "start_time": "2022-02-20T14:53:08.414Z"
   },
   {
    "duration": 15,
    "start_time": "2022-02-20T14:53:08.430Z"
   },
   {
    "duration": 12,
    "start_time": "2022-02-20T14:53:08.447Z"
   },
   {
    "duration": 17,
    "start_time": "2022-02-20T14:53:08.461Z"
   },
   {
    "duration": 10,
    "start_time": "2022-02-20T14:53:08.481Z"
   },
   {
    "duration": 16,
    "start_time": "2022-02-20T14:53:08.493Z"
   },
   {
    "duration": 8,
    "start_time": "2022-02-20T14:53:08.511Z"
   },
   {
    "duration": 47,
    "start_time": "2022-02-20T14:53:08.521Z"
   },
   {
    "duration": 9,
    "start_time": "2022-02-20T14:53:08.569Z"
   },
   {
    "duration": 41,
    "start_time": "2022-02-20T14:53:08.580Z"
   },
   {
    "duration": 273,
    "start_time": "2022-02-20T14:53:08.623Z"
   },
   {
    "duration": 23,
    "start_time": "2022-02-20T14:53:08.898Z"
   },
   {
    "duration": 2,
    "start_time": "2022-02-20T14:53:08.923Z"
   },
   {
    "duration": 5,
    "start_time": "2022-02-20T14:53:08.929Z"
   },
   {
    "duration": 20,
    "start_time": "2022-02-20T14:53:08.936Z"
   },
   {
    "duration": 71,
    "start_time": "2022-02-20T14:53:08.958Z"
   },
   {
    "duration": 5,
    "start_time": "2022-02-20T14:53:09.031Z"
   },
   {
    "duration": 11,
    "start_time": "2022-02-20T14:53:09.038Z"
   },
   {
    "duration": 9,
    "start_time": "2022-02-20T14:53:09.051Z"
   },
   {
    "duration": 12,
    "start_time": "2022-02-20T14:53:09.061Z"
   },
   {
    "duration": 33,
    "start_time": "2022-02-20T14:53:09.075Z"
   },
   {
    "duration": 1338,
    "start_time": "2022-02-20T14:58:22.005Z"
   },
   {
    "duration": 15,
    "start_time": "2022-02-20T14:58:23.346Z"
   },
   {
    "duration": 14,
    "start_time": "2022-02-20T14:58:23.364Z"
   },
   {
    "duration": 32,
    "start_time": "2022-02-20T14:58:23.381Z"
   },
   {
    "duration": 11,
    "start_time": "2022-02-20T14:58:23.415Z"
   },
   {
    "duration": 3,
    "start_time": "2022-02-20T14:58:23.428Z"
   },
   {
    "duration": 6,
    "start_time": "2022-02-20T14:58:23.433Z"
   },
   {
    "duration": 7,
    "start_time": "2022-02-20T14:58:23.441Z"
   },
   {
    "duration": 5,
    "start_time": "2022-02-20T14:58:23.451Z"
   },
   {
    "duration": 7,
    "start_time": "2022-02-20T14:58:23.458Z"
   },
   {
    "duration": 40,
    "start_time": "2022-02-20T14:58:23.467Z"
   },
   {
    "duration": 9,
    "start_time": "2022-02-20T14:58:23.509Z"
   },
   {
    "duration": 10,
    "start_time": "2022-02-20T14:58:23.520Z"
   },
   {
    "duration": 11,
    "start_time": "2022-02-20T14:58:23.532Z"
   },
   {
    "duration": 13,
    "start_time": "2022-02-20T14:58:23.546Z"
   },
   {
    "duration": 11,
    "start_time": "2022-02-20T14:58:23.561Z"
   },
   {
    "duration": 10,
    "start_time": "2022-02-20T14:58:23.574Z"
   },
   {
    "duration": 13,
    "start_time": "2022-02-20T14:58:23.587Z"
   },
   {
    "duration": 15,
    "start_time": "2022-02-20T14:58:23.602Z"
   },
   {
    "duration": 30,
    "start_time": "2022-02-20T14:58:23.619Z"
   },
   {
    "duration": 14,
    "start_time": "2022-02-20T14:58:23.651Z"
   },
   {
    "duration": 21,
    "start_time": "2022-02-20T14:58:23.668Z"
   },
   {
    "duration": 41,
    "start_time": "2022-02-20T14:58:23.691Z"
   },
   {
    "duration": 276,
    "start_time": "2022-02-20T14:58:23.735Z"
   },
   {
    "duration": 16,
    "start_time": "2022-02-20T14:58:24.014Z"
   },
   {
    "duration": 4,
    "start_time": "2022-02-20T14:58:24.032Z"
   },
   {
    "duration": 10,
    "start_time": "2022-02-20T14:58:24.039Z"
   },
   {
    "duration": 31,
    "start_time": "2022-02-20T14:58:24.051Z"
   },
   {
    "duration": 59,
    "start_time": "2022-02-20T14:58:24.085Z"
   },
   {
    "duration": 7,
    "start_time": "2022-02-20T14:58:24.147Z"
   },
   {
    "duration": 9,
    "start_time": "2022-02-20T14:58:24.156Z"
   },
   {
    "duration": 42,
    "start_time": "2022-02-20T14:58:24.167Z"
   },
   {
    "duration": 22,
    "start_time": "2022-02-20T14:58:24.211Z"
   },
   {
    "duration": 4,
    "start_time": "2022-02-20T14:58:24.235Z"
   }
  ],
  "kernelspec": {
   "display_name": "Python 3",
   "language": "python",
   "name": "python3"
  },
  "language_info": {
   "codemirror_mode": {
    "name": "ipython",
    "version": 3
   },
   "file_extension": ".py",
   "mimetype": "text/x-python",
   "name": "python",
   "nbconvert_exporter": "python",
   "pygments_lexer": "ipython3",
   "version": "3.8.5"
  },
  "toc": {
   "base_numbering": 1,
   "nav_menu": {},
   "number_sections": true,
   "sideBar": true,
   "skip_h1_title": true,
   "title_cell": "Table of Contents",
   "title_sidebar": "Contents",
   "toc_cell": false,
   "toc_position": {},
   "toc_section_display": true,
   "toc_window_display": false
  }
 },
 "nbformat": 4,
 "nbformat_minor": 2
}
