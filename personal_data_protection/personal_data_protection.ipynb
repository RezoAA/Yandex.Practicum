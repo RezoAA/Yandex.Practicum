{
 "cells": [
  {
   "cell_type": "markdown",
   "metadata": {
    "toc": true
   },
   "source": [
    "<h1>Содержание<span class=\"tocSkip\"></span></h1>\n",
    "<div class=\"toc\"><ul class=\"toc-item\"><li><span><a href=\"#Загрузка-данных\" data-toc-modified-id=\"Загрузка-данных-1\"><span class=\"toc-item-num\">1&nbsp;&nbsp;</span>Загрузка данных</a></span><ul class=\"toc-item\"><li><span><a href=\"#Предообработка-данных\" data-toc-modified-id=\"Предообработка-данных-1.1\"><span class=\"toc-item-num\">1.1&nbsp;&nbsp;</span>Предообработка данных</a></span></li></ul></li><li><span><a href=\"#Умножение-матриц\" data-toc-modified-id=\"Умножение-матриц-2\"><span class=\"toc-item-num\">2&nbsp;&nbsp;</span>Умножение матриц</a></span></li><li><span><a href=\"#Алгоритм-преобразования\" data-toc-modified-id=\"Алгоритм-преобразования-3\"><span class=\"toc-item-num\">3&nbsp;&nbsp;</span>Алгоритм преобразования</a></span></li><li><span><a href=\"#Проверка-алгоритма\" data-toc-modified-id=\"Проверка-алгоритма-4\"><span class=\"toc-item-num\">4&nbsp;&nbsp;</span>Проверка алгоритма</a></span></li><li><span><a href=\"#Чек-лист-проверки\" data-toc-modified-id=\"Чек-лист-проверки-5\"><span class=\"toc-item-num\">5&nbsp;&nbsp;</span>Чек-лист проверки</a></span></li></ul></div>"
   ]
  },
  {
   "cell_type": "markdown",
   "metadata": {},
   "source": [
    "# Защита персональных данных клиентов"
   ]
  },
  {
   "cell_type": "markdown",
   "metadata": {},
   "source": [
    "Вам нужно защитить данные клиентов страховой компании «Хоть потоп». Разработайте такой метод преобразования данных, чтобы по ним было сложно восстановить персональную информацию. Обоснуйте корректность его работы.\n",
    "\n",
    "Нужно защитить данные, чтобы при преобразовании качество моделей машинного обучения не ухудшилось. Подбирать наилучшую модель не требуется."
   ]
  },
  {
   "cell_type": "markdown",
   "metadata": {},
   "source": [
    "## Загрузка данных"
   ]
  },
  {
   "cell_type": "code",
   "execution_count": 1,
   "metadata": {},
   "outputs": [],
   "source": [
    "# импортирую библиотеки для решения поставленных задач\n",
    "import pandas as pd\n",
    "import numpy as np\n",
    "from sklearn.datasets import make_spd_matrix\n",
    "from sklearn.model_selection import train_test_split\n",
    "from sklearn.linear_model import LinearRegression\n",
    "from sklearn.metrics import r2_score"
   ]
  },
  {
   "cell_type": "code",
   "execution_count": 2,
   "metadata": {},
   "outputs": [],
   "source": [
    "# открываем файл\n",
    "df = pd.read_csv('/datasets/insurance.csv')"
   ]
  },
  {
   "cell_type": "code",
   "execution_count": 3,
   "metadata": {},
   "outputs": [
    {
     "data": {
      "text/html": [
       "<div>\n",
       "<style scoped>\n",
       "    .dataframe tbody tr th:only-of-type {\n",
       "        vertical-align: middle;\n",
       "    }\n",
       "\n",
       "    .dataframe tbody tr th {\n",
       "        vertical-align: top;\n",
       "    }\n",
       "\n",
       "    .dataframe thead th {\n",
       "        text-align: right;\n",
       "    }\n",
       "</style>\n",
       "<table border=\"1\" class=\"dataframe\">\n",
       "  <thead>\n",
       "    <tr style=\"text-align: right;\">\n",
       "      <th></th>\n",
       "      <th>Пол</th>\n",
       "      <th>Возраст</th>\n",
       "      <th>Зарплата</th>\n",
       "      <th>Члены семьи</th>\n",
       "      <th>Страховые выплаты</th>\n",
       "    </tr>\n",
       "  </thead>\n",
       "  <tbody>\n",
       "    <tr>\n",
       "      <th>0</th>\n",
       "      <td>1</td>\n",
       "      <td>41.0</td>\n",
       "      <td>49600.0</td>\n",
       "      <td>1</td>\n",
       "      <td>0</td>\n",
       "    </tr>\n",
       "    <tr>\n",
       "      <th>1</th>\n",
       "      <td>0</td>\n",
       "      <td>46.0</td>\n",
       "      <td>38000.0</td>\n",
       "      <td>1</td>\n",
       "      <td>1</td>\n",
       "    </tr>\n",
       "    <tr>\n",
       "      <th>2</th>\n",
       "      <td>0</td>\n",
       "      <td>29.0</td>\n",
       "      <td>21000.0</td>\n",
       "      <td>0</td>\n",
       "      <td>0</td>\n",
       "    </tr>\n",
       "    <tr>\n",
       "      <th>3</th>\n",
       "      <td>0</td>\n",
       "      <td>21.0</td>\n",
       "      <td>41700.0</td>\n",
       "      <td>2</td>\n",
       "      <td>0</td>\n",
       "    </tr>\n",
       "    <tr>\n",
       "      <th>4</th>\n",
       "      <td>1</td>\n",
       "      <td>28.0</td>\n",
       "      <td>26100.0</td>\n",
       "      <td>0</td>\n",
       "      <td>0</td>\n",
       "    </tr>\n",
       "  </tbody>\n",
       "</table>\n",
       "</div>"
      ],
      "text/plain": [
       "   Пол  Возраст  Зарплата  Члены семьи  Страховые выплаты\n",
       "0    1     41.0   49600.0            1                  0\n",
       "1    0     46.0   38000.0            1                  1\n",
       "2    0     29.0   21000.0            0                  0\n",
       "3    0     21.0   41700.0            2                  0\n",
       "4    1     28.0   26100.0            0                  0"
      ]
     },
     "execution_count": 3,
     "metadata": {},
     "output_type": "execute_result"
    }
   ],
   "source": [
    "# посмотрим  первые 5 верхних строк датасета\n",
    "df.head()"
   ]
  },
  {
   "cell_type": "code",
   "execution_count": 4,
   "metadata": {},
   "outputs": [
    {
     "data": {
      "text/html": [
       "<div>\n",
       "<style scoped>\n",
       "    .dataframe tbody tr th:only-of-type {\n",
       "        vertical-align: middle;\n",
       "    }\n",
       "\n",
       "    .dataframe tbody tr th {\n",
       "        vertical-align: top;\n",
       "    }\n",
       "\n",
       "    .dataframe thead th {\n",
       "        text-align: right;\n",
       "    }\n",
       "</style>\n",
       "<table border=\"1\" class=\"dataframe\">\n",
       "  <thead>\n",
       "    <tr style=\"text-align: right;\">\n",
       "      <th></th>\n",
       "      <th>Пол</th>\n",
       "      <th>Возраст</th>\n",
       "      <th>Зарплата</th>\n",
       "      <th>Члены семьи</th>\n",
       "      <th>Страховые выплаты</th>\n",
       "    </tr>\n",
       "  </thead>\n",
       "  <tbody>\n",
       "    <tr>\n",
       "      <th>4995</th>\n",
       "      <td>0</td>\n",
       "      <td>28.0</td>\n",
       "      <td>35700.0</td>\n",
       "      <td>2</td>\n",
       "      <td>0</td>\n",
       "    </tr>\n",
       "    <tr>\n",
       "      <th>4996</th>\n",
       "      <td>0</td>\n",
       "      <td>34.0</td>\n",
       "      <td>52400.0</td>\n",
       "      <td>1</td>\n",
       "      <td>0</td>\n",
       "    </tr>\n",
       "    <tr>\n",
       "      <th>4997</th>\n",
       "      <td>0</td>\n",
       "      <td>20.0</td>\n",
       "      <td>33900.0</td>\n",
       "      <td>2</td>\n",
       "      <td>0</td>\n",
       "    </tr>\n",
       "    <tr>\n",
       "      <th>4998</th>\n",
       "      <td>1</td>\n",
       "      <td>22.0</td>\n",
       "      <td>32700.0</td>\n",
       "      <td>3</td>\n",
       "      <td>0</td>\n",
       "    </tr>\n",
       "    <tr>\n",
       "      <th>4999</th>\n",
       "      <td>1</td>\n",
       "      <td>28.0</td>\n",
       "      <td>40600.0</td>\n",
       "      <td>1</td>\n",
       "      <td>0</td>\n",
       "    </tr>\n",
       "  </tbody>\n",
       "</table>\n",
       "</div>"
      ],
      "text/plain": [
       "      Пол  Возраст  Зарплата  Члены семьи  Страховые выплаты\n",
       "4995    0     28.0   35700.0            2                  0\n",
       "4996    0     34.0   52400.0            1                  0\n",
       "4997    0     20.0   33900.0            2                  0\n",
       "4998    1     22.0   32700.0            3                  0\n",
       "4999    1     28.0   40600.0            1                  0"
      ]
     },
     "execution_count": 4,
     "metadata": {},
     "output_type": "execute_result"
    }
   ],
   "source": [
    "# посмотрим  первые 5 нижних строк датасета\n",
    "df.tail()"
   ]
  },
  {
   "cell_type": "code",
   "execution_count": 5,
   "metadata": {},
   "outputs": [
    {
     "name": "stdout",
     "output_type": "stream",
     "text": [
      "<class 'pandas.core.frame.DataFrame'>\n",
      "RangeIndex: 5000 entries, 0 to 4999\n",
      "Data columns (total 5 columns):\n",
      " #   Column             Non-Null Count  Dtype  \n",
      "---  ------             --------------  -----  \n",
      " 0   Пол                5000 non-null   int64  \n",
      " 1   Возраст            5000 non-null   float64\n",
      " 2   Зарплата           5000 non-null   float64\n",
      " 3   Члены семьи        5000 non-null   int64  \n",
      " 4   Страховые выплаты  5000 non-null   int64  \n",
      "dtypes: float64(2), int64(3)\n",
      "memory usage: 195.4 KB\n"
     ]
    }
   ],
   "source": [
    "# посмотрим информацию в целом о датасете\n",
    "df.info()"
   ]
  },
  {
   "cell_type": "markdown",
   "metadata": {},
   "source": [
    "**Вывод:**\n",
    "- наименования атрибутов представлены на русском языке, предлагается переименовать на английский;\n",
    "- не соблюден змеиный регистр (нижний регистр);\n",
    "- значений NaN (отсутствующее в ячейке число), None (нечисловой тип 'NoneType') при первичном осмотре не установлены;\n",
    "- типы данных соответствуют логике атрибутов;\n",
    "- необходимо проверить данные на наличие дубликатов."
   ]
  },
  {
   "cell_type": "markdown",
   "metadata": {},
   "source": [
    "### Предообработка данных"
   ]
  },
  {
   "cell_type": "code",
   "execution_count": 6,
   "metadata": {},
   "outputs": [],
   "source": [
    "# изменим на английский язык названия столбцов\n",
    "# сохраним измененный датасет в переменную df_eng\n",
    "df_eng = df.set_axis(['gender','age','salary','family_member','insurance_payments'],axis = 'columns',inplace = False)"
   ]
  },
  {
   "cell_type": "code",
   "execution_count": 7,
   "metadata": {},
   "outputs": [
    {
     "data": {
      "text/plain": [
       "gender                0\n",
       "age                   0\n",
       "salary                0\n",
       "family_member         0\n",
       "insurance_payments    0\n",
       "dtype: int64"
      ]
     },
     "execution_count": 7,
     "metadata": {},
     "output_type": "execute_result"
    }
   ],
   "source": [
    "# проведем подсчёт пропущенных значений\n",
    "df_eng.isna().sum()"
   ]
  },
  {
   "cell_type": "code",
   "execution_count": 8,
   "metadata": {},
   "outputs": [
    {
     "data": {
      "text/plain": [
       "153"
      ]
     },
     "execution_count": 8,
     "metadata": {},
     "output_type": "execute_result"
    }
   ],
   "source": [
    "# проведем подсчет суммы дубликатов если они конечно есть\n",
    "df_eng.duplicated().sum()"
   ]
  },
  {
   "cell_type": "markdown",
   "metadata": {},
   "source": [
    "*153 дубликата выявлено.Оносительно 5 тысяч строк в датасете количество выявленных дубликатов незначительно и их удаление не скажется на качестве данных для проведения анализа. Удаляем дубликаты.*"
   ]
  },
  {
   "cell_type": "code",
   "execution_count": 9,
   "metadata": {},
   "outputs": [],
   "source": [
    "# удаление дубликатов\n",
    "df_personal_data = df_eng.drop_duplicates().reset_index(drop=True)"
   ]
  },
  {
   "cell_type": "code",
   "execution_count": 10,
   "metadata": {},
   "outputs": [
    {
     "data": {
      "text/plain": [
       "0"
      ]
     },
     "execution_count": 10,
     "metadata": {},
     "output_type": "execute_result"
    }
   ],
   "source": [
    "# проведем подсчет суммы дубликатов после их удаления\n",
    "df_personal_data.duplicated().sum()"
   ]
  },
  {
   "cell_type": "code",
   "execution_count": 11,
   "metadata": {},
   "outputs": [
    {
     "name": "stdout",
     "output_type": "stream",
     "text": [
      "<class 'pandas.core.frame.DataFrame'>\n",
      "RangeIndex: 4847 entries, 0 to 4846\n",
      "Data columns (total 5 columns):\n",
      " #   Column              Non-Null Count  Dtype  \n",
      "---  ------              --------------  -----  \n",
      " 0   gender              4847 non-null   int64  \n",
      " 1   age                 4847 non-null   float64\n",
      " 2   salary              4847 non-null   float64\n",
      " 3   family_member       4847 non-null   int64  \n",
      " 4   insurance_payments  4847 non-null   int64  \n",
      "dtypes: float64(2), int64(3)\n",
      "memory usage: 189.5 KB\n"
     ]
    }
   ],
   "source": [
    "# посмотрим информацию в целом о пройденном предобработку датасете\n",
    "df_personal_data.info()"
   ]
  },
  {
   "cell_type": "markdown",
   "metadata": {},
   "source": [
    "**Вывод:** \n",
    "\n",
    "*Предообработка проведена, намеченные планы по визуальному осмотру данных, в том числе по итогам осмотра с помощью специнструментов проделана. Можем приступать к следующему этапу работы.*"
   ]
  },
  {
   "cell_type": "markdown",
   "metadata": {},
   "source": [
    "## Умножение матриц"
   ]
  },
  {
   "cell_type": "markdown",
   "metadata": {},
   "source": [
    "В этом задании вы можете записывать формулы в *Jupyter Notebook.*\n",
    "\n",
    "Чтобы записать формулу внутри текста, окружите её символами доллара \\\\$; если снаружи —  двойными символами \\\\$\\\\$. Эти формулы записываются на языке вёрстки *LaTeX.* \n",
    "\n",
    "Для примера мы записали формулы линейной регрессии. Можете их скопировать и отредактировать, чтобы решить задачу.\n",
    "\n",
    "Работать в *LaTeX* необязательно."
   ]
  },
  {
   "cell_type": "markdown",
   "metadata": {},
   "source": [
    "Обозначения:\n",
    "\n",
    "- $X$ — матрица признаков (нулевой столбец состоит из единиц)\n",
    "\n",
    "- $y$ — вектор целевого признака\n",
    "\n",
    "- $P$ — матрица, на которую умножаются признаки\n",
    "\n",
    "- $w$ — вектор весов линейной регрессии (нулевой элемент равен сдвигу)"
   ]
  },
  {
   "cell_type": "markdown",
   "metadata": {},
   "source": [
    "Предсказания:\n",
    "\n",
    "$$\n",
    "a = Xw\n",
    "$$\n",
    "\n",
    "Задача обучения:\n",
    "\n",
    "$$\n",
    "w = \\arg\\min_w MSE(Xw, y)\n",
    "$$\n",
    "\n",
    "Формула обучения:\n",
    "\n",
    "$$\n",
    "w = (X^T X)^{-1} X^T y\n",
    "$$"
   ]
  },
  {
   "cell_type": "markdown",
   "metadata": {},
   "source": [
    "**Вопрос** \n",
    "\n",
    "*Признаки умножают на обратимую матрицу. Изменится ли качество линейной регрессии? (Её можно обучить заново.)*\n",
    "- a. Изменится. Приведите примеры матриц.\n",
    "- b. Не изменится. Укажите, как связаны параметры линейной регрессии в исходной задаче и в преобразованной."
   ]
  },
  {
   "cell_type": "markdown",
   "metadata": {},
   "source": [
    "**Ответ:** b. Не изменится.\n",
    "\n",
    "**Обоснование:** \n",
    "$$\n",
    "a = Xw = a' = XPw' ((XP)^TXP)^{-1}(XP)^Ty=(P^TX^TXP)^{-1}=P^{-1}(X^TX)^{-1}(P^T)^{-1}(P^T)(X^Ty)=P^{-1}(X^TX)^{-1}(X^Ty)=(P^{-1}w)\n",
    "$$"
   ]
  },
  {
   "cell_type": "markdown",
   "metadata": {},
   "source": [
    "*параметры линейной регрессии в исходной задаче и в преобразованной связаны через веса матрицы, которая может быть умножена на обратную матрицу*"
   ]
  },
  {
   "cell_type": "markdown",
   "metadata": {},
   "source": [
    "## Алгоритм преобразования"
   ]
  },
  {
   "cell_type": "markdown",
   "metadata": {},
   "source": [
    "**Алгоритм:**\n",
    "\n",
    "- создаем случайную обратимую матрицу Y\n",
    "- умножаем признаки матрицы Х на матрицу Y"
   ]
  },
  {
   "cell_type": "markdown",
   "metadata": {},
   "source": [
    "**Обоснование**\n",
    "\n",
    "$$ XYY^{-1}=X$$"
   ]
  },
  {
   "cell_type": "markdown",
   "metadata": {},
   "source": [
    "## Проверка алгоритма"
   ]
  },
  {
   "cell_type": "code",
   "execution_count": 12,
   "metadata": {},
   "outputs": [],
   "source": [
    "# подготовим фичи\n",
    "features = df_personal_data.drop('insurance_payments', axis=1)"
   ]
  },
  {
   "cell_type": "code",
   "execution_count": 13,
   "metadata": {},
   "outputs": [],
   "source": [
    "# подготовим целевые признаки\n",
    "target = df_personal_data['insurance_payments']"
   ]
  },
  {
   "cell_type": "code",
   "execution_count": 14,
   "metadata": {},
   "outputs": [],
   "source": [
    "# используем библиотеку from sklearn.datasets import make_spd_matrix и создадим слуайную, обратимую матрицу\n",
    "matrix = make_spd_matrix(n_dim=4, random_state=12345)"
   ]
  },
  {
   "cell_type": "code",
   "execution_count": 15,
   "metadata": {},
   "outputs": [],
   "source": [
    "# умножаем признаки матрицы Х (features) на матрицу Y (matrix) \n",
    "matrix_x = (features.dot(matrix)) "
   ]
  },
  {
   "cell_type": "code",
   "execution_count": 16,
   "metadata": {},
   "outputs": [
    {
     "data": {
      "text/html": [
       "<div>\n",
       "<style scoped>\n",
       "    .dataframe tbody tr th:only-of-type {\n",
       "        vertical-align: middle;\n",
       "    }\n",
       "\n",
       "    .dataframe tbody tr th {\n",
       "        vertical-align: top;\n",
       "    }\n",
       "\n",
       "    .dataframe thead th {\n",
       "        text-align: right;\n",
       "    }\n",
       "</style>\n",
       "<table border=\"1\" class=\"dataframe\">\n",
       "  <thead>\n",
       "    <tr style=\"text-align: right;\">\n",
       "      <th></th>\n",
       "      <th>0</th>\n",
       "      <th>1</th>\n",
       "      <th>2</th>\n",
       "      <th>3</th>\n",
       "    </tr>\n",
       "  </thead>\n",
       "  <tbody>\n",
       "    <tr>\n",
       "      <th>0</th>\n",
       "      <td>1.000000e+00</td>\n",
       "      <td>41.0</td>\n",
       "      <td>49600.0</td>\n",
       "      <td>1.000000e+00</td>\n",
       "    </tr>\n",
       "    <tr>\n",
       "      <th>1</th>\n",
       "      <td>5.955746e-12</td>\n",
       "      <td>46.0</td>\n",
       "      <td>38000.0</td>\n",
       "      <td>1.000000e+00</td>\n",
       "    </tr>\n",
       "    <tr>\n",
       "      <th>2</th>\n",
       "      <td>-9.965056e-13</td>\n",
       "      <td>29.0</td>\n",
       "      <td>21000.0</td>\n",
       "      <td>-1.430738e-12</td>\n",
       "    </tr>\n",
       "    <tr>\n",
       "      <th>3</th>\n",
       "      <td>-1.023961e-12</td>\n",
       "      <td>21.0</td>\n",
       "      <td>41700.0</td>\n",
       "      <td>2.000000e+00</td>\n",
       "    </tr>\n",
       "    <tr>\n",
       "      <th>4</th>\n",
       "      <td>1.000000e+00</td>\n",
       "      <td>28.0</td>\n",
       "      <td>26100.0</td>\n",
       "      <td>-2.136585e-12</td>\n",
       "    </tr>\n",
       "  </tbody>\n",
       "</table>\n",
       "</div>"
      ],
      "text/plain": [
       "              0     1        2             3\n",
       "0  1.000000e+00  41.0  49600.0  1.000000e+00\n",
       "1  5.955746e-12  46.0  38000.0  1.000000e+00\n",
       "2 -9.965056e-13  29.0  21000.0 -1.430738e-12\n",
       "3 -1.023961e-12  21.0  41700.0  2.000000e+00\n",
       "4  1.000000e+00  28.0  26100.0 -2.136585e-12"
      ]
     },
     "execution_count": 16,
     "metadata": {},
     "output_type": "execute_result"
    }
   ],
   "source": [
    "# попробуем восстановить данные и обратить процесс назад\n",
    "(matrix_x @ np.linalg.inv(matrix)).head()"
   ]
  },
  {
   "cell_type": "code",
   "execution_count": 17,
   "metadata": {},
   "outputs": [
    {
     "data": {
      "text/html": [
       "<div>\n",
       "<style scoped>\n",
       "    .dataframe tbody tr th:only-of-type {\n",
       "        vertical-align: middle;\n",
       "    }\n",
       "\n",
       "    .dataframe tbody tr th {\n",
       "        vertical-align: top;\n",
       "    }\n",
       "\n",
       "    .dataframe thead th {\n",
       "        text-align: right;\n",
       "    }\n",
       "</style>\n",
       "<table border=\"1\" class=\"dataframe\">\n",
       "  <thead>\n",
       "    <tr style=\"text-align: right;\">\n",
       "      <th></th>\n",
       "      <th>gender</th>\n",
       "      <th>age</th>\n",
       "      <th>salary</th>\n",
       "      <th>family_member</th>\n",
       "    </tr>\n",
       "  </thead>\n",
       "  <tbody>\n",
       "    <tr>\n",
       "      <th>0</th>\n",
       "      <td>1</td>\n",
       "      <td>41.0</td>\n",
       "      <td>49600.0</td>\n",
       "      <td>1</td>\n",
       "    </tr>\n",
       "    <tr>\n",
       "      <th>1</th>\n",
       "      <td>0</td>\n",
       "      <td>46.0</td>\n",
       "      <td>38000.0</td>\n",
       "      <td>1</td>\n",
       "    </tr>\n",
       "    <tr>\n",
       "      <th>2</th>\n",
       "      <td>0</td>\n",
       "      <td>29.0</td>\n",
       "      <td>21000.0</td>\n",
       "      <td>0</td>\n",
       "    </tr>\n",
       "    <tr>\n",
       "      <th>3</th>\n",
       "      <td>0</td>\n",
       "      <td>21.0</td>\n",
       "      <td>41700.0</td>\n",
       "      <td>2</td>\n",
       "    </tr>\n",
       "    <tr>\n",
       "      <th>4</th>\n",
       "      <td>1</td>\n",
       "      <td>28.0</td>\n",
       "      <td>26100.0</td>\n",
       "      <td>0</td>\n",
       "    </tr>\n",
       "  </tbody>\n",
       "</table>\n",
       "</div>"
      ],
      "text/plain": [
       "   gender   age   salary  family_member\n",
       "0       1  41.0  49600.0              1\n",
       "1       0  46.0  38000.0              1\n",
       "2       0  29.0  21000.0              0\n",
       "3       0  21.0  41700.0              2\n",
       "4       1  28.0  26100.0              0"
      ]
     },
     "execution_count": 17,
     "metadata": {},
     "output_type": "execute_result"
    }
   ],
   "source": [
    "# для сравнения посмотрим первые пять строк features\n",
    "features.head()"
   ]
  },
  {
   "cell_type": "markdown",
   "metadata": {},
   "source": [
    "**Вывод:**\n",
    "\n",
    "*Данные в таблцие практически идентичны*"
   ]
  },
  {
   "cell_type": "markdown",
   "metadata": {},
   "source": [
    "**Следующая задача (согласно Инструкции): запрограммируйте этот алгоритм, применив матричные операции. Проверьте, что качество линейной регрессии из sklearn не отличается до и после преобразования. Примените метрику R2.**"
   ]
  },
  {
   "cell_type": "code",
   "execution_count": 18,
   "metadata": {},
   "outputs": [],
   "source": [
    "# чтоб сократить количество кода создам функцию по разбиению датасета на обучающую и тестовую выборки\n",
    "# по фичам и таргетам\n",
    "def t_t_splitting(features, target):\n",
    "    features_train, features_test, target_train, target_test = train_test_split(features, target,\n",
    "                                                                     test_size=0.25, random_state=12345)\n",
    "    return features_train, features_test, target_train, target_test"
   ]
  },
  {
   "cell_type": "code",
   "execution_count": 19,
   "metadata": {},
   "outputs": [],
   "source": [
    "# применим функцию к созданным фичам и таргетам\n",
    "features_train, features_test, target_train, target_test = t_t_splitting(features, target)"
   ]
  },
  {
   "cell_type": "code",
   "execution_count": 20,
   "metadata": {},
   "outputs": [],
   "source": [
    "features_matrix_x_train, features_matrix_x_test, target_matrix_x_train, target_matrix_x_test = t_t_splitting(matrix_x, target)"
   ]
  },
  {
   "cell_type": "markdown",
   "metadata": {},
   "source": [
    "**Проведем сравнение качества моделей до и после преобразования. Применим метрику R2.**"
   ]
  },
  {
   "cell_type": "code",
   "execution_count": 21,
   "metadata": {},
   "outputs": [
    {
     "name": "stdout",
     "output_type": "stream",
     "text": [
      "0.42307727492147296\n"
     ]
    }
   ],
   "source": [
    "# до преобразования\n",
    "model = LinearRegression()\n",
    "model.fit(features_train, target_train)\n",
    "prediction = model.predict(features_test)\n",
    "print(r2_score(target_test, prediction))"
   ]
  },
  {
   "cell_type": "code",
   "execution_count": 22,
   "metadata": {},
   "outputs": [
    {
     "name": "stdout",
     "output_type": "stream",
     "text": [
      "0.42307727492177594\n"
     ]
    }
   ],
   "source": [
    "# после преобразования\n",
    "model = LinearRegression()\n",
    "model.fit(features_matrix_x_train, target_matrix_x_train)\n",
    "prediction_x = model.predict(features_matrix_x_test)\n",
    "print(r2_score(target_matrix_x_test, prediction_x))"
   ]
  },
  {
   "cell_type": "markdown",
   "metadata": {},
   "source": [
    "**Общий вывод:**\n",
    "- по результатам первичного осмотра датасета проведена предообработка данных для того, чтобы более качественно провести исследование;\n",
    "- далее создана случайная обратимая матрица. \n",
    "- умножили признаки на нашу обратимую матрицу. Таким образом мы зашифровали наши признаки.\n",
    "-  далее обучили модель и посмотрели изменится ли r2, если обучить модель на зашифрованных признаках. \n",
    "- проведено сравнение качества моделей до и после преобразования в результате которого установлено, что до и после преобразования значение r2 не изменились."
   ]
  },
  {
   "cell_type": "markdown",
   "metadata": {},
   "source": [
    "## Чек-лист проверки"
   ]
  },
  {
   "cell_type": "markdown",
   "metadata": {},
   "source": [
    "Поставьте 'x' в выполненных пунктах. Далее нажмите Shift+Enter."
   ]
  },
  {
   "cell_type": "markdown",
   "metadata": {},
   "source": [
    "- [x]  Jupyter Notebook открыт\n",
    "- [x]  Весь код выполняется без ошибок\n",
    "- [x]  Ячейки с кодом расположены в порядке исполнения\n",
    "- [x]  Выполнен шаг 1: данные загружены\n",
    "- [x]  Выполнен шаг 2: получен ответ на вопрос об умножении матриц\n",
    "    - [x]  Указан правильный вариант ответа\n",
    "    - [x]  Вариант обоснован\n",
    "- [x]  Выполнен шаг 3: предложен алгоритм преобразования\n",
    "    - [x]  Алгоритм описан\n",
    "    - [x]  Алгоритм обоснован\n",
    "- [x]  Выполнен шаг 4: алгоритм проверен\n",
    "    - [x]  Алгоритм реализован\n",
    "    - [x]  Проведено сравнение качества моделей до и после преобразования"
   ]
  }
 ],
 "metadata": {
  "ExecuteTimeLog": [
   {
    "duration": 464,
    "start_time": "2022-04-12T14:50:02.560Z"
   },
   {
    "duration": 34,
    "start_time": "2022-04-12T14:50:47.620Z"
   },
   {
    "duration": 15,
    "start_time": "2022-04-12T14:51:32.868Z"
   },
   {
    "duration": 8,
    "start_time": "2022-04-12T14:52:06.117Z"
   },
   {
    "duration": 10,
    "start_time": "2022-04-12T14:52:41.057Z"
   },
   {
    "duration": 562,
    "start_time": "2022-04-13T07:22:26.714Z"
   },
   {
    "duration": 15,
    "start_time": "2022-04-13T07:22:27.279Z"
   },
   {
    "duration": 24,
    "start_time": "2022-04-13T07:22:27.297Z"
   },
   {
    "duration": 12,
    "start_time": "2022-04-13T07:22:27.323Z"
   },
   {
    "duration": 28,
    "start_time": "2022-04-13T07:22:27.353Z"
   },
   {
    "duration": 21,
    "start_time": "2022-04-13T09:07:47.565Z"
   },
   {
    "duration": 13,
    "start_time": "2022-04-13T09:08:21.904Z"
   },
   {
    "duration": 21,
    "start_time": "2022-04-13T09:09:45.751Z"
   },
   {
    "duration": 587,
    "start_time": "2022-04-13T10:17:21.215Z"
   },
   {
    "duration": 14,
    "start_time": "2022-04-13T10:17:21.804Z"
   },
   {
    "duration": 40,
    "start_time": "2022-04-13T10:17:21.820Z"
   },
   {
    "duration": 14,
    "start_time": "2022-04-13T10:17:21.863Z"
   },
   {
    "duration": 23,
    "start_time": "2022-04-13T10:17:21.881Z"
   },
   {
    "duration": 47,
    "start_time": "2022-04-13T10:17:21.907Z"
   },
   {
    "duration": 28,
    "start_time": "2022-04-13T10:17:21.957Z"
   },
   {
    "duration": 494,
    "start_time": "2022-04-13T10:18:25.082Z"
   },
   {
    "duration": 15,
    "start_time": "2022-04-13T10:18:25.579Z"
   },
   {
    "duration": 22,
    "start_time": "2022-04-13T10:18:25.597Z"
   },
   {
    "duration": 32,
    "start_time": "2022-04-13T10:18:25.622Z"
   },
   {
    "duration": 25,
    "start_time": "2022-04-13T10:18:25.658Z"
   },
   {
    "duration": 5,
    "start_time": "2022-04-13T10:18:25.685Z"
   },
   {
    "duration": 12,
    "start_time": "2022-04-13T10:18:25.692Z"
   },
   {
    "duration": 544,
    "start_time": "2022-04-13T10:22:46.015Z"
   },
   {
    "duration": 16,
    "start_time": "2022-04-13T10:22:46.563Z"
   },
   {
    "duration": 22,
    "start_time": "2022-04-13T10:22:46.582Z"
   },
   {
    "duration": 12,
    "start_time": "2022-04-13T10:22:46.607Z"
   },
   {
    "duration": 51,
    "start_time": "2022-04-13T10:22:46.621Z"
   },
   {
    "duration": 5,
    "start_time": "2022-04-13T10:22:46.674Z"
   },
   {
    "duration": 11,
    "start_time": "2022-04-13T10:22:46.681Z"
   },
   {
    "duration": 5,
    "start_time": "2022-04-13T10:24:27.076Z"
   },
   {
    "duration": 8,
    "start_time": "2022-04-13T10:30:20.402Z"
   },
   {
    "duration": 20,
    "start_time": "2022-04-13T10:40:35.670Z"
   },
   {
    "duration": 16,
    "start_time": "2022-04-13T10:41:14.069Z"
   },
   {
    "duration": 9,
    "start_time": "2022-04-13T10:41:42.922Z"
   },
   {
    "duration": 7,
    "start_time": "2022-04-13T10:43:37.591Z"
   },
   {
    "duration": 8,
    "start_time": "2022-04-13T10:43:39.140Z"
   },
   {
    "duration": 8,
    "start_time": "2022-04-13T10:43:58.766Z"
   },
   {
    "duration": 532,
    "start_time": "2022-04-13T10:44:04.612Z"
   },
   {
    "duration": 26,
    "start_time": "2022-04-13T10:44:05.147Z"
   },
   {
    "duration": 23,
    "start_time": "2022-04-13T10:44:05.175Z"
   },
   {
    "duration": 12,
    "start_time": "2022-04-13T10:44:05.202Z"
   },
   {
    "duration": 38,
    "start_time": "2022-04-13T10:44:05.215Z"
   },
   {
    "duration": 14,
    "start_time": "2022-04-13T10:44:05.257Z"
   },
   {
    "duration": 13,
    "start_time": "2022-04-13T10:44:05.273Z"
   },
   {
    "duration": 27,
    "start_time": "2022-04-13T10:44:05.288Z"
   },
   {
    "duration": 17,
    "start_time": "2022-04-13T10:44:05.317Z"
   },
   {
    "duration": 16,
    "start_time": "2022-04-13T10:44:05.338Z"
   },
   {
    "duration": 14,
    "start_time": "2022-04-13T10:45:17.367Z"
   },
   {
    "duration": 71,
    "start_time": "2022-04-13T14:12:15.595Z"
   },
   {
    "duration": 536,
    "start_time": "2022-04-13T14:12:24.584Z"
   },
   {
    "duration": 30,
    "start_time": "2022-04-13T14:12:25.123Z"
   },
   {
    "duration": 28,
    "start_time": "2022-04-13T14:12:25.156Z"
   },
   {
    "duration": 16,
    "start_time": "2022-04-13T14:12:25.186Z"
   },
   {
    "duration": 15,
    "start_time": "2022-04-13T14:12:25.206Z"
   },
   {
    "duration": 8,
    "start_time": "2022-04-13T14:12:25.224Z"
   },
   {
    "duration": 11,
    "start_time": "2022-04-13T14:12:25.234Z"
   },
   {
    "duration": 51,
    "start_time": "2022-04-13T14:12:25.247Z"
   },
   {
    "duration": 19,
    "start_time": "2022-04-13T14:12:25.301Z"
   },
   {
    "duration": 10,
    "start_time": "2022-04-13T14:12:25.323Z"
   },
   {
    "duration": 25,
    "start_time": "2022-04-13T14:12:25.336Z"
   },
   {
    "duration": 114,
    "start_time": "2022-04-13T14:12:25.363Z"
   },
   {
    "duration": 5,
    "start_time": "2022-04-13T14:13:18.009Z"
   },
   {
    "duration": 5,
    "start_time": "2022-04-13T14:14:52.093Z"
   },
   {
    "duration": 1675,
    "start_time": "2022-04-13T14:21:04.182Z"
   },
   {
    "duration": 31,
    "start_time": "2022-04-13T14:21:05.860Z"
   },
   {
    "duration": 26,
    "start_time": "2022-04-13T14:21:05.893Z"
   },
   {
    "duration": 12,
    "start_time": "2022-04-13T14:21:05.921Z"
   },
   {
    "duration": 16,
    "start_time": "2022-04-13T14:21:05.937Z"
   },
   {
    "duration": 4,
    "start_time": "2022-04-13T14:21:05.956Z"
   },
   {
    "duration": 14,
    "start_time": "2022-04-13T14:21:05.998Z"
   },
   {
    "duration": 9,
    "start_time": "2022-04-13T14:21:06.014Z"
   },
   {
    "duration": 7,
    "start_time": "2022-04-13T14:21:06.025Z"
   },
   {
    "duration": 8,
    "start_time": "2022-04-13T14:21:06.034Z"
   },
   {
    "duration": 52,
    "start_time": "2022-04-13T14:21:06.044Z"
   },
   {
    "duration": 19,
    "start_time": "2022-04-13T14:21:06.099Z"
   },
   {
    "duration": 7,
    "start_time": "2022-04-13T14:21:06.120Z"
   },
   {
    "duration": 6,
    "start_time": "2022-04-13T14:29:20.844Z"
   },
   {
    "duration": 145,
    "start_time": "2022-04-13T14:36:23.240Z"
   },
   {
    "duration": 5,
    "start_time": "2022-04-13T14:36:58.700Z"
   },
   {
    "duration": 22,
    "start_time": "2022-04-13T14:39:49.634Z"
   },
   {
    "duration": 16,
    "start_time": "2022-04-13T14:40:05.926Z"
   },
   {
    "duration": 14,
    "start_time": "2022-04-13T14:41:08.265Z"
   },
   {
    "duration": 4,
    "start_time": "2022-04-13T15:03:33.656Z"
   },
   {
    "duration": 5,
    "start_time": "2022-04-13T15:04:27.552Z"
   },
   {
    "duration": 8,
    "start_time": "2022-04-13T15:05:51.782Z"
   },
   {
    "duration": 1563,
    "start_time": "2022-04-14T06:57:41.565Z"
   },
   {
    "duration": 21,
    "start_time": "2022-04-14T06:57:43.131Z"
   },
   {
    "duration": 26,
    "start_time": "2022-04-14T06:57:43.154Z"
   },
   {
    "duration": 12,
    "start_time": "2022-04-14T06:57:43.182Z"
   },
   {
    "duration": 35,
    "start_time": "2022-04-14T06:57:43.197Z"
   },
   {
    "duration": 4,
    "start_time": "2022-04-14T06:57:43.234Z"
   },
   {
    "duration": 12,
    "start_time": "2022-04-14T06:57:43.241Z"
   },
   {
    "duration": 9,
    "start_time": "2022-04-14T06:57:43.255Z"
   },
   {
    "duration": 7,
    "start_time": "2022-04-14T06:57:43.266Z"
   },
   {
    "duration": 12,
    "start_time": "2022-04-14T06:57:43.275Z"
   },
   {
    "duration": 48,
    "start_time": "2022-04-14T06:57:43.289Z"
   },
   {
    "duration": 5,
    "start_time": "2022-04-14T06:57:43.339Z"
   },
   {
    "duration": 7,
    "start_time": "2022-04-14T06:57:43.346Z"
   },
   {
    "duration": 7,
    "start_time": "2022-04-14T06:57:43.357Z"
   },
   {
    "duration": 9,
    "start_time": "2022-04-14T06:57:43.366Z"
   },
   {
    "duration": 57,
    "start_time": "2022-04-14T06:57:43.378Z"
   },
   {
    "duration": 93,
    "start_time": "2022-04-14T06:57:43.437Z"
   },
   {
    "duration": 7,
    "start_time": "2022-04-14T06:57:43.532Z"
   },
   {
    "duration": 10,
    "start_time": "2022-04-14T06:57:43.541Z"
   },
   {
    "duration": 7,
    "start_time": "2022-04-14T06:57:43.553Z"
   },
   {
    "duration": 1589,
    "start_time": "2022-04-14T07:00:28.591Z"
   },
   {
    "duration": 16,
    "start_time": "2022-04-14T07:00:30.183Z"
   },
   {
    "duration": 34,
    "start_time": "2022-04-14T07:00:30.202Z"
   },
   {
    "duration": 20,
    "start_time": "2022-04-14T07:00:30.240Z"
   },
   {
    "duration": 28,
    "start_time": "2022-04-14T07:00:30.262Z"
   },
   {
    "duration": 7,
    "start_time": "2022-04-14T07:00:30.292Z"
   },
   {
    "duration": 27,
    "start_time": "2022-04-14T07:00:30.302Z"
   },
   {
    "duration": 9,
    "start_time": "2022-04-14T07:00:30.331Z"
   },
   {
    "duration": 12,
    "start_time": "2022-04-14T07:00:30.342Z"
   },
   {
    "duration": 30,
    "start_time": "2022-04-14T07:00:30.358Z"
   },
   {
    "duration": 16,
    "start_time": "2022-04-14T07:00:30.391Z"
   },
   {
    "duration": 18,
    "start_time": "2022-04-14T07:00:30.409Z"
   },
   {
    "duration": 9,
    "start_time": "2022-04-14T07:00:30.430Z"
   },
   {
    "duration": 11,
    "start_time": "2022-04-14T07:00:30.441Z"
   },
   {
    "duration": 18,
    "start_time": "2022-04-14T07:00:30.454Z"
   },
   {
    "duration": 54,
    "start_time": "2022-04-14T07:00:30.474Z"
   },
   {
    "duration": 96,
    "start_time": "2022-04-14T07:00:30.530Z"
   },
   {
    "duration": 17,
    "start_time": "2022-04-14T07:00:30.628Z"
   },
   {
    "duration": 21,
    "start_time": "2022-04-14T07:00:30.647Z"
   },
   {
    "duration": 21,
    "start_time": "2022-04-14T07:00:30.670Z"
   },
   {
    "duration": 14,
    "start_time": "2022-04-14T07:26:04.937Z"
   },
   {
    "duration": 148,
    "start_time": "2022-04-14T07:27:13.238Z"
   },
   {
    "duration": 16,
    "start_time": "2022-04-14T07:28:30.287Z"
   },
   {
    "duration": 25,
    "start_time": "2022-04-14T07:30:27.829Z"
   },
   {
    "duration": 25,
    "start_time": "2022-04-14T07:32:20.826Z"
   },
   {
    "duration": 1625,
    "start_time": "2022-04-14T07:32:37.507Z"
   },
   {
    "duration": 14,
    "start_time": "2022-04-14T07:32:39.135Z"
   },
   {
    "duration": 24,
    "start_time": "2022-04-14T07:32:39.151Z"
   },
   {
    "duration": 12,
    "start_time": "2022-04-14T07:32:39.177Z"
   },
   {
    "duration": 42,
    "start_time": "2022-04-14T07:32:39.192Z"
   },
   {
    "duration": 4,
    "start_time": "2022-04-14T07:32:39.237Z"
   },
   {
    "duration": 13,
    "start_time": "2022-04-14T07:32:39.243Z"
   },
   {
    "duration": 10,
    "start_time": "2022-04-14T07:32:39.258Z"
   },
   {
    "duration": 9,
    "start_time": "2022-04-14T07:32:39.270Z"
   },
   {
    "duration": 44,
    "start_time": "2022-04-14T07:32:39.282Z"
   },
   {
    "duration": 15,
    "start_time": "2022-04-14T07:32:39.328Z"
   },
   {
    "duration": 8,
    "start_time": "2022-04-14T07:32:39.345Z"
   },
   {
    "duration": 8,
    "start_time": "2022-04-14T07:32:39.355Z"
   },
   {
    "duration": 9,
    "start_time": "2022-04-14T07:32:39.367Z"
   },
   {
    "duration": 11,
    "start_time": "2022-04-14T07:32:39.378Z"
   },
   {
    "duration": 47,
    "start_time": "2022-04-14T07:32:39.391Z"
   },
   {
    "duration": 90,
    "start_time": "2022-04-14T07:32:39.441Z"
   },
   {
    "duration": 13,
    "start_time": "2022-04-14T07:32:39.534Z"
   },
   {
    "duration": 16,
    "start_time": "2022-04-14T07:32:39.550Z"
   },
   {
    "duration": 20,
    "start_time": "2022-04-14T07:32:39.568Z"
   },
   {
    "duration": 40,
    "start_time": "2022-04-14T07:32:39.591Z"
   },
   {
    "duration": 178,
    "start_time": "2022-04-14T07:32:39.633Z"
   },
   {
    "duration": 13,
    "start_time": "2022-04-14T07:43:31.514Z"
   },
   {
    "duration": 24,
    "start_time": "2022-04-14T07:43:35.306Z"
   },
   {
    "duration": 11,
    "start_time": "2022-04-14T07:44:11.022Z"
   },
   {
    "duration": 11,
    "start_time": "2022-04-14T07:46:05.696Z"
   },
   {
    "duration": 13,
    "start_time": "2022-04-14T07:46:07.096Z"
   },
   {
    "duration": 13,
    "start_time": "2022-04-14T07:46:19.845Z"
   },
   {
    "duration": 11,
    "start_time": "2022-04-14T07:46:23.633Z"
   },
   {
    "duration": 1606,
    "start_time": "2022-04-14T08:00:01.214Z"
   },
   {
    "duration": 15,
    "start_time": "2022-04-14T08:00:02.823Z"
   },
   {
    "duration": 2626,
    "start_time": "2022-04-14T08:00:02.840Z"
   },
   {
    "duration": 234,
    "start_time": "2022-04-14T08:00:05.468Z"
   },
   {
    "duration": 144,
    "start_time": "2022-04-14T08:00:05.705Z"
   },
   {
    "duration": 61,
    "start_time": "2022-04-14T08:00:05.852Z"
   },
   {
    "duration": 23,
    "start_time": "2022-04-14T08:00:05.916Z"
   },
   {
    "duration": 29,
    "start_time": "2022-04-14T08:00:05.941Z"
   },
   {
    "duration": 7,
    "start_time": "2022-04-14T08:00:05.972Z"
   },
   {
    "duration": 16,
    "start_time": "2022-04-14T08:00:05.982Z"
   },
   {
    "duration": 20,
    "start_time": "2022-04-14T08:00:06.001Z"
   },
   {
    "duration": 12,
    "start_time": "2022-04-14T08:00:06.023Z"
   },
   {
    "duration": 12,
    "start_time": "2022-04-14T08:00:06.037Z"
   },
   {
    "duration": 12,
    "start_time": "2022-04-14T08:00:06.054Z"
   },
   {
    "duration": 14,
    "start_time": "2022-04-14T08:00:06.069Z"
   },
   {
    "duration": 42,
    "start_time": "2022-04-14T08:00:06.085Z"
   },
   {
    "duration": 96,
    "start_time": "2022-04-14T08:00:06.131Z"
   },
   {
    "duration": 4,
    "start_time": "2022-04-14T08:00:06.237Z"
   },
   {
    "duration": 10,
    "start_time": "2022-04-14T08:00:06.243Z"
   },
   {
    "duration": 72,
    "start_time": "2022-04-14T08:00:06.255Z"
   },
   {
    "duration": 12,
    "start_time": "2022-04-14T08:00:06.330Z"
   },
   {
    "duration": 13,
    "start_time": "2022-04-14T08:00:06.345Z"
   },
   {
    "duration": 204,
    "start_time": "2022-04-14T11:31:37.003Z"
   },
   {
    "duration": 374,
    "start_time": "2022-04-14T11:35:43.126Z"
   }
  ],
  "kernelspec": {
   "display_name": "Python 3",
   "language": "python",
   "name": "python3"
  },
  "language_info": {
   "codemirror_mode": {
    "name": "ipython",
    "version": 3
   },
   "file_extension": ".py",
   "mimetype": "text/x-python",
   "name": "python",
   "nbconvert_exporter": "python",
   "pygments_lexer": "ipython3",
   "version": "3.8.5"
  },
  "toc": {
   "base_numbering": 1,
   "nav_menu": {},
   "number_sections": true,
   "sideBar": true,
   "skip_h1_title": true,
   "title_cell": "Содержание",
   "title_sidebar": "Contents",
   "toc_cell": true,
   "toc_position": {},
   "toc_section_display": true,
   "toc_window_display": true
  }
 },
 "nbformat": 4,
 "nbformat_minor": 2
}
