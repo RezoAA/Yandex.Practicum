{
 "cells": [
  {
   "cell_type": "markdown",
   "metadata": {},
   "source": [
    "# Отток клиентов"
   ]
  },
  {
   "cell_type": "markdown",
   "metadata": {},
   "source": [
    "Из «Бета-Банка» стали уходить клиенты. Каждый месяц. Немного, но заметно. Банковские маркетологи посчитали: сохранять текущих клиентов дешевле, чем привлекать новых.\n",
    "\n",
    "Нужно спрогнозировать, уйдёт клиент из банка в ближайшее время или нет. Вам предоставлены исторические данные о поведении клиентов и расторжении договоров с банком. \n",
    "\n",
    "Постройте модель с предельно большим значением *F1*-меры. Чтобы сдать проект успешно, нужно довести метрику до 0.59. Проверьте *F1*-меру на тестовой выборке самостоятельно.\n",
    "\n",
    "Дополнительно измеряйте *AUC-ROC*, сравнивайте её значение с *F1*-мерой.\n",
    "\n",
    "Источник данных: [https://www.kaggle.com/barelydedicated/bank-customer-churn-modeling](https://www.kaggle.com/barelydedicated/bank-customer-churn-modeling)"
   ]
  },
  {
   "cell_type": "markdown",
   "metadata": {},
   "source": [
    "## Подготовка данных"
   ]
  },
  {
   "cell_type": "code",
   "execution_count": 1,
   "metadata": {},
   "outputs": [],
   "source": [
    "# импортирую библиотеку pandas как главного инструмента для анализа структурных данных и временных рядов\n",
    "import pandas as pd\n",
    "# импортирую библиотеку seaborn как главного инструмента для визуализации\n",
    "import seaborn as sns\n",
    "# импортирую библиотеку matplotlib для работы с двумерными графиками\n",
    "import matplotlib.pyplot as plt\n",
    "# выберу стиль для plt инструментов\n",
    "plt.style.use('ggplot')\n",
    "# импортирую библиотеку scipy для выполнения математических, научных и инженерных расчётов\n",
    "from scipy import stats as st\n",
    "# импортирую библиотеку для работы со временем\n",
    "from datetime import datetime\n",
    "# импортирую библиотеку для работы с массивами данных. NumPy - основополагающая библиотека, необходимая для научных вычислений\n",
    "import numpy as np\n",
    "# импортирую библиотеку и инструменты Scikit-learn - интегратора классических алгоритмов машинного обучения\n",
    "# алгоритм классификации дерева решений\n",
    "from sklearn.tree import DecisionTreeClassifier\n",
    "from sklearn.tree import DecisionTreeRegressor\n",
    "# алгоритм классификации случайный лес\n",
    "from sklearn.ensemble import RandomForestClassifier\n",
    "# алгоритм классификации логическая регрессия\n",
    "from sklearn.linear_model import LogisticRegression \n",
    "from sklearn.ensemble import RandomForestRegressor\n",
    "from sklearn.linear_model import LinearRegression\n",
    "from sklearn.model_selection import train_test_split\n",
    "from sklearn.metrics import mean_squared_error\n",
    "from sklearn.metrics import accuracy_score\n",
    "from sklearn.preprocessing import OrdinalEncoder\n",
    "from sklearn.preprocessing import StandardScaler\n",
    "from sklearn.metrics import f1_score\n",
    "from sklearn.utils import shuffle\n",
    "from sklearn.metrics import roc_curve\n",
    "from sklearn.metrics import roc_auc_score\n",
    "from sklearn.metrics import precision_score, recall_score\n",
    "from sklearn.metrics import precision_recall_curve"
   ]
  },
  {
   "cell_type": "code",
   "execution_count": 2,
   "metadata": {},
   "outputs": [],
   "source": [
    "# открываем файл\n",
    "df = pd.read_csv('/datasets/Churn.csv')"
   ]
  },
  {
   "cell_type": "code",
   "execution_count": 3,
   "metadata": {},
   "outputs": [
    {
     "data": {
      "text/html": [
       "<div>\n",
       "<style scoped>\n",
       "    .dataframe tbody tr th:only-of-type {\n",
       "        vertical-align: middle;\n",
       "    }\n",
       "\n",
       "    .dataframe tbody tr th {\n",
       "        vertical-align: top;\n",
       "    }\n",
       "\n",
       "    .dataframe thead th {\n",
       "        text-align: right;\n",
       "    }\n",
       "</style>\n",
       "<table border=\"1\" class=\"dataframe\">\n",
       "  <thead>\n",
       "    <tr style=\"text-align: right;\">\n",
       "      <th></th>\n",
       "      <th>RowNumber</th>\n",
       "      <th>CustomerId</th>\n",
       "      <th>Surname</th>\n",
       "      <th>CreditScore</th>\n",
       "      <th>Geography</th>\n",
       "      <th>Gender</th>\n",
       "      <th>Age</th>\n",
       "      <th>Tenure</th>\n",
       "      <th>Balance</th>\n",
       "      <th>NumOfProducts</th>\n",
       "      <th>HasCrCard</th>\n",
       "      <th>IsActiveMember</th>\n",
       "      <th>EstimatedSalary</th>\n",
       "      <th>Exited</th>\n",
       "    </tr>\n",
       "  </thead>\n",
       "  <tbody>\n",
       "    <tr>\n",
       "      <td>0</td>\n",
       "      <td>1</td>\n",
       "      <td>15634602</td>\n",
       "      <td>Hargrave</td>\n",
       "      <td>619</td>\n",
       "      <td>France</td>\n",
       "      <td>Female</td>\n",
       "      <td>42</td>\n",
       "      <td>2.0</td>\n",
       "      <td>0.00</td>\n",
       "      <td>1</td>\n",
       "      <td>1</td>\n",
       "      <td>1</td>\n",
       "      <td>101348.88</td>\n",
       "      <td>1</td>\n",
       "    </tr>\n",
       "    <tr>\n",
       "      <td>1</td>\n",
       "      <td>2</td>\n",
       "      <td>15647311</td>\n",
       "      <td>Hill</td>\n",
       "      <td>608</td>\n",
       "      <td>Spain</td>\n",
       "      <td>Female</td>\n",
       "      <td>41</td>\n",
       "      <td>1.0</td>\n",
       "      <td>83807.86</td>\n",
       "      <td>1</td>\n",
       "      <td>0</td>\n",
       "      <td>1</td>\n",
       "      <td>112542.58</td>\n",
       "      <td>0</td>\n",
       "    </tr>\n",
       "    <tr>\n",
       "      <td>2</td>\n",
       "      <td>3</td>\n",
       "      <td>15619304</td>\n",
       "      <td>Onio</td>\n",
       "      <td>502</td>\n",
       "      <td>France</td>\n",
       "      <td>Female</td>\n",
       "      <td>42</td>\n",
       "      <td>8.0</td>\n",
       "      <td>159660.80</td>\n",
       "      <td>3</td>\n",
       "      <td>1</td>\n",
       "      <td>0</td>\n",
       "      <td>113931.57</td>\n",
       "      <td>1</td>\n",
       "    </tr>\n",
       "    <tr>\n",
       "      <td>3</td>\n",
       "      <td>4</td>\n",
       "      <td>15701354</td>\n",
       "      <td>Boni</td>\n",
       "      <td>699</td>\n",
       "      <td>France</td>\n",
       "      <td>Female</td>\n",
       "      <td>39</td>\n",
       "      <td>1.0</td>\n",
       "      <td>0.00</td>\n",
       "      <td>2</td>\n",
       "      <td>0</td>\n",
       "      <td>0</td>\n",
       "      <td>93826.63</td>\n",
       "      <td>0</td>\n",
       "    </tr>\n",
       "    <tr>\n",
       "      <td>4</td>\n",
       "      <td>5</td>\n",
       "      <td>15737888</td>\n",
       "      <td>Mitchell</td>\n",
       "      <td>850</td>\n",
       "      <td>Spain</td>\n",
       "      <td>Female</td>\n",
       "      <td>43</td>\n",
       "      <td>2.0</td>\n",
       "      <td>125510.82</td>\n",
       "      <td>1</td>\n",
       "      <td>1</td>\n",
       "      <td>1</td>\n",
       "      <td>79084.10</td>\n",
       "      <td>0</td>\n",
       "    </tr>\n",
       "  </tbody>\n",
       "</table>\n",
       "</div>"
      ],
      "text/plain": [
       "   RowNumber  CustomerId   Surname  CreditScore Geography  Gender  Age  \\\n",
       "0          1    15634602  Hargrave          619    France  Female   42   \n",
       "1          2    15647311      Hill          608     Spain  Female   41   \n",
       "2          3    15619304      Onio          502    France  Female   42   \n",
       "3          4    15701354      Boni          699    France  Female   39   \n",
       "4          5    15737888  Mitchell          850     Spain  Female   43   \n",
       "\n",
       "   Tenure    Balance  NumOfProducts  HasCrCard  IsActiveMember  \\\n",
       "0     2.0       0.00              1          1               1   \n",
       "1     1.0   83807.86              1          0               1   \n",
       "2     8.0  159660.80              3          1               0   \n",
       "3     1.0       0.00              2          0               0   \n",
       "4     2.0  125510.82              1          1               1   \n",
       "\n",
       "   EstimatedSalary  Exited  \n",
       "0        101348.88       1  \n",
       "1        112542.58       0  \n",
       "2        113931.57       1  \n",
       "3         93826.63       0  \n",
       "4         79084.10       0  "
      ]
     },
     "execution_count": 3,
     "metadata": {},
     "output_type": "execute_result"
    }
   ],
   "source": [
    "# начинаем изучать файл\n",
    "df.head()"
   ]
  },
  {
   "cell_type": "code",
   "execution_count": 4,
   "metadata": {},
   "outputs": [
    {
     "data": {
      "text/html": [
       "<div>\n",
       "<style scoped>\n",
       "    .dataframe tbody tr th:only-of-type {\n",
       "        vertical-align: middle;\n",
       "    }\n",
       "\n",
       "    .dataframe tbody tr th {\n",
       "        vertical-align: top;\n",
       "    }\n",
       "\n",
       "    .dataframe thead th {\n",
       "        text-align: right;\n",
       "    }\n",
       "</style>\n",
       "<table border=\"1\" class=\"dataframe\">\n",
       "  <thead>\n",
       "    <tr style=\"text-align: right;\">\n",
       "      <th></th>\n",
       "      <th>RowNumber</th>\n",
       "      <th>CustomerId</th>\n",
       "      <th>Surname</th>\n",
       "      <th>CreditScore</th>\n",
       "      <th>Geography</th>\n",
       "      <th>Gender</th>\n",
       "      <th>Age</th>\n",
       "      <th>Tenure</th>\n",
       "      <th>Balance</th>\n",
       "      <th>NumOfProducts</th>\n",
       "      <th>HasCrCard</th>\n",
       "      <th>IsActiveMember</th>\n",
       "      <th>EstimatedSalary</th>\n",
       "      <th>Exited</th>\n",
       "    </tr>\n",
       "  </thead>\n",
       "  <tbody>\n",
       "    <tr>\n",
       "      <td>9995</td>\n",
       "      <td>9996</td>\n",
       "      <td>15606229</td>\n",
       "      <td>Obijiaku</td>\n",
       "      <td>771</td>\n",
       "      <td>France</td>\n",
       "      <td>Male</td>\n",
       "      <td>39</td>\n",
       "      <td>5.0</td>\n",
       "      <td>0.00</td>\n",
       "      <td>2</td>\n",
       "      <td>1</td>\n",
       "      <td>0</td>\n",
       "      <td>96270.64</td>\n",
       "      <td>0</td>\n",
       "    </tr>\n",
       "    <tr>\n",
       "      <td>9996</td>\n",
       "      <td>9997</td>\n",
       "      <td>15569892</td>\n",
       "      <td>Johnstone</td>\n",
       "      <td>516</td>\n",
       "      <td>France</td>\n",
       "      <td>Male</td>\n",
       "      <td>35</td>\n",
       "      <td>10.0</td>\n",
       "      <td>57369.61</td>\n",
       "      <td>1</td>\n",
       "      <td>1</td>\n",
       "      <td>1</td>\n",
       "      <td>101699.77</td>\n",
       "      <td>0</td>\n",
       "    </tr>\n",
       "    <tr>\n",
       "      <td>9997</td>\n",
       "      <td>9998</td>\n",
       "      <td>15584532</td>\n",
       "      <td>Liu</td>\n",
       "      <td>709</td>\n",
       "      <td>France</td>\n",
       "      <td>Female</td>\n",
       "      <td>36</td>\n",
       "      <td>7.0</td>\n",
       "      <td>0.00</td>\n",
       "      <td>1</td>\n",
       "      <td>0</td>\n",
       "      <td>1</td>\n",
       "      <td>42085.58</td>\n",
       "      <td>1</td>\n",
       "    </tr>\n",
       "    <tr>\n",
       "      <td>9998</td>\n",
       "      <td>9999</td>\n",
       "      <td>15682355</td>\n",
       "      <td>Sabbatini</td>\n",
       "      <td>772</td>\n",
       "      <td>Germany</td>\n",
       "      <td>Male</td>\n",
       "      <td>42</td>\n",
       "      <td>3.0</td>\n",
       "      <td>75075.31</td>\n",
       "      <td>2</td>\n",
       "      <td>1</td>\n",
       "      <td>0</td>\n",
       "      <td>92888.52</td>\n",
       "      <td>1</td>\n",
       "    </tr>\n",
       "    <tr>\n",
       "      <td>9999</td>\n",
       "      <td>10000</td>\n",
       "      <td>15628319</td>\n",
       "      <td>Walker</td>\n",
       "      <td>792</td>\n",
       "      <td>France</td>\n",
       "      <td>Female</td>\n",
       "      <td>28</td>\n",
       "      <td>NaN</td>\n",
       "      <td>130142.79</td>\n",
       "      <td>1</td>\n",
       "      <td>1</td>\n",
       "      <td>0</td>\n",
       "      <td>38190.78</td>\n",
       "      <td>0</td>\n",
       "    </tr>\n",
       "  </tbody>\n",
       "</table>\n",
       "</div>"
      ],
      "text/plain": [
       "      RowNumber  CustomerId    Surname  CreditScore Geography  Gender  Age  \\\n",
       "9995       9996    15606229   Obijiaku          771    France    Male   39   \n",
       "9996       9997    15569892  Johnstone          516    France    Male   35   \n",
       "9997       9998    15584532        Liu          709    France  Female   36   \n",
       "9998       9999    15682355  Sabbatini          772   Germany    Male   42   \n",
       "9999      10000    15628319     Walker          792    France  Female   28   \n",
       "\n",
       "      Tenure    Balance  NumOfProducts  HasCrCard  IsActiveMember  \\\n",
       "9995     5.0       0.00              2          1               0   \n",
       "9996    10.0   57369.61              1          1               1   \n",
       "9997     7.0       0.00              1          0               1   \n",
       "9998     3.0   75075.31              2          1               0   \n",
       "9999     NaN  130142.79              1          1               0   \n",
       "\n",
       "      EstimatedSalary  Exited  \n",
       "9995         96270.64       0  \n",
       "9996        101699.77       0  \n",
       "9997         42085.58       1  \n",
       "9998         92888.52       1  \n",
       "9999         38190.78       0  "
      ]
     },
     "execution_count": 4,
     "metadata": {},
     "output_type": "execute_result"
    }
   ],
   "source": [
    "# посмотрим нижние 5 строк\n",
    "df.tail()"
   ]
  },
  {
   "cell_type": "code",
   "execution_count": 5,
   "metadata": {},
   "outputs": [
    {
     "name": "stdout",
     "output_type": "stream",
     "text": [
      "<class 'pandas.core.frame.DataFrame'>\n",
      "RangeIndex: 10000 entries, 0 to 9999\n",
      "Data columns (total 14 columns):\n",
      "RowNumber          10000 non-null int64\n",
      "CustomerId         10000 non-null int64\n",
      "Surname            10000 non-null object\n",
      "CreditScore        10000 non-null int64\n",
      "Geography          10000 non-null object\n",
      "Gender             10000 non-null object\n",
      "Age                10000 non-null int64\n",
      "Tenure             9091 non-null float64\n",
      "Balance            10000 non-null float64\n",
      "NumOfProducts      10000 non-null int64\n",
      "HasCrCard          10000 non-null int64\n",
      "IsActiveMember     10000 non-null int64\n",
      "EstimatedSalary    10000 non-null float64\n",
      "Exited             10000 non-null int64\n",
      "dtypes: float64(3), int64(8), object(3)\n",
      "memory usage: 1.1+ MB\n"
     ]
    }
   ],
   "source": [
    "# получим общую информацию о данных в таблице df\n",
    "df.info()"
   ]
  },
  {
   "cell_type": "markdown",
   "metadata": {},
   "source": [
    "**Описание данных:**\n",
    "\n",
    "*Каждый объект в наборе данных — это информация о поведении одного пользователя за месяц. Известны признаки:*\n",
    "\n",
    "**Признаки:**\n",
    "- RowNumber — индекс строки в данных\n",
    "- CustomerId — уникальный идентификатор клиента\n",
    "- Surname — фамилия\n",
    "- CreditScore — кредитный рейтинг\n",
    "- Geography — страна проживания\n",
    "- Gender — пол\n",
    "- Age — возраст\n",
    "- Tenure — сколько лет человек является клиентом банка\n",
    "- Balance — баланс на счёте\n",
    "- NumOfProducts — количество продуктов банка, используемых клиентом\n",
    "- HasCrCard — наличие кредитной карты\n",
    "- IsActiveMember — активность клиента\n",
    "- EstimatedSalary — предполагаемая зарплата\n",
    "\n",
    "**Целевой признак:**\n",
    "\n",
    "- Exited — факт ухода клиента"
   ]
  },
  {
   "cell_type": "markdown",
   "metadata": {},
   "source": [
    "**Анализируя полученную информацию устанавливаем следующее описание датафрейма:**\n",
    "\n",
    "*Фрейм данных состоит из 14-ти столбцов и 10000 строк.*\n",
    "\n",
    "1. RowNumber — индекс строки в данных в типе данных int64 - Ок.\n",
    "2. CustomerId — уникальный идентификатор клиента в типе данных int64 - Ок.\n",
    "3. Surname — фамилия в типе данных object - Ок.\n",
    "4. CreditScore — кредитный рейтинг в типе данных int64 - Ок.\n",
    "5. Geography — страна проживания в типе данных  object - Ок.\n",
    "6. Gender — пол в типе данных  object - Ок.\n",
    "7. Age — возраст в типе данных int64 - Ок.\n",
    "8. Tenure — сколько лет человек является клиентом банка в типе данных float64 - ! требуется замена на тип данных int64. Есть 999 пропущенных значений (NaN), потрубуется поиск оптимального решения по заполнению NaN. \n",
    "9. Balance - баланс на счёте в типе данных float64 - Ок. \n",
    "10. NumOfProducts - количество продуктов банка, используемых клиентом в типе данных int64 - Ок.\n",
    "11. HasCrCard — наличие кредитной карты в типе данных int64 - Ок.\n",
    "12. IsActiveMember — активность клиента в типе данных int64 - Ок.\n",
    "13. EstimatedSalary — предполагаемая зарплата в типе данных float64 - Ок.\n",
    "14. Целевой признак: Exited — факт ухода клиента int64 - Ок."
   ]
  },
  {
   "cell_type": "markdown",
   "metadata": {},
   "source": [
    "### Вывод "
   ]
  },
  {
   "cell_type": "markdown",
   "metadata": {},
   "source": [
    "*Датафрейм требуется \"вылечить\" и сделать пригодным для использования аналитических инструментов. Для обеспечения этого процесса необходимо приступить к следующему шагу - предобработке данных. Предобработка данных предполагает следующий план действий:*\n",
    "\n",
    "- заменить пропущенные значения NaN в количестве 999 штук - качество метрики станет лучше;\n",
    "- привести все данные к нижнему регистру;\n",
    "- проверить данные на наличие скрытых дубликатов;\n",
    "- перевести данные в 'змеинный регистр';\n",
    "- в признаке Tenure осуществить замену float на тип данных int64."
   ]
  },
  {
   "cell_type": "markdown",
   "metadata": {},
   "source": [
    "### Предобработка данных"
   ]
  },
  {
   "cell_type": "markdown",
   "metadata": {},
   "source": [
    "**A. Анализ и решение вопроса с пропущенными значениями NaN**"
   ]
  },
  {
   "cell_type": "code",
   "execution_count": 6,
   "metadata": {},
   "outputs": [
    {
     "data": {
      "text/plain": [
       "RowNumber            0\n",
       "CustomerId           0\n",
       "Surname              0\n",
       "CreditScore          0\n",
       "Geography            0\n",
       "Gender               0\n",
       "Age                  0\n",
       "Tenure             909\n",
       "Balance              0\n",
       "NumOfProducts        0\n",
       "HasCrCard            0\n",
       "IsActiveMember       0\n",
       "EstimatedSalary      0\n",
       "Exited               0\n",
       "dtype: int64"
      ]
     },
     "execution_count": 6,
     "metadata": {},
     "output_type": "execute_result"
    }
   ],
   "source": [
    " # проведем подсчёт пропусков\n",
    "(df.isna().sum())"
   ]
  },
  {
   "cell_type": "code",
   "execution_count": 7,
   "metadata": {},
   "outputs": [
    {
     "name": "stdout",
     "output_type": "stream",
     "text": [
      "NaN occurrences in DataFrame: 909\n"
     ]
    }
   ],
   "source": [
    "# расчитаем общее количество 'NaN'  в дата фрейме\n",
    "print('NaN occurrences in DataFrame:', df.isna().sum().sum())"
   ]
  },
  {
   "cell_type": "markdown",
   "metadata": {},
   "source": [
    "*Анализ: мы видим 909 пропущенных значений, а это значит, что результат предварительного осмотра данных подтверждается, NaN есть и они составляют 9,09 % от общего предполагаемого количества данных в столбце Tenure (10 000). Tenure это количественный показатель, отражающий срок отношений клиента с банком. Смысловое содержание признака Tenure важно прежде всего для банка, именно по этой причине наиболее отптимальным заполнением пропущенных значений будет использование медианы.*   "
   ]
  },
  {
   "cell_type": "markdown",
   "metadata": {},
   "source": [
    "**Б. Замена пропущенных значений на медиану**"
   ]
  },
  {
   "cell_type": "code",
   "execution_count": 8,
   "metadata": {},
   "outputs": [],
   "source": [
    "# создаем параметр median_tenure с медианными значениями\n",
    "median_tenure = df['Tenure'].median(skipna=True)"
   ]
  },
  {
   "cell_type": "code",
   "execution_count": 9,
   "metadata": {},
   "outputs": [],
   "source": [
    "df['Tenure'] = df.Tenure.fillna(median_tenure)"
   ]
  },
  {
   "cell_type": "code",
   "execution_count": 10,
   "metadata": {},
   "outputs": [
    {
     "data": {
      "text/plain": [
       "0"
      ]
     },
     "execution_count": 10,
     "metadata": {},
     "output_type": "execute_result"
    }
   ],
   "source": [
    "# убедимся, что 'NaN' заменен на медиану в столбце датафрейма 'Tenure'\n",
    "df['Tenure'].isna().sum()"
   ]
  },
  {
   "cell_type": "code",
   "execution_count": 11,
   "metadata": {},
   "outputs": [
    {
     "data": {
      "text/plain": [
       "RowNumber          0\n",
       "CustomerId         0\n",
       "Surname            0\n",
       "CreditScore        0\n",
       "Geography          0\n",
       "Gender             0\n",
       "Age                0\n",
       "Tenure             0\n",
       "Balance            0\n",
       "NumOfProducts      0\n",
       "HasCrCard          0\n",
       "IsActiveMember     0\n",
       "EstimatedSalary    0\n",
       "Exited             0\n",
       "dtype: int64"
      ]
     },
     "execution_count": 11,
     "metadata": {},
     "output_type": "execute_result"
    }
   ],
   "source": [
    " # посмотрим еще раз \n",
    "(df.isna().sum())"
   ]
  },
  {
   "cell_type": "markdown",
   "metadata": {},
   "source": [
    "**В. Приведем данные к нижнему регистру**"
   ]
  },
  {
   "cell_type": "code",
   "execution_count": 12,
   "metadata": {},
   "outputs": [],
   "source": [
    "# для предварительной подготовки к исследованию данных приведем все данные в датасете к нижнему регистру\n",
    "# сначало загаловки\n",
    "df.columns = df.columns.str.lower()"
   ]
  },
  {
   "cell_type": "code",
   "execution_count": 13,
   "metadata": {},
   "outputs": [],
   "source": [
    "# затем в содержании \n",
    "df['surname'] = df['surname'].str.lower()"
   ]
  },
  {
   "cell_type": "code",
   "execution_count": 14,
   "metadata": {},
   "outputs": [],
   "source": [
    "df['geography'] = df['geography'].str.lower()"
   ]
  },
  {
   "cell_type": "code",
   "execution_count": 15,
   "metadata": {},
   "outputs": [],
   "source": [
    "df['gender'] = df['gender'].str.lower()"
   ]
  },
  {
   "cell_type": "code",
   "execution_count": 16,
   "metadata": {},
   "outputs": [
    {
     "data": {
      "text/html": [
       "<div>\n",
       "<style scoped>\n",
       "    .dataframe tbody tr th:only-of-type {\n",
       "        vertical-align: middle;\n",
       "    }\n",
       "\n",
       "    .dataframe tbody tr th {\n",
       "        vertical-align: top;\n",
       "    }\n",
       "\n",
       "    .dataframe thead th {\n",
       "        text-align: right;\n",
       "    }\n",
       "</style>\n",
       "<table border=\"1\" class=\"dataframe\">\n",
       "  <thead>\n",
       "    <tr style=\"text-align: right;\">\n",
       "      <th></th>\n",
       "      <th>rownumber</th>\n",
       "      <th>customerid</th>\n",
       "      <th>surname</th>\n",
       "      <th>creditscore</th>\n",
       "      <th>geography</th>\n",
       "      <th>gender</th>\n",
       "      <th>age</th>\n",
       "      <th>tenure</th>\n",
       "      <th>balance</th>\n",
       "      <th>numofproducts</th>\n",
       "      <th>hascrcard</th>\n",
       "      <th>isactivemember</th>\n",
       "      <th>estimatedsalary</th>\n",
       "      <th>exited</th>\n",
       "    </tr>\n",
       "  </thead>\n",
       "  <tbody>\n",
       "    <tr>\n",
       "      <td>0</td>\n",
       "      <td>1</td>\n",
       "      <td>15634602</td>\n",
       "      <td>hargrave</td>\n",
       "      <td>619</td>\n",
       "      <td>france</td>\n",
       "      <td>female</td>\n",
       "      <td>42</td>\n",
       "      <td>2.0</td>\n",
       "      <td>0.0</td>\n",
       "      <td>1</td>\n",
       "      <td>1</td>\n",
       "      <td>1</td>\n",
       "      <td>101348.88</td>\n",
       "      <td>1</td>\n",
       "    </tr>\n",
       "  </tbody>\n",
       "</table>\n",
       "</div>"
      ],
      "text/plain": [
       "   rownumber  customerid   surname  creditscore geography  gender  age  \\\n",
       "0          1    15634602  hargrave          619    france  female   42   \n",
       "\n",
       "   tenure  balance  numofproducts  hascrcard  isactivemember  estimatedsalary  \\\n",
       "0     2.0      0.0              1          1               1        101348.88   \n",
       "\n",
       "   exited  \n",
       "0       1  "
      ]
     },
     "execution_count": 16,
     "metadata": {},
     "output_type": "execute_result"
    }
   ],
   "source": [
    "df.head(1)"
   ]
  },
  {
   "cell_type": "markdown",
   "metadata": {},
   "source": [
    "**Г. Проверим на наличие явных дубликатов**"
   ]
  },
  {
   "cell_type": "code",
   "execution_count": 17,
   "metadata": {},
   "outputs": [
    {
     "data": {
      "text/plain": [
       "0"
      ]
     },
     "execution_count": 17,
     "metadata": {},
     "output_type": "execute_result"
    }
   ],
   "source": [
    "# рассмотрим дата сет на предмет наличия явных дубликатов\n",
    "(df.duplicated().sum())"
   ]
  },
  {
   "cell_type": "markdown",
   "metadata": {},
   "source": [
    "**Д. Изменим тип данных в столбце tenure c float на  integer**"
   ]
  },
  {
   "cell_type": "code",
   "execution_count": 18,
   "metadata": {},
   "outputs": [],
   "source": [
    "# осуществим изменение типа данных с float64 на наиболее подходящий тип данных int64.\n",
    "df[['tenure']] = df[['tenure']].astype(int)"
   ]
  },
  {
   "cell_type": "code",
   "execution_count": 19,
   "metadata": {},
   "outputs": [
    {
     "data": {
      "text/plain": [
       "dtype('int64')"
      ]
     },
     "execution_count": 19,
     "metadata": {},
     "output_type": "execute_result"
    }
   ],
   "source": [
    "df['tenure'].dtypes"
   ]
  },
  {
   "cell_type": "code",
   "execution_count": 20,
   "metadata": {},
   "outputs": [
    {
     "data": {
      "text/html": [
       "<div>\n",
       "<style scoped>\n",
       "    .dataframe tbody tr th:only-of-type {\n",
       "        vertical-align: middle;\n",
       "    }\n",
       "\n",
       "    .dataframe tbody tr th {\n",
       "        vertical-align: top;\n",
       "    }\n",
       "\n",
       "    .dataframe thead th {\n",
       "        text-align: right;\n",
       "    }\n",
       "</style>\n",
       "<table border=\"1\" class=\"dataframe\">\n",
       "  <thead>\n",
       "    <tr style=\"text-align: right;\">\n",
       "      <th></th>\n",
       "      <th>rownumber</th>\n",
       "      <th>customerid</th>\n",
       "      <th>surname</th>\n",
       "      <th>creditscore</th>\n",
       "      <th>geography</th>\n",
       "      <th>gender</th>\n",
       "      <th>age</th>\n",
       "      <th>tenure</th>\n",
       "      <th>balance</th>\n",
       "      <th>numofproducts</th>\n",
       "      <th>hascrcard</th>\n",
       "      <th>isactivemember</th>\n",
       "      <th>estimatedsalary</th>\n",
       "      <th>exited</th>\n",
       "    </tr>\n",
       "  </thead>\n",
       "  <tbody>\n",
       "    <tr>\n",
       "      <td>0</td>\n",
       "      <td>1</td>\n",
       "      <td>15634602</td>\n",
       "      <td>hargrave</td>\n",
       "      <td>619</td>\n",
       "      <td>france</td>\n",
       "      <td>female</td>\n",
       "      <td>42</td>\n",
       "      <td>2</td>\n",
       "      <td>0.00</td>\n",
       "      <td>1</td>\n",
       "      <td>1</td>\n",
       "      <td>1</td>\n",
       "      <td>101348.88</td>\n",
       "      <td>1</td>\n",
       "    </tr>\n",
       "    <tr>\n",
       "      <td>1</td>\n",
       "      <td>2</td>\n",
       "      <td>15647311</td>\n",
       "      <td>hill</td>\n",
       "      <td>608</td>\n",
       "      <td>spain</td>\n",
       "      <td>female</td>\n",
       "      <td>41</td>\n",
       "      <td>1</td>\n",
       "      <td>83807.86</td>\n",
       "      <td>1</td>\n",
       "      <td>0</td>\n",
       "      <td>1</td>\n",
       "      <td>112542.58</td>\n",
       "      <td>0</td>\n",
       "    </tr>\n",
       "    <tr>\n",
       "      <td>2</td>\n",
       "      <td>3</td>\n",
       "      <td>15619304</td>\n",
       "      <td>onio</td>\n",
       "      <td>502</td>\n",
       "      <td>france</td>\n",
       "      <td>female</td>\n",
       "      <td>42</td>\n",
       "      <td>8</td>\n",
       "      <td>159660.80</td>\n",
       "      <td>3</td>\n",
       "      <td>1</td>\n",
       "      <td>0</td>\n",
       "      <td>113931.57</td>\n",
       "      <td>1</td>\n",
       "    </tr>\n",
       "    <tr>\n",
       "      <td>3</td>\n",
       "      <td>4</td>\n",
       "      <td>15701354</td>\n",
       "      <td>boni</td>\n",
       "      <td>699</td>\n",
       "      <td>france</td>\n",
       "      <td>female</td>\n",
       "      <td>39</td>\n",
       "      <td>1</td>\n",
       "      <td>0.00</td>\n",
       "      <td>2</td>\n",
       "      <td>0</td>\n",
       "      <td>0</td>\n",
       "      <td>93826.63</td>\n",
       "      <td>0</td>\n",
       "    </tr>\n",
       "    <tr>\n",
       "      <td>4</td>\n",
       "      <td>5</td>\n",
       "      <td>15737888</td>\n",
       "      <td>mitchell</td>\n",
       "      <td>850</td>\n",
       "      <td>spain</td>\n",
       "      <td>female</td>\n",
       "      <td>43</td>\n",
       "      <td>2</td>\n",
       "      <td>125510.82</td>\n",
       "      <td>1</td>\n",
       "      <td>1</td>\n",
       "      <td>1</td>\n",
       "      <td>79084.10</td>\n",
       "      <td>0</td>\n",
       "    </tr>\n",
       "    <tr>\n",
       "      <td>5</td>\n",
       "      <td>6</td>\n",
       "      <td>15574012</td>\n",
       "      <td>chu</td>\n",
       "      <td>645</td>\n",
       "      <td>spain</td>\n",
       "      <td>male</td>\n",
       "      <td>44</td>\n",
       "      <td>8</td>\n",
       "      <td>113755.78</td>\n",
       "      <td>2</td>\n",
       "      <td>1</td>\n",
       "      <td>0</td>\n",
       "      <td>149756.71</td>\n",
       "      <td>1</td>\n",
       "    </tr>\n",
       "    <tr>\n",
       "      <td>6</td>\n",
       "      <td>7</td>\n",
       "      <td>15592531</td>\n",
       "      <td>bartlett</td>\n",
       "      <td>822</td>\n",
       "      <td>france</td>\n",
       "      <td>male</td>\n",
       "      <td>50</td>\n",
       "      <td>7</td>\n",
       "      <td>0.00</td>\n",
       "      <td>2</td>\n",
       "      <td>1</td>\n",
       "      <td>1</td>\n",
       "      <td>10062.80</td>\n",
       "      <td>0</td>\n",
       "    </tr>\n",
       "    <tr>\n",
       "      <td>7</td>\n",
       "      <td>8</td>\n",
       "      <td>15656148</td>\n",
       "      <td>obinna</td>\n",
       "      <td>376</td>\n",
       "      <td>germany</td>\n",
       "      <td>female</td>\n",
       "      <td>29</td>\n",
       "      <td>4</td>\n",
       "      <td>115046.74</td>\n",
       "      <td>4</td>\n",
       "      <td>1</td>\n",
       "      <td>0</td>\n",
       "      <td>119346.88</td>\n",
       "      <td>1</td>\n",
       "    </tr>\n",
       "    <tr>\n",
       "      <td>8</td>\n",
       "      <td>9</td>\n",
       "      <td>15792365</td>\n",
       "      <td>he</td>\n",
       "      <td>501</td>\n",
       "      <td>france</td>\n",
       "      <td>male</td>\n",
       "      <td>44</td>\n",
       "      <td>4</td>\n",
       "      <td>142051.07</td>\n",
       "      <td>2</td>\n",
       "      <td>0</td>\n",
       "      <td>1</td>\n",
       "      <td>74940.50</td>\n",
       "      <td>0</td>\n",
       "    </tr>\n",
       "    <tr>\n",
       "      <td>9</td>\n",
       "      <td>10</td>\n",
       "      <td>15592389</td>\n",
       "      <td>h?</td>\n",
       "      <td>684</td>\n",
       "      <td>france</td>\n",
       "      <td>male</td>\n",
       "      <td>27</td>\n",
       "      <td>2</td>\n",
       "      <td>134603.88</td>\n",
       "      <td>1</td>\n",
       "      <td>1</td>\n",
       "      <td>1</td>\n",
       "      <td>71725.73</td>\n",
       "      <td>0</td>\n",
       "    </tr>\n",
       "  </tbody>\n",
       "</table>\n",
       "</div>"
      ],
      "text/plain": [
       "   rownumber  customerid   surname  creditscore geography  gender  age  \\\n",
       "0          1    15634602  hargrave          619    france  female   42   \n",
       "1          2    15647311      hill          608     spain  female   41   \n",
       "2          3    15619304      onio          502    france  female   42   \n",
       "3          4    15701354      boni          699    france  female   39   \n",
       "4          5    15737888  mitchell          850     spain  female   43   \n",
       "5          6    15574012       chu          645     spain    male   44   \n",
       "6          7    15592531  bartlett          822    france    male   50   \n",
       "7          8    15656148    obinna          376   germany  female   29   \n",
       "8          9    15792365        he          501    france    male   44   \n",
       "9         10    15592389        h?          684    france    male   27   \n",
       "\n",
       "   tenure    balance  numofproducts  hascrcard  isactivemember  \\\n",
       "0       2       0.00              1          1               1   \n",
       "1       1   83807.86              1          0               1   \n",
       "2       8  159660.80              3          1               0   \n",
       "3       1       0.00              2          0               0   \n",
       "4       2  125510.82              1          1               1   \n",
       "5       8  113755.78              2          1               0   \n",
       "6       7       0.00              2          1               1   \n",
       "7       4  115046.74              4          1               0   \n",
       "8       4  142051.07              2          0               1   \n",
       "9       2  134603.88              1          1               1   \n",
       "\n",
       "   estimatedsalary  exited  \n",
       "0        101348.88       1  \n",
       "1        112542.58       0  \n",
       "2        113931.57       1  \n",
       "3         93826.63       0  \n",
       "4         79084.10       0  \n",
       "5        149756.71       1  \n",
       "6         10062.80       0  \n",
       "7        119346.88       1  \n",
       "8         74940.50       0  \n",
       "9         71725.73       0  "
      ]
     },
     "metadata": {},
     "output_type": "display_data"
    }
   ],
   "source": [
    "# посмотрим на первые 10 строк\n",
    "display(df.head(10))"
   ]
  },
  {
   "cell_type": "markdown",
   "metadata": {},
   "source": [
    "## Исследование задачи"
   ]
  },
  {
   "cell_type": "markdown",
   "metadata": {},
   "source": [
    "*В нашем распоряжении обучающий набор данных и целевой признак, который нужно предсказать по остальным признакам, — Exited — факт ухода клиента. Такие задачи относятся к классу «обучение с учителем». Целевой признак в нашей задаче - категориальный, смысл которого заключается клиент ушел - 1 (булевое значение), клиент остался - 0 (булевое значение). Когда категорий всего две — например, уйдет или нет из банка клиент — речь идёт о бинарной (двоичной) классификации.*"
   ]
  },
  {
   "cell_type": "code",
   "execution_count": 21,
   "metadata": {},
   "outputs": [
    {
     "data": {
      "text/html": [
       "<div>\n",
       "<style scoped>\n",
       "    .dataframe tbody tr th:only-of-type {\n",
       "        vertical-align: middle;\n",
       "    }\n",
       "\n",
       "    .dataframe tbody tr th {\n",
       "        vertical-align: top;\n",
       "    }\n",
       "\n",
       "    .dataframe thead th {\n",
       "        text-align: right;\n",
       "    }\n",
       "</style>\n",
       "<table border=\"1\" class=\"dataframe\">\n",
       "  <thead>\n",
       "    <tr style=\"text-align: right;\">\n",
       "      <th></th>\n",
       "      <th>rownumber</th>\n",
       "      <th>customerid</th>\n",
       "      <th>surname</th>\n",
       "      <th>creditscore</th>\n",
       "      <th>geography</th>\n",
       "      <th>gender</th>\n",
       "      <th>age</th>\n",
       "      <th>tenure</th>\n",
       "      <th>balance</th>\n",
       "      <th>numofproducts</th>\n",
       "      <th>hascrcard</th>\n",
       "      <th>isactivemember</th>\n",
       "      <th>estimatedsalary</th>\n",
       "      <th>exited</th>\n",
       "    </tr>\n",
       "  </thead>\n",
       "  <tbody>\n",
       "    <tr>\n",
       "      <td>0</td>\n",
       "      <td>1</td>\n",
       "      <td>15634602</td>\n",
       "      <td>hargrave</td>\n",
       "      <td>619</td>\n",
       "      <td>france</td>\n",
       "      <td>female</td>\n",
       "      <td>42</td>\n",
       "      <td>2</td>\n",
       "      <td>0.00</td>\n",
       "      <td>1</td>\n",
       "      <td>1</td>\n",
       "      <td>1</td>\n",
       "      <td>101348.88</td>\n",
       "      <td>1</td>\n",
       "    </tr>\n",
       "    <tr>\n",
       "      <td>1</td>\n",
       "      <td>2</td>\n",
       "      <td>15647311</td>\n",
       "      <td>hill</td>\n",
       "      <td>608</td>\n",
       "      <td>spain</td>\n",
       "      <td>female</td>\n",
       "      <td>41</td>\n",
       "      <td>1</td>\n",
       "      <td>83807.86</td>\n",
       "      <td>1</td>\n",
       "      <td>0</td>\n",
       "      <td>1</td>\n",
       "      <td>112542.58</td>\n",
       "      <td>0</td>\n",
       "    </tr>\n",
       "    <tr>\n",
       "      <td>2</td>\n",
       "      <td>3</td>\n",
       "      <td>15619304</td>\n",
       "      <td>onio</td>\n",
       "      <td>502</td>\n",
       "      <td>france</td>\n",
       "      <td>female</td>\n",
       "      <td>42</td>\n",
       "      <td>8</td>\n",
       "      <td>159660.80</td>\n",
       "      <td>3</td>\n",
       "      <td>1</td>\n",
       "      <td>0</td>\n",
       "      <td>113931.57</td>\n",
       "      <td>1</td>\n",
       "    </tr>\n",
       "    <tr>\n",
       "      <td>3</td>\n",
       "      <td>4</td>\n",
       "      <td>15701354</td>\n",
       "      <td>boni</td>\n",
       "      <td>699</td>\n",
       "      <td>france</td>\n",
       "      <td>female</td>\n",
       "      <td>39</td>\n",
       "      <td>1</td>\n",
       "      <td>0.00</td>\n",
       "      <td>2</td>\n",
       "      <td>0</td>\n",
       "      <td>0</td>\n",
       "      <td>93826.63</td>\n",
       "      <td>0</td>\n",
       "    </tr>\n",
       "    <tr>\n",
       "      <td>4</td>\n",
       "      <td>5</td>\n",
       "      <td>15737888</td>\n",
       "      <td>mitchell</td>\n",
       "      <td>850</td>\n",
       "      <td>spain</td>\n",
       "      <td>female</td>\n",
       "      <td>43</td>\n",
       "      <td>2</td>\n",
       "      <td>125510.82</td>\n",
       "      <td>1</td>\n",
       "      <td>1</td>\n",
       "      <td>1</td>\n",
       "      <td>79084.10</td>\n",
       "      <td>0</td>\n",
       "    </tr>\n",
       "  </tbody>\n",
       "</table>\n",
       "</div>"
      ],
      "text/plain": [
       "   rownumber  customerid   surname  creditscore geography  gender  age  \\\n",
       "0          1    15634602  hargrave          619    france  female   42   \n",
       "1          2    15647311      hill          608     spain  female   41   \n",
       "2          3    15619304      onio          502    france  female   42   \n",
       "3          4    15701354      boni          699    france  female   39   \n",
       "4          5    15737888  mitchell          850     spain  female   43   \n",
       "\n",
       "   tenure    balance  numofproducts  hascrcard  isactivemember  \\\n",
       "0       2       0.00              1          1               1   \n",
       "1       1   83807.86              1          0               1   \n",
       "2       8  159660.80              3          1               0   \n",
       "3       1       0.00              2          0               0   \n",
       "4       2  125510.82              1          1               1   \n",
       "\n",
       "   estimatedsalary  exited  \n",
       "0        101348.88       1  \n",
       "1        112542.58       0  \n",
       "2        113931.57       1  \n",
       "3         93826.63       0  \n",
       "4         79084.10       0  "
      ]
     },
     "execution_count": 21,
     "metadata": {},
     "output_type": "execute_result"
    }
   ],
   "source": [
    "df.head()"
   ]
  },
  {
   "cell_type": "code",
   "execution_count": 22,
   "metadata": {},
   "outputs": [
    {
     "data": {
      "text/plain": [
       "0    0.7963\n",
       "1    0.2037\n",
       "Name: exited, dtype: float64"
      ]
     },
     "execution_count": 22,
     "metadata": {},
     "output_type": "execute_result"
    }
   ],
   "source": [
    "# посмотрим на бинарную разбивку по классам\n",
    "df['exited'].value_counts(normalize=True)"
   ]
  },
  {
   "cell_type": "markdown",
   "metadata": {},
   "source": [
    "**Для систематизации понимания работы представляется необходиммым определить, что объектом в задаче выступает - клиент (его поведение), признаковое описание носит числовой характер. Матрица объект-признак построена в условиях задачи (заданный фрем данных), где признаки отображены в столбцах, объекты в строках. В нашем примере задачи n = 13 признаков, Y - 2 класса, длина выборки 10 000 для двух классов.**"
   ]
  },
  {
   "cell_type": "code",
   "execution_count": 23,
   "metadata": {},
   "outputs": [],
   "source": [
    "# для получения общей информации зависимости признаков воспользуюсь рассмотрением корреляции Пирсона\n",
    "# df.corr()"
   ]
  },
  {
   "cell_type": "code",
   "execution_count": 24,
   "metadata": {},
   "outputs": [
    {
     "data": {
      "image/png": "[encoded data removed]",
      "text/plain": [
       "<Figure size 1152x432 with 2 Axes>"
      ]
     },
     "metadata": {},
     "output_type": "display_data"
    }
   ],
   "source": [
    "# использую тепловую карту для визуального анализа\n",
    "plt.figure(figsize=(16, 6))\n",
    "heatmap = sns.heatmap(df.corr(), vmin=-1, vmax=1, annot=True, cmap='BrBG') \n",
    "heatmap.set_title('Correlation Heatmap', fontdict={'fontsize':18}, pad=12)\n",
    "plt.savefig('heatmap.png', dpi=300, bbox_inches='tight')"
   ]
  },
  {
   "cell_type": "code",
   "execution_count": 25,
   "metadata": {},
   "outputs": [],
   "source": [
    "# попробую еще сузить параметры, которые влияют на поведение клиентов и расторжение договоров с банком \n",
    "df_1 = df[['age', 'balance', 'exited', 'estimatedsalary']]"
   ]
  },
  {
   "cell_type": "code",
   "execution_count": 26,
   "metadata": {},
   "outputs": [
    {
     "data": {
      "image/png": "[encoded data removed]",
      "text/plain": [
       "<Figure size 720x720 with 20 Axes>"
      ]
     },
     "metadata": {},
     "output_type": "display_data"
    }
   ],
   "source": [
    "# попробую  построить pairplot() по выбранным столбцам\n",
    "sns_plot = sns.pairplot(df_1)\n",
    "sns_plot.savefig('pairplot.png')"
   ]
  },
  {
   "cell_type": "code",
   "execution_count": 27,
   "metadata": {},
   "outputs": [
    {
     "data": {
      "text/plain": [
       "male      5457\n",
       "female    4543\n",
       "Name: gender, dtype: int64"
      ]
     },
     "execution_count": 27,
     "metadata": {},
     "output_type": "execute_result"
    }
   ],
   "source": [
    "# вызывает любопытство какое количество мужчин и женщин в числе клиентов банка\n",
    "df['gender'].value_counts()"
   ]
  },
  {
   "cell_type": "code",
   "execution_count": 28,
   "metadata": {},
   "outputs": [
    {
     "data": {
      "text/plain": [
       "gender\n",
       "female    1139\n",
       "male       898\n",
       "Name: exited, dtype: int64"
      ]
     },
     "execution_count": 28,
     "metadata": {},
     "output_type": "execute_result"
    }
   ],
   "source": [
    "df.groupby('gender')['exited'].sum()"
   ]
  },
  {
   "cell_type": "code",
   "execution_count": 29,
   "metadata": {},
   "outputs": [
    {
     "name": "stdout",
     "output_type": "stream",
     "text": [
      "<class 'pandas.core.frame.DataFrame'>\n",
      "RangeIndex: 10000 entries, 0 to 9999\n",
      "Data columns (total 14 columns):\n",
      "rownumber          10000 non-null int64\n",
      "customerid         10000 non-null int64\n",
      "surname            10000 non-null object\n",
      "creditscore        10000 non-null int64\n",
      "geography          10000 non-null object\n",
      "gender             10000 non-null object\n",
      "age                10000 non-null int64\n",
      "tenure             10000 non-null int64\n",
      "balance            10000 non-null float64\n",
      "numofproducts      10000 non-null int64\n",
      "hascrcard          10000 non-null int64\n",
      "isactivemember     10000 non-null int64\n",
      "estimatedsalary    10000 non-null float64\n",
      "exited             10000 non-null int64\n",
      "dtypes: float64(2), int64(9), object(3)\n",
      "memory usage: 1.1+ MB\n"
     ]
    }
   ],
   "source": [
    "df.info()"
   ]
  },
  {
   "cell_type": "markdown",
   "metadata": {},
   "source": [
    "### Исследование моделей"
   ]
  },
  {
   "cell_type": "markdown",
   "metadata": {},
   "source": [
    "*Данные нужно разбить на три части: обучающую, валидационную и тестовую. Размеры тестового и валидационного наборов обычно равны. Исходные данные разбивают в соотношении 3:1:1 (60-20-20).*"
   ]
  },
  {
   "cell_type": "markdown",
   "metadata": {},
   "source": [
    "*Принадлежность к категории, например, логистическая регрессия, вычисляется по формуле, состоящей из признаков. Они могут быть только численные. В настоящий момент фрейм данных содержит и категориальные признаки. Преобразовать категориальные признаки в численные поможет техника прямого кодирования, или отображения.*"
   ]
  },
  {
   "cell_type": "code",
   "execution_count": 30,
   "metadata": {},
   "outputs": [],
   "source": [
    "# избавимся от лишней информации\n",
    "df.drop(['rownumber', 'customerid', 'surname'], axis='columns', inplace=True)"
   ]
  },
  {
   "cell_type": "code",
   "execution_count": 31,
   "metadata": {},
   "outputs": [
    {
     "data": {
      "text/html": [
       "<div>\n",
       "<style scoped>\n",
       "    .dataframe tbody tr th:only-of-type {\n",
       "        vertical-align: middle;\n",
       "    }\n",
       "\n",
       "    .dataframe tbody tr th {\n",
       "        vertical-align: top;\n",
       "    }\n",
       "\n",
       "    .dataframe thead th {\n",
       "        text-align: right;\n",
       "    }\n",
       "</style>\n",
       "<table border=\"1\" class=\"dataframe\">\n",
       "  <thead>\n",
       "    <tr style=\"text-align: right;\">\n",
       "      <th></th>\n",
       "      <th>creditscore</th>\n",
       "      <th>geography</th>\n",
       "      <th>gender</th>\n",
       "      <th>age</th>\n",
       "      <th>tenure</th>\n",
       "      <th>balance</th>\n",
       "      <th>numofproducts</th>\n",
       "      <th>hascrcard</th>\n",
       "      <th>isactivemember</th>\n",
       "      <th>estimatedsalary</th>\n",
       "      <th>exited</th>\n",
       "    </tr>\n",
       "  </thead>\n",
       "  <tbody>\n",
       "    <tr>\n",
       "      <td>0</td>\n",
       "      <td>619</td>\n",
       "      <td>france</td>\n",
       "      <td>female</td>\n",
       "      <td>42</td>\n",
       "      <td>2</td>\n",
       "      <td>0.00</td>\n",
       "      <td>1</td>\n",
       "      <td>1</td>\n",
       "      <td>1</td>\n",
       "      <td>101348.88</td>\n",
       "      <td>1</td>\n",
       "    </tr>\n",
       "    <tr>\n",
       "      <td>1</td>\n",
       "      <td>608</td>\n",
       "      <td>spain</td>\n",
       "      <td>female</td>\n",
       "      <td>41</td>\n",
       "      <td>1</td>\n",
       "      <td>83807.86</td>\n",
       "      <td>1</td>\n",
       "      <td>0</td>\n",
       "      <td>1</td>\n",
       "      <td>112542.58</td>\n",
       "      <td>0</td>\n",
       "    </tr>\n",
       "    <tr>\n",
       "      <td>2</td>\n",
       "      <td>502</td>\n",
       "      <td>france</td>\n",
       "      <td>female</td>\n",
       "      <td>42</td>\n",
       "      <td>8</td>\n",
       "      <td>159660.80</td>\n",
       "      <td>3</td>\n",
       "      <td>1</td>\n",
       "      <td>0</td>\n",
       "      <td>113931.57</td>\n",
       "      <td>1</td>\n",
       "    </tr>\n",
       "    <tr>\n",
       "      <td>3</td>\n",
       "      <td>699</td>\n",
       "      <td>france</td>\n",
       "      <td>female</td>\n",
       "      <td>39</td>\n",
       "      <td>1</td>\n",
       "      <td>0.00</td>\n",
       "      <td>2</td>\n",
       "      <td>0</td>\n",
       "      <td>0</td>\n",
       "      <td>93826.63</td>\n",
       "      <td>0</td>\n",
       "    </tr>\n",
       "    <tr>\n",
       "      <td>4</td>\n",
       "      <td>850</td>\n",
       "      <td>spain</td>\n",
       "      <td>female</td>\n",
       "      <td>43</td>\n",
       "      <td>2</td>\n",
       "      <td>125510.82</td>\n",
       "      <td>1</td>\n",
       "      <td>1</td>\n",
       "      <td>1</td>\n",
       "      <td>79084.10</td>\n",
       "      <td>0</td>\n",
       "    </tr>\n",
       "  </tbody>\n",
       "</table>\n",
       "</div>"
      ],
      "text/plain": [
       "   creditscore geography  gender  age  tenure    balance  numofproducts  \\\n",
       "0          619    france  female   42       2       0.00              1   \n",
       "1          608     spain  female   41       1   83807.86              1   \n",
       "2          502    france  female   42       8  159660.80              3   \n",
       "3          699    france  female   39       1       0.00              2   \n",
       "4          850     spain  female   43       2  125510.82              1   \n",
       "\n",
       "   hascrcard  isactivemember  estimatedsalary  exited  \n",
       "0          1               1        101348.88       1  \n",
       "1          0               1        112542.58       0  \n",
       "2          1               0        113931.57       1  \n",
       "3          0               0         93826.63       0  \n",
       "4          1               1         79084.10       0  "
      ]
     },
     "execution_count": 31,
     "metadata": {},
     "output_type": "execute_result"
    }
   ],
   "source": [
    "# дата фрейм стал оптимальнее\n",
    "df.head()"
   ]
  },
  {
   "cell_type": "code",
   "execution_count": 32,
   "metadata": {},
   "outputs": [],
   "source": [
    "# использую метод get_dummies проведем преобразования категориальных признаков в численные\n",
    "df_gd = pd.get_dummies(df,drop_first=True)"
   ]
  },
  {
   "cell_type": "code",
   "execution_count": 33,
   "metadata": {},
   "outputs": [],
   "source": [
    "# создаем целевые показатели\n",
    "target = df_gd['exited']\n",
    "# создаем фичи\n",
    "features = df_gd.drop('exited', axis=1)"
   ]
  },
  {
   "cell_type": "code",
   "execution_count": 34,
   "metadata": {},
   "outputs": [],
   "source": [
    "# создаю выборки для обучения модели и ее тестирования \n",
    "# проведем стратификацию (равномерное распределение) классов.\n",
    "features_train, features_test, target_train, target_test = train_test_split(features, target, test_size=0.40, random_state=12345, stratify = target)"
   ]
  },
  {
   "cell_type": "code",
   "execution_count": 35,
   "metadata": {},
   "outputs": [],
   "source": [
    "# создаю отдельно выборку для валидации в тестовой выборке мы забираем на валидацию половину 50, получается - 20 \n",
    "# как планировали\n",
    "features_valid, features_test, target_valid, target_test = train_test_split(features_test, target_test, test_size=0.50, random_state=12345)"
   ]
  },
  {
   "cell_type": "code",
   "execution_count": 36,
   "metadata": {},
   "outputs": [
    {
     "data": {
      "text/plain": [
       "(6000, 11)"
      ]
     },
     "execution_count": 36,
     "metadata": {},
     "output_type": "execute_result"
    }
   ],
   "source": [
    "# посмотрим на количество строк и столбцов в обучающем наборе данных\n",
    "features_train.shape"
   ]
  },
  {
   "cell_type": "code",
   "execution_count": 37,
   "metadata": {},
   "outputs": [
    {
     "data": {
      "text/plain": [
       "(2000, 11)"
      ]
     },
     "execution_count": 37,
     "metadata": {},
     "output_type": "execute_result"
    }
   ],
   "source": [
    "# посмотрим на количество строк и столбцов в тестирующем наборе данных\n",
    "features_test.shape"
   ]
  },
  {
   "cell_type": "code",
   "execution_count": 38,
   "metadata": {},
   "outputs": [
    {
     "data": {
      "text/plain": [
       "(2000, 11)"
      ]
     },
     "execution_count": 38,
     "metadata": {},
     "output_type": "execute_result"
    }
   ],
   "source": [
    "# посмотрим на количество строк и столбцов в валидационном (проверочном) наборе данных\n",
    "features_valid.shape"
   ]
  },
  {
   "cell_type": "markdown",
   "metadata": {},
   "source": [
    "**Проведем процесс масштабирования признаков с помощью метода - стандартизации данных**"
   ]
  },
  {
   "cell_type": "code",
   "execution_count": 39,
   "metadata": {},
   "outputs": [
    {
     "data": {
      "text/plain": [
       "StandardScaler(copy=True, with_mean=True, with_std=True)"
      ]
     },
     "execution_count": 39,
     "metadata": {},
     "output_type": "execute_result"
    }
   ],
   "source": [
    "# проведем процесс масштабирования признаков с помощью метода - стандартизация данных.\n",
    "numeric = ['creditscore', 'age', 'tenure', 'balance', 'numofproducts', \n",
    "                 'estimatedsalary']\n",
    "\n",
    "scaler = StandardScaler()\n",
    "scaler.fit(features_train[numeric])"
   ]
  },
  {
   "cell_type": "code",
   "execution_count": 40,
   "metadata": {},
   "outputs": [
    {
     "name": "stderr",
     "output_type": "stream",
     "text": [
      "/opt/conda/lib/python3.7/site-packages/ipykernel_launcher.py:1: SettingWithCopyWarning: \n",
      "A value is trying to be set on a copy of a slice from a DataFrame.\n",
      "Try using .loc[row_indexer,col_indexer] = value instead\n",
      "\n",
      "See the caveats in the documentation: http://pandas.pydata.org/pandas-docs/stable/user_guide/indexing.html#returning-a-view-versus-a-copy\n",
      "  \"\"\"Entry point for launching an IPython kernel.\n",
      "/opt/conda/lib/python3.7/site-packages/pandas/core/indexing.py:494: SettingWithCopyWarning: \n",
      "A value is trying to be set on a copy of a slice from a DataFrame.\n",
      "Try using .loc[row_indexer,col_indexer] = value instead\n",
      "\n",
      "See the caveats in the documentation: http://pandas.pydata.org/pandas-docs/stable/user_guide/indexing.html#returning-a-view-versus-a-copy\n",
      "  self.obj[item] = s\n"
     ]
    }
   ],
   "source": [
    "features_train[numeric] = scaler.transform(features_train[numeric])\n",
    "features_valid[numeric] = scaler.transform(features_valid[numeric])\n",
    "features_test[numeric] = scaler.transform(features_test[numeric])"
   ]
  },
  {
   "cell_type": "code",
   "execution_count": 41,
   "metadata": {},
   "outputs": [
    {
     "data": {
      "text/plain": [
       "StandardScaler(copy=True, with_mean=True, with_std=True)"
      ]
     },
     "execution_count": 41,
     "metadata": {},
     "output_type": "execute_result"
    }
   ],
   "source": [
    "scaler.fit(features_train[numeric])"
   ]
  },
  {
   "cell_type": "code",
   "execution_count": 42,
   "metadata": {},
   "outputs": [],
   "source": [
    "#features_train[numeric]=scaler.transform(features_train[numeric])\n",
    "#features_valid[numeric]=scaler.transform(features_valid[numeric])"
   ]
  },
  {
   "cell_type": "markdown",
   "metadata": {},
   "source": [
    "### Изучение моделей без учёта дисбаланса"
   ]
  },
  {
   "cell_type": "markdown",
   "metadata": {},
   "source": [
    "**1) модель: Решающее дерево (decision tree, далее - model_dt)**"
   ]
  },
  {
   "cell_type": "code",
   "execution_count": 43,
   "metadata": {
    "scrolled": true
   },
   "outputs": [
    {
     "name": "stdout",
     "output_type": "stream",
     "text": [
      "max_depth: 1 F1: 0.0\n",
      "max_depth: 2 F1: 0.5129770992366413\n",
      "max_depth: 3 F1: 0.5259938837920489\n",
      "max_depth: 4 F1: 0.5117845117845117\n",
      "max_depth: 5 F1: 0.5245346869712352\n",
      "max_depth: 6 F1: 0.5571658615136875\n",
      "max_depth: 7 F1: 0.5607476635514019\n",
      "max_depth: 8 F1: 0.529886914378029\n",
      "max_depth: 9 F1: 0.5007776049766719\n"
     ]
    },
    {
     "name": "stderr",
     "output_type": "stream",
     "text": [
      "/opt/conda/lib/python3.7/site-packages/sklearn/metrics/classification.py:1437: UndefinedMetricWarning: F-score is ill-defined and being set to 0.0 due to no predicted samples.\n",
      "  'precision', 'predicted', average, warn_for)\n"
     ]
    }
   ],
   "source": [
    "# создаем цикл для max_depth от 1 до 10\n",
    "for max_depth in range(1,10):\n",
    "    model_dt = DecisionTreeClassifier(random_state=12345, max_depth=max_depth) \n",
    "# обучаем модель с заданной глубиной дерева\n",
    "    model_dt.fit(features_train, target_train) # обучаем модель\n",
    "    predictions = model_dt.predict(features_valid) # получаем предсказания модели\n",
    "    result = accuracy_score(target_valid, predictions) # посчитаем качество модели\n",
    "    print('max_depth:',max_depth,'F1:',f1_score(target_valid, predictions))"
   ]
  },
  {
   "cell_type": "markdown",
   "metadata": {},
   "source": [
    "#### Вывод: \n",
    "*Лучшим показателем является max_depth: 6 со значением F1: 0.5363636363636364*"
   ]
  },
  {
   "cell_type": "markdown",
   "metadata": {},
   "source": [
    "**2) Попробуем новый алгоритм классификации — случайный лес (random forest, далее - model_rf)**"
   ]
  },
  {
   "cell_type": "code",
   "execution_count": 44,
   "metadata": {
    "scrolled": true
   },
   "outputs": [
    {
     "name": "stderr",
     "output_type": "stream",
     "text": [
      "/opt/conda/lib/python3.7/site-packages/sklearn/metrics/classification.py:1437: UndefinedMetricWarning: F-score is ill-defined and being set to 0.0 due to no predicted samples.\n",
      "  'precision', 'predicted', average, warn_for)\n"
     ]
    },
    {
     "name": "stdout",
     "output_type": "stream",
     "text": [
      "max_depth: 1 F1: 0.0\n",
      "max_depth: 4 F1: 0.45283018867924535\n",
      "max_depth: 7 F1: 0.5544554455445545\n",
      "max_depth: 10 F1: 0.5658536585365854\n",
      "max_depth: 13 F1: 0.5732484076433121\n",
      "max_depth: 16 F1: 0.5665101721439749\n",
      "max_depth: 19 F1: 0.5732087227414331\n",
      "max_depth: 22 F1: 0.56875\n",
      "max_depth: 25 F1: 0.56875\n",
      "max_depth: 28 F1: 0.5643410852713179\n"
     ]
    }
   ],
   "source": [
    "for max_depth in range(1,30,3):\n",
    "    model_forest = RandomForestClassifier(max_depth = max_depth, random_state=12345, n_estimators=90)\n",
    "    model_forest.fit(features_train, target_train)\n",
    "    predictions = model_forest.predict(features_valid)\n",
    "    print('max_depth:',max_depth,'F1:',f1_score(target_valid, predictions))"
   ]
  },
  {
   "cell_type": "markdown",
   "metadata": {},
   "source": [
    "#### Вывод: \n",
    "*Лучшим показателем является max_depth: 28 F1: 0.1111111111111111*"
   ]
  },
  {
   "cell_type": "markdown",
   "metadata": {},
   "source": [
    "**3) Попробуем ещё один алгоритм — логистическую регрессию**"
   ]
  },
  {
   "cell_type": "code",
   "execution_count": 45,
   "metadata": {},
   "outputs": [
    {
     "name": "stdout",
     "output_type": "stream",
     "text": [
      "F1: 0.3050847457627119\n"
     ]
    },
    {
     "name": "stderr",
     "output_type": "stream",
     "text": [
      "/opt/conda/lib/python3.7/site-packages/sklearn/linear_model/logistic.py:432: FutureWarning: Default solver will be changed to 'lbfgs' in 0.22. Specify a solver to silence this warning.\n",
      "  FutureWarning)\n"
     ]
    }
   ],
   "source": [
    "# инициализируйте модель логистической регрессии с параметром random_state=12345\n",
    "model_lr = LogisticRegression(random_state=12345) \n",
    "# обучите модель на тренировочной выборке\n",
    "model_lr.fit(features_train, target_train) \n",
    "# получим метрику качества модели на валидационной выборке\n",
    "predictions = model_lr.predict(features_valid)\n",
    "print('F1:',f1_score(target_valid, predictions))"
   ]
  },
  {
   "cell_type": "code",
   "execution_count": 46,
   "metadata": {},
   "outputs": [
    {
     "name": "stdout",
     "output_type": "stream",
     "text": [
      "0    0.7963\n",
      "1    0.2037\n",
      "Name: exited, dtype: float64\n"
     ]
    },
    {
     "data": {
      "text/plain": [
       "<matplotlib.axes._subplots.AxesSubplot at 0x7f9a94cb2d90>"
      ]
     },
     "execution_count": 46,
     "metadata": {},
     "output_type": "execute_result"
    },
    {
     "data": {
      "image/png": "[encoded data removed]",
      "text/plain": [
       "<Figure size 432x288 with 1 Axes>"
      ]
     },
     "metadata": {},
     "output_type": "display_data"
    }
   ],
   "source": [
    "# доказательством значительной разницы в классах является ниже построенная диаграмма\n",
    "class_frequency = df['exited'].value_counts(normalize=True)\n",
    "print(class_frequency)\n",
    "class_frequency.plot(kind='bar')"
   ]
  },
  {
   "cell_type": "markdown",
   "metadata": {},
   "source": [
    "## Борьба с дисбалансом"
   ]
  },
  {
   "cell_type": "markdown",
   "metadata": {},
   "source": [
    "**ШАГ № 1 - Придадим объектам редкого класса больший вес.**"
   ]
  },
  {
   "cell_type": "code",
   "execution_count": 47,
   "metadata": {},
   "outputs": [
    {
     "name": "stdout",
     "output_type": "stream",
     "text": [
      "max_depth: 1 F1: 0.4838160136286202\n",
      "max_depth: 2 F1: 0.5\n",
      "max_depth: 3 F1: 0.5353159851301115\n",
      "max_depth: 4 F1: 0.5406871609403254\n",
      "max_depth: 5 F1: 0.5186385737439222\n",
      "max_depth: 6 F1: 0.5343228200371057\n",
      "max_depth: 7 F1: 0.5419354838709678\n",
      "max_depth: 8 F1: 0.5354185832566697\n",
      "max_depth: 9 F1: 0.5219123505976095\n"
     ]
    }
   ],
   "source": [
    "# проведем эксперимент с алгоритмом классификации — решающее дерево\n",
    "for max_depth in range(1,10,1):\n",
    "    model_dt_balance = DecisionTreeClassifier(random_state=12345, max_depth=max_depth, class_weight = 'balanced') \n",
    "# обучаем модель с заданной глубиной дерева\n",
    "    model_dt_balance.fit(features_train, target_train) # обучаем модель\n",
    "    predictions_dt = model_dt_balance.predict(features_valid) # получаем предсказания модели\n",
    "    print('max_depth:',max_depth,'F1:',f1_score(target_valid, predictions_dt))"
   ]
  },
  {
   "cell_type": "markdown",
   "metadata": {},
   "source": [
    "*Лучшим показателем является max_depth: 19 F1: 0.5591939546599497, что доказывает улучшение показателя после балансировки* "
   ]
  },
  {
   "cell_type": "code",
   "execution_count": 48,
   "metadata": {
    "scrolled": true
   },
   "outputs": [
    {
     "name": "stdout",
     "output_type": "stream",
     "text": [
      "max_depth: 1 F1: 0.5246511627906978\n",
      "max_depth: 4 F1: 0.5784797630799605\n",
      "max_depth: 7 F1: 0.5967213114754099\n",
      "max_depth: 10 F1: 0.585\n",
      "max_depth: 13 F1: 0.5681159420289855\n"
     ]
    }
   ],
   "source": [
    "# проведем эксперимент с алгоритмом классификации — случайный лес \n",
    "for max_depth in range(1,15,3):\n",
    "    model_forest_balance = RandomForestClassifier(max_depth = max_depth, random_state=12345, n_estimators=90, class_weight = 'balanced')\n",
    "    model_forest_balance.fit(features_train, target_train)\n",
    "    predictions_f = model_forest_balance.predict(features_valid)\n",
    "    print('max_depth:',max_depth,'F1:',f1_score(target_valid, predictions_f))"
   ]
  },
  {
   "cell_type": "markdown",
   "metadata": {},
   "source": [
    "*Сбалансированная модель Случайного леса показывает более лучшие результаты F1, с максимальным значением max_depth: 17 F1: 0.5575129533678757*"
   ]
  },
  {
   "cell_type": "code",
   "execution_count": 49,
   "metadata": {},
   "outputs": [
    {
     "name": "stdout",
     "output_type": "stream",
     "text": [
      "F1: 0.49731663685152067\n"
     ]
    }
   ],
   "source": [
    "# проведем эксперимент с логистической регрессией\n",
    "model_lr_balance = LogisticRegression(random_state=12345, solver='liblinear', class_weight='balanced')\n",
    "model_lr_balance.fit(features_train, target_train)\n",
    "predicted_valid = model_lr_balance.predict(features_valid)\n",
    "print(\"F1:\", f1_score(target_valid, predicted_valid))"
   ]
  },
  {
   "cell_type": "markdown",
   "metadata": {},
   "source": [
    "*уже нет нулевого значения, значение 0.444 свидетельствует об явном улучшении показателя модели логистической регрессии.*"
   ]
  },
  {
   "cell_type": "markdown",
   "metadata": {},
   "source": [
    "**ШАГ № 2. Проведем обучение моделей  (техника upsampling)**"
   ]
  },
  {
   "cell_type": "markdown",
   "metadata": {},
   "source": [
    "*Создадим функцию и проведем следующие шаги:*\n",
    "- разделим обучающую выборку на отрицательные и положительные объекты\n",
    "- скопируем несколько раз положительные объекты;\n",
    "- с учётом полученных данных создадим новую обучающую выборку;\n",
    "- перемешаем данные: идущие друг за другом одинаковые вопросы не помогут обучению."
   ]
  },
  {
   "cell_type": "code",
   "execution_count": 50,
   "metadata": {},
   "outputs": [],
   "source": [
    "def upsample(features, target, repeat):\n",
    "    features_zeros = features[target == 0]\n",
    "    features_ones = features[target == 1]\n",
    "    target_zeros = target[target == 0]\n",
    "    target_ones = target[target == 1]\n",
    "\n",
    "    features_upsampled = pd.concat([features_zeros] + [features_ones] * repeat)\n",
    "    target_upsampled = pd.concat([target_zeros] + [target_ones] * repeat)\n",
    "    \n",
    "    features_upsampled, target_upsampled = shuffle(\n",
    "        features_upsampled, target_upsampled, random_state=12345)\n",
    "    \n",
    "    return features_upsampled, target_upsampled\n",
    "\n",
    "features_upsampled, target_upsampled = upsample(features_train, target_train, 3)"
   ]
  },
  {
   "cell_type": "code",
   "execution_count": 51,
   "metadata": {},
   "outputs": [
    {
     "data": {
      "text/plain": [
       "3"
      ]
     },
     "execution_count": 51,
     "metadata": {},
     "output_type": "execute_result"
    }
   ],
   "source": [
    "# проводим анализ дисбаланса\n",
    "# отношение количества строк с 0 к 1 \n",
    "rat = len(df.loc[df['exited']==0])//len(df.loc[df['exited']==1])\n",
    "rat"
   ]
  },
  {
   "cell_type": "code",
   "execution_count": 52,
   "metadata": {},
   "outputs": [
    {
     "name": "stdout",
     "output_type": "stream",
     "text": [
      "max_depth: 1 F1: 0.4838160136286202\n",
      "max_depth: 4 F1: 0.5406871609403254\n",
      "max_depth: 7 F1: 0.5424354243542435\n",
      "max_depth: 10 F1: 0.5138178096212896\n",
      "max_depth: 13 F1: 0.4966139954853273\n"
     ]
    }
   ],
   "source": [
    "# экспериментируем с решающим деревом\n",
    "for max_depth in range(1,15,3):\n",
    "    model_dt_upsampled = DecisionTreeClassifier(random_state=12345, max_depth=max_depth, class_weight = 'balanced') \n",
    "# обучаем модель с заданной глубиной дерева\n",
    "    model_dt_upsampled.fit(features_upsampled, target_upsampled) # обучаем модель\n",
    "    predictions_dt_upsampled = model_dt_upsampled.predict(features_valid) # получаем предсказания модели\n",
    "    print('max_depth:',max_depth,'F1:',f1_score(target_valid, predictions_dt_upsampled))"
   ]
  },
  {
   "cell_type": "markdown",
   "metadata": {},
   "source": [
    "*Решающее дерево показывает максимальное значение max_depth: 5 F1: 0.5831622176591374*"
   ]
  },
  {
   "cell_type": "code",
   "execution_count": 53,
   "metadata": {},
   "outputs": [
    {
     "name": "stdout",
     "output_type": "stream",
     "text": [
      "max_depth: 1 F1: 0.5472727272727272\n",
      "max_depth: 7 F1: 0.5989637305699481\n",
      "max_depth: 13 F1: 0.5853658536585367\n"
     ]
    }
   ],
   "source": [
    "# экспериментируем со случайным лесом\n",
    "for max_depth in range(1,18,6):\n",
    "    model_forest_upsample = RandomForestClassifier(max_depth = max_depth, random_state=12345, n_estimators=150, class_weight = 'balanced')\n",
    "    model_forest_upsample.fit(features_upsampled, target_upsampled)\n",
    "    predictions_f = model_forest_upsample.predict(features_valid)\n",
    "    print('max_depth:',max_depth,'F1:',f1_score(target_valid, predictions_f))"
   ]
  },
  {
   "cell_type": "markdown",
   "metadata": {},
   "source": [
    "*В модели Случайный лес Удалось достичь max_depth: 19 F1: 0.5650048875855328*"
   ]
  },
  {
   "cell_type": "code",
   "execution_count": 54,
   "metadata": {},
   "outputs": [
    {
     "name": "stdout",
     "output_type": "stream",
     "text": [
      "F1: 0.48865979381443303\n"
     ]
    }
   ],
   "source": [
    "# экспериментирую с моделью логистическая регрессия\n",
    "model_upsampling = LogisticRegression(random_state=12345, solver='liblinear')\n",
    "model_upsampling.fit(features_upsampled, target_upsampled)\n",
    "predicted_valid = model_upsampling.predict(features_valid)\n",
    "print(\"F1:\", f1_score(target_valid, predicted_valid))"
   ]
  },
  {
   "cell_type": "markdown",
   "metadata": {},
   "source": [
    "*Метрика логистической регрессии увеличилась, а любой ее рост, даже небольшой - это успех!*"
   ]
  },
  {
   "cell_type": "markdown",
   "metadata": {},
   "source": [
    "**ШАГ № 2. Проведем обучение моделей  (техникой downsampling )**"
   ]
  },
  {
   "cell_type": "code",
   "execution_count": 55,
   "metadata": {},
   "outputs": [],
   "source": [
    "def downsample(features, target, fraction):\n",
    "    features_zeros = features[target == 0]\n",
    "    features_ones = features[target == 1]\n",
    "    target_zeros = target[target == 0]\n",
    "    target_ones = target[target == 1]\n",
    "\n",
    "    features_downsampled = pd.concat(\n",
    "        [features_zeros.sample(frac=fraction, random_state=12345)] + [features_ones])\n",
    "    target_downsampled = pd.concat(\n",
    "        [target_zeros.sample(frac=fraction, random_state=12345)] + [target_ones])\n",
    "    \n",
    "    features_downsampled, target_downsampled = shuffle(\n",
    "        features_downsampled, target_downsampled, random_state=12345)\n",
    "    \n",
    "    return features_downsampled, target_downsampled\n",
    "\n",
    "features_downsampled, target_downsampled = downsample(features_train, target_train, 0.3)"
   ]
  },
  {
   "cell_type": "code",
   "execution_count": 56,
   "metadata": {},
   "outputs": [
    {
     "name": "stdout",
     "output_type": "stream",
     "text": [
      "max_depth: 1 F1: 0.4900221729490022\n",
      "max_depth: 5 F1: 0.5119735755573905\n",
      "max_depth: 9 F1: 0.5425742574257426\n",
      "max_depth: 13 F1: 0.495897903372835\n",
      "max_depth: 17 F1: 0.4840425531914893\n"
     ]
    }
   ],
   "source": [
    "# экспериментируем с решающим деревом\n",
    "for max_depth in range(1,18,4):\n",
    "    model_dt_downsampled = DecisionTreeClassifier(random_state=12345, max_depth=max_depth, class_weight = 'balanced') \n",
    "# обучаем модель с заданной глубиной дерева\n",
    "    model_dt_downsampled.fit(features_downsampled, target_downsampled) # обучаем модель\n",
    "    predictions_dt_downsampled = model_dt_downsampled.predict(features_valid) # получаем предсказания модели\n",
    "    print('max_depth:',max_depth,'F1:',f1_score(target_valid, predictions_dt_downsampled))"
   ]
  },
  {
   "cell_type": "markdown",
   "metadata": {},
   "source": [
    "*Решающее дерево показывает max_depth: 4 F1: 0.5449957947855342*"
   ]
  },
  {
   "cell_type": "code",
   "execution_count": 57,
   "metadata": {
    "scrolled": true
   },
   "outputs": [
    {
     "name": "stdout",
     "output_type": "stream",
     "text": [
      "max_depth: 1 F1: 0.5309568480300187\n",
      "max_depth: 4 F1: 0.5817490494296579\n",
      "max_depth: 7 F1: 0.5876494023904382\n",
      "max_depth: 10 F1: 0.5771543086172345\n"
     ]
    }
   ],
   "source": [
    "# экспериментируем в модели случайный лес\n",
    "for max_depth in range(1,12,3):\n",
    "    model_forest_upsample = RandomForestClassifier(max_depth = max_depth, random_state=12345, n_estimators=120, class_weight = 'balanced')\n",
    "    model_forest_upsample.fit(features_downsampled, target_downsampled)\n",
    "    predictions_upsample = model_forest_upsample.predict(features_valid)\n",
    "    print('max_depth:',max_depth,'F1:',f1_score(target_valid, predictions_upsample))"
   ]
  },
  {
   "cell_type": "code",
   "execution_count": 58,
   "metadata": {},
   "outputs": [
    {
     "name": "stdout",
     "output_type": "stream",
     "text": [
      "F1: 0.49162995594713654\n"
     ]
    }
   ],
   "source": [
    "# экспериментируем в модели логистической регрессии\n",
    "model_downsample = LogisticRegression(random_state=12345, solver='liblinear', class_weight = 'balanced')\n",
    "model_downsample.fit(features_downsampled, target_downsampled)\n",
    "predicted_valid = model_downsample.predict(features_valid)\n",
    "\n",
    "print(\"F1:\", f1_score(target_valid, predicted_valid))"
   ]
  },
  {
   "cell_type": "markdown",
   "metadata": {},
   "source": [
    "*Метрика логистической регрессии построенная техникой downsampling снинизилась, такое явление встречается на практике.*"
   ]
  },
  {
   "cell_type": "markdown",
   "metadata": {},
   "source": [
    "## Тестирование модели"
   ]
  },
  {
   "cell_type": "markdown",
   "metadata": {},
   "source": [
    "**начну тестировать model_dt, решающего дерева**"
   ]
  },
  {
   "cell_type": "markdown",
   "metadata": {},
   "source": [
    "*При обучении лучшие результаты решающего дерева показало значение max_depth: 10 F1: 0.5927306616961789 с использованием метода downsampled.*"
   ]
  },
  {
   "cell_type": "code",
   "execution_count": 59,
   "metadata": {},
   "outputs": [],
   "source": [
    "# готовим исключительно признаки на тестовой выборке\n",
    "#features_test = df_test.drop(['exited'], axis=1)\n",
    "# готовим исключительно целевой признак на тестовой выборке\n",
    "#target_test = df_test['exited']"
   ]
  },
  {
   "cell_type": "markdown",
   "metadata": {},
   "source": [
    "**тестирую случайный лес (random forest, далее - model_forest_test)**"
   ]
  },
  {
   "cell_type": "code",
   "execution_count": 60,
   "metadata": {},
   "outputs": [],
   "source": [
    "#for max_depth in range(1,20,1):\n",
    "    #model_forest_test = RandomForestClassifier(max_depth = max_depth, random_state=12345, n_estimators=100, class_weight = 'balanced')\n",
    "    #model_forest_test.fit(features_train, target_train)\n",
    "    #predictions_test = model_forest_test.predict(features_test)\n",
    "    #print('max_depth:',max_depth,'F1:',f1_score(target_test, predictions_test))"
   ]
  },
  {
   "cell_type": "markdown",
   "metadata": {},
   "source": [
    "*На тесте случайного леса максимальным занчением получается max_depth: 1 F1: 0.3812849162011173*"
   ]
  },
  {
   "cell_type": "markdown",
   "metadata": {},
   "source": [
    "**Обучаю лучшую модель и тестирую ее**"
   ]
  },
  {
   "cell_type": "code",
   "execution_count": 61,
   "metadata": {},
   "outputs": [
    {
     "name": "stdout",
     "output_type": "stream",
     "text": [
      "max_depth: 10 F1: 0.6391129032258065\n"
     ]
    }
   ],
   "source": [
    "# лучшая модель - случайный лес с методом upsampled\n",
    "model_best = RandomForestClassifier(max_depth = 7, random_state=12345, n_estimators=40, class_weight = 'balanced')\n",
    "model_best.fit(features_upsampled, target_upsampled)\n",
    "predictions_test = model_best.predict(features_test)\n",
    "print('max_depth:',max_depth,'F1:',f1_score(target_test, predictions_test))"
   ]
  },
  {
   "cell_type": "markdown",
   "metadata": {},
   "source": [
    "**проводим исследование метрики AUC-ROC**"
   ]
  },
  {
   "cell_type": "markdown",
   "metadata": {},
   "source": [
    "*метрика получилась не плохая, но до идеальной модели далеко*"
   ]
  },
  {
   "cell_type": "code",
   "execution_count": 68,
   "metadata": {
    "scrolled": true
   },
   "outputs": [
    {
     "data": {
      "text/plain": [
       "<Figure size 432x288 with 0 Axes>"
      ]
     },
     "metadata": {},
     "output_type": "display_data"
    },
    {
     "data": {
      "image/png": "[encoded data removed]",
      "text/plain": [
       "<Figure size 432x288 with 1 Axes>"
      ]
     },
     "metadata": {},
     "output_type": "display_data"
    }
   ],
   "source": [
    "# работаю ниже согласно рекомендации с лучшей моделью\n",
    "probabilities_best = model_best.predict_proba(features_test)\n",
    "probabilities_one_test = probabilities_best[:, 1]\n",
    "\n",
    "fpr, tpr, thresholds = fpr, tpr, thresholds = roc_curve(target_test, probabilities_one_test)\n",
    "plt.figure()\n",
    "plt.figure()\n",
    "plt.plot(fpr, tpr)\n",
    "plt.xlim([0.0, 1.0])\n",
    "plt.ylim([0.0, 1.0])\n",
    "plt.xlabel('False Positive Rate')\n",
    "plt.ylabel('True Positive Rate')\n",
    "plt.title('ROC-кривая Случайного леса')\n",
    "plt.show()"
   ]
  },
  {
   "cell_type": "code",
   "execution_count": 69,
   "metadata": {},
   "outputs": [
    {
     "name": "stdout",
     "output_type": "stream",
     "text": [
      "auc_roc случайного леса: 0.8684049061392587\n"
     ]
    }
   ],
   "source": [
    "auc_roc = roc_auc_score(target_test, probabilities_one_test)\n",
    "print(\"auc_roc случайного леса:\",auc_roc)"
   ]
  },
  {
   "cell_type": "markdown",
   "metadata": {},
   "source": [
    "**Общий вывод о проделанной работе:**\n",
    "- была проделана значительная работа в рамках знакомства с данными и ее предообработки, в результате получен датафрейм, который позволил провести дальнейшее исследование с чистыми данными на входе (принцип GiGo);\n",
    "\n",
    "- построенны модели классификации на несбалансированных дынных, f1 демонстрирвал доастаточно низкие показатели. Известно, что метрика f1 помогает нам оценить производительность алгоритма. Это помогает нам оценить производительность модели обучения машины с точки зрения бинарной классификации; Нам нужно было достичь высокого балла f1, которая указала бы, что модель хорошо разбирается с точки зрения обращения с задачей дисбаланса класса.\n",
    "\n",
    "- дальше пошагово в работе проведена балансировка моделей и определена лучшая - случайный лес с использованием метода upsampled.\n",
    "\n",
    "- после проведения тестирования лучшая модель показала результат f1 - меры : 0.6391129032258065.\n",
    "\n",
    "- в работе получена ROC кривая, это вертикальная линия от (0,0) до (0,1), которая тянется до (1,1). Это означает, что полученная модель всегда может различить положительные и отрицательные случаи;\n",
    "\n",
    "-  для задачи бинарной классификации достигнуто разумное значение AUC > 0.5, со значением  0.8684049061392587."
   ]
  }
 ],
 "metadata": {
  "ExecuteTimeLog": [
   {
    "duration": 1165,
    "start_time": "2022-03-05T12:45:15.892Z"
   },
   {
    "duration": 3716,
    "start_time": "2022-03-05T12:49:29.104Z"
   },
   {
    "duration": 24,
    "start_time": "2022-03-05T12:53:02.852Z"
   },
   {
    "duration": 1191,
    "start_time": "2022-03-05T12:53:09.840Z"
   },
   {
    "duration": 32,
    "start_time": "2022-03-05T12:53:11.033Z"
   },
   {
    "duration": 16,
    "start_time": "2022-03-05T12:53:35.537Z"
   },
   {
    "duration": 8,
    "start_time": "2022-03-05T12:54:42.838Z"
   },
   {
    "duration": 13,
    "start_time": "2022-03-05T13:29:29.747Z"
   },
   {
    "duration": 1182,
    "start_time": "2022-03-05T13:30:06.179Z"
   },
   {
    "duration": 29,
    "start_time": "2022-03-05T13:30:07.363Z"
   },
   {
    "duration": 15,
    "start_time": "2022-03-05T13:30:07.394Z"
   },
   {
    "duration": 12,
    "start_time": "2022-03-05T13:30:07.411Z"
   },
   {
    "duration": 15,
    "start_time": "2022-03-05T13:30:07.425Z"
   },
   {
    "duration": 5,
    "start_time": "2022-03-06T09:22:42.919Z"
   },
   {
    "duration": 306,
    "start_time": "2022-03-06T09:38:43.002Z"
   },
   {
    "duration": 1543,
    "start_time": "2022-03-06T09:38:49.499Z"
   },
   {
    "duration": 31,
    "start_time": "2022-03-06T09:38:51.045Z"
   },
   {
    "duration": 26,
    "start_time": "2022-03-06T09:38:51.079Z"
   },
   {
    "duration": 21,
    "start_time": "2022-03-06T09:38:51.108Z"
   },
   {
    "duration": 14,
    "start_time": "2022-03-06T09:38:51.131Z"
   },
   {
    "duration": 9,
    "start_time": "2022-03-06T09:38:51.147Z"
   },
   {
    "duration": 11,
    "start_time": "2022-03-06T09:54:31.588Z"
   },
   {
    "duration": 8,
    "start_time": "2022-03-06T09:55:11.125Z"
   },
   {
    "duration": 5,
    "start_time": "2022-03-06T10:01:44.482Z"
   },
   {
    "duration": 5,
    "start_time": "2022-03-06T10:02:16.690Z"
   },
   {
    "duration": 418,
    "start_time": "2022-03-06T10:03:10.724Z"
   },
   {
    "duration": 6,
    "start_time": "2022-03-06T10:04:29.044Z"
   },
   {
    "duration": 7,
    "start_time": "2022-03-06T10:05:00.300Z"
   },
   {
    "duration": 11,
    "start_time": "2022-03-06T10:10:05.876Z"
   },
   {
    "duration": 19,
    "start_time": "2022-03-06T10:12:53.270Z"
   },
   {
    "duration": 188,
    "start_time": "2022-03-06T10:17:24.262Z"
   },
   {
    "duration": 21,
    "start_time": "2022-03-06T10:17:36.362Z"
   },
   {
    "duration": 1437,
    "start_time": "2022-03-06T10:17:59.111Z"
   },
   {
    "duration": 38,
    "start_time": "2022-03-06T10:18:00.550Z"
   },
   {
    "duration": 40,
    "start_time": "2022-03-06T10:18:00.592Z"
   },
   {
    "duration": 31,
    "start_time": "2022-03-06T10:18:00.636Z"
   },
   {
    "duration": 30,
    "start_time": "2022-03-06T10:18:00.670Z"
   },
   {
    "duration": 12,
    "start_time": "2022-03-06T10:18:00.702Z"
   },
   {
    "duration": 167,
    "start_time": "2022-03-06T10:18:00.717Z"
   },
   {
    "duration": 14,
    "start_time": "2022-03-06T10:18:00.886Z"
   },
   {
    "duration": 19,
    "start_time": "2022-03-06T10:18:00.904Z"
   },
   {
    "duration": 22,
    "start_time": "2022-03-06T10:18:00.925Z"
   },
   {
    "duration": 25,
    "start_time": "2022-03-06T10:18:00.949Z"
   },
   {
    "duration": 186,
    "start_time": "2022-03-06T10:18:00.976Z"
   },
   {
    "duration": 125,
    "start_time": "2022-03-06T10:18:01.164Z"
   },
   {
    "duration": 24,
    "start_time": "2022-03-06T10:24:35.120Z"
   },
   {
    "duration": 88,
    "start_time": "2022-03-06T10:26:22.233Z"
   },
   {
    "duration": 4,
    "start_time": "2022-03-06T10:47:09.598Z"
   },
   {
    "duration": 21,
    "start_time": "2022-03-06T10:47:18.569Z"
   },
   {
    "duration": 1523,
    "start_time": "2022-03-06T10:48:57.192Z"
   },
   {
    "duration": 30,
    "start_time": "2022-03-06T10:48:58.718Z"
   },
   {
    "duration": 21,
    "start_time": "2022-03-06T10:48:58.751Z"
   },
   {
    "duration": 28,
    "start_time": "2022-03-06T10:48:58.774Z"
   },
   {
    "duration": 13,
    "start_time": "2022-03-06T10:48:58.804Z"
   },
   {
    "duration": 8,
    "start_time": "2022-03-06T10:48:58.819Z"
   },
   {
    "duration": 8,
    "start_time": "2022-03-06T10:48:58.829Z"
   },
   {
    "duration": 48,
    "start_time": "2022-03-06T10:48:58.840Z"
   },
   {
    "duration": 5,
    "start_time": "2022-03-06T10:48:58.891Z"
   },
   {
    "duration": 8,
    "start_time": "2022-03-06T10:48:58.898Z"
   },
   {
    "duration": 8,
    "start_time": "2022-03-06T10:48:58.909Z"
   },
   {
    "duration": 196,
    "start_time": "2022-03-06T10:48:58.919Z"
   },
   {
    "duration": 19,
    "start_time": "2022-03-06T10:48:59.117Z"
   },
   {
    "duration": 30,
    "start_time": "2022-03-06T10:48:59.139Z"
   },
   {
    "duration": 4,
    "start_time": "2022-03-06T10:48:59.187Z"
   },
   {
    "duration": 21,
    "start_time": "2022-03-06T10:48:59.194Z"
   },
   {
    "duration": 1069,
    "start_time": "2022-03-06T10:55:47.211Z"
   },
   {
    "duration": 1543,
    "start_time": "2022-03-06T10:56:06.745Z"
   },
   {
    "duration": 30,
    "start_time": "2022-03-06T10:56:08.290Z"
   },
   {
    "duration": 24,
    "start_time": "2022-03-06T10:56:08.323Z"
   },
   {
    "duration": 18,
    "start_time": "2022-03-06T10:56:08.350Z"
   },
   {
    "duration": 31,
    "start_time": "2022-03-06T10:56:08.371Z"
   },
   {
    "duration": 12,
    "start_time": "2022-03-06T10:56:08.405Z"
   },
   {
    "duration": 10,
    "start_time": "2022-03-06T10:56:08.420Z"
   },
   {
    "duration": 6,
    "start_time": "2022-03-06T10:56:08.435Z"
   },
   {
    "duration": 5,
    "start_time": "2022-03-06T10:56:08.487Z"
   },
   {
    "duration": 9,
    "start_time": "2022-03-06T10:56:08.494Z"
   },
   {
    "duration": 15,
    "start_time": "2022-03-06T10:56:08.505Z"
   },
   {
    "duration": 198,
    "start_time": "2022-03-06T10:56:08.522Z"
   },
   {
    "duration": 23,
    "start_time": "2022-03-06T10:56:08.722Z"
   },
   {
    "duration": 40,
    "start_time": "2022-03-06T10:56:08.748Z"
   },
   {
    "duration": 4,
    "start_time": "2022-03-06T10:56:08.791Z"
   },
   {
    "duration": 25,
    "start_time": "2022-03-06T10:56:08.797Z"
   },
   {
    "duration": 2255,
    "start_time": "2022-03-06T10:56:08.824Z"
   },
   {
    "duration": 31,
    "start_time": "2022-03-06T10:59:52.109Z"
   },
   {
    "duration": 88,
    "start_time": "2022-03-06T11:00:24.352Z"
   },
   {
    "duration": 27,
    "start_time": "2022-03-06T11:00:38.863Z"
   },
   {
    "duration": 73,
    "start_time": "2022-03-06T11:00:46.739Z"
   },
   {
    "duration": 91,
    "start_time": "2022-03-06T11:01:02.838Z"
   },
   {
    "duration": 26,
    "start_time": "2022-03-06T11:01:23.602Z"
   },
   {
    "duration": 24,
    "start_time": "2022-03-06T11:02:12.495Z"
   },
   {
    "duration": 4,
    "start_time": "2022-03-06T11:02:45.466Z"
   },
   {
    "duration": 1423,
    "start_time": "2022-03-06T11:02:50.316Z"
   },
   {
    "duration": 35,
    "start_time": "2022-03-06T11:02:51.742Z"
   },
   {
    "duration": 23,
    "start_time": "2022-03-06T11:02:51.780Z"
   },
   {
    "duration": 18,
    "start_time": "2022-03-06T11:02:51.806Z"
   },
   {
    "duration": 12,
    "start_time": "2022-03-06T11:02:51.826Z"
   },
   {
    "duration": 9,
    "start_time": "2022-03-06T11:02:51.841Z"
   },
   {
    "duration": 8,
    "start_time": "2022-03-06T11:02:51.887Z"
   },
   {
    "duration": 9,
    "start_time": "2022-03-06T11:02:51.897Z"
   },
   {
    "duration": 5,
    "start_time": "2022-03-06T11:02:51.909Z"
   },
   {
    "duration": 11,
    "start_time": "2022-03-06T11:02:51.917Z"
   },
   {
    "duration": 13,
    "start_time": "2022-03-06T11:02:51.931Z"
   },
   {
    "duration": 201,
    "start_time": "2022-03-06T11:02:51.946Z"
   },
   {
    "duration": 23,
    "start_time": "2022-03-06T11:02:52.149Z"
   },
   {
    "duration": 15,
    "start_time": "2022-03-06T11:02:52.174Z"
   },
   {
    "duration": 27,
    "start_time": "2022-03-06T11:02:52.191Z"
   },
   {
    "duration": 28,
    "start_time": "2022-03-06T11:02:52.220Z"
   },
   {
    "duration": 1021,
    "start_time": "2022-03-06T11:02:52.251Z"
   },
   {
    "duration": -963,
    "start_time": "2022-03-06T11:02:54.238Z"
   },
   {
    "duration": 28,
    "start_time": "2022-03-06T11:03:07.771Z"
   },
   {
    "duration": 24,
    "start_time": "2022-03-06T11:03:41.121Z"
   },
   {
    "duration": 257,
    "start_time": "2022-03-06T11:19:53.724Z"
   },
   {
    "duration": 232,
    "start_time": "2022-03-06T11:20:19.615Z"
   },
   {
    "duration": 9,
    "start_time": "2022-03-06T11:31:59.322Z"
   },
   {
    "duration": 7,
    "start_time": "2022-03-06T11:32:04.027Z"
   },
   {
    "duration": 6,
    "start_time": "2022-03-06T11:33:31.060Z"
   },
   {
    "duration": 1520,
    "start_time": "2022-03-06T11:33:37.930Z"
   },
   {
    "duration": 35,
    "start_time": "2022-03-06T11:33:39.453Z"
   },
   {
    "duration": 21,
    "start_time": "2022-03-06T11:33:39.492Z"
   },
   {
    "duration": 18,
    "start_time": "2022-03-06T11:33:39.516Z"
   },
   {
    "duration": 16,
    "start_time": "2022-03-06T11:33:39.536Z"
   },
   {
    "duration": 38,
    "start_time": "2022-03-06T11:33:39.555Z"
   },
   {
    "duration": 11,
    "start_time": "2022-03-06T11:33:39.596Z"
   },
   {
    "duration": 5,
    "start_time": "2022-03-06T11:33:39.612Z"
   },
   {
    "duration": 6,
    "start_time": "2022-03-06T11:33:39.621Z"
   },
   {
    "duration": 14,
    "start_time": "2022-03-06T11:33:39.630Z"
   },
   {
    "duration": 10,
    "start_time": "2022-03-06T11:33:39.688Z"
   },
   {
    "duration": 195,
    "start_time": "2022-03-06T11:33:39.701Z"
   },
   {
    "duration": 20,
    "start_time": "2022-03-06T11:33:39.898Z"
   },
   {
    "duration": 5,
    "start_time": "2022-03-06T11:33:39.920Z"
   },
   {
    "duration": 22,
    "start_time": "2022-03-06T11:33:39.927Z"
   },
   {
    "duration": 58,
    "start_time": "2022-03-06T11:33:39.951Z"
   },
   {
    "duration": 1098,
    "start_time": "2022-03-06T11:33:40.011Z"
   },
   {
    "duration": -955,
    "start_time": "2022-03-06T11:33:42.067Z"
   },
   {
    "duration": -959,
    "start_time": "2022-03-06T11:33:42.073Z"
   },
   {
    "duration": 3,
    "start_time": "2022-03-06T11:34:00.692Z"
   },
   {
    "duration": 1750,
    "start_time": "2022-03-06T11:37:17.315Z"
   },
   {
    "duration": 40,
    "start_time": "2022-03-06T11:37:19.070Z"
   },
   {
    "duration": 22,
    "start_time": "2022-03-06T11:37:19.113Z"
   },
   {
    "duration": 17,
    "start_time": "2022-03-06T11:37:19.138Z"
   },
   {
    "duration": 38,
    "start_time": "2022-03-06T11:37:19.158Z"
   },
   {
    "duration": 9,
    "start_time": "2022-03-06T11:37:19.198Z"
   },
   {
    "duration": 8,
    "start_time": "2022-03-06T11:37:19.210Z"
   },
   {
    "duration": 5,
    "start_time": "2022-03-06T11:37:19.222Z"
   },
   {
    "duration": 6,
    "start_time": "2022-03-06T11:37:19.229Z"
   },
   {
    "duration": 49,
    "start_time": "2022-03-06T11:37:19.238Z"
   },
   {
    "duration": 10,
    "start_time": "2022-03-06T11:37:19.290Z"
   },
   {
    "duration": 196,
    "start_time": "2022-03-06T11:37:19.302Z"
   },
   {
    "duration": 21,
    "start_time": "2022-03-06T11:37:19.501Z"
   },
   {
    "duration": 5,
    "start_time": "2022-03-06T11:37:19.525Z"
   },
   {
    "duration": 25,
    "start_time": "2022-03-06T11:37:19.532Z"
   },
   {
    "duration": 25,
    "start_time": "2022-03-06T11:37:19.587Z"
   },
   {
    "duration": 3,
    "start_time": "2022-03-06T11:37:19.615Z"
   },
   {
    "duration": 20,
    "start_time": "2022-03-06T11:37:19.621Z"
   },
   {
    "duration": 58,
    "start_time": "2022-03-06T11:37:19.644Z"
   },
   {
    "duration": 385,
    "start_time": "2022-03-06T11:38:12.417Z"
   },
   {
    "duration": 249,
    "start_time": "2022-03-06T11:38:16.226Z"
   },
   {
    "duration": 231,
    "start_time": "2022-03-06T11:38:25.301Z"
   },
   {
    "duration": 236,
    "start_time": "2022-03-06T11:38:28.585Z"
   },
   {
    "duration": 228,
    "start_time": "2022-03-06T11:39:21.828Z"
   },
   {
    "duration": 5,
    "start_time": "2022-03-06T11:39:49.420Z"
   },
   {
    "duration": 1502,
    "start_time": "2022-03-06T11:41:06.122Z"
   },
   {
    "duration": 30,
    "start_time": "2022-03-06T11:41:07.627Z"
   },
   {
    "duration": 36,
    "start_time": "2022-03-06T11:41:07.660Z"
   },
   {
    "duration": 18,
    "start_time": "2022-03-06T11:41:07.699Z"
   },
   {
    "duration": 15,
    "start_time": "2022-03-06T11:41:07.719Z"
   },
   {
    "duration": 9,
    "start_time": "2022-03-06T11:41:07.737Z"
   },
   {
    "duration": 43,
    "start_time": "2022-03-06T11:41:07.749Z"
   },
   {
    "duration": 4,
    "start_time": "2022-03-06T11:41:07.798Z"
   },
   {
    "duration": 6,
    "start_time": "2022-03-06T11:41:07.806Z"
   },
   {
    "duration": 8,
    "start_time": "2022-03-06T11:41:07.815Z"
   },
   {
    "duration": 11,
    "start_time": "2022-03-06T11:41:07.825Z"
   },
   {
    "duration": 202,
    "start_time": "2022-03-06T11:41:07.889Z"
   },
   {
    "duration": 19,
    "start_time": "2022-03-06T11:41:08.094Z"
   },
   {
    "duration": 5,
    "start_time": "2022-03-06T11:41:08.116Z"
   },
   {
    "duration": 22,
    "start_time": "2022-03-06T11:41:08.124Z"
   },
   {
    "duration": 59,
    "start_time": "2022-03-06T11:41:08.148Z"
   },
   {
    "duration": 3,
    "start_time": "2022-03-06T11:41:08.209Z"
   },
   {
    "duration": 17,
    "start_time": "2022-03-06T11:41:08.215Z"
   },
   {
    "duration": 9,
    "start_time": "2022-03-06T11:41:08.235Z"
   },
   {
    "duration": 8,
    "start_time": "2022-03-06T11:41:08.246Z"
   },
   {
    "duration": 20,
    "start_time": "2022-03-06T11:42:51.162Z"
   },
   {
    "duration": 22,
    "start_time": "2022-03-06T11:44:31.669Z"
   },
   {
    "duration": 75,
    "start_time": "2022-03-06T11:45:48.599Z"
   },
   {
    "duration": 78,
    "start_time": "2022-03-06T11:46:34.941Z"
   },
   {
    "duration": 76,
    "start_time": "2022-03-06T11:48:17.869Z"
   },
   {
    "duration": 84,
    "start_time": "2022-03-06T11:49:21.940Z"
   },
   {
    "duration": 1577,
    "start_time": "2022-03-06T11:54:34.468Z"
   },
   {
    "duration": 32,
    "start_time": "2022-03-06T11:54:36.049Z"
   },
   {
    "duration": 23,
    "start_time": "2022-03-06T11:54:36.084Z"
   },
   {
    "duration": 19,
    "start_time": "2022-03-06T11:54:36.109Z"
   },
   {
    "duration": 15,
    "start_time": "2022-03-06T11:54:36.130Z"
   },
   {
    "duration": 41,
    "start_time": "2022-03-06T11:54:36.147Z"
   },
   {
    "duration": 14,
    "start_time": "2022-03-06T11:54:36.191Z"
   },
   {
    "duration": 7,
    "start_time": "2022-03-06T11:54:36.209Z"
   },
   {
    "duration": 6,
    "start_time": "2022-03-06T11:54:36.219Z"
   },
   {
    "duration": 12,
    "start_time": "2022-03-06T11:54:36.227Z"
   },
   {
    "duration": 12,
    "start_time": "2022-03-06T11:54:36.242Z"
   },
   {
    "duration": 213,
    "start_time": "2022-03-06T11:54:36.257Z"
   },
   {
    "duration": 33,
    "start_time": "2022-03-06T11:54:36.472Z"
   },
   {
    "duration": 13,
    "start_time": "2022-03-06T11:54:36.507Z"
   },
   {
    "duration": 31,
    "start_time": "2022-03-06T11:54:36.522Z"
   },
   {
    "duration": 47,
    "start_time": "2022-03-06T11:54:36.555Z"
   },
   {
    "duration": 4,
    "start_time": "2022-03-06T11:54:36.604Z"
   },
   {
    "duration": 11,
    "start_time": "2022-03-06T11:54:36.611Z"
   },
   {
    "duration": 11,
    "start_time": "2022-03-06T11:54:36.625Z"
   },
   {
    "duration": 9,
    "start_time": "2022-03-06T11:54:36.639Z"
   },
   {
    "duration": 52,
    "start_time": "2022-03-06T11:54:36.650Z"
   },
   {
    "duration": 387,
    "start_time": "2022-03-06T13:39:02.089Z"
   },
   {
    "duration": 18,
    "start_time": "2022-03-06T13:39:11.997Z"
   },
   {
    "duration": 1616,
    "start_time": "2022-03-06T13:39:44.965Z"
   },
   {
    "duration": 30,
    "start_time": "2022-03-06T13:39:46.584Z"
   },
   {
    "duration": 23,
    "start_time": "2022-03-06T13:39:46.617Z"
   },
   {
    "duration": 24,
    "start_time": "2022-03-06T13:39:46.643Z"
   },
   {
    "duration": 29,
    "start_time": "2022-03-06T13:39:46.669Z"
   },
   {
    "duration": 10,
    "start_time": "2022-03-06T13:39:46.700Z"
   },
   {
    "duration": 9,
    "start_time": "2022-03-06T13:39:46.712Z"
   },
   {
    "duration": 5,
    "start_time": "2022-03-06T13:39:46.725Z"
   },
   {
    "duration": 51,
    "start_time": "2022-03-06T13:39:46.737Z"
   },
   {
    "duration": 9,
    "start_time": "2022-03-06T13:39:46.792Z"
   },
   {
    "duration": 14,
    "start_time": "2022-03-06T13:39:46.804Z"
   },
   {
    "duration": 225,
    "start_time": "2022-03-06T13:39:46.821Z"
   },
   {
    "duration": 26,
    "start_time": "2022-03-06T13:39:47.048Z"
   },
   {
    "duration": 5,
    "start_time": "2022-03-06T13:39:47.088Z"
   },
   {
    "duration": 24,
    "start_time": "2022-03-06T13:39:47.095Z"
   },
   {
    "duration": 24,
    "start_time": "2022-03-06T13:39:47.121Z"
   },
   {
    "duration": 2,
    "start_time": "2022-03-06T13:39:47.148Z"
   },
   {
    "duration": 11,
    "start_time": "2022-03-06T13:39:47.187Z"
   },
   {
    "duration": 9,
    "start_time": "2022-03-06T13:39:47.200Z"
   },
   {
    "duration": 137,
    "start_time": "2022-03-06T13:39:47.211Z"
   },
   {
    "duration": 29,
    "start_time": "2022-03-06T13:39:47.350Z"
   },
   {
    "duration": 21,
    "start_time": "2022-03-06T13:39:47.382Z"
   },
   {
    "duration": 20,
    "start_time": "2022-03-06T13:40:57.858Z"
   },
   {
    "duration": 368,
    "start_time": "2022-03-06T13:43:46.899Z"
   },
   {
    "duration": 15,
    "start_time": "2022-03-06T13:43:52.195Z"
   },
   {
    "duration": 9,
    "start_time": "2022-03-06T14:00:53.360Z"
   },
   {
    "duration": 16,
    "start_time": "2022-03-06T14:02:15.386Z"
   },
   {
    "duration": 1527,
    "start_time": "2022-03-06T14:03:34.924Z"
   },
   {
    "duration": 30,
    "start_time": "2022-03-06T14:03:36.454Z"
   },
   {
    "duration": 22,
    "start_time": "2022-03-06T14:03:36.488Z"
   },
   {
    "duration": 24,
    "start_time": "2022-03-06T14:03:36.512Z"
   },
   {
    "duration": 13,
    "start_time": "2022-03-06T14:03:36.538Z"
   },
   {
    "duration": 36,
    "start_time": "2022-03-06T14:03:36.553Z"
   },
   {
    "duration": 7,
    "start_time": "2022-03-06T14:03:36.592Z"
   },
   {
    "duration": 8,
    "start_time": "2022-03-06T14:03:36.601Z"
   },
   {
    "duration": 7,
    "start_time": "2022-03-06T14:03:36.613Z"
   },
   {
    "duration": 13,
    "start_time": "2022-03-06T14:03:36.622Z"
   },
   {
    "duration": 9,
    "start_time": "2022-03-06T14:03:36.638Z"
   },
   {
    "duration": 205,
    "start_time": "2022-03-06T14:03:36.650Z"
   },
   {
    "duration": 31,
    "start_time": "2022-03-06T14:03:36.857Z"
   },
   {
    "duration": 4,
    "start_time": "2022-03-06T14:03:36.890Z"
   },
   {
    "duration": 21,
    "start_time": "2022-03-06T14:03:36.896Z"
   },
   {
    "duration": 24,
    "start_time": "2022-03-06T14:03:36.920Z"
   },
   {
    "duration": 3,
    "start_time": "2022-03-06T14:03:36.946Z"
   },
   {
    "duration": 37,
    "start_time": "2022-03-06T14:03:36.951Z"
   },
   {
    "duration": 23,
    "start_time": "2022-03-06T14:03:36.990Z"
   },
   {
    "duration": 1139,
    "start_time": "2022-03-06T14:03:37.015Z"
   },
   {
    "duration": -475,
    "start_time": "2022-03-06T14:03:38.631Z"
   },
   {
    "duration": -479,
    "start_time": "2022-03-06T14:03:38.637Z"
   },
   {
    "duration": -481,
    "start_time": "2022-03-06T14:03:38.640Z"
   },
   {
    "duration": -484,
    "start_time": "2022-03-06T14:03:38.645Z"
   },
   {
    "duration": -484,
    "start_time": "2022-03-06T14:03:38.647Z"
   },
   {
    "duration": 1543,
    "start_time": "2022-03-06T14:04:26.066Z"
   },
   {
    "duration": 33,
    "start_time": "2022-03-06T14:04:27.612Z"
   },
   {
    "duration": 41,
    "start_time": "2022-03-06T14:04:27.648Z"
   },
   {
    "duration": 20,
    "start_time": "2022-03-06T14:04:27.692Z"
   },
   {
    "duration": 20,
    "start_time": "2022-03-06T14:04:27.715Z"
   },
   {
    "duration": 11,
    "start_time": "2022-03-06T14:04:27.738Z"
   },
   {
    "duration": 43,
    "start_time": "2022-03-06T14:04:27.751Z"
   },
   {
    "duration": 7,
    "start_time": "2022-03-06T14:04:27.797Z"
   },
   {
    "duration": 5,
    "start_time": "2022-03-06T14:04:27.809Z"
   },
   {
    "duration": 8,
    "start_time": "2022-03-06T14:04:27.818Z"
   },
   {
    "duration": 12,
    "start_time": "2022-03-06T14:04:27.828Z"
   },
   {
    "duration": 186,
    "start_time": "2022-03-06T14:04:27.888Z"
   },
   {
    "duration": 28,
    "start_time": "2022-03-06T14:04:28.077Z"
   },
   {
    "duration": 18,
    "start_time": "2022-03-06T14:04:28.108Z"
   },
   {
    "duration": 3,
    "start_time": "2022-03-06T14:04:28.129Z"
   },
   {
    "duration": 60,
    "start_time": "2022-03-06T14:04:28.134Z"
   },
   {
    "duration": 25,
    "start_time": "2022-03-06T14:04:28.196Z"
   },
   {
    "duration": 3,
    "start_time": "2022-03-06T14:04:28.223Z"
   },
   {
    "duration": 6,
    "start_time": "2022-03-06T14:04:28.228Z"
   },
   {
    "duration": 21,
    "start_time": "2022-03-06T14:04:28.236Z"
   },
   {
    "duration": 373,
    "start_time": "2022-03-06T14:04:28.287Z"
   },
   {
    "duration": -467,
    "start_time": "2022-03-06T14:04:29.129Z"
   },
   {
    "duration": -469,
    "start_time": "2022-03-06T14:04:29.133Z"
   },
   {
    "duration": -472,
    "start_time": "2022-03-06T14:04:29.137Z"
   },
   {
    "duration": -473,
    "start_time": "2022-03-06T14:04:29.140Z"
   },
   {
    "duration": -476,
    "start_time": "2022-03-06T14:04:29.144Z"
   },
   {
    "duration": 1486,
    "start_time": "2022-03-06T14:05:49.354Z"
   },
   {
    "duration": 33,
    "start_time": "2022-03-06T14:05:50.844Z"
   },
   {
    "duration": 29,
    "start_time": "2022-03-06T14:05:50.880Z"
   },
   {
    "duration": 20,
    "start_time": "2022-03-06T14:05:50.912Z"
   },
   {
    "duration": 14,
    "start_time": "2022-03-06T14:05:50.935Z"
   },
   {
    "duration": 45,
    "start_time": "2022-03-06T14:05:50.951Z"
   },
   {
    "duration": 10,
    "start_time": "2022-03-06T14:05:50.999Z"
   },
   {
    "duration": 4,
    "start_time": "2022-03-06T14:05:51.015Z"
   },
   {
    "duration": 6,
    "start_time": "2022-03-06T14:05:51.023Z"
   },
   {
    "duration": 57,
    "start_time": "2022-03-06T14:05:51.032Z"
   },
   {
    "duration": 10,
    "start_time": "2022-03-06T14:05:51.092Z"
   },
   {
    "duration": 7,
    "start_time": "2022-03-06T14:05:51.104Z"
   },
   {
    "duration": 20,
    "start_time": "2022-03-06T14:05:51.113Z"
   },
   {
    "duration": 53,
    "start_time": "2022-03-06T14:05:51.135Z"
   },
   {
    "duration": 3,
    "start_time": "2022-03-06T14:05:51.190Z"
   },
   {
    "duration": 21,
    "start_time": "2022-03-06T14:05:51.195Z"
   },
   {
    "duration": 20,
    "start_time": "2022-03-06T14:05:51.219Z"
   },
   {
    "duration": 3,
    "start_time": "2022-03-06T14:05:51.241Z"
   },
   {
    "duration": 41,
    "start_time": "2022-03-06T14:05:51.246Z"
   },
   {
    "duration": 17,
    "start_time": "2022-03-06T14:05:51.290Z"
   },
   {
    "duration": 375,
    "start_time": "2022-03-06T14:05:51.309Z"
   },
   {
    "duration": -472,
    "start_time": "2022-03-06T14:05:52.159Z"
   },
   {
    "duration": -476,
    "start_time": "2022-03-06T14:05:52.165Z"
   },
   {
    "duration": -478,
    "start_time": "2022-03-06T14:05:52.169Z"
   },
   {
    "duration": -479,
    "start_time": "2022-03-06T14:05:52.172Z"
   },
   {
    "duration": -480,
    "start_time": "2022-03-06T14:05:52.175Z"
   },
   {
    "duration": 376,
    "start_time": "2022-03-06T14:14:49.087Z"
   },
   {
    "duration": 4,
    "start_time": "2022-03-06T14:17:48.382Z"
   },
   {
    "duration": 17,
    "start_time": "2022-03-06T14:17:51.210Z"
   },
   {
    "duration": 12,
    "start_time": "2022-03-06T14:17:56.429Z"
   },
   {
    "duration": 16,
    "start_time": "2022-03-06T14:20:57.469Z"
   },
   {
    "duration": 226,
    "start_time": "2022-03-06T14:21:32.123Z"
   },
   {
    "duration": 227,
    "start_time": "2022-03-06T14:21:39.451Z"
   },
   {
    "duration": 434,
    "start_time": "2022-03-06T14:21:49.309Z"
   },
   {
    "duration": 254,
    "start_time": "2022-03-06T14:25:13.282Z"
   },
   {
    "duration": 250,
    "start_time": "2022-03-06T14:25:25.962Z"
   },
   {
    "duration": 9,
    "start_time": "2022-03-06T14:28:07.938Z"
   },
   {
    "duration": 16,
    "start_time": "2022-03-06T14:28:11.428Z"
   },
   {
    "duration": 1575,
    "start_time": "2022-03-06T14:29:21.502Z"
   },
   {
    "duration": 9,
    "start_time": "2022-03-06T14:30:09.903Z"
   },
   {
    "duration": 9,
    "start_time": "2022-03-06T14:31:17.184Z"
   },
   {
    "duration": 17,
    "start_time": "2022-03-06T14:31:17.989Z"
   },
   {
    "duration": 10,
    "start_time": "2022-03-06T14:31:36.685Z"
   },
   {
    "duration": 9,
    "start_time": "2022-03-06T14:31:37.601Z"
   },
   {
    "duration": 10,
    "start_time": "2022-03-06T14:31:38.446Z"
   },
   {
    "duration": 16,
    "start_time": "2022-03-06T14:31:39.159Z"
   },
   {
    "duration": 12,
    "start_time": "2022-03-06T14:31:43.984Z"
   },
   {
    "duration": 8,
    "start_time": "2022-03-06T14:33:26.302Z"
   },
   {
    "duration": 9,
    "start_time": "2022-03-06T14:33:26.730Z"
   },
   {
    "duration": 18,
    "start_time": "2022-03-06T14:33:32.114Z"
   },
   {
    "duration": 6,
    "start_time": "2022-03-06T14:33:40.879Z"
   },
   {
    "duration": 1538,
    "start_time": "2022-03-06T14:34:28.733Z"
   },
   {
    "duration": 32,
    "start_time": "2022-03-06T14:34:30.274Z"
   },
   {
    "duration": 23,
    "start_time": "2022-03-06T14:34:30.309Z"
   },
   {
    "duration": 49,
    "start_time": "2022-03-06T14:34:30.335Z"
   },
   {
    "duration": 21,
    "start_time": "2022-03-06T14:34:30.386Z"
   },
   {
    "duration": 10,
    "start_time": "2022-03-06T14:34:30.410Z"
   },
   {
    "duration": 15,
    "start_time": "2022-03-06T14:34:30.422Z"
   },
   {
    "duration": 17,
    "start_time": "2022-03-06T14:34:30.443Z"
   },
   {
    "duration": 25,
    "start_time": "2022-03-06T14:34:30.463Z"
   },
   {
    "duration": 7,
    "start_time": "2022-03-06T14:34:30.491Z"
   },
   {
    "duration": 11,
    "start_time": "2022-03-06T14:34:30.501Z"
   },
   {
    "duration": 5,
    "start_time": "2022-03-06T14:34:30.514Z"
   },
   {
    "duration": 19,
    "start_time": "2022-03-06T14:34:30.521Z"
   },
   {
    "duration": 45,
    "start_time": "2022-03-06T14:34:30.542Z"
   },
   {
    "duration": 10,
    "start_time": "2022-03-06T14:34:30.589Z"
   },
   {
    "duration": 40,
    "start_time": "2022-03-06T14:34:30.601Z"
   },
   {
    "duration": 29,
    "start_time": "2022-03-06T14:34:30.643Z"
   },
   {
    "duration": 12,
    "start_time": "2022-03-06T14:34:30.675Z"
   },
   {
    "duration": 10,
    "start_time": "2022-03-06T14:34:30.690Z"
   },
   {
    "duration": 26,
    "start_time": "2022-03-06T14:34:30.702Z"
   },
   {
    "duration": 6,
    "start_time": "2022-03-06T14:34:30.731Z"
   },
   {
    "duration": 9,
    "start_time": "2022-03-06T14:34:30.740Z"
   },
   {
    "duration": 36,
    "start_time": "2022-03-06T14:34:30.753Z"
   },
   {
    "duration": 32,
    "start_time": "2022-03-06T14:34:30.792Z"
   },
   {
    "duration": 34,
    "start_time": "2022-03-06T14:34:30.827Z"
   },
   {
    "duration": 27,
    "start_time": "2022-03-06T14:34:30.864Z"
   },
   {
    "duration": 8,
    "start_time": "2022-03-06T14:36:03.219Z"
   },
   {
    "duration": 10,
    "start_time": "2022-03-06T14:36:25.709Z"
   },
   {
    "duration": 24,
    "start_time": "2022-03-06T14:38:22.624Z"
   },
   {
    "duration": 24,
    "start_time": "2022-03-06T15:19:32.438Z"
   },
   {
    "duration": 5,
    "start_time": "2022-03-06T15:45:32.592Z"
   },
   {
    "duration": 13833,
    "start_time": "2022-03-06T15:46:06.785Z"
   },
   {
    "duration": 5,
    "start_time": "2022-03-06T15:49:09.073Z"
   },
   {
    "duration": 13950,
    "start_time": "2022-03-06T15:49:18.274Z"
   },
   {
    "duration": 392,
    "start_time": "2022-03-06T15:52:55.067Z"
   },
   {
    "duration": 5,
    "start_time": "2022-03-06T15:53:04.732Z"
   },
   {
    "duration": 18528,
    "start_time": "2022-03-06T15:53:05.829Z"
   },
   {
    "duration": 5,
    "start_time": "2022-03-06T15:59:44.816Z"
   },
   {
    "duration": 15067,
    "start_time": "2022-03-06T15:59:45.502Z"
   },
   {
    "duration": 5,
    "start_time": "2022-03-06T16:08:53.230Z"
   },
   {
    "duration": 11,
    "start_time": "2022-03-06T16:09:26.997Z"
   },
   {
    "duration": 9,
    "start_time": "2022-03-06T16:11:58.324Z"
   },
   {
    "duration": 279,
    "start_time": "2022-03-06T16:21:10.204Z"
   },
   {
    "duration": 9,
    "start_time": "2022-03-06T16:21:18.666Z"
   },
   {
    "duration": 22,
    "start_time": "2022-03-06T16:27:51.815Z"
   },
   {
    "duration": 26,
    "start_time": "2022-03-06T16:28:06.746Z"
   },
   {
    "duration": 42,
    "start_time": "2022-03-06T16:28:45.225Z"
   },
   {
    "duration": 10,
    "start_time": "2022-03-06T16:31:35.184Z"
   },
   {
    "duration": 10,
    "start_time": "2022-03-06T16:31:58.585Z"
   },
   {
    "duration": 77,
    "start_time": "2022-03-06T16:32:13.696Z"
   },
   {
    "duration": 23,
    "start_time": "2022-03-06T16:32:42.006Z"
   },
   {
    "duration": 8,
    "start_time": "2022-03-06T16:32:57.979Z"
   },
   {
    "duration": 14,
    "start_time": "2022-03-06T16:34:02.820Z"
   },
   {
    "duration": 22,
    "start_time": "2022-03-06T16:34:13.016Z"
   },
   {
    "duration": 21,
    "start_time": "2022-03-06T16:34:47.456Z"
   },
   {
    "duration": 19,
    "start_time": "2022-03-06T16:35:05.263Z"
   },
   {
    "duration": 376,
    "start_time": "2022-03-06T16:35:27.830Z"
   },
   {
    "duration": 227,
    "start_time": "2022-03-06T16:35:35.800Z"
   },
   {
    "duration": 8,
    "start_time": "2022-03-06T16:35:41.686Z"
   },
   {
    "duration": 14,
    "start_time": "2022-03-06T16:35:42.356Z"
   },
   {
    "duration": 14,
    "start_time": "2022-03-06T18:20:59.247Z"
   },
   {
    "duration": 7,
    "start_time": "2022-03-06T18:21:06.924Z"
   },
   {
    "duration": 10,
    "start_time": "2022-03-06T18:21:22.128Z"
   },
   {
    "duration": 14,
    "start_time": "2022-03-06T18:21:45.283Z"
   },
   {
    "duration": 23,
    "start_time": "2022-03-06T18:22:13.551Z"
   },
   {
    "duration": 27,
    "start_time": "2022-03-06T18:31:19.889Z"
   },
   {
    "duration": 14,
    "start_time": "2022-03-06T18:31:43.696Z"
   },
   {
    "duration": 14,
    "start_time": "2022-03-06T18:32:04.303Z"
   },
   {
    "duration": 14,
    "start_time": "2022-03-06T18:33:04.265Z"
   },
   {
    "duration": 15,
    "start_time": "2022-03-06T18:33:38.112Z"
   },
   {
    "duration": 9,
    "start_time": "2022-03-06T18:36:27.582Z"
   },
   {
    "duration": 10,
    "start_time": "2022-03-06T18:36:55.857Z"
   },
   {
    "duration": 1550,
    "start_time": "2022-03-06T18:37:22.804Z"
   },
   {
    "duration": 35,
    "start_time": "2022-03-06T18:37:24.357Z"
   },
   {
    "duration": 22,
    "start_time": "2022-03-06T18:37:24.395Z"
   },
   {
    "duration": 18,
    "start_time": "2022-03-06T18:37:24.420Z"
   },
   {
    "duration": 12,
    "start_time": "2022-03-06T18:37:24.440Z"
   },
   {
    "duration": 38,
    "start_time": "2022-03-06T18:37:24.454Z"
   },
   {
    "duration": 11,
    "start_time": "2022-03-06T18:37:24.494Z"
   },
   {
    "duration": 8,
    "start_time": "2022-03-06T18:37:24.507Z"
   },
   {
    "duration": 6,
    "start_time": "2022-03-06T18:37:24.518Z"
   },
   {
    "duration": 6,
    "start_time": "2022-03-06T18:37:24.527Z"
   },
   {
    "duration": 13,
    "start_time": "2022-03-06T18:37:24.535Z"
   },
   {
    "duration": 4,
    "start_time": "2022-03-06T18:37:24.587Z"
   },
   {
    "duration": 12,
    "start_time": "2022-03-06T18:37:24.594Z"
   },
   {
    "duration": 9,
    "start_time": "2022-03-06T18:37:24.609Z"
   },
   {
    "duration": 11,
    "start_time": "2022-03-06T18:37:24.620Z"
   },
   {
    "duration": 18,
    "start_time": "2022-03-06T18:37:24.633Z"
   },
   {
    "duration": 49,
    "start_time": "2022-03-06T18:37:24.653Z"
   },
   {
    "duration": 6,
    "start_time": "2022-03-06T18:37:24.704Z"
   },
   {
    "duration": 15,
    "start_time": "2022-03-06T18:37:24.713Z"
   },
   {
    "duration": 23,
    "start_time": "2022-03-06T18:37:24.731Z"
   },
   {
    "duration": 46,
    "start_time": "2022-03-06T18:37:24.756Z"
   },
   {
    "duration": 9,
    "start_time": "2022-03-06T18:37:24.805Z"
   },
   {
    "duration": 25,
    "start_time": "2022-03-06T18:37:24.816Z"
   },
   {
    "duration": 5,
    "start_time": "2022-03-06T18:37:24.844Z"
   },
   {
    "duration": 14126,
    "start_time": "2022-03-06T18:37:24.888Z"
   },
   {
    "duration": 9,
    "start_time": "2022-03-06T18:37:39.017Z"
   },
   {
    "duration": 8,
    "start_time": "2022-03-06T18:37:39.030Z"
   },
   {
    "duration": 8,
    "start_time": "2022-03-06T18:40:19.534Z"
   },
   {
    "duration": 8,
    "start_time": "2022-03-06T18:45:19.113Z"
   },
   {
    "duration": 7,
    "start_time": "2022-03-06T18:45:21.142Z"
   },
   {
    "duration": 5,
    "start_time": "2022-03-06T18:45:49.946Z"
   },
   {
    "duration": 5,
    "start_time": "2022-03-06T18:46:08.929Z"
   },
   {
    "duration": 6,
    "start_time": "2022-03-06T18:46:29.850Z"
   },
   {
    "duration": 9,
    "start_time": "2022-03-06T18:48:31.314Z"
   },
   {
    "duration": 73,
    "start_time": "2022-03-06T19:03:21.723Z"
   },
   {
    "duration": 402,
    "start_time": "2022-03-06T19:04:31.522Z"
   },
   {
    "duration": 1569,
    "start_time": "2022-03-06T19:06:15.877Z"
   },
   {
    "duration": 31,
    "start_time": "2022-03-06T19:06:17.448Z"
   },
   {
    "duration": 22,
    "start_time": "2022-03-06T19:06:17.486Z"
   },
   {
    "duration": 18,
    "start_time": "2022-03-06T19:06:17.511Z"
   },
   {
    "duration": 14,
    "start_time": "2022-03-06T19:06:17.531Z"
   },
   {
    "duration": 40,
    "start_time": "2022-03-06T19:06:17.547Z"
   },
   {
    "duration": 7,
    "start_time": "2022-03-06T19:06:17.589Z"
   },
   {
    "duration": 5,
    "start_time": "2022-03-06T19:06:17.600Z"
   },
   {
    "duration": 6,
    "start_time": "2022-03-06T19:06:17.608Z"
   },
   {
    "duration": 9,
    "start_time": "2022-03-06T19:06:17.616Z"
   },
   {
    "duration": 9,
    "start_time": "2022-03-06T19:06:17.627Z"
   },
   {
    "duration": 50,
    "start_time": "2022-03-06T19:06:17.638Z"
   },
   {
    "duration": 11,
    "start_time": "2022-03-06T19:06:17.690Z"
   },
   {
    "duration": 10,
    "start_time": "2022-03-06T19:06:17.704Z"
   },
   {
    "duration": 10,
    "start_time": "2022-03-06T19:06:17.717Z"
   },
   {
    "duration": 18,
    "start_time": "2022-03-06T19:06:17.729Z"
   },
   {
    "duration": 47,
    "start_time": "2022-03-06T19:06:17.749Z"
   },
   {
    "duration": 5,
    "start_time": "2022-03-06T19:06:17.799Z"
   },
   {
    "duration": 7,
    "start_time": "2022-03-06T19:06:17.807Z"
   },
   {
    "duration": 21,
    "start_time": "2022-03-06T19:06:17.816Z"
   },
   {
    "duration": 54,
    "start_time": "2022-03-06T19:06:17.839Z"
   },
   {
    "duration": 9,
    "start_time": "2022-03-06T19:06:17.895Z"
   },
   {
    "duration": 23,
    "start_time": "2022-03-06T19:06:17.908Z"
   },
   {
    "duration": 4,
    "start_time": "2022-03-06T19:06:17.934Z"
   },
   {
    "duration": 14201,
    "start_time": "2022-03-06T19:06:17.940Z"
   },
   {
    "duration": 9,
    "start_time": "2022-03-06T19:06:32.144Z"
   },
   {
    "duration": 33,
    "start_time": "2022-03-06T19:06:32.156Z"
   },
   {
    "duration": 8,
    "start_time": "2022-03-06T19:06:32.192Z"
   },
   {
    "duration": 7,
    "start_time": "2022-03-06T19:06:32.202Z"
   },
   {
    "duration": 6,
    "start_time": "2022-03-06T19:06:32.211Z"
   },
   {
    "duration": 7,
    "start_time": "2022-03-06T19:06:32.219Z"
   },
   {
    "duration": 8,
    "start_time": "2022-03-06T19:06:32.229Z"
   },
   {
    "duration": 51,
    "start_time": "2022-03-06T19:06:32.239Z"
   },
   {
    "duration": 372,
    "start_time": "2022-03-06T19:06:32.293Z"
   },
   {
    "duration": 29,
    "start_time": "2022-03-06T19:12:05.731Z"
   },
   {
    "duration": 8,
    "start_time": "2022-03-06T19:12:20.737Z"
   },
   {
    "duration": 7,
    "start_time": "2022-03-06T19:12:22.215Z"
   },
   {
    "duration": 5,
    "start_time": "2022-03-06T19:12:25.203Z"
   },
   {
    "duration": 5,
    "start_time": "2022-03-06T19:12:26.545Z"
   },
   {
    "duration": 4,
    "start_time": "2022-03-06T19:12:27.327Z"
   },
   {
    "duration": 8,
    "start_time": "2022-03-06T19:12:29.574Z"
   },
   {
    "duration": 234,
    "start_time": "2022-03-06T19:12:31.942Z"
   },
   {
    "duration": 260,
    "start_time": "2022-03-06T19:13:19.785Z"
   },
   {
    "duration": 1702,
    "start_time": "2022-03-06T19:15:53.173Z"
   },
   {
    "duration": 29,
    "start_time": "2022-03-06T19:15:54.878Z"
   },
   {
    "duration": 29,
    "start_time": "2022-03-06T19:15:54.910Z"
   },
   {
    "duration": 20,
    "start_time": "2022-03-06T19:15:54.942Z"
   },
   {
    "duration": 39,
    "start_time": "2022-03-06T19:15:54.964Z"
   },
   {
    "duration": 12,
    "start_time": "2022-03-06T19:15:55.005Z"
   },
   {
    "duration": 20,
    "start_time": "2022-03-06T19:15:55.020Z"
   },
   {
    "duration": 4,
    "start_time": "2022-03-06T19:15:55.043Z"
   },
   {
    "duration": 5,
    "start_time": "2022-03-06T19:15:55.053Z"
   },
   {
    "duration": 8,
    "start_time": "2022-03-06T19:15:55.086Z"
   },
   {
    "duration": 11,
    "start_time": "2022-03-06T19:15:55.097Z"
   },
   {
    "duration": 11,
    "start_time": "2022-03-06T19:15:55.111Z"
   },
   {
    "duration": 14,
    "start_time": "2022-03-06T19:15:55.125Z"
   },
   {
    "duration": 22,
    "start_time": "2022-03-06T19:15:55.141Z"
   },
   {
    "duration": 40,
    "start_time": "2022-03-06T19:15:55.165Z"
   },
   {
    "duration": 28,
    "start_time": "2022-03-06T19:15:55.208Z"
   },
   {
    "duration": 19,
    "start_time": "2022-03-06T19:15:55.240Z"
   },
   {
    "duration": 6,
    "start_time": "2022-03-06T19:15:55.262Z"
   },
   {
    "duration": 20,
    "start_time": "2022-03-06T19:15:55.271Z"
   },
   {
    "duration": 29,
    "start_time": "2022-03-06T19:15:55.294Z"
   },
   {
    "duration": 27,
    "start_time": "2022-03-06T19:15:55.326Z"
   },
   {
    "duration": 33,
    "start_time": "2022-03-06T19:15:55.355Z"
   },
   {
    "duration": 26,
    "start_time": "2022-03-06T19:15:55.390Z"
   },
   {
    "duration": 4,
    "start_time": "2022-03-06T19:15:55.418Z"
   },
   {
    "duration": 14191,
    "start_time": "2022-03-06T19:15:55.425Z"
   },
   {
    "duration": 9,
    "start_time": "2022-03-06T19:16:09.619Z"
   },
   {
    "duration": 12,
    "start_time": "2022-03-06T19:16:09.632Z"
   },
   {
    "duration": 8,
    "start_time": "2022-03-06T19:16:09.647Z"
   },
   {
    "duration": 36,
    "start_time": "2022-03-06T19:16:09.658Z"
   },
   {
    "duration": 9,
    "start_time": "2022-03-06T19:16:09.696Z"
   },
   {
    "duration": 6,
    "start_time": "2022-03-06T19:16:09.707Z"
   },
   {
    "duration": 8,
    "start_time": "2022-03-06T19:16:09.716Z"
   },
   {
    "duration": 8,
    "start_time": "2022-03-06T19:16:09.727Z"
   },
   {
    "duration": 56,
    "start_time": "2022-03-06T19:16:09.738Z"
   },
   {
    "duration": 426,
    "start_time": "2022-03-06T19:16:09.797Z"
   },
   {
    "duration": 15,
    "start_time": "2022-03-06T19:17:29.005Z"
   },
   {
    "duration": 4,
    "start_time": "2022-03-06T19:19:23.541Z"
   },
   {
    "duration": 216,
    "start_time": "2022-03-06T19:19:57.688Z"
   },
   {
    "duration": 232,
    "start_time": "2022-03-06T19:20:30.848Z"
   },
   {
    "duration": 6,
    "start_time": "2022-03-06T19:31:08.675Z"
   },
   {
    "duration": 5787,
    "start_time": "2022-03-06T19:33:17.153Z"
   },
   {
    "duration": 5352,
    "start_time": "2022-03-06T19:34:15.087Z"
   },
   {
    "duration": 1515,
    "start_time": "2022-03-06T19:34:40.869Z"
   },
   {
    "duration": 36,
    "start_time": "2022-03-06T19:34:42.386Z"
   },
   {
    "duration": 22,
    "start_time": "2022-03-06T19:34:42.425Z"
   },
   {
    "duration": 21,
    "start_time": "2022-03-06T19:34:42.449Z"
   },
   {
    "duration": 14,
    "start_time": "2022-03-06T19:34:42.487Z"
   },
   {
    "duration": 10,
    "start_time": "2022-03-06T19:34:42.503Z"
   },
   {
    "duration": 8,
    "start_time": "2022-03-06T19:34:42.516Z"
   },
   {
    "duration": 15,
    "start_time": "2022-03-06T19:34:42.526Z"
   },
   {
    "duration": 5,
    "start_time": "2022-03-06T19:34:42.545Z"
   },
   {
    "duration": 38,
    "start_time": "2022-03-06T19:34:42.553Z"
   },
   {
    "duration": 8,
    "start_time": "2022-03-06T19:34:42.594Z"
   },
   {
    "duration": 4,
    "start_time": "2022-03-06T19:34:42.605Z"
   },
   {
    "duration": 11,
    "start_time": "2022-03-06T19:34:42.611Z"
   },
   {
    "duration": 11,
    "start_time": "2022-03-06T19:34:42.624Z"
   },
   {
    "duration": 50,
    "start_time": "2022-03-06T19:34:42.637Z"
   },
   {
    "duration": 19,
    "start_time": "2022-03-06T19:34:42.690Z"
   },
   {
    "duration": 21,
    "start_time": "2022-03-06T19:34:42.712Z"
   },
   {
    "duration": 7,
    "start_time": "2022-03-06T19:34:42.736Z"
   },
   {
    "duration": 44,
    "start_time": "2022-03-06T19:34:42.746Z"
   },
   {
    "duration": 29,
    "start_time": "2022-03-06T19:34:42.793Z"
   },
   {
    "duration": 18,
    "start_time": "2022-03-06T19:34:42.825Z"
   },
   {
    "duration": 41,
    "start_time": "2022-03-06T19:34:42.846Z"
   },
   {
    "duration": 24,
    "start_time": "2022-03-06T19:34:42.890Z"
   },
   {
    "duration": 4,
    "start_time": "2022-03-06T19:34:42.917Z"
   },
   {
    "duration": 14683,
    "start_time": "2022-03-06T19:34:42.923Z"
   },
   {
    "duration": 11,
    "start_time": "2022-03-06T19:34:57.609Z"
   },
   {
    "duration": 13,
    "start_time": "2022-03-06T19:34:57.624Z"
   },
   {
    "duration": 347,
    "start_time": "2022-03-06T19:34:57.640Z"
   },
   {
    "duration": 69,
    "start_time": "2022-03-06T19:34:57.989Z"
   },
   {
    "duration": 222,
    "start_time": "2022-03-06T19:37:38.147Z"
   },
   {
    "duration": 369,
    "start_time": "2022-03-06T19:53:54.533Z"
   },
   {
    "duration": 1556,
    "start_time": "2022-03-06T19:55:07.578Z"
   },
   {
    "duration": 30,
    "start_time": "2022-03-06T19:55:09.136Z"
   },
   {
    "duration": 30,
    "start_time": "2022-03-06T19:55:09.169Z"
   },
   {
    "duration": 18,
    "start_time": "2022-03-06T19:55:09.201Z"
   },
   {
    "duration": 14,
    "start_time": "2022-03-06T19:55:09.221Z"
   },
   {
    "duration": 9,
    "start_time": "2022-03-06T19:55:09.237Z"
   },
   {
    "duration": 42,
    "start_time": "2022-03-06T19:55:09.248Z"
   },
   {
    "duration": 7,
    "start_time": "2022-03-06T19:55:09.294Z"
   },
   {
    "duration": 5,
    "start_time": "2022-03-06T19:55:09.304Z"
   },
   {
    "duration": 8,
    "start_time": "2022-03-06T19:55:09.311Z"
   },
   {
    "duration": 10,
    "start_time": "2022-03-06T19:55:09.322Z"
   },
   {
    "duration": 4,
    "start_time": "2022-03-06T19:55:09.334Z"
   },
   {
    "duration": 51,
    "start_time": "2022-03-06T19:55:09.340Z"
   },
   {
    "duration": 12,
    "start_time": "2022-03-06T19:55:09.394Z"
   },
   {
    "duration": 12,
    "start_time": "2022-03-06T19:55:09.408Z"
   },
   {
    "duration": 21,
    "start_time": "2022-03-06T19:55:09.422Z"
   },
   {
    "duration": 43,
    "start_time": "2022-03-06T19:55:09.445Z"
   },
   {
    "duration": 8,
    "start_time": "2022-03-06T19:55:09.491Z"
   },
   {
    "duration": 15,
    "start_time": "2022-03-06T19:55:09.501Z"
   },
   {
    "duration": 23,
    "start_time": "2022-03-06T19:55:09.518Z"
   },
   {
    "duration": 19,
    "start_time": "2022-03-06T19:55:09.544Z"
   },
   {
    "duration": 31,
    "start_time": "2022-03-06T19:55:09.564Z"
   },
   {
    "duration": 24,
    "start_time": "2022-03-06T19:55:09.600Z"
   },
   {
    "duration": 5,
    "start_time": "2022-03-06T19:55:09.626Z"
   },
   {
    "duration": 14663,
    "start_time": "2022-03-06T19:55:09.633Z"
   },
   {
    "duration": 8,
    "start_time": "2022-03-06T19:55:24.299Z"
   },
   {
    "duration": 9,
    "start_time": "2022-03-06T19:55:24.310Z"
   },
   {
    "duration": 331,
    "start_time": "2022-03-06T19:55:24.322Z"
   },
   {
    "duration": 82,
    "start_time": "2022-03-06T19:55:24.655Z"
   },
   {
    "duration": 226,
    "start_time": "2022-03-06T19:55:24.739Z"
   },
   {
    "duration": 4,
    "start_time": "2022-03-06T19:55:24.968Z"
   },
   {
    "duration": 384,
    "start_time": "2022-03-06T19:55:24.974Z"
   },
   {
    "duration": 234,
    "start_time": "2022-03-06T19:55:25.127Z"
   },
   {
    "duration": 233,
    "start_time": "2022-03-06T19:59:07.195Z"
   },
   {
    "duration": 246,
    "start_time": "2022-03-06T20:01:47.250Z"
   },
   {
    "duration": 1715,
    "start_time": "2022-03-06T20:02:06.835Z"
   },
   {
    "duration": 34,
    "start_time": "2022-03-06T20:02:08.553Z"
   },
   {
    "duration": 22,
    "start_time": "2022-03-06T20:02:08.591Z"
   },
   {
    "duration": 20,
    "start_time": "2022-03-06T20:02:08.616Z"
   },
   {
    "duration": 18,
    "start_time": "2022-03-06T20:02:08.638Z"
   },
   {
    "duration": 31,
    "start_time": "2022-03-06T20:02:08.659Z"
   },
   {
    "duration": 8,
    "start_time": "2022-03-06T20:02:08.693Z"
   },
   {
    "duration": 6,
    "start_time": "2022-03-06T20:02:08.705Z"
   },
   {
    "duration": 5,
    "start_time": "2022-03-06T20:02:08.715Z"
   },
   {
    "duration": 7,
    "start_time": "2022-03-06T20:02:08.722Z"
   },
   {
    "duration": 57,
    "start_time": "2022-03-06T20:02:08.732Z"
   },
   {
    "duration": 13,
    "start_time": "2022-03-06T20:02:08.791Z"
   },
   {
    "duration": 14,
    "start_time": "2022-03-06T20:02:08.807Z"
   },
   {
    "duration": 13,
    "start_time": "2022-03-06T20:02:08.823Z"
   },
   {
    "duration": 11,
    "start_time": "2022-03-06T20:02:08.839Z"
   },
   {
    "duration": 34,
    "start_time": "2022-03-06T20:02:08.852Z"
   },
   {
    "duration": 16,
    "start_time": "2022-03-06T20:02:08.889Z"
   },
   {
    "duration": 14,
    "start_time": "2022-03-06T20:02:08.908Z"
   },
   {
    "duration": 9,
    "start_time": "2022-03-06T20:02:08.924Z"
   },
   {
    "duration": 22,
    "start_time": "2022-03-06T20:02:08.935Z"
   },
   {
    "duration": 40,
    "start_time": "2022-03-06T20:02:08.959Z"
   },
   {
    "duration": 16,
    "start_time": "2022-03-06T20:02:09.002Z"
   },
   {
    "duration": 25,
    "start_time": "2022-03-06T20:02:09.022Z"
   },
   {
    "duration": 6,
    "start_time": "2022-03-06T20:02:09.050Z"
   },
   {
    "duration": 14002,
    "start_time": "2022-03-06T20:02:09.058Z"
   },
   {
    "duration": 10,
    "start_time": "2022-03-06T20:02:23.062Z"
   },
   {
    "duration": 10,
    "start_time": "2022-03-06T20:02:23.088Z"
   },
   {
    "duration": 333,
    "start_time": "2022-03-06T20:02:23.100Z"
   },
   {
    "duration": 83,
    "start_time": "2022-03-06T20:02:23.436Z"
   },
   {
    "duration": 226,
    "start_time": "2022-03-06T20:02:23.521Z"
   },
   {
    "duration": 365,
    "start_time": "2022-03-06T20:02:23.749Z"
   },
   {
    "duration": 226,
    "start_time": "2022-03-06T20:02:23.892Z"
   },
   {
    "duration": 222,
    "start_time": "2022-03-06T20:02:23.898Z"
   },
   {
    "duration": 219,
    "start_time": "2022-03-06T20:02:23.903Z"
   },
   {
    "duration": 215,
    "start_time": "2022-03-06T20:03:53.113Z"
   },
   {
    "duration": 320,
    "start_time": "2022-03-06T20:03:55.147Z"
   },
   {
    "duration": 36,
    "start_time": "2022-03-06T20:04:52.773Z"
   },
   {
    "duration": 208,
    "start_time": "2022-03-06T20:04:57.553Z"
   },
   {
    "duration": 218,
    "start_time": "2022-03-06T20:04:58.600Z"
   },
   {
    "duration": 218,
    "start_time": "2022-03-06T20:06:04.533Z"
   },
   {
    "duration": 257,
    "start_time": "2022-03-06T20:06:05.610Z"
   },
   {
    "duration": 226,
    "start_time": "2022-03-06T20:06:49.121Z"
   },
   {
    "duration": 11,
    "start_time": "2022-03-06T20:07:05.585Z"
   },
   {
    "duration": 223,
    "start_time": "2022-03-06T20:07:17.172Z"
   },
   {
    "duration": 31,
    "start_time": "2022-03-06T20:07:40.786Z"
   },
   {
    "duration": 11,
    "start_time": "2022-03-06T20:11:31.984Z"
   },
   {
    "duration": 10,
    "start_time": "2022-03-06T20:12:20.090Z"
   },
   {
    "duration": 24,
    "start_time": "2022-03-06T20:12:20.945Z"
   },
   {
    "duration": 9,
    "start_time": "2022-03-06T20:12:22.216Z"
   },
   {
    "duration": 25,
    "start_time": "2022-03-06T20:12:23.876Z"
   },
   {
    "duration": 313,
    "start_time": "2022-03-06T20:14:27.108Z"
   },
   {
    "duration": 51,
    "start_time": "2022-03-06T20:14:27.884Z"
   },
   {
    "duration": 346,
    "start_time": "2022-03-06T20:14:30.121Z"
   },
   {
    "duration": 14,
    "start_time": "2022-03-06T20:14:52.131Z"
   },
   {
    "duration": 38,
    "start_time": "2022-03-06T20:14:53.098Z"
   },
   {
    "duration": 13,
    "start_time": "2022-03-06T20:14:54.034Z"
   },
   {
    "duration": 33,
    "start_time": "2022-03-06T20:14:55.214Z"
   },
   {
    "duration": 2096,
    "start_time": "2022-03-06T20:19:24.057Z"
   },
   {
    "duration": 4267,
    "start_time": "2022-03-06T20:20:30.359Z"
   },
   {
    "duration": 572,
    "start_time": "2022-03-06T20:35:25.097Z"
   },
   {
    "duration": 541,
    "start_time": "2022-03-06T20:35:43.286Z"
   },
   {
    "duration": 4227,
    "start_time": "2022-03-06T20:36:03.332Z"
   },
   {
    "duration": 4286,
    "start_time": "2022-03-06T20:36:45.031Z"
   },
   {
    "duration": 4480,
    "start_time": "2022-03-06T20:37:35.772Z"
   },
   {
    "duration": 1519,
    "start_time": "2022-03-06T20:37:46.313Z"
   },
   {
    "duration": 31,
    "start_time": "2022-03-06T20:37:47.836Z"
   },
   {
    "duration": 31,
    "start_time": "2022-03-06T20:37:47.870Z"
   },
   {
    "duration": 18,
    "start_time": "2022-03-06T20:37:47.903Z"
   },
   {
    "duration": 12,
    "start_time": "2022-03-06T20:37:47.923Z"
   },
   {
    "duration": 50,
    "start_time": "2022-03-06T20:37:47.937Z"
   },
   {
    "duration": 9,
    "start_time": "2022-03-06T20:37:47.989Z"
   },
   {
    "duration": 4,
    "start_time": "2022-03-06T20:37:48.002Z"
   },
   {
    "duration": 6,
    "start_time": "2022-03-06T20:37:48.010Z"
   },
   {
    "duration": 8,
    "start_time": "2022-03-06T20:37:48.018Z"
   },
   {
    "duration": 14,
    "start_time": "2022-03-06T20:37:48.028Z"
   },
   {
    "duration": 4,
    "start_time": "2022-03-06T20:37:48.087Z"
   },
   {
    "duration": 16,
    "start_time": "2022-03-06T20:37:48.093Z"
   },
   {
    "duration": 16,
    "start_time": "2022-03-06T20:37:48.111Z"
   },
   {
    "duration": 13,
    "start_time": "2022-03-06T20:37:48.129Z"
   },
   {
    "duration": 20,
    "start_time": "2022-03-06T20:37:48.144Z"
   },
   {
    "duration": 34,
    "start_time": "2022-03-06T20:37:48.167Z"
   },
   {
    "duration": 5,
    "start_time": "2022-03-06T20:37:48.204Z"
   },
   {
    "duration": 13,
    "start_time": "2022-03-06T20:37:48.212Z"
   },
   {
    "duration": 27,
    "start_time": "2022-03-06T20:37:48.227Z"
   },
   {
    "duration": 43,
    "start_time": "2022-03-06T20:37:48.256Z"
   },
   {
    "duration": 10,
    "start_time": "2022-03-06T20:37:48.301Z"
   },
   {
    "duration": 26,
    "start_time": "2022-03-06T20:37:48.313Z"
   },
   {
    "duration": 5,
    "start_time": "2022-03-06T20:37:48.342Z"
   },
   {
    "duration": 13927,
    "start_time": "2022-03-06T20:37:48.349Z"
   },
   {
    "duration": 14,
    "start_time": "2022-03-06T20:38:02.281Z"
   },
   {
    "duration": 12,
    "start_time": "2022-03-06T20:38:02.297Z"
   },
   {
    "duration": 344,
    "start_time": "2022-03-06T20:38:02.311Z"
   },
   {
    "duration": 77,
    "start_time": "2022-03-06T20:38:02.657Z"
   },
   {
    "duration": 223,
    "start_time": "2022-03-06T20:38:02.737Z"
   },
   {
    "duration": 10,
    "start_time": "2022-03-06T20:38:02.962Z"
   },
   {
    "duration": 37,
    "start_time": "2022-03-06T20:38:02.974Z"
   },
   {
    "duration": 408,
    "start_time": "2022-03-06T20:38:03.013Z"
   },
   {
    "duration": 219,
    "start_time": "2022-03-06T20:38:03.205Z"
   },
   {
    "duration": 214,
    "start_time": "2022-03-06T20:38:03.211Z"
   },
   {
    "duration": 10,
    "start_time": "2022-03-06T20:38:38.806Z"
   },
   {
    "duration": 234,
    "start_time": "2022-03-06T20:38:42.726Z"
   },
   {
    "duration": 25,
    "start_time": "2022-03-06T20:39:37.033Z"
   },
   {
    "duration": 497,
    "start_time": "2022-03-06T20:39:43.273Z"
   },
   {
    "duration": 4451,
    "start_time": "2022-03-06T20:40:09.761Z"
   },
   {
    "duration": 307,
    "start_time": "2022-03-07T08:37:59.205Z"
   },
   {
    "duration": 1592,
    "start_time": "2022-03-07T08:39:19.198Z"
   },
   {
    "duration": 36,
    "start_time": "2022-03-07T08:39:20.793Z"
   },
   {
    "duration": 22,
    "start_time": "2022-03-07T08:39:20.831Z"
   },
   {
    "duration": 36,
    "start_time": "2022-03-07T08:39:20.856Z"
   },
   {
    "duration": 13,
    "start_time": "2022-03-07T08:39:20.894Z"
   },
   {
    "duration": 9,
    "start_time": "2022-03-07T08:39:20.910Z"
   },
   {
    "duration": 13,
    "start_time": "2022-03-07T08:39:20.921Z"
   },
   {
    "duration": 5,
    "start_time": "2022-03-07T08:39:20.974Z"
   },
   {
    "duration": 13,
    "start_time": "2022-03-07T08:39:20.982Z"
   },
   {
    "duration": 14,
    "start_time": "2022-03-07T08:39:20.997Z"
   },
   {
    "duration": 13,
    "start_time": "2022-03-07T08:39:21.013Z"
   },
   {
    "duration": 8,
    "start_time": "2022-03-07T08:39:21.028Z"
   },
   {
    "duration": 39,
    "start_time": "2022-03-07T08:39:21.040Z"
   },
   {
    "duration": 16,
    "start_time": "2022-03-07T08:39:21.082Z"
   },
   {
    "duration": 17,
    "start_time": "2022-03-07T08:39:21.101Z"
   },
   {
    "duration": 34,
    "start_time": "2022-03-07T08:39:21.121Z"
   },
   {
    "duration": 33,
    "start_time": "2022-03-07T08:39:21.158Z"
   },
   {
    "duration": 7,
    "start_time": "2022-03-07T08:39:21.194Z"
   },
   {
    "duration": 9,
    "start_time": "2022-03-07T08:39:21.204Z"
   },
   {
    "duration": 64,
    "start_time": "2022-03-07T08:39:21.215Z"
   },
   {
    "duration": 19,
    "start_time": "2022-03-07T08:39:21.282Z"
   },
   {
    "duration": 15,
    "start_time": "2022-03-07T08:39:21.303Z"
   },
   {
    "duration": 57,
    "start_time": "2022-03-07T08:39:21.323Z"
   },
   {
    "duration": 6,
    "start_time": "2022-03-07T08:39:21.383Z"
   },
   {
    "duration": 15229,
    "start_time": "2022-03-07T08:39:21.392Z"
   },
   {
    "duration": 9,
    "start_time": "2022-03-07T08:39:36.623Z"
   },
   {
    "duration": 15,
    "start_time": "2022-03-07T08:39:36.634Z"
   },
   {
    "duration": 321,
    "start_time": "2022-03-07T08:39:36.652Z"
   },
   {
    "duration": 76,
    "start_time": "2022-03-07T08:39:36.977Z"
   },
   {
    "duration": 252,
    "start_time": "2022-03-07T08:39:37.055Z"
   },
   {
    "duration": 11,
    "start_time": "2022-03-07T08:39:37.309Z"
   },
   {
    "duration": 58,
    "start_time": "2022-03-07T08:39:37.322Z"
   },
   {
    "duration": 10,
    "start_time": "2022-03-07T08:39:37.384Z"
   },
   {
    "duration": 25,
    "start_time": "2022-03-07T08:39:37.397Z"
   },
   {
    "duration": 4796,
    "start_time": "2022-03-07T08:39:37.425Z"
   },
   {
    "duration": 9432,
    "start_time": "2022-03-07T08:39:42.223Z"
   },
   {
    "duration": 395,
    "start_time": "2022-03-07T08:40:59.593Z"
   },
   {
    "duration": 18690,
    "start_time": "2022-03-07T08:43:31.941Z"
   },
   {
    "duration": 426,
    "start_time": "2022-03-07T08:56:23.298Z"
   },
   {
    "duration": 7,
    "start_time": "2022-03-07T08:57:15.797Z"
   },
   {
    "duration": 32,
    "start_time": "2022-03-07T08:57:15.807Z"
   },
   {
    "duration": 33,
    "start_time": "2022-03-07T08:57:15.842Z"
   },
   {
    "duration": 19,
    "start_time": "2022-03-07T08:57:15.877Z"
   },
   {
    "duration": 14,
    "start_time": "2022-03-07T08:57:15.898Z"
   },
   {
    "duration": 9,
    "start_time": "2022-03-07T08:57:15.914Z"
   },
   {
    "duration": 48,
    "start_time": "2022-03-07T08:57:15.925Z"
   },
   {
    "duration": 5,
    "start_time": "2022-03-07T08:57:15.976Z"
   },
   {
    "duration": 6,
    "start_time": "2022-03-07T08:57:15.983Z"
   },
   {
    "duration": 10,
    "start_time": "2022-03-07T08:57:15.991Z"
   },
   {
    "duration": 13,
    "start_time": "2022-03-07T08:57:16.004Z"
   },
   {
    "duration": 4,
    "start_time": "2022-03-07T08:57:16.020Z"
   },
   {
    "duration": 49,
    "start_time": "2022-03-07T08:57:16.026Z"
   },
   {
    "duration": 12,
    "start_time": "2022-03-07T08:57:16.078Z"
   },
   {
    "duration": 13,
    "start_time": "2022-03-07T08:57:16.093Z"
   },
   {
    "duration": 19,
    "start_time": "2022-03-07T08:57:16.109Z"
   },
   {
    "duration": 47,
    "start_time": "2022-03-07T08:57:16.130Z"
   },
   {
    "duration": 6,
    "start_time": "2022-03-07T08:57:16.179Z"
   },
   {
    "duration": 9,
    "start_time": "2022-03-07T08:57:16.187Z"
   },
   {
    "duration": 25,
    "start_time": "2022-03-07T08:57:16.198Z"
   },
   {
    "duration": 50,
    "start_time": "2022-03-07T08:57:16.225Z"
   },
   {
    "duration": 11,
    "start_time": "2022-03-07T08:57:16.277Z"
   },
   {
    "duration": 26,
    "start_time": "2022-03-07T08:57:16.291Z"
   },
   {
    "duration": 4,
    "start_time": "2022-03-07T08:57:16.320Z"
   },
   {
    "duration": 18158,
    "start_time": "2022-03-07T08:57:16.326Z"
   },
   {
    "duration": 14,
    "start_time": "2022-03-07T08:57:34.488Z"
   },
   {
    "duration": 15,
    "start_time": "2022-03-07T08:57:34.505Z"
   },
   {
    "duration": 433,
    "start_time": "2022-03-07T08:57:34.523Z"
   },
   {
    "duration": 56,
    "start_time": "2022-03-07T08:57:34.960Z"
   },
   {
    "duration": 379,
    "start_time": "2022-03-07T08:57:35.019Z"
   },
   {
    "duration": 15,
    "start_time": "2022-03-07T08:57:35.401Z"
   },
   {
    "duration": 63,
    "start_time": "2022-03-07T08:57:35.419Z"
   },
   {
    "duration": 14,
    "start_time": "2022-03-07T08:57:35.486Z"
   },
   {
    "duration": 218,
    "start_time": "2022-03-07T08:57:35.503Z"
   },
   {
    "duration": 6712,
    "start_time": "2022-03-07T08:57:35.724Z"
   },
   {
    "duration": 28624,
    "start_time": "2022-03-07T08:57:42.439Z"
   },
   {
    "duration": 15906,
    "start_time": "2022-03-07T09:09:29.985Z"
   },
   {
    "duration": 15505,
    "start_time": "2022-03-07T09:10:00.329Z"
   },
   {
    "duration": 17916,
    "start_time": "2022-03-07T09:10:34.530Z"
   },
   {
    "duration": 1604,
    "start_time": "2022-03-07T09:11:13.431Z"
   },
   {
    "duration": 36,
    "start_time": "2022-03-07T09:11:15.038Z"
   },
   {
    "duration": 22,
    "start_time": "2022-03-07T09:11:15.077Z"
   },
   {
    "duration": 23,
    "start_time": "2022-03-07T09:11:15.103Z"
   },
   {
    "duration": 20,
    "start_time": "2022-03-07T09:11:15.128Z"
   },
   {
    "duration": 30,
    "start_time": "2022-03-07T09:11:15.151Z"
   },
   {
    "duration": 17,
    "start_time": "2022-03-07T09:11:15.183Z"
   },
   {
    "duration": 8,
    "start_time": "2022-03-07T09:11:15.202Z"
   },
   {
    "duration": 5,
    "start_time": "2022-03-07T09:11:15.214Z"
   },
   {
    "duration": 12,
    "start_time": "2022-03-07T09:11:15.222Z"
   },
   {
    "duration": 41,
    "start_time": "2022-03-07T09:11:15.237Z"
   },
   {
    "duration": 5,
    "start_time": "2022-03-07T09:11:15.281Z"
   },
   {
    "duration": 14,
    "start_time": "2022-03-07T09:11:15.289Z"
   },
   {
    "duration": 12,
    "start_time": "2022-03-07T09:11:15.305Z"
   },
   {
    "duration": 15,
    "start_time": "2022-03-07T09:11:15.320Z"
   },
   {
    "duration": 52,
    "start_time": "2022-03-07T09:11:15.338Z"
   },
   {
    "duration": 20,
    "start_time": "2022-03-07T09:11:15.394Z"
   },
   {
    "duration": 7,
    "start_time": "2022-03-07T09:11:15.417Z"
   },
   {
    "duration": 48,
    "start_time": "2022-03-07T09:11:15.427Z"
   },
   {
    "duration": 22,
    "start_time": "2022-03-07T09:11:15.478Z"
   },
   {
    "duration": 22,
    "start_time": "2022-03-07T09:11:15.503Z"
   },
   {
    "duration": 50,
    "start_time": "2022-03-07T09:11:15.528Z"
   },
   {
    "duration": 30,
    "start_time": "2022-03-07T09:11:15.581Z"
   },
   {
    "duration": 5,
    "start_time": "2022-03-07T09:11:15.614Z"
   },
   {
    "duration": 14558,
    "start_time": "2022-03-07T09:11:15.622Z"
   },
   {
    "duration": 10,
    "start_time": "2022-03-07T09:11:30.183Z"
   },
   {
    "duration": 19,
    "start_time": "2022-03-07T09:11:30.197Z"
   },
   {
    "duration": 348,
    "start_time": "2022-03-07T09:11:30.219Z"
   },
   {
    "duration": 74,
    "start_time": "2022-03-07T09:11:30.570Z"
   },
   {
    "duration": 251,
    "start_time": "2022-03-07T09:11:30.647Z"
   },
   {
    "duration": 13,
    "start_time": "2022-03-07T09:11:30.901Z"
   },
   {
    "duration": 38,
    "start_time": "2022-03-07T09:11:30.917Z"
   },
   {
    "duration": 26,
    "start_time": "2022-03-07T09:11:30.959Z"
   },
   {
    "duration": 93,
    "start_time": "2022-03-07T09:11:30.988Z"
   },
   {
    "duration": 4964,
    "start_time": "2022-03-07T09:11:31.084Z"
   },
   {
    "duration": 30635,
    "start_time": "2022-03-07T09:11:36.051Z"
   },
   {
    "duration": 74,
    "start_time": "2022-03-07T09:13:53.002Z"
   },
   {
    "duration": 472,
    "start_time": "2022-03-07T09:16:30.037Z"
   },
   {
    "duration": 527,
    "start_time": "2022-03-07T09:18:49.456Z"
   },
   {
    "duration": 1654,
    "start_time": "2022-03-07T09:18:58.603Z"
   },
   {
    "duration": 32,
    "start_time": "2022-03-07T09:19:00.259Z"
   },
   {
    "duration": 24,
    "start_time": "2022-03-07T09:19:00.294Z"
   },
   {
    "duration": 19,
    "start_time": "2022-03-07T09:19:00.321Z"
   },
   {
    "duration": 40,
    "start_time": "2022-03-07T09:19:00.342Z"
   },
   {
    "duration": 20,
    "start_time": "2022-03-07T09:19:00.385Z"
   },
   {
    "duration": 11,
    "start_time": "2022-03-07T09:19:00.407Z"
   },
   {
    "duration": 14,
    "start_time": "2022-03-07T09:19:00.420Z"
   },
   {
    "duration": 29,
    "start_time": "2022-03-07T09:19:00.439Z"
   },
   {
    "duration": 13,
    "start_time": "2022-03-07T09:19:00.472Z"
   },
   {
    "duration": 21,
    "start_time": "2022-03-07T09:19:00.488Z"
   },
   {
    "duration": 6,
    "start_time": "2022-03-07T09:19:00.512Z"
   },
   {
    "duration": 27,
    "start_time": "2022-03-07T09:19:00.521Z"
   },
   {
    "duration": 21,
    "start_time": "2022-03-07T09:19:00.550Z"
   },
   {
    "duration": 21,
    "start_time": "2022-03-07T09:19:00.574Z"
   },
   {
    "duration": 35,
    "start_time": "2022-03-07T09:19:00.598Z"
   },
   {
    "duration": 39,
    "start_time": "2022-03-07T09:19:00.636Z"
   },
   {
    "duration": 8,
    "start_time": "2022-03-07T09:19:00.678Z"
   },
   {
    "duration": 17,
    "start_time": "2022-03-07T09:19:00.690Z"
   },
   {
    "duration": 29,
    "start_time": "2022-03-07T09:19:00.710Z"
   },
   {
    "duration": 36,
    "start_time": "2022-03-07T09:19:00.742Z"
   },
   {
    "duration": 19,
    "start_time": "2022-03-07T09:19:00.781Z"
   },
   {
    "duration": 27,
    "start_time": "2022-03-07T09:19:00.803Z"
   },
   {
    "duration": 5,
    "start_time": "2022-03-07T09:19:00.834Z"
   },
   {
    "duration": 14268,
    "start_time": "2022-03-07T09:19:00.842Z"
   },
   {
    "duration": 10,
    "start_time": "2022-03-07T09:19:15.112Z"
   },
   {
    "duration": 15,
    "start_time": "2022-03-07T09:19:15.126Z"
   },
   {
    "duration": 303,
    "start_time": "2022-03-07T09:19:15.172Z"
   },
   {
    "duration": 73,
    "start_time": "2022-03-07T09:19:15.477Z"
   },
   {
    "duration": 259,
    "start_time": "2022-03-07T09:19:15.552Z"
   },
   {
    "duration": 11,
    "start_time": "2022-03-07T09:19:15.813Z"
   },
   {
    "duration": 51,
    "start_time": "2022-03-07T09:19:15.826Z"
   },
   {
    "duration": 10,
    "start_time": "2022-03-07T09:19:15.879Z"
   },
   {
    "duration": 27,
    "start_time": "2022-03-07T09:19:15.891Z"
   },
   {
    "duration": 4742,
    "start_time": "2022-03-07T09:19:15.921Z"
   },
   {
    "duration": 31015,
    "start_time": "2022-03-07T09:19:20.665Z"
   },
   {
    "duration": 499,
    "start_time": "2022-03-07T09:19:51.683Z"
   },
   {
    "duration": 19,
    "start_time": "2022-03-07T09:26:11.834Z"
   },
   {
    "duration": 18,
    "start_time": "2022-03-07T09:27:03.121Z"
   },
   {
    "duration": 1528,
    "start_time": "2022-03-07T09:27:12.520Z"
   },
   {
    "duration": 31,
    "start_time": "2022-03-07T09:27:14.050Z"
   },
   {
    "duration": 23,
    "start_time": "2022-03-07T09:27:14.084Z"
   },
   {
    "duration": 21,
    "start_time": "2022-03-07T09:27:14.110Z"
   },
   {
    "duration": 40,
    "start_time": "2022-03-07T09:27:14.133Z"
   },
   {
    "duration": 10,
    "start_time": "2022-03-07T09:27:14.176Z"
   },
   {
    "duration": 8,
    "start_time": "2022-03-07T09:27:14.188Z"
   },
   {
    "duration": 5,
    "start_time": "2022-03-07T09:27:14.200Z"
   },
   {
    "duration": 5,
    "start_time": "2022-03-07T09:27:14.208Z"
   },
   {
    "duration": 7,
    "start_time": "2022-03-07T09:27:14.215Z"
   },
   {
    "duration": 52,
    "start_time": "2022-03-07T09:27:14.225Z"
   },
   {
    "duration": 7,
    "start_time": "2022-03-07T09:27:14.279Z"
   },
   {
    "duration": 15,
    "start_time": "2022-03-07T09:27:14.288Z"
   },
   {
    "duration": 11,
    "start_time": "2022-03-07T09:27:14.306Z"
   },
   {
    "duration": 10,
    "start_time": "2022-03-07T09:27:14.320Z"
   },
   {
    "duration": 48,
    "start_time": "2022-03-07T09:27:14.332Z"
   },
   {
    "duration": 20,
    "start_time": "2022-03-07T09:27:14.382Z"
   },
   {
    "duration": 6,
    "start_time": "2022-03-07T09:27:14.404Z"
   },
   {
    "duration": 6,
    "start_time": "2022-03-07T09:27:14.412Z"
   },
   {
    "duration": 54,
    "start_time": "2022-03-07T09:27:14.421Z"
   },
   {
    "duration": 19,
    "start_time": "2022-03-07T09:27:14.478Z"
   },
   {
    "duration": 11,
    "start_time": "2022-03-07T09:27:14.499Z"
   },
   {
    "duration": 58,
    "start_time": "2022-03-07T09:27:14.515Z"
   },
   {
    "duration": 5,
    "start_time": "2022-03-07T09:27:14.576Z"
   },
   {
    "duration": 14991,
    "start_time": "2022-03-07T09:27:14.583Z"
   },
   {
    "duration": 9,
    "start_time": "2022-03-07T09:27:29.577Z"
   },
   {
    "duration": 12,
    "start_time": "2022-03-07T09:27:29.589Z"
   },
   {
    "duration": 29,
    "start_time": "2022-03-07T09:27:29.603Z"
   },
   {
    "duration": 325,
    "start_time": "2022-03-07T09:27:29.635Z"
   },
   {
    "duration": 70,
    "start_time": "2022-03-07T09:27:29.962Z"
   },
   {
    "duration": 344,
    "start_time": "2022-03-07T09:27:30.035Z"
   },
   {
    "duration": 13,
    "start_time": "2022-03-07T09:27:30.381Z"
   },
   {
    "duration": 31,
    "start_time": "2022-03-07T09:27:30.397Z"
   },
   {
    "duration": 47,
    "start_time": "2022-03-07T09:27:30.430Z"
   },
   {
    "duration": 27,
    "start_time": "2022-03-07T09:27:30.480Z"
   },
   {
    "duration": 4789,
    "start_time": "2022-03-07T09:27:30.510Z"
   },
   {
    "duration": 30536,
    "start_time": "2022-03-07T09:27:35.301Z"
   },
   {
    "duration": 636,
    "start_time": "2022-03-07T09:28:05.840Z"
   },
   {
    "duration": 216,
    "start_time": "2022-03-07T09:30:43.300Z"
   },
   {
    "duration": 92,
    "start_time": "2022-03-07T09:31:00.517Z"
   },
   {
    "duration": 6,
    "start_time": "2022-03-07T09:31:33.621Z"
   },
   {
    "duration": 5,
    "start_time": "2022-03-07T09:31:47.353Z"
   },
   {
    "duration": 5,
    "start_time": "2022-03-07T09:32:01.794Z"
   },
   {
    "duration": 1538,
    "start_time": "2022-03-07T09:32:34.624Z"
   },
   {
    "duration": 30,
    "start_time": "2022-03-07T09:32:36.165Z"
   },
   {
    "duration": 23,
    "start_time": "2022-03-07T09:32:36.198Z"
   },
   {
    "duration": 27,
    "start_time": "2022-03-07T09:32:36.224Z"
   },
   {
    "duration": 30,
    "start_time": "2022-03-07T09:32:36.253Z"
   },
   {
    "duration": 9,
    "start_time": "2022-03-07T09:32:36.286Z"
   },
   {
    "duration": 8,
    "start_time": "2022-03-07T09:32:36.298Z"
   },
   {
    "duration": 5,
    "start_time": "2022-03-07T09:32:36.311Z"
   },
   {
    "duration": 5,
    "start_time": "2022-03-07T09:32:36.318Z"
   },
   {
    "duration": 54,
    "start_time": "2022-03-07T09:32:36.326Z"
   },
   {
    "duration": 11,
    "start_time": "2022-03-07T09:32:36.382Z"
   },
   {
    "duration": 4,
    "start_time": "2022-03-07T09:32:36.396Z"
   },
   {
    "duration": 14,
    "start_time": "2022-03-07T09:32:36.402Z"
   },
   {
    "duration": 12,
    "start_time": "2022-03-07T09:32:36.418Z"
   },
   {
    "duration": 47,
    "start_time": "2022-03-07T09:32:36.432Z"
   },
   {
    "duration": 17,
    "start_time": "2022-03-07T09:32:36.482Z"
   },
   {
    "duration": 25,
    "start_time": "2022-03-07T09:32:36.502Z"
   },
   {
    "duration": 7,
    "start_time": "2022-03-07T09:32:36.529Z"
   },
   {
    "duration": 10,
    "start_time": "2022-03-07T09:32:36.538Z"
   },
   {
    "duration": 20,
    "start_time": "2022-03-07T09:32:36.575Z"
   },
   {
    "duration": 22,
    "start_time": "2022-03-07T09:32:36.597Z"
   },
   {
    "duration": 15,
    "start_time": "2022-03-07T09:32:36.621Z"
   },
   {
    "duration": 54,
    "start_time": "2022-03-07T09:32:36.641Z"
   },
   {
    "duration": 5,
    "start_time": "2022-03-07T09:32:36.698Z"
   },
   {
    "duration": 14202,
    "start_time": "2022-03-07T09:32:36.706Z"
   },
   {
    "duration": 10,
    "start_time": "2022-03-07T09:32:50.911Z"
   },
   {
    "duration": 15,
    "start_time": "2022-03-07T09:32:50.923Z"
   },
   {
    "duration": 43,
    "start_time": "2022-03-07T09:32:50.941Z"
   },
   {
    "duration": 328,
    "start_time": "2022-03-07T09:32:50.987Z"
   },
   {
    "duration": 83,
    "start_time": "2022-03-07T09:32:51.318Z"
   },
   {
    "duration": 235,
    "start_time": "2022-03-07T09:32:51.403Z"
   },
   {
    "duration": 102,
    "start_time": "2022-03-07T09:32:51.641Z"
   },
   {
    "duration": 5,
    "start_time": "2022-03-07T09:32:51.746Z"
   },
   {
    "duration": 21,
    "start_time": "2022-03-07T09:32:51.754Z"
   },
   {
    "duration": 9,
    "start_time": "2022-03-07T09:32:51.777Z"
   },
   {
    "duration": 393,
    "start_time": "2022-03-07T09:32:51.789Z"
   },
   {
    "duration": -208,
    "start_time": "2022-03-07T09:32:52.392Z"
   },
   {
    "duration": -212,
    "start_time": "2022-03-07T09:32:52.398Z"
   },
   {
    "duration": -214,
    "start_time": "2022-03-07T09:32:52.402Z"
   },
   {
    "duration": -217,
    "start_time": "2022-03-07T09:32:52.406Z"
   },
   {
    "duration": -222,
    "start_time": "2022-03-07T09:32:52.412Z"
   },
   {
    "duration": -223,
    "start_time": "2022-03-07T09:32:52.415Z"
   },
   {
    "duration": 35,
    "start_time": "2022-03-07T09:36:39.528Z"
   },
   {
    "duration": 1581,
    "start_time": "2022-03-07T09:36:46.674Z"
   },
   {
    "duration": 36,
    "start_time": "2022-03-07T09:36:48.257Z"
   },
   {
    "duration": 23,
    "start_time": "2022-03-07T09:36:48.296Z"
   },
   {
    "duration": 23,
    "start_time": "2022-03-07T09:36:48.321Z"
   },
   {
    "duration": 34,
    "start_time": "2022-03-07T09:36:48.346Z"
   },
   {
    "duration": 11,
    "start_time": "2022-03-07T09:36:48.382Z"
   },
   {
    "duration": 10,
    "start_time": "2022-03-07T09:36:48.395Z"
   },
   {
    "duration": 6,
    "start_time": "2022-03-07T09:36:48.407Z"
   },
   {
    "duration": 7,
    "start_time": "2022-03-07T09:36:48.417Z"
   },
   {
    "duration": 48,
    "start_time": "2022-03-07T09:36:48.427Z"
   },
   {
    "duration": 15,
    "start_time": "2022-03-07T09:36:48.477Z"
   },
   {
    "duration": 4,
    "start_time": "2022-03-07T09:36:48.495Z"
   },
   {
    "duration": 15,
    "start_time": "2022-03-07T09:36:48.502Z"
   },
   {
    "duration": 14,
    "start_time": "2022-03-07T09:36:48.519Z"
   },
   {
    "duration": 40,
    "start_time": "2022-03-07T09:36:48.536Z"
   },
   {
    "duration": 21,
    "start_time": "2022-03-07T09:36:48.578Z"
   },
   {
    "duration": 19,
    "start_time": "2022-03-07T09:36:48.601Z"
   },
   {
    "duration": 6,
    "start_time": "2022-03-07T09:36:48.622Z"
   },
   {
    "duration": 44,
    "start_time": "2022-03-07T09:36:48.631Z"
   },
   {
    "duration": 24,
    "start_time": "2022-03-07T09:36:48.677Z"
   },
   {
    "duration": 17,
    "start_time": "2022-03-07T09:36:48.704Z"
   },
   {
    "duration": 13,
    "start_time": "2022-03-07T09:36:48.724Z"
   },
   {
    "duration": 53,
    "start_time": "2022-03-07T09:36:48.739Z"
   },
   {
    "duration": 5,
    "start_time": "2022-03-07T09:36:48.794Z"
   },
   {
    "duration": 14259,
    "start_time": "2022-03-07T09:36:48.801Z"
   },
   {
    "duration": 18,
    "start_time": "2022-03-07T09:37:03.063Z"
   },
   {
    "duration": 9,
    "start_time": "2022-03-07T09:37:03.087Z"
   },
   {
    "duration": 18,
    "start_time": "2022-03-07T09:37:03.099Z"
   },
   {
    "duration": 354,
    "start_time": "2022-03-07T09:37:03.120Z"
   },
   {
    "duration": 74,
    "start_time": "2022-03-07T09:37:03.477Z"
   },
   {
    "duration": 240,
    "start_time": "2022-03-07T09:37:03.554Z"
   },
   {
    "duration": 106,
    "start_time": "2022-03-07T09:37:03.797Z"
   },
   {
    "duration": 5,
    "start_time": "2022-03-07T09:37:03.906Z"
   },
   {
    "duration": 30,
    "start_time": "2022-03-07T09:37:03.913Z"
   },
   {
    "duration": 10,
    "start_time": "2022-03-07T09:37:03.946Z"
   },
   {
    "duration": 44,
    "start_time": "2022-03-07T09:37:03.958Z"
   },
   {
    "duration": 11,
    "start_time": "2022-03-07T09:37:04.004Z"
   },
   {
    "duration": 29,
    "start_time": "2022-03-07T09:37:04.018Z"
   },
   {
    "duration": 31,
    "start_time": "2022-03-07T09:37:04.050Z"
   },
   {
    "duration": 26,
    "start_time": "2022-03-07T09:37:04.084Z"
   },
   {
    "duration": 3607,
    "start_time": "2022-03-07T09:37:04.113Z"
   },
   {
    "duration": 25254,
    "start_time": "2022-03-07T09:37:07.723Z"
   },
   {
    "duration": 404,
    "start_time": "2022-03-07T09:37:32.979Z"
   },
   {
    "duration": 362,
    "start_time": "2022-03-07T09:40:46.062Z"
   },
   {
    "duration": 387,
    "start_time": "2022-03-07T09:41:40.570Z"
   },
   {
    "duration": 12,
    "start_time": "2022-03-07T09:41:47.389Z"
   },
   {
    "duration": 101,
    "start_time": "2022-03-07T09:42:10.702Z"
   },
   {
    "duration": 1660,
    "start_time": "2022-03-07T09:44:19.491Z"
   },
   {
    "duration": 35,
    "start_time": "2022-03-07T09:44:21.154Z"
   },
   {
    "duration": 30,
    "start_time": "2022-03-07T09:44:21.192Z"
   },
   {
    "duration": 29,
    "start_time": "2022-03-07T09:44:21.225Z"
   },
   {
    "duration": 23,
    "start_time": "2022-03-07T09:44:21.257Z"
   },
   {
    "duration": 9,
    "start_time": "2022-03-07T09:44:21.283Z"
   },
   {
    "duration": 14,
    "start_time": "2022-03-07T09:44:21.295Z"
   },
   {
    "duration": 11,
    "start_time": "2022-03-07T09:44:21.312Z"
   },
   {
    "duration": 15,
    "start_time": "2022-03-07T09:44:21.327Z"
   },
   {
    "duration": 31,
    "start_time": "2022-03-07T09:44:21.345Z"
   },
   {
    "duration": 15,
    "start_time": "2022-03-07T09:44:21.378Z"
   },
   {
    "duration": 19,
    "start_time": "2022-03-07T09:44:21.395Z"
   },
   {
    "duration": 15,
    "start_time": "2022-03-07T09:44:21.416Z"
   },
   {
    "duration": 20,
    "start_time": "2022-03-07T09:44:21.433Z"
   },
   {
    "duration": 24,
    "start_time": "2022-03-07T09:44:21.455Z"
   },
   {
    "duration": 33,
    "start_time": "2022-03-07T09:44:21.482Z"
   },
   {
    "duration": 21,
    "start_time": "2022-03-07T09:44:21.517Z"
   },
   {
    "duration": 7,
    "start_time": "2022-03-07T09:44:21.540Z"
   },
   {
    "duration": 23,
    "start_time": "2022-03-07T09:44:21.549Z"
   },
   {
    "duration": 25,
    "start_time": "2022-03-07T09:44:21.574Z"
   },
   {
    "duration": 24,
    "start_time": "2022-03-07T09:44:21.602Z"
   },
   {
    "duration": 13,
    "start_time": "2022-03-07T09:44:21.629Z"
   },
   {
    "duration": 46,
    "start_time": "2022-03-07T09:44:21.645Z"
   },
   {
    "duration": 6,
    "start_time": "2022-03-07T09:44:21.694Z"
   },
   {
    "duration": 14095,
    "start_time": "2022-03-07T09:44:21.702Z"
   },
   {
    "duration": 14,
    "start_time": "2022-03-07T09:44:35.800Z"
   },
   {
    "duration": 10,
    "start_time": "2022-03-07T09:44:35.822Z"
   },
   {
    "duration": 14,
    "start_time": "2022-03-07T09:44:35.875Z"
   },
   {
    "duration": 6,
    "start_time": "2022-03-07T09:44:35.892Z"
   },
   {
    "duration": 8,
    "start_time": "2022-03-07T09:44:35.901Z"
   },
   {
    "duration": 332,
    "start_time": "2022-03-07T09:44:35.912Z"
   },
   {
    "duration": 268,
    "start_time": "2022-03-07T09:44:36.247Z"
   },
   {
    "duration": 102,
    "start_time": "2022-03-07T09:44:36.518Z"
   },
   {
    "duration": 5,
    "start_time": "2022-03-07T09:44:36.622Z"
   },
   {
    "duration": 12,
    "start_time": "2022-03-07T09:44:36.630Z"
   },
   {
    "duration": 8,
    "start_time": "2022-03-07T09:44:36.644Z"
   },
   {
    "duration": 33,
    "start_time": "2022-03-07T09:44:36.674Z"
   },
   {
    "duration": 11,
    "start_time": "2022-03-07T09:44:36.710Z"
   },
   {
    "duration": 54,
    "start_time": "2022-03-07T09:44:36.724Z"
   },
   {
    "duration": 10,
    "start_time": "2022-03-07T09:44:36.781Z"
   },
   {
    "duration": 24,
    "start_time": "2022-03-07T09:44:36.794Z"
   },
   {
    "duration": 3496,
    "start_time": "2022-03-07T09:44:36.821Z"
   },
   {
    "duration": 25558,
    "start_time": "2022-03-07T09:44:40.319Z"
   },
   {
    "duration": 402,
    "start_time": "2022-03-07T09:45:05.879Z"
   },
   {
    "duration": 383,
    "start_time": "2022-03-07T09:55:41.479Z"
   },
   {
    "duration": 253,
    "start_time": "2022-03-07T09:55:50.162Z"
   },
   {
    "duration": 257,
    "start_time": "2022-03-07T10:00:00.379Z"
   },
   {
    "duration": 798,
    "start_time": "2022-03-07T10:08:04.698Z"
   },
   {
    "duration": 533,
    "start_time": "2022-03-07T10:08:28.548Z"
   },
   {
    "duration": 260,
    "start_time": "2022-03-07T10:12:38.652Z"
   },
   {
    "duration": 264,
    "start_time": "2022-03-07T10:13:02.929Z"
   },
   {
    "duration": 25304,
    "start_time": "2022-03-07T10:13:54.241Z"
   },
   {
    "duration": 90,
    "start_time": "2022-03-07T10:14:37.015Z"
   },
   {
    "duration": 94,
    "start_time": "2022-03-07T10:14:44.618Z"
   },
   {
    "duration": 86,
    "start_time": "2022-03-07T10:14:52.649Z"
   },
   {
    "duration": 26195,
    "start_time": "2022-03-07T10:15:12.158Z"
   },
   {
    "duration": 3674,
    "start_time": "2022-03-07T10:22:45.970Z"
   },
   {
    "duration": 3643,
    "start_time": "2022-03-07T10:24:18.125Z"
   },
   {
    "duration": 27288,
    "start_time": "2022-03-07T10:25:41.163Z"
   },
   {
    "duration": 575,
    "start_time": "2022-03-07T10:26:40.112Z"
   },
   {
    "duration": 79,
    "start_time": "2022-03-07T10:34:25.487Z"
   },
   {
    "duration": 21,
    "start_time": "2022-03-07T10:37:16.586Z"
   },
   {
    "duration": 584,
    "start_time": "2022-03-07T10:37:20.650Z"
   },
   {
    "duration": 1249,
    "start_time": "2022-03-07T10:37:43.534Z"
   },
   {
    "duration": 867,
    "start_time": "2022-03-07T10:41:22.969Z"
   },
   {
    "duration": 2128,
    "start_time": "2022-03-07T10:41:24.151Z"
   },
   {
    "duration": 593,
    "start_time": "2022-03-07T10:41:34.525Z"
   },
   {
    "duration": 1194,
    "start_time": "2022-03-07T10:41:35.394Z"
   },
   {
    "duration": 1208,
    "start_time": "2022-03-07T10:42:44.987Z"
   },
   {
    "duration": 1394,
    "start_time": "2022-03-07T10:43:50.194Z"
   },
   {
    "duration": 27365,
    "start_time": "2022-03-07T10:48:57.893Z"
   },
   {
    "duration": 33179,
    "start_time": "2022-03-07T10:50:04.044Z"
   },
   {
    "duration": 40585,
    "start_time": "2022-03-07T10:51:03.441Z"
   },
   {
    "duration": 248,
    "start_time": "2022-03-07T10:56:42.964Z"
   },
   {
    "duration": 173,
    "start_time": "2022-03-07T10:58:16.009Z"
   },
   {
    "duration": 188,
    "start_time": "2022-03-07T10:58:35.484Z"
   },
   {
    "duration": 187,
    "start_time": "2022-03-07T10:58:39.268Z"
   },
   {
    "duration": 215,
    "start_time": "2022-03-07T10:58:40.064Z"
   },
   {
    "duration": 46105,
    "start_time": "2022-03-07T10:59:36.261Z"
   },
   {
    "duration": 619,
    "start_time": "2022-03-07T11:00:56.558Z"
   },
   {
    "duration": 611,
    "start_time": "2022-03-07T11:01:38.364Z"
   },
   {
    "duration": 186,
    "start_time": "2022-03-07T11:02:35.850Z"
   },
   {
    "duration": 634,
    "start_time": "2022-03-07T11:02:36.827Z"
   },
   {
    "duration": 1699,
    "start_time": "2022-03-07T11:03:42.564Z"
   },
   {
    "duration": 33,
    "start_time": "2022-03-07T11:03:44.266Z"
   },
   {
    "duration": 25,
    "start_time": "2022-03-07T11:03:44.302Z"
   },
   {
    "duration": 44,
    "start_time": "2022-03-07T11:03:44.330Z"
   },
   {
    "duration": 15,
    "start_time": "2022-03-07T11:03:44.376Z"
   },
   {
    "duration": 9,
    "start_time": "2022-03-07T11:03:44.393Z"
   },
   {
    "duration": 7,
    "start_time": "2022-03-07T11:03:44.405Z"
   },
   {
    "duration": 5,
    "start_time": "2022-03-07T11:03:44.416Z"
   },
   {
    "duration": 55,
    "start_time": "2022-03-07T11:03:44.424Z"
   },
   {
    "duration": 10,
    "start_time": "2022-03-07T11:03:44.481Z"
   },
   {
    "duration": 14,
    "start_time": "2022-03-07T11:03:44.493Z"
   },
   {
    "duration": 5,
    "start_time": "2022-03-07T11:03:44.509Z"
   },
   {
    "duration": 13,
    "start_time": "2022-03-07T11:03:44.517Z"
   },
   {
    "duration": 49,
    "start_time": "2022-03-07T11:03:44.533Z"
   },
   {
    "duration": 13,
    "start_time": "2022-03-07T11:03:44.584Z"
   },
   {
    "duration": 22,
    "start_time": "2022-03-07T11:03:44.600Z"
   },
   {
    "duration": 22,
    "start_time": "2022-03-07T11:03:44.625Z"
   },
   {
    "duration": 28,
    "start_time": "2022-03-07T11:03:44.649Z"
   },
   {
    "duration": 7,
    "start_time": "2022-03-07T11:03:44.679Z"
   },
   {
    "duration": 28,
    "start_time": "2022-03-07T11:03:44.688Z"
   },
   {
    "duration": 21,
    "start_time": "2022-03-07T11:03:44.719Z"
   },
   {
    "duration": 23,
    "start_time": "2022-03-07T11:03:44.773Z"
   },
   {
    "duration": 29,
    "start_time": "2022-03-07T11:03:44.801Z"
   },
   {
    "duration": 5,
    "start_time": "2022-03-07T11:03:44.833Z"
   },
   {
    "duration": 15725,
    "start_time": "2022-03-07T11:03:44.841Z"
   },
   {
    "duration": 12,
    "start_time": "2022-03-07T11:04:00.569Z"
   },
   {
    "duration": 17,
    "start_time": "2022-03-07T11:04:00.583Z"
   },
   {
    "duration": 19,
    "start_time": "2022-03-07T11:04:00.603Z"
   },
   {
    "duration": 337,
    "start_time": "2022-03-07T11:04:00.624Z"
   },
   {
    "duration": 282,
    "start_time": "2022-03-07T11:04:00.964Z"
   },
   {
    "duration": 104,
    "start_time": "2022-03-07T11:04:01.249Z"
   },
   {
    "duration": 18,
    "start_time": "2022-03-07T11:04:01.355Z"
   },
   {
    "duration": 20,
    "start_time": "2022-03-07T11:04:01.376Z"
   },
   {
    "duration": 55,
    "start_time": "2022-03-07T11:04:01.399Z"
   },
   {
    "duration": 57,
    "start_time": "2022-03-07T11:04:01.457Z"
   },
   {
    "duration": 15,
    "start_time": "2022-03-07T11:04:01.517Z"
   },
   {
    "duration": 40,
    "start_time": "2022-03-07T11:04:01.535Z"
   },
   {
    "duration": 13,
    "start_time": "2022-03-07T11:04:01.578Z"
   },
   {
    "duration": 38,
    "start_time": "2022-03-07T11:04:01.594Z"
   },
   {
    "duration": 4043,
    "start_time": "2022-03-07T11:04:01.634Z"
   },
   {
    "duration": 25931,
    "start_time": "2022-03-07T11:04:05.680Z"
   },
   {
    "duration": 467,
    "start_time": "2022-03-07T11:04:31.613Z"
   },
   {
    "duration": 323,
    "start_time": "2022-03-07T11:04:32.174Z"
   },
   {
    "duration": 3804,
    "start_time": "2022-03-07T11:04:32.500Z"
   },
   {
    "duration": 26421,
    "start_time": "2022-03-07T11:04:36.307Z"
   },
   {
    "duration": 562,
    "start_time": "2022-03-07T11:05:02.731Z"
   },
   {
    "duration": 113,
    "start_time": "2022-03-07T11:05:03.377Z"
   },
   {
    "duration": 555,
    "start_time": "2022-03-07T11:05:03.493Z"
   },
   {
    "duration": 38361,
    "start_time": "2022-03-07T11:05:04.051Z"
   },
   {
    "duration": 1367,
    "start_time": "2022-03-07T11:05:42.415Z"
   },
   {
    "duration": 294,
    "start_time": "2022-03-07T11:05:43.875Z"
   },
   {
    "duration": 775,
    "start_time": "2022-03-07T11:05:44.171Z"
   },
   {
    "duration": -233,
    "start_time": "2022-03-07T11:05:45.182Z"
   },
   {
    "duration": 906,
    "start_time": "2022-03-07T11:08:18.907Z"
   },
   {
    "duration": 14653,
    "start_time": "2022-03-07T11:08:38.662Z"
   },
   {
    "duration": 9688,
    "start_time": "2022-03-07T11:09:48.928Z"
   },
   {
    "duration": 10318,
    "start_time": "2022-03-07T11:10:04.167Z"
   },
   {
    "duration": 10478,
    "start_time": "2022-03-07T11:10:21.466Z"
   },
   {
    "duration": 97072,
    "start_time": "2022-03-07T11:11:04.881Z"
   },
   {
    "duration": 70894,
    "start_time": "2022-03-07T11:12:50.916Z"
   },
   {
    "duration": 84086,
    "start_time": "2022-03-07T11:14:15.076Z"
   },
   {
    "duration": 89373,
    "start_time": "2022-03-07T11:17:36.015Z"
   },
   {
    "duration": 71066,
    "start_time": "2022-03-07T11:19:21.008Z"
   },
   {
    "duration": 362,
    "start_time": "2022-03-07T11:22:08.838Z"
   },
   {
    "duration": 160,
    "start_time": "2022-03-07T11:22:34.721Z"
   },
   {
    "duration": 89,
    "start_time": "2022-03-07T11:25:36.415Z"
   },
   {
    "duration": 363,
    "start_time": "2022-03-07T11:29:13.256Z"
   },
   {
    "duration": 297,
    "start_time": "2022-03-07T11:29:15.557Z"
   },
   {
    "duration": 1672,
    "start_time": "2022-03-07T11:30:26.419Z"
   },
   {
    "duration": 31,
    "start_time": "2022-03-07T11:30:28.093Z"
   },
   {
    "duration": 22,
    "start_time": "2022-03-07T11:30:28.126Z"
   },
   {
    "duration": 44,
    "start_time": "2022-03-07T11:30:28.151Z"
   },
   {
    "duration": 12,
    "start_time": "2022-03-07T11:30:28.197Z"
   },
   {
    "duration": 8,
    "start_time": "2022-03-07T11:30:28.213Z"
   },
   {
    "duration": 10,
    "start_time": "2022-03-07T11:30:28.224Z"
   },
   {
    "duration": 5,
    "start_time": "2022-03-07T11:30:28.272Z"
   },
   {
    "duration": 8,
    "start_time": "2022-03-07T11:30:28.280Z"
   },
   {
    "duration": 7,
    "start_time": "2022-03-07T11:30:28.290Z"
   },
   {
    "duration": 10,
    "start_time": "2022-03-07T11:30:28.300Z"
   },
   {
    "duration": 4,
    "start_time": "2022-03-07T11:30:28.312Z"
   },
   {
    "duration": 55,
    "start_time": "2022-03-07T11:30:28.318Z"
   },
   {
    "duration": 8,
    "start_time": "2022-03-07T11:30:28.376Z"
   },
   {
    "duration": 12,
    "start_time": "2022-03-07T11:30:28.387Z"
   },
   {
    "duration": 19,
    "start_time": "2022-03-07T11:30:28.401Z"
   },
   {
    "duration": 21,
    "start_time": "2022-03-07T11:30:28.423Z"
   },
   {
    "duration": 6,
    "start_time": "2022-03-07T11:30:28.477Z"
   },
   {
    "duration": 9,
    "start_time": "2022-03-07T11:30:28.487Z"
   },
   {
    "duration": 27,
    "start_time": "2022-03-07T11:30:28.499Z"
   },
   {
    "duration": 20,
    "start_time": "2022-03-07T11:30:28.528Z"
   },
   {
    "duration": 12,
    "start_time": "2022-03-07T11:30:28.573Z"
   },
   {
    "duration": 25,
    "start_time": "2022-03-07T11:30:28.588Z"
   },
   {
    "duration": 6,
    "start_time": "2022-03-07T11:30:28.615Z"
   },
   {
    "duration": 14132,
    "start_time": "2022-03-07T11:30:28.623Z"
   },
   {
    "duration": 20,
    "start_time": "2022-03-07T11:30:42.757Z"
   },
   {
    "duration": 11,
    "start_time": "2022-03-07T11:30:42.779Z"
   },
   {
    "duration": 11,
    "start_time": "2022-03-07T11:30:42.793Z"
   },
   {
    "duration": 353,
    "start_time": "2022-03-07T11:30:42.807Z"
   },
   {
    "duration": 278,
    "start_time": "2022-03-07T11:30:43.162Z"
   },
   {
    "duration": 103,
    "start_time": "2022-03-07T11:30:43.443Z"
   },
   {
    "duration": 5,
    "start_time": "2022-03-07T11:30:43.548Z"
   },
   {
    "duration": 20,
    "start_time": "2022-03-07T11:30:43.555Z"
   },
   {
    "duration": 7,
    "start_time": "2022-03-07T11:30:43.577Z"
   },
   {
    "duration": 37,
    "start_time": "2022-03-07T11:30:43.587Z"
   },
   {
    "duration": 11,
    "start_time": "2022-03-07T11:30:43.627Z"
   },
   {
    "duration": 55,
    "start_time": "2022-03-07T11:30:43.640Z"
   },
   {
    "duration": 10,
    "start_time": "2022-03-07T11:30:43.698Z"
   },
   {
    "duration": 44,
    "start_time": "2022-03-07T11:30:43.710Z"
   },
   {
    "duration": 3807,
    "start_time": "2022-03-07T11:30:43.757Z"
   },
   {
    "duration": 25274,
    "start_time": "2022-03-07T11:30:47.567Z"
   },
   {
    "duration": 437,
    "start_time": "2022-03-07T11:31:12.844Z"
   },
   {
    "duration": 438,
    "start_time": "2022-03-07T11:31:13.284Z"
   },
   {
    "duration": 3525,
    "start_time": "2022-03-07T11:31:13.725Z"
   },
   {
    "duration": 26356,
    "start_time": "2022-03-07T11:31:17.253Z"
   },
   {
    "duration": 665,
    "start_time": "2022-03-07T11:31:43.611Z"
   },
   {
    "duration": 108,
    "start_time": "2022-03-07T11:31:44.279Z"
   },
   {
    "duration": 571,
    "start_time": "2022-03-07T11:31:44.390Z"
   },
   {
    "duration": 72209,
    "start_time": "2022-03-07T11:31:44.964Z"
   },
   {
    "duration": 1501,
    "start_time": "2022-03-07T11:32:57.175Z"
   },
   {
    "duration": 286,
    "start_time": "2022-03-07T11:32:58.680Z"
   },
   {
    "duration": 10753,
    "start_time": "2022-03-07T11:32:58.969Z"
   },
   {
    "duration": 157,
    "start_time": "2022-03-07T11:33:09.724Z"
   },
   {
    "duration": 545,
    "start_time": "2022-03-07T11:33:09.888Z"
   },
   {
    "duration": 165,
    "start_time": "2022-03-07T11:33:10.481Z"
   },
   {
    "duration": 88,
    "start_time": "2022-03-07T11:45:13.770Z"
   },
   {
    "duration": 9435,
    "start_time": "2022-03-07T11:45:28.938Z"
   },
   {
    "duration": 9525,
    "start_time": "2022-03-07T11:46:05.551Z"
   },
   {
    "duration": 23744,
    "start_time": "2022-03-07T11:46:39.182Z"
   },
   {
    "duration": 24529,
    "start_time": "2022-03-07T11:47:20.845Z"
   },
   {
    "duration": 24323,
    "start_time": "2022-03-07T11:51:24.116Z"
   },
   {
    "duration": 23566,
    "start_time": "2022-03-07T11:51:51.607Z"
   },
   {
    "duration": 2394,
    "start_time": "2022-03-07T11:53:37.310Z"
   },
   {
    "duration": 85,
    "start_time": "2022-03-07T11:54:21.459Z"
   },
   {
    "duration": 112201,
    "start_time": "2022-03-07T11:56:05.433Z"
   },
   {
    "duration": 103116,
    "start_time": "2022-03-07T11:58:09.637Z"
   },
   {
    "duration": 11,
    "start_time": "2022-03-07T12:03:56.419Z"
   },
   {
    "duration": 739,
    "start_time": "2022-03-07T12:04:36.324Z"
   },
   {
    "duration": 404,
    "start_time": "2022-03-07T12:06:44.997Z"
   },
   {
    "duration": 489,
    "start_time": "2022-03-07T12:06:56.293Z"
   },
   {
    "duration": 307,
    "start_time": "2022-03-07T12:07:47.093Z"
   },
   {
    "duration": 1554,
    "start_time": "2022-03-07T12:07:57.103Z"
   },
   {
    "duration": 32,
    "start_time": "2022-03-07T12:07:58.659Z"
   },
   {
    "duration": 24,
    "start_time": "2022-03-07T12:07:58.697Z"
   },
   {
    "duration": 21,
    "start_time": "2022-03-07T12:07:58.723Z"
   },
   {
    "duration": 16,
    "start_time": "2022-03-07T12:07:58.775Z"
   },
   {
    "duration": 9,
    "start_time": "2022-03-07T12:07:58.793Z"
   },
   {
    "duration": 9,
    "start_time": "2022-03-07T12:07:58.806Z"
   },
   {
    "duration": 11,
    "start_time": "2022-03-07T12:07:58.818Z"
   },
   {
    "duration": 45,
    "start_time": "2022-03-07T12:07:58.831Z"
   },
   {
    "duration": 9,
    "start_time": "2022-03-07T12:07:58.878Z"
   },
   {
    "duration": 32,
    "start_time": "2022-03-07T12:07:58.889Z"
   },
   {
    "duration": 12,
    "start_time": "2022-03-07T12:07:58.923Z"
   },
   {
    "duration": 40,
    "start_time": "2022-03-07T12:07:58.937Z"
   },
   {
    "duration": 17,
    "start_time": "2022-03-07T12:07:58.979Z"
   },
   {
    "duration": 18,
    "start_time": "2022-03-07T12:07:58.999Z"
   },
   {
    "duration": 23,
    "start_time": "2022-03-07T12:07:59.019Z"
   },
   {
    "duration": 36,
    "start_time": "2022-03-07T12:07:59.045Z"
   },
   {
    "duration": 6,
    "start_time": "2022-03-07T12:07:59.084Z"
   },
   {
    "duration": 13,
    "start_time": "2022-03-07T12:07:59.093Z"
   },
   {
    "duration": 22,
    "start_time": "2022-03-07T12:07:59.108Z"
   },
   {
    "duration": 48,
    "start_time": "2022-03-07T12:07:59.132Z"
   },
   {
    "duration": 14,
    "start_time": "2022-03-07T12:07:59.185Z"
   },
   {
    "duration": 26,
    "start_time": "2022-03-07T12:07:59.202Z"
   },
   {
    "duration": 5,
    "start_time": "2022-03-07T12:07:59.231Z"
   },
   {
    "duration": 14526,
    "start_time": "2022-03-07T12:07:59.238Z"
   },
   {
    "duration": 11,
    "start_time": "2022-03-07T12:08:13.774Z"
   },
   {
    "duration": 12,
    "start_time": "2022-03-07T12:08:13.787Z"
   },
   {
    "duration": 12,
    "start_time": "2022-03-07T12:08:13.802Z"
   },
   {
    "duration": 348,
    "start_time": "2022-03-07T12:08:13.817Z"
   },
   {
    "duration": 274,
    "start_time": "2022-03-07T12:08:14.172Z"
   },
   {
    "duration": 104,
    "start_time": "2022-03-07T12:08:14.449Z"
   },
   {
    "duration": 4,
    "start_time": "2022-03-07T12:08:14.556Z"
   },
   {
    "duration": 14,
    "start_time": "2022-03-07T12:08:14.562Z"
   },
   {
    "duration": 6,
    "start_time": "2022-03-07T12:08:14.578Z"
   },
   {
    "duration": 38,
    "start_time": "2022-03-07T12:08:14.586Z"
   },
   {
    "duration": 11,
    "start_time": "2022-03-07T12:08:14.626Z"
   },
   {
    "duration": 25,
    "start_time": "2022-03-07T12:08:14.674Z"
   },
   {
    "duration": 9,
    "start_time": "2022-03-07T12:08:14.701Z"
   },
   {
    "duration": 22,
    "start_time": "2022-03-07T12:08:14.712Z"
   },
   {
    "duration": 3538,
    "start_time": "2022-03-07T12:08:14.736Z"
   },
   {
    "duration": 25137,
    "start_time": "2022-03-07T12:08:18.277Z"
   },
   {
    "duration": 458,
    "start_time": "2022-03-07T12:08:43.416Z"
   },
   {
    "duration": 352,
    "start_time": "2022-03-07T12:08:43.877Z"
   },
   {
    "duration": 9316,
    "start_time": "2022-03-07T12:08:44.232Z"
   },
   {
    "duration": 25766,
    "start_time": "2022-03-07T12:08:53.551Z"
   },
   {
    "duration": 562,
    "start_time": "2022-03-07T12:09:19.320Z"
   },
   {
    "duration": 113,
    "start_time": "2022-03-07T12:09:19.978Z"
   },
   {
    "duration": 536,
    "start_time": "2022-03-07T12:09:20.094Z"
   },
   {
    "duration": 23875,
    "start_time": "2022-03-07T12:09:20.633Z"
   },
   {
    "duration": 102604,
    "start_time": "2022-03-07T12:09:44.511Z"
   },
   {
    "duration": 1360,
    "start_time": "2022-03-07T12:11:27.119Z"
   },
   {
    "duration": 290,
    "start_time": "2022-03-07T12:11:28.483Z"
   },
   {
    "duration": 2391,
    "start_time": "2022-03-07T12:11:28.776Z"
   },
   {
    "duration": 11369,
    "start_time": "2022-03-07T12:11:31.170Z"
   },
   {
    "duration": 140,
    "start_time": "2022-03-07T12:11:42.541Z"
   },
   {
    "duration": 103,
    "start_time": "2022-03-07T12:11:42.775Z"
   },
   {
    "duration": 434,
    "start_time": "2022-03-07T12:11:42.880Z"
   },
   {
    "duration": 1576,
    "start_time": "2022-03-07T12:18:03.773Z"
   },
   {
    "duration": 103388,
    "start_time": "2022-03-07T12:21:46.715Z"
   },
   {
    "duration": 57435,
    "start_time": "2022-03-07T12:23:49.330Z"
   },
   {
    "duration": 23437,
    "start_time": "2022-03-07T12:25:20.103Z"
   },
   {
    "duration": 28011,
    "start_time": "2022-03-07T12:26:16.618Z"
   },
   {
    "duration": 574,
    "start_time": "2022-03-07T12:32:04.701Z"
   },
   {
    "duration": 301,
    "start_time": "2022-03-07T12:39:12.320Z"
   },
   {
    "duration": 299,
    "start_time": "2022-03-07T12:40:45.581Z"
   },
   {
    "duration": 35512,
    "start_time": "2022-03-07T12:42:20.523Z"
   },
   {
    "duration": 37850,
    "start_time": "2022-03-07T12:44:16.771Z"
   },
   {
    "duration": 35722,
    "start_time": "2022-03-07T12:45:43.495Z"
   },
   {
    "duration": 677,
    "start_time": "2022-03-07T12:50:38.422Z"
   },
   {
    "duration": 9,
    "start_time": "2022-03-07T12:51:22.032Z"
   },
   {
    "duration": 856,
    "start_time": "2022-03-07T12:51:37.501Z"
   },
   {
    "duration": 436,
    "start_time": "2022-03-07T12:52:43.637Z"
   },
   {
    "duration": 793,
    "start_time": "2022-03-07T12:54:01.259Z"
   },
   {
    "duration": 288,
    "start_time": "2022-03-07T12:57:14.798Z"
   },
   {
    "duration": 253,
    "start_time": "2022-03-07T12:57:47.697Z"
   },
   {
    "duration": 806,
    "start_time": "2022-03-07T12:58:01.039Z"
   },
   {
    "duration": 90,
    "start_time": "2022-03-07T13:00:30.030Z"
   },
   {
    "duration": 915,
    "start_time": "2022-03-07T13:05:46.309Z"
   },
   {
    "duration": 927,
    "start_time": "2022-03-07T13:06:58.874Z"
   },
   {
    "duration": 780,
    "start_time": "2022-03-07T13:07:12.071Z"
   },
   {
    "duration": 611,
    "start_time": "2022-03-07T13:08:34.347Z"
   },
   {
    "duration": 639,
    "start_time": "2022-03-07T13:09:46.472Z"
   },
   {
    "duration": 415,
    "start_time": "2022-03-07T13:10:28.065Z"
   },
   {
    "duration": 772,
    "start_time": "2022-03-07T13:11:49.812Z"
   },
   {
    "duration": 2827,
    "start_time": "2022-03-07T13:14:37.012Z"
   },
   {
    "duration": 8,
    "start_time": "2022-03-07T13:16:35.579Z"
   },
   {
    "duration": 8,
    "start_time": "2022-03-07T13:20:31.869Z"
   },
   {
    "duration": 1907,
    "start_time": "2022-03-07T13:20:59.858Z"
   },
   {
    "duration": 32,
    "start_time": "2022-03-07T13:21:01.768Z"
   },
   {
    "duration": 24,
    "start_time": "2022-03-07T13:21:01.803Z"
   },
   {
    "duration": 50,
    "start_time": "2022-03-07T13:21:01.829Z"
   },
   {
    "duration": 25,
    "start_time": "2022-03-07T13:21:01.881Z"
   },
   {
    "duration": 27,
    "start_time": "2022-03-07T13:21:01.909Z"
   },
   {
    "duration": 12,
    "start_time": "2022-03-07T13:21:01.939Z"
   },
   {
    "duration": 20,
    "start_time": "2022-03-07T13:21:01.955Z"
   },
   {
    "duration": 18,
    "start_time": "2022-03-07T13:21:01.978Z"
   },
   {
    "duration": 10,
    "start_time": "2022-03-07T13:21:01.998Z"
   },
   {
    "duration": 27,
    "start_time": "2022-03-07T13:21:02.010Z"
   },
   {
    "duration": 12,
    "start_time": "2022-03-07T13:21:02.039Z"
   },
   {
    "duration": 34,
    "start_time": "2022-03-07T13:21:02.053Z"
   },
   {
    "duration": 117,
    "start_time": "2022-03-07T13:21:02.089Z"
   },
   {
    "duration": 27,
    "start_time": "2022-03-07T13:21:02.208Z"
   },
   {
    "duration": 40,
    "start_time": "2022-03-07T13:21:02.238Z"
   },
   {
    "duration": 23,
    "start_time": "2022-03-07T13:21:02.281Z"
   },
   {
    "duration": 9,
    "start_time": "2022-03-07T13:21:02.307Z"
   },
   {
    "duration": 72,
    "start_time": "2022-03-07T13:21:02.319Z"
   },
   {
    "duration": 36,
    "start_time": "2022-03-07T13:21:02.394Z"
   },
   {
    "duration": 32,
    "start_time": "2022-03-07T13:21:02.432Z"
   },
   {
    "duration": 39,
    "start_time": "2022-03-07T13:21:02.467Z"
   },
   {
    "duration": 28,
    "start_time": "2022-03-07T13:21:02.515Z"
   },
   {
    "duration": 7,
    "start_time": "2022-03-07T13:21:02.548Z"
   },
   {
    "duration": 14646,
    "start_time": "2022-03-07T13:21:02.557Z"
   },
   {
    "duration": 14,
    "start_time": "2022-03-07T13:21:17.206Z"
   },
   {
    "duration": 52,
    "start_time": "2022-03-07T13:21:17.223Z"
   },
   {
    "duration": 14,
    "start_time": "2022-03-07T13:21:17.278Z"
   },
   {
    "duration": 337,
    "start_time": "2022-03-07T13:21:17.295Z"
   },
   {
    "duration": 278,
    "start_time": "2022-03-07T13:21:17.635Z"
   },
   {
    "duration": 106,
    "start_time": "2022-03-07T13:21:17.916Z"
   },
   {
    "duration": 5,
    "start_time": "2022-03-07T13:21:18.025Z"
   },
   {
    "duration": 13,
    "start_time": "2022-03-07T13:21:18.032Z"
   },
   {
    "duration": 9,
    "start_time": "2022-03-07T13:21:18.047Z"
   },
   {
    "duration": 35,
    "start_time": "2022-03-07T13:21:18.075Z"
   },
   {
    "duration": 12,
    "start_time": "2022-03-07T13:21:18.113Z"
   },
   {
    "duration": 57,
    "start_time": "2022-03-07T13:21:18.127Z"
   },
   {
    "duration": 9,
    "start_time": "2022-03-07T13:21:18.187Z"
   },
   {
    "duration": 21,
    "start_time": "2022-03-07T13:21:18.198Z"
   },
   {
    "duration": 3552,
    "start_time": "2022-03-07T13:21:18.222Z"
   },
   {
    "duration": 29926,
    "start_time": "2022-03-07T13:21:21.777Z"
   },
   {
    "duration": 388,
    "start_time": "2022-03-07T13:21:51.706Z"
   },
   {
    "duration": 361,
    "start_time": "2022-03-07T13:21:52.175Z"
   },
   {
    "duration": 9618,
    "start_time": "2022-03-07T13:21:52.539Z"
   },
   {
    "duration": 25838,
    "start_time": "2022-03-07T13:22:02.160Z"
   },
   {
    "duration": 584,
    "start_time": "2022-03-07T13:22:28.001Z"
   },
   {
    "duration": 21,
    "start_time": "2022-03-07T13:22:28.676Z"
   },
   {
    "duration": 603,
    "start_time": "2022-03-07T13:22:28.700Z"
   },
   {
    "duration": 23570,
    "start_time": "2022-03-07T13:22:29.306Z"
   },
   {
    "duration": 103666,
    "start_time": "2022-03-07T13:22:52.879Z"
   },
   {
    "duration": 1334,
    "start_time": "2022-03-07T13:24:36.548Z"
   },
   {
    "duration": 284,
    "start_time": "2022-03-07T13:24:37.980Z"
   },
   {
    "duration": 2332,
    "start_time": "2022-03-07T13:24:38.267Z"
   },
   {
    "duration": 10962,
    "start_time": "2022-03-07T13:24:40.601Z"
   },
   {
    "duration": 209,
    "start_time": "2022-03-07T13:24:51.566Z"
   },
   {
    "duration": 100,
    "start_time": "2022-03-07T13:24:51.779Z"
   },
   {
    "duration": 1636,
    "start_time": "2022-03-07T13:24:51.881Z"
   },
   {
    "duration": 28227,
    "start_time": "2022-03-07T13:24:53.520Z"
   },
   {
    "duration": 627,
    "start_time": "2022-03-07T13:25:21.749Z"
   },
   {
    "duration": 1022,
    "start_time": "2022-03-07T13:25:22.379Z"
   },
   {
    "duration": 645,
    "start_time": "2022-03-07T13:25:23.404Z"
   },
   {
    "duration": 2859,
    "start_time": "2022-03-07T13:25:24.052Z"
   },
   {
    "duration": 8,
    "start_time": "2022-03-07T13:25:26.913Z"
   },
   {
    "duration": 840,
    "start_time": "2022-03-07T13:25:26.924Z"
   },
   {
    "duration": 10,
    "start_time": "2022-03-07T13:25:27.767Z"
   },
   {
    "duration": 9,
    "start_time": "2022-03-08T03:04:35.350Z"
   },
   {
    "duration": 44,
    "start_time": "2022-03-08T03:04:35.362Z"
   },
   {
    "duration": 18,
    "start_time": "2022-03-08T03:04:35.409Z"
   },
   {
    "duration": 22,
    "start_time": "2022-03-08T03:04:35.429Z"
   },
   {
    "duration": 38,
    "start_time": "2022-03-08T03:04:35.453Z"
   },
   {
    "duration": 10,
    "start_time": "2022-03-08T03:04:35.494Z"
   },
   {
    "duration": 9,
    "start_time": "2022-03-08T03:04:35.507Z"
   },
   {
    "duration": 9,
    "start_time": "2022-03-08T03:04:35.519Z"
   },
   {
    "duration": 7,
    "start_time": "2022-03-08T03:04:35.530Z"
   },
   {
    "duration": 43,
    "start_time": "2022-03-08T03:04:35.539Z"
   },
   {
    "duration": 10,
    "start_time": "2022-03-08T03:04:35.585Z"
   },
   {
    "duration": 5,
    "start_time": "2022-03-08T03:04:35.597Z"
   },
   {
    "duration": 11,
    "start_time": "2022-03-08T03:04:35.604Z"
   },
   {
    "duration": 10,
    "start_time": "2022-03-08T03:04:35.618Z"
   },
   {
    "duration": 15,
    "start_time": "2022-03-08T03:04:35.631Z"
   },
   {
    "duration": 18,
    "start_time": "2022-03-08T03:04:35.689Z"
   },
   {
    "duration": 16,
    "start_time": "2022-03-08T03:04:35.711Z"
   },
   {
    "duration": 6,
    "start_time": "2022-03-08T03:04:35.729Z"
   },
   {
    "duration": 45,
    "start_time": "2022-03-08T03:04:35.739Z"
   },
   {
    "duration": 27,
    "start_time": "2022-03-08T03:04:35.787Z"
   },
   {
    "duration": 22,
    "start_time": "2022-03-08T03:04:35.817Z"
   },
   {
    "duration": 10,
    "start_time": "2022-03-08T03:04:35.841Z"
   },
   {
    "duration": 25,
    "start_time": "2022-03-08T03:04:35.882Z"
   },
   {
    "duration": 9,
    "start_time": "2022-03-08T03:04:35.910Z"
   },
   {
    "duration": 13349,
    "start_time": "2022-03-08T03:04:35.921Z"
   },
   {
    "duration": 18,
    "start_time": "2022-03-08T03:04:49.272Z"
   },
   {
    "duration": 13,
    "start_time": "2022-03-08T03:04:49.292Z"
   },
   {
    "duration": 11,
    "start_time": "2022-03-08T03:04:49.308Z"
   },
   {
    "duration": 335,
    "start_time": "2022-03-08T03:04:49.322Z"
   },
   {
    "duration": 233,
    "start_time": "2022-03-08T03:04:49.660Z"
   },
   {
    "duration": 93,
    "start_time": "2022-03-08T03:04:49.895Z"
   },
   {
    "duration": 5,
    "start_time": "2022-03-08T03:04:49.990Z"
   },
   {
    "duration": 11,
    "start_time": "2022-03-08T03:04:49.997Z"
   },
   {
    "duration": 12,
    "start_time": "2022-03-08T03:04:50.010Z"
   },
   {
    "duration": 27,
    "start_time": "2022-03-08T03:04:50.024Z"
   },
   {
    "duration": 32,
    "start_time": "2022-03-08T03:04:50.053Z"
   },
   {
    "duration": 26,
    "start_time": "2022-03-08T03:04:50.087Z"
   },
   {
    "duration": 9,
    "start_time": "2022-03-08T03:04:50.116Z"
   },
   {
    "duration": 24,
    "start_time": "2022-03-08T03:04:50.127Z"
   },
   {
    "duration": 3209,
    "start_time": "2022-03-08T03:04:50.153Z"
   },
   {
    "duration": 23069,
    "start_time": "2022-03-08T03:04:53.365Z"
   },
   {
    "duration": 368,
    "start_time": "2022-03-08T03:05:16.436Z"
   },
   {
    "duration": 352,
    "start_time": "2022-03-08T03:05:16.885Z"
   },
   {
    "duration": 8369,
    "start_time": "2022-03-08T03:05:17.239Z"
   },
   {
    "duration": 23023,
    "start_time": "2022-03-08T03:05:25.611Z"
   },
   {
    "duration": 560,
    "start_time": "2022-03-08T03:05:48.636Z"
   },
   {
    "duration": 186,
    "start_time": "2022-03-08T03:05:49.199Z"
   },
   {
    "duration": 484,
    "start_time": "2022-03-08T03:05:49.388Z"
   },
   {
    "duration": 21761,
    "start_time": "2022-03-08T03:05:49.875Z"
   },
   {
    "duration": 93565,
    "start_time": "2022-03-08T03:06:11.639Z"
   },
   {
    "duration": 1282,
    "start_time": "2022-03-08T03:07:45.207Z"
   },
   {
    "duration": 363,
    "start_time": "2022-03-08T03:07:46.492Z"
   },
   {
    "duration": 1874,
    "start_time": "2022-03-08T03:07:46.858Z"
   },
   {
    "duration": 8869,
    "start_time": "2022-03-08T03:07:48.734Z"
   },
   {
    "duration": 179,
    "start_time": "2022-03-08T03:07:57.606Z"
   },
   {
    "duration": 11,
    "start_time": "2022-03-08T03:07:57.882Z"
   },
   {
    "duration": 1436,
    "start_time": "2022-03-08T03:07:57.895Z"
   },
   {
    "duration": 24661,
    "start_time": "2022-03-08T03:07:59.333Z"
   },
   {
    "duration": 589,
    "start_time": "2022-03-08T03:08:23.996Z"
   },
   {
    "duration": 975,
    "start_time": "2022-03-08T03:08:24.588Z"
   },
   {
    "duration": 562,
    "start_time": "2022-03-08T03:08:25.565Z"
   },
   {
    "duration": 2456,
    "start_time": "2022-03-08T03:08:26.129Z"
   },
   {
    "duration": 8,
    "start_time": "2022-03-08T03:08:28.587Z"
   },
   {
    "duration": 822,
    "start_time": "2022-03-08T03:08:28.597Z"
   },
   {
    "duration": 8,
    "start_time": "2022-03-08T03:08:29.421Z"
   },
   {
    "duration": 93,
    "start_time": "2022-03-08T03:10:38.815Z"
   },
   {
    "duration": 1520,
    "start_time": "2022-03-08T03:12:36.106Z"
   },
   {
    "duration": 30,
    "start_time": "2022-03-08T03:12:37.629Z"
   },
   {
    "duration": 26,
    "start_time": "2022-03-08T03:12:37.662Z"
   },
   {
    "duration": 23,
    "start_time": "2022-03-08T03:12:37.691Z"
   },
   {
    "duration": 14,
    "start_time": "2022-03-08T03:12:37.717Z"
   },
   {
    "duration": 9,
    "start_time": "2022-03-08T03:12:37.733Z"
   },
   {
    "duration": 43,
    "start_time": "2022-03-08T03:12:37.744Z"
   },
   {
    "duration": 9,
    "start_time": "2022-03-08T03:12:37.791Z"
   },
   {
    "duration": 13,
    "start_time": "2022-03-08T03:12:37.802Z"
   },
   {
    "duration": 8,
    "start_time": "2022-03-08T03:12:37.818Z"
   },
   {
    "duration": 13,
    "start_time": "2022-03-08T03:12:37.828Z"
   },
   {
    "duration": 8,
    "start_time": "2022-03-08T03:12:37.844Z"
   },
   {
    "duration": 34,
    "start_time": "2022-03-08T03:12:37.854Z"
   },
   {
    "duration": 11,
    "start_time": "2022-03-08T03:12:37.891Z"
   },
   {
    "duration": 11,
    "start_time": "2022-03-08T03:12:37.904Z"
   },
   {
    "duration": 21,
    "start_time": "2022-03-08T03:12:37.918Z"
   },
   {
    "duration": 41,
    "start_time": "2022-03-08T03:12:37.942Z"
   },
   {
    "duration": 6,
    "start_time": "2022-03-08T03:12:37.986Z"
   },
   {
    "duration": 15,
    "start_time": "2022-03-08T03:12:37.994Z"
   },
   {
    "duration": 22,
    "start_time": "2022-03-08T03:12:38.012Z"
   },
   {
    "duration": 21,
    "start_time": "2022-03-08T03:12:38.036Z"
   },
   {
    "duration": 33,
    "start_time": "2022-03-08T03:12:38.060Z"
   },
   {
    "duration": 23,
    "start_time": "2022-03-08T03:12:38.100Z"
   },
   {
    "duration": 5,
    "start_time": "2022-03-08T03:12:38.126Z"
   },
   {
    "duration": 13185,
    "start_time": "2022-03-08T03:12:38.133Z"
   },
   {
    "duration": 9,
    "start_time": "2022-03-08T03:12:51.320Z"
   },
   {
    "duration": 10,
    "start_time": "2022-03-08T03:12:51.332Z"
   },
   {
    "duration": 38,
    "start_time": "2022-03-08T03:12:51.345Z"
   },
   {
    "duration": 312,
    "start_time": "2022-03-08T03:12:51.386Z"
   },
   {
    "duration": 250,
    "start_time": "2022-03-08T03:12:51.701Z"
   },
   {
    "duration": 92,
    "start_time": "2022-03-08T03:12:51.953Z"
   },
   {
    "duration": 5,
    "start_time": "2022-03-08T03:12:52.047Z"
   },
   {
    "duration": 6,
    "start_time": "2022-03-08T03:12:52.054Z"
   },
   {
    "duration": 23,
    "start_time": "2022-03-08T03:12:52.062Z"
   },
   {
    "duration": 34,
    "start_time": "2022-03-08T03:12:52.087Z"
   },
   {
    "duration": 11,
    "start_time": "2022-03-08T03:12:52.123Z"
   },
   {
    "duration": 55,
    "start_time": "2022-03-08T03:12:52.136Z"
   },
   {
    "duration": 10,
    "start_time": "2022-03-08T03:12:52.193Z"
   },
   {
    "duration": 19,
    "start_time": "2022-03-08T03:12:52.205Z"
   },
   {
    "duration": 3263,
    "start_time": "2022-03-08T03:12:52.226Z"
   },
   {
    "duration": 22644,
    "start_time": "2022-03-08T03:12:55.492Z"
   },
   {
    "duration": 364,
    "start_time": "2022-03-08T03:13:18.139Z"
   },
   {
    "duration": 338,
    "start_time": "2022-03-08T03:13:18.586Z"
   },
   {
    "duration": 8446,
    "start_time": "2022-03-08T03:13:18.927Z"
   },
   {
    "duration": 23022,
    "start_time": "2022-03-08T03:13:27.376Z"
   },
   {
    "duration": 586,
    "start_time": "2022-03-08T03:13:50.401Z"
   },
   {
    "duration": 110,
    "start_time": "2022-03-08T03:13:50.991Z"
   },
   {
    "duration": 516,
    "start_time": "2022-03-08T03:13:51.103Z"
   },
   {
    "duration": 22198,
    "start_time": "2022-03-08T03:13:51.621Z"
   },
   {
    "duration": 95399,
    "start_time": "2022-03-08T03:14:13.821Z"
   },
   {
    "duration": 1264,
    "start_time": "2022-03-08T03:15:49.222Z"
   },
   {
    "duration": 271,
    "start_time": "2022-03-08T03:15:50.489Z"
   },
   {
    "duration": 2126,
    "start_time": "2022-03-08T03:15:50.762Z"
   },
   {
    "duration": 9165,
    "start_time": "2022-03-08T03:15:52.890Z"
   },
   {
    "duration": 226,
    "start_time": "2022-03-08T03:16:02.058Z"
   },
   {
    "duration": 99,
    "start_time": "2022-03-08T03:16:02.288Z"
   },
   {
    "duration": 1647,
    "start_time": "2022-03-08T03:16:02.389Z"
   },
   {
    "duration": 25258,
    "start_time": "2022-03-08T03:16:04.038Z"
   },
   {
    "duration": 583,
    "start_time": "2022-03-08T03:16:29.299Z"
   },
   {
    "duration": 964,
    "start_time": "2022-03-08T03:16:29.885Z"
   },
   {
    "duration": 580,
    "start_time": "2022-03-08T03:16:30.852Z"
   },
   {
    "duration": 2573,
    "start_time": "2022-03-08T03:16:31.434Z"
   },
   {
    "duration": 8,
    "start_time": "2022-03-08T03:16:34.009Z"
   },
   {
    "duration": 804,
    "start_time": "2022-03-08T03:16:34.020Z"
   },
   {
    "duration": 8,
    "start_time": "2022-03-08T03:16:34.826Z"
   },
   {
    "duration": 87,
    "start_time": "2022-03-08T03:17:24.252Z"
   },
   {
    "duration": 87,
    "start_time": "2022-03-08T07:17:56.741Z"
   },
   {
    "duration": 96,
    "start_time": "2022-03-08T07:19:14.242Z"
   },
   {
    "duration": 84,
    "start_time": "2022-03-08T07:20:32.445Z"
   },
   {
    "duration": 86,
    "start_time": "2022-03-08T07:22:17.875Z"
   },
   {
    "duration": 84,
    "start_time": "2022-03-08T07:27:54.719Z"
   },
   {
    "duration": 78,
    "start_time": "2022-03-08T07:28:47.139Z"
   },
   {
    "duration": 86,
    "start_time": "2022-03-08T07:29:56.362Z"
   },
   {
    "duration": 341,
    "start_time": "2022-03-08T08:04:05.237Z"
   },
   {
    "duration": 1561,
    "start_time": "2022-03-08T08:05:07.393Z"
   },
   {
    "duration": 32,
    "start_time": "2022-03-08T08:05:08.957Z"
   },
   {
    "duration": 23,
    "start_time": "2022-03-08T08:05:08.991Z"
   },
   {
    "duration": 24,
    "start_time": "2022-03-08T08:05:09.016Z"
   },
   {
    "duration": 39,
    "start_time": "2022-03-08T08:05:09.042Z"
   },
   {
    "duration": 9,
    "start_time": "2022-03-08T08:05:09.083Z"
   },
   {
    "duration": 10,
    "start_time": "2022-03-08T08:05:09.094Z"
   },
   {
    "duration": 13,
    "start_time": "2022-03-08T08:05:09.106Z"
   },
   {
    "duration": 24,
    "start_time": "2022-03-08T08:05:09.123Z"
   },
   {
    "duration": 23,
    "start_time": "2022-03-08T08:05:09.150Z"
   },
   {
    "duration": 10,
    "start_time": "2022-03-08T08:05:09.175Z"
   },
   {
    "duration": 11,
    "start_time": "2022-03-08T08:05:09.188Z"
   },
   {
    "duration": 29,
    "start_time": "2022-03-08T08:05:09.201Z"
   },
   {
    "duration": 17,
    "start_time": "2022-03-08T08:05:09.232Z"
   },
   {
    "duration": 12,
    "start_time": "2022-03-08T08:05:09.251Z"
   },
   {
    "duration": 24,
    "start_time": "2022-03-08T08:05:09.265Z"
   },
   {
    "duration": 18,
    "start_time": "2022-03-08T08:05:09.291Z"
   },
   {
    "duration": 6,
    "start_time": "2022-03-08T08:05:09.312Z"
   },
   {
    "duration": 9,
    "start_time": "2022-03-08T08:05:09.320Z"
   },
   {
    "duration": 53,
    "start_time": "2022-03-08T08:05:09.331Z"
   },
   {
    "duration": 19,
    "start_time": "2022-03-08T08:05:09.387Z"
   },
   {
    "duration": 15,
    "start_time": "2022-03-08T08:05:09.408Z"
   },
   {
    "duration": 28,
    "start_time": "2022-03-08T08:05:09.425Z"
   },
   {
    "duration": 1214,
    "start_time": "2022-03-08T08:05:09.456Z"
   },
   {
    "duration": -543,
    "start_time": "2022-03-08T08:05:11.218Z"
   },
   {
    "duration": -560,
    "start_time": "2022-03-08T08:05:11.236Z"
   },
   {
    "duration": -567,
    "start_time": "2022-03-08T08:05:11.244Z"
   },
   {
    "duration": -573,
    "start_time": "2022-03-08T08:05:11.251Z"
   },
   {
    "duration": -579,
    "start_time": "2022-03-08T08:05:11.259Z"
   },
   {
    "duration": -585,
    "start_time": "2022-03-08T08:05:11.266Z"
   },
   {
    "duration": -594,
    "start_time": "2022-03-08T08:05:11.276Z"
   },
   {
    "duration": -598,
    "start_time": "2022-03-08T08:05:11.282Z"
   },
   {
    "duration": -606,
    "start_time": "2022-03-08T08:05:11.291Z"
   },
   {
    "duration": -611,
    "start_time": "2022-03-08T08:05:11.297Z"
   },
   {
    "duration": -620,
    "start_time": "2022-03-08T08:05:11.308Z"
   },
   {
    "duration": -625,
    "start_time": "2022-03-08T08:05:11.315Z"
   },
   {
    "duration": -632,
    "start_time": "2022-03-08T08:05:11.323Z"
   },
   {
    "duration": -638,
    "start_time": "2022-03-08T08:05:11.330Z"
   },
   {
    "duration": -654,
    "start_time": "2022-03-08T08:05:11.347Z"
   },
   {
    "duration": -658,
    "start_time": "2022-03-08T08:05:11.352Z"
   },
   {
    "duration": -665,
    "start_time": "2022-03-08T08:05:11.361Z"
   },
   {
    "duration": -671,
    "start_time": "2022-03-08T08:05:11.368Z"
   },
   {
    "duration": -678,
    "start_time": "2022-03-08T08:05:11.376Z"
   },
   {
    "duration": -684,
    "start_time": "2022-03-08T08:05:11.383Z"
   },
   {
    "duration": -692,
    "start_time": "2022-03-08T08:05:11.392Z"
   },
   {
    "duration": -696,
    "start_time": "2022-03-08T08:05:11.398Z"
   },
   {
    "duration": -703,
    "start_time": "2022-03-08T08:05:11.406Z"
   },
   {
    "duration": -708,
    "start_time": "2022-03-08T08:05:11.412Z"
   },
   {
    "duration": -712,
    "start_time": "2022-03-08T08:05:11.418Z"
   },
   {
    "duration": -718,
    "start_time": "2022-03-08T08:05:11.425Z"
   },
   {
    "duration": -723,
    "start_time": "2022-03-08T08:05:11.431Z"
   },
   {
    "duration": -728,
    "start_time": "2022-03-08T08:05:11.437Z"
   },
   {
    "duration": -746,
    "start_time": "2022-03-08T08:05:11.457Z"
   },
   {
    "duration": -752,
    "start_time": "2022-03-08T08:05:11.464Z"
   },
   {
    "duration": -758,
    "start_time": "2022-03-08T08:05:11.472Z"
   },
   {
    "duration": -764,
    "start_time": "2022-03-08T08:05:11.479Z"
   },
   {
    "duration": -770,
    "start_time": "2022-03-08T08:05:11.486Z"
   },
   {
    "duration": -776,
    "start_time": "2022-03-08T08:05:11.493Z"
   },
   {
    "duration": -783,
    "start_time": "2022-03-08T08:05:11.502Z"
   },
   {
    "duration": -737,
    "start_time": "2022-03-08T08:05:11.510Z"
   },
   {
    "duration": -744,
    "start_time": "2022-03-08T08:05:11.518Z"
   },
   {
    "duration": -750,
    "start_time": "2022-03-08T08:05:11.526Z"
   },
   {
    "duration": -755,
    "start_time": "2022-03-08T08:05:11.532Z"
   },
   {
    "duration": -761,
    "start_time": "2022-03-08T08:05:11.539Z"
   },
   {
    "duration": -771,
    "start_time": "2022-03-08T08:05:11.551Z"
   },
   {
    "duration": -792,
    "start_time": "2022-03-08T08:05:11.573Z"
   },
   {
    "duration": 271,
    "start_time": "2022-03-08T08:08:10.144Z"
   },
   {
    "duration": 898,
    "start_time": "2022-03-08T08:11:58.394Z"
   },
   {
    "duration": 533,
    "start_time": "2022-03-08T08:14:12.964Z"
   },
   {
    "duration": 1138,
    "start_time": "2022-03-08T08:15:36.480Z"
   },
   {
    "duration": 1490,
    "start_time": "2022-03-08T08:16:13.416Z"
   },
   {
    "duration": 1394,
    "start_time": "2022-03-08T08:17:13.970Z"
   },
   {
    "duration": 1519,
    "start_time": "2022-03-08T08:18:35.034Z"
   },
   {
    "duration": 263,
    "start_time": "2022-03-08T08:18:51.327Z"
   },
   {
    "duration": 3580,
    "start_time": "2022-03-08T08:19:00.296Z"
   },
   {
    "duration": 98,
    "start_time": "2022-03-08T08:20:04.380Z"
   },
   {
    "duration": 3487,
    "start_time": "2022-03-08T08:20:11.711Z"
   },
   {
    "duration": 3380,
    "start_time": "2022-03-08T08:20:32.685Z"
   },
   {
    "duration": 5823,
    "start_time": "2022-03-08T08:21:01.661Z"
   },
   {
    "duration": 5810,
    "start_time": "2022-03-08T08:21:34.867Z"
   },
   {
    "duration": 5705,
    "start_time": "2022-03-08T08:23:50.475Z"
   },
   {
    "duration": 5915,
    "start_time": "2022-03-08T08:39:42.137Z"
   },
   {
    "duration": 1537,
    "start_time": "2022-03-08T09:04:41.122Z"
   },
   {
    "duration": 33,
    "start_time": "2022-03-08T09:04:42.661Z"
   },
   {
    "duration": 23,
    "start_time": "2022-03-08T09:04:42.697Z"
   },
   {
    "duration": 21,
    "start_time": "2022-03-08T09:04:42.722Z"
   },
   {
    "duration": 33,
    "start_time": "2022-03-08T09:04:42.746Z"
   },
   {
    "duration": 10,
    "start_time": "2022-03-08T09:04:42.782Z"
   },
   {
    "duration": 8,
    "start_time": "2022-03-08T09:04:42.795Z"
   },
   {
    "duration": 7,
    "start_time": "2022-03-08T09:04:42.806Z"
   },
   {
    "duration": 54,
    "start_time": "2022-03-08T09:04:42.819Z"
   },
   {
    "duration": 7,
    "start_time": "2022-03-08T09:04:42.878Z"
   },
   {
    "duration": 13,
    "start_time": "2022-03-08T09:04:42.888Z"
   },
   {
    "duration": 4,
    "start_time": "2022-03-08T09:04:42.904Z"
   },
   {
    "duration": 12,
    "start_time": "2022-03-08T09:04:42.912Z"
   },
   {
    "duration": 54,
    "start_time": "2022-03-08T09:04:42.926Z"
   },
   {
    "duration": 15,
    "start_time": "2022-03-08T09:04:42.982Z"
   },
   {
    "duration": 28,
    "start_time": "2022-03-08T09:04:43.000Z"
   },
   {
    "duration": 40,
    "start_time": "2022-03-08T09:04:43.034Z"
   },
   {
    "duration": 7,
    "start_time": "2022-03-08T09:04:43.077Z"
   },
   {
    "duration": 14,
    "start_time": "2022-03-08T09:04:43.086Z"
   },
   {
    "duration": 21,
    "start_time": "2022-03-08T09:04:43.103Z"
   },
   {
    "duration": 52,
    "start_time": "2022-03-08T09:04:43.127Z"
   },
   {
    "duration": 15,
    "start_time": "2022-03-08T09:04:43.182Z"
   },
   {
    "duration": 4,
    "start_time": "2022-03-08T09:04:43.200Z"
   },
   {
    "duration": 5893,
    "start_time": "2022-03-08T09:04:43.207Z"
   },
   {
    "duration": 5,
    "start_time": "2022-03-08T09:04:49.102Z"
   },
   {
    "duration": 14488,
    "start_time": "2022-03-08T09:04:49.110Z"
   },
   {
    "duration": 10,
    "start_time": "2022-03-08T09:05:03.604Z"
   },
   {
    "duration": 12,
    "start_time": "2022-03-08T09:05:03.618Z"
   },
   {
    "duration": 45,
    "start_time": "2022-03-08T09:05:03.633Z"
   },
   {
    "duration": 317,
    "start_time": "2022-03-08T09:05:03.681Z"
   },
   {
    "duration": 263,
    "start_time": "2022-03-08T09:05:04.001Z"
   },
   {
    "duration": 106,
    "start_time": "2022-03-08T09:05:04.267Z"
   },
   {
    "duration": 5,
    "start_time": "2022-03-08T09:05:04.376Z"
   },
   {
    "duration": 117,
    "start_time": "2022-03-08T09:05:04.384Z"
   },
   {
    "duration": 27,
    "start_time": "2022-03-08T09:05:04.503Z"
   },
   {
    "duration": 58,
    "start_time": "2022-03-08T09:05:04.532Z"
   },
   {
    "duration": 15,
    "start_time": "2022-03-08T09:05:04.592Z"
   },
   {
    "duration": 33,
    "start_time": "2022-03-08T09:05:04.610Z"
   },
   {
    "duration": 31,
    "start_time": "2022-03-08T09:05:04.646Z"
   },
   {
    "duration": 3,
    "start_time": "2022-03-08T09:05:04.680Z"
   },
   {
    "duration": 3500,
    "start_time": "2022-03-08T09:05:04.687Z"
   },
   {
    "duration": 9188,
    "start_time": "2022-03-08T09:05:08.189Z"
   },
   {
    "duration": 401,
    "start_time": "2022-03-08T09:05:17.380Z"
   },
   {
    "duration": 344,
    "start_time": "2022-03-08T09:05:17.875Z"
   },
   {
    "duration": 9231,
    "start_time": "2022-03-08T09:05:18.221Z"
   },
   {
    "duration": 26733,
    "start_time": "2022-03-08T09:05:27.454Z"
   },
   {
    "duration": 487,
    "start_time": "2022-03-08T09:05:54.190Z"
   },
   {
    "duration": 112,
    "start_time": "2022-03-08T09:05:54.681Z"
   },
   {
    "duration": 638,
    "start_time": "2022-03-08T09:05:54.796Z"
   },
   {
    "duration": 24268,
    "start_time": "2022-03-08T09:05:55.437Z"
   },
   {
    "duration": 104240,
    "start_time": "2022-03-08T09:06:19.708Z"
   },
   {
    "duration": 1325,
    "start_time": "2022-03-08T09:08:03.951Z"
   },
   {
    "duration": 373,
    "start_time": "2022-03-08T09:08:05.279Z"
   },
   {
    "duration": 2362,
    "start_time": "2022-03-08T09:08:05.654Z"
   },
   {
    "duration": 10551,
    "start_time": "2022-03-08T09:08:08.019Z"
   },
   {
    "duration": 203,
    "start_time": "2022-03-08T09:08:18.574Z"
   },
   {
    "duration": 101,
    "start_time": "2022-03-08T09:08:18.780Z"
   },
   {
    "duration": 1576,
    "start_time": "2022-03-08T09:08:18.884Z"
   },
   {
    "duration": 28004,
    "start_time": "2022-03-08T09:08:20.463Z"
   },
   {
    "duration": 420,
    "start_time": "2022-03-08T09:08:48.469Z"
   },
   {
    "duration": 1022,
    "start_time": "2022-03-08T09:08:48.975Z"
   },
   {
    "duration": 736,
    "start_time": "2022-03-08T09:08:49.999Z"
   },
   {
    "duration": 2712,
    "start_time": "2022-03-08T09:08:50.738Z"
   },
   {
    "duration": 8,
    "start_time": "2022-03-08T09:08:53.452Z"
   },
   {
    "duration": 774,
    "start_time": "2022-03-08T09:08:53.474Z"
   },
   {
    "duration": 7,
    "start_time": "2022-03-08T09:08:54.250Z"
   },
   {
    "duration": 580,
    "start_time": "2022-03-08T09:14:55.857Z"
   },
   {
    "duration": 224,
    "start_time": "2022-03-08T09:15:07.881Z"
   },
   {
    "duration": 308,
    "start_time": "2022-03-08T09:15:10.253Z"
   },
   {
    "duration": 717,
    "start_time": "2022-03-08T09:15:32.509Z"
   },
   {
    "duration": 92,
    "start_time": "2022-03-08T09:16:27.678Z"
   },
   {
    "duration": 23337,
    "start_time": "2022-03-08T09:21:33.608Z"
   },
   {
    "duration": 222,
    "start_time": "2022-03-08T09:23:42.370Z"
   },
   {
    "duration": 106,
    "start_time": "2022-03-08T09:24:08.266Z"
   },
   {
    "duration": 100,
    "start_time": "2022-03-08T09:24:22.082Z"
   },
   {
    "duration": 94,
    "start_time": "2022-03-08T09:24:40.731Z"
   },
   {
    "duration": 335,
    "start_time": "2022-03-08T09:24:51.785Z"
   },
   {
    "duration": 478,
    "start_time": "2022-03-08T09:25:09.477Z"
   },
   {
    "duration": 149,
    "start_time": "2022-03-08T09:25:30.368Z"
   },
   {
    "duration": 441,
    "start_time": "2022-03-08T09:29:09.386Z"
   },
   {
    "duration": 289,
    "start_time": "2022-03-08T09:29:25.162Z"
   },
   {
    "duration": 5134,
    "start_time": "2022-03-08T09:29:50.529Z"
   },
   {
    "duration": 5076,
    "start_time": "2022-03-08T09:30:00.143Z"
   },
   {
    "duration": 51,
    "start_time": "2022-03-08T09:35:25.973Z"
   },
   {
    "duration": 705,
    "start_time": "2022-03-08T09:36:01.345Z"
   },
   {
    "duration": 276,
    "start_time": "2022-03-08T09:36:52.899Z"
   },
   {
    "duration": 312,
    "start_time": "2022-03-08T09:37:09.174Z"
   },
   {
    "duration": 232,
    "start_time": "2022-03-08T09:38:03.264Z"
   },
   {
    "duration": 317,
    "start_time": "2022-03-08T09:38:04.335Z"
   },
   {
    "duration": 1642,
    "start_time": "2022-03-08T09:38:16.624Z"
   },
   {
    "duration": 33,
    "start_time": "2022-03-08T09:38:18.269Z"
   },
   {
    "duration": 27,
    "start_time": "2022-03-08T09:38:18.305Z"
   },
   {
    "duration": 40,
    "start_time": "2022-03-08T09:38:18.335Z"
   },
   {
    "duration": 30,
    "start_time": "2022-03-08T09:38:18.378Z"
   },
   {
    "duration": 10,
    "start_time": "2022-03-08T09:38:18.410Z"
   },
   {
    "duration": 14,
    "start_time": "2022-03-08T09:38:18.422Z"
   },
   {
    "duration": 12,
    "start_time": "2022-03-08T09:38:18.440Z"
   },
   {
    "duration": 19,
    "start_time": "2022-03-08T09:38:18.455Z"
   },
   {
    "duration": 6,
    "start_time": "2022-03-08T09:38:18.477Z"
   },
   {
    "duration": 13,
    "start_time": "2022-03-08T09:38:18.485Z"
   },
   {
    "duration": 5,
    "start_time": "2022-03-08T09:38:18.500Z"
   },
   {
    "duration": 13,
    "start_time": "2022-03-08T09:38:18.507Z"
   },
   {
    "duration": 52,
    "start_time": "2022-03-08T09:38:18.523Z"
   },
   {
    "duration": 10,
    "start_time": "2022-03-08T09:38:18.578Z"
   },
   {
    "duration": 29,
    "start_time": "2022-03-08T09:38:18.590Z"
   },
   {
    "duration": 20,
    "start_time": "2022-03-08T09:38:18.622Z"
   },
   {
    "duration": 7,
    "start_time": "2022-03-08T09:38:18.644Z"
   },
   {
    "duration": 29,
    "start_time": "2022-03-08T09:38:18.653Z"
   },
   {
    "duration": 31,
    "start_time": "2022-03-08T09:38:18.685Z"
   },
   {
    "duration": 21,
    "start_time": "2022-03-08T09:38:18.719Z"
   },
   {
    "duration": 49,
    "start_time": "2022-03-08T09:38:18.743Z"
   },
   {
    "duration": 2,
    "start_time": "2022-03-08T09:38:18.799Z"
   },
   {
    "duration": 5916,
    "start_time": "2022-03-08T09:38:18.805Z"
   },
   {
    "duration": 6,
    "start_time": "2022-03-08T09:38:24.723Z"
   },
   {
    "duration": 15655,
    "start_time": "2022-03-08T09:38:24.731Z"
   },
   {
    "duration": 13,
    "start_time": "2022-03-08T09:38:40.389Z"
   },
   {
    "duration": 21,
    "start_time": "2022-03-08T09:38:40.406Z"
   },
   {
    "duration": 52,
    "start_time": "2022-03-08T09:38:40.430Z"
   },
   {
    "duration": 324,
    "start_time": "2022-03-08T09:38:40.486Z"
   },
   {
    "duration": 264,
    "start_time": "2022-03-08T09:38:40.812Z"
   },
   {
    "duration": 535,
    "start_time": "2022-03-08T09:38:41.079Z"
   },
   {
    "duration": -519,
    "start_time": "2022-03-08T09:38:42.136Z"
   },
   {
    "duration": -593,
    "start_time": "2022-03-08T09:38:42.211Z"
   },
   {
    "duration": -599,
    "start_time": "2022-03-08T09:38:42.219Z"
   },
   {
    "duration": -607,
    "start_time": "2022-03-08T09:38:42.229Z"
   },
   {
    "duration": -611,
    "start_time": "2022-03-08T09:38:42.236Z"
   },
   {
    "duration": -618,
    "start_time": "2022-03-08T09:38:42.245Z"
   },
   {
    "duration": -627,
    "start_time": "2022-03-08T09:38:42.256Z"
   },
   {
    "duration": -633,
    "start_time": "2022-03-08T09:38:42.264Z"
   },
   {
    "duration": -641,
    "start_time": "2022-03-08T09:38:42.275Z"
   },
   {
    "duration": -649,
    "start_time": "2022-03-08T09:38:42.285Z"
   },
   {
    "duration": -659,
    "start_time": "2022-03-08T09:38:42.297Z"
   },
   {
    "duration": -666,
    "start_time": "2022-03-08T09:38:42.306Z"
   },
   {
    "duration": -682,
    "start_time": "2022-03-08T09:38:42.325Z"
   },
   {
    "duration": -687,
    "start_time": "2022-03-08T09:38:42.332Z"
   },
   {
    "duration": -696,
    "start_time": "2022-03-08T09:38:42.343Z"
   },
   {
    "duration": -701,
    "start_time": "2022-03-08T09:38:42.350Z"
   },
   {
    "duration": -711,
    "start_time": "2022-03-08T09:38:42.362Z"
   },
   {
    "duration": -701,
    "start_time": "2022-03-08T09:38:42.373Z"
   },
   {
    "duration": -704,
    "start_time": "2022-03-08T09:38:42.379Z"
   },
   {
    "duration": -711,
    "start_time": "2022-03-08T09:38:42.388Z"
   },
   {
    "duration": -717,
    "start_time": "2022-03-08T09:38:42.396Z"
   },
   {
    "duration": -722,
    "start_time": "2022-03-08T09:38:42.403Z"
   },
   {
    "duration": -729,
    "start_time": "2022-03-08T09:38:42.412Z"
   },
   {
    "duration": -734,
    "start_time": "2022-03-08T09:38:42.419Z"
   },
   {
    "duration": -755,
    "start_time": "2022-03-08T09:38:42.442Z"
   },
   {
    "duration": -759,
    "start_time": "2022-03-08T09:38:42.449Z"
   },
   {
    "duration": -766,
    "start_time": "2022-03-08T09:38:42.458Z"
   },
   {
    "duration": -770,
    "start_time": "2022-03-08T09:38:42.464Z"
   },
   {
    "duration": -775,
    "start_time": "2022-03-08T09:38:42.471Z"
   },
   {
    "duration": -782,
    "start_time": "2022-03-08T09:38:42.481Z"
   },
   {
    "duration": -790,
    "start_time": "2022-03-08T09:38:42.491Z"
   },
   {
    "duration": -795,
    "start_time": "2022-03-08T09:38:42.498Z"
   },
   {
    "duration": -799,
    "start_time": "2022-03-08T09:38:42.505Z"
   },
   {
    "duration": -806,
    "start_time": "2022-03-08T09:38:42.513Z"
   },
   {
    "duration": 257,
    "start_time": "2022-03-08T09:39:12.229Z"
   },
   {
    "duration": 40,
    "start_time": "2022-03-08T09:42:24.157Z"
   },
   {
    "duration": 219,
    "start_time": "2022-03-08T09:43:06.083Z"
   },
   {
    "duration": 358,
    "start_time": "2022-03-08T09:43:16.848Z"
   },
   {
    "duration": 99,
    "start_time": "2022-03-08T09:43:44.274Z"
   },
   {
    "duration": 1648,
    "start_time": "2022-03-08T09:48:18.821Z"
   },
   {
    "duration": 31,
    "start_time": "2022-03-08T09:48:20.472Z"
   },
   {
    "duration": 24,
    "start_time": "2022-03-08T09:48:20.507Z"
   },
   {
    "duration": 50,
    "start_time": "2022-03-08T09:48:20.534Z"
   },
   {
    "duration": 13,
    "start_time": "2022-03-08T09:48:20.586Z"
   },
   {
    "duration": 9,
    "start_time": "2022-03-08T09:48:20.602Z"
   },
   {
    "duration": 11,
    "start_time": "2022-03-08T09:48:20.613Z"
   },
   {
    "duration": 48,
    "start_time": "2022-03-08T09:48:20.627Z"
   },
   {
    "duration": 5,
    "start_time": "2022-03-08T09:48:20.680Z"
   },
   {
    "duration": 9,
    "start_time": "2022-03-08T09:48:20.688Z"
   },
   {
    "duration": 11,
    "start_time": "2022-03-08T09:48:20.699Z"
   },
   {
    "duration": 5,
    "start_time": "2022-03-08T09:48:20.712Z"
   },
   {
    "duration": 56,
    "start_time": "2022-03-08T09:48:20.719Z"
   },
   {
    "duration": 13,
    "start_time": "2022-03-08T09:48:20.778Z"
   },
   {
    "duration": 14,
    "start_time": "2022-03-08T09:48:20.793Z"
   },
   {
    "duration": 42,
    "start_time": "2022-03-08T09:48:20.810Z"
   },
   {
    "duration": 29,
    "start_time": "2022-03-08T09:48:20.855Z"
   },
   {
    "duration": 9,
    "start_time": "2022-03-08T09:48:20.887Z"
   },
   {
    "duration": 16,
    "start_time": "2022-03-08T09:48:20.898Z"
   },
   {
    "duration": 29,
    "start_time": "2022-03-08T09:48:20.916Z"
   },
   {
    "duration": 39,
    "start_time": "2022-03-08T09:48:20.947Z"
   },
   {
    "duration": 23,
    "start_time": "2022-03-08T09:48:20.989Z"
   },
   {
    "duration": 3,
    "start_time": "2022-03-08T09:48:21.015Z"
   },
   {
    "duration": 7896,
    "start_time": "2022-03-08T09:48:21.022Z"
   },
   {
    "duration": 6,
    "start_time": "2022-03-08T09:48:28.921Z"
   },
   {
    "duration": 15816,
    "start_time": "2022-03-08T09:48:28.929Z"
   },
   {
    "duration": 27,
    "start_time": "2022-03-08T09:48:44.752Z"
   },
   {
    "duration": 13,
    "start_time": "2022-03-08T09:48:44.782Z"
   },
   {
    "duration": 12,
    "start_time": "2022-03-08T09:48:44.798Z"
   },
   {
    "duration": 337,
    "start_time": "2022-03-08T09:48:44.812Z"
   },
   {
    "duration": 85,
    "start_time": "2022-03-08T09:48:45.152Z"
   },
   {
    "duration": 236,
    "start_time": "2022-03-08T09:48:45.240Z"
   },
   {
    "duration": 200,
    "start_time": "2022-03-08T09:48:45.478Z"
   },
   {
    "duration": 5,
    "start_time": "2022-03-08T09:48:45.681Z"
   },
   {
    "duration": 10,
    "start_time": "2022-03-08T09:48:45.688Z"
   },
   {
    "duration": 8,
    "start_time": "2022-03-08T09:48:45.701Z"
   },
   {
    "duration": 73,
    "start_time": "2022-03-08T09:48:45.712Z"
   },
   {
    "duration": 18,
    "start_time": "2022-03-08T09:48:45.788Z"
   },
   {
    "duration": 65,
    "start_time": "2022-03-08T09:48:45.810Z"
   },
   {
    "duration": 15,
    "start_time": "2022-03-08T09:48:45.879Z"
   },
   {
    "duration": 4,
    "start_time": "2022-03-08T09:48:45.897Z"
   },
   {
    "duration": 3707,
    "start_time": "2022-03-08T09:48:45.905Z"
   },
   {
    "duration": 9188,
    "start_time": "2022-03-08T09:48:49.614Z"
   },
   {
    "duration": 470,
    "start_time": "2022-03-08T09:48:58.804Z"
   },
   {
    "duration": 355,
    "start_time": "2022-03-08T09:48:59.279Z"
   },
   {
    "duration": 11136,
    "start_time": "2022-03-08T09:48:59.637Z"
   },
   {
    "duration": 34749,
    "start_time": "2022-03-08T09:49:10.777Z"
   },
   {
    "duration": 550,
    "start_time": "2022-03-08T09:49:45.529Z"
   },
   {
    "duration": 109,
    "start_time": "2022-03-08T09:49:46.083Z"
   },
   {
    "duration": 558,
    "start_time": "2022-03-08T09:49:46.194Z"
   },
   {
    "duration": 25164,
    "start_time": "2022-03-08T09:49:46.755Z"
   },
   {
    "duration": 104735,
    "start_time": "2022-03-08T09:50:11.922Z"
   },
   {
    "duration": 1422,
    "start_time": "2022-03-08T09:51:56.659Z"
   },
   {
    "duration": 284,
    "start_time": "2022-03-08T09:51:58.084Z"
   },
   {
    "duration": 2509,
    "start_time": "2022-03-08T09:51:58.370Z"
   },
   {
    "duration": 11669,
    "start_time": "2022-03-08T09:52:00.883Z"
   },
   {
    "duration": 148,
    "start_time": "2022-03-08T09:52:12.555Z"
   },
   {
    "duration": 100,
    "start_time": "2022-03-08T09:52:12.777Z"
   },
   {
    "duration": 1614,
    "start_time": "2022-03-08T09:52:12.879Z"
   },
   {
    "duration": 28355,
    "start_time": "2022-03-08T09:52:14.496Z"
   },
   {
    "duration": 527,
    "start_time": "2022-03-08T09:52:42.854Z"
   },
   {
    "duration": 1082,
    "start_time": "2022-03-08T09:52:43.384Z"
   },
   {
    "duration": 666,
    "start_time": "2022-03-08T09:52:44.468Z"
   },
   {
    "duration": 2786,
    "start_time": "2022-03-08T09:52:45.136Z"
   },
   {
    "duration": 9,
    "start_time": "2022-03-08T09:52:47.925Z"
   },
   {
    "duration": 797,
    "start_time": "2022-03-08T09:52:47.937Z"
   },
   {
    "duration": 8,
    "start_time": "2022-03-08T09:52:48.736Z"
   },
   {
    "duration": 90,
    "start_time": "2022-03-08T09:55:22.592Z"
   },
   {
    "duration": 459,
    "start_time": "2022-03-08T09:58:27.825Z"
   },
   {
    "duration": 1647,
    "start_time": "2022-03-08T09:58:34.891Z"
   },
   {
    "duration": 36,
    "start_time": "2022-03-08T09:58:36.540Z"
   },
   {
    "duration": 23,
    "start_time": "2022-03-08T09:58:36.579Z"
   },
   {
    "duration": 20,
    "start_time": "2022-03-08T09:58:36.605Z"
   },
   {
    "duration": 50,
    "start_time": "2022-03-08T09:58:36.628Z"
   },
   {
    "duration": 9,
    "start_time": "2022-03-08T09:58:36.681Z"
   },
   {
    "duration": 8,
    "start_time": "2022-03-08T09:58:36.692Z"
   },
   {
    "duration": 6,
    "start_time": "2022-03-08T09:58:36.704Z"
   },
   {
    "duration": 12,
    "start_time": "2022-03-08T09:58:36.713Z"
   },
   {
    "duration": 52,
    "start_time": "2022-03-08T09:58:36.728Z"
   },
   {
    "duration": 12,
    "start_time": "2022-03-08T09:58:36.783Z"
   },
   {
    "duration": 15,
    "start_time": "2022-03-08T09:58:36.798Z"
   },
   {
    "duration": 19,
    "start_time": "2022-03-08T09:58:36.816Z"
   },
   {
    "duration": 37,
    "start_time": "2022-03-08T09:58:36.838Z"
   },
   {
    "duration": 19,
    "start_time": "2022-03-08T09:58:36.878Z"
   },
   {
    "duration": 21,
    "start_time": "2022-03-08T09:58:36.900Z"
   },
   {
    "duration": 52,
    "start_time": "2022-03-08T09:58:36.925Z"
   },
   {
    "duration": 8,
    "start_time": "2022-03-08T09:58:36.980Z"
   },
   {
    "duration": 11,
    "start_time": "2022-03-08T09:58:36.992Z"
   },
   {
    "duration": 24,
    "start_time": "2022-03-08T09:58:37.007Z"
   },
   {
    "duration": 59,
    "start_time": "2022-03-08T09:58:37.034Z"
   },
   {
    "duration": 18,
    "start_time": "2022-03-08T09:58:37.095Z"
   },
   {
    "duration": 3,
    "start_time": "2022-03-08T09:58:37.119Z"
   },
   {
    "duration": 5851,
    "start_time": "2022-03-08T09:58:37.127Z"
   },
   {
    "duration": 6,
    "start_time": "2022-03-08T09:58:42.981Z"
   },
   {
    "duration": 16058,
    "start_time": "2022-03-08T09:58:42.990Z"
   },
   {
    "duration": 25,
    "start_time": "2022-03-08T09:58:59.050Z"
   },
   {
    "duration": 12,
    "start_time": "2022-03-08T09:58:59.078Z"
   },
   {
    "duration": 14,
    "start_time": "2022-03-08T09:58:59.092Z"
   },
   {
    "duration": 337,
    "start_time": "2022-03-08T09:58:59.109Z"
   },
   {
    "duration": 77,
    "start_time": "2022-03-08T09:58:59.449Z"
   },
   {
    "duration": 331,
    "start_time": "2022-03-08T09:58:59.528Z"
   },
   {
    "duration": 101,
    "start_time": "2022-03-08T09:58:59.862Z"
   },
   {
    "duration": 6,
    "start_time": "2022-03-08T09:58:59.974Z"
   },
   {
    "duration": 10,
    "start_time": "2022-03-08T09:58:59.983Z"
   },
   {
    "duration": 17,
    "start_time": "2022-03-08T09:58:59.996Z"
   },
   {
    "duration": 61,
    "start_time": "2022-03-08T09:59:00.015Z"
   },
   {
    "duration": 12,
    "start_time": "2022-03-08T09:59:00.078Z"
   },
   {
    "duration": 45,
    "start_time": "2022-03-08T09:59:00.092Z"
   },
   {
    "duration": 9,
    "start_time": "2022-03-08T09:59:00.139Z"
   },
   {
    "duration": 7,
    "start_time": "2022-03-08T09:59:00.151Z"
   },
   {
    "duration": 3555,
    "start_time": "2022-03-08T09:59:00.174Z"
   },
   {
    "duration": 9751,
    "start_time": "2022-03-08T09:59:03.731Z"
   },
   {
    "duration": 399,
    "start_time": "2022-03-08T09:59:13.484Z"
   },
   {
    "duration": 422,
    "start_time": "2022-03-08T09:59:13.984Z"
   },
   {
    "duration": 9324,
    "start_time": "2022-03-08T09:59:14.409Z"
   },
   {
    "duration": 27608,
    "start_time": "2022-03-08T09:59:23.736Z"
   },
   {
    "duration": 627,
    "start_time": "2022-03-08T09:59:51.346Z"
   },
   {
    "duration": 34,
    "start_time": "2022-03-08T09:59:51.976Z"
   },
   {
    "duration": 713,
    "start_time": "2022-03-08T09:59:52.013Z"
   },
   {
    "duration": 27074,
    "start_time": "2022-03-08T09:59:52.732Z"
   },
   {
    "duration": 107143,
    "start_time": "2022-03-08T10:00:19.808Z"
   },
   {
    "duration": 1424,
    "start_time": "2022-03-08T10:02:06.954Z"
   },
   {
    "duration": 280,
    "start_time": "2022-03-08T10:02:08.382Z"
   },
   {
    "duration": 2369,
    "start_time": "2022-03-08T10:02:08.665Z"
   },
   {
    "duration": 11101,
    "start_time": "2022-03-08T10:02:11.037Z"
   },
   {
    "duration": 151,
    "start_time": "2022-03-08T10:02:22.141Z"
   },
   {
    "duration": 98,
    "start_time": "2022-03-08T10:02:22.376Z"
   },
   {
    "duration": 2449,
    "start_time": "2022-03-08T10:02:22.477Z"
   },
   {
    "duration": 27904,
    "start_time": "2022-03-08T10:02:24.929Z"
   },
   {
    "duration": 448,
    "start_time": "2022-03-08T10:02:52.835Z"
   },
   {
    "duration": 973,
    "start_time": "2022-03-08T10:02:53.375Z"
   },
   {
    "duration": 651,
    "start_time": "2022-03-08T10:02:54.351Z"
   },
   {
    "duration": 2855,
    "start_time": "2022-03-08T10:02:55.005Z"
   },
   {
    "duration": 15,
    "start_time": "2022-03-08T10:02:57.863Z"
   },
   {
    "duration": 850,
    "start_time": "2022-03-08T10:02:57.881Z"
   },
   {
    "duration": 8,
    "start_time": "2022-03-08T10:02:58.733Z"
   },
   {
    "duration": 3580,
    "start_time": "2022-03-08T10:02:58.748Z"
   },
   {
    "duration": 9643,
    "start_time": "2022-03-08T10:03:47.004Z"
   },
   {
    "duration": 5115,
    "start_time": "2022-03-08T10:06:56.189Z"
   },
   {
    "duration": 7814,
    "start_time": "2022-03-08T10:07:37.550Z"
   },
   {
    "duration": 11033,
    "start_time": "2022-03-08T10:07:55.664Z"
   },
   {
    "duration": 13,
    "start_time": "2022-03-08T10:20:15.960Z"
   },
   {
    "duration": 11,
    "start_time": "2022-03-08T10:21:06.210Z"
   },
   {
    "duration": 348,
    "start_time": "2022-03-08T10:24:07.968Z"
   },
   {
    "duration": 13386,
    "start_time": "2022-03-08T10:25:56.648Z"
   },
   {
    "duration": 4297,
    "start_time": "2022-03-08T10:26:24.809Z"
   },
   {
    "duration": 7412,
    "start_time": "2022-03-08T10:26:44.992Z"
   },
   {
    "duration": 1552,
    "start_time": "2022-03-08T10:27:05.912Z"
   },
   {
    "duration": 42,
    "start_time": "2022-03-08T10:27:07.466Z"
   },
   {
    "duration": 24,
    "start_time": "2022-03-08T10:27:07.511Z"
   },
   {
    "duration": 45,
    "start_time": "2022-03-08T10:27:07.538Z"
   },
   {
    "duration": 20,
    "start_time": "2022-03-08T10:27:07.586Z"
   },
   {
    "duration": 9,
    "start_time": "2022-03-08T10:27:07.609Z"
   },
   {
    "duration": 11,
    "start_time": "2022-03-08T10:27:07.620Z"
   },
   {
    "duration": 7,
    "start_time": "2022-03-08T10:27:07.633Z"
   },
   {
    "duration": 14,
    "start_time": "2022-03-08T10:27:07.673Z"
   },
   {
    "duration": 7,
    "start_time": "2022-03-08T10:27:07.690Z"
   },
   {
    "duration": 10,
    "start_time": "2022-03-08T10:27:07.700Z"
   },
   {
    "duration": 4,
    "start_time": "2022-03-08T10:27:07.713Z"
   },
   {
    "duration": 14,
    "start_time": "2022-03-08T10:27:07.719Z"
   },
   {
    "duration": 37,
    "start_time": "2022-03-08T10:27:07.736Z"
   },
   {
    "duration": 20,
    "start_time": "2022-03-08T10:27:07.775Z"
   },
   {
    "duration": 19,
    "start_time": "2022-03-08T10:27:07.798Z"
   },
   {
    "duration": 23,
    "start_time": "2022-03-08T10:27:07.820Z"
   },
   {
    "duration": 6,
    "start_time": "2022-03-08T10:27:07.846Z"
   },
   {
    "duration": 8,
    "start_time": "2022-03-08T10:27:07.874Z"
   },
   {
    "duration": 39,
    "start_time": "2022-03-08T10:27:07.884Z"
   },
   {
    "duration": 28,
    "start_time": "2022-03-08T10:27:07.925Z"
   },
   {
    "duration": 28,
    "start_time": "2022-03-08T10:27:07.955Z"
   },
   {
    "duration": 3,
    "start_time": "2022-03-08T10:27:07.988Z"
   },
   {
    "duration": 6055,
    "start_time": "2022-03-08T10:27:07.993Z"
   },
   {
    "duration": 5,
    "start_time": "2022-03-08T10:27:14.051Z"
   },
   {
    "duration": 15031,
    "start_time": "2022-03-08T10:27:14.058Z"
   },
   {
    "duration": 12,
    "start_time": "2022-03-08T10:27:29.097Z"
   },
   {
    "duration": 11,
    "start_time": "2022-03-08T10:27:29.112Z"
   },
   {
    "duration": 11,
    "start_time": "2022-03-08T10:27:29.125Z"
   },
   {
    "duration": 339,
    "start_time": "2022-03-08T10:27:29.139Z"
   },
   {
    "duration": 73,
    "start_time": "2022-03-08T10:27:29.483Z"
   },
   {
    "duration": 257,
    "start_time": "2022-03-08T10:27:29.559Z"
   },
   {
    "duration": 205,
    "start_time": "2022-03-08T10:27:29.819Z"
   },
   {
    "duration": 5,
    "start_time": "2022-03-08T10:27:30.026Z"
   },
   {
    "duration": 20,
    "start_time": "2022-03-08T10:27:30.034Z"
   },
   {
    "duration": 23,
    "start_time": "2022-03-08T10:27:30.057Z"
   },
   {
    "duration": 35,
    "start_time": "2022-03-08T10:27:30.083Z"
   },
   {
    "duration": 13,
    "start_time": "2022-03-08T10:27:30.121Z"
   },
   {
    "duration": 73,
    "start_time": "2022-03-08T10:27:30.137Z"
   },
   {
    "duration": 13,
    "start_time": "2022-03-08T10:27:30.213Z"
   },
   {
    "duration": 3,
    "start_time": "2022-03-08T10:27:30.229Z"
   },
   {
    "duration": 3953,
    "start_time": "2022-03-08T10:27:30.234Z"
   },
   {
    "duration": 9825,
    "start_time": "2022-03-08T10:27:34.190Z"
   },
   {
    "duration": 384,
    "start_time": "2022-03-08T10:27:44.018Z"
   },
   {
    "duration": 357,
    "start_time": "2022-03-08T10:27:44.477Z"
   },
   {
    "duration": 9653,
    "start_time": "2022-03-08T10:27:44.837Z"
   },
   {
    "duration": 10791,
    "start_time": "2022-03-08T10:27:54.493Z"
   },
   {
    "duration": 492,
    "start_time": "2022-03-08T10:28:05.288Z"
   },
   {
    "duration": 97,
    "start_time": "2022-03-08T10:28:05.790Z"
   },
   {
    "duration": 368,
    "start_time": "2022-03-08T10:28:05.890Z"
   },
   {
    "duration": 16,
    "start_time": "2022-03-08T10:28:06.260Z"
   },
   {
    "duration": 6769,
    "start_time": "2022-03-08T10:28:06.278Z"
   },
   {
    "duration": 57852,
    "start_time": "2022-03-08T10:28:13.050Z"
   },
   {
    "duration": 780,
    "start_time": "2022-03-08T10:29:10.905Z"
   },
   {
    "duration": 293,
    "start_time": "2022-03-08T10:29:11.688Z"
   },
   {
    "duration": 2429,
    "start_time": "2022-03-08T10:29:11.984Z"
   },
   {
    "duration": 11244,
    "start_time": "2022-03-08T10:29:14.416Z"
   },
   {
    "duration": 152,
    "start_time": "2022-03-08T10:29:25.663Z"
   },
   {
    "duration": 91,
    "start_time": "2022-03-08T10:29:25.893Z"
   },
   {
    "duration": 1133,
    "start_time": "2022-03-08T10:29:25.987Z"
   },
   {
    "duration": 31737,
    "start_time": "2022-03-08T10:29:27.123Z"
   },
   {
    "duration": 618,
    "start_time": "2022-03-08T10:29:58.863Z"
   },
   {
    "duration": 1157,
    "start_time": "2022-03-08T10:29:59.484Z"
   },
   {
    "duration": 743,
    "start_time": "2022-03-08T10:30:00.643Z"
   },
   {
    "duration": 3049,
    "start_time": "2022-03-08T10:30:01.389Z"
   },
   {
    "duration": 8,
    "start_time": "2022-03-08T10:30:04.441Z"
   },
   {
    "duration": 839,
    "start_time": "2022-03-08T10:30:04.451Z"
   },
   {
    "duration": 10,
    "start_time": "2022-03-08T10:30:05.293Z"
   },
   {
    "duration": 13510,
    "start_time": "2022-03-08T10:32:50.846Z"
   },
   {
    "duration": 7486,
    "start_time": "2022-03-08T10:33:30.310Z"
   },
   {
    "duration": 10367,
    "start_time": "2022-03-08T10:33:44.708Z"
   },
   {
    "duration": 9119,
    "start_time": "2022-03-08T10:34:15.819Z"
   },
   {
    "duration": 3293,
    "start_time": "2022-03-08T10:34:34.262Z"
   },
   {
    "duration": 6940,
    "start_time": "2022-03-08T10:34:42.766Z"
   },
   {
    "duration": 13684,
    "start_time": "2022-03-08T10:34:57.714Z"
   },
   {
    "duration": 47497,
    "start_time": "2022-03-08T10:37:13.481Z"
   },
   {
    "duration": 42163,
    "start_time": "2022-03-08T10:40:21.746Z"
   },
   {
    "duration": 850,
    "start_time": "2022-03-08T10:41:46.833Z"
   },
   {
    "duration": 599,
    "start_time": "2022-03-08T10:42:04.075Z"
   },
   {
    "duration": 753,
    "start_time": "2022-03-08T10:42:33.634Z"
   },
   {
    "duration": 227,
    "start_time": "2022-03-08T10:43:31.828Z"
   },
   {
    "duration": 2064,
    "start_time": "2022-03-08T10:43:46.568Z"
   },
   {
    "duration": 11239,
    "start_time": "2022-03-08T10:45:34.284Z"
   },
   {
    "duration": 212,
    "start_time": "2022-03-08T10:47:39.166Z"
   },
   {
    "duration": 45,
    "start_time": "2022-03-08T10:53:43.420Z"
   },
   {
    "duration": 45,
    "start_time": "2022-03-08T10:57:12.222Z"
   },
   {
    "duration": 49,
    "start_time": "2022-03-08T10:57:25.396Z"
   },
   {
    "duration": 42,
    "start_time": "2022-03-08T10:57:39.694Z"
   },
   {
    "duration": 1729,
    "start_time": "2022-03-08T10:57:56.002Z"
   },
   {
    "duration": 35,
    "start_time": "2022-03-08T10:57:57.734Z"
   },
   {
    "duration": 23,
    "start_time": "2022-03-08T10:57:57.772Z"
   },
   {
    "duration": 21,
    "start_time": "2022-03-08T10:57:57.797Z"
   },
   {
    "duration": 15,
    "start_time": "2022-03-08T10:57:57.821Z"
   },
   {
    "duration": 38,
    "start_time": "2022-03-08T10:57:57.839Z"
   },
   {
    "duration": 7,
    "start_time": "2022-03-08T10:57:57.880Z"
   },
   {
    "duration": 12,
    "start_time": "2022-03-08T10:57:57.891Z"
   },
   {
    "duration": 5,
    "start_time": "2022-03-08T10:57:57.906Z"
   },
   {
    "duration": 7,
    "start_time": "2022-03-08T10:57:57.914Z"
   },
   {
    "duration": 50,
    "start_time": "2022-03-08T10:57:57.923Z"
   },
   {
    "duration": 5,
    "start_time": "2022-03-08T10:57:57.977Z"
   },
   {
    "duration": 29,
    "start_time": "2022-03-08T10:57:57.986Z"
   },
   {
    "duration": 16,
    "start_time": "2022-03-08T10:57:58.019Z"
   },
   {
    "duration": 34,
    "start_time": "2022-03-08T10:57:58.039Z"
   },
   {
    "duration": 26,
    "start_time": "2022-03-08T10:57:58.077Z"
   },
   {
    "duration": 27,
    "start_time": "2022-03-08T10:57:58.107Z"
   },
   {
    "duration": 36,
    "start_time": "2022-03-08T10:57:58.137Z"
   },
   {
    "duration": 7,
    "start_time": "2022-03-08T10:57:58.177Z"
   },
   {
    "duration": 47,
    "start_time": "2022-03-08T10:57:58.189Z"
   },
   {
    "duration": 36,
    "start_time": "2022-03-08T10:57:58.239Z"
   },
   {
    "duration": 17,
    "start_time": "2022-03-08T10:57:58.278Z"
   },
   {
    "duration": 3,
    "start_time": "2022-03-08T10:57:58.304Z"
   },
   {
    "duration": 6358,
    "start_time": "2022-03-08T10:57:58.312Z"
   },
   {
    "duration": 7,
    "start_time": "2022-03-08T10:58:04.674Z"
   },
   {
    "duration": 15025,
    "start_time": "2022-03-08T10:58:04.684Z"
   },
   {
    "duration": 12,
    "start_time": "2022-03-08T10:58:19.713Z"
   },
   {
    "duration": 45,
    "start_time": "2022-03-08T10:58:19.728Z"
   },
   {
    "duration": 14,
    "start_time": "2022-03-08T10:58:19.776Z"
   },
   {
    "duration": 311,
    "start_time": "2022-03-08T10:58:19.793Z"
   },
   {
    "duration": 198,
    "start_time": "2022-03-08T10:58:20.107Z"
   },
   {
    "duration": 233,
    "start_time": "2022-03-08T10:58:20.307Z"
   },
   {
    "duration": 102,
    "start_time": "2022-03-08T10:58:20.543Z"
   },
   {
    "duration": 5,
    "start_time": "2022-03-08T10:58:20.647Z"
   },
   {
    "duration": 19,
    "start_time": "2022-03-08T10:58:20.655Z"
   },
   {
    "duration": 9,
    "start_time": "2022-03-08T10:58:20.677Z"
   },
   {
    "duration": 38,
    "start_time": "2022-03-08T10:58:20.688Z"
   },
   {
    "duration": 12,
    "start_time": "2022-03-08T10:58:20.729Z"
   },
   {
    "duration": 49,
    "start_time": "2022-03-08T10:58:20.743Z"
   },
   {
    "duration": 10,
    "start_time": "2022-03-08T10:58:20.794Z"
   },
   {
    "duration": 2,
    "start_time": "2022-03-08T10:58:20.807Z"
   },
   {
    "duration": 3576,
    "start_time": "2022-03-08T10:58:20.812Z"
   },
   {
    "duration": 9253,
    "start_time": "2022-03-08T10:58:24.391Z"
   },
   {
    "duration": 432,
    "start_time": "2022-03-08T10:58:33.647Z"
   },
   {
    "duration": 361,
    "start_time": "2022-03-08T10:58:34.083Z"
   },
   {
    "duration": 9433,
    "start_time": "2022-03-08T10:58:34.447Z"
   },
   {
    "duration": 10482,
    "start_time": "2022-03-08T10:58:43.883Z"
   },
   {
    "duration": 419,
    "start_time": "2022-03-08T10:58:54.367Z"
   },
   {
    "duration": 111,
    "start_time": "2022-03-08T10:58:54.877Z"
   },
   {
    "duration": 353,
    "start_time": "2022-03-08T10:58:54.991Z"
   },
   {
    "duration": 13,
    "start_time": "2022-03-08T10:58:55.347Z"
   },
   {
    "duration": 13260,
    "start_time": "2022-03-08T10:58:55.375Z"
   },
   {
    "duration": 42363,
    "start_time": "2022-03-08T10:59:08.638Z"
   },
   {
    "duration": 969,
    "start_time": "2022-03-08T10:59:51.004Z"
   },
   {
    "duration": 370,
    "start_time": "2022-03-08T10:59:51.978Z"
   },
   {
    "duration": 2237,
    "start_time": "2022-03-08T10:59:52.350Z"
   },
   {
    "duration": 11414,
    "start_time": "2022-03-08T10:59:54.593Z"
   },
   {
    "duration": 268,
    "start_time": "2022-03-08T11:00:06.010Z"
   },
   {
    "duration": 92,
    "start_time": "2022-03-08T11:00:06.282Z"
   },
   {
    "duration": 520,
    "start_time": "2022-03-08T11:00:06.377Z"
   },
   {
    "duration": -528,
    "start_time": "2022-03-08T11:00:07.428Z"
   },
   {
    "duration": -535,
    "start_time": "2022-03-08T11:00:07.437Z"
   },
   {
    "duration": -541,
    "start_time": "2022-03-08T11:00:07.444Z"
   },
   {
    "duration": -550,
    "start_time": "2022-03-08T11:00:07.454Z"
   },
   {
    "duration": -555,
    "start_time": "2022-03-08T11:00:07.461Z"
   },
   {
    "duration": -561,
    "start_time": "2022-03-08T11:00:07.469Z"
   },
   {
    "duration": -566,
    "start_time": "2022-03-08T11:00:07.475Z"
   },
   {
    "duration": -572,
    "start_time": "2022-03-08T11:00:07.483Z"
   },
   {
    "duration": 10,
    "start_time": "2022-03-08T11:01:25.931Z"
   },
   {
    "duration": 42,
    "start_time": "2022-03-08T11:01:28.123Z"
   },
   {
    "duration": 993,
    "start_time": "2022-03-08T11:06:32.593Z"
   },
   {
    "duration": 279,
    "start_time": "2022-03-08T11:13:54.817Z"
   },
   {
    "duration": 281,
    "start_time": "2022-03-08T11:14:35.445Z"
   },
   {
    "duration": 62,
    "start_time": "2022-03-08T11:14:44.892Z"
   },
   {
    "duration": 195,
    "start_time": "2022-03-08T11:14:49.590Z"
   },
   {
    "duration": 4151,
    "start_time": "2022-03-08T11:18:27.943Z"
   },
   {
    "duration": 11,
    "start_time": "2022-03-08T11:20:33.104Z"
   },
   {
    "duration": 281,
    "start_time": "2022-03-08T11:32:51.231Z"
   },
   {
    "duration": 8035,
    "start_time": "2022-03-08T11:33:17.656Z"
   },
   {
    "duration": 2444,
    "start_time": "2022-03-08T11:33:42.802Z"
   },
   {
    "duration": 1674,
    "start_time": "2022-03-08T11:35:32.594Z"
   },
   {
    "duration": 32,
    "start_time": "2022-03-08T11:35:34.272Z"
   },
   {
    "duration": 24,
    "start_time": "2022-03-08T11:35:34.307Z"
   },
   {
    "duration": 41,
    "start_time": "2022-03-08T11:35:34.334Z"
   },
   {
    "duration": 12,
    "start_time": "2022-03-08T11:35:34.377Z"
   },
   {
    "duration": 9,
    "start_time": "2022-03-08T11:35:34.391Z"
   },
   {
    "duration": 7,
    "start_time": "2022-03-08T11:35:34.403Z"
   },
   {
    "duration": 4,
    "start_time": "2022-03-08T11:35:34.413Z"
   },
   {
    "duration": 53,
    "start_time": "2022-03-08T11:35:34.421Z"
   },
   {
    "duration": 7,
    "start_time": "2022-03-08T11:35:34.477Z"
   },
   {
    "duration": 10,
    "start_time": "2022-03-08T11:35:34.486Z"
   },
   {
    "duration": 3,
    "start_time": "2022-03-08T11:35:34.499Z"
   },
   {
    "duration": 12,
    "start_time": "2022-03-08T11:35:34.505Z"
   },
   {
    "duration": 12,
    "start_time": "2022-03-08T11:35:34.519Z"
   },
   {
    "duration": 46,
    "start_time": "2022-03-08T11:35:34.534Z"
   },
   {
    "duration": 19,
    "start_time": "2022-03-08T11:35:34.583Z"
   },
   {
    "duration": 19,
    "start_time": "2022-03-08T11:35:34.604Z"
   },
   {
    "duration": 6,
    "start_time": "2022-03-08T11:35:34.626Z"
   },
   {
    "duration": 41,
    "start_time": "2022-03-08T11:35:34.634Z"
   },
   {
    "duration": 21,
    "start_time": "2022-03-08T11:35:34.677Z"
   },
   {
    "duration": 24,
    "start_time": "2022-03-08T11:35:34.700Z"
   },
   {
    "duration": 15,
    "start_time": "2022-03-08T11:35:34.727Z"
   },
   {
    "duration": 31,
    "start_time": "2022-03-08T11:35:34.744Z"
   },
   {
    "duration": 5806,
    "start_time": "2022-03-08T11:35:34.778Z"
   },
   {
    "duration": 6,
    "start_time": "2022-03-08T11:35:40.587Z"
   },
   {
    "duration": 16056,
    "start_time": "2022-03-08T11:35:40.595Z"
   },
   {
    "duration": 21,
    "start_time": "2022-03-08T11:35:56.657Z"
   },
   {
    "duration": 9,
    "start_time": "2022-03-08T11:35:56.682Z"
   },
   {
    "duration": 12,
    "start_time": "2022-03-08T11:35:56.694Z"
   },
   {
    "duration": 411,
    "start_time": "2022-03-08T11:35:56.709Z"
   },
   {
    "duration": 80,
    "start_time": "2022-03-08T11:35:57.123Z"
   },
   {
    "duration": 251,
    "start_time": "2022-03-08T11:35:57.205Z"
   },
   {
    "duration": 194,
    "start_time": "2022-03-08T11:35:57.458Z"
   },
   {
    "duration": 5,
    "start_time": "2022-03-08T11:35:57.654Z"
   },
   {
    "duration": 4,
    "start_time": "2022-03-08T11:35:57.674Z"
   },
   {
    "duration": 11,
    "start_time": "2022-03-08T11:35:57.681Z"
   },
   {
    "duration": 36,
    "start_time": "2022-03-08T11:35:57.695Z"
   },
   {
    "duration": 11,
    "start_time": "2022-03-08T11:35:57.734Z"
   },
   {
    "duration": 49,
    "start_time": "2022-03-08T11:35:57.747Z"
   },
   {
    "duration": 12,
    "start_time": "2022-03-08T11:35:57.798Z"
   },
   {
    "duration": 3,
    "start_time": "2022-03-08T11:35:57.812Z"
   },
   {
    "duration": 3640,
    "start_time": "2022-03-08T11:35:57.818Z"
   },
   {
    "duration": 9235,
    "start_time": "2022-03-08T11:36:01.461Z"
   },
   {
    "duration": 473,
    "start_time": "2022-03-08T11:36:10.699Z"
   },
   {
    "duration": 354,
    "start_time": "2022-03-08T11:36:11.176Z"
   },
   {
    "duration": 9177,
    "start_time": "2022-03-08T11:36:11.533Z"
   },
   {
    "duration": 10091,
    "start_time": "2022-03-08T11:36:20.713Z"
   },
   {
    "duration": 471,
    "start_time": "2022-03-08T11:36:30.807Z"
   },
   {
    "duration": 110,
    "start_time": "2022-03-08T11:36:31.282Z"
   },
   {
    "duration": 352,
    "start_time": "2022-03-08T11:36:31.395Z"
   },
   {
    "duration": 10,
    "start_time": "2022-03-08T11:36:31.749Z"
   },
   {
    "duration": 12945,
    "start_time": "2022-03-08T11:36:31.762Z"
   },
   {
    "duration": 42177,
    "start_time": "2022-03-08T11:36:44.709Z"
   },
   {
    "duration": 789,
    "start_time": "2022-03-08T11:37:26.889Z"
   },
   {
    "duration": 333,
    "start_time": "2022-03-08T11:37:27.682Z"
   },
   {
    "duration": 2191,
    "start_time": "2022-03-08T11:37:28.018Z"
   },
   {
    "duration": 11696,
    "start_time": "2022-03-08T11:37:30.212Z"
   },
   {
    "duration": 370,
    "start_time": "2022-03-08T11:37:41.910Z"
   },
   {
    "duration": 4,
    "start_time": "2022-03-08T11:37:42.372Z"
   },
   {
    "duration": 502,
    "start_time": "2022-03-08T11:37:42.378Z"
   },
   {
    "duration": -549,
    "start_time": "2022-03-08T11:37:43.431Z"
   },
   {
    "duration": -555,
    "start_time": "2022-03-08T11:37:43.439Z"
   },
   {
    "duration": -561,
    "start_time": "2022-03-08T11:37:43.446Z"
   },
   {
    "duration": -567,
    "start_time": "2022-03-08T11:37:43.454Z"
   },
   {
    "duration": -571,
    "start_time": "2022-03-08T11:37:43.460Z"
   },
   {
    "duration": -577,
    "start_time": "2022-03-08T11:37:43.467Z"
   },
   {
    "duration": -583,
    "start_time": "2022-03-08T11:37:43.475Z"
   },
   {
    "duration": -588,
    "start_time": "2022-03-08T11:37:43.482Z"
   },
   {
    "duration": -596,
    "start_time": "2022-03-08T11:37:43.492Z"
   },
   {
    "duration": 2522,
    "start_time": "2022-03-08T11:53:31.922Z"
   },
   {
    "duration": 32,
    "start_time": "2022-03-08T11:59:54.415Z"
   },
   {
    "duration": 506,
    "start_time": "2022-03-08T11:59:55.352Z"
   },
   {
    "duration": 1648,
    "start_time": "2022-03-08T12:00:10.312Z"
   },
   {
    "duration": 39,
    "start_time": "2022-03-08T12:00:11.963Z"
   },
   {
    "duration": 24,
    "start_time": "2022-03-08T12:00:12.005Z"
   },
   {
    "duration": 20,
    "start_time": "2022-03-08T12:00:12.031Z"
   },
   {
    "duration": 26,
    "start_time": "2022-03-08T12:00:12.053Z"
   },
   {
    "duration": 11,
    "start_time": "2022-03-08T12:00:12.082Z"
   },
   {
    "duration": 8,
    "start_time": "2022-03-08T12:00:12.095Z"
   },
   {
    "duration": 4,
    "start_time": "2022-03-08T12:00:12.108Z"
   },
   {
    "duration": 6,
    "start_time": "2022-03-08T12:00:12.115Z"
   },
   {
    "duration": 7,
    "start_time": "2022-03-08T12:00:12.175Z"
   },
   {
    "duration": 10,
    "start_time": "2022-03-08T12:00:12.185Z"
   },
   {
    "duration": 4,
    "start_time": "2022-03-08T12:00:12.199Z"
   },
   {
    "duration": 17,
    "start_time": "2022-03-08T12:00:12.206Z"
   },
   {
    "duration": 53,
    "start_time": "2022-03-08T12:00:12.226Z"
   },
   {
    "duration": 13,
    "start_time": "2022-03-08T12:00:12.282Z"
   },
   {
    "duration": 24,
    "start_time": "2022-03-08T12:00:12.298Z"
   },
   {
    "duration": 53,
    "start_time": "2022-03-08T12:00:12.325Z"
   },
   {
    "duration": 7,
    "start_time": "2022-03-08T12:00:12.380Z"
   },
   {
    "duration": 10,
    "start_time": "2022-03-08T12:00:12.390Z"
   },
   {
    "duration": 21,
    "start_time": "2022-03-08T12:00:12.403Z"
   },
   {
    "duration": 53,
    "start_time": "2022-03-08T12:00:12.426Z"
   },
   {
    "duration": 14,
    "start_time": "2022-03-08T12:00:12.481Z"
   },
   {
    "duration": 3,
    "start_time": "2022-03-08T12:00:12.501Z"
   },
   {
    "duration": 5874,
    "start_time": "2022-03-08T12:00:12.508Z"
   },
   {
    "duration": 5,
    "start_time": "2022-03-08T12:00:18.384Z"
   },
   {
    "duration": 15908,
    "start_time": "2022-03-08T12:00:18.391Z"
   },
   {
    "duration": 12,
    "start_time": "2022-03-08T12:00:34.302Z"
   },
   {
    "duration": 15,
    "start_time": "2022-03-08T12:00:34.317Z"
   },
   {
    "duration": 45,
    "start_time": "2022-03-08T12:00:34.335Z"
   },
   {
    "duration": 342,
    "start_time": "2022-03-08T12:00:34.384Z"
   },
   {
    "duration": 185,
    "start_time": "2022-03-08T12:00:34.728Z"
   },
   {
    "duration": 656,
    "start_time": "2022-03-08T12:00:34.916Z"
   },
   {
    "duration": -542,
    "start_time": "2022-03-08T12:00:36.118Z"
   },
   {
    "duration": -546,
    "start_time": "2022-03-08T12:00:36.124Z"
   },
   {
    "duration": -552,
    "start_time": "2022-03-08T12:00:36.132Z"
   },
   {
    "duration": -557,
    "start_time": "2022-03-08T12:00:36.139Z"
   },
   {
    "duration": -564,
    "start_time": "2022-03-08T12:00:36.148Z"
   },
   {
    "duration": -568,
    "start_time": "2022-03-08T12:00:36.155Z"
   },
   {
    "duration": -574,
    "start_time": "2022-03-08T12:00:36.163Z"
   },
   {
    "duration": -579,
    "start_time": "2022-03-08T12:00:36.170Z"
   },
   {
    "duration": -584,
    "start_time": "2022-03-08T12:00:36.177Z"
   },
   {
    "duration": -591,
    "start_time": "2022-03-08T12:00:36.186Z"
   },
   {
    "duration": -613,
    "start_time": "2022-03-08T12:00:36.210Z"
   },
   {
    "duration": -618,
    "start_time": "2022-03-08T12:00:36.218Z"
   },
   {
    "duration": -623,
    "start_time": "2022-03-08T12:00:36.225Z"
   },
   {
    "duration": -628,
    "start_time": "2022-03-08T12:00:36.232Z"
   },
   {
    "duration": -633,
    "start_time": "2022-03-08T12:00:36.239Z"
   },
   {
    "duration": -637,
    "start_time": "2022-03-08T12:00:36.246Z"
   },
   {
    "duration": -643,
    "start_time": "2022-03-08T12:00:36.254Z"
   },
   {
    "duration": -647,
    "start_time": "2022-03-08T12:00:36.261Z"
   },
   {
    "duration": -599,
    "start_time": "2022-03-08T12:00:36.271Z"
   },
   {
    "duration": -604,
    "start_time": "2022-03-08T12:00:36.279Z"
   },
   {
    "duration": -610,
    "start_time": "2022-03-08T12:00:36.288Z"
   },
   {
    "duration": -615,
    "start_time": "2022-03-08T12:00:36.295Z"
   },
   {
    "duration": -622,
    "start_time": "2022-03-08T12:00:36.304Z"
   },
   {
    "duration": -640,
    "start_time": "2022-03-08T12:00:36.324Z"
   },
   {
    "duration": -646,
    "start_time": "2022-03-08T12:00:36.333Z"
   },
   {
    "duration": -728,
    "start_time": "2022-03-08T12:00:36.417Z"
   },
   {
    "duration": -761,
    "start_time": "2022-03-08T12:00:36.453Z"
   },
   {
    "duration": -792,
    "start_time": "2022-03-08T12:00:36.486Z"
   },
   {
    "duration": -798,
    "start_time": "2022-03-08T12:00:36.494Z"
   },
   {
    "duration": -803,
    "start_time": "2022-03-08T12:00:36.501Z"
   },
   {
    "duration": -807,
    "start_time": "2022-03-08T12:00:36.508Z"
   },
   {
    "duration": -811,
    "start_time": "2022-03-08T12:00:36.514Z"
   },
   {
    "duration": -817,
    "start_time": "2022-03-08T12:00:36.522Z"
   },
   {
    "duration": -820,
    "start_time": "2022-03-08T12:00:36.528Z"
   },
   {
    "duration": -836,
    "start_time": "2022-03-08T12:00:36.546Z"
   },
   {
    "duration": -787,
    "start_time": "2022-03-08T12:00:36.559Z"
   },
   {
    "duration": 223,
    "start_time": "2022-03-08T12:06:26.529Z"
   },
   {
    "duration": 442,
    "start_time": "2022-03-08T12:06:56.612Z"
   },
   {
    "duration": 152,
    "start_time": "2022-03-08T12:07:32.273Z"
   },
   {
    "duration": 6,
    "start_time": "2022-03-08T12:09:18.086Z"
   },
   {
    "duration": 6,
    "start_time": "2022-03-08T12:09:20.871Z"
   },
   {
    "duration": 8,
    "start_time": "2022-03-08T12:09:23.750Z"
   },
   {
    "duration": 15,
    "start_time": "2022-03-08T12:09:38.180Z"
   },
   {
    "duration": 49,
    "start_time": "2022-03-08T12:09:42.601Z"
   },
   {
    "duration": 13,
    "start_time": "2022-03-08T12:09:52.233Z"
   },
   {
    "duration": 3562,
    "start_time": "2022-03-08T12:11:34.591Z"
   },
   {
    "duration": 9214,
    "start_time": "2022-03-08T12:15:23.341Z"
   },
   {
    "duration": 416,
    "start_time": "2022-03-08T12:16:39.659Z"
   },
   {
    "duration": 270,
    "start_time": "2022-03-08T12:18:06.553Z"
   },
   {
    "duration": 9830,
    "start_time": "2022-03-08T12:18:15.803Z"
   },
   {
    "duration": 5675,
    "start_time": "2022-03-08T12:19:53.784Z"
   },
   {
    "duration": 4957,
    "start_time": "2022-03-08T12:20:10.070Z"
   },
   {
    "duration": 1785,
    "start_time": "2022-03-08T12:20:25.668Z"
   },
   {
    "duration": 34,
    "start_time": "2022-03-08T12:20:27.457Z"
   },
   {
    "duration": 27,
    "start_time": "2022-03-08T12:20:27.494Z"
   },
   {
    "duration": 24,
    "start_time": "2022-03-08T12:20:27.525Z"
   },
   {
    "duration": 13,
    "start_time": "2022-03-08T12:20:27.574Z"
   },
   {
    "duration": 10,
    "start_time": "2022-03-08T12:20:27.590Z"
   },
   {
    "duration": 8,
    "start_time": "2022-03-08T12:20:27.603Z"
   },
   {
    "duration": 7,
    "start_time": "2022-03-08T12:20:27.614Z"
   },
   {
    "duration": 7,
    "start_time": "2022-03-08T12:20:27.677Z"
   },
   {
    "duration": 8,
    "start_time": "2022-03-08T12:20:27.689Z"
   },
   {
    "duration": 14,
    "start_time": "2022-03-08T12:20:27.700Z"
   },
   {
    "duration": 5,
    "start_time": "2022-03-08T12:20:27.717Z"
   },
   {
    "duration": 54,
    "start_time": "2022-03-08T12:20:27.725Z"
   },
   {
    "duration": 9,
    "start_time": "2022-03-08T12:20:27.781Z"
   },
   {
    "duration": 12,
    "start_time": "2022-03-08T12:20:27.793Z"
   },
   {
    "duration": 18,
    "start_time": "2022-03-08T12:20:27.807Z"
   },
   {
    "duration": 47,
    "start_time": "2022-03-08T12:20:27.828Z"
   },
   {
    "duration": 7,
    "start_time": "2022-03-08T12:20:27.877Z"
   },
   {
    "duration": 8,
    "start_time": "2022-03-08T12:20:27.886Z"
   },
   {
    "duration": 26,
    "start_time": "2022-03-08T12:20:27.896Z"
   },
   {
    "duration": 61,
    "start_time": "2022-03-08T12:20:27.924Z"
   },
   {
    "duration": 26,
    "start_time": "2022-03-08T12:20:27.988Z"
   },
   {
    "duration": 4,
    "start_time": "2022-03-08T12:20:28.017Z"
   },
   {
    "duration": 5749,
    "start_time": "2022-03-08T12:20:28.024Z"
   },
   {
    "duration": 6,
    "start_time": "2022-03-08T12:20:33.776Z"
   },
   {
    "duration": 16764,
    "start_time": "2022-03-08T12:20:33.784Z"
   },
   {
    "duration": 24,
    "start_time": "2022-03-08T12:20:50.556Z"
   },
   {
    "duration": 11,
    "start_time": "2022-03-08T12:20:50.583Z"
   },
   {
    "duration": 13,
    "start_time": "2022-03-08T12:20:50.596Z"
   },
   {
    "duration": 354,
    "start_time": "2022-03-08T12:20:50.612Z"
   },
   {
    "duration": 70,
    "start_time": "2022-03-08T12:20:50.969Z"
   },
   {
    "duration": 304,
    "start_time": "2022-03-08T12:20:51.042Z"
   },
   {
    "duration": 281,
    "start_time": "2022-03-08T12:20:51.349Z"
   },
   {
    "duration": 5,
    "start_time": "2022-03-08T12:20:51.632Z"
   },
   {
    "duration": 9,
    "start_time": "2022-03-08T12:20:51.640Z"
   },
   {
    "duration": 24,
    "start_time": "2022-03-08T12:20:51.651Z"
   },
   {
    "duration": 12,
    "start_time": "2022-03-08T12:20:51.677Z"
   },
   {
    "duration": 35,
    "start_time": "2022-03-08T12:20:51.692Z"
   },
   {
    "duration": 48,
    "start_time": "2022-03-08T12:20:51.730Z"
   },
   {
    "duration": 3,
    "start_time": "2022-03-08T12:20:51.781Z"
   },
   {
    "duration": 3718,
    "start_time": "2022-03-08T12:20:51.786Z"
   },
   {
    "duration": 9267,
    "start_time": "2022-03-08T12:20:55.506Z"
   },
   {
    "duration": 405,
    "start_time": "2022-03-08T12:21:04.776Z"
   },
   {
    "duration": 434,
    "start_time": "2022-03-08T12:21:05.184Z"
   },
   {
    "duration": 6356,
    "start_time": "2022-03-08T12:21:05.621Z"
   },
   {
    "duration": 10445,
    "start_time": "2022-03-08T12:21:11.979Z"
   },
   {
    "duration": 455,
    "start_time": "2022-03-08T12:21:22.426Z"
   },
   {
    "duration": 507,
    "start_time": "2022-03-08T12:21:22.884Z"
   },
   {
    "duration": -549,
    "start_time": "2022-03-08T12:21:23.943Z"
   },
   {
    "duration": -559,
    "start_time": "2022-03-08T12:21:23.955Z"
   },
   {
    "duration": -568,
    "start_time": "2022-03-08T12:21:23.966Z"
   },
   {
    "duration": -573,
    "start_time": "2022-03-08T12:21:23.973Z"
   },
   {
    "duration": -580,
    "start_time": "2022-03-08T12:21:23.981Z"
   },
   {
    "duration": -585,
    "start_time": "2022-03-08T12:21:23.987Z"
   },
   {
    "duration": -593,
    "start_time": "2022-03-08T12:21:23.996Z"
   },
   {
    "duration": -597,
    "start_time": "2022-03-08T12:21:24.002Z"
   },
   {
    "duration": -602,
    "start_time": "2022-03-08T12:21:24.009Z"
   },
   {
    "duration": -608,
    "start_time": "2022-03-08T12:21:24.016Z"
   },
   {
    "duration": -624,
    "start_time": "2022-03-08T12:21:24.034Z"
   },
   {
    "duration": -630,
    "start_time": "2022-03-08T12:21:24.041Z"
   },
   {
    "duration": -637,
    "start_time": "2022-03-08T12:21:24.050Z"
   },
   {
    "duration": -642,
    "start_time": "2022-03-08T12:21:24.056Z"
   },
   {
    "duration": -648,
    "start_time": "2022-03-08T12:21:24.064Z"
   },
   {
    "duration": -654,
    "start_time": "2022-03-08T12:21:24.072Z"
   },
   {
    "duration": -662,
    "start_time": "2022-03-08T12:21:24.081Z"
   },
   {
    "duration": -666,
    "start_time": "2022-03-08T12:21:24.087Z"
   },
   {
    "duration": -673,
    "start_time": "2022-03-08T12:21:24.095Z"
   },
   {
    "duration": 8,
    "start_time": "2022-03-08T12:22:12.836Z"
   },
   {
    "duration": 35,
    "start_time": "2022-03-08T12:22:15.239Z"
   },
   {
    "duration": 21,
    "start_time": "2022-03-08T12:22:17.852Z"
   },
   {
    "duration": 19,
    "start_time": "2022-03-08T12:22:44.255Z"
   },
   {
    "duration": 13,
    "start_time": "2022-03-08T12:22:46.106Z"
   },
   {
    "duration": 13,
    "start_time": "2022-03-08T12:22:54.126Z"
   },
   {
    "duration": 8,
    "start_time": "2022-03-08T12:22:55.312Z"
   },
   {
    "duration": 6,
    "start_time": "2022-03-08T12:22:58.591Z"
   },
   {
    "duration": 5,
    "start_time": "2022-03-08T12:22:59.547Z"
   },
   {
    "duration": 8,
    "start_time": "2022-03-08T12:23:02.366Z"
   },
   {
    "duration": 13,
    "start_time": "2022-03-08T12:23:03.198Z"
   },
   {
    "duration": 4,
    "start_time": "2022-03-08T12:23:07.285Z"
   },
   {
    "duration": 9,
    "start_time": "2022-03-08T12:23:10.214Z"
   },
   {
    "duration": 10,
    "start_time": "2022-03-08T12:23:11.097Z"
   },
   {
    "duration": 14,
    "start_time": "2022-03-08T12:23:11.860Z"
   },
   {
    "duration": 26,
    "start_time": "2022-03-08T12:23:12.703Z"
   },
   {
    "duration": 18,
    "start_time": "2022-03-08T12:23:14.523Z"
   },
   {
    "duration": 7,
    "start_time": "2022-03-08T12:23:18.061Z"
   },
   {
    "duration": 7,
    "start_time": "2022-03-08T12:23:18.732Z"
   },
   {
    "duration": 22,
    "start_time": "2022-03-08T12:23:19.822Z"
   },
   {
    "duration": 19,
    "start_time": "2022-03-08T12:23:28.781Z"
   },
   {
    "duration": 10,
    "start_time": "2022-03-08T12:23:33.295Z"
   },
   {
    "duration": 3,
    "start_time": "2022-03-08T12:23:38.594Z"
   },
   {
    "duration": 6336,
    "start_time": "2022-03-08T12:23:44.738Z"
   },
   {
    "duration": 6,
    "start_time": "2022-03-08T12:23:55.577Z"
   },
   {
    "duration": 15576,
    "start_time": "2022-03-08T12:23:56.554Z"
   },
   {
    "duration": 9,
    "start_time": "2022-03-08T12:24:15.584Z"
   },
   {
    "duration": 10,
    "start_time": "2022-03-08T12:24:19.524Z"
   },
   {
    "duration": 11,
    "start_time": "2022-03-08T12:24:22.993Z"
   },
   {
    "duration": 437,
    "start_time": "2022-03-08T12:24:28.809Z"
   },
   {
    "duration": 46,
    "start_time": "2022-03-08T12:24:40.932Z"
   },
   {
    "duration": 24,
    "start_time": "2022-03-08T12:24:48.486Z"
   },
   {
    "duration": 222,
    "start_time": "2022-03-08T12:24:50.082Z"
   },
   {
    "duration": 126,
    "start_time": "2022-03-08T12:24:58.161Z"
   },
   {
    "duration": 215,
    "start_time": "2022-03-08T12:25:43.731Z"
   },
   {
    "duration": 2144,
    "start_time": "2022-03-08T12:25:55.902Z"
   },
   {
    "duration": 94,
    "start_time": "2022-03-08T12:26:12.737Z"
   },
   {
    "duration": 224,
    "start_time": "2022-03-08T12:26:20.312Z"
   },
   {
    "duration": 96,
    "start_time": "2022-03-08T12:26:21.644Z"
   },
   {
    "duration": 5,
    "start_time": "2022-03-08T12:26:31.581Z"
   },
   {
    "duration": 5,
    "start_time": "2022-03-08T12:26:33.575Z"
   },
   {
    "duration": 5,
    "start_time": "2022-03-08T12:26:37.958Z"
   },
   {
    "duration": 12,
    "start_time": "2022-03-08T12:26:44.854Z"
   },
   {
    "duration": 33,
    "start_time": "2022-03-08T12:26:45.922Z"
   },
   {
    "duration": 11,
    "start_time": "2022-03-08T12:26:55.561Z"
   },
   {
    "duration": 3,
    "start_time": "2022-03-08T12:37:15.566Z"
   },
   {
    "duration": 3538,
    "start_time": "2022-03-08T12:37:19.554Z"
   },
   {
    "duration": 9460,
    "start_time": "2022-03-08T12:37:35.696Z"
   },
   {
    "duration": 18143,
    "start_time": "2022-03-08T12:38:30.126Z"
   },
   {
    "duration": 17949,
    "start_time": "2022-03-08T12:39:14.768Z"
   },
   {
    "duration": 233,
    "start_time": "2022-03-08T12:42:03.596Z"
   },
   {
    "duration": 4782,
    "start_time": "2022-03-08T12:42:18.713Z"
   },
   {
    "duration": 3351,
    "start_time": "2022-03-08T12:42:40.923Z"
   },
   {
    "duration": 4682,
    "start_time": "2022-03-08T12:42:56.245Z"
   },
   {
    "duration": 5383,
    "start_time": "2022-03-08T12:43:22.378Z"
   },
   {
    "duration": 10158,
    "start_time": "2022-03-08T12:43:40.368Z"
   },
   {
    "duration": 5153,
    "start_time": "2022-03-08T12:43:56.014Z"
   },
   {
    "duration": 4970,
    "start_time": "2022-03-08T12:46:45.239Z"
   },
   {
    "duration": 10249,
    "start_time": "2022-03-08T12:47:14.331Z"
   },
   {
    "duration": 2239,
    "start_time": "2022-03-08T12:47:56.511Z"
   },
   {
    "duration": 5051,
    "start_time": "2022-03-08T12:48:06.835Z"
   },
   {
    "duration": 1533,
    "start_time": "2022-03-08T12:48:24.421Z"
   },
   {
    "duration": 32,
    "start_time": "2022-03-08T12:48:25.957Z"
   },
   {
    "duration": 24,
    "start_time": "2022-03-08T12:48:25.991Z"
   },
   {
    "duration": 19,
    "start_time": "2022-03-08T12:48:26.018Z"
   },
   {
    "duration": 38,
    "start_time": "2022-03-08T12:48:26.040Z"
   },
   {
    "duration": 9,
    "start_time": "2022-03-08T12:48:26.080Z"
   },
   {
    "duration": 10,
    "start_time": "2022-03-08T12:48:26.092Z"
   },
   {
    "duration": 5,
    "start_time": "2022-03-08T12:48:26.108Z"
   },
   {
    "duration": 5,
    "start_time": "2022-03-08T12:48:26.116Z"
   },
   {
    "duration": 54,
    "start_time": "2022-03-08T12:48:26.124Z"
   },
   {
    "duration": 12,
    "start_time": "2022-03-08T12:48:26.181Z"
   },
   {
    "duration": 4,
    "start_time": "2022-03-08T12:48:26.195Z"
   },
   {
    "duration": 18,
    "start_time": "2022-03-08T12:48:26.201Z"
   },
   {
    "duration": 12,
    "start_time": "2022-03-08T12:48:26.222Z"
   },
   {
    "duration": 43,
    "start_time": "2022-03-08T12:48:26.237Z"
   },
   {
    "duration": 20,
    "start_time": "2022-03-08T12:48:26.283Z"
   },
   {
    "duration": 21,
    "start_time": "2022-03-08T12:48:26.306Z"
   },
   {
    "duration": 6,
    "start_time": "2022-03-08T12:48:26.329Z"
   },
   {
    "duration": 37,
    "start_time": "2022-03-08T12:48:26.338Z"
   },
   {
    "duration": 24,
    "start_time": "2022-03-08T12:48:26.377Z"
   },
   {
    "duration": 18,
    "start_time": "2022-03-08T12:48:26.403Z"
   },
   {
    "duration": 15,
    "start_time": "2022-03-08T12:48:26.425Z"
   },
   {
    "duration": 3,
    "start_time": "2022-03-08T12:48:26.478Z"
   },
   {
    "duration": 5849,
    "start_time": "2022-03-08T12:48:26.484Z"
   },
   {
    "duration": 6,
    "start_time": "2022-03-08T12:48:32.335Z"
   },
   {
    "duration": 14343,
    "start_time": "2022-03-08T12:48:32.344Z"
   },
   {
    "duration": 13,
    "start_time": "2022-03-08T12:48:46.690Z"
   },
   {
    "duration": 22,
    "start_time": "2022-03-08T12:48:46.706Z"
   },
   {
    "duration": 46,
    "start_time": "2022-03-08T12:48:46.730Z"
   },
   {
    "duration": 333,
    "start_time": "2022-03-08T12:48:46.778Z"
   },
   {
    "duration": 79,
    "start_time": "2022-03-08T12:48:47.114Z"
   },
   {
    "duration": 506,
    "start_time": "2022-03-08T12:48:47.195Z"
   },
   {
    "duration": 104,
    "start_time": "2022-03-08T12:48:47.703Z"
   },
   {
    "duration": 6,
    "start_time": "2022-03-08T12:48:47.809Z"
   },
   {
    "duration": 7,
    "start_time": "2022-03-08T12:48:47.817Z"
   },
   {
    "duration": 11,
    "start_time": "2022-03-08T12:48:47.826Z"
   },
   {
    "duration": 40,
    "start_time": "2022-03-08T12:48:47.839Z"
   },
   {
    "duration": 37,
    "start_time": "2022-03-08T12:48:47.882Z"
   },
   {
    "duration": 13,
    "start_time": "2022-03-08T12:48:47.923Z"
   },
   {
    "duration": 4,
    "start_time": "2022-03-08T12:48:47.974Z"
   },
   {
    "duration": 3646,
    "start_time": "2022-03-08T12:48:47.980Z"
   },
   {
    "duration": 18541,
    "start_time": "2022-03-08T12:48:51.628Z"
   },
   {
    "duration": 406,
    "start_time": "2022-03-08T12:49:10.174Z"
   },
   {
    "duration": 358,
    "start_time": "2022-03-08T12:49:10.583Z"
   },
   {
    "duration": 5193,
    "start_time": "2022-03-08T12:49:10.943Z"
   },
   {
    "duration": 5669,
    "start_time": "2022-03-08T12:49:16.138Z"
   },
   {
    "duration": 466,
    "start_time": "2022-03-08T12:49:21.809Z"
   },
   {
    "duration": 506,
    "start_time": "2022-03-08T12:49:22.279Z"
   },
   {
    "duration": -482,
    "start_time": "2022-03-08T12:49:23.270Z"
   },
   {
    "duration": -489,
    "start_time": "2022-03-08T12:49:23.279Z"
   },
   {
    "duration": -518,
    "start_time": "2022-03-08T12:49:23.309Z"
   },
   {
    "duration": -542,
    "start_time": "2022-03-08T12:49:23.335Z"
   },
   {
    "duration": -571,
    "start_time": "2022-03-08T12:49:23.365Z"
   },
   {
    "duration": -594,
    "start_time": "2022-03-08T12:49:23.390Z"
   },
   {
    "duration": -599,
    "start_time": "2022-03-08T12:49:23.397Z"
   },
   {
    "duration": -607,
    "start_time": "2022-03-08T12:49:23.406Z"
   },
   {
    "duration": -622,
    "start_time": "2022-03-08T12:49:23.423Z"
   },
   {
    "duration": -628,
    "start_time": "2022-03-08T12:49:23.430Z"
   },
   {
    "duration": -634,
    "start_time": "2022-03-08T12:49:23.438Z"
   },
   {
    "duration": -639,
    "start_time": "2022-03-08T12:49:23.445Z"
   },
   {
    "duration": -646,
    "start_time": "2022-03-08T12:49:23.453Z"
   },
   {
    "duration": -651,
    "start_time": "2022-03-08T12:49:23.460Z"
   },
   {
    "duration": -658,
    "start_time": "2022-03-08T12:49:23.468Z"
   },
   {
    "duration": -662,
    "start_time": "2022-03-08T12:49:23.475Z"
   },
   {
    "duration": -668,
    "start_time": "2022-03-08T12:49:23.483Z"
   },
   {
    "duration": -675,
    "start_time": "2022-03-08T12:49:23.491Z"
   },
   {
    "duration": -680,
    "start_time": "2022-03-08T12:49:23.498Z"
   },
   {
    "duration": 6,
    "start_time": "2022-03-08T12:53:02.804Z"
   },
   {
    "duration": 16,
    "start_time": "2022-03-08T12:53:22.300Z"
   },
   {
    "duration": 23,
    "start_time": "2022-03-08T12:54:00.171Z"
   },
   {
    "duration": 28,
    "start_time": "2022-03-08T12:54:06.101Z"
   },
   {
    "duration": 9,
    "start_time": "2022-03-08T12:54:12.657Z"
   },
   {
    "duration": 14,
    "start_time": "2022-03-08T12:54:17.156Z"
   },
   {
    "duration": 8,
    "start_time": "2022-03-08T12:54:18.521Z"
   },
   {
    "duration": 6,
    "start_time": "2022-03-08T12:54:22.670Z"
   },
   {
    "duration": 6,
    "start_time": "2022-03-08T12:54:24.328Z"
   },
   {
    "duration": 6,
    "start_time": "2022-03-08T12:54:26.901Z"
   },
   {
    "duration": 1670,
    "start_time": "2022-03-08T12:54:35.842Z"
   },
   {
    "duration": 32,
    "start_time": "2022-03-08T12:54:37.518Z"
   },
   {
    "duration": 27,
    "start_time": "2022-03-08T12:54:37.553Z"
   },
   {
    "duration": 19,
    "start_time": "2022-03-08T12:54:37.583Z"
   },
   {
    "duration": 16,
    "start_time": "2022-03-08T12:54:37.604Z"
   },
   {
    "duration": 50,
    "start_time": "2022-03-08T12:54:37.623Z"
   },
   {
    "duration": 10,
    "start_time": "2022-03-08T12:54:37.676Z"
   },
   {
    "duration": 5,
    "start_time": "2022-03-08T12:54:37.692Z"
   },
   {
    "duration": 7,
    "start_time": "2022-03-08T12:54:37.701Z"
   },
   {
    "duration": 8,
    "start_time": "2022-03-08T12:54:37.711Z"
   },
   {
    "duration": 57,
    "start_time": "2022-03-08T12:54:37.721Z"
   },
   {
    "duration": 5,
    "start_time": "2022-03-08T12:54:37.781Z"
   },
   {
    "duration": 16,
    "start_time": "2022-03-08T12:54:37.789Z"
   },
   {
    "duration": 14,
    "start_time": "2022-03-08T12:54:37.807Z"
   },
   {
    "duration": 13,
    "start_time": "2022-03-08T12:54:37.823Z"
   },
   {
    "duration": 55,
    "start_time": "2022-03-08T12:54:37.838Z"
   },
   {
    "duration": 22,
    "start_time": "2022-03-08T12:54:37.897Z"
   },
   {
    "duration": 7,
    "start_time": "2022-03-08T12:54:37.922Z"
   },
   {
    "duration": 12,
    "start_time": "2022-03-08T12:54:37.932Z"
   },
   {
    "duration": 41,
    "start_time": "2022-03-08T12:54:37.946Z"
   },
   {
    "duration": 23,
    "start_time": "2022-03-08T12:54:37.989Z"
   },
   {
    "duration": 15,
    "start_time": "2022-03-08T12:54:38.015Z"
   },
   {
    "duration": 36,
    "start_time": "2022-03-08T12:54:38.037Z"
   },
   {
    "duration": 6407,
    "start_time": "2022-03-08T12:54:38.077Z"
   },
   {
    "duration": 8,
    "start_time": "2022-03-08T12:54:44.487Z"
   },
   {
    "duration": 21291,
    "start_time": "2022-03-08T12:54:44.498Z"
   },
   {
    "duration": 10,
    "start_time": "2022-03-08T12:55:05.793Z"
   },
   {
    "duration": 14,
    "start_time": "2022-03-08T12:55:05.806Z"
   },
   {
    "duration": 51,
    "start_time": "2022-03-08T12:55:05.823Z"
   },
   {
    "duration": 8,
    "start_time": "2022-03-08T12:55:05.877Z"
   },
   {
    "duration": 32,
    "start_time": "2022-03-08T12:55:05.888Z"
   },
   {
    "duration": 149,
    "start_time": "2022-03-08T12:55:05.924Z"
   },
   {
    "duration": 8,
    "start_time": "2022-03-08T12:55:06.076Z"
   },
   {
    "duration": 23,
    "start_time": "2022-03-08T12:55:06.087Z"
   },
   {
    "duration": 9,
    "start_time": "2022-03-08T12:55:06.113Z"
   },
   {
    "duration": 9,
    "start_time": "2022-03-08T12:55:06.124Z"
   },
   {
    "duration": 39,
    "start_time": "2022-03-08T12:55:06.135Z"
   },
   {
    "duration": 5,
    "start_time": "2022-03-08T12:55:06.177Z"
   },
   {
    "duration": 15,
    "start_time": "2022-03-08T12:55:06.185Z"
   },
   {
    "duration": 70,
    "start_time": "2022-03-08T12:55:06.203Z"
   },
   {
    "duration": 13,
    "start_time": "2022-03-08T12:55:06.277Z"
   },
   {
    "duration": 3,
    "start_time": "2022-03-08T12:55:06.293Z"
   },
   {
    "duration": 255,
    "start_time": "2022-03-08T12:55:06.299Z"
   },
   {
    "duration": 8929,
    "start_time": "2022-03-08T12:55:06.557Z"
   },
   {
    "duration": 185,
    "start_time": "2022-03-08T12:55:15.489Z"
   },
   {
    "duration": 296,
    "start_time": "2022-03-08T12:55:15.677Z"
   },
   {
    "duration": 480,
    "start_time": "2022-03-08T12:55:15.976Z"
   },
   {
    "duration": 3622,
    "start_time": "2022-03-08T12:55:16.460Z"
   },
   {
    "duration": 95,
    "start_time": "2022-03-08T12:55:20.084Z"
   },
   {
    "duration": 514,
    "start_time": "2022-03-08T12:55:20.183Z"
   },
   {
    "duration": -523,
    "start_time": "2022-03-08T12:55:21.223Z"
   },
   {
    "duration": -529,
    "start_time": "2022-03-08T12:55:21.231Z"
   },
   {
    "duration": -535,
    "start_time": "2022-03-08T12:55:21.239Z"
   },
   {
    "duration": -543,
    "start_time": "2022-03-08T12:55:21.248Z"
   },
   {
    "duration": -563,
    "start_time": "2022-03-08T12:55:21.270Z"
   },
   {
    "duration": -570,
    "start_time": "2022-03-08T12:55:21.279Z"
   },
   {
    "duration": -578,
    "start_time": "2022-03-08T12:55:21.289Z"
   },
   {
    "duration": -584,
    "start_time": "2022-03-08T12:55:21.297Z"
   },
   {
    "duration": -594,
    "start_time": "2022-03-08T12:55:21.308Z"
   },
   {
    "duration": -600,
    "start_time": "2022-03-08T12:55:21.316Z"
   },
   {
    "duration": -606,
    "start_time": "2022-03-08T12:55:21.324Z"
   },
   {
    "duration": -613,
    "start_time": "2022-03-08T12:55:21.333Z"
   },
   {
    "duration": -618,
    "start_time": "2022-03-08T12:55:21.340Z"
   },
   {
    "duration": -622,
    "start_time": "2022-03-08T12:55:21.346Z"
   },
   {
    "duration": -629,
    "start_time": "2022-03-08T12:55:21.355Z"
   },
   {
    "duration": -655,
    "start_time": "2022-03-08T12:55:21.382Z"
   },
   {
    "duration": -688,
    "start_time": "2022-03-08T12:55:21.417Z"
   },
   {
    "duration": -707,
    "start_time": "2022-03-08T12:55:21.438Z"
   },
   {
    "duration": -734,
    "start_time": "2022-03-08T12:55:21.467Z"
   },
   {
    "duration": 235,
    "start_time": "2022-03-08T13:00:26.802Z"
   },
   {
    "duration": 326,
    "start_time": "2022-03-08T13:00:33.962Z"
   },
   {
    "duration": 408,
    "start_time": "2022-03-08T13:01:27.772Z"
   },
   {
    "duration": 207,
    "start_time": "2022-03-08T13:01:39.839Z"
   },
   {
    "duration": 402,
    "start_time": "2022-03-08T13:01:49.644Z"
   },
   {
    "duration": 123,
    "start_time": "2022-03-08T13:01:59.126Z"
   },
   {
    "duration": 358,
    "start_time": "2022-03-08T13:02:09.775Z"
   },
   {
    "duration": 209,
    "start_time": "2022-03-08T13:02:19.850Z"
   },
   {
    "duration": 170,
    "start_time": "2022-03-08T13:02:25.606Z"
   },
   {
    "duration": 96,
    "start_time": "2022-03-08T13:02:31.657Z"
   },
   {
    "duration": 171,
    "start_time": "2022-03-08T13:02:37.375Z"
   },
   {
    "duration": 169,
    "start_time": "2022-03-08T13:02:47.013Z"
   },
   {
    "duration": 85,
    "start_time": "2022-03-08T13:02:54.448Z"
   },
   {
    "duration": 141,
    "start_time": "2022-03-08T13:03:01.016Z"
   },
   {
    "duration": 217,
    "start_time": "2022-03-08T13:04:02.955Z"
   },
   {
    "duration": 78,
    "start_time": "2022-03-08T13:04:08.696Z"
   },
   {
    "duration": 102,
    "start_time": "2022-03-08T13:04:17.120Z"
   },
   {
    "duration": 59,
    "start_time": "2022-03-08T13:04:24.249Z"
   },
   {
    "duration": 126,
    "start_time": "2022-03-08T13:04:29.372Z"
   },
   {
    "duration": 215,
    "start_time": "2022-03-08T13:04:35.758Z"
   },
   {
    "duration": 217,
    "start_time": "2022-03-08T13:05:15.269Z"
   },
   {
    "duration": 1754,
    "start_time": "2022-03-08T13:06:03.093Z"
   },
   {
    "duration": 2875,
    "start_time": "2022-03-08T13:06:16.172Z"
   },
   {
    "duration": 3070,
    "start_time": "2022-03-08T13:06:32.507Z"
   },
   {
    "duration": 7494,
    "start_time": "2022-03-08T13:06:52.568Z"
   },
   {
    "duration": 2968,
    "start_time": "2022-03-08T13:07:11.447Z"
   },
   {
    "duration": 19,
    "start_time": "2022-03-08T13:09:06.498Z"
   },
   {
    "duration": 11,
    "start_time": "2022-03-08T13:09:11.836Z"
   },
   {
    "duration": 827,
    "start_time": "2022-03-08T13:09:14.878Z"
   },
   {
    "duration": 186,
    "start_time": "2022-03-08T13:09:31.132Z"
   },
   {
    "duration": 104,
    "start_time": "2022-03-08T13:09:46.042Z"
   },
   {
    "duration": 171,
    "start_time": "2022-03-08T13:09:52.775Z"
   },
   {
    "duration": 272,
    "start_time": "2022-03-08T13:09:59.338Z"
   },
   {
    "duration": 181,
    "start_time": "2022-03-08T13:10:10.892Z"
   },
   {
    "duration": 17352,
    "start_time": "2022-03-08T13:10:48.162Z"
   },
   {
    "duration": 3931,
    "start_time": "2022-03-08T13:11:22.828Z"
   },
   {
    "duration": 3721,
    "start_time": "2022-03-08T13:11:42.148Z"
   },
   {
    "duration": 39,
    "start_time": "2022-03-08T13:13:13.346Z"
   },
   {
    "duration": 36,
    "start_time": "2022-03-08T13:13:24.839Z"
   },
   {
    "duration": 309,
    "start_time": "2022-03-08T13:15:20.349Z"
   },
   {
    "duration": 19,
    "start_time": "2022-03-08T13:15:27.193Z"
   },
   {
    "duration": 196,
    "start_time": "2022-03-08T13:15:30.717Z"
   },
   {
    "duration": 52,
    "start_time": "2022-03-08T13:15:42.220Z"
   },
   {
    "duration": 105,
    "start_time": "2022-03-08T13:15:50.173Z"
   },
   {
    "duration": 89,
    "start_time": "2022-03-08T13:15:56.279Z"
   },
   {
    "duration": 97,
    "start_time": "2022-03-08T13:16:11.746Z"
   },
   {
    "duration": 76,
    "start_time": "2022-03-08T13:16:20.691Z"
   },
   {
    "duration": 30,
    "start_time": "2022-03-08T13:16:27.102Z"
   },
   {
    "duration": 53,
    "start_time": "2022-03-08T13:16:31.391Z"
   },
   {
    "duration": 83,
    "start_time": "2022-03-08T13:16:35.652Z"
   },
   {
    "duration": 59,
    "start_time": "2022-03-08T13:16:46.246Z"
   },
   {
    "duration": 83,
    "start_time": "2022-03-08T13:16:56.049Z"
   },
   {
    "duration": 106,
    "start_time": "2022-03-08T13:17:02.391Z"
   },
   {
    "duration": 127,
    "start_time": "2022-03-08T13:17:08.963Z"
   },
   {
    "duration": 60,
    "start_time": "2022-03-08T13:17:23.461Z"
   },
   {
    "duration": 230,
    "start_time": "2022-03-08T13:17:29.611Z"
   },
   {
    "duration": 133,
    "start_time": "2022-03-08T13:17:38.568Z"
   },
   {
    "duration": 190,
    "start_time": "2022-03-08T13:17:55.219Z"
   },
   {
    "duration": 56,
    "start_time": "2022-03-08T13:18:07.407Z"
   },
   {
    "duration": 96,
    "start_time": "2022-03-08T13:18:13.237Z"
   },
   {
    "duration": 54,
    "start_time": "2022-03-08T13:18:20.756Z"
   },
   {
    "duration": 89,
    "start_time": "2022-03-08T13:18:26.783Z"
   },
   {
    "duration": 4902,
    "start_time": "2022-03-08T13:19:27.435Z"
   },
   {
    "duration": 1144,
    "start_time": "2022-03-08T13:19:43.265Z"
   },
   {
    "duration": 2407,
    "start_time": "2022-03-08T13:19:52.469Z"
   },
   {
    "duration": 4299,
    "start_time": "2022-03-08T13:19:59.626Z"
   },
   {
    "duration": 4182,
    "start_time": "2022-03-08T13:22:25.461Z"
   },
   {
    "duration": 1688,
    "start_time": "2022-03-08T13:22:43.977Z"
   },
   {
    "duration": 2749,
    "start_time": "2022-03-08T13:22:50.019Z"
   },
   {
    "duration": 3270,
    "start_time": "2022-03-08T13:23:00.957Z"
   },
   {
    "duration": 1462,
    "start_time": "2022-03-08T13:23:10.853Z"
   },
   {
    "duration": 2588,
    "start_time": "2022-03-08T13:23:16.911Z"
   },
   {
    "duration": 2919,
    "start_time": "2022-03-08T13:23:37.368Z"
   },
   {
    "duration": 1885,
    "start_time": "2022-03-08T13:24:57.545Z"
   },
   {
    "duration": 26,
    "start_time": "2022-03-08T13:25:38.234Z"
   },
   {
    "duration": 3,
    "start_time": "2022-03-08T13:25:54.217Z"
   },
   {
    "duration": 3,
    "start_time": "2022-03-08T13:25:58.820Z"
   },
   {
    "duration": 558,
    "start_time": "2022-03-08T13:26:14.571Z"
   },
   {
    "duration": 310,
    "start_time": "2022-03-08T13:33:45.130Z"
   },
   {
    "duration": 44,
    "start_time": "2022-03-08T13:33:59.406Z"
   },
   {
    "duration": 1086,
    "start_time": "2022-03-08T13:35:05.783Z"
   },
   {
    "duration": 433,
    "start_time": "2022-03-08T13:35:32.507Z"
   },
   {
    "duration": 9,
    "start_time": "2022-03-08T13:35:56.577Z"
   },
   {
    "duration": 9,
    "start_time": "2022-03-08T13:36:06.717Z"
   },
   {
    "duration": 514,
    "start_time": "2022-03-08T13:36:12.734Z"
   },
   {
    "duration": 9,
    "start_time": "2022-03-08T13:36:32.988Z"
   },
   {
    "duration": 9,
    "start_time": "2022-03-08T13:39:01.109Z"
   },
   {
    "duration": 1093,
    "start_time": "2022-03-08T13:39:42.288Z"
   },
   {
    "duration": 8,
    "start_time": "2022-03-08T13:40:24.280Z"
   },
   {
    "duration": 8,
    "start_time": "2022-03-08T13:40:46.966Z"
   },
   {
    "duration": 478,
    "start_time": "2022-03-08T13:41:07.269Z"
   },
   {
    "duration": 8,
    "start_time": "2022-03-08T13:41:10.516Z"
   },
   {
    "duration": 1633,
    "start_time": "2022-03-08T13:41:32.428Z"
   },
   {
    "duration": 32,
    "start_time": "2022-03-08T13:41:34.063Z"
   },
   {
    "duration": 22,
    "start_time": "2022-03-08T13:41:34.098Z"
   },
   {
    "duration": 24,
    "start_time": "2022-03-08T13:41:34.123Z"
   },
   {
    "duration": 12,
    "start_time": "2022-03-08T13:41:34.174Z"
   },
   {
    "duration": 10,
    "start_time": "2022-03-08T13:41:34.188Z"
   },
   {
    "duration": 10,
    "start_time": "2022-03-08T13:41:34.200Z"
   },
   {
    "duration": 14,
    "start_time": "2022-03-08T13:41:34.214Z"
   },
   {
    "duration": 17,
    "start_time": "2022-03-08T13:41:34.231Z"
   },
   {
    "duration": 29,
    "start_time": "2022-03-08T13:41:34.250Z"
   },
   {
    "duration": 12,
    "start_time": "2022-03-08T13:41:34.282Z"
   },
   {
    "duration": 6,
    "start_time": "2022-03-08T13:41:34.297Z"
   },
   {
    "duration": 15,
    "start_time": "2022-03-08T13:41:34.306Z"
   },
   {
    "duration": 51,
    "start_time": "2022-03-08T13:41:34.324Z"
   },
   {
    "duration": 16,
    "start_time": "2022-03-08T13:41:34.378Z"
   },
   {
    "duration": 36,
    "start_time": "2022-03-08T13:41:34.397Z"
   },
   {
    "duration": 21,
    "start_time": "2022-03-08T13:41:34.436Z"
   },
   {
    "duration": 17,
    "start_time": "2022-03-08T13:41:34.460Z"
   },
   {
    "duration": 19,
    "start_time": "2022-03-08T13:41:34.479Z"
   },
   {
    "duration": 27,
    "start_time": "2022-03-08T13:41:34.500Z"
   },
   {
    "duration": 20,
    "start_time": "2022-03-08T13:41:34.529Z"
   },
   {
    "duration": 15,
    "start_time": "2022-03-08T13:41:34.573Z"
   },
   {
    "duration": 3,
    "start_time": "2022-03-08T13:41:34.597Z"
   },
   {
    "duration": 5949,
    "start_time": "2022-03-08T13:41:34.605Z"
   },
   {
    "duration": 17,
    "start_time": "2022-03-08T13:41:40.557Z"
   },
   {
    "duration": 15644,
    "start_time": "2022-03-08T13:41:40.577Z"
   },
   {
    "duration": 9,
    "start_time": "2022-03-08T13:41:56.224Z"
   },
   {
    "duration": 38,
    "start_time": "2022-03-08T13:41:56.235Z"
   },
   {
    "duration": 12,
    "start_time": "2022-03-08T13:41:56.275Z"
   },
   {
    "duration": 7,
    "start_time": "2022-03-08T13:41:56.290Z"
   },
   {
    "duration": 19,
    "start_time": "2022-03-08T13:41:56.299Z"
   },
   {
    "duration": 149,
    "start_time": "2022-03-08T13:41:56.320Z"
   },
   {
    "duration": 8,
    "start_time": "2022-03-08T13:41:56.473Z"
   },
   {
    "duration": 13,
    "start_time": "2022-03-08T13:41:56.484Z"
   },
   {
    "duration": 7,
    "start_time": "2022-03-08T13:41:56.500Z"
   },
   {
    "duration": 7,
    "start_time": "2022-03-08T13:41:56.510Z"
   },
   {
    "duration": 9,
    "start_time": "2022-03-08T13:41:56.519Z"
   },
   {
    "duration": 45,
    "start_time": "2022-03-08T13:41:56.530Z"
   },
   {
    "duration": 14,
    "start_time": "2022-03-08T13:41:56.578Z"
   },
   {
    "duration": 34,
    "start_time": "2022-03-08T13:41:56.595Z"
   },
   {
    "duration": 42,
    "start_time": "2022-03-08T13:41:56.631Z"
   },
   {
    "duration": 3,
    "start_time": "2022-03-08T13:41:56.675Z"
   },
   {
    "duration": 226,
    "start_time": "2022-03-08T13:41:56.680Z"
   },
   {
    "duration": 8048,
    "start_time": "2022-03-08T13:41:56.908Z"
   },
   {
    "duration": 115,
    "start_time": "2022-03-08T13:42:04.958Z"
   },
   {
    "duration": 354,
    "start_time": "2022-03-08T13:42:05.076Z"
   },
   {
    "duration": 226,
    "start_time": "2022-03-08T13:42:05.432Z"
   },
   {
    "duration": 2965,
    "start_time": "2022-03-08T13:42:05.661Z"
   },
   {
    "duration": 54,
    "start_time": "2022-03-08T13:42:08.629Z"
   },
   {
    "duration": 112,
    "start_time": "2022-03-08T13:42:08.773Z"
   },
   {
    "duration": 12,
    "start_time": "2022-03-08T13:42:08.888Z"
   },
   {
    "duration": 207,
    "start_time": "2022-03-08T13:42:08.902Z"
   },
   {
    "duration": 3794,
    "start_time": "2022-03-08T13:42:09.112Z"
   },
   {
    "duration": 73,
    "start_time": "2022-03-08T13:42:12.908Z"
   },
   {
    "duration": 113,
    "start_time": "2022-03-08T13:42:12.985Z"
   },
   {
    "duration": 119,
    "start_time": "2022-03-08T13:42:13.101Z"
   },
   {
    "duration": 2012,
    "start_time": "2022-03-08T13:42:13.223Z"
   },
   {
    "duration": 135,
    "start_time": "2022-03-08T13:42:15.238Z"
   },
   {
    "duration": 5,
    "start_time": "2022-03-08T13:42:15.377Z"
   },
   {
    "duration": 5,
    "start_time": "2022-03-08T13:42:15.474Z"
   },
   {
    "duration": 573,
    "start_time": "2022-03-08T13:42:15.482Z"
   },
   {
    "duration": 341,
    "start_time": "2022-03-08T13:42:16.058Z"
   },
   {
    "duration": 10,
    "start_time": "2022-03-08T13:42:16.402Z"
   },
   {
    "duration": 1322,
    "start_time": "2022-03-08T13:42:16.414Z"
   },
   {
    "duration": 8,
    "start_time": "2022-03-08T13:42:17.738Z"
   },
   {
    "duration": 494,
    "start_time": "2022-03-08T13:42:17.748Z"
   },
   {
    "duration": 8,
    "start_time": "2022-03-08T13:42:18.244Z"
   },
   {
    "duration": 9,
    "start_time": "2022-03-08T13:43:44.272Z"
   },
   {
    "duration": 4,
    "start_time": "2022-03-08T13:43:50.299Z"
   },
   {
    "duration": 3,
    "start_time": "2022-03-08T13:43:55.920Z"
   },
   {
    "duration": 9,
    "start_time": "2022-03-08T13:44:00.616Z"
   },
   {
    "duration": 4,
    "start_time": "2022-03-08T13:44:29.600Z"
   },
   {
    "duration": 3,
    "start_time": "2022-03-08T13:44:31.221Z"
   },
   {
    "duration": 3,
    "start_time": "2022-03-08T13:45:03.979Z"
   },
   {
    "duration": 3,
    "start_time": "2022-03-08T13:45:04.905Z"
   },
   {
    "duration": 296,
    "start_time": "2022-03-08T13:49:12.808Z"
   },
   {
    "duration": 294,
    "start_time": "2022-03-08T13:50:01.276Z"
   },
   {
    "duration": 8,
    "start_time": "2022-03-08T13:51:35.133Z"
   },
   {
    "duration": 358,
    "start_time": "2022-03-08T14:08:21.685Z"
   },
   {
    "duration": 1641,
    "start_time": "2022-03-08T14:09:49.039Z"
   },
   {
    "duration": 33,
    "start_time": "2022-03-08T14:09:50.683Z"
   },
   {
    "duration": 25,
    "start_time": "2022-03-08T14:09:50.719Z"
   },
   {
    "duration": 19,
    "start_time": "2022-03-08T14:09:50.773Z"
   },
   {
    "duration": 24,
    "start_time": "2022-03-08T14:09:50.795Z"
   },
   {
    "duration": 16,
    "start_time": "2022-03-08T14:09:50.822Z"
   },
   {
    "duration": 38,
    "start_time": "2022-03-08T14:09:50.840Z"
   },
   {
    "duration": 15,
    "start_time": "2022-03-08T14:09:50.881Z"
   },
   {
    "duration": 6,
    "start_time": "2022-03-08T14:09:50.901Z"
   },
   {
    "duration": 11,
    "start_time": "2022-03-08T14:09:50.911Z"
   },
   {
    "duration": 18,
    "start_time": "2022-03-08T14:09:50.925Z"
   },
   {
    "duration": 28,
    "start_time": "2022-03-08T14:09:50.946Z"
   },
   {
    "duration": 23,
    "start_time": "2022-03-08T14:09:50.977Z"
   },
   {
    "duration": 21,
    "start_time": "2022-03-08T14:09:51.003Z"
   },
   {
    "duration": 14,
    "start_time": "2022-03-08T14:09:51.027Z"
   },
   {
    "duration": 31,
    "start_time": "2022-03-08T14:09:51.043Z"
   },
   {
    "duration": 18,
    "start_time": "2022-03-08T14:09:51.077Z"
   },
   {
    "duration": 6,
    "start_time": "2022-03-08T14:09:51.098Z"
   },
   {
    "duration": 10,
    "start_time": "2022-03-08T14:09:51.106Z"
   },
   {
    "duration": 59,
    "start_time": "2022-03-08T14:09:51.118Z"
   },
   {
    "duration": 24,
    "start_time": "2022-03-08T14:09:51.179Z"
   },
   {
    "duration": 14,
    "start_time": "2022-03-08T14:09:51.206Z"
   },
   {
    "duration": 4,
    "start_time": "2022-03-08T14:09:51.223Z"
   },
   {
    "duration": 5832,
    "start_time": "2022-03-08T14:09:51.229Z"
   },
   {
    "duration": 10,
    "start_time": "2022-03-08T14:09:57.063Z"
   },
   {
    "duration": 14631,
    "start_time": "2022-03-08T14:09:57.076Z"
   },
   {
    "duration": 10,
    "start_time": "2022-03-08T14:10:11.714Z"
   },
   {
    "duration": 44,
    "start_time": "2022-03-08T14:10:11.729Z"
   },
   {
    "duration": 13,
    "start_time": "2022-03-08T14:10:11.776Z"
   },
   {
    "duration": 6,
    "start_time": "2022-03-08T14:10:11.791Z"
   },
   {
    "duration": 19,
    "start_time": "2022-03-08T14:10:11.799Z"
   },
   {
    "duration": 55,
    "start_time": "2022-03-08T14:10:11.821Z"
   },
   {
    "duration": 10,
    "start_time": "2022-03-08T14:10:11.878Z"
   },
   {
    "duration": 130,
    "start_time": "2022-03-08T14:10:11.890Z"
   },
   {
    "duration": 8,
    "start_time": "2022-03-08T14:10:12.023Z"
   },
   {
    "duration": 9,
    "start_time": "2022-03-08T14:10:12.033Z"
   },
   {
    "duration": 28,
    "start_time": "2022-03-08T14:10:12.045Z"
   },
   {
    "duration": 5,
    "start_time": "2022-03-08T14:10:12.075Z"
   },
   {
    "duration": 22,
    "start_time": "2022-03-08T14:10:12.082Z"
   },
   {
    "duration": 38,
    "start_time": "2022-03-08T14:10:12.107Z"
   },
   {
    "duration": 27,
    "start_time": "2022-03-08T14:10:12.148Z"
   },
   {
    "duration": 3,
    "start_time": "2022-03-08T14:10:12.177Z"
   },
   {
    "duration": 239,
    "start_time": "2022-03-08T14:10:12.183Z"
   },
   {
    "duration": 8103,
    "start_time": "2022-03-08T14:10:12.425Z"
   },
   {
    "duration": 53,
    "start_time": "2022-03-08T14:10:20.530Z"
   },
   {
    "duration": 437,
    "start_time": "2022-03-08T14:10:20.587Z"
   },
   {
    "duration": 237,
    "start_time": "2022-03-08T14:10:21.027Z"
   },
   {
    "duration": 3067,
    "start_time": "2022-03-08T14:10:21.274Z"
   },
   {
    "duration": 131,
    "start_time": "2022-03-08T14:10:24.343Z"
   },
   {
    "duration": 108,
    "start_time": "2022-03-08T14:10:24.478Z"
   },
   {
    "duration": 9,
    "start_time": "2022-03-08T14:10:24.589Z"
   },
   {
    "duration": 202,
    "start_time": "2022-03-08T14:10:24.600Z"
   },
   {
    "duration": 3934,
    "start_time": "2022-03-08T14:10:24.805Z"
   },
   {
    "duration": 51,
    "start_time": "2022-03-08T14:10:28.741Z"
   },
   {
    "duration": 111,
    "start_time": "2022-03-08T14:10:28.875Z"
   },
   {
    "duration": 110,
    "start_time": "2022-03-08T14:10:28.988Z"
   },
   {
    "duration": 1808,
    "start_time": "2022-03-08T14:10:29.101Z"
   },
   {
    "duration": 82,
    "start_time": "2022-03-08T14:10:30.911Z"
   },
   {
    "duration": 3,
    "start_time": "2022-03-08T14:10:31.078Z"
   },
   {
    "duration": 16,
    "start_time": "2022-03-08T14:10:31.084Z"
   },
   {
    "duration": 387,
    "start_time": "2022-03-08T14:10:31.103Z"
   },
   {
    "duration": 5,
    "start_time": "2022-03-08T14:10:31.493Z"
   },
   {
    "duration": 16,
    "start_time": "2022-03-08T14:10:31.502Z"
   },
   {
    "duration": 6,
    "start_time": "2022-03-08T14:10:31.521Z"
   },
   {
    "duration": 7,
    "start_time": "2022-03-08T14:10:31.530Z"
   },
   {
    "duration": 8,
    "start_time": "2022-03-08T14:10:31.540Z"
   },
   {
    "duration": 4,
    "start_time": "2022-03-08T14:10:31.575Z"
   },
   {
    "duration": 459,
    "start_time": "2022-03-08T14:10:31.582Z"
   },
   {
    "duration": -536,
    "start_time": "2022-03-08T14:10:32.579Z"
   },
   {
    "duration": 310,
    "start_time": "2022-03-08T14:12:07.647Z"
   },
   {
    "duration": 9,
    "start_time": "2022-03-08T14:12:13.167Z"
   },
   {
    "duration": 1668,
    "start_time": "2022-03-08T19:17:16.081Z"
   },
   {
    "duration": 35,
    "start_time": "2022-03-08T19:17:17.752Z"
   },
   {
    "duration": 23,
    "start_time": "2022-03-08T19:17:17.790Z"
   },
   {
    "duration": 25,
    "start_time": "2022-03-08T19:17:17.816Z"
   },
   {
    "duration": 43,
    "start_time": "2022-03-08T19:17:17.844Z"
   },
   {
    "duration": 12,
    "start_time": "2022-03-08T19:17:17.890Z"
   },
   {
    "duration": 10,
    "start_time": "2022-03-08T19:17:17.905Z"
   },
   {
    "duration": 5,
    "start_time": "2022-03-08T19:17:17.920Z"
   },
   {
    "duration": 6,
    "start_time": "2022-03-08T19:17:17.929Z"
   },
   {
    "duration": 49,
    "start_time": "2022-03-08T19:17:17.937Z"
   },
   {
    "duration": 9,
    "start_time": "2022-03-08T19:17:17.989Z"
   },
   {
    "duration": 4,
    "start_time": "2022-03-08T19:17:18.000Z"
   },
   {
    "duration": 12,
    "start_time": "2022-03-08T19:17:18.006Z"
   },
   {
    "duration": 12,
    "start_time": "2022-03-08T19:17:18.020Z"
   },
   {
    "duration": 10,
    "start_time": "2022-03-08T19:17:18.035Z"
   },
   {
    "duration": 52,
    "start_time": "2022-03-08T19:17:18.047Z"
   },
   {
    "duration": 21,
    "start_time": "2022-03-08T19:17:18.103Z"
   },
   {
    "duration": 6,
    "start_time": "2022-03-08T19:17:18.126Z"
   },
   {
    "duration": 9,
    "start_time": "2022-03-08T19:17:18.135Z"
   },
   {
    "duration": 50,
    "start_time": "2022-03-08T19:17:18.146Z"
   },
   {
    "duration": 22,
    "start_time": "2022-03-08T19:17:18.198Z"
   },
   {
    "duration": 22,
    "start_time": "2022-03-08T19:17:18.223Z"
   },
   {
    "duration": 3,
    "start_time": "2022-03-08T19:17:18.251Z"
   },
   {
    "duration": 7431,
    "start_time": "2022-03-08T19:17:18.257Z"
   },
   {
    "duration": 7,
    "start_time": "2022-03-08T19:17:25.691Z"
   },
   {
    "duration": 14075,
    "start_time": "2022-03-08T19:17:25.700Z"
   },
   {
    "duration": 12,
    "start_time": "2022-03-08T19:17:39.777Z"
   },
   {
    "duration": 11,
    "start_time": "2022-03-08T19:17:39.791Z"
   },
   {
    "duration": 10,
    "start_time": "2022-03-08T19:17:39.805Z"
   },
   {
    "duration": 5,
    "start_time": "2022-03-08T19:17:39.818Z"
   },
   {
    "duration": 70,
    "start_time": "2022-03-08T19:17:39.825Z"
   },
   {
    "duration": 109,
    "start_time": "2022-03-08T19:17:39.897Z"
   },
   {
    "duration": 7,
    "start_time": "2022-03-08T19:17:40.008Z"
   },
   {
    "duration": 17,
    "start_time": "2022-03-08T19:17:40.017Z"
   },
   {
    "duration": 7,
    "start_time": "2022-03-08T19:17:40.036Z"
   },
   {
    "duration": 12,
    "start_time": "2022-03-08T19:17:40.046Z"
   },
   {
    "duration": 32,
    "start_time": "2022-03-08T19:17:40.060Z"
   },
   {
    "duration": 10,
    "start_time": "2022-03-08T19:17:40.094Z"
   },
   {
    "duration": 15,
    "start_time": "2022-03-08T19:17:40.106Z"
   },
   {
    "duration": 36,
    "start_time": "2022-03-08T19:17:40.124Z"
   },
   {
    "duration": 10,
    "start_time": "2022-03-08T19:17:40.186Z"
   },
   {
    "duration": 3,
    "start_time": "2022-03-08T19:17:40.198Z"
   },
   {
    "duration": 234,
    "start_time": "2022-03-08T19:17:40.203Z"
   },
   {
    "duration": 10184,
    "start_time": "2022-03-08T19:17:40.439Z"
   },
   {
    "duration": 61,
    "start_time": "2022-03-08T19:17:50.626Z"
   },
   {
    "duration": 453,
    "start_time": "2022-03-08T19:17:50.690Z"
   },
   {
    "duration": 232,
    "start_time": "2022-03-08T19:17:51.145Z"
   },
   {
    "duration": 2995,
    "start_time": "2022-03-08T19:17:51.387Z"
   },
   {
    "duration": 102,
    "start_time": "2022-03-08T19:17:54.386Z"
   },
   {
    "duration": 110,
    "start_time": "2022-03-08T19:17:54.493Z"
   },
   {
    "duration": 10,
    "start_time": "2022-03-08T19:17:54.606Z"
   },
   {
    "duration": 193,
    "start_time": "2022-03-08T19:17:54.618Z"
   },
   {
    "duration": 3838,
    "start_time": "2022-03-08T19:17:54.813Z"
   },
   {
    "duration": 46,
    "start_time": "2022-03-08T19:17:58.654Z"
   },
   {
    "duration": 199,
    "start_time": "2022-03-08T19:17:58.704Z"
   },
   {
    "duration": 107,
    "start_time": "2022-03-08T19:17:58.906Z"
   },
   {
    "duration": 1717,
    "start_time": "2022-03-08T19:17:59.016Z"
   },
   {
    "duration": 60,
    "start_time": "2022-03-08T19:18:00.736Z"
   },
   {
    "duration": 88,
    "start_time": "2022-03-08T19:18:00.800Z"
   },
   {
    "duration": 24,
    "start_time": "2022-03-08T19:18:00.891Z"
   },
   {
    "duration": 399,
    "start_time": "2022-03-08T19:18:00.918Z"
   },
   {
    "duration": 3,
    "start_time": "2022-03-08T19:18:01.320Z"
   },
   {
    "duration": 31,
    "start_time": "2022-03-08T19:18:01.326Z"
   },
   {
    "duration": 20,
    "start_time": "2022-03-08T19:18:01.360Z"
   },
   {
    "duration": 21,
    "start_time": "2022-03-08T19:18:01.383Z"
   },
   {
    "duration": 18,
    "start_time": "2022-03-08T19:18:01.406Z"
   },
   {
    "duration": 28,
    "start_time": "2022-03-08T19:18:01.427Z"
   },
   {
    "duration": 301,
    "start_time": "2022-03-08T19:18:01.462Z"
   },
   {
    "duration": 22,
    "start_time": "2022-03-08T19:18:01.765Z"
   },
   {
    "duration": 275,
    "start_time": "2022-03-08T19:36:24.529Z"
   },
   {
    "duration": 1578,
    "start_time": "2022-03-08T19:55:21.275Z"
   },
   {
    "duration": 34,
    "start_time": "2022-03-08T19:55:22.856Z"
   },
   {
    "duration": 23,
    "start_time": "2022-03-08T19:55:22.893Z"
   },
   {
    "duration": 20,
    "start_time": "2022-03-08T19:55:22.918Z"
   },
   {
    "duration": 13,
    "start_time": "2022-03-08T19:55:22.940Z"
   },
   {
    "duration": 9,
    "start_time": "2022-03-08T19:55:22.988Z"
   },
   {
    "duration": 7,
    "start_time": "2022-03-08T19:55:23.000Z"
   },
   {
    "duration": 4,
    "start_time": "2022-03-08T19:55:23.011Z"
   },
   {
    "duration": 6,
    "start_time": "2022-03-08T19:55:23.018Z"
   },
   {
    "duration": 7,
    "start_time": "2022-03-08T19:55:23.026Z"
   },
   {
    "duration": 54,
    "start_time": "2022-03-08T19:55:23.035Z"
   },
   {
    "duration": 5,
    "start_time": "2022-03-08T19:55:23.092Z"
   },
   {
    "duration": 11,
    "start_time": "2022-03-08T19:55:23.099Z"
   },
   {
    "duration": 12,
    "start_time": "2022-03-08T19:55:23.112Z"
   },
   {
    "duration": 10,
    "start_time": "2022-03-08T19:55:23.127Z"
   },
   {
    "duration": 55,
    "start_time": "2022-03-08T19:55:23.139Z"
   },
   {
    "duration": 21,
    "start_time": "2022-03-08T19:55:23.197Z"
   },
   {
    "duration": 7,
    "start_time": "2022-03-08T19:55:23.220Z"
   },
   {
    "duration": 12,
    "start_time": "2022-03-08T19:55:23.229Z"
   },
   {
    "duration": 50,
    "start_time": "2022-03-08T19:55:23.243Z"
   },
   {
    "duration": 22,
    "start_time": "2022-03-08T19:55:23.295Z"
   },
   {
    "duration": 11,
    "start_time": "2022-03-08T19:55:23.320Z"
   },
   {
    "duration": 3,
    "start_time": "2022-03-08T19:55:23.337Z"
   },
   {
    "duration": 5994,
    "start_time": "2022-03-08T19:55:23.343Z"
   },
   {
    "duration": 5,
    "start_time": "2022-03-08T19:55:29.339Z"
   },
   {
    "duration": 13965,
    "start_time": "2022-03-08T19:55:29.346Z"
   },
   {
    "duration": 13,
    "start_time": "2022-03-08T19:55:43.313Z"
   },
   {
    "duration": 14,
    "start_time": "2022-03-08T19:55:43.328Z"
   },
   {
    "duration": 48,
    "start_time": "2022-03-08T19:55:43.344Z"
   },
   {
    "duration": 7,
    "start_time": "2022-03-08T19:55:43.395Z"
   },
   {
    "duration": 23,
    "start_time": "2022-03-08T19:55:43.405Z"
   },
   {
    "duration": 126,
    "start_time": "2022-03-08T19:55:43.431Z"
   },
   {
    "duration": 9,
    "start_time": "2022-03-08T19:55:43.560Z"
   },
   {
    "duration": 28,
    "start_time": "2022-03-08T19:55:43.571Z"
   },
   {
    "duration": 10,
    "start_time": "2022-03-08T19:55:43.601Z"
   },
   {
    "duration": 10,
    "start_time": "2022-03-08T19:55:43.613Z"
   },
   {
    "duration": 7,
    "start_time": "2022-03-08T19:55:43.625Z"
   },
   {
    "duration": 8,
    "start_time": "2022-03-08T19:55:43.635Z"
   },
   {
    "duration": 49,
    "start_time": "2022-03-08T19:55:43.646Z"
   },
   {
    "duration": 32,
    "start_time": "2022-03-08T19:55:43.698Z"
   },
   {
    "duration": 9,
    "start_time": "2022-03-08T19:55:43.732Z"
   },
   {
    "duration": 3,
    "start_time": "2022-03-08T19:55:43.744Z"
   },
   {
    "duration": 259,
    "start_time": "2022-03-08T19:55:43.750Z"
   },
   {
    "duration": 7650,
    "start_time": "2022-03-08T19:55:44.012Z"
   },
   {
    "duration": 122,
    "start_time": "2022-03-08T19:55:51.664Z"
   },
   {
    "duration": 330,
    "start_time": "2022-03-08T19:55:51.789Z"
   },
   {
    "duration": 219,
    "start_time": "2022-03-08T19:55:52.122Z"
   },
   {
    "duration": 2897,
    "start_time": "2022-03-08T19:55:52.343Z"
   },
   {
    "duration": 147,
    "start_time": "2022-03-08T19:55:55.242Z"
   },
   {
    "duration": 108,
    "start_time": "2022-03-08T19:55:55.393Z"
   },
   {
    "duration": 9,
    "start_time": "2022-03-08T19:55:55.503Z"
   },
   {
    "duration": 205,
    "start_time": "2022-03-08T19:55:55.515Z"
   },
   {
    "duration": 3945,
    "start_time": "2022-03-08T19:55:55.722Z"
   },
   {
    "duration": 118,
    "start_time": "2022-03-08T19:55:59.669Z"
   },
   {
    "duration": 107,
    "start_time": "2022-03-08T19:55:59.791Z"
   },
   {
    "duration": 113,
    "start_time": "2022-03-08T19:55:59.901Z"
   },
   {
    "duration": 1776,
    "start_time": "2022-03-08T19:56:00.018Z"
   },
   {
    "duration": 91,
    "start_time": "2022-03-08T19:56:01.797Z"
   },
   {
    "duration": 5,
    "start_time": "2022-03-08T19:56:01.891Z"
   },
   {
    "duration": 23,
    "start_time": "2022-03-08T19:56:01.988Z"
   },
   {
    "duration": 398,
    "start_time": "2022-03-08T19:56:02.013Z"
   },
   {
    "duration": 4,
    "start_time": "2022-03-08T19:56:02.413Z"
   },
   {
    "duration": 51,
    "start_time": "2022-03-08T19:56:02.419Z"
   },
   {
    "duration": 22,
    "start_time": "2022-03-08T19:56:02.473Z"
   },
   {
    "duration": 19,
    "start_time": "2022-03-08T19:56:02.497Z"
   },
   {
    "duration": 7,
    "start_time": "2022-03-08T19:56:02.518Z"
   },
   {
    "duration": 39,
    "start_time": "2022-03-08T19:56:02.527Z"
   },
   {
    "duration": 295,
    "start_time": "2022-03-08T19:56:02.573Z"
   },
   {
    "duration": 16,
    "start_time": "2022-03-08T19:56:02.871Z"
   },
   {
    "duration": 285,
    "start_time": "2022-03-08T20:11:40.595Z"
   },
   {
    "duration": 1316,
    "start_time": "2022-03-08T20:11:58.902Z"
   },
   {
    "duration": 41,
    "start_time": "2022-03-08T20:12:00.220Z"
   },
   {
    "duration": 18,
    "start_time": "2022-03-08T20:12:00.263Z"
   },
   {
    "duration": 13,
    "start_time": "2022-03-08T20:12:00.283Z"
   },
   {
    "duration": 14,
    "start_time": "2022-03-08T20:12:00.298Z"
   },
   {
    "duration": 13,
    "start_time": "2022-03-08T20:12:00.314Z"
   },
   {
    "duration": 10,
    "start_time": "2022-03-08T20:12:00.329Z"
   },
   {
    "duration": 5,
    "start_time": "2022-03-08T20:12:00.341Z"
   },
   {
    "duration": 29,
    "start_time": "2022-03-08T20:12:00.348Z"
   },
   {
    "duration": 8,
    "start_time": "2022-03-08T20:12:00.379Z"
   },
   {
    "duration": 13,
    "start_time": "2022-03-08T20:12:00.389Z"
   },
   {
    "duration": 4,
    "start_time": "2022-03-08T20:12:00.404Z"
   },
   {
    "duration": 18,
    "start_time": "2022-03-08T20:12:00.410Z"
   },
   {
    "duration": 12,
    "start_time": "2022-03-08T20:12:00.430Z"
   },
   {
    "duration": 16,
    "start_time": "2022-03-08T20:12:00.444Z"
   },
   {
    "duration": 24,
    "start_time": "2022-03-08T20:12:00.461Z"
   },
   {
    "duration": 18,
    "start_time": "2022-03-08T20:12:00.487Z"
   },
   {
    "duration": 7,
    "start_time": "2022-03-08T20:12:00.507Z"
   },
   {
    "duration": 18,
    "start_time": "2022-03-08T20:12:00.516Z"
   },
   {
    "duration": 22,
    "start_time": "2022-03-08T20:12:00.536Z"
   },
   {
    "duration": 32,
    "start_time": "2022-03-08T20:12:00.560Z"
   },
   {
    "duration": 19,
    "start_time": "2022-03-08T20:12:00.594Z"
   },
   {
    "duration": 5,
    "start_time": "2022-03-08T20:12:00.618Z"
   },
   {
    "duration": 4037,
    "start_time": "2022-03-08T20:12:00.626Z"
   },
   {
    "duration": 5,
    "start_time": "2022-03-08T20:12:04.665Z"
   },
   {
    "duration": 10258,
    "start_time": "2022-03-08T20:12:04.672Z"
   },
   {
    "duration": 7,
    "start_time": "2022-03-08T20:12:14.932Z"
   },
   {
    "duration": 11,
    "start_time": "2022-03-08T20:12:14.941Z"
   },
   {
    "duration": 26,
    "start_time": "2022-03-08T20:12:14.954Z"
   },
   {
    "duration": 4,
    "start_time": "2022-03-08T20:12:14.982Z"
   },
   {
    "duration": 13,
    "start_time": "2022-03-08T20:12:14.988Z"
   },
   {
    "duration": 118,
    "start_time": "2022-03-08T20:12:15.004Z"
   },
   {
    "duration": 7,
    "start_time": "2022-03-08T20:12:15.124Z"
   },
   {
    "duration": 24,
    "start_time": "2022-03-08T20:12:15.133Z"
   },
   {
    "duration": 17,
    "start_time": "2022-03-08T20:12:15.159Z"
   },
   {
    "duration": 28,
    "start_time": "2022-03-08T20:12:15.178Z"
   },
   {
    "duration": 20,
    "start_time": "2022-03-08T20:12:15.208Z"
   },
   {
    "duration": 27,
    "start_time": "2022-03-08T20:12:15.230Z"
   },
   {
    "duration": 33,
    "start_time": "2022-03-08T20:12:15.259Z"
   },
   {
    "duration": 38,
    "start_time": "2022-03-08T20:12:15.293Z"
   },
   {
    "duration": 7,
    "start_time": "2022-03-08T20:12:15.333Z"
   },
   {
    "duration": 20,
    "start_time": "2022-03-08T20:12:15.342Z"
   },
   {
    "duration": 161,
    "start_time": "2022-03-08T20:12:15.364Z"
   },
   {
    "duration": 5313,
    "start_time": "2022-03-08T20:12:15.527Z"
   },
   {
    "duration": 39,
    "start_time": "2022-03-08T20:12:20.842Z"
   },
   {
    "duration": 325,
    "start_time": "2022-03-08T20:12:20.885Z"
   },
   {
    "duration": 171,
    "start_time": "2022-03-08T20:12:21.212Z"
   },
   {
    "duration": 2051,
    "start_time": "2022-03-08T20:12:21.385Z"
   },
   {
    "duration": 24,
    "start_time": "2022-03-08T20:12:23.438Z"
   },
   {
    "duration": 104,
    "start_time": "2022-03-08T20:12:23.476Z"
   },
   {
    "duration": 9,
    "start_time": "2022-03-08T20:12:23.582Z"
   },
   {
    "duration": 203,
    "start_time": "2022-03-08T20:12:23.593Z"
   },
   {
    "duration": 2617,
    "start_time": "2022-03-08T20:12:23.798Z"
   },
   {
    "duration": 65,
    "start_time": "2022-03-08T20:12:26.417Z"
   },
   {
    "duration": 103,
    "start_time": "2022-03-08T20:12:26.484Z"
   },
   {
    "duration": 104,
    "start_time": "2022-03-08T20:12:26.589Z"
   },
   {
    "duration": 1193,
    "start_time": "2022-03-08T20:12:26.695Z"
   },
   {
    "duration": 17,
    "start_time": "2022-03-08T20:12:27.891Z"
   },
   {
    "duration": 4,
    "start_time": "2022-03-08T20:12:27.979Z"
   },
   {
    "duration": 97,
    "start_time": "2022-03-08T20:12:27.986Z"
   },
   {
    "duration": 272,
    "start_time": "2022-03-08T20:12:28.085Z"
   },
   {
    "duration": 3,
    "start_time": "2022-03-08T20:12:28.359Z"
   },
   {
    "duration": 13,
    "start_time": "2022-03-08T20:12:28.364Z"
   },
   {
    "duration": 5,
    "start_time": "2022-03-08T20:12:28.379Z"
   },
   {
    "duration": 7,
    "start_time": "2022-03-08T20:12:28.386Z"
   },
   {
    "duration": 7,
    "start_time": "2022-03-08T20:12:28.395Z"
   },
   {
    "duration": 6,
    "start_time": "2022-03-08T20:12:28.403Z"
   },
   {
    "duration": 225,
    "start_time": "2022-03-08T20:12:28.414Z"
   },
   {
    "duration": 6,
    "start_time": "2022-03-08T20:12:28.641Z"
   },
   {
    "duration": 1125,
    "start_time": "2022-03-09T10:27:29.194Z"
   },
   {
    "duration": 27,
    "start_time": "2022-03-09T10:27:30.321Z"
   },
   {
    "duration": 14,
    "start_time": "2022-03-09T10:27:30.350Z"
   },
   {
    "duration": 15,
    "start_time": "2022-03-09T10:27:30.366Z"
   },
   {
    "duration": 17,
    "start_time": "2022-03-09T10:27:30.383Z"
   },
   {
    "duration": 11,
    "start_time": "2022-03-09T10:27:30.401Z"
   },
   {
    "duration": 31,
    "start_time": "2022-03-09T10:27:30.414Z"
   },
   {
    "duration": 6,
    "start_time": "2022-03-09T10:27:30.447Z"
   },
   {
    "duration": 24,
    "start_time": "2022-03-09T10:27:30.455Z"
   },
   {
    "duration": 10,
    "start_time": "2022-03-09T10:27:30.481Z"
   },
   {
    "duration": 29,
    "start_time": "2022-03-09T10:27:30.492Z"
   },
   {
    "duration": 10,
    "start_time": "2022-03-09T10:27:30.523Z"
   },
   {
    "duration": 20,
    "start_time": "2022-03-09T10:27:30.534Z"
   },
   {
    "duration": 17,
    "start_time": "2022-03-09T10:27:30.556Z"
   },
   {
    "duration": 30,
    "start_time": "2022-03-09T10:27:30.575Z"
   },
   {
    "duration": 18,
    "start_time": "2022-03-09T10:27:30.607Z"
   },
   {
    "duration": 28,
    "start_time": "2022-03-09T10:27:30.627Z"
   },
   {
    "duration": 4,
    "start_time": "2022-03-09T10:27:30.657Z"
   },
   {
    "duration": 33,
    "start_time": "2022-03-09T10:27:30.663Z"
   },
   {
    "duration": 22,
    "start_time": "2022-03-09T10:27:30.698Z"
   },
   {
    "duration": 18,
    "start_time": "2022-03-09T10:27:30.722Z"
   },
   {
    "duration": 10,
    "start_time": "2022-03-09T10:27:30.741Z"
   },
   {
    "duration": 7,
    "start_time": "2022-03-09T10:27:30.755Z"
   },
   {
    "duration": 3388,
    "start_time": "2022-03-09T10:27:30.765Z"
   },
   {
    "duration": 4,
    "start_time": "2022-03-09T10:27:34.154Z"
   },
   {
    "duration": 8117,
    "start_time": "2022-03-09T10:27:34.160Z"
   },
   {
    "duration": 7,
    "start_time": "2022-03-09T10:27:42.279Z"
   },
   {
    "duration": 12,
    "start_time": "2022-03-09T10:27:42.287Z"
   },
   {
    "duration": 8,
    "start_time": "2022-03-09T10:27:42.301Z"
   },
   {
    "duration": 23,
    "start_time": "2022-03-09T10:27:42.311Z"
   },
   {
    "duration": 10,
    "start_time": "2022-03-09T10:27:42.335Z"
   },
   {
    "duration": 97,
    "start_time": "2022-03-09T10:27:42.346Z"
   },
   {
    "duration": 4,
    "start_time": "2022-03-09T10:27:42.445Z"
   },
   {
    "duration": 9,
    "start_time": "2022-03-09T10:27:42.451Z"
   },
   {
    "duration": 4,
    "start_time": "2022-03-09T10:27:42.462Z"
   },
   {
    "duration": 6,
    "start_time": "2022-03-09T10:27:42.468Z"
   },
   {
    "duration": 5,
    "start_time": "2022-03-09T10:27:42.476Z"
   },
   {
    "duration": 7,
    "start_time": "2022-03-09T10:27:42.482Z"
   },
   {
    "duration": 13,
    "start_time": "2022-03-09T10:27:42.490Z"
   },
   {
    "duration": 46,
    "start_time": "2022-03-09T10:27:42.504Z"
   },
   {
    "duration": 7,
    "start_time": "2022-03-09T10:27:42.551Z"
   },
   {
    "duration": 15,
    "start_time": "2022-03-09T10:27:42.559Z"
   },
   {
    "duration": 142,
    "start_time": "2022-03-09T10:27:42.575Z"
   },
   {
    "duration": 4686,
    "start_time": "2022-03-09T10:27:42.718Z"
   },
   {
    "duration": 128,
    "start_time": "2022-03-09T10:27:47.405Z"
   },
   {
    "duration": 258,
    "start_time": "2022-03-09T10:27:47.536Z"
   },
   {
    "duration": 163,
    "start_time": "2022-03-09T10:27:47.796Z"
   },
   {
    "duration": 1825,
    "start_time": "2022-03-09T10:27:47.961Z"
   },
   {
    "duration": 51,
    "start_time": "2022-03-09T10:27:49.788Z"
   },
   {
    "duration": 102,
    "start_time": "2022-03-09T10:27:49.841Z"
   },
   {
    "duration": 8,
    "start_time": "2022-03-09T10:27:49.945Z"
   },
   {
    "duration": 140,
    "start_time": "2022-03-09T10:27:49.955Z"
   },
   {
    "duration": 2428,
    "start_time": "2022-03-09T10:27:50.097Z"
   },
   {
    "duration": 32,
    "start_time": "2022-03-09T10:27:52.527Z"
   },
   {
    "duration": 105,
    "start_time": "2022-03-09T10:27:52.634Z"
   },
   {
    "duration": 60,
    "start_time": "2022-03-09T10:27:52.741Z"
   },
   {
    "duration": 1117,
    "start_time": "2022-03-09T10:27:52.802Z"
   },
   {
    "duration": 17,
    "start_time": "2022-03-09T10:27:53.920Z"
   },
   {
    "duration": 3,
    "start_time": "2022-03-09T10:27:53.939Z"
   },
   {
    "duration": 190,
    "start_time": "2022-03-09T10:27:53.944Z"
   },
   {
    "duration": 238,
    "start_time": "2022-03-09T10:27:54.135Z"
   },
   {
    "duration": 2,
    "start_time": "2022-03-09T10:27:54.375Z"
   },
   {
    "duration": 8,
    "start_time": "2022-03-09T10:27:54.379Z"
   },
   {
    "duration": 6,
    "start_time": "2022-03-09T10:27:54.388Z"
   },
   {
    "duration": 8,
    "start_time": "2022-03-09T10:27:54.395Z"
   },
   {
    "duration": 6,
    "start_time": "2022-03-09T10:27:54.405Z"
   },
   {
    "duration": 8,
    "start_time": "2022-03-09T10:27:54.413Z"
   },
   {
    "duration": 181,
    "start_time": "2022-03-09T10:27:54.436Z"
   },
   {
    "duration": 6,
    "start_time": "2022-03-09T10:27:54.619Z"
   }
  ],
  "kernelspec": {
   "display_name": "Python 3",
   "language": "python",
   "name": "python3"
  },
  "language_info": {
   "codemirror_mode": {
    "name": "ipython",
    "version": 3
   },
   "file_extension": ".py",
   "mimetype": "text/x-python",
   "name": "python",
   "nbconvert_exporter": "python",
   "pygments_lexer": "ipython3",
   "version": "3.8.5"
  },
  "toc": {
   "base_numbering": 1,
   "nav_menu": {},
   "number_sections": true,
   "sideBar": true,
   "skip_h1_title": true,
   "title_cell": "Содержание",
   "title_sidebar": "Contents",
   "toc_cell": true,
   "toc_position": {
    "height": "calc(100% - 180px)",
    "left": "10px",
    "top": "150px",
    "width": "165px"
   },
   "toc_section_display": true,
   "toc_window_display": true
  }
 },
 "nbformat": 4,
 "nbformat_minor": 2
}
